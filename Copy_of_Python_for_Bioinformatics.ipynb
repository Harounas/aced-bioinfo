{
  "cells": [
    {
      "cell_type": "markdown",
      "metadata": {
        "id": "view-in-github",
        "colab_type": "text"
      },
      "source": [
        "<a href=\"https://colab.research.google.com/github/Harounas/aced-bioinfo/blob/main/Copy_of_Python_for_Bioinformatics.ipynb\" target=\"_parent\"><img src=\"https://colab.research.google.com/assets/colab-badge.svg\" alt=\"Open In Colab\"/></a>"
      ]
    },
    {
      "cell_type": "markdown",
      "source": [
        "#Python for bioinformatics"
      ],
      "metadata": {
        "id": "px6GGsxDaI-s"
      }
    },
    {
      "cell_type": "markdown",
      "source": [
        "##Introduction to python programming language"
      ],
      "metadata": {
        "id": "CQZIVpipaRkh"
      }
    },
    {
      "cell_type": "markdown",
      "metadata": {
        "id": "Kht0pKFSTzM6"
      },
      "source": [
        "**Python** is a popular programming language in the field of bioinformatics due to its versatility, readability, and extensive libraries for scientific computing and data analysis. It offers a wide range of tools and packages that are invaluable for various bioinformatics tasks, such as sequence analysis, data manipulation, statistical analysis, visualization, and more."
      ]
    },
    {
      "cell_type": "markdown",
      "metadata": {
        "id": "XIXBiy77UVgS"
      },
      "source": [
        "Here are some key ways Python is used in bioinformatics:\n",
        "\n",
        "\n",
        "* **Sequence Analysis**: Python provides libraries like **Biopython** that enable researchers to manipulate and analyze biological sequences (DNA, RNA, protein). You can perform tasks such as sequence alignment, motif discovery, translation, transcription, and more.\n",
        "* **Data Manipulation**: **Python's** built-in libraries (e.g., csv, json) and third-party packages (e.g., pandas) facilitate data manipulation, transformation, and cleaning. These capabilities are crucial for handling diverse biological datasets.     \n",
        "* **Database Interaction**: **Python** can interact with biological databases through libraries like Biopython or by making API requests. This allows you to retrieve sequence information, annotations, and other data from public repositories like NCBI.\n",
        "\n",
        "*   **Statistical Analysis**: Packages like **numpy** and **scipy** provide tools for statistical analysis and hypothesis testing, helping bioinformaticians draw meaningful insights from their data.\n",
        "\n",
        "*   **Visualization**: Python libraries such as matplotlib and seaborn enable the creation of informative visualizations, ranging from basic plots to complex data representations.\n",
        "\n",
        "*  **Machine Learning and Data Mining**: **Python**'s machine learning libraries (e.g., **scikit-learn**, **TensorFlow**, **PyTorch**) can be applied to bioinformatics tasks such as classification, clustering, and feature selection.\n",
        "\n",
        "\n",
        "* **Phylogenetics**: **Python** offers packages like **Bio.Phylo** in **Biopython** or external libraries like DendroPy for working with phylogenetic trees.\n",
        "\n",
        "\n",
        "* **Workflow Automation**: **Python** scripting can automate repetitive tasks, allowing bioinformaticians to streamline their analyses and improve efficiency."
      ]
    },
    {
      "cell_type": "markdown",
      "source": [
        "## Software installation"
      ],
      "metadata": {
        "id": "iTP3BSosdA3y"
      }
    },
    {
      "cell_type": "markdown",
      "source": [
        "###Installing a Linux environment on Windows using WSL"
      ],
      "metadata": {
        "id": "omAIDbdTddYS"
      }
    },
    {
      "cell_type": "markdown",
      "source": [
        "\n",
        "Installation is done in three steps:\n",
        "1. Ensure that you are running Windows 10 version 2004 and higher (Build 19041 and higher) or Windows 11.\n",
        "2.  Open PowerShell or Windows Command Prompt in administrator mode by right-clicking and selecting “Run as administrator.\n",
        "3. Enter the following command: wsl --install\n",
        "4. Restart your machine.\n",
        "The above command will enable the features necessary to run WSL and install the Ubuntu distribution of Linux. If you want to install a specific distribution other than Ubuntu, you can use the command wsl --install -d <Distribution Name>.\n",
        "\n",
        "After installation, you can access the Linux environment via a Bash terminal on your Windows machine run by your preferred Linux distribution - Ubuntu, Debian,...\n",
        "\n",
        "\n",
        "\n"
      ],
      "metadata": {
        "id": "nFbuRnSAlK8V"
      }
    },
    {
      "cell_type": "markdown",
      "source": [
        "### Installing Anaconda\n"
      ],
      "metadata": {
        "id": "CffLl1w6pSMM"
      }
    },
    {
      "cell_type": "markdown",
      "source": [
        "Anaconda is a popular open-source distribution of the Python and R programming languages, designed for data science and machine learning tasks. It includes a wide range of tools and libraries that are commonly used in these fields, making it easier for data scientists and researchers to set up their environments and work on data-related projects. Anaconda includes a package manager called \"conda\" that simplifies the installation and management of data science libraries and dependencies. Conda allows you to create isolated environments for different projects, ensuring that package conflicts are minimized."
      ],
      "metadata": {
        "id": "IeYY-8I1p0cZ"
      }
    },
    {
      "cell_type": "markdown",
      "metadata": {
        "id": "mddLxk8dYxGn"
      },
      "source": [
        "##**for** loop and **if** statement"
      ]
    },
    {
      "cell_type": "markdown",
      "metadata": {
        "id": "myyntRQyZoVt"
      },
      "source": [
        "In **Python**, the **for** loop and **if** statement are fundamental control structures that allow you to perform iterative and conditional tasks, respectively. Here's a brief overview of how you can use the for loop and if statement in **Python**.\n"
      ]
    },
    {
      "cell_type": "markdown",
      "metadata": {
        "id": "pImPOKtBaMEY"
      },
      "source": [
        "The for loop is used to iterate over a sequence (such as a list, tuple, string, etc.) and execute a block of code for each element in the sequence. Here's the basic syntax:\n",
        "\n",
        "\n",
        "```\n",
        "for element in sequence:\n",
        "    #Code to be executed for each element\n",
        "```\n",
        "\n"
      ]
    },
    {
      "cell_type": "markdown",
      "metadata": {
        "id": "awJRxeT0b7bI"
      },
      "source": [
        "**Example 1**:"
      ]
    },
    {
      "cell_type": "markdown",
      "metadata": {
        "id": "4V96M3ZzdCBb"
      },
      "source": [
        "Iterating over a list"
      ]
    },
    {
      "cell_type": "code",
      "execution_count": null,
      "metadata": {
        "colab": {
          "base_uri": "https://localhost:8080/"
        },
        "id": "D1iRy1XtaJ8O",
        "outputId": "26706b3b-6e2a-4c71-be89-3599067d15a7"
      },
      "outputs": [
        {
          "output_type": "stream",
          "name": "stdout",
          "text": [
            "apple\n",
            "banana\n",
            "cherry\n"
          ]
        }
      ],
      "source": [
        "fruits = ['apple', 'banana', 'cherry']\n",
        "for fruit in fruits:\n",
        " print(fruit)"
      ]
    },
    {
      "cell_type": "markdown",
      "metadata": {
        "id": "qn_ispkAcoKS"
      },
      "source": [
        "**Example 2**:"
      ]
    },
    {
      "cell_type": "markdown",
      "metadata": {
        "id": "oKzVbADhc2CC"
      },
      "source": [
        "Iterating over a tuple"
      ]
    },
    {
      "cell_type": "code",
      "execution_count": null,
      "metadata": {
        "colab": {
          "base_uri": "https://localhost:8080/"
        },
        "id": "tWvs-UK5cQw3",
        "outputId": "1c9d0aff-105d-4e6d-bd24-40043790c4dd"
      },
      "outputs": [
        {
          "output_type": "stream",
          "name": "stdout",
          "text": [
            "apple\n",
            "banana\n",
            "cherry\n"
          ]
        }
      ],
      "source": [
        "fruits = ('apple', 'banana', 'cherry')\n",
        "for fruit in fruits:\n",
        "    print(fruit)"
      ]
    },
    {
      "cell_type": "markdown",
      "metadata": {
        "id": "CyMwSCYKdHfq"
      },
      "source": [
        "**Example 3**:"
      ]
    },
    {
      "cell_type": "markdown",
      "metadata": {
        "id": "_1mMFzCPdMp0"
      },
      "source": [
        "Iterating over a string"
      ]
    },
    {
      "cell_type": "code",
      "execution_count": null,
      "metadata": {
        "colab": {
          "base_uri": "https://localhost:8080/"
        },
        "id": "SlHAbL9AcWjb",
        "outputId": "260fdbfc-d47c-4027-ac88-72e5a5220a20"
      },
      "outputs": [
        {
          "output_type": "stream",
          "name": "stdout",
          "text": [
            "A\n",
            "C\n",
            "A\n",
            "F\n",
            "F\n",
            "A\n"
          ]
        }
      ],
      "source": [
        "fruits = \"ACAFFA\"\n",
        "for fruit in fruits:\n",
        "    print(fruit)"
      ]
    },
    {
      "cell_type": "markdown",
      "metadata": {
        "id": "AwO8fq4kdQof"
      },
      "source": [
        "if statement is used for conditional execution. It allows you to execute a block of code only if a certain condition is met. Here's the basic syntax:\n",
        "\n",
        "\n",
        "```\n",
        "if condition:\n",
        "    # Code to be executed if the condition is True\n",
        "```\n",
        "\n"
      ]
    },
    {
      "cell_type": "markdown",
      "metadata": {
        "id": "GpX1uPvJeFmx"
      },
      "source": [
        "**Example 4**:"
      ]
    },
    {
      "cell_type": "code",
      "execution_count": null,
      "metadata": {
        "colab": {
          "base_uri": "https://localhost:8080/"
        },
        "id": "uE-RD26neWl2",
        "outputId": "2363b555-41a6-4396-9eeb-1a2a88d55ba2"
      },
      "outputs": [
        {
          "output_type": "stream",
          "name": "stdout",
          "text": [
            "It's hot outside!\n"
          ]
        }
      ],
      "source": [
        "temperature = 50\n",
        "if temperature > 30:\n",
        "   print(\"It's hot outside!\")"
      ]
    },
    {
      "cell_type": "markdown",
      "metadata": {
        "id": "71pHhkWxekGz"
      },
      "source": [
        "**Example 5**:"
      ]
    },
    {
      "cell_type": "markdown",
      "metadata": {
        "id": "R-zNoR1Beoin"
      },
      "source": [
        "You can also use the if-else statement to execute one block of code when a condition is True and another block of code when the condition is False:"
      ]
    },
    {
      "cell_type": "code",
      "execution_count": null,
      "metadata": {
        "colab": {
          "base_uri": "https://localhost:8080/"
        },
        "id": "eC1eZyvReq4Z",
        "outputId": "d7f2b88c-1f6c-4281-c821-6e9895926585"
      },
      "outputs": [
        {
          "output_type": "stream",
          "name": "stdout",
          "text": [
            "It's not too hot.\n"
          ]
        }
      ],
      "source": [
        "temperature = 25\n",
        "if temperature > 30:\n",
        "    print(\"It's hot outside!\")\n",
        "else:\n",
        "    print(\"It's not too hot.\")"
      ]
    },
    {
      "cell_type": "markdown",
      "metadata": {
        "id": "25wkiY-Ge1dw"
      },
      "source": [
        "**Example 6**:"
      ]
    },
    {
      "cell_type": "markdown",
      "metadata": {
        "id": "fA8buZT4e5q1"
      },
      "source": [
        "And you can chain multiple conditions using the if-elif-else structure:"
      ]
    },
    {
      "cell_type": "code",
      "execution_count": null,
      "metadata": {
        "colab": {
          "base_uri": "https://localhost:8080/"
        },
        "id": "x8l-aFtOe-rO",
        "outputId": "6ff5af4d-ffe5-4a31-f04b-6d2b5a513a5f"
      },
      "outputs": [
        {
          "output_type": "stream",
          "name": "stdout",
          "text": [
            "B\n"
          ]
        }
      ],
      "source": [
        "grade = 85\n",
        "if grade >= 90:\n",
        "    print(\"A\")\n",
        "elif grade >= 80:\n",
        "    print(\"B\")\n",
        "elif grade >= 70:\n",
        "    print(\"C\")\n",
        "else:\n",
        "    print(\"Fail\")"
      ]
    },
    {
      "cell_type": "markdown",
      "metadata": {
        "id": "9aFSZNTWfD15"
      },
      "source": [
        "**Example 7**:"
      ]
    },
    {
      "cell_type": "markdown",
      "metadata": {
        "id": "MMtzfgiVfMs_"
      },
      "source": [
        "You can combine the for loop and if statement to perform conditional operations on each element of a sequence.\n",
        " For example:"
      ]
    },
    {
      "cell_type": "code",
      "execution_count": null,
      "metadata": {
        "colab": {
          "base_uri": "https://localhost:8080/"
        },
        "id": "6HEaNxpbfVOs",
        "outputId": "e96d3b03-4ce9-4cd3-f79e-2ab279ae1f4e"
      },
      "outputs": [
        {
          "output_type": "stream",
          "name": "stdout",
          "text": [
            "1 is odd\n",
            "2 is even\n",
            "3 is odd\n",
            "4 is even\n",
            "5 is odd\n"
          ]
        }
      ],
      "source": [
        "numbers = [1, 2, 3, 4, 5]\n",
        "for num in numbers:\n",
        "    if num % 2 == 0:\n",
        "        print(f\"{num} is even\")\n",
        "    else:\n",
        "        print(f\"{num} is odd\")"
      ]
    },
    {
      "cell_type": "markdown",
      "metadata": {
        "id": "h0Hd-kUzJp4z"
      },
      "source": [
        "##Function **Python**"
      ]
    },
    {
      "cell_type": "markdown",
      "metadata": {
        "id": "3N8HTJgaMShu"
      },
      "source": [
        "##Defining a function"
      ]
    },
    {
      "cell_type": "markdown",
      "metadata": {
        "id": "6OwizedVKUXh"
      },
      "source": [
        "A function is a block of code that performs a specific task.\n",
        "Function blocks begin with the keyword def followed by the function name and parentheses \"( )\".The code block within every function starts with a colon \":\" and is indented."
      ]
    },
    {
      "cell_type": "code",
      "execution_count": null,
      "metadata": {
        "id": "cYcUR002LiKY"
      },
      "outputs": [],
      "source": [
        "def greet(name):\n",
        "    \"\"\"A simple function that greets the user.\"\"\"\n",
        "    print(f'Hello, {name}')\n"
      ]
    },
    {
      "cell_type": "markdown",
      "metadata": {
        "id": "5pRJwbz7L3JI"
      },
      "source": [
        "In the above example, we defined a function named **greet** that takes a parameter name."
      ]
    },
    {
      "cell_type": "markdown",
      "metadata": {
        "id": "Cysaw6K3MXwK"
      },
      "source": [
        "##Calling a function"
      ]
    },
    {
      "cell_type": "markdown",
      "metadata": {
        "id": "zXCFxG_IMdF6"
      },
      "source": [
        "To use a function, you call it by its name followed by parentheses, passing any required arguments."
      ]
    },
    {
      "cell_type": "code",
      "execution_count": null,
      "metadata": {
        "colab": {
          "base_uri": "https://localhost:8080/"
        },
        "id": "EP4q7VT5MLGE",
        "outputId": "77281c2b-ba8e-4627-c378-808564840f2a"
      },
      "outputs": [
        {
          "output_type": "stream",
          "name": "stdout",
          "text": [
            "Hello, Harouna\n"
          ]
        }
      ],
      "source": [
        "greet(\"Harouna\")"
      ]
    },
    {
      "cell_type": "markdown",
      "metadata": {
        "id": "y8Zwzn8oM7vs"
      },
      "source": [
        "Calling greet(\"*Harouna*\") will print \"Hello, Harouna!\" to the console."
      ]
    },
    {
      "cell_type": "markdown",
      "metadata": {
        "id": "OWJOn1pQNhk0"
      },
      "source": [
        "##Return statement"
      ]
    },
    {
      "cell_type": "markdown",
      "metadata": {
        "id": "I5W2UZJFNqS4"
      },
      "source": [
        "Functions can also return values using the **return** statement. The returned value can then be used in the calling code."
      ]
    },
    {
      "cell_type": "code",
      "execution_count": null,
      "metadata": {
        "colab": {
          "base_uri": "https://localhost:8080/"
        },
        "id": "Rr3f2QkMN5t3",
        "outputId": "3de5746f-f320-4d50-9adf-65267b639782"
      },
      "outputs": [
        {
          "output_type": "stream",
          "name": "stdout",
          "text": [
            "8\n"
          ]
        }
      ],
      "source": [
        "def add(a, b):\n",
        "    \"\"\"A function that adds two numbers and returns the result.\"\"\"\n",
        "    return a + b\n",
        "\n",
        "result = add(3, 5)\n",
        "print(result)  # Output: 8"
      ]
    },
    {
      "cell_type": "markdown",
      "metadata": {
        "id": "9iI7_Bh8W_c0"
      },
      "source": [
        "##Generating a random sequence"
      ]
    },
    {
      "cell_type": "markdown",
      "metadata": {
        "id": "CoCmGnhYgB9V"
      },
      "source": [
        "random.choice() function to generate a random sequence"
      ]
    },
    {
      "cell_type": "code",
      "execution_count": null,
      "metadata": {
        "id": "yRTwtDwahAvd"
      },
      "outputs": [],
      "source": [
        "import random\n",
        "nucleotids=['A','C','T','G']\n",
        "random_seq=''.join([random.choice(nucleotids) for _ in range(20)])#generanting a DNA random sequence of Nucleotids\n",
        "\n"
      ]
    },
    {
      "cell_type": "code",
      "execution_count": null,
      "metadata": {
        "id": "sWWHm2XfuyFa"
      },
      "outputs": [],
      "source": []
    },
    {
      "cell_type": "markdown",
      "metadata": {
        "id": "8XO1-t_LoeX5"
      },
      "source": [
        "Print the sequence"
      ]
    },
    {
      "cell_type": "code",
      "execution_count": null,
      "metadata": {
        "colab": {
          "base_uri": "https://localhost:8080/"
        },
        "id": "Wpo-IUvcoj9u",
        "outputId": "36adaa2f-5fb9-4b79-8f66-88b8cc6c6129"
      },
      "outputs": [
        {
          "output_type": "stream",
          "name": "stdout",
          "text": [
            "CATGTGTTGTGCCAGGCACC\n"
          ]
        }
      ],
      "source": [
        "print(random_seq)\n"
      ]
    },
    {
      "cell_type": "markdown",
      "metadata": {
        "id": "KjSXsstMol4q"
      },
      "source": [
        "Printing"
      ]
    },
    {
      "cell_type": "code",
      "execution_count": null,
      "metadata": {
        "colab": {
          "base_uri": "https://localhost:8080/"
        },
        "id": "SSlMN_8Hos2q",
        "outputId": "18c63130-4183-43b9-ad93-a8164c18cfea"
      },
      "outputs": [
        {
          "output_type": "stream",
          "name": "stdout",
          "text": [
            "20\n"
          ]
        }
      ],
      "source": [
        "\n",
        "print(len(random_seq))"
      ]
    },
    {
      "cell_type": "markdown",
      "metadata": {
        "id": "EtUsPzEpAzQv"
      },
      "source": [
        "##Extracting from the sequence"
      ]
    },
    {
      "cell_type": "markdown",
      "metadata": {
        "id": "M7iSwFBXB7Oi"
      },
      "source": [
        "###Extracting element from the sequence"
      ]
    },
    {
      "cell_type": "markdown",
      "metadata": {
        "id": "WyUjh4XpiJ6G"
      },
      "source": [
        "Let's use this fixed sequence"
      ]
    },
    {
      "cell_type": "code",
      "execution_count": null,
      "metadata": {
        "id": "PHf581DuAYVh"
      },
      "outputs": [],
      "source": [
        "Dnaseq=\"CGGATTTAGCATGCTGCTCT\""
      ]
    },
    {
      "cell_type": "markdown",
      "metadata": {
        "id": "wfWVZj5tiVM0"
      },
      "source": [
        "To extract the first element from Dnaseq(indexing start by 0 corresponding tp the first element)"
      ]
    },
    {
      "cell_type": "code",
      "execution_count": null,
      "metadata": {
        "colab": {
          "base_uri": "https://localhost:8080/"
        },
        "id": "z7ixsLE5C6Xt",
        "outputId": "3c973ffc-d688-40eb-9cc5-ffd99d8c93a7"
      },
      "outputs": [
        {
          "output_type": "stream",
          "name": "stdout",
          "text": [
            "The first element in CGGATTTAGCATGCTGCTCT :C\n"
          ]
        }
      ],
      "source": [
        "fist_element=Dnaseq[0]\n",
        "print(\"The first element in %s :%s\" %( Dnaseq,fist_element))"
      ]
    },
    {
      "cell_type": "markdown",
      "metadata": {
        "id": "7oYUgbIlict5"
      },
      "source": [
        "To extract the 4th element from Dnaseq"
      ]
    },
    {
      "cell_type": "code",
      "execution_count": null,
      "metadata": {
        "colab": {
          "base_uri": "https://localhost:8080/"
        },
        "id": "l7lHi8KPFl8a",
        "outputId": "a01c4efa-6caf-4dc7-b89b-41f51165d650"
      },
      "outputs": [
        {
          "output_type": "stream",
          "name": "stdout",
          "text": [
            "A\n"
          ]
        }
      ],
      "source": [
        "fourth_element=Dnaseq[3]\n",
        "print(fourth_element)"
      ]
    },
    {
      "cell_type": "markdown",
      "metadata": {
        "id": "_DpD0BW4jAlY"
      },
      "source": [
        "To extract the 20th_element"
      ]
    },
    {
      "cell_type": "code",
      "execution_count": null,
      "metadata": {
        "colab": {
          "base_uri": "https://localhost:8080/"
        },
        "id": "Qu5XkTMOHMMq",
        "outputId": "7eeee2ca-f289-4a2a-a3ba-6d2ba9606a73"
      },
      "outputs": [
        {
          "output_type": "stream",
          "name": "stdout",
          "text": [
            "T\n"
          ]
        }
      ],
      "source": [
        "lastelement=Dnaseq[19]\n",
        "print(lastelement)\n"
      ]
    },
    {
      "cell_type": "markdown",
      "metadata": {
        "id": "c9N16WMPjGNY"
      },
      "source": [
        "Extract last element"
      ]
    },
    {
      "cell_type": "code",
      "execution_count": null,
      "metadata": {
        "colab": {
          "base_uri": "https://localhost:8080/"
        },
        "id": "hDJtCZGljK9g",
        "outputId": "eb51ca22-2966-449f-c23b-4209d6a1d566"
      },
      "outputs": [
        {
          "output_type": "stream",
          "name": "stdout",
          "text": [
            "T\n"
          ]
        }
      ],
      "source": [
        "lastelement=Dnaseq[-1]#Last element is given by index -1.\n",
        "print(lastelement)"
      ]
    },
    {
      "cell_type": "markdown",
      "metadata": {
        "id": "CNx0Py62GQcK"
      },
      "source": [
        "###Checking presence of patterns/substrings"
      ]
    },
    {
      "cell_type": "markdown",
      "metadata": {
        "id": "Ldm-bePujtpf"
      },
      "source": [
        "To check if 'ATT' is Dnaseq( it returns True if yes and False otherwise)"
      ]
    },
    {
      "cell_type": "code",
      "execution_count": null,
      "metadata": {
        "colab": {
          "base_uri": "https://localhost:8080/"
        },
        "id": "jqP1hg28LYh9",
        "outputId": "52395f39-93d8-4be9-db27-72065b3ef991"
      },
      "outputs": [
        {
          "output_type": "stream",
          "name": "stdout",
          "text": [
            "printed value is for ATT'' is : True\n",
            "printed value is for 'ACT' is : False\n"
          ]
        }
      ],
      "source": [
        "print(\"printed value is for ATT'' is : %s\" %('ATT' in Dnaseq))\n",
        "print(\"printed value is for 'ACT' is : %s\" %('ACT' in Dnaseq))\n",
        "\n"
      ]
    },
    {
      "cell_type": "markdown",
      "metadata": {
        "id": "V9OJWFH1g339"
      },
      "source": [
        "###Counting patterns"
      ]
    },
    {
      "cell_type": "markdown",
      "metadata": {
        "id": "xu8Z6TRskoAp"
      },
      "source": [
        "This is a long method"
      ]
    },
    {
      "cell_type": "code",
      "execution_count": null,
      "metadata": {
        "colab": {
          "base_uri": "https://localhost:8080/"
        },
        "id": "fsRdEvAAhFt_",
        "outputId": "b1c6f935-bac8-476d-8c27-5bf3c9e00680"
      },
      "outputs": [
        {
          "output_type": "stream",
          "name": "stdout",
          "text": [
            "ATT  occurs 1 time \n",
            "ATT occurs 1 time in CGGATTTAGCATGCTGCTCT\n"
          ]
        }
      ],
      "source": [
        "pattern='ATT'\n",
        "patternlist=[]#Initialize the list containing the pattern\n",
        "for i in range(0,len(Dnaseq)-len(pattern)):# for i =0 to len(Dnasequence)-len(pattern)\n",
        "           if Dnaseq[i:i+len(pattern)]==pattern:#check at each position if window of size len(pattern) corresponds to pattern\n",
        "              patternlist.append(pattern)# then add pattern to patternlist\n",
        "\n",
        "print(\"ATT  occurs %d time \" %(len(patternlist)))\n",
        "\n",
        "#This is a short method\n",
        "print(\"ATT occurs %d time in %s\"%(Dnaseq.count(\"ATT\"), Dnaseq))\n"
      ]
    },
    {
      "cell_type": "code",
      "execution_count": null,
      "metadata": {
        "colab": {
          "base_uri": "https://localhost:8080/"
        },
        "id": "VtCTsDYHlROu",
        "outputId": "fcc5bb19-ad26-4456-eed5-6ed69c917074"
      },
      "outputs": [
        {
          "output_type": "stream",
          "name": "stdout",
          "text": [
            "ATT occurs 1 time \n"
          ]
        }
      ],
      "source": [
        "pattern='ATAA'\n",
        "\n",
        "\n",
        "print(\"ATT occurs %d time \" %(len(patternlist)))"
      ]
    },
    {
      "cell_type": "markdown",
      "metadata": {
        "id": "fSs0V4Him7Mh"
      },
      "source": [
        "This is short method"
      ]
    },
    {
      "cell_type": "code",
      "execution_count": null,
      "metadata": {
        "colab": {
          "base_uri": "https://localhost:8080/"
        },
        "id": "FKDXM4GqnG2U",
        "outputId": "107e41ca-f4b6-4754-d138-cfebd8e5bfc6"
      },
      "outputs": [
        {
          "output_type": "stream",
          "name": "stdout",
          "text": [
            "1\n"
          ]
        }
      ],
      "source": [
        "\n",
        "count=Dnaseq.count('ATT')\n",
        "print(count)"
      ]
    },
    {
      "cell_type": "code",
      "execution_count": null,
      "metadata": {
        "colab": {
          "base_uri": "https://localhost:8080/"
        },
        "id": "OSljy_f9nr0i",
        "outputId": "1792467b-6d58-4b25-eaac-f8f9732592dc"
      },
      "outputs": [
        {
          "output_type": "stream",
          "name": "stdout",
          "text": [
            "0\n"
          ]
        }
      ],
      "source": [
        "count=Dnaseq.count('ATAA')\n",
        "print(count)"
      ]
    },
    {
      "cell_type": "markdown",
      "metadata": {
        "id": "BvCjzT3Zp1VS"
      },
      "source": [
        "##Computing frequencies"
      ]
    },
    {
      "cell_type": "markdown",
      "metadata": {
        "id": "I5UYdtzzuHAD"
      },
      "source": [
        "###Method 1\n"
      ]
    },
    {
      "cell_type": "code",
      "execution_count": null,
      "metadata": {
        "colab": {
          "base_uri": "https://localhost:8080/"
        },
        "id": "YwNKu6wWuFne",
        "outputId": "d6deb295-47f0-47f4-dce5-170815cb3faa"
      },
      "outputs": [
        {
          "output_type": "stream",
          "name": "stdout",
          "text": [
            "{'C': 5, 'G': 5, 'A': 3, 'T': 7}\n"
          ]
        }
      ],
      "source": [
        "from collections import Counter\n",
        "nucleotid_freq=dict(Counter(Dnaseq))\n",
        "print(nucleotid_freq)\n"
      ]
    },
    {
      "cell_type": "markdown",
      "metadata": {
        "id": "I838zvXUuW6B"
      },
      "source": [
        "###Method 2"
      ]
    },
    {
      "cell_type": "code",
      "execution_count": null,
      "metadata": {
        "colab": {
          "base_uri": "https://localhost:8080/"
        },
        "id": "_BCZjAKAp7S5",
        "outputId": "6d813941-b684-4fb5-d1e9-8a0313f9b13e"
      },
      "outputs": [
        {
          "output_type": "stream",
          "name": "stdout",
          "text": [
            "{'A': 3, 'C': 5, 'T': 7, 'G': 5}\n"
          ]
        }
      ],
      "source": [
        "nucleotid_freq={'A':0, 'C':0,'T':0,'G':0}#Inializing a dictionary containing frequencies\n",
        "for c in Dnaseq:\n",
        "      nucleotid_freq[c]+=1\n",
        "print(nucleotid_freq)"
      ]
    },
    {
      "cell_type": "markdown",
      "metadata": {
        "id": "RBlcj7yix_sK"
      },
      "source": [
        "##Counting Nucleotides"
      ]
    },
    {
      "cell_type": "code",
      "execution_count": null,
      "metadata": {
        "colab": {
          "base_uri": "https://localhost:8080/"
        },
        "id": "ynQgmovzyNWI",
        "outputId": "70f686da-fa1f-4d56-c73e-c4adb9ec19fe"
      },
      "outputs": [
        {
          "output_type": "stream",
          "name": "stdout",
          "text": [
            "A:3, C:5, G:5,T:7\n"
          ]
        }
      ],
      "source": [
        "print(\"A:%d, C:%d, G:%d,T:%d\"  %(nucleotid_freq['A'],nucleotid_freq['C'], nucleotid_freq['G'], nucleotid_freq['T']))"
      ]
    },
    {
      "cell_type": "markdown",
      "metadata": {
        "id": "jl9LLgt5xvUS"
      },
      "source": [
        "##Computing GC content"
      ]
    },
    {
      "cell_type": "code",
      "execution_count": null,
      "metadata": {
        "colab": {
          "base_uri": "https://localhost:8080/"
        },
        "id": "x3BY6ql_vWGR",
        "outputId": "c9698bb7-c9ba-47b6-af86-b53defd5e003"
      },
      "outputs": [
        {
          "output_type": "stream",
          "name": "stdout",
          "text": [
            "GC_count is :50.00\n"
          ]
        }
      ],
      "source": [
        "GC_count=(nucleotid_freq['G']+nucleotid_freq['C'])/len(Dnaseq)*100\n",
        "print(\"GC_count is :%.2f\" %(GC_count))"
      ]
    },
    {
      "cell_type": "markdown",
      "metadata": {
        "id": "TxmGSE5etayn"
      },
      "source": [
        "#Checking validity of a sequence"
      ]
    },
    {
      "cell_type": "markdown",
      "metadata": {
        "id": "SQajIQcrtnti"
      },
      "source": [
        "Converting a sequence to uppercase format"
      ]
    },
    {
      "cell_type": "code",
      "execution_count": null,
      "metadata": {
        "colab": {
          "base_uri": "https://localhost:8080/"
        },
        "id": "eG2jxrBeuHQe",
        "outputId": "5483f49d-3efd-4e70-e4b1-265648a3fea8"
      },
      "outputs": [
        {
          "output_type": "stream",
          "name": "stdout",
          "text": [
            "ACCCTAAGGATA\n"
          ]
        }
      ],
      "source": [
        "print(\"AccctaAGGAta\".upper())"
      ]
    },
    {
      "cell_type": "markdown",
      "metadata": {
        "id": "6mUSNS4dowXe"
      },
      "source": [
        "upper method converts to upper case format."
      ]
    },
    {
      "cell_type": "markdown",
      "metadata": {
        "id": "Tnyqcr-biMPm"
      },
      "source": [
        "Function to check if a sequence is a valid sequence"
      ]
    },
    {
      "cell_type": "code",
      "execution_count": null,
      "metadata": {
        "colab": {
          "base_uri": "https://localhost:8080/"
        },
        "id": "lkxHvaisiLUA",
        "outputId": "7e23ce0c-569a-4249-8dc9-875bf740e5a6"
      },
      "outputs": [
        {
          "output_type": "stream",
          "name": "stdout",
          "text": [
            "ACTT\n"
          ]
        }
      ],
      "source": [
        "Nucleotides=['A','C','T','G'] #List of valid nucleotides\n",
        "\n",
        "def validseq(seq):\n",
        "  seq= seq.upper()\n",
        "  for nuc in seq:\n",
        "   if nuc not in Nucleotides:\n",
        "     return \"The sequence %s is not a valid sequence\" %seq\n",
        "\n",
        "  return seq\n",
        "\n",
        "print(validseq(\"ACTT\"))"
      ]
    },
    {
      "cell_type": "code",
      "execution_count": null,
      "metadata": {
        "colab": {
          "base_uri": "https://localhost:8080/"
        },
        "id": "GyLfKu-y0N9m",
        "outputId": "02c2f052-47e9-43a6-bc6a-55e65e2f95fc"
      },
      "outputs": [
        {
          "output_type": "stream",
          "name": "stdout",
          "text": [
            "The sequence ACDTTTA is not a valid sequence\n"
          ]
        }
      ],
      "source": [
        "seq='ACDTTTA'\n",
        "print(validseq(seq))"
      ]
    },
    {
      "cell_type": "code",
      "execution_count": null,
      "metadata": {
        "colab": {
          "base_uri": "https://localhost:8080/"
        },
        "id": "tq6CK5KC0aq4",
        "outputId": "c06b4914-66b3-4ed1-dfdd-9d660250caf9"
      },
      "outputs": [
        {
          "output_type": "stream",
          "name": "stdout",
          "text": [
            "The sequence AACMCTNATGA is not a valid sequence\n"
          ]
        }
      ],
      "source": [
        "seq=\"AACMCTNATGA\"\n",
        "print(validseq(seq))"
      ]
    },
    {
      "cell_type": "markdown",
      "metadata": {
        "id": "oqRZ5sLisH_C"
      },
      "source": [
        "Checking validity of a sequence using ChatGPT"
      ]
    },
    {
      "cell_type": "markdown",
      "metadata": {
        "id": "H2e-2O-G1Csy"
      },
      "source": [
        "# Complement and reverse complement"
      ]
    },
    {
      "cell_type": "markdown",
      "metadata": {
        "id": "SEicXVxG1Ti8"
      },
      "source": [
        "##Complement of a sequence"
      ]
    },
    {
      "cell_type": "code",
      "execution_count": null,
      "metadata": {
        "colab": {
          "base_uri": "https://localhost:8080/"
        },
        "id": "_uV9dRpF3bG5",
        "outputId": "22040612-b41f-4c45-84c3-2afe859382d7"
      },
      "outputs": [
        {
          "output_type": "stream",
          "name": "stdout",
          "text": [
            "TGTATTCTGGTCCT\n"
          ]
        }
      ],
      "source": [
        "Compnucleotides={'A':'T','T':'A','C':'G','G':'C'} #Dictionary containing complementary between nucleotides\n",
        "seq='ACATAAGACCAGGA'#Example of sequence to calculate its complement\n",
        "\n",
        "complementseq=''.join([Compnucleotides[nuc] for nuc in seq])#To generate the complement\n",
        "print(complementseq)\n"
      ]
    },
    {
      "cell_type": "markdown",
      "metadata": {
        "id": "u1pXol8O8XXT"
      },
      "source": [
        "##Reverse of a sequence"
      ]
    },
    {
      "cell_type": "code",
      "execution_count": null,
      "metadata": {
        "colab": {
          "base_uri": "https://localhost:8080/"
        },
        "id": "Xu9k_Pux8ib6",
        "outputId": "8f8d16b8-8e73-46a2-9e75-4668671c1eea"
      },
      "outputs": [
        {
          "output_type": "stream",
          "name": "stdout",
          "text": [
            "AGGACCAGAATACA\n"
          ]
        }
      ],
      "source": [
        "seq='ACATAAGACCAGGA'\n",
        "reverseseq=seq[::-1]#[::-1] reverse the sequence\n",
        "print(reverseseq)\n"
      ]
    },
    {
      "cell_type": "markdown",
      "metadata": {
        "id": "xwki_I0FAUH9"
      },
      "source": [
        "## Reverse complement of a sequence"
      ]
    },
    {
      "cell_type": "code",
      "execution_count": null,
      "metadata": {
        "colab": {
          "base_uri": "https://localhost:8080/"
        },
        "id": "rW21StENAe6s",
        "outputId": "a40a44ce-cd75-4e26-ad0c-005241d69f44"
      },
      "outputs": [
        {
          "output_type": "stream",
          "name": "stdout",
          "text": [
            "TCCTGGTCTTATGT\n"
          ]
        }
      ],
      "source": [
        "seq='ACATAAGACCAGGA'\n",
        "reversecomplementseq=''.join([Compnucleotides[nuc] for nuc in seq[::-1]])\n",
        "print(reversecomplementseq)"
      ]
    },
    {
      "cell_type": "markdown",
      "metadata": {
        "id": "L85PMnisCXAO"
      },
      "source": [
        "##Reverse complement"
      ]
    },
    {
      "cell_type": "code",
      "execution_count": null,
      "metadata": {
        "colab": {
          "base_uri": "https://localhost:8080/"
        },
        "id": "h3CJ42opCMUP",
        "outputId": "22736438-5c4c-4741-e54b-dc9751a7f21a"
      },
      "outputs": [
        {
          "output_type": "stream",
          "name": "stdout",
          "text": [
            "TCCTGGTCTTATGT\n"
          ]
        }
      ],
      "source": [
        "def reversecomplementfunc(seq):\n",
        "  return ''.join([Compnucleotides[nuc] for nuc in seq[::-1]])\n",
        "\n",
        "print(reversecomplementfunc(seq))\n"
      ]
    },
    {
      "cell_type": "code",
      "execution_count": null,
      "metadata": {
        "colab": {
          "base_uri": "https://localhost:8080/"
        },
        "id": "5rwmYWMntnh8",
        "outputId": "cd6416e6-915a-4e50-8224-4c73b910c318"
      },
      "outputs": [
        {
          "output_type": "stream",
          "name": "stdout",
          "text": [
            "Dna seq \n",
            " 5' ACATAAGACCAGGA 3'\n",
            "    ||||||||||||||\n",
            " 3' TCCTGGTCTTATGT 5'\n"
          ]
        }
      ],
      "source": [
        "#print(f\"Dna + reverse complement \\n5'{seq} 3'\")\n",
        "#print( f\"  {''.join(['|' for _ in range(0,len(seq))])}\")\n",
        "\n",
        "print(\"Dna seq \\n %s %s %s\" %(\"5'\",seq,\"3'\"))\n",
        "print(\"    %s\" %(''.join(['|' for _ in range(0,len(seq))])))\n",
        "print(\" %s %s %s\" %(\"3'\",reversecomplementfunc(seq),\"5'\"))"
      ]
    },
    {
      "cell_type": "markdown",
      "metadata": {
        "id": "25DFSbOiD42M"
      },
      "source": [
        "#Dna sequence to protein"
      ]
    },
    {
      "cell_type": "markdown",
      "metadata": {
        "id": "4Ulbulgoxolp"
      },
      "source": [
        "##Translation function"
      ]
    },
    {
      "cell_type": "markdown",
      "metadata": {
        "id": "6aOcDeGTPOd2"
      },
      "source": [
        "In this the process that takes the information passed from DNA and turns it into a series of amino acids."
      ]
    },
    {
      "cell_type": "code",
      "execution_count": null,
      "metadata": {
        "colab": {
          "base_uri": "https://localhost:8080/"
        },
        "id": "mQHpMnp4EFpq",
        "outputId": "a1f3e857-7d09-43e8-9e10-0b63c236a9d9"
      },
      "outputs": [
        {
          "output_type": "stream",
          "name": "stdout",
          "text": [
            "Codon list is of ACCAATTAGAATTAGAGGAAATATGGCCCA is ['ACC', 'AAT', 'TAG', 'AAT', 'TAG', 'AGG', 'AAA', 'TAT', 'GGC', 'CCA'] \n",
            "The translated seq of ACCAATTAGAATTAGAGGAAATATGGCCCA is TN*N*RKYGP\n"
          ]
        }
      ],
      "source": [
        "table = {\n",
        "        'ATA':'I', 'ATC':'I', 'ATT':'I', 'ATG':'M',\n",
        "        'ACA':'T', 'ACC':'T', 'ACG':'T', 'ACT':'T',\n",
        "        'AAC':'N', 'AAT':'N', 'AAA':'K', 'AAG':'K',\n",
        "        'AGC':'S', 'AGT':'S', 'AGA':'R', 'AGG':'R',\n",
        "        'CTA':'L', 'CTC':'L', 'CTG':'L', 'CTT':'L',\n",
        "        'CCA':'P', 'CCC':'P', 'CCG':'P', 'CCT':'P',\n",
        "        'CAC':'H', 'CAT':'H', 'CAA':'Q', 'CAG':'Q',\n",
        "        'CGA':'R', 'CGC':'R', 'CGG':'R', 'CGT':'R',\n",
        "        'GTA':'V', 'GTC':'V', 'GTG':'V', 'GTT':'V',\n",
        "        'GCA':'A', 'GCC':'A', 'GCG':'A', 'GCT':'A',\n",
        "        'GAC':'D', 'GAT':'D', 'GAA':'E', 'GAG':'E',\n",
        "        'GGA':'G', 'GGC':'G', 'GGG':'G', 'GGT':'G',\n",
        "        'TCA':'S', 'TCC':'S', 'TCG':'S', 'TCT':'S',\n",
        "        'TTC':'F', 'TTT':'F', 'TTA':'L', 'TTG':'L',\n",
        "        'TAC':'Y', 'TAT':'Y', 'TAA':'*', 'TAG':'*',\n",
        "        'TGC':'C', 'TGT':'C', 'TGA':'*', 'TGG':'W',\n",
        "    }#This is a dictionary where keys are triplet nucleotide called the codon forms a single amino acid\n",
        "def codonseq(dnaseq,pos):#This function generates a list containing codons in dnaseq\n",
        "\n",
        "     codons=[dnaseq[i:i+3] for i in range(pos,len(dnaseq)-2,3)]\n",
        "     return codons\n",
        "\n",
        "def translation(dnaseq,pos):\n",
        "   if len(dnaseq)%3!=0: # if the length of dnaseq is not divisible by 3 we are not doing translation\n",
        "      return \"This sequence is not divisible by 3\"\n",
        "\n",
        "   translatedseq=''.join([table[nuc] for nuc in codonseq(dnaseq,pos)])#The translated sequence\n",
        "   return translatedseq\n",
        "dnaseq=\"ACCAATTAGAATTAGAGGAAATATGGCCCA\"\n",
        "print('Codon list is of %s is %s ' %(dnaseq,codonseq(dnaseq,0)))\n",
        "print(\"The translated seq of %s is %s\" %(dnaseq,translation(dnaseq,0)))\n"
      ]
    },
    {
      "cell_type": "markdown",
      "metadata": {
        "id": "nTN0R0M9k0x2"
      },
      "source": [
        "##Generating reading frames"
      ]
    },
    {
      "cell_type": "markdown",
      "metadata": {
        "id": "WuXdKfb4QB10"
      },
      "source": [
        "In molecular biology, reading frames refer to the different ways a sequence of DNA (or RNA) nucleotides can be read in groups of three, starting from a specific position. Each group of three nucleotides is called a codon, and it codes for a specific amino acid in a protein sequence. Reading frames are essential for translating the genetic information encoded in DNA into proteins."
      ]
    },
    {
      "cell_type": "code",
      "execution_count": null,
      "metadata": {
        "colab": {
          "base_uri": "https://localhost:8080/"
        },
        "id": "6up5XdGjk-D0",
        "outputId": "286374a1-8fb8-4f59-9094-6b74b6f6582d"
      },
      "outputs": [
        {
          "output_type": "stream",
          "name": "stdout",
          "text": [
            "[['TN*N*RKYGP', 'PIRIRGNMA', 'QLELEEIWP'], ['WAIFPLILIG', 'GPYFL*F*L', 'GHISSNSNW']]\n"
          ]
        }
      ],
      "source": [
        "\n",
        "def readframes(dnaseq):\n",
        "  readframe0=[]\n",
        "  readframe0.append([translation(dnaseq,i) for i in range(0,3)])\n",
        "  readframe0.append([translation(reversecomplementfunc(dnaseq),i) for i in range(0,3)])\n",
        "  #readframe=readframe53'\\n'.join([readframe35])\n",
        "  return readframe0\n",
        "print(readframes(dnaseq))\n",
        "\n",
        "\n"
      ]
    },
    {
      "cell_type": "markdown",
      "metadata": {
        "id": "5ECI_BSQx318"
      },
      "source": [
        "#Introduction to biopython"
      ]
    },
    {
      "cell_type": "markdown",
      "metadata": {
        "id": "Kp1KBMjzQuJ4"
      },
      "source": [
        "Biopython is an open-source collection of Python tools and libraries designed for computational biology and bioinformatics tasks. It provides a wide range of functionalities for working with biological data, including DNA, RNA, protein sequences, 3D structures, and more. Biopython aims to make bioinformatics analysis and scripting more accessible to researchers, developers, and scientists.\n",
        "\n",
        "\n",
        "Here are some key features and functionalities offered by Biopython:\n",
        "\n",
        "1. **Sequence Handling**: Biopython allows you to work with biological sequences (DNA, RNA, and protein) and provides methods for manipulation, translation, transcription, and back-translation of sequences.\n",
        "2. *File Formats*: Biopython supports various file formats commonly used in bioinformatics, such as FASTA, GenBank, PDB (Protein Data Bank), and more. It enables parsing and writing of these formats.\n",
        "\n",
        "\n",
        "3. **Online Database Access**: Biopython can interact with online biological databases like NCBI, retrieving data such as sequences, annotations, and references.\n",
        "4. **Alignment and Phylogenetics**: Biopython provides tools for sequence alignment, including pairwise and multiple sequence alignment, as well as functionalities for building and analyzing phylogenetic trees.\n",
        "\n",
        "\n",
        "\n",
        "5. **3D Structure Analysis**: Biopython supports working with protein 3D structures and provides modules for parsing and analyzing PDB files.\n",
        "\n",
        "6. **Population Genetics**: Biopython includes modules for population genetics analyses, such as calculating genetic diversity, Hardy-Weinberg equilibrium, and more.\n",
        "7.   **Graphics and Visualization**: It offers functionalities for creating basic plots and visualizations of biological data.\n",
        "\n",
        "\n",
        "\n",
        "\n",
        "\n",
        "\n",
        "\n",
        "\n"
      ]
    },
    {
      "cell_type": "markdown",
      "metadata": {
        "id": "f732Y__6M2ko"
      },
      "source": [
        "##install Biopython"
      ]
    },
    {
      "cell_type": "code",
      "execution_count": null,
      "metadata": {
        "colab": {
          "base_uri": "https://localhost:8080/"
        },
        "id": "wFITa6BjMJIY",
        "outputId": "f24e020f-d2e9-4265-9705-cf8d14d56277"
      },
      "outputs": [
        {
          "output_type": "stream",
          "name": "stdout",
          "text": [
            "Collecting biopython\n",
            "  Downloading biopython-1.81-cp310-cp310-manylinux_2_17_x86_64.manylinux2014_x86_64.whl (3.1 MB)\n",
            "\u001b[2K     \u001b[90m━━━━━━━━━━━━━━━━━━━━━━━━━━━━━━━━━━━━━━━━\u001b[0m \u001b[32m3.1/3.1 MB\u001b[0m \u001b[31m11.6 MB/s\u001b[0m eta \u001b[36m0:00:00\u001b[0m\n",
            "\u001b[?25hRequirement already satisfied: numpy in /usr/local/lib/python3.10/dist-packages (from biopython) (1.23.5)\n",
            "Installing collected packages: biopython\n",
            "Successfully installed biopython-1.81\n"
          ]
        }
      ],
      "source": [
        "!pip install biopython"
      ]
    },
    {
      "cell_type": "markdown",
      "metadata": {
        "id": "AWGbf---NbO_"
      },
      "source": [
        "##Calculate GC content"
      ]
    },
    {
      "cell_type": "code",
      "execution_count": null,
      "metadata": {
        "colab": {
          "base_uri": "https://localhost:8080/"
        },
        "id": "rTMi81y8NcF4",
        "outputId": "90984ab1-e998-4c5c-bba0-62b0144fe9e5"
      },
      "outputs": [
        {
          "output_type": "stream",
          "name": "stdout",
          "text": [
            "GC_content is :50.000000\n"
          ]
        },
        {
          "output_type": "stream",
          "name": "stderr",
          "text": [
            "/usr/local/lib/python3.10/dist-packages/Bio/SeqUtils/__init__.py:144: BiopythonDeprecationWarning: GC is deprecated; please use gc_fraction instead.\n",
            "  warnings.warn(\n"
          ]
        }
      ],
      "source": [
        "from Bio.SeqUtils import GC\n",
        "GC_count=GC(Dnaseq)\n",
        "print(\"GC_content is :%2f\" %(GC_count))\n"
      ]
    },
    {
      "cell_type": "markdown",
      "metadata": {
        "id": "ULHenvT2kAq-"
      },
      "source": [
        "##Complement and reverse complement"
      ]
    },
    {
      "cell_type": "code",
      "execution_count": null,
      "metadata": {
        "colab": {
          "base_uri": "https://localhost:8080/"
        },
        "id": "wtwW9kYKkECY",
        "outputId": "efdd5a07-24cf-410f-f4c6-665936eb631a"
      },
      "outputs": [
        {
          "output_type": "stream",
          "name": "stdout",
          "text": [
            "The complement of ACCAATTAGAATTAGAGGAAATATGGCCCA is TGGTTAATCTTAATCTCCTTTATACCGGGT\n",
            "The reverse complement of ACCAATTAGAATTAGAGGAAATATGGCCCA is TGGGCCATATTTCCTCTAATTCTAATTGGT\n"
          ]
        }
      ],
      "source": [
        "from Bio.Seq import Seq#Bio.SeqIO module is used to read and write the sequence file in different format\n",
        "#Seq class is used to represent the sequence data of a particular sequence record available in the sequence file.\n",
        "seq=Seq(\"ACCAATTAGAATTAGAGGAAATATGGCCCA\")\n",
        "complementseq=seq.complement()\n",
        "reversecomplementseq=seq.reverse_complement()\n",
        "print(\"The complement of %s is %s\"%(seq,complementseq))\n",
        "print(\"The reverse complement of %s is %s\"%(seq,reversecomplementseq))\n"
      ]
    },
    {
      "cell_type": "markdown",
      "metadata": {
        "id": "vlUfgnnr1A45"
      },
      "source": [
        "##DNA sequence to protein"
      ]
    },
    {
      "cell_type": "code",
      "execution_count": null,
      "metadata": {
        "colab": {
          "base_uri": "https://localhost:8080/"
        },
        "id": "QlJWVaaW1KMS",
        "outputId": "5af7b85a-7786-4a08-c16d-e4eede9cb311"
      },
      "outputs": [
        {
          "output_type": "stream",
          "name": "stdout",
          "text": [
            "The translion of ACCAATTAGAATTAGAGGAAATATGGCCCA TN*N*RKYGP\n",
            "drive  sample_data\n"
          ]
        }
      ],
      "source": [
        "seq=Seq(\"ACCAATTAGAATTAGAGGAAATATGGCCCA\")\n",
        "translatedseq=seq.translate()\n",
        "print(\"The translion of %s %s\"%(seq,translatedseq))\n",
        "\n",
        "!ls"
      ]
    },
    {
      "cell_type": "markdown",
      "metadata": {
        "id": "STZl4X_E6Ipr"
      },
      "source": [
        "##Parsing sequence file formats"
      ]
    },
    {
      "cell_type": "markdown",
      "metadata": {
        "id": "Tg9miqgM6KWm"
      },
      "source": [
        "###Parsing fasta file format"
      ]
    },
    {
      "cell_type": "code",
      "execution_count": null,
      "metadata": {
        "colab": {
          "base_uri": "https://localhost:8080/"
        },
        "id": "V3q2ew7n58KO",
        "outputId": "35c1fc11-8d05-4337-dc87-d5433f3240e3"
      },
      "outputs": [
        {
          "output_type": "stream",
          "name": "stdout",
          "text": [
            "Id: gi|2765658|emb|Z78533.1|CIZ78533\n",
            "Name: gi|2765658|emb|Z78533.1|CIZ78533\n",
            "Name: CGTAACAAGGTTTCCGTAGGTGAACCTGCGGAAGGATCATTGATGAGACCGTGGAATAAACGATCGAGTGAATCCGGAGGACCGGTGTACTCAGCTCACCGGGGGCATTGCTCCCGTGGTGACCCTGATTTGTTGTTGGGCCGCCTCGGGAGCGTCCATGGCGGGTTTGAACCTCTAGCCCGGCGCAGTTTGGGCGCCAAGCCATATGAAAGCATCACCGGCGAATGGCATTGTCTTCCCCAAAACCCGGAGCGGCGGCGTGCTGTCGCGTGCCCAATGAATTTTGATGACTCTCGCAAACGGGAATCTTGGCTCTTTGCATCGGATGGAAGGACGCAGCGAAATGCGATAAGTGGTGTGAATTGCAAGATCCCGTGAACCATCGAGTCTTTTGAACGCAAGTTGCGCCCGAGGCCATCAGGCTAAGGGCACGCCTGCTTGGGCGTCGCGCTTCGTCTCTCTCCTGCCAATGCTTGCCCGGCATACAGCCAGGCCGGCGTGGTGCGGATGTGAAAGATTGGCCCCTTGTGCCTAGGTGCGGCGGGTCCAAGAGCTGGTGTTTTGATGGCCCGGAACCCGGCAAGAGGTGGACGGATGCTGGCAGCAGCTGCCGTGCGAATCCCCCATGTTGTCGTGCTTGTCGGACAGGCAGGAGAACCCTTCCGAACCCCAATGGAGGGCGGTTGACCGCCATTCGGATGTGACCCCAGGTCAGGCGGGGGCACCCGCTGAGTTTACGC\n",
            "Description: gi|2765658|emb|Z78533.1|CIZ78533 C.irapeanum 5.8S rRNA gene and ITS1 and ITS2 DNA\n",
            "Annotations: {}\n",
            "Id: gi|2765657|emb|Z78532.1|CCZ78532\n",
            "Name: gi|2765657|emb|Z78532.1|CCZ78532\n",
            "Name: CGTAACAAGGTTTCCGTAGGTGAACCTGCGGAAGGATCATTGTTGAGACAACAGAATATATGATCGAGTGAATCTGGAGGACCTGTGGTAACTCAGCTCGTCGTGGCACTGCTTTTGTCGTGACCCTGCTTTGTTGTTGGGCCTCCTCAAGAGCTTTCATGGCAGGTTTGAACTTTAGTACGGTGCAGTTTGCGCCAAGTCATATAAAGCATCACTGATGAATGACATTATTGTCAGAAAAAATCAGAGGGGCAGTATGCTACTGAGCATGCCAGTGAATTTTTATGACTCTCGCAACGGATATCTTGGCTCTAACATCGATGAAGAACGCAGCTAAATGCGATAAGTGGTGTGAATTGCAGAATCCCGTGAACCATCGAGTCTTTGAACGCAAGTTGCGCTCGAGGCCATCAGGCTAAGGGCACGCCTGCCTGGGCGTCGTGTGTTGCGTCTCTCCTACCAATGCTTGCTTGGCATATCGCTAAGCTGGCATTATACGGATGTGAATGATTGGCCCCTTGTGCCTAGGTGCGGTGGGTCTAAGGATTGTTGCTTTGATGGGTAGGAATGTGGCACGAGGTGGAGAATGCTAACAGTCATAAGGCTGCTATTTGAATCCCCCATGTTGTTGTATTTTTTCGAACCTACACAAGAACCTAATTGAACCCCAATGGAGCTAAAATAACCATTGGGCAGTTGATTTCCATTCAGATGCGACCCCAGGTCAGGCGGGGCCACCCGCTGAGTTGAGGC\n",
            "Description: gi|2765657|emb|Z78532.1|CCZ78532 C.californicum 5.8S rRNA gene and ITS1 and ITS2 DNA\n",
            "Annotations: {}\n",
            "Id: gi|2765656|emb|Z78531.1|CFZ78531\n",
            "Name: gi|2765656|emb|Z78531.1|CFZ78531\n",
            "Name: CGTAACAAGGTTTCCGTAGGTGAACCTGCGGAAGGATCATTGTTGAGACAGCAGAACATACGATCGAGTGAATCCGGAGGACCCGTGGTTACACGGCTCACCGTGGCTTTGCTCTCGTGGTGAACCCGGTTTGCGACCGGGCCGCCTCGGGAACTTTCATGGCGGGTTTGAACGTCTAGCGCGGCGCAGTTTGCGCCAAGTCATATGGAGCGTCACCGATGGATGGCATTTTTGTCAAGAAAAACTCGGAGGGGCGGCGTCTGTTGCGCGTGCCAATGAATTTATGACGACTCTCGGCAACGGGATATCTGGCTCTTGCATCGATGAAGAACGCAGCGAAATGCGATAAGTGGTGTGAATTGCAGAATCCCGCGAACCATCGAGTCTTTGAACGCAAGTTGCGCCCGAGGCCATCAGGCTAAGGGCACGCCTGCCTGGGCGTCGTGTGCTGCGTCTCTCCTGATAATGCTTGATTGGCATGCGGCTAGTCTGTCATTGTGAGGACGTGAAAGATTGGCCCCTTGCGCCTAGGTGCGGCGGGTCTAAGCATCGGTGTTCTGATGGCCCGGAACTTGGCAGTAGGTGGAGGATGCTGGCAGCCGCAAGGCTGCCGTTCGAATCCCCCGTGTTGTCGTACTCGTCAGGCCTACAGAAGAACCTGTTTGAACCCCCAGTGGACGCAAAACCGCCCTCGGGCGGTGATTTCCATTCAGATGCGACCCCAGTCAGGCGGGCCACCCGTGAGTAA\n",
            "Description: gi|2765656|emb|Z78531.1|CFZ78531 C.fasciculatum 5.8S rRNA gene and ITS1 and ITS2 DNA\n",
            "Annotations: {}\n",
            "Id: gi|2765655|emb|Z78530.1|CMZ78530\n",
            "Name: gi|2765655|emb|Z78530.1|CMZ78530\n",
            "Name: CGTAACAAGGTTTCCGTAGGTGAACCTGCGGAAGGATCATTGTTGAAACAACATAATAAACGATTGAGTGAATCTGGAGGACTTGTGGTAATTTGGCTCGCTAGGGATATCCTTTTGTGGTGACCATGATTTGTCATTGGGCCTCATTGAGAGCTTTCATGGCGGGTTTGAACCTCTAGCACGGTCCAGTTTGCACCAAGGTATATAAAGAATCACCGATGAATGACATTATTGCCCCACACAACGTCGGAGGTGTGGTGTGTTAATGTTCATTCCAATGAATTTTGATGACTCTCGGCAGACGGATATCTTGACTCTTGCATCGATGAAGAACGCACCGAAATGTGATAAGTGGTGTGAATTGCAGAATCCCGTGAACCATCGAGTCTTTGAACGCAAGTTGCGCCCGAGGCCATCAGGCTAAGGGCACGCCTGCCTGGGCGTCGTATGTTTTATCTCTCCTTCCAATGCTTGTCCAGCATATAGCTAGGCCATCATTGTGTGGATGTGAAAGATTGGCCCCTTGTGCTTAGGTGCGGTGGGTCTAAGGATATGTGTTTTGATGGTCTGAAACTTGGCAAGAGGTGGAGGATGCTGGCAGCCGCAAGGCTATTGTTTGAATCCCCCATGTTGTCATGTTTGTTGGGCCTATAGAACAACTTGTTTGGACCCTAATTAAGGCAAAACAATCCTTGGGTGGTTGATTTCCAATCAGATGCGACCCCAGTCAGGGGGCCACCCCAT\n",
            "Description: gi|2765655|emb|Z78530.1|CMZ78530 C.margaritaceum 5.8S rRNA gene and ITS1 and ITS2 DNA\n",
            "Annotations: {}\n",
            "Id: gi|2765654|emb|Z78529.1|CLZ78529\n",
            "Name: gi|2765654|emb|Z78529.1|CLZ78529\n",
            "Name: ACGGCGAGCTGCCGAAGGACATTGTTGAGACAGCAGAATATACGATTGAGTGAATCTGGAGGACTTGTGGTTATTTGGCTCGCTAGGGATTTCCTTTTGTGGTGACCATGATTTGTCATTGGGCCTCATTGAGAGCTTTCATGGCGGGTTTGAACCTCTAGCACGGTGCAGTTTGCACCAAGGTATATAAAGAATCACCGATGAATGACATTATTGTCAAAAAAGTCGGAGGTGTGGTGTGTTATTGGTCATGCCAATGAATTGTTGATGACTCTCGCCGAGGGATATCTTGGCTCTTGCATCGATGAAGAATCCCACCGAAATGTGATAAGTGGTGTGAATTGCAGAATCCCGTGAACCATCGAGTCTTTGAACGCAAGTTGCGCCCGAGGCCATCAGGCTAAGGGCACGCCTGCCTGGGCGTCGTATGTTTTATCTCTCCTTCCAATGCTTGTCCAGCATATAGCTAGGCCATCATTGTGTGGATGTGAAAGATTGGCCCCTTGTGCTTAGGTGCGGTGGGTCTAAGGATATGTGTTTTGATGGTCTGAAACTTGGCAAGAGGTGGAGGATGCTGGCAGCCGCAAGGCTATTGTTTGAATCCCCCATGTTGTCATATTTGTTGGGCCTATAGAACAACTTGTTTGGACCCTAATTAAGGCAAAACAATCCTTGGGTGGTTGATTTCCAATCAGATGCGACCCCAGTCAGCGGGCCACCAGCTGAGCTAAAA\n",
            "Description: gi|2765654|emb|Z78529.1|CLZ78529 C.lichiangense 5.8S rRNA gene and ITS1 and ITS2 DNA\n",
            "Annotations: {}\n",
            "Id: gi|2765652|emb|Z78527.1|CYZ78527\n",
            "Name: gi|2765652|emb|Z78527.1|CYZ78527\n",
            "Name: CGTAACAAGGTTTCCGTAGGTGAACCTGCGGAAGGATCATTGTTGAGACAGTAGAATATATGATCGAGTGAATCTGGATGACCTGTGGTTACTCGGCTCGCCTGATTTGTTGTTGGGCTTCCTTAGGAGCTTACATGGCGGGTTTGAACCTCTACCACGGTGCAGTTTGCGCCAAGTCATATGAAGCATAACTGCAAATGGCACTACTGTCACCAAAAGTTGGAGTGGCAGTGTGTTATTGCATGCGCTAATGGATTTTTGATGACTCTCGGCCAACGGATATCTGGCTCTTTGCATCGATGAAGGAACGCAGCGAAATGCGATAAGTGGTGTGAATTGCAGAATCCCGCGAACCATCGAGTCTTTGAACGCAAGTTGCGCCCGAGGCCATCAGGCTAAGGGCACGCCTGCCTGGGCGTCGTGTATCGCATCTCTCTTGCCAATGCTTACCCGGCATACAACTAGGCTGGCATTGGGTGGATGTGAAAGATTGGCCCCTTGTGCCTAGGTGCGGTGGGTCTAAGGATTGATGTTTTGATGGATCGAAACCTGGCAGGAGGTGGAGGATGCTGGAAGCCGCAAGGCTGTCGTTCGAATCCCCCATGTTGTCATATTTGTCGAACCTATAAAAGAACATGCTTGAACCCCAATGGATTGTAAAATGACCCTTGGCGGTTGATTTCCATTTAGATGCGACCCCAGGTCAGGCGGGCCACCC\n",
            "Description: gi|2765652|emb|Z78527.1|CYZ78527 C.yatabeanum 5.8S rRNA gene and ITS1 and ITS2 DNA\n",
            "Annotations: {}\n",
            "Id: gi|2765651|emb|Z78526.1|CGZ78526\n",
            "Name: gi|2765651|emb|Z78526.1|CGZ78526\n",
            "Name: CGTAACAAGGTTTCCGTAGGTGAACCTGCGGAAGGATCATTGTTGAGACAGTAGAATATATGATCGAGTGAATCTGGAGGACCTGTGGTTACTCGGCTCCCCTGATTTGTTGTTGGGCTTCCTTAGGAGCTTACATGCCGGGTTTGAACCTCTACCACGGTGCAGTTTGCGCCAAGTCATATGAAGCATAACTGAACAATGGCATTATTGTCACCAAAAGTTGGAGTGGCAGTGTGCTATTGCATGCGCTAATGGATTTTTGATGACTCTCGCCAACGGATATCTTGGCTCTTGCATCGATGAAGAACCCAGCGAAATGCGATAAGTGGTGTGAATTGCAGAATCCCGCGAACCATCGAGTCTTTGAACGCAAGTTGCGCCCGAGGCCATCAGGCTAAGGGCACGCCTGCCTGGGCGTCGTGTATCGCATCTCTCTTGCCAATGCTTACCCGGCATACAACTAGGCTGGCATTGTGCGGATGTGAAAGATTGGCCCCTTGTGCCTAGGTGCGGTGGGTCTAAGGATTGATGTTTTGATGGATCGAAACCTGGCAGGAGGTGGAGGATGCTGGAAGCCGCAAGGCTGTCGTTCGAATCCCCCATGTTGTCATATTTGTCGAACCTATAAAAGAACATGCTTGAACCCCAATGGATGTAAAATGACCCTTGGCGGTTGATTTCCATTTAGATGCGACCCCAGGTCAGGCGGGGCCACCCGCTGAGTTTATGT\n",
            "Description: gi|2765651|emb|Z78526.1|CGZ78526 C.guttatum 5.8S rRNA gene and ITS1 and ITS2 DNA\n",
            "Annotations: {}\n",
            "Id: gi|2765650|emb|Z78525.1|CAZ78525\n",
            "Name: gi|2765650|emb|Z78525.1|CAZ78525\n",
            "Name: TGTTGAGATAGCAGAATATACATCGAGTGAATCCGGAGGACCTGTGGTTATTCGGCTTGCCGAGGGCTTTGCTTTTGTGGTGACCCAAATTTGTCGTTGGGCCTCCTCGGGAGCTTTCATGGCAGGTTTCAAACTCTAGCACGGCACAGTTTGTGCCAAGTCATATGAAGCATCACCGACAAATGACATTATTGTCAAAAAAGTTGGAGGGGCGGTGTCCTCCTGTGCATGCCGAATATAATTTTGATGACTCTCGACAAGCGGATATCTTGGCTCTTGCATCGGATGAAGAACCCAGCGAAATGCGATAAGTGGTGTGAATTGCAAGATCCCGTGAACCATCGAGTCTTTTGAACGCAAGTTGCGCCCGAGGCCATCAGGCTAAGGGCACGCCTGCCTGGGCGTCGTGTGTTGTGTCTCTCTTGCCAATGCCTGTCCATATATCTAGGCTTGCATTGTGCGGATGCGAAAGATTGGCCCCTTGTGCCTTGGCGCGTTGGGTCTAAGGAATGTTTTGATGGCCCGAAACTTGGCAGGAGGTGGAGGACATTGGCTGCCACAAGGTTGTCATTTAAATCCCCCATGTTATCGTATTTATCGGACCTATATAATAACTTGTTTGAACCCCAGTGGAGGCAAAATGACCCTTGGATGGTTGACTGCCATTCATATGCGACCCCAGGTCAGGCGGGCCACCCGCTGCA\n",
            "Description: gi|2765650|emb|Z78525.1|CAZ78525 C.acaule 5.8S rRNA gene and ITS1 and ITS2 DNA\n",
            "Annotations: {}\n",
            "Id: gi|2765649|emb|Z78524.1|CFZ78524\n",
            "Name: gi|2765649|emb|Z78524.1|CFZ78524\n",
            "Name: CGTAACAAGGTTTCCGTAGGTGAACCTGCGGAAGGATCATTGTTGAGATAGTAGAATATATGATTGAGTGAATATGGAGGACATGTGGTTACTTGGCTCGTCAGTGCTTTGCTTTTGTGGTGACCTTAATTGGGCCTCCTTAGGAGCTTTCATGGCGGGTTCAAACCTTTAGCACGGCGCAGTTTGTGCCAAGTCATATAAGCATCCCTGATGAATGGCATTGTTGTTAAAAAAGTCGGAGGGGCGGCATGCTGTTGTGCATGCTAATGAATTTTTTGATGACTCTCGCAACGGAACTTGGCTCTTTACATCCGATGAAGAACGCAGCGAAATGCGATAAGTGGTGTGAATTGCAGAATCCCGTGAACCATCGAGTATTTGAACGCAAGTTGCGCCCAAGGCCATCAGGCTAAGGGCACGCCTGCCTGGGCGTCGTGTGCTGCATCTCTCCTNCCAATGCTTGCCCAGCATATAGCTAGGTTAGCATTGTGCGGATGAAATATTGGCCCCTTGTGCTTAGGTGCGGTGGGTCTAAGGATTAGTATTTTGATAGCTCGGAACTCGGCAGGAGGTGGAGAATGTTGGTAGCTGCAAGGCTGCCATTTGAATTCCCCATGTTGTCGTATTTGTTGAACCTATAAAAGAACTTGTTTGAACCCCAATGAAGGAAAAATGACCCTTGGGCGGTTGATTTTCATTCAGATGCAACCCCAGGTCAGGTGGCCACCCTGAGATTAAGC\n",
            "Description: gi|2765649|emb|Z78524.1|CFZ78524 C.formosanum 5.8S rRNA gene and ITS1 and ITS2 DNA\n",
            "Annotations: {}\n",
            "Id: gi|2765648|emb|Z78523.1|CHZ78523\n",
            "Name: gi|2765648|emb|Z78523.1|CHZ78523\n",
            "Name: CGTAACCAGGTTTCCGTAGGTGAACCTGCGGCAGGATCATTGTTGAGACAGCAGAATATATGATCGAGTGAATCCGGTGGACTTGTGGTTACTCAGCTCGACATAGGCTTTGCTTTTGCGGTGACCCTAACTTGTCATTGGGCCTCCTCCCAAGCTTTCCTTGTGGGTGTGAACCTCTAGCACGGTGCAGTATGCGCCAAGTCATATGAAGCATCACTGAGGAATGACATTATTGTCCCAAAAGCTAGAGTGGAAGCGTGCTCTTGCATGCATGCATAATGAATTTTTTATTGACTCTCGACATATGTGGTGTGAATTGCAGAATCCCGTGAACCATCGAGTCTTTGAACGCAAGTTGCGCCCGATGCCATCAGGCTAAGGGCACGCCTGCCTGGGCGTCGTGTGCTGCGTCTCTCCTATCAATGCTTTCCTATCATATAGATTGGTTTGCATTGCGTGGATGCGAAAGATTGGCCCCTTGTGCCTAGGTGCGGTGGGTCTAAGGACTAGTGTTTTGATGGTTCGAAACCTGGCAGGAGGTGGAGGATGTTGGCAGCTATAAGGCTATCGTTTGAACCCCCCATATTGTCGTGTTTGTCGGACCTAGAGAAGAACCTGTTTGAATCCCAATGGAGGCAAACAACCCTCGGGCGGTTGATTGCCATTCATATTGCGACCCAGGTCAGGCGGGGCCACCGCTGAGTTTAAG\n",
            "Description: gi|2765648|emb|Z78523.1|CHZ78523 C.himalaicum 5.8S rRNA gene and ITS1 and ITS2 DNA\n",
            "Annotations: {}\n",
            "Id: gi|2765647|emb|Z78522.1|CMZ78522\n",
            "Name: gi|2765647|emb|Z78522.1|CMZ78522\n",
            "Name: CGTAACAAGGTTTCCGTAGGTGAACCTGCGGAAGGATCATTGTTGAGACAGCAGAATATATGATCGAGTGAATCCGGTGGACTTGTGGTTACTCAGCTCGACATAGGCTTTGCTTTTGCGGTGACCCTAATTTGTCATTGGGCCTCCCCCCAAGCTTTCCTTGTGGGTTTGAACCTCTAGCACGGTGCAGTATGCGCCAAGTCATATGAAGCATCACTGATGAATGACATTATTGTCCAAAAAGTTGGAGTGGAAGCGTGCTATTGCATACATGCAAATGAATTTTTTATGACTCTCGACATATCGTGGTGTGATCGCAGAATCCCGTGAACCATCGAGTCTTTGAACGCAAGTTGCGCCCGATGCCATCAGGCTAAGGGAACGCCTGCCTGGGCGTCGTGTGCTGCGTCTCTCCTGTCAATGGTTATACGTCATATAGACAGGTTTGCATTGCGTGGATGTGAAAGATTGGCCCCTTGTGCCTAGGTGCGGTGGGTCTAAGGACTAGTGTTTTGATGGTTCGAAACCTGGCAGGAGGTGGAGGATGTTGGCAGCTATAAGGCTATCATTTGAATCCCCCATATTGTCGTGTTTGTCGGACCTAGAGAAGAACATGTTTGAATCCCAATGGGGGCAAACAACCCTCGGGCGGTTGATTGCCATTCATATGCGACCCCAGGTCAGGCGGCCACCCGCTGAG\n",
            "Description: gi|2765647|emb|Z78522.1|CMZ78522 C.macranthum 5.8S rRNA gene and ITS1 and ITS2 DNA\n",
            "Annotations: {}\n",
            "Id: gi|2765646|emb|Z78521.1|CCZ78521\n",
            "Name: gi|2765646|emb|Z78521.1|CCZ78521\n",
            "Name: GTAGGTGAACCTGCGGAAGGATCATTGTTGAGACAGTAGAATATATGATCGAGTGAATCCGGTGGACTTGTGGTTACTCAGCTCGACATAGGCTTGGCTTTGGCGGTGACCCTAATTTGCCATTGGGCCTCCTCCAAAGCTTTCCTTGTGGGTTTGAACCTCTAGCACGGTGCAGTATGCGCCAAGTCATATGAAGCATCACCGATGAATGACATTATTGTCAAAAAGTTGGAGTGGAAGCGTGCTATTGCATGCATGCAAATGAATTTTTTATGACTCTCGACAACGGATATCTTGGCTCTTGCATCGATGAAGAACGCAGCAAAATGCGATAAGTGGTGTGAATTGCAGAATCCCGTGAACCATCGAGTCTTTGAACGCAAGTTGCGCCCGATGCCATCAGGCTAAGGGCACGCCTGCCTGGGCGTCGTGTGCTGCGTCTCTCCTGTCAATGCTTTCATGTCATATAGATAGGTTTGCATTGCGTGGATGTGAAAGAATGGCCCCTTGTGCCTAGGTACGGTGGGTCTAAGGACTAGTGTTTTGATGGTTCGAAACCTGGCAGGAGGTGGAGGATGTTGGCAGCTATAAGGCTATCATTTGAATCCCCCATATTGTCGTGTTTGTCGGACCTAGAGAAAAACATGTTTGAATCCCAATGGAGGCAAACAACTCTCGGGCGGTTGATTGCCATTCATATGCGACCCCAGGTCAGGCGGGGCCACC\n",
            "Description: gi|2765646|emb|Z78521.1|CCZ78521 C.calceolus 5.8S rRNA gene and ITS1 and ITS2 DNA\n",
            "Annotations: {}\n",
            "Id: gi|2765645|emb|Z78520.1|CSZ78520\n",
            "Name: gi|2765645|emb|Z78520.1|CSZ78520\n",
            "Name: CGTAACAAGGTTTCCGTAGGTGAACCTGCGGAAGGATCATTGTTGAGACAGCAGAATATATGATCGAGTGAATCCGGTGGACTTGTGGTTACTCAGCTCGCCATAGGCTTTGCTTTTGCGGTGACCCTAATTTGTCATTGGGCCTCCTCCAAAGCTTTCCTTGTGGGTTTGAACCTCTAGCACGGTGCAGTATGCGCCAAGTCATATGAATCATCACCGATGAATGACATTATTGTCCAAAAAGTTGGAGTAGAAGCGTGCTATTGCATGCATGCAATAGAATATTTTATGACTCTCGACAAGGGATATCTTGGCTCTTGCATCGGATGAAGAACGCAGCGAAATTGTGATAAGTGGTGTGAATTGCAGAATCCCGTGAACCATCGAGTATGTGAACGCAAGTTGCGCCCGATGCCATCAGGCTAAGGGCACGCCTGCCTGGGCGTCGTGTGCTGCGTCTCTCCTGTCAATGCTTTCCTGTCATATCGATAGGTTTGCATTGTGTGGATGTGAAAGATTGGCCCCTTGTGCCTAGGTGCGGTGGGTCTAAGGACTAGTGTTTTGATGGTTCGAAACCTGGCAGGAGGTGGAGGATGTTGGCAGCTATAAGGTTGTCATGTGAATCCCCCATATTGTCGTGTTTGTCGGACCTGGAGAAGAACCTGTTTGAATCCCAATGGAGGCAAACAACCCTCGGGCGGTTGATTGCCATTCATATGCGACCCCAGGTCAGGCGGGCCACCCGCTGAGTTT\n",
            "Description: gi|2765645|emb|Z78520.1|CSZ78520 C.segawai 5.8S rRNA gene and ITS1 and ITS2 DNA\n",
            "Annotations: {}\n",
            "Id: gi|2765644|emb|Z78519.1|CPZ78519\n",
            "Name: gi|2765644|emb|Z78519.1|CPZ78519\n",
            "Name: ATATGATCGAGTGAATCTGGTGGACTTGTGGTTACTCAGCTCGCCATAGGCTTTGCTTTTGCGGTGACCCTAATTTGTCATTGGGCCTCCTCCCAAGCTTTCCTTGTGGGTTTGAACCTCTAGCACGGTGCAGTATGCACCAAGTCATATGAAGCATTGCCGATGAATGACATTATTGTCCAAAAGTTGGAGTGGAAGCGTGCTACTGCATGCATGCAAATGAATTTTTTTATGACTCTCGACAACGGATATCTTGGCTCTTGCATCGATGAAGAACGCAGCGAAATGCGATAAGTGGTGTGAATTGCAGAATCCCGTGAACCATCGAGTCTTTGAACGCAAGTTGCGCCCGATGCCATCAGGCTAAGGGCACGCCTGCCTGGGCGTCGTGTGCTGCGTCTCTCCTGTCAATGCTTTCCCATCATATAGATAGGTTTGCATTGTGTGGATGTGAAAGATTGGCCCCTTGTGCCTAGGTGCGGTGGGTCTAAGAACTTAATGTTTTGATGGTTCGAAACCTGGCAGGAGGTGGAGGATGTTGGCAGCTATATAAGGCTATCATTTGAATCCCCCATATTGTCGCGTTTGTTGGACCTAGAGAAGAACATGTTTGAATCCCAATGGAGGCAAACAACCCTCGGGCGGTTGATTGCCATTCATATGCGACCCCAGGTCAGGCGGGGCCACCCGCTGAGTTTA\n",
            "Description: gi|2765644|emb|Z78519.1|CPZ78519 C.pubescens 5.8S rRNA gene and ITS1 and ITS2 DNA\n",
            "Annotations: {}\n",
            "Id: gi|2765643|emb|Z78518.1|CRZ78518\n",
            "Name: gi|2765643|emb|Z78518.1|CRZ78518\n",
            "Name: CGTAACAAGGTTTCCGTAGGTGAACCTGCGGGAGGATCATTGTTGAGATAGTAGAATATTCGATCGAGTGAATCCGGAGGACTTGTGGTTACTCGGCTCGTCGAAGGCTTAACTTTTGTGGTGACCCTGATTTGTAGTTGGGCATCCTCGAGAGCTTTTATGGCGGGTTTGAGCCTCTATCACGGCGCAGTTTGCGCCAAGTCATATGAAGCATCGCCGACGAATTACATTATTGTCCCCCAAACTCGGATGGACGGTGTGTGTTACGCATACCCGTGAACCATCGAGTCTTTGAACGCAAGTTGCGCCCAAGGCCATCAGGCTAAGGGCACGCCTGCCTGGGCGTCGTGTGCTGCATCTCTTTTGCCAATGCTTGCTCGACATACAATTAGGCCAGTATTGCATAGATATGAAAGATTGACCCCTTGTGCTTAGGTGCGGTGGGTCTAAGGATTGGTGTTTTGATGGCCCAAACCCCGGCAGGAGGTGGAGCATGTTGATAGTCGCAAGGCTGTCGTTCAAATCCCACATGTTGTCGTATTTGCCGGACCCACAGAAGAACCTATTTGAACCCCTATGGAGGCAAAACAACCCTTGAGCGATTGATTGCCATTCAGATACGACCCCAGGTCAGGCGGGGCCACCCGCTGAGTTTTCC\n",
            "Description: gi|2765643|emb|Z78518.1|CRZ78518 C.reginae 5.8S rRNA gene and ITS1 and ITS2 DNA\n",
            "Annotations: {}\n",
            "Id: gi|2765642|emb|Z78517.1|CFZ78517\n",
            "Name: gi|2765642|emb|Z78517.1|CFZ78517\n",
            "Name: CGTAACAAGGTTTCCGTAGGTGAACCTGCGGAAGGATCATTGTTGAGACAGTAGAATATACGATCGAGTGAATCCAGAGGACTTGTGGTTACTCGGCTCGTCCAAGTCTTAGCTTTTGTGGCCCTGATTTGTCGTTGGGCATCCTCAGGAGATTTTATGGCGGGTTTGAACCTCTATCACGGTGCAGTTTGCGCCAAGTCATATGAAGCATCACCGATGAATGACATTATTGTCACAAAAGTCGGATGGGCGGTGTGCTGTTGTGCATGCCAATAAATTTTTGATGACTCTCGGCCAACGGATATCTTGCTCTTCCATCGATGAAGAACGCAGCGAAATGCGATAAGTGGTGTGAATTGCAGAATCCCGTGAACCATCGAGTCTTTGAACGCAAGTTGCGCCCAAGGCCATCAGGCTAAGGGCACGCCTGCCTGGGCGTCGTGTGCTGCATCTCTTTTGCCAATGCTTGCCCGACATACAATTAGGACAGTATTGCATAGATATGAAAGATTGACCCCTTGTGCTTAGGTGCGGTGGGTCTAAGGATTGGTGTTTTGGTGGCCCGAACCCCGGCAGGAGGTGGATCATGTTGATAGTCGCAAGACTGTCATTCAAATCCCACATGTTGTCGTATTTGTCGGACCCACAGAAGAACCTATTTGAACCCCAATGGAGGCAAAACAACCCTCGAGCGATTGATTGCCATTCAGATACGACCCCAGGTCAGGCGGGGCCACCCGCTGAGTTTAAGC\n",
            "Description: gi|2765642|emb|Z78517.1|CFZ78517 C.flavum 5.8S rRNA gene and ITS1 and ITS2 DNA\n",
            "Annotations: {}\n",
            "Id: gi|2765641|emb|Z78516.1|CPZ78516\n",
            "Name: gi|2765641|emb|Z78516.1|CPZ78516\n",
            "Name: CGTAACAAGGTTTCCGTAGGTGAACCTGCGGAAGGATCATTGTTGAGACAGTATAATATATGATCGAGTGAATCCGGAGGACTTGTGGTTACTCGGCTCGTCCAAGTCTTAGCTTTTGTGGCCCTGATTTGTCGTTGGGCATCCTCAGGAGCTTTTATGGCGGGTTTGAACCTCTATCACGGCGCAGTTTGCGCCAAGTCATATGAAGCATCACCGACGAATGACATTATTGTCACCAAAGTCGGATGGGCGGTGTGCTATTGTGCATACCAATAATTTTTTGATGACTCTCGTCAACGGATATCTTAGCGAAATGCGATAAGTGGTGTGAATTGCAGAATCCCGTGAACCATCGAGTCTTTGAACGCAAGTTGCGCCCAAGGCCATCAGGCTAAGGGCACGCCTGCCTGGGCGTCGTGTGCTGCATCTCTTTTGCCAATGCTTGCCCGACATACAATTAGGCCAGTATTGCATAGATATGAAAGATTGACCCCTTGTGCTTAGGTGCGGTGGGTCTAAGGATTGGTGTTTTGATGTCCCGAACCCCGGCAGGAGGTGGAGCATGTTGATAGTCGCAAGACTATCGTTCAAATCCCACATGTTGTCGTATTTGTCGGACCCACAGAAGAACCTATTTGAACCCCAATGGAGGCAAAACAACCCTCGAGTGATTGATTGCCATTCAGATATGACCCCAGGTCAGGCGGGGCCACCCGCTGAGTTTAA\n",
            "Description: gi|2765641|emb|Z78516.1|CPZ78516 C.passerinum 5.8S rRNA gene and ITS1 and ITS2 DNA\n",
            "Annotations: {}\n",
            "Id: gi|2765640|emb|Z78515.1|MXZ78515\n",
            "Name: gi|2765640|emb|Z78515.1|MXZ78515\n",
            "Name: CGTAACAAGGTTTCCGTAGGTGAACCTGCGGAAGGATCATTGCTGAGACCGTAGAATAAACGATCGAGTTAATCTGGAGGACCGGTGTACTTCGATCTCCCAGGGGCTTTCGCTACTGTGGTGGCCTTTGATCTGCCATCGGGCCTCCTTGGGAGTGTTCTTGAAGGCGATCAAACTTCTAGCCCGGCGCAGCTTCGCGCCAAGTCTTTTGAGACAAGAATCGGCATAGGGGTGTTCCCTTGTAGCCGGTGGGGGTGGCACTTGATTCGTGCCCCCCAAGTTACATTTTTACAACTCTCGGCAACGGATATCTCGGCTCTTGCATCGATGGAGGACGCAGCGAAATGCGATAAGTGGTGTGAATTGCAGAATCCCGTGAACATCGAGTCTTTGAACGCAAGTTGCGCTCGAGGCCGTCAGGCTAAGGGCACGCCTGCCTGGGCGTTGTGTACTGTGTCTCTCCCACCAATGGTTGTCCAAGAATACCGTTCGGTCGGTGCGGATGTGAGTTTGGCCCCTTGTTCTTCGGTTCAATGGGTCTAAGACCTCGGGCTTTTGATGGTCCAAAATTCGACAAGAGGTGGATGGGCAATGGCTGAGCCAAAGCTGTTGTGCGAATGCCGTATGTTGTCCGATTTGATGGGCCATCATAATTCGTAGGACCCTTCGGAACCCCATTGGTGCCACATCAACCCAACCCATGGGCGGTTGATTGCCATTTGGAAGCAACCCCAGGTCAGGTGAGGCCACCCGCTGAGTTTAAGC\n",
            "Description: gi|2765640|emb|Z78515.1|MXZ78515 M.xerophyticum 5.8S rRNA gene and ITS1 and ITS2 DNA\n",
            "Annotations: {}\n",
            "Id: gi|2765639|emb|Z78514.1|PSZ78514\n",
            "Name: gi|2765639|emb|Z78514.1|PSZ78514\n",
            "Name: CGTAACAAGGTTTCCGTAGGTGGACCTTCGGGAGGATCATTTTTGAAGCCCCCAAATATACGATCGAGATAATCCGGAGGACCGGTGTACTTTGGTCTCCCAGGGGCTTCCGCCGCTGTGGTGACCATGATTTCCCATCGAACCTCCTTGGGAGAGTTCTCTATGGCAATTGAACCCTTGGCCCGGCGCAGTTTCGCTCCAAGTCAAATGAGATAGAACCGACAAGGGTCTTCGTCCTCCATGGATGGACCGGGGAGGGCCGGCGTGCTGCTGTGCCCCCTTAAGATTCGTCTGACAACTCTCGTCAACGGATATCTCGGCTCTTGCATCGATGAAGAACCCAGCGAAATGTGATAAGTGGTGTGAATTGCAGAATCCCGTGAACCATCGAGTCTTTGAACGCAAGTTGCGCCCGAGGCCATCAGGCTAAGGGCACGCCTGCCTGGGCGTTGCGTGCTGCATCTCTCCCAATGCTAAGGTTGAACAGCCATACTGTTCGGCCGGCGAGGATGAGAGTTTGGCCCCTTGTTCTTCGGTGCGATGGGTCCAAGACTTGGGCTTGTGACGGTCCACAAATCCGGCAAGAGGTGGACGGACGGTGGCTGCGACAAAGCTGTTGTGCGAATGCCCTATGTTGTCGTATTTGATGGGCCGGAATGATCCCTTTCGAACCCCGTCGGAGGCACGTCGACCCAACCCATGGGCGGTTGACGGCCATTAGGATGCAACCCCAGGTCAGGTGAGACTACCCGCTA\n",
            "Description: gi|2765639|emb|Z78514.1|PSZ78514 P.schlimii 5.8S rRNA gene and ITS1 and ITS2 DNA\n",
            "Annotations: {}\n",
            "Id: gi|2765638|emb|Z78513.1|PBZ78513\n",
            "Name: gi|2765638|emb|Z78513.1|PBZ78513\n",
            "Name: CGTAACAAGGTTTCCGTAGGTGAACCTGCGGAAGGATCATTGTTGAGACCGCCAAATACACGATCGAGTTAATCCGGAGGACCGGTGTACTTTGGTCTCCCAGGGGCTTCCGCCGCTGTGGTGACCATGATTTGCCATCGAGCCTCATTGGGAGATTTCTCCATGGCAATTGAACCCTTGGCCCGGCGCAGTTTCGCGCCAAGTCAAATGAGATAGAACCGGCAAGGGCATCGTCCTCCATGGAGCCGGGGAGGCCGGCATGCTGCTGTGCCCGAAAGAATTTTCGACAACTCTCGGCAACGGATATCTCGGCTCTTGCATCGATGAAGAACGCAGCGAAATGTGATAAGTGGTGTGAATTGCAGAATCCCGTGAACCATCGAGTCTTTGAACGCAAGTTGCGCCCGAGGCCATCAGGCTAAGGGCACGCCTGCCTGGGCGTTGCGTGCTGCATCTCTCCCAATGCTAAGGTTGAACAGCCATACTGTTCGGCCGGCGAGGATGAGAGTTTGGCCCCTTGTTCTTCTGTGCGATGGGTCCAAGACTTGGGCTTGTGACGGTCCACAAATCCGGCAAGAGGTGGACGGACGGTGGCTGCGACGAAGCTTTTGTGCGAATGCCCTATGTTGTCGTATTTGATGTGCCAGAACGATCCCTTTCGAACCCCTTCGGAGGCACGTCGACCCAACCCATGGGCGGTGACGCCATTAGGATGCAACCCAGTCAGTGAGCTACCGCTGAG\n",
            "Description: gi|2765638|emb|Z78513.1|PBZ78513 P.besseae 5.8S rRNA gene and ITS1 and ITS2 DNA\n",
            "Annotations: {}\n",
            "Id: gi|2765637|emb|Z78512.1|PWZ78512\n",
            "Name: gi|2765637|emb|Z78512.1|PWZ78512\n",
            "Name: CGTAACAAGGTTTCCGTAGGTGGACCTTCGGGAGGATCATTTTTGAAGCCCCCAAAAAAACGATCGAATTAATCCGGAGGGCCGGTGTAGTTTGGTCTCCCAGGGGCCTTGGCTACTGTGGTGACCGTGAATTTCCGTCGAACCCTCTGGGAGGAATTCTTGATGGCAAATGAAACCCTTGGCCCGGCGCAGTTTCGCCCCAAATCAAATGAGATGGAACCGGCGGAGGGCATCGTCCCCCATGGAACCGGGGAGGGCCGGCGTTCTTCCGTTCCCCCAATGAAATTATTTTTTGACAACTCTCGCAACGGATATCTCGGCTCTTGCATCGATGAAGAACGCAGCGAAATGTGATAAGCTGGTGTGAATTGCAGAATCCCGTGAACCATCGAGTCTTTGAACGCAAGTTGCGCCCGAGGCCATCAGGCTAAGGGCACGCCTGCCTGGGCGTTGCGTGCTGCATCTCTCTCCCATTGCTAAGGCTGAACAGGCATACTGTTCGGCCGGCGCGGATGAGTGTTTGGCCCCTTGTTCTTCGGTGCGATGGGTCCAAGACCTGGGCTTTTGACGGCCGGAAATCCGGCAAGAGGTGGACGGACGGTGGCTGCGACGAAGCTGTCGTGCGAATGCCCTGCGTTGTCGTATTTGATGGGCCGGAATAAATCCCTTTTGAACCCCATTGGAGGCACGTCAACCCGTGGGCGGTCGACGGTCATTTGGATCCAACCCCAGGTCAGGTGAGGCCACCCGCTGAGTTTAAGC\n",
            "Description: gi|2765637|emb|Z78512.1|PWZ78512 P.wallisii 5.8S rRNA gene and ITS1 and ITS2 DNA\n",
            "Annotations: {}\n",
            "Id: gi|2765636|emb|Z78511.1|PEZ78511\n",
            "Name: gi|2765636|emb|Z78511.1|PEZ78511\n",
            "Name: CGTAACAAGGTTTCCGTAGGTGAACCTTCGGAAGGATCATTGTTGAGACCCCCAAAAAAACGATCGAGTTAATCCGGAGGACCGGTGTAGTTTGGTCTCCCAGGGGCTTTGGCTACTGTGGTGGCCGTGAATTTCCGTCGAACCTCCTTGGGAGAATTCTTGATGGCAATTGAACCCTTGGCCCGGCGCAGTTTCGCCCCAAGTCAAATGAGATGGAACCGGCGGAGGGCATCGTCCTCCATGGAACCGGGGAGGGCCGGCGTTCTTCCGTTCCCCCCATGAATTTTTTTTTGACAACTCTCGGCAACGGATATCTCGGCTCTTTGCATCCGATGAAAGAACCCAGCGAAATGTGATAAGTGGTGTGAATTGCAGAATCCCGTGAACCATCGAGTCTTTGAACGCAAGTTGCGCCCGAGGCCATCAGGCTAAGGGCACGCCTGCCTGGGCGTTGCGTGCTGCATCTCTCTCCCATTGCTAAGGCTGAACAGGCATACTGTTCGGCCGGCGCGGATGAGTGTTTGGCCCCTTGTTCTTCGGTGCGATGGGTCCAAGACCTGGGCTTTTGACGGCCGGAAATCCGGCAAGAGGTGGACGGACGGTGGCTGCGACGAAGCTGTCGTGCGAATGCCCTACGCTGTCGTATTTGATGGGCCGGAATAAATCCCTTTTGAGCCCCATTGGAGGCACGTCAACCCGTGGGCGGTCGACGGCCATTTGGATGCAACCCCAGGTCAGGTGAGGA\n",
            "Description: gi|2765636|emb|Z78511.1|PEZ78511 P.exstaminodium 5.8S rRNA gene and ITS1 and ITS2 DNA\n",
            "Annotations: {}\n",
            "Id: gi|2765635|emb|Z78510.1|PCZ78510\n",
            "Name: gi|2765635|emb|Z78510.1|PCZ78510\n",
            "Name: CTAACCAGGGTTCCGAGGTGACCTTCGGGAGGATTCCTTTTTAAGCCCCCGAAAAAACGATCGAATTAAACCGGAGGACCGGTTTAATTTGGTCTCCCCAGGGGCTTTCCCCCCTTGGTGGCCGTGAATTTCCATCGAACCCCCCTGGGAGAATTCTTGGTGGCCAATGGACCCTTGGCCCGGCGCAATTTCCCCCCCAATCAAATGAGATAGGACCGGCAGGGGGCGTCCCCCCCCATGGAACCGGGGAGGGCCGGCATTCTTCCGTTCCCCCCTCGGATTTTTTGACAACTCTCGCAACGGATATCTCGCCTCTTTGCATCGGATGGAAGAACGCAGCGAAATGTGATAAGTGGTGTGAATTGCAGAATCCCGTGAACCATCGAGTCTTTGAACGCAAGTTGCGCCCGAGGCCATCAGGCTAAGGGCACGCCTGCCTGGGCGTTGCGTGCTGCATCTCTCCCATTGCTAAGGTTGAACGGGCATACTGTTCGGCCGGCGCGGATGAGAGATTGGCCCCTTGTTCTTCGGTGCGATGGGTCCAAGACCTGGGCTTTTGACGGTCCAAAATCCGGCAAGAGGTGGACGGACGGTGGCTGCGACAAAGCTGTCGTGCGAATGCCCTGCGTTGTCGTTTTTGATGGGCCGGAATAAATCCCTTTTGAACCCCATTGGAGGCACGTCAACCCATGGGCGGTTGACGGCCATTTGGATGCAACCCCAGGTCAGGTGAGCCACCCGCTGAGTTTA\n",
            "Description: gi|2765635|emb|Z78510.1|PCZ78510 P.caricinum 5.8S rRNA gene and ITS1 and ITS2 DNA\n",
            "Annotations: {}\n",
            "Id: gi|2765634|emb|Z78509.1|PPZ78509\n",
            "Name: gi|2765634|emb|Z78509.1|PPZ78509\n",
            "Name: CGTAACAAGGTTTCCGTAGGTGAACCTGCGGAAGGATCATTGTTGAGACCGCCAAATATACGATCGAGTTAATCCGGAGGACCGGTGTAGTTTGGTCTCCCAGGGGCTTTCGCCGCTGTGGTGACCGTGATTTGCCATCGAGCCTCCTTGGGAGATTTCTTGATGGCAATTGAACCCTTGGCCCGGCGCAGTTTCGCGCCAAGTCATATGAGATAGAACCGGCGGAGGGCGTCGTCCTCCATGGAGCGGGGAGGGCCGGCATGCTCCGTGCCCCCCCATGAATTTTTCTGACAACTCTCGGCAACGGACGTAACAAGGTTTAAATGTGATAAGCAGGTGTGAATTGCAGAATCCCGTGAACCATCGAGTCTTTGAACGCAAGTTGCGCCCGAGGCCATCAGGTTAAGGGCACGCCTGCCTGGGCGTTGCGTGCTGCATCTCTCCCATTGCTAAGGTTGAACGGGCATACTGTTCGGCCGGCGCGGATGAGAGTTTGGCCCCTTGTTCTTCGGTGCGATGGGTCCAAGACCTGGGCTTTTGACGGTCCAAAATCCGGCAAGAGGTGGACGGACGGTGGCTGCGACAGAGCTGTCGTGCGAATGCCCTACGTTGTCGTTTTTGATGGGCCAGAATAAATCCCTTTTGAACCCCATTGGAGGCACGTCAACCCAATGGGGGGTGACGGGCATTTGGTTAACCCCGGCAAGTTAAGGCACCCGTTAATTTTAGGA\n",
            "Description: gi|2765634|emb|Z78509.1|PPZ78509 P.pearcei 5.8S rRNA gene and ITS1 and ITS2 DNA\n",
            "Annotations: {}\n",
            "Id: gi|2765633|emb|Z78508.1|PLZ78508\n",
            "Name: gi|2765633|emb|Z78508.1|PLZ78508\n",
            "Name: CGTAACAAGGTTTCCGTAGGTGAACCTGCGGAAGGATCATTGTTGAGACCGCCAAATATACGATCGAGTTAATCCGGAGGACCGGTGTAGTTTGGTCTCCCAGGGGCTTTCGCCGCTGTGGTGACCGTGATTTGCCATCGAGCCTCCTTGGGAGATTTCTTGATGGCAATTGAACCCTTGGCCCGGCGCAGTTTCGCGCCAAGTCATATGAGATAGAACCGGCAGGGGGCGTCGTCCTCCATGGAGCCGGGGAGGGCCGGCATGCTGCCGTGCCCCCAATGAATTTTTTGACAACTCTCGGCAACGGATATCTCGGCTCTTGCATCGATGAAGAACGCAGCGAAATGTGATAAGTGGTGTGAATTGCAGAATCCCGTGAACCATCGAGTCTTTGAACGCAAGTTGCGCCCGAGGCCATCAGGCTAAGGGCACGCCTGCCTGGGCGTTGCGTGCTGCATCTCTCCCATTGCTAAGGTTGAACGGGCATACTGTTCGGCCGGCGCGGATGAGAGTTTGGCCCCTTGTTCTTCGGTGCGATGGGTCCAAGACCTGGGCTTTTGACGGTCCAAAATCCGGCAAGAGGTGGACGGACGGTGGCTGCGACAGAGCTGTCGTGCGAATGCCCTACGTTGTCGTATTTGATGGGCCGGAATAAATCCCTTTGAACCCCATTGGAGGCACGTCAACCCCATGGGCGGTGACGGCCACTTGGATGCAACCCAGTCAGTGAGCCACCGCTGA\n",
            "Description: gi|2765633|emb|Z78508.1|PLZ78508 P.longifolium 5.8S rRNA gene and ITS1 and ITS2 DNA\n",
            "Annotations: {}\n",
            "Id: gi|2765632|emb|Z78507.1|PLZ78507\n",
            "Name: gi|2765632|emb|Z78507.1|PLZ78507\n",
            "Name: CGTAACAAGGTTTCCGTAGGTGAACCTGCGGAAGGATCATTGTTGAGACCCCCAAAAAAACGATCGAGTTAATCCGGAGGACCGGTGTAGTTTGGTCTCCCAGGGGCTTTGGCTACTGTGGTGACCGTGAATTTCCGTCGAGCCTCCTTGGGAGATTTCTTGATGGCAATTGAACCCTTGGCCCGGCGCAGTTTCGCCCCAAGTCAAATGAGATGGAACCGGCGGAGGGCATCGTCCTCCATGGAACCGGGGAGGGCCGGCGTGCTTCCGTCCCCCAATGAATTTTTTTGACAACTCTCGCAACGGATATCTCGCTCTTGCATCGATGAAGAACACAGCGAAATGTGATAAGTGGTGTGAATTGCAGAATCCCGTGAACCATCGAGTCTTTGAACGCAAGTTGCGCCCGAGGCCATCAGGCTAAGGGCACGCCTGCCTGGGCGTTGCGTGCTGCATCTCTCTCCCATTGCTAAGGCTGAACAGGCATACTGTTCGGCCGGCGCGGATGAGTGTTTGGCCCCTTGTTCTTCGGTGCGATGGGTCCAAGACCTGGGCTTTTGACGGCCGGAAATCCGGCAAGAGGTGGACGGACGGTGGCTGCGACGAAGCTGTCGTGCGAATGCCCTGCGTTGTCGTATTTGATGGGCCGGAATAAATCCCTTTGAACCCCATTGGAGGCACGTCAACCCGTGGCGGTCGACGGCCATTTGGATGCAACCCAGTCAGTGAGCCACCGCTGA\n",
            "Description: gi|2765632|emb|Z78507.1|PLZ78507 P.lindenii 5.8S rRNA gene and ITS1 and ITS2 DNA\n",
            "Annotations: {}\n",
            "Id: gi|2765631|emb|Z78506.1|PLZ78506\n",
            "Name: gi|2765631|emb|Z78506.1|PLZ78506\n",
            "Name: CGTAACAAGGTTTCCGTAGGTGAACCTGCGGAAGGATCATTGTTGAGACCGCAAAATATACGATCGAGTTAATCCGGAGGACTGGTGTAGTTTGGTCTCCCAGGGGCGTTGGCTACTGCGGTGACCATGATTTTCCATCGAGCCTCCTCGGGAGATTTCTTGATGGCAATTGAACCCTTGGCCCGGCGCAGTTTCGCGCCAAGTCGTATGAGATAGAACCGGCAGAGGGCTTCGTCCTCCATGGAACCGGGGAGGACCGGCATGCCGCCGTACCCCCTTTGAATCGGGCTGACAACTCTCGTTCAAGGAGCCCTCAGCTCATAATGTGATAAGTGGTGTGAATTGCAGAATCCCGTGAACCATCGAGTCTTTGAACGCAAGTTGCGCCCGAGGCCATCAGGCTAAGGGCACGCCTGCCTGGGCGTTGCGTGCTGCATCTCTCCCGTTGCTAAGGTCGAACAGGCATATACTGTTCGGCCGGCGCGGATGAGAGTTTGGCCCCTTGTTCTTCGGTGCGATGGGTCCAAGACCTGGGCTTTTGACGGTAAAAAATCCGGCAAGAGGTGGACGGACGGTGGCTGCGACAAAGCTGTCGTGCGAATGCCCTACGTTGTCGTATTTGATGGGCCAGAATAAATCCCTTTTGAACCCCATTGGAGGCACGTCAACCCATGGGCGGTTTGACGGCCATTGGATGCCAACCCAGTCAGGTGAGGCCACCCGCTGA\n",
            "Description: gi|2765631|emb|Z78506.1|PLZ78506 P.lindleyanum 5.8S rRNA gene and ITS1 and ITS2 DNA\n",
            "Annotations: {}\n",
            "Id: gi|2765630|emb|Z78505.1|PSZ78505\n",
            "Name: gi|2765630|emb|Z78505.1|PSZ78505\n",
            "Name: CGTAACAAGGTTTCCGTAGGTGAACCTGCGGAAGGATCATTGTTGAGACCGCCAAATATACGATCGAGTTAATCCGGAGGACTGGTGTAGTTTGGTCTCCCAGGGGCGGTGGCTACTGCGGTGACCATGATATTCCATCGAGCCTCCTCGGGAGATTTCTTGATGGCAATTGAACCCGTGGCCCGGCGCAGTTTCGCGCCAAGTCGTATGAGATAGAACCGGCAGAGGTCTTCGTCCTCCATGGAACCGGGGAGGCCCGGCATACCACCATACCCCCAATGAATCTTTGTGACAACTCTCGTCAATGTGATAAGTGGTGTGAATTGCAGAATCCCGTGAACCATCGAGTCTTTGAACGCAAGTTGCGCCCGAGGCCATCAGGCTAAGGGCACGCCTGCCTGGGCGTTGCGTGCTGCATCTCTCCCGTTGCTAAGGTCGAACAGGCATACTGTTCGGTCGGCGCGGATGAGAGTTTGGCCCCTTGTTCTTCGGTGCGATGGGTCCAAGACCTGGGCTTTTGACGGTAAAAAATCCGGCAAGAGGTGGACGGACGGTGGCTGCGACAAAGCTGTCGTGCGAATGCCCTGCGTTGTCGTATTTGATGGGCCGGAATAAATCCCTTTTGAACCCCATTGGAGGCACGTCAACCCATGGGCGGTTGACGGCCATTTGGATGCAACCCCAGGTCAGGTGAGCCACCCGCTGAGTTTT\n",
            "Description: gi|2765630|emb|Z78505.1|PSZ78505 P.sargentianum 5.8S rRNA gene and ITS1 and ITS2 DNA\n",
            "Annotations: {}\n",
            "Id: gi|2765629|emb|Z78504.1|PKZ78504\n",
            "Name: gi|2765629|emb|Z78504.1|PKZ78504\n",
            "Name: CGTAACAAGGTTTCCGTAGGTGAACCTTCGGAAGGATCATTGTTGAGACCGCAAAATATACGATCGAGTTAATCCGGAGGACTGGTGTAGTTTGTCTCCCAGGGGCGTTGGCTACTGCGGTGACCATGATTTTCCATCGAGCCTCCTCGGGAGATTTCTTGATGGCAATTGAACCCTTGGCCCGGCGCAGTTTCGCGCCAAGTCGTATGAGATAGAACCGTCAGAGGGCATCGTCCCTCCATGGAGCCGGGGAGGGCCGGCATGCCCGCCGTGCCCCCAATGAATCTTTTTGACAACTCTCGCAACGGATATCTCGCTCTTCATCGATGAAGAACGCAGCGAAATGTGATAAGTGGTGTGAATTGCAGAATCCCGTGAACCATCGAGTCTTTGAACGCAAGTTGCGCCCGAGCCATCAGGCTAAGGGCACGCCTGCCTGGGCGTTGCGTGCTGCATCTCTCCCGTTGCTAAGGTCGAACAGACATACTGTTCGGCCGGCGCGGATGAGAGTTTGGCCCCTTGTTCTTCGGTGCGATGGGTCCAAGACCTGGGCTTTTGACGGTACCAAATCCGACAAGAGGTGGACGGACGGTGGCTGCGACAAAACTGTCGTGCGAATGCCCTACGTTGTCGTATTTGATGGGCCAGAATAAATCCCTTTTGAACCCCATTGGAGGCACGTCAACCCATGGGCGGTGACGGCCATTGGATGCAACCCCAGTCAGTGAGCCACCGCTGAGTAA\n",
            "Description: gi|2765629|emb|Z78504.1|PKZ78504 P.kaiteurum 5.8S rRNA gene and ITS1 and ITS2 DNA\n",
            "Annotations: {}\n",
            "Id: gi|2765628|emb|Z78503.1|PCZ78503\n",
            "Name: gi|2765628|emb|Z78503.1|PCZ78503\n",
            "Name: DNACGTAACCAGGTTTCCGTAGGTGAACCTCCGGAAGGATCCTTGTTGAGACCGCCAAATATACGATCGAGTTAATCCGGAGGACCGGTGTAGTTTGGTCTCCCAGGGGCTTTCGCCGCTGTGGTGTCCGTGATTTACCATCGAGCCTCCTTGGGAGATTTCTTGATGGCAATTGAACCCATGGCCCGGCGCAGTTTCGCGCCAAGTCATATGAGATAGAACCGGCAGGGGGCGTCGTCCTCCATGGAACCGGGGAGGGCCGGCATGCTACCGTACCCCCAATGAATTATTTTGACAACTCTCGGCAACGGAGTCTCAGCTCTTTGTGATAAGTGGTGTGAATTGCAGAATCCCGTGAACCATCGAGTCTTTGAACGCAAGTTGCGCCCGAGGCCATCAGGCTAAGGGCACGCCTGCCTGGGCGTTGCGTGCTGCATCTCTCCCATTGCTAAGGTTGAACGGGCATACTGTTCGGCCGGCGCGGACGAGAGTTTGGCCCCTTGTTCTTCGGTGCGATGGGTCCAAGACCTGGGCTTTTGACGGTCCAAAATCCGGCAAGAGGTGGACGGACGGTGGCTGCGACAAAGCTGTCGTGCGAATGCCCTACGTTGTCGTATTTGATGGGCCAGAATAAATCCCTTTTGAACCCCATTGGAGGCACGTCAACCCATGGGCGGTTGACGGCCATTTGGATGCAACCCCAGGTCAGGTGAGCCACCCGCTGAGATAA\n",
            "Description: gi|2765628|emb|Z78503.1|PCZ78503 P.czerwiakowianum 5.8S rRNA gene and ITS1 and ITS2\n",
            "Annotations: {}\n",
            "Id: gi|2765627|emb|Z78502.1|PBZ78502\n",
            "Name: gi|2765627|emb|Z78502.1|PBZ78502\n",
            "Name: CGTAACCAGGTTTCCGTAGGTGAACCTCCGGAAGGATCATTGTTGAGACCGCCAAATATACGATCGAGTTAATCCGGAGGACCGGTGTAGTTTGGTCTCCCAGGGGCTTTCGCCCCTGTGGTGACCGTGATTTGCCATCGAGCCTCCTTGGGAGATTTCTTGATGGCAATTGAACCCATGACCCGGCGCAGTTTCGCGCCAAGTCATATGAGATAGAACCGGCAGGGGTCGTCGTCCTCCATGGAGCCGGGGAGGGCCGGCATACTACCGTCCCCCCAATGAATTTTATATTGACAACTCTCGGCCGGAATCTCGGCTCTTGCATCGATGGAAGGACGCAGCGAAAATGTGATAAGTGGTGTGAATTGCAGAATCCCGTGAACCATCGAGTCTTTGAACGCAAGTTGCGCCCGAGGCCATCAGGCTAAGGGCACGCCTGCCTGGGCGTTGCGTGCTGCATCTCTCCCATTGCTAAGGTTGAACGGGCGTACTGTTCGGCCGGCGCGGACGAGAGTTTGGCCCCTTGTTCTTCGGTGCGATGGGTCCAAGACCTGGGCTTTTGACGGTCCAAAATCCGGCAAGAGGTGGACGGACGGTGGCTGCGACAAAGCTGTCGTGCGAATGCCCTACGTTGTCGTATTTGATGGGCCAGAATAAATCCCTTTTGAACCCCATTGGAGGCACGTCAACCCATGGGCGGTTGACGGCCATTTGGATGCAACCCCAGGTCAGGTGAGGCCACCCCGTGAGTTTACGC\n",
            "Description: gi|2765627|emb|Z78502.1|PBZ78502 P.boissierianum 5.8S rRNA gene and ITS1 and ITS2 DNA\n",
            "Annotations: {}\n",
            "Id: gi|2765626|emb|Z78501.1|PCZ78501\n",
            "Name: gi|2765626|emb|Z78501.1|PCZ78501\n",
            "Name: CGTAACAAGGTTTCCGTAGGTGAACCTGCGGAAGGATCATTGTTGAGACCGCAAAATATACGATCGAGTTAATCCGGAGGACCGGTGTAGTTTGGTCTCCCAGGGGCTTTGGTTACTGTGGTGACCGTGACTTTGCCGTCGAGCCTCCTTGGGAGATTTCTTGATGGAAATTGAACCCTTGGCCCGGCGCAGTTTCGCGCCAAGTCATATGAGATGGAACCGGCGGAGGGAATCGTCCTCCATGGAGCCGGGGAGGGCCGGCGTGTTGCCGTGCCCCCAATGAATTTTTTTTTGGGCAACTCTCGGCCAAACGGGAAATCTCGGCTCCTTGCATCGGATGGAAGGACGCAGCGAAATTGTGATAAGTGTTGTGAATTGCAGAATCCCGTGAACCATCGAGTCTTTTGAACGCAAGTTGCGCCCGAGGCCATCAGGCTAAGGGCACGCCTGCCTGGGCGTTGCGTGCTGCATCTCTCTCCCATTGCTAAGGCTGAACAGGCATACTGTTCGGCCGGCGCGGATGAGTGTTTGGCCCCTTGTTCTTCGGTGCGATGGGTCCAAGACCTGGGCTTTTGACGGCCGGAAATCCGGCAAGAGGTGGACGGACGGTGGCTGCGACGAAGCTGTCGAGCGAATGCCCTACGCTGTCGTATTTGATGGGCCGGAATAAATCCCTTTTGAACCCCATTGGAGGCACGTCAACCCGTGGGCGGTCGACGGCCATTTGGATGCAACCCCAGGTCAGGTGAGGCCACCCGCTGAGTTTAAGA\n",
            "Description: gi|2765626|emb|Z78501.1|PCZ78501 P.caudatum 5.8S rRNA gene and ITS1 and ITS2 DNA\n",
            "Annotations: {}\n",
            "Id: gi|2765625|emb|Z78500.1|PWZ78500\n",
            "Name: gi|2765625|emb|Z78500.1|PWZ78500\n",
            "Name: DNACGTAACAAGGTTTCCGTAGGTGAACCTGCGGAAGGCTCATTGTTGAGACCGCAAAATAATTGATCGAGTTAATCCGGAGGACCGGTGTAGTTTGGTCTCCCAGGGGCTTTGGTTACTGTGGTGACCGTGACTTTGCCGTCGAGCCTCCTTGGGAGATTTCTTGATGGCAATTGAACCCTTGGCCCGGCGCAGTTTCGCGCCAAGTCATATGAGATGGAACCGGCGGAGGGCATCGCCCTCCATGGAGCCGGGGAGGGCCGGCGTCCTGCCGTGCCCCCAATGAATTTTTCTTTGGGAAAACTTCTCGGCCAACGGGAATCTCGGCTCTTTGCATCGGATGGAAGGACGCAGCGAATTGTGATAAGTGGTGTGAATTGCAGAATCCCGTGAACCATCGAGTCTTTGAACGCAAGTTGCGCCCGAGGCCATCAGGCTAAGGGCACGCCTGCCTGGGCGTTGCGTGCTGCATCTCTCTCCCATTGCTAAGGCTGAACAGGCATACTGTTCGGCCGGCGCGGATGAGTGTTTGGCCCCTTGTTCTTCGGTGCGATGGGTCCAAGACCTGGGCTTTTGACGGCCGGAAATCCGGCAAGAGGTGGACGGACGGTGGCTGCGACGAAGCTGTCGTGCGAATGCCCTACGCTGTCGTATTTGATGGGCCGGAATAAATCCCTTTTGAACCCCATTGGAGGCACGTCAACCCGTGGGCGGTCGACGGCCATTTGGATGCAACCCCAGGTCAGGTGAGGCCACCCGCTGAGTTTAAG\n",
            "Description: gi|2765625|emb|Z78500.1|PWZ78500 P.warszewiczianum 5.8S rRNA gene and ITS1 and ITS2\n",
            "Annotations: {}\n",
            "Id: gi|2765624|emb|Z78499.1|PMZ78499\n",
            "Name: gi|2765624|emb|Z78499.1|PMZ78499\n",
            "Name: CGTAACAAGGTTTCCGTAGGTGAACCTGCGGAGGGATCATTGTTGAGATCGCATAATAATTGATCGAGATAATCCAGAGGATCGGTTTACTTTGGTCACCCTTGGGCGCCTGCTATTGCGGTGACCTAGATTTTCCATGGAGGGAGCCTCCTTGGGAGCTTTCTTGCCGGCGATCTAACCCTTGCCCGTCGCAGTTTTGCACCAAGTCATATGACACATAAATGGTGAAGGACATACCCCCTTCGTTGAATTCGAGGAGGGGACGGCATGTGGCCTTGACCTCTCCCAATTATTTTTTTGACAACTCTCAGCCAACGGATATCTCGGCTCTTTGCATCGGATGGAGGACGCAGCGAAATGCGATAAGTGTGTGAATTGCAAGATCCCGTGAACCATCGAGTCTTTGAACGCAAGTTGCGCCCAAGCCATCAGGCCAAGGGCACGCCTGCCTGGGCATTGCGAGTCATATCTCTCCCTTAATGAGGCTGTCCATGCATACTGTTCAGCCGGTGCGGATGTGAGTTTGCCCCCTTGTTCTTTGGTGCTGGGGGTCTAAGAGCTGCAGGGGCTTTTGATGGTCCTAAATTCGGCAAGAGGTGGACGAATCATGCTACAACAAAACTGTTGGGCGAATGCTCCAGGTTGTCGTATTAGATGGGCCATCATAATCTAGAGACCCTTGTGAACCCCATTGGAGGCCCATCAACCCATGATCAGTTGATGGCCTTTTGGATGCGACCCCAGGTCAGGTGAGCAACC\n",
            "Description: gi|2765624|emb|Z78499.1|PMZ78499 P.micranthum 5.8S rRNA gene and ITS1 and ITS2 DNA\n",
            "Annotations: {}\n",
            "Id: gi|2765623|emb|Z78498.1|PMZ78498\n",
            "Name: gi|2765623|emb|Z78498.1|PMZ78498\n",
            "Name: CGTAACAAGGTTTCCGTAGGTGAACCTGCGGAAAGGTCATTGTTGAGATCACATAATAATTGATCGAGTTACTCCAGAGGATCAGTTTACTCCGGTCACCCATGGGTGCTTGCTATTGCGGTGACCTAGATTTGCCATGGAGCCTCCTTGGGAGTTTTCTTGCCGGCGATCTTACCCTTGCCCGGGGCAGTTTTGCCCCAAGTCATATGACACAATAATGGCGAAGGAGGGGGCGGCATTTTGCCCTTGACCCTACAATCACTCCCCCTCTCCAAATTATTTTTGGACAACTCTCAGCAACGGATATCTCGGCTCTTGCATCGATGAAGAACCCAGCGAAATGCGATAAGTGGTGTGAATTGCAGGATCCCGTGAACCATCGAGTCTTTGAACGCAAGTTGCGCCCAAGGCCATCAGGCCAAGGGCACGCCTGCCTGGGCATTGCGAGTCATATCTCTCCCTTAATGAGGCTGTACATGCATACTGTTCAGCCGGTGCGGATGTGAGTTTGGCCCCTTGTTCTTCGGTGCTGGGGGTCTAAGAGCTGCAGGGGCTTTTGATGGTCCTAAATTCGGCAAGAGGTGGACGAATTACAACAAAACTGTTGTGCGAATGCTCCAGGTTGTCGTATTAGATGGGCCAGCATAATCTAAAGACCCTTGTGAACCCCACTGGAGGCACATCAACCCGTGATCAGTTGATGGCCATTTGTTGCGACCCCAGTCAGTGAGCAACCCGCTGAGTTTAAGC\n",
            "Description: gi|2765623|emb|Z78498.1|PMZ78498 P.malipoense 5.8S rRNA gene and ITS1 and ITS2 DNA\n",
            "Annotations: {}\n",
            "Id: gi|2765622|emb|Z78497.1|PDZ78497\n",
            "Name: gi|2765622|emb|Z78497.1|PDZ78497\n",
            "Name: CGTAACAAGGTTTCCGTAGGTGAACCTGCGGAAGGATCATTGTTGAGATCACATAATAATTGATCGAGTGAATCCAGAGGATCAGTTTACTTTGGTCGCCCATGGGCGCTTGCTATTGCGGTGACCTAGATTTGCCATGGAGCCTCCTTGGGAGCTTTCTTGCCGGCGATCTAACCCTTGCCCGGCGCAGTTTTGCGCCAAGTCACATGACACATAAATGGTGAAGGGCACGGCCCTTTGTGAATTCAAGGAGGTGAAGGGCATGTGGCCTTGAGCCTACACTCCCTCCCCCTCTCCAAATTATTTTTTGTGAAACAACTCTCAGCAACGGAGATCTCAGCTCTTGCATCGATGAAGGAACGCAGCGAAATGCGATAAGTGGTGTGAATTGCAGAATCCCGTGAACCATCGAGTCTTTGAACGCAAGTTGCGCCCAAGGCCATCAGGCCAAGGGCACGCCTGCCTGGGCATTGCGAGTCATATCTCTCCCTTAACGAGGCTGTCCAGGCATACTGTTCAGCCGGTGCGGGTGTGAGTTTGGCCCCTTGTTCTTTGGTGCTGGGGGTCTAAGAGCTGCAGGGGCTTTTGATGGTCCTAAATTCGGCAAGAGGTGGACGCAACGCGCTACAACAAAACTGTTGTGCGAATGCCCCGGGTTGTCGTATTAGATGGGCCAGCATAATCTAAACACCCTTGTGAACCCCATTGGAGGCCCATCAACCCATGATCAGTTGATGGCCATTTGGTTGCGACCCCAGGTCAGGTGAGGCAACCCGCTGAGTTTAAGC\n",
            "Description: gi|2765622|emb|Z78497.1|PDZ78497 P.delenatii 5.8S rRNA gene and ITS1 and ITS2 DNA\n",
            "Annotations: {}\n",
            "Id: gi|2765621|emb|Z78496.1|PAZ78496\n",
            "Name: gi|2765621|emb|Z78496.1|PAZ78496\n",
            "Name: CGTAACAAGGTTTCCGTAGGTGAACCTGCGGAAGGATCATTGTTGAGATCGCATAATAATTGATCGAGTTAATCCAGAGGATCGGTTTACTTTGGTCACCCTTGGGCGCCTGCTATTGCGGTGACCTAGATTTGCCATGGAGGGAGCCTCCTTGGGAGCTTTCTTGCCGGCGATCTAACCCTTGCCCGGCGCAGTTTTGCGCCAAGTCATATGACACATAATTGGTGAAGGGCATATCCCTTCGTGAATTCGAGGAGGGGCCGGCATGTGGCCTTGACCTCTCCAATTAATTTTTTGAACAACTCTCAGCAACGGATATCTCGGCTCTTGCATCGATGGAGGGACGCACCGAAATGCGATAAGTGGTGTGAATTGCAGAATCCCGTGAACCATCGAGTCTTTTGAACGCAAGTTGCGCCCAAGGCCATCAGGCCAAGGGCACGCCTGCCTGGGCATTGCGAGTCATATCTCTCCCTTAATGAGGCTGTCCATGCATACTGTTCAGCCGGTGCGGATGTGAGTTTGGCCCCTTGTTCTTTGGTGCTGGGGGTCTAAGAGCTGCAGGGGCTTTTGATGGTCCTAAATTCGGCAAGAGGTGGACGAATCATGCTACAACAAAACTGTTGGGCGAATGCTCCAGGTTGTCGTATTAGATGGGCCATCATAATCTAGAGACCCTTGTGAACCCCATTGGAGGCCCATCAACCCATGATCAGTTGATGGCCTTTTGGGTTGCGACCCCAGGTCAGGTGAGGCAACCAGCTGAGTTTAAGC\n",
            "Description: gi|2765621|emb|Z78496.1|PAZ78496 P.armeniacum 5.8S rRNA gene and ITS1 and ITS2 DNA\n",
            "Annotations: {}\n",
            "Id: gi|2765620|emb|Z78495.1|PEZ78495\n",
            "Name: gi|2765620|emb|Z78495.1|PEZ78495\n",
            "Name: CGTAACAAGGTTTCCGTAGGTGAACCTCCGGAAGGATCATTGTTGAGATCACATAATAATTGATCGAGATAATCCAGAGGATCGGTTTACTTTGGTCACCCATGGGCGCTTGCTATTGCGGTGACCTAGAGTTGCCATGGAGAGCCTCCTTGGGAGCTTTCTTGCCGGCGATCTAACCCTTGTCCGGCGCGGTTTTGCGCCAAGTCATATGACACATAATTGGTGAAGGGCATAGCCCTTCGTGTATTCAAGGAGGGGGGGCGGCATGTGGCCTTGACACTGCACTCGCTCTCCCCCTCTCCAAAGTATTTTTCTGAACAACTCTCAGCAACGGATATCTCAGCTCTTGCATCGGATGGAGGAACGCAGCGAAATCCGATAAGTGGTGTGAATTGCAGAATCCCGTGAACCATCGAGTCTTTTGAACGCAAGTTGCGCCCGAGGCCATGAGGCCAAGGGCACGCCTGCCTGGGCATTGCGAGTCATCTCTCTCCCTCAATGAGGCTGTCCATGCATACTGTTCAGCCGGTGCGGATGTGAGTTTGGCCCCTTGTTCTTTGGTGCTGGGGGTCTAAGAGCAGCAGGGGCTTTTGATGGTCCTAAATTCGGCAAGAGGTGGACGAATCAGGCTACAACAACACTGTTGTTGTGCGAATGCTCCAGGTTGTCGTATTAGATGGGCCGGCATAATCCAGAGACCCTTGTGAACCCCATTGGAGGCCCATCAACCCATGATCAGTTGATGGCCATTCGGTTGCGACCCCAGGTCAGTGAGCAACCCGCTGAGTG\n",
            "Description: gi|2765620|emb|Z78495.1|PEZ78495 P.emersonii 5.8S rRNA gene and ITS1 and ITS2 DNA\n",
            "Annotations: {}\n",
            "Id: gi|2765619|emb|Z78494.1|PNZ78494\n",
            "Name: gi|2765619|emb|Z78494.1|PNZ78494\n",
            "Name: CGTAACAAGGTTTCCGTAGGTGAACCTGCGGAAGGATCATTGTTGAGGTCGCATAATAATTGATCGAGTTAATCTGGAGGATCAGTTTACTTTGGTCACCCATGGACATTTACTGTTGCAGTGACCTAGATTTACCATCGGGCCTCCTTGGGAACTTTCCTGCTGGCGATCTATACCCTTGCCCGGCGCAGTAATGCGCCAAATCAAATGACCCATAATTAATGAAGGGGGACGGCATACTGCCTTGACCAACTCCCCATTATTGAGGTAACACTCTCAACTTCGGATATCTCAGGTGTGAATTGCAGAATCCCGTTAACATCGAGTCTTTGAACGCAAGTTGGGCCCGAGGCCAACAGGCCAAGGGAACGCCTGTCTGGGCATTGCGAGTCATATCTCTCCCTTAATGAGGCTGTCCATACGTACTGTTCAGCCGGTGCGGATGTGAGTTTGGCCCCTTGTTCTTCGGTACGGGGGGTCTAAGAGCTGCATGGGCTTTTGATGGTCCTAAATACGGCAAGAGGTGGACGAACTATGCTACAACAAAACTGTTGTGCGAATGCCCCGGGTTGTTGTGTTTAATCAGAAGACCCTTTTGAACCCCATTGGAGGCCCATCGACCCATGATCAGTTGAATGGCCATTTGGTTGCGATCCCAGGTCAGGTGAGGCAACCCGCTGAGTTTAAG\n",
            "Description: gi|2765619|emb|Z78494.1|PNZ78494 P.niveum 5.8S rRNA gene and ITS1 and ITS2 DNA\n",
            "Annotations: {}\n",
            "Id: gi|2765618|emb|Z78493.1|PGZ78493\n",
            "Name: gi|2765618|emb|Z78493.1|PGZ78493\n",
            "Name: CGTAACAAGGATTCCGTAGGTGAACCTGCGGAAGGATCATTGTTGAGATCGCATAATAATTGATCGAGTTAATCTGGAGGATCGGTTTACTTTGGTCACCCATGGGCATTTTCTGTTGCAGTGACCTAGAATTTCCATCGGGCCTCCCTGGGAGCTTTCCTGCTGGCGATCTATACCCTTGCCCGGCGCAGTTTTGCGCCAAGTCAAATTTTACATAAGTGGTGAAGGGGGGCGGCATTCTTCCTTGACCAGCCCCCAAGTATTTAGGTAACAACTCTCAGCAACGGATATCTCGGCTCATGCATCGATGAAGGAACGCAGCGAGATTCGATAAATGGTGTGCCTTGCAGAATCCCGTGAACCATCGAATCTTTGAACGCAAGTTGCGCGCGAGGCCATCAGCCCAAGGGGACGCCTGCCTGGACATTGCGACTCATATCTCTCCCTTAATGAGGCTGTCCAAACGTACTGGTCATCCGGTGTGGATGTGAGTTTGGCCCCTTGTTCTTCGGTACGGGGGGTCTAAGAGCTGCATGGGCTTTTGATGGTCCTAAATACGGCAAGAGGTGGACGAACTATGCTACAACAAAACTGTTGTGCGAATGCCCCGGGTTGTTGTGTTTAATCAGAAGACCCTTTTGAACCCCATTGGAGGCCCATCGACCCATGATCAGTTGAATGGCCATTTGGTTGCGATCCCAGGTCAGGTGAGGCAACCC\n",
            "Description: gi|2765618|emb|Z78493.1|PGZ78493 P.godefroyae 5.8S rRNA gene and ITS1 and ITS2 DNA\n",
            "Annotations: {}\n",
            "Id: gi|2765617|emb|Z78492.1|PBZ78492\n",
            "Name: gi|2765617|emb|Z78492.1|PBZ78492\n",
            "Name: CGTAACAAGGTTTCCGTAGGTGAACCTGCGGAAGGATCATTGTTGAGATCGCATAATAATTGATCGAGTTAATCTGGAGGATCAGTTTACTTTGGTCACCCACGGGCATTTGCTGTTGCAGTGACCTAGAATTTGCCATCGAGCCTCCTTGGGAGCTTTCTTGCTGGCGATCTATACCCTTGCCCGGCGCAGTTTTGCGCCAAGTCATATGTCACATAATTGGTGAAGGGGGGGAGCGTACTGCCTTGACCCACTCCAAATTATTTTTTTAACAACTCTCAGCAACGGATATCTCGGCTCTTGCATCGATGTAGAACCCAGCGAAATGCGATACTGGTGTGATTTGCAGAATCCCGTGGACCATCGAGTCTTTGAACGCAAGTTGCGCCCGAGGCCATCAGGCCAAGGGCACGCCTGCCTGGGCATTGCGAGTCAAATCTCTCCCTTAATGAGGCTGTCCATACATACTGTTCAGCCGGTGCGGATGTGAGTTTGGCCCCTTGTTCTTTGGGACGGGGGGTCTAAGAGCTGCACGGGCTTTTGATGGTCCTAAATACGGCAAGAGGTGGACGAATTATGCTACAACAAAACTGTTGTGCGAATGCCCCGGGTTGTTGTGTTACATGGGCCAGCTTAATCAGAAGACCCTTTTGGACCCCATTGGAGGCCCATCAACCCATGATCAGTTGATTGGCCATTTGGTTGCGATCCCAGTCAGGTGAGGCACACCGCTGAGTTTAATA\n",
            "Description: gi|2765617|emb|Z78492.1|PBZ78492 P.bellatulum 5.8S rRNA gene and ITS1 and ITS2 DNA\n",
            "Annotations: {}\n",
            "Id: gi|2765616|emb|Z78491.1|PCZ78491\n",
            "Name: gi|2765616|emb|Z78491.1|PCZ78491\n",
            "Name: CGTAACAAGGTTTCCGTAGGTGAACCTGCGGAAGGATCATTGTTGAGATCGCATAATAATTGATCGAGTTAATCTGGAGGATCAGTTTACTTTGGTCACCCACGGGCATTTGCTGTTGCAGTGACCTAGATTTGCCATCGGGCCTCCTTAGGAGCTTTCTTGCTGGCGATCTATACCCTTGCCCGGCGCAGTTTTGCGCCAAGTCATATGACACATAATTGGTGTTGGGGGGAGGCGTGCTGCCTTGACCCGCTCCAAATTATATTTTTAACAACTCTCAGCAACGGATATCTCGGCTCTTGCATCGATGAAGAACCAGCGAAATGCGATAAATGGTGTGAATTGCAGAATCCCGTGAACCATCGAGTCTTTGAACGCAAGTTGCGCCCGAGGCCATCAGGCCAAGGGCACGCCTGCCTGGGCATTGCGAGTCATATCTCTCCCTTAATGAGGCTGTCCATACATACTGTTCAGCCGGTGCGGATGTGAGTTTGGCCCCTTGTTCTTTGGTACGGGGGGTCTAAGAGCTGCATGGGCTTTTGATGGTCCTAAATACGGCAAGAGGTGGACGAACTATGCTACAACAAAATGTTGTGCGAATGCCCCGGGTTGTTGTGTTACATGGACCAGCATAATCAGAAGACCCTTTGGACCCCATTAGAGGCCCATCAACCCATGATCAGTTGAATGGCCATTTGTTGCGATCCCAGTCAGGTGAGCAACCCGCTGAGATAAGC\n",
            "Description: gi|2765616|emb|Z78491.1|PCZ78491 P.concolor 5.8S rRNA gene and ITS1 and ITS2 DNA\n",
            "Annotations: {}\n",
            "Id: gi|2765615|emb|Z78490.1|PFZ78490\n",
            "Name: gi|2765615|emb|Z78490.1|PFZ78490\n",
            "Name: CGTAACAAGGTTTCCGTAGGTGAACCTGCGGAAGGATCATTGTTGAGATCACATAATAATTGATCGAGTTAATCTGGAGGATCAGTTTACTTTGGTCACCCATGGGCATTTGCTGTTGCAGTGACCGAGATTTGCCATCGAGCCTCCTTGGGAGCTTTCTTGCTGGCGATCTGAACCCTAGTCCGGCGCAGTTTTGCGCCAAGTCATATGGCACATAATTGGTGAAGGGGGCGGCATGCTGCCTCGACCCTCCCCAAATTATTTTTTAACAACTCTCAGCAACGGATATCTCGGCTCTTGCATCGATGAAGAACGCAGCGAAATGCGATAAATGGTGTGAATTGCAGAATCCCGTGAACCATCGAGTCTTTGAACGCAAGTTGCGCCCGAGGCCATCAGGCCAAGGGCACGCCTGCCTGGGCATTGCGAGTCATATCTCTCCCTTAATGAGGCTGTCCAAACATACTGTTCAGCCGGTGCGGATGTGAGTTTGGCCCCTTGTTCTTTGGTACGGGGGGTCTAAACGCTGCATGGGCTTTTGATGGTCCTAAATACGGCAAGAGGTGGACGACTGTTCTGCAACAAGTGTTGTGCGAATGCCCCGCGTTGTCGTATTAGATGGGCCAGCATAATTTGAAGACCCTTTTGAACCCCATTGGAGGCCCGTCAACCCATGATCAGTTGACGGCCATTTGGTTGCGACCCCAGTCAGGTGAGCAACCAGCTGA\n",
            "Description: gi|2765615|emb|Z78490.1|PFZ78490 P.fairrieanum 5.8S rRNA gene and ITS1 and ITS2 DNA\n",
            "Annotations: {}\n",
            "Id: gi|2765614|emb|Z78489.1|PDZ78489\n",
            "Name: gi|2765614|emb|Z78489.1|PDZ78489\n",
            "Name: CGTAACAAGGTTTCCGTAGGTGAACCTGCGGAAGGATCATTGTTGAGATCACATAATAATTGATCGAGTTAATCTGGAGGATCAGTTTACTTTGGTCACCCGAGGGCATTTGCTATTGCAGTGACCGAGATTTGCCATCGAGCCTCCTTGGGAGCTTTCTTGCTGGCGATCTAAACCCGAGCCCGGCGCAGTTTTGCGCCAAGTCATATGACACATAATTGGTGAAGGGGGCGGCATGCTGCCTTGACCCTCCCCAGATTATTTTTTAACAACTCTCAGCAACGGATATCTCGGCTCTTGCATCGATGAAGAACGCAGCGAAATGCGATAAATGGTGTGAATTGCAGAATCCCGTGAACCATCGAGTCTTTGAACGCAAGTTGCGCCCGAGGCCATCAGGCCAAGGGCACGCCTGCCTGGGCATTGCGAGTCATATCTCTCCCTTAATGAGGCTGTCCATACATACTGTTCAGCCGGTGGGGATGTGGGTTTGGCCCCTTGTTCATTGGTACGGGGGGTCTAAGAGCTGCATGGGATTTTGATGGTCCTAAATACGGCAAGAGGTGGACGAACTATGCTACAACAAAACTGTTGTGCGAATGCCCCGAGTTGTCGTATTAGATGGGCCCAGCATATCTGAAGACCCTTTTGAACCCCATGGAGGCCCATCAACCCATGATCAGTTGATGGCCATTTGGTTGCGACCCCAGGTCAGGTGAGGCAACCCGCTGAGTTTAGGC\n",
            "Description: gi|2765614|emb|Z78489.1|PDZ78489 P.druryi 5.8S rRNA gene and ITS1 and ITS2 DNA\n",
            "Annotations: {}\n",
            "Id: gi|2765613|emb|Z78488.1|PTZ78488\n",
            "Name: gi|2765613|emb|Z78488.1|PTZ78488\n",
            "Name: CTGTAGGTGAACCTGCGGAAGGATCATTGTTGAGATCACGCAATAATTGATCGAGTTAATCTGGAGGATCAGTTTACTTTGGTCACCCATGGGCATTTGTTATTGCAGTGACCGAGATTTGCCATCGAGCCTCCTTGGGAGCTTTCTTGCTGGCGATCTTAACCCTAGCCCGGCGCAGTTTTGCGCCAAGTCATACGACACATAATTGGTGAAGGGGGCGGCATGGTGCCTTGACCCTCCCCTAATTATTTTCTAACAACTCTCATCAACGGGATGGAGAACGCAGCGAAATGCGATAAATGGTGTGAATTGCAGAATCCCGTGAACCATCGAGTCTTTGAACCCAAGTTGCGCCCGAGGCCATCAGGCCAAGGGCACGCCTGCCTGGGCATTGCGAGTCAAATCTCTCCCTTAATGAGGCTGTCCATACATACTGTTCAACCGGTGCGGATGTGAGTTTGCCCCCTTGTTCATTGGTACGGGGGGTCTAAGAGCTGCATGGGCTTTTGATGGTCCTAAAAACGGCAAGAGGTGGACGAACAACGCCACAACCAAACTGTTGTGCGGATCCCCCGGGTTGTCGTATTAGATGGGCCATCATAATCTGAAGACCCTTTTGAACCCCATCGGAGGCCCATCAACCCATGATCAGTTGATGGACATTTGTTGCGACCCCAGTCAGGTGAGCAACCGGCT\n",
            "Description: gi|2765613|emb|Z78488.1|PTZ78488 P.tigrinum 5.8S rRNA gene and ITS1 and ITS2 DNA\n",
            "Annotations: {}\n",
            "Id: gi|2765612|emb|Z78487.1|PHZ78487\n",
            "Name: gi|2765612|emb|Z78487.1|PHZ78487\n",
            "Name: CGTAACAAGGTTTCCGTAGGTGAACCTGCGGAAGGATCATTGTTGAGATCACATAATAATTGATCGAGTTACTCTGGAGGATCAGTTTACTTTGGTCACCCATGGGCATTTGCTATTGCAGTGACCGGGATTTGCCATCGAGCCTCCTTGGGAGCTTTCTTGCTGGCGATCTAAACCCTAGCCCGGCGCAGTTTTGCGCCAAGTCATATGACACATAATTGGTGAAGGGGGCGGCATGCTGCCTTTACCCTCCCCAAATTATTTTTTAACAACTCTCAGCAACGGATATCTCGGCTCTTGCATCGATGAAGAACGCAGCGAAATGCGATAAATGGTGTGAATTGCAGAATCCCGTGAACCATCGAGTCTTTGAACGCAAGTTGCGCCCGAGGCCATCAGGCCAAGGGCACGCCTGCCTGGGCATTGCGAGTCATATCTCTCCCTTAATGAGGCTGTCCATACATATTGTTCAGCCGGTGCGGATGTGAGTTCGGCCCCTTGTTCTTCGGTACGGGGGGTCTAAGAGCAGCATGGGCTATCGATGGTCCTAAATGCGGCAAGAGGTGGACGAACTATGCTACAACAAAACTGTTGTGCGAATGCCCCGGGTTGTCGTATTAGATGGGCCAGCGTAATCTAAAGACCCTTTTGAACCCCATTAGAGGCCCATCAACCCATGATCAGTTGGGGCCACTTGTTGCGACCCCAGTCAGGTGAGCAACCGCTGAGTAA\n",
            "Description: gi|2765612|emb|Z78487.1|PHZ78487 P.hirsutissimum 5.8S rRNA gene and ITS1 and ITS2 DNA\n",
            "Annotations: {}\n",
            "Id: gi|2765611|emb|Z78486.1|PBZ78486\n",
            "Name: gi|2765611|emb|Z78486.1|PBZ78486\n",
            "Name: CGTCACGAGGTTTCCGTAGGTGAATCTGCGGGAGGATCATTGTTGAGATCACATAATAATTGATCGAGATTATCTGGAGGATCAGTTTACTTTGGTCACCCATGGACATTTGCTATTGCAGTGCCCGAGATTTGCCATCGAGCCTCCTTGGGAGCTTTCTTGCTGGCGATCTAAACCCTAGCCCGGCGCAGTTTTGCGCCAAGTCATATGACACATAATTGGTGAAGGGTGCGGCATGGTGCCTGACCCTCCCCAAATTATTTCTTAACAACTCTCAGCAACGGATATCTCGCTCTTGCATCGATGAAGAACGCAGCGAAATGCGATAAATGGTGTGAATTGCAGAATCCCGTGAACCATCGAGTCTTTGAACGCAAGTTGCGCCCGAGGCCATCAGGCCAAGGGCACGCCTGCCTGGGCATTGCGAGTCATATCTCTCCCTTAATGAGGCTGTCCATACATACTGTTCAGCCGGTGCGGATGTGAGTTTGGCCCCTTGTTCATTGGTACGGGGGGTCTAAGAGCTGCGTGGGCTTTTGATGGTCCTAAATACGGCAAGAGGTGGACGAACTATGCTACAACAAAACTGTTGTGCGAATGCCCCGGGTTGTCGTATTAGATGGGCCAGCATAATCTAAAGACCCTTTTGAACCCCATTGGAGGCCCATCAACCCATGATCAGTTGATGGCCATTTGGTAGCGACCCCAGGTCAGGTGAGGCAACCCGCTGA\n",
            "Description: gi|2765611|emb|Z78486.1|PBZ78486 P.barbigerum 5.8S rRNA gene and ITS1 and ITS2 DNA\n",
            "Annotations: {}\n",
            "Id: gi|2765610|emb|Z78485.1|PHZ78485\n",
            "Name: gi|2765610|emb|Z78485.1|PHZ78485\n",
            "Name: CTGAACCTGGTGTCCGAAGGTGAATCTGCGGATGGATCATTGTTGAGATATCATAATAATTGATCGAGTTAATCTGGAGGATCAGTTTACTTTGGTCACCATGGGCATTTGCTATTGCAGTGACCGAGATTTGCCATCGAGCCTCCTTGGGAGCTTTCTTGCTGGCGATCTAAACCCTAGCCCGGGGCAGTTTTGCGCCAAGTCATATGACACATAATTGGTGAAGGGTGCGGCATGGTGCCTTGACCCTCCCCAAATTATTTCTTAACAACTCTCAGCAACGGATATCTCGGCTCTTGCATCGATGAAGAACGCAGCGAAATGCGATAAATGGTGTGAATTGCAGAATCCCCGTGAACATCGAGTCTTTGAACGCAAGTTGCGCCCGAGGCCATCAGGCCAAGGGCACGCCTGCCTGGGCATTGCGAGTCATATCTCTCCCTTAATGAGGCTGTCCATACATACTGTGCAGCCGGTGCGGATGTGAGTTTGGGCCCTTGTTCATTGGTACGGGGGGTCTAAGAGCTGCGTGGGCTTTTGATGGTCCTAAATACGCCAAGAGGTGGACGAACTATGCTACAACAAAACTGTTGTGCGAATGCCCCGGGTTGTCGTATTAGACGGGCCAGCACAATCTAAAGACCCCTTTGAACCCCATTGGAGGCCCATCAACCCATGATCAGTTGATGGCCATGTGTTGCGACCCCAGTCAGCTGAGCAACCCCTGATTTAGTA\n",
            "Description: gi|2765610|emb|Z78485.1|PHZ78485 P.henryanum 5.8S rRNA gene and ITS1 and ITS2 DNA\n",
            "Annotations: {}\n",
            "Id: gi|2765609|emb|Z78484.1|PCZ78484\n",
            "Name: gi|2765609|emb|Z78484.1|PCZ78484\n",
            "Name: DNACGTAACAAGGTTTCCGTAGGTGAACCTGGGGAAGGATCATTGTTGAGATCACATAATAATTGATCGAGTTAATCTGGAGGATCAGTTTACTTTGGTCACCCATGGGCATTTGGCTATTGCAGTGACCGAGAGTTTACCATCGAGCCTCCATGGGAGCTTTCTTGCTGGCGATCTAAACCCTAGCCCGGCGCAGTTTTGGCCCAAGTCATATGACACATAATTGTGAAGGGGCGGCATGTTTCCTACCCTCCCAACTCTCAGCAACGGATATCTCGCTCTTGCATCGATGAAGAACGCAGCGAAATGCGATAAATGGTGTGAATTGCAGAATCCCGTGAACCATCGAGTCTTGGAACGCAAGTTGCGCCCGAGGCCATCAGGCCAAGGGCACGCCTGCCTGGGCATTGCGAGTCATATCTCTCCCTTAATGAGGCTGTCCATACATACTGTTCAGCCGGTGCGGATGTGAGTTTGGCCCCTTGTTCATTGGTACGGGGGGTCTAAGAGCTGCGTGGGCTTTTGATGGTCCTAAATACGGCAAGAGGTGGACGAACTATGCTACAACAAAACTGTTGTGCGAATGCCCCGGGTTGTCGTATTAGATGGGCCAGCATAATCTAAAGACCCTTTGACACCCCATTGGAGGCCCATCAACCCATGATCAGTTGATGGTCCATTGGGTTGCGACCCCAAGTCAGGTGAAGCAACTCCCTGAGTTTT\n",
            "Description: gi|2765609|emb|Z78484.1|PCZ78484 P.charlesworthii 5.8S rRNA gene and ITS1 and ITS2\n",
            "Annotations: {}\n",
            "Id: gi|2765608|emb|Z78483.1|PVZ78483\n",
            "Name: gi|2765608|emb|Z78483.1|PVZ78483\n",
            "Name: CGTAACAAGGTTTCCGTAGGTGAACCTGCGGAAGGATCATTGTTGAGATCACATAATAATTGATCGAGTTAATCTGGAGGATCAGTTTACTTTGGTCACCCATGGGCATTTGCTATTGCAGTGACCGAGATTTGCCATCGAGCCTCCTTGGGAGCTTTCTTGCTGGCGATCTAAACCCTAGCCCGGCGCAGTTTTGCGCCAAGTCATATGACACATAATTGGTGAAGGGGGCGGCATGCTGCCTTGACCCTCCCCCAAATTATTTTTTAACAACTCTCAGCAACGGAAATCTGGCCTCTTGCATGGATGAAGACCAAACCGAAATCATAAATGGTGTGAATTGCAGAATCCCGTGAACAATCGAGTCTTTGAACGCAAGTTGCGCCCGAGGCCATCAGGCCAAGGGCACGCCTGCCTGGGCATTGCGAGTCATATCTCTCCCTTAATGAGGCTGTCCACACATATCTGTTCAGCCGGTGCGGATGTGAGTTTGGCCCCTTGTTCATTGGTACGGGGGGTCTAAGAGCTGCATGGGCTTTTGTTGGTCCTAAATACGGCAAGAGGTGGACGAACTATGCTACAACAAAACTGTTGTGCGAATGCCCCGGGTTGTCGTATTAGATGGGCCAGCATAATCTAAAGACCCTTTTGAACCCCATTGGAGGCCCATCAACCCATGATCAGTTGATGGCCATTTGGTTGCGACCCCAGGTCAAGTGAAGCAACCCCTGAGTTTAGCA\n",
            "Description: gi|2765608|emb|Z78483.1|PVZ78483 P.villosum 5.8S rRNA gene and ITS1 and ITS2 DNA\n",
            "Annotations: {}\n",
            "Id: gi|2765607|emb|Z78482.1|PEZ78482\n",
            "Name: gi|2765607|emb|Z78482.1|PEZ78482\n",
            "Name: TCTACTGCAGTGACCGAGATTTGCCATCGAGCCTCCTGGGAGCTTTCTTGCTGGCGATCTAAACCGTAGCCCGGCGCAGTTTTGCGCCAAGTCATATGACACATAATTGGTGAAGGGGGCGGCATGCTGCCTTGACCCTCCCCAAATTATTTTTTAACAACTCTCNGCAACGGATATCTCGCCTCTTCATCGATGAAGAACGCAGCGAAATGCGATAAATGGTGTGAATTGCAGAATCCCGTGAANCCATCGAGTCTTTGAACGCAAGTTGCGCCCGAGGCCATCAGGCCAAGGGCACGCCTGCCTGGGCATTGCGAGTCATATCTCTCCCTTAATGAGGCTGTCCATACATACTGTTCAGCCGGTGCGGATGTGCGTTTGGCCCCTTGTTCATTGGTACGGGGGGTCTAAGAGCTGCGTGGGCTTTTGATGGTCCTAAATACGGCAAGAGGTGGACGAACTATGCTACAACAAAACTGTTGTGCGAATGCCCCGGGTTGTCGTATTAGATGGGCCAGCATAATCTAAAGACCCTTTTGAACCCCATTGGAGGCCCATCAACCCATGATCAGTTGATGGCCATTTGGTTGCGACCCCAGGTCAGGTGAGGCAACCCGCTGAGTTTAGCA\n",
            "Description: gi|2765607|emb|Z78482.1|PEZ78482 P.exul 5.8S rRNA gene and ITS1 and ITS2 DNA\n",
            "Annotations: {}\n",
            "Id: gi|2765606|emb|Z78481.1|PIZ78481\n",
            "Name: gi|2765606|emb|Z78481.1|PIZ78481\n",
            "Name: CGTAACAAGGTTTCCGTAGGTGAACCTGCGGAAGGATCATTGTTGAGATCACATAATAATTGATCGAGTTAATCTGGAGGATCAGTTTACTTTGGTCACCCATGGGCATTTGCTATTGCAGTGACCGAGATTTGCCATCGAGCCTCCTTGGGAGCTTTCTTGCTGGCGATCTAAACCCTAGCCCGGCGCAGTTTTGCGCCAAGTCATATGACACATAATTGGCGAAGGGGGCGGCATGGTGCCTTGACCCTCCCCAAATCATTTTTTTAACAACTCTCAGCAACGGAAGGGCACGCCTGCCTGGGCATTGCGAGTCATATCTCTCCCTTAATGAGGCTGTCCACACATACTGTTCAGCCGGTGCGGATGTGAGTTTGGCCCCTTGTTCATTGGTACGGGGGGTCTAAGAGCTGCGTGGGCTTTTGTTGGTCCTAAATACGGCAAGAGGTGGACGAACTATGCTACAACAAAACTGTTGTGCGAATGCCCCGGGTTGTCGTATTAGATGGGCCAGCATAATCTAAAGACCCTTTTGAACCCCATTGGAGGCCCATCAACCCATGATCAGTTGA\n",
            "Description: gi|2765606|emb|Z78481.1|PIZ78481 P.insigne 5.8S rRNA gene and ITS1 and ITS2 DNA\n",
            "Annotations: {}\n",
            "Id: gi|2765605|emb|Z78480.1|PGZ78480\n",
            "Name: gi|2765605|emb|Z78480.1|PGZ78480\n",
            "Name: CGTAACAAGGTTTCCGTAGGTGAACCTGCGGAAGGATCATTGTTGAGATCACATAATAATTGATCGAGTTAATCTGGAGGATCAGTTTACTTTGGTCACCCATGGGCATTTGCTATTGCAGTGACCGAGATTTGCCATCGAGCCTCCTTGGGAGCTTTCTTGCTGGCGATCTAAACCCTAGCCCGGCGCAGTTTTGCGCCAAGTCATATGACACATAATTGGCGAAGGGGGCGGCATGCTGCCTTGACCCTCCCCAAATTATTTTTTAACAACTCTCAGCAACGGATAGGCCATCAGGCTAAGGGCACGCCTGCCTGGGCATTGCGAGTCATATCTCTCCCTTCAATGAGGCTGTCCACACATACTGTTCAGCCGGTGCGGATGTGAGTTTGGCCCCTTGTTCATTGGTACGGGGGGTCTAAGAGCTGCGTGGGCTTTTGTTGGTACCTAAATACGGCAAGAGGTGGACGAACTATGCTACAACAAAAATGTTGTGCGAATGCCCCGGGTTGTCGTATAGATGGGCCAGCATAATCTAAAGACCCTTTTGAACCCCATTGGAGGCCCATCAACCCATGATCAGTTGA\n",
            "Description: gi|2765605|emb|Z78480.1|PGZ78480 P.gratrixianum 5.8S rRNA gene and ITS1 and ITS2 DNA\n",
            "Annotations: {}\n",
            "Id: gi|2765604|emb|Z78479.1|PPZ78479\n",
            "Name: gi|2765604|emb|Z78479.1|PPZ78479\n",
            "Name: CGTAACAAGGTTTCCGTAGGTGAACCTGCGGAAGGATCATTGTTGAGATCACATAATAATTGATCGAGTTAATCAGGAGGATCAGGTTACTTTGGTCACCCATGGGCATTTGCTGTTTCAGTGACCTAGATTTGCCATCGAGCCGAACTAAACCCTTGCCCGGCGCAGATTTGCGCCAATTTATATGAGACATTACTGGAAGGGGAGGGATGCTGCCTTGCCTTGCCCCCCAAATTATTTTTTAACAACTCTCAGCAACGGATATCTCGCCTCTTGCATCGATGAAGAACGCAGCGAAATGCGATAAATGGTGTGAATACAGAGATCCCGTGAACCATCGAGTCTTGAACGCAAGTTGCGCCCGAGGCCATCAGGCCAAGGGCACGCCTGCCTGGGCATTGCGAGACATATCTCTCCCTTAATGAGGCTGTCGTTCAGCCGGTGCGGATGTGAGTTTGGCCCCTTGTTCTTTGGTACGGGGGGTCTAAGAGCTGCATGGGCTTTTGATGGTCCTAAATACGGCAAGAGGTGGACGAACTATGCGACAACAGAACTGTTGTGCGAATGCCCCGGGTTGTCGTATTAGATGGGCCAGCATAATCTAAAGACCCTTTTGAACCCCATTGGAGGCCCATCAACCCAAGATCAGTTGACGGCCATTTGGATGCGACCCCAGGTCAGGTGAGGCAACCCTCTGAGT\n",
            "Description: gi|2765604|emb|Z78479.1|PPZ78479 P.primulinum 5.8S rRNA gene and ITS1 and ITS2 DNA\n",
            "Annotations: {}\n",
            "Id: gi|2765603|emb|Z78478.1|PVZ78478\n",
            "Name: gi|2765603|emb|Z78478.1|PVZ78478\n",
            "Name: CGTAACAAGGTTTCCGTAGGTGAACCTCCGGAAGGATCAGTGTTGAGATCACATAATAATTGATCGAGTTAATCTGGGGGATCAGTTTACTTTGGTCACCCATGGGCATTTGCTGTTGCAGTGGCCTAGAGTTTGCCATCGAGCCGATCTAAACCCTTGCCCGGCGCAGTTTTGCGCCAAGTCATATGACACATAACTGGAAGGGGCGGCATGCTGCCATGGCTCCCCCAAATATTGATAATGGCGTGATAGCAGATCCCTGAACATCGAGTTTTGAACGCATGTTGCGTCCGAGGCCATCAGGTCAAGGGGACGCCTGCCTGGAAATTGTGAGACATATCTCTCCCTTAATGAGGCTGCCATACATACTGTTCAGCCGGTGCGGATGTGAGTTTGGCCCCTTGTCCTTTGGTACGGGGGTCTAAGAGCTGTATGGGTTGGATGGTCCTAAATACGGCAAGAGGTGGACGAGCTATGTGACAACAGAACTGTTGTGCGAATGCCCCGGTTGTCGTTTAGATGGGTCAGCATAATCTAAAGACCCTTTTGACCCCCATTGGAGGCCCATCAACCCATTATCAGTTGAGGACATTTGGTTGCGACCCAGGTCAGATGAGGCACCCGCTGAGTTTAGGC\n",
            "Description: gi|2765603|emb|Z78478.1|PVZ78478 P.victoria 5.8S rRNA gene and ITS1 and ITS2 DNA\n",
            "Annotations: {}\n",
            "Id: gi|2765602|emb|Z78477.1|PVZ78477\n",
            "Name: gi|2765602|emb|Z78477.1|PVZ78477\n",
            "Name: CGTAACAAGGTTTCCGTAGGTGAACCTGCGGAAGGATCATTGTTGAGATCACATGATAATTGATCGAGTTAATCTGGAGGATCAGTTTGCTTTGGTCACCCATGGGCATTTGCTGTTGCAGTGACCTAGATTTGCCATCGAGCCGATCTAAACCCTTGCCCGGCGCAGTTTTGCGCCAAGTCATATGACACATAATTGGAAGGGGCGGCATGCTGCCTTGCCCTCCCCAAATATTTGTTAACCAACTCTCAGCAACGAGTATCTCGGCTCTTGCATCGGATGGAAGGACGCAGCGAAATGCGATAAATGGTGTGAATTGCAAGAATCCCTGAACCATCGAGTCTTTGGAACGCAAGTTGCGGCCGAGGCCATCAGGCCAAGGGCACGCCTGCCTGGGCATTGCGAGACATATCTCTCCCTTAATGAGGCTGTCCACACATACTGTTCAGCCGGTGCGGATGTGAGTTTGGCCCCTTGTTCTTTGGTACGGGGGGTCTAAGAGCTGCATGGGCTTTTGATGGTCCTAAATACGGCAAGAGGTGGACGAACTATGCGACAACAGAACTGTTGTGCGAATGCCCCGGGTTGTCGTATTAGATGGGCCAGCATAATCTAAAGACCCTTTTGAACCCCATTGGAGGCCCATCAACCCATGATCAGTTGACGGCCATTTGGTTGCGACCCCAGGTCAGGTGAGGCAACCGCTGAGTTTATGC\n",
            "Description: gi|2765602|emb|Z78477.1|PVZ78477 P.victoria 5.8S rRNA gene and ITS1 and ITS2 DNA\n",
            "Annotations: {}\n",
            "Id: gi|2765601|emb|Z78476.1|PGZ78476\n",
            "Name: gi|2765601|emb|Z78476.1|PGZ78476\n",
            "Name: CGTAACAAGGTTTCCGTAGGTGAACCTGCGGAAGGATCATTGTTGAGATCACATGATAATTGATCGAGTTAATCTGGAGGATCAGTTTACTTTGGTCACCCATGGGCATTTGCTGTTGTAGTGACCTAGATTTGCCATCGAGCCGATCTAAACCCTTGCCCGGCGCAGTTTTGCGCCAAGTCATATGACACATAATTGGAAGGGCGGCATGCTGCCTTGGCCCTCCCCAAATTATTTTTTTAACAACTCTCAGCAACGGATATCTCGGCTCTTAGGCCATCCGGCCAAGGGCACGCCTGCCTGGGCATTGCGAGACATATCTCTCCCTTAATGAGGCTGTCCATACATACAGTTCAGCCGGTGCGGATGTGAGTTTGGCCCCTTGTTCTTTGGTACGGGGGGTCTAAGAGCTGCATGGGCTTTTGATCCACCTAAATACGGCAAGAGGTGGACGAACTATGCGACAACAGAACTGTTGCGCGAATGCCCCGGGTTGTCGTATTAGATGGGCCAGCATAATCTAAAGACCCTTTTGAATCCCATTGGAGGCCCATCAACCCATGATCAGTTGACGGCCATTTGGTTGCGACCC\n",
            "Description: gi|2765601|emb|Z78476.1|PGZ78476 P.glaucophyllum 5.8S rRNA gene and ITS1 and ITS2 DNA\n",
            "Annotations: {}\n",
            "Id: gi|2765600|emb|Z78475.1|PSZ78475\n",
            "Name: gi|2765600|emb|Z78475.1|PSZ78475\n",
            "Name: CGTAACAAGGTTTCCGTAGGTGAACCTGCGGAAGGATCATTGTTGAGATCACATAATAATTGATCGAGTTAATCTGGAGGATCAGTTTACTTTGGTCACCCATGGGCATCTGCTCTTGCAGTGACCTGGATTTGCCATCGAGCCTCCTTGGGAGCTTTCTTGCTGGCGATCTAAACCCGTCCCGGCGCAGTTTTGCGCCAAGTCATATGACACATAATTGGAAGGGGGTGGCATGCTGCCTTGACCCTCCCCAAATTATTTTTTTGACAACTCTCAGCAACGGATATCTCGGCTCTTNNNNNNNNNNNNNNNNNNNNNNNNNNNNNNNNNNNNNNNNNNNNNNNNNNNNNNNNNNNNNNNNNNNNNNNNNNNNNNNNNNNNNNNNNNNNNNNNATCAGGCCAAGGGCACGCCTGCCTGGGCATTGCGAGTCATATCTCTCCCTTAATGAGGCTGTCCATACATACTGTTCAGCCAATGCGGATGTGAGTTTGGCCCCTTGTTCTTTGGTACGGGGGGTCTAAGAGCTGCATGGGCTTTTGATGGTCCAAAATACGGCAAGAGGTGGACGAACTATGCTACAACAAAATTGTTGTGCGAATGCCCCGGGTTGTCGTATTAGATGGGCCAGCATAATCTAAAGACCCTTTTGAACCCCATTGGAGGCCCATCAACCCATGATCAGTTGACGGCCATTTGGTTGCGACCCAGGTCAGGT\n",
            "Description: gi|2765600|emb|Z78475.1|PSZ78475 P.supardii 5.8S rRNA gene and ITS1 and ITS2 DNA\n",
            "Annotations: {}\n",
            "Id: gi|2765599|emb|Z78474.1|PKZ78474\n",
            "Name: gi|2765599|emb|Z78474.1|PKZ78474\n",
            "Name: CGTAACAAGGTTTCCGTAGGTGAACCTGCGGAAGGATCATTGTTGAGATCACGTAATAATTGATCGAGTTAATCTGGAGGATCAGTTTACTTTGGTCACCCATGGGCATCTGCTCTTTCAGTGACCTGGATTTGCCATCGAGCCTCCTTGGGAGCTTTCTTGCTGGCGATCTAAACCCTTGCCCGGCGCAGTTTTGCGCCCAATCATATGACACATAATTGGAAGGGCGGCATCCTGCCTTGACCCTCCCCAAATTATATTTTTGACAACTCTCAGCAACGGATATCTCGCCTCTTGCATCGATGAAGACACAGCGAAATGCGATAAATGGTGTGAATTGCAGAATCCCGTGAACCATCGAGTCTTTGAACGCAAGTTGCGCCCGAGGCCATCAGGCCAAGGGCACGCCTGCCTGGGCATTGCGAGTCATATCTCTCCCTTAATGAGGCTGTCCATACATACTGTTCAGCCGGTGCGGATGTGAGTTTGGCCCCTTGTTCTTTGGTACGGGGGGTCTAAGAGCTGCATGGGCTTTTGATGGTCCAAAATACGGCAAGAGGTGGACGAACTATGCTACAACAAAATTGTTGTGCGAATGCCCCGGGTTGTCGTATTAGATGGGCCAGCATAATCTACAGACCCTTCTGAACCCCATTGGAGGCCCATCAACCCATGATCAGTTGACGGCCATTTGGTTGCGACCCCAGGTCAGGTGAAGCAACCCGTTGAGCTT\n",
            "Description: gi|2765599|emb|Z78474.1|PKZ78474 P.kolopakingii 5.8S rRNA gene and ITS1 and ITS2 DNA\n",
            "Annotations: {}\n",
            "Id: gi|2765598|emb|Z78473.1|PSZ78473\n",
            "Name: gi|2765598|emb|Z78473.1|PSZ78473\n",
            "Name: CGTAACAAGGTTTCCGTAGGTGAACCTGCGGAAGGATCATTGTTGAGATCACATAATAATTGATCGGGTTAATCTGGAGGATCAGTTTACTTTGGTCACCCATGGGCATCTGCTCTTGTAGTGACCTGGATTTGCCATCGAGCCTCCATGGGAGCTTTCTTGGTGGCGATCTAAACCCTTGCCCGGCGCAGTTTTGCGCCAAGTCATATGACACATAATTGGAAGGGGGCGGCATGCTGCCTTGACCCTCCCCAAATTATTTTGTTAACAACTCTCAGCAACGGATATCTCGGCTCTTCCCGAGGCCATCAGGCCAAGGGCACGCCTGCCTGGGCATTGCGAGTCATATCTCTCCCTTCAATGAGGCTGTCCATACATACTGTTCAGTCGGTGCGGATGTGAGTTTGGCCCCTTGTTCTTGCCTACGGGGGGTCTAAGAGCTGCATGGGCTTTTGATGGTACCTAAATACGGCAAGAGGTGGACGAACTATGCTACAACAAAATTGTTGTGCGAATGCCCCGGGTTGTCGTATTAGATGGGCCAGCATAATCTAAAGACCCTTTTGAACCCCATTGGAGGCCCATCAACCCATGATCAGTTGACGGCCATTTGGTTGCGACCCAGG\n",
            "Description: gi|2765598|emb|Z78473.1|PSZ78473 P.sanderianum 5.8S rRNA gene and ITS1 and ITS2 DNA\n",
            "Annotations: {}\n",
            "Id: gi|2765597|emb|Z78472.1|PLZ78472\n",
            "Name: gi|2765597|emb|Z78472.1|PLZ78472\n",
            "Name: CGTAACAAGGTTTCCGTAGGTGAACCTGCGGAAGGATCATTGTTGAGATCACATAATAATTGATCGAGTTAATCTGGAGGATCAGTTTACTTTAGTCACCCATGGGCATCTGCTCTTGCAGTGACCTGGATTTGCCATCGAGCCTCCTTGGGAGCTTTCTTGCTGGCGATCTAAATCGTTGCCCGGCGCAGTCTTGCGCCAAGTCATTTCACACATAATTGGAAGGGGGCGGCATGCAGTCTAAGACCCTCCCCAAATTATTTTTTGATAACTCTCAGCAACGGAATCTCGGCTCTTGCATCGATGGAGGACGCAGCGAAATGCGATAAATGGTGTGAATTGCAGAATCCCGTGAACCATCGAGTCTTTGAACGCAAGTTGCGCCCGAGGCCATCAGGCCAAGGGCACGCCTGCCTGGGCATTGCGAGTCATATCTCTCCTTTAATGAGGCTGTCTATACATACTGTTCAGCCACAGCGGATGTGAGTTTGGCCCCTTGTTCTTTGGTACGGGGGGTCTAAGAGCTGCATGGGCTTTTGATGGTCTTAAATACGGCAAGAGGTGGACGAAGTATGCTACAACAAAATTGTAGTTCGAATGCCCAGGGTTGTCGTATTAGATGGGCCAGCATAATCTAAAGACCCTTTGAACCCCTTTAGAGGCCAATCAACCCATGATCAGTTGATGGCCATTTGGTTGCGACCCCAAGTCAGGTGAGGCAACCGCTGAGTTTAAGC\n",
            "Description: gi|2765597|emb|Z78472.1|PLZ78472 P.lowii 5.8S rRNA gene and ITS1 and ITS2 DNA\n",
            "Annotations: {}\n",
            "Id: gi|2765596|emb|Z78471.1|PDZ78471\n",
            "Name: gi|2765596|emb|Z78471.1|PDZ78471\n",
            "Name: CGTAACAAGGTTTCCGTAGGTGAACCTGCGGAAGGATCATTGTTGAGATCACATAATAATTGATCGAGTTAATCTAGAGGATCGGTTTACTTTGGTCACCCATGGGCATCTGCTCTTACAGTGACCTGGATTTGCCATCGAGCCTCCTTGGGAGCTGTCTTGCTGGCGATCTAAATCGTTGCCCGACGCAGCCTTGCGTCAAGTCACCCCGACACATAATGGAAGGGGGCGGCATGCTGCCTTGACCCTTCCCCAAATTAATTTTTTGACAACTCTCAACATCGGATATCTCGGCTCTTGCATCGATGAAGAACGCAGCGAAATGCGATAAATGGTGTGAATTGCAGAATCCCGTGAACCATCGAGTCTTTGAACGCAAGTTGCGCCCGAGGCCATCAGGCCAAGGGCACGCCTGCTTGGGCATTGCGAGTCATATCTCTCCCTTAATGAGGCTGTCCATACATACTGTTCAGCCAGTGCGGATGTGAGTTTGGCCCCTTGTTCTTTAGTACGGGGGGTCTAAAAGCTGCATGGGCTTTTGCTGGTCCTAAATACGGCAAGAGGTGGACAAAGTATGCTACAACAAAATTGTAGTGCGAATGCCCCGGGTTGTCGTATTAGATGGGCCAGCATAATTTAAAGACCCTTTTGAACCCCATTAGAGGCCCATCAACCCTGATCAGTTGATGGCCATTTGGTTGCGACCCCAAGTCAGGTGAGGCAACCCGCTGAGTTTAAGC\n",
            "Description: gi|2765596|emb|Z78471.1|PDZ78471 P.dianthum 5.8S rRNA gene and ITS1 and ITS2 DNA\n",
            "Annotations: {}\n",
            "Id: gi|2765595|emb|Z78470.1|PPZ78470\n",
            "Name: gi|2765595|emb|Z78470.1|PPZ78470\n",
            "Name: CGTAACAAGGTTTCCGTAGGTGAACCTGCGGAAGGATCATTGTTGAGATCACATAATAATTGATCGAGTTAATCTAGAGGATCAGTTTACTTTGGTCACCCATGGGCATCTGCTCTTACAGTGACCTGGATTTGCCATCGAGCCTCCTTGGGAGCTTTCTTGCTGGCGATCTAAATCGTTGCCCGACGCAGCCTTGCGTCAAGTCATATGACACATAATTGGAAGGGGGCGGCATGCTGCCTTGACCCTTCCCAAATTATTTTTTTAAGTTGCGCCCGAGGCCATCAGGCCAAGGGCACGCCTGCTTGGGCATTGCGAGTCATATCTCTCCCTTAATGAGGCTGTCCATACATACTGTTCAGCCAGTGCGGATGTGAGTTTGGCCCCTTGTTCTTTACTACGGGGGGTCTAAAAGCTGCATGGGCTTTTGCTGGTCCTAAATACGGCAAGAGGTGGACAAAGTATGCTACAACAAAATTGTAGTGCGAATGCCCCGGGTTGTCGTATTAGATGGGCCAGCATAATTTAAAGACCCTTTTGAACCCCATTAGAGGCCCATCAACCCTGATCAGTT\n",
            "Description: gi|2765595|emb|Z78470.1|PPZ78470 P.parishii 5.8S rRNA gene and ITS1 and ITS2 DNA\n",
            "Annotations: {}\n",
            "Id: gi|2765594|emb|Z78469.1|PHZ78469\n",
            "Name: gi|2765594|emb|Z78469.1|PHZ78469\n",
            "Name: CGTAACAAGGTTTCCGTAGGTGAACCTGCGGAAGGATCATTGTTGAGATCACATAATAATTGATCGAGTTAATCTGGAGGATCAGTTTACTTTAGTCACCCATGGGCATCTGCTCTTGCAGTGACCTGGATTTGCCATCGAGCCTCCTTGGGAGCTTTCTTGCTGGCGATCTAAATTCGTTGCCCGGCGCAGTCTTGCGCCAAGTCATATCACACATAATTGGAAGGGGGCGGCATGCGGTCTAGACCCTCCCCAAATTATTTTTTTGACAACTCTCAGCAACGGATATCTCGGCTCTTCCATCAGGCCAAGGGCACGCCTGCCTGGGCATTGCGAGTCATATCTCTCCCTTAATGAGGCTGTCCATACATACTGTTCAGCCACAGCGGATGTGAGTTTGGCCCCTTGTTCTTTGGTACGGGGGGTCTAAGAGCTGCATGGGCTTTTGATGGTACCTAAATACGGCAAGAGGTGGACGAAGTATGCTACAACAAAATGATAGTGCGAATGCCCAGGGTTGTCGTATTAGATGGGCCAGCATAATCTAAAGACCCTTTTGAACCCCATTAGAGGCCCATCAACCCATGATCAGTT\n",
            "Description: gi|2765594|emb|Z78469.1|PHZ78469 P.haynaldianum 5.8S rRNA gene and ITS1 and ITS2 DNA\n",
            "Annotations: {}\n",
            "Id: gi|2765593|emb|Z78468.1|PAZ78468\n",
            "Name: gi|2765593|emb|Z78468.1|PAZ78468\n",
            "Name: CGTAACAAGGTTTCCGTAGGTGAACCTGCGGAAGGATCATTGTTGAGATCGCATAATAATTGATTGAGTTAATCTGGAGGATCAGTTTACTTTGGTCACTCATGGGAATCTGCTCTTGTAGTGACCTGGATTTGCCATCGAGCCTCCTTGGGAGCTTTCTTGATGGCGATCTGAACCCTTGCCCGGCGCAGTTTTGCGCCAAGTCATATGACACATAATTGGGAGGGGCAGCATGCTGCCTTGACCCTCCCCATATCATTTTTTTAACGACTCTCAGCTCCGGAACTCAAGTTGCGCCCGAGGCCATCAGGCTAAGGGCACGCCTGCCTGGGCATTGCGAGTCATATCTCTCCCTTAATGAGGCTGTCCATACATACTGTTCAGCCAGTGCGGATGTGAGTTTGGCCCCTTGTTCTTCGGTACGGGGGGTCTAAGAGCAGCTGGGCTTTTGATGGACCTAAATACGGCAAGAGGTGGACGAAGTATGCTACAACAAAATTATTGTGTGAATGCCCCGGGTTGTCGTATAGATGGGCCAGCATAATCTAAAGACCCTTTTGAACCCCATTGGAGGCCCATCAACCCATGATCAGTTGACGGCCATTTGGTT\n",
            "Description: gi|2765593|emb|Z78468.1|PAZ78468 P.adductum 5.8S rRNA gene and ITS1 and ITS2 DNA\n",
            "Annotations: {}\n",
            "Id: gi|2765592|emb|Z78467.1|PSZ78467\n",
            "Name: gi|2765592|emb|Z78467.1|PSZ78467\n",
            "Name: CGTAACAAGGTTTCCGTAGGTGAACCTGCGGAAGGATCATTGTTGAGATCACATAATAATTGATCGAGTTAATCTGGAGGATCAGTTTACTTTGGTCACCCATGGGCATCTGCTCTTGCAGTGACCTGGATTTGCCATCGAGCCTCCTTGGGAGCTTTCTTGCTGGCGATCTAAACCCTTGCCCGGCGCAGTTTTGCGCCAAGTCATATGACACATAATTGGAAGGGGGTGGCATGCTGCCTTGACCCTCCCCAAATTATTTTTTGACAACTCTCAGCAACGGATATCTCGGCTCTTGCATCGATGAAGAACGCAGCGAAATGCGATAAATGGTGTGAATTGCAGAATCCCGTGAACCATCGAGTCTTTGAACGCAAGTTGCGCCCGAGGCCATCAGGCCAAGGGTACGCCTGCCTGGGCATTGCGAGTCATATCTCTCCCTTAATGAGGCTGTCCATACATACTGTTCAGCCGGTGCGGATGTGAGTTTGGCCCCTTGTTCTTTGGTACGGGGGGTCTAAGAGCTGCATGTGCCTTTGGTGGTCCAAAATACGGCAAGAGGTGGACGAACTATGCTACAACAAAATTGTTGTGCGAATGACCCGGGTTGTCGTATTAGCTGGGCCAGCATAATCTAAAGACCCTCTTGAACCCCATTGGAGGCCCATCAACCCATGATCAGTTGACGGCCATATGTTTGCGACCCAGGTCAGGTGAGGCAACCCGCTGA\n",
            "Description: gi|2765592|emb|Z78467.1|PSZ78467 P.stonei 5.8S rRNA gene and ITS1 and ITS2 DNA\n",
            "Annotations: {}\n",
            "Id: gi|2765591|emb|Z78466.1|PPZ78466\n",
            "Name: gi|2765591|emb|Z78466.1|PPZ78466\n",
            "Name: CGTAACAAGGTTTCCGTAGGTGAACCTGCGGAAGGATCATTGTTGAGATCACATAATAATTGATCGAGTTAATCTGGAGGATCAGTTTACTTTGGTCACCCATGGGCATCTGCTCTTGTAGTGACCTGGATTTGCCATCGAGCCTTCATGGGAGCTTTCTTGCTGGCGATCTAAACCCTTGCCCGGCGCAGTTTTGCGCCAAGTCATATGACACATAATTGGAAGGGGGCGGCATGCTGCCTTGACCCTCCCCAAATTATTTTTGTAACAACTCTCAGCAACGGATATCTCGGCTCTTTGCCGAGGCCATCAGGCCAAGGGCACGCCTGCCTGGGCATTGCGAGTCATATCTCTCCCTTAATGAGGCTGTCCATACATACAGTTCAGCCTGTGCGGATGTGAGTTTGGCCCCTTGTTCTTGCGTACGGGGGGTCTAAGAGCTGCATGGGCTTTTGATGGTCCTAAATACGGCAAGAGGTGGACGAACTATGCTACAACAAAATTGTTGTGCGAATGCCCCGGGTTGTCGTATTAGATGGGCCAGCATAATCTAAAGACCCTTTTGAACCCCATTGGAGGCCCATCAACCCATGATCAGTTGACGGCCATTTGGTTGCGACCCAGGTCAGGTGAGGCAACCC\n",
            "Description: gi|2765591|emb|Z78466.1|PPZ78466 P.philippinense 5.8S rRNA gene and ITS1 and ITS2 DNA\n",
            "Annotations: {}\n",
            "Id: gi|2765590|emb|Z78465.1|PRZ78465\n",
            "Name: gi|2765590|emb|Z78465.1|PRZ78465\n",
            "Name: DNACGTAACAAGGTTTCCGTAGGTGAACCTGCGGAAGGATCATTGTTGAGATCACATAATAATTGATCGAGTTAATCTGGAGGATCAGTTTACTTTGGTCACCCATGGGCATCTGCTCTTGCAGTGACCTGGATTTGCCATCGAGCCTCCTTGGGAGCTTTCTTGCTGGCGATCTAAACCCTTGCCCGGCGCAGTTTTGCGCCAAGTCATATGACACATAATTGGAAGGGGGCGGCATGCTGCCTTGACCCTCCCCAAATTATTTTTTTGACAACTCTCAGCAACGGATTTCTCGGTTCTTGAATCGATGAGGAACGCAGCGAAATGCGATAATTGGTGTGAATTGAAGAATCCCGTAAACCATCGAGTCTTTGAACGAAAGTTGCGCCCGAGGCCATCAGGCCAAGGGAACGCCTGCCTGGGCATTGCGAGTCATATCTCTCCCTTAATGAGGCTGTCCATACATACTGTTCAGCGAGTGCGGATGTGAGTTTGGCCCCTTGTTCTTTGGTACGGGGGGTCTAAGAGCTGCATGGGCTTTTGATGGTCCTAAATACGGCAAGAGGTGGACGAACTATGCTACAACAAAATTGTTGTGCGAATGCCCCGGGTTGTCGTATTAGATGGGCCAGCATAATCTAAAGACCCTTTTGAACCCCATTGGAGGCCCATCAACCCATGATCAGTTGACGGCCATTTGGTTGC\n",
            "Description: gi|2765590|emb|Z78465.1|PRZ78465 P.rothschildianum 5.8S rRNA gene and ITS1 and ITS2\n",
            "Annotations: {}\n",
            "Id: gi|2765589|emb|Z78464.1|PGZ78464\n",
            "Name: gi|2765589|emb|Z78464.1|PGZ78464\n",
            "Name: CGTAACAAGGTTTCCGTAGGTGAGCGGAAGGGTCATTGTTGAGATCACATAATAATTGATCGGTTGAGTCTGGAGGATCAGTTTACTTTGGTCACCCATGGGCATCTGCTCTTGTAGTGACCTGGATTGCCATCGAGCCTCCTTGGGAGCTTTCTTGCTGGAGATCTAAACCCTTGCCCGGAGCAGTTTTGCGCCAAGTCATATGACACATAATTGGAAGGGGGCGGCATGCTGCCTTGACCCTCCCCAAATTATTTTCTTAACAACTCTCAGCAACGGATATCTCGGCTCTTGCATCGATGAAGAACGCAGCGAAATCCGATAAATGGTGTGAATTTCAGAATCCCGTGAACCATCGAGTCTTTGAACGCCAAGTTCGCCCGAGGCCATCAGGCCAAGGGCACGCCTGCCTGGGCATTTCGAATCAAATCTCTCCCTTAATGAGGCTGTCCAAACATACTGTTCAACCGGTTCGGATGTGAGTTTGGCCCCTTTTTCTTTGGGGCGGGGGGTCTAAGAACTTCATGGGCTTTTGGTGGTCCTAAAAACGGCAAGAGGTGGGCGGACTATTCTTCAACCAAATTTCTGTTCGGATTCCCCGGGCTTTCGTAATAGATGGGCCAGCATAATCTAAAGACCCTTTTGAACCCCATTGGAGGCCCATCAACCCATGATCAGTTGACGGCCATTTGGTGCGACCCCAGGTCAGGTGAGCAACCCGCTGAGTTTAAGC\n",
            "Description: gi|2765589|emb|Z78464.1|PGZ78464 P.glanduliferum 5.8S rRNA gene and ITS1 and ITS2 DNA\n",
            "Annotations: {}\n",
            "Id: gi|2765588|emb|Z78463.1|PGZ78463\n",
            "Name: gi|2765588|emb|Z78463.1|PGZ78463\n",
            "Name: CGTAACAAGGTTTCCGTAGGTGAACCTGCGGAAGGTTCATTGTTGAGATCACATAATCATTGTTCGGTTGAGTCTGGAGGATCAGTTTACTTTGGTCACCATGGGCATCTGCTCTTGTAGTGACCTGGATTGCCATCGAGCCTCCTTGGGAGCTTTCTTGCTGGGGATCTAAACCCTCGCCCGGGGGAGTTTTGCGCCAAGTCATATGACACATAATTGGGAGGGGGCGGCATGTTGCCTTGACCCTCCCCAAATTATTTTCTTAACAACTCTCAGCAACGGATATCTCGGCTCTTGCATCGATGGAAGAACGCAGCGAAATGCGATAAATGGTGTGAATTGCAGAATCCCGTGAACCATCGAGTCTTTGAACGCAAGTTGCGCCCGAGGCCATCAGGCCAAGGGCACGCCTGCCTGGGCATTGCGAGTCATATCTCTCCCTTAATGAGGCTGTCCATACATACTGTTCAACCGGTGCGGATGTGAGTTTGGCCCCTTTTTCTTTGGGGCGGGGGGTCTAAGAGCTGCATGGGCTTTTGATGGTCCTAAATACGGCAAGAGGTGGACGAACTATGCTGCAACAAAATTGCTGTGCGAATACCCCGGGTTGTCGTATTAGATGGGCCAGCATAATCTAAAGACCCTTTTGAACCCCATTGGAGGCCCATCAACCCATGATCAGTTGACGGCCATTTGGTTGCGACCCCAGATCAGGTGAGCAACCCGCTGAGTTTAAGC\n",
            "Description: gi|2765588|emb|Z78463.1|PGZ78463 P.glanduliferum 5.8S rRNA gene and ITS1 and ITS2 DNA\n",
            "Annotations: {}\n",
            "Id: gi|2765587|emb|Z78462.1|PSZ78462\n",
            "Name: gi|2765587|emb|Z78462.1|PSZ78462\n",
            "Name: CGTCACGAGGTCTCCGGATGTGACCCTGCGGAAGGATCATTGTTGAGATCACATAATAATTGATCGAGTTAATCTGCAGGATCTGTTTACTTTGGTCACCCATGGGCATTTGCTGTTGAAGTGACCTAGATTTGCCATCGAGCCTCCTTGGGAGATTTCTTGTTGGCGAGATCTAAACCCTTGCCCGGCGCAGTTTTGCGCCAAGTCATANNNNNNNNNNNNNNNNNNNNNNNNNNNNNNNNNNNNNNNNNNNNNNNNNNNNNNNNNNNNNNNNNNNNNNNNNNNNNNNNNNNNNNNNNNNNNNNNNNNNNNNNNNNNNNNNNNNNNNNNNNNNNNNNNNNNNNNNNNNNNNNNNNNNNNNNNNNNNNNNNNNNNNNNNNNNNNNNNNNNNNNNNNNNNNNNNNNNNNNNNNNNNNNNNNNNNNNNNNNNNNNNNNNNNNNNNNNNNNNNNNNNNNNNNNNNNNNNNNNNNNNNNCGCCTGCCTGGGCATTGCGAGTCATATCTCTCCCTTAACGAGGCTGTCCATACATACTGTTCAGCCGGTGCGGATGTGAGTTTGGCCCCTTGTTCTTTGGTACGGGGGGTCTAAGAGCTGCATGGGCTTTTGATGGTCCTAAATACGGCAAGAGGTGGACGAACTATGCTACAACAAAATTGTTGTGCAAAGGCCCCGGGTTGTCGTATTAGATGGGCCACCGTAATCTGAAGACCCTTTTGAACCCCATTGGAGGCCCAT\n",
            "Description: gi|2765587|emb|Z78462.1|PSZ78462 P.sukhakulii 5.8S rRNA gene and ITS1 and ITS2 DNA\n",
            "Annotations: {}\n",
            "Id: gi|2765586|emb|Z78461.1|PWZ78461\n",
            "Name: gi|2765586|emb|Z78461.1|PWZ78461\n",
            "Name: CGTAACAAGGTTTCCGTAGGTGAACCTCCGGAAGGATCATTGTTGAGATCACATAATAATTGATCGAGGTAATCTGGAGGATCTGTTTACTTTGGTCACCCATGGGCAGTTGCTGCTGGAGTGACCTAGAATTTCCATCGAGCCTCCTTGGGAGCTTTCTTGTTGGCGAGATCTAAACCCTTACCCGGCGCAATTTTTCCCCCAGTCAAATGACACATAATTGGTGGAGGGGGTGGCATTCTTCCCTGACCCTCCCCCAAATAATTTTTTCACAACTCTCAGCAACGGATATCTCGGCTCTTGCATCGATGAAGAACGCACCGAAATCCGATAAATGGTGTGAATTCCAGAATCCCGTGAACCATCGAGTCTTTGAACCCAAGTTGCGCCCGAGGCCATCAGGCCAAGGGAACGCCTGCCTGGGCATTGCGAGTCATATCTCTCCCTTAACGAGCCTGTCCATACATCCTGTTCAGCCGGTGCGGATGTGAGTTTGCCCCCTTGTTCTTTGGTACGGGGGGTCTAAGACCTGCATGGGCTTTTGATGGTCCTAAATACGGCAAGAGGTGGACGAACTATGCTACACCAAAATTGTTGTCCAAAGCCCCCGGGTTGTCGTATAAGATGGGCCACCGTAATCTGAAGACCCTTTGAACCCCATTGGAGCCCATCAACCCATGATCAGTTGATGCCATTGTTGCGACCCAGTCAGTGAGCAAGCCGCTGAGTTAA\n",
            "Description: gi|2765586|emb|Z78461.1|PWZ78461 P.wardii 5.8S rRNA gene and ITS1 and ITS2 DNA\n",
            "Annotations: {}\n",
            "Id: gi|2765585|emb|Z78460.1|PCZ78460\n",
            "Name: gi|2765585|emb|Z78460.1|PCZ78460\n",
            "Name: CGTAACAAGGTTTCCGTAGGTGAACCTCCGGAAGGATCATTGTTGAGATCACATAATAATTGATCGAGTTAATCTGGAGGATCTGTTTACTTTGGTCACCCATGAGCATTTGCTGTTGAAGTGACCTAGATTTGCCATCGAGCCTCCTTGGGAGCTTTCTTGTTGGCGAGATCTAAACCCTTGCCCGGCGCAGTTTTGCGCCAAGTCATATGACACATAATTGGTGAAGGGGGTGGCATCCTGCCCTGACCCTCCCCAAATTATTTTTTTAACAACTCTCAGCAACGGGATATCTCGGCTCTTGCATCGGATGGAGGAACGCAGCGAAATGCGATAAATGGTGTGAATTGCAGAATCCCGTGAACCATCGAGTCTTTGAACGCAAGTTGCGCCCGAGGCCATCAGGCCAAGGGCACGCCTGCCTGGGCATTGCGAGTCATATCTCTCCCTTAACGAGGCTGTCCATACATACTGTTCAGCCGGTGCGGATGTGAGTTTGGCCCCTTGTTCTTTGGTACGGGGGGTCTAAGAGCTGCATGGGCTTTTGATGGTCCCAAATACGGCAAGAGGTGGACGAACTATGCTACAACAAAATTGTTGTGCAAAGGCCCCGGGTTGTCGTATTAGATGGGCCACCGTAATCTGAAGACCCTTTTGAACCCCATTGGAGGCCCATCAACCCATGATCAGTTGATGGCCATTTGGGTTGCGACCCCAGGTCAGGTGAGGCAACCCGCTGAGTTTA\n",
            "Description: gi|2765585|emb|Z78460.1|PCZ78460 P.ciliolare 5.8S rRNA gene and ITS1 and ITS2 DNA\n",
            "Annotations: {}\n",
            "Id: gi|2765584|emb|Z78459.1|PDZ78459\n",
            "Name: gi|2765584|emb|Z78459.1|PDZ78459\n",
            "Name: CGTAACAAGGTTTCCGTAGGTGAACCTGCGGAAGGATCATTGTTGAGATCACATAATAATTGATCGAGTTAATCTGGAGGATCTGTTTACTTTGGTCACCCATGAGCATTTGCTGTTGAAGTGACCTAGATTTGCCATCGAGCCTCCTTGGGAGCTTTCTTGTTGGCGAGATCTAAACCCTTGCCCGGCGCAGTTTTGCGCCAAGTCATATGACACATAATTGGTGAAGGGGGTGGCATCCTGCCCTGACCCTCCCCAAATTATTTTTTTAACAACTCTCAGCAACGGATATCTCGGCTCTTGCATCGGATGGAGGAACGCAGCGAAATTGCGATAAATTGGTGTGAATTGCAGAATCCCGTGAACCATCGAGTCTTTGAACGCAAGTTGCGCCCGAGGCCATCAGGCCAAGGGCACGCCTGCCTGGGCATTGCGAGTCATATCTCTCCCTTAACGAGGCTGTCCATACATACTGTTCAGCCGGTGCGGATGTGAGTTTGGCCCCTTGTTCTTTGGTACGGGGGGTCTAAGAGCTGCATGGGCTTTTGATGGTCCTAAATACGGCAAGAGGTGGACGAACTATGCTACAACAAAATTGTTGTGCAAAGGCCCCGGGTTGTCGTATTAGATGGGCCACCGTAATCTGAAGACCCTTTTGAACCCCATTGGAGGCCCATCAACCCATGATCAGTTGATGGCCATTTGGTTGCGACCCCAGGTCAGGTGAGGCAACCCGCTGAGTTT\n",
            "Description: gi|2765584|emb|Z78459.1|PDZ78459 P.dayanum 5.8S rRNA gene and ITS1 and ITS2 DNA\n",
            "Annotations: {}\n",
            "Id: gi|2765583|emb|Z78458.1|PHZ78458\n",
            "Name: gi|2765583|emb|Z78458.1|PHZ78458\n",
            "Name: CGTAACAAGGTTTCCGTAGGTGAACCTGCGGAAGGATCATTGTTGAGATCACATAATAATTGATCGAGTTAATCTGGAGGATCTGTTTACTTTGGTCACCCATGAGCATTTGCTGTTGAAGTGACCTAGATTTGCCATCGAGCCTCCTTGGGAGCTTTCTTGTTGGCGAGATCTAAACCCTTGCCCGGCGCAGTTTTGCGCCAAGTCGTACGACACATAATTGGTGAAGGGGGTGGCATCCTTCCCTGACCCTCCCCAAATTATTTTTTAACAACTCTCAGCAACGGATATCTCGGCTCTTGCATCGATGGAGGACGCAGCGAAATGCGATAAATGGTGTGAATTGCAGATCCCGTGAACCATCGAGTCTTTGAACGCAAGTTGCGCCCGAGGCCATCAGGCCAAGGGCACGCCTGCCTGGGCATTGCGAGTCATATCTCTCCCTTAACGAGGCTGTCCATACATACTGTTCAGCCGGTGCGGATGTGAGTTTGGCCCCTTGTTCTTTGGTACGGGGGGTCTAAGAGCTGCATGGGCTTTTGATGGTCCTAAATACGGCAAGAGGTGGACGAACTATGCTACAACAAAATTGTTGTGCAGAGGCCCCGGGTTGTCGTATTAGATGGGCCACCGTAATCTGAAGACCCTTTTGAACCCCATTGGAGGCCCATCAACCCATGATCAGTTGATGGCCATTTGGTTGCGACCCCAGGTCAGGTGAGGCAACCCGCTGAGTTG\n",
            "Description: gi|2765583|emb|Z78458.1|PHZ78458 P.hennisianum 5.8S rRNA gene and ITS1 and ITS2 DNA\n",
            "Annotations: {}\n",
            "Id: gi|2765582|emb|Z78457.1|PCZ78457\n",
            "Name: gi|2765582|emb|Z78457.1|PCZ78457\n",
            "Name: CGTAACAAGGTTTCCGTAGGTGAACCTCCGGAAGGATCATTGTTGAGATCACATAATAATTGATCGAGTTAATCTGGAGGATCTGTTTACTTTGGTCACCCATGGGCATTTTCTGTTGTAGTGACCTAGAATTTCCATCGAGCCTCCTTGGGAGCTTTCTTGTTGGCGAGATCTAAACCCTTGCCCGGCGCAGTTTTTCCCCCAGTCAAATGGCACATAATTGGTGGAGGGGGTGGCATTCTTCCCTGACCCTCCCCCAAATATTTTTTTAACAACTCTCAACAACGGATATCTCGGCTCTTTCATCGGATGAAGGACCGCAGCGAAATGCGATAAATGGTGTGAATTGCAGAATCCCGTGAACCATCGAGTCTTTGAACGCAAGTTGCGCCCGAGGCCATCAGGCCAAGGGCACGCCTGCCTGGGCATTGCGAGTCATATCTCTCCCTTAACGAGGCTGTCCATACATACTGTTCAGCCGGTGCGGATGTGAGTTTGGCCCCTTGTTCTTTGGTACGGGGGGTCTAAGAGCTGCATGGGCTTTTGATGGTCCTAAATACGGCAAGAGGTGGACGAACTATGCTACAACAAAATCGTTGTGCAAAGGCCCCGGGTTGTCGTATTAGATGGGCCACCGTAATCTAAAGACCCTTTTGAACCCCATTGGAGGCCCATCAACCCATGATCAGTTGATGGCCATTTGGTTGCGACCCCAGGTCAGGTGAGGCAACCCGCTGAG\n",
            "Description: gi|2765582|emb|Z78457.1|PCZ78457 P.callosum 5.8S rRNA gene and ITS1 and ITS2 DNA\n",
            "Annotations: {}\n",
            "Id: gi|2765581|emb|Z78456.1|PTZ78456\n",
            "Name: gi|2765581|emb|Z78456.1|PTZ78456\n",
            "Name: CGTAACAAGGTTTCCGTAGGTGAACCTGCGGAAGGATCATTGTTGAGATCACATAATAATTGATCGAGTTAATCTGGAGGATCTGTTTACTTTGGTCACCCATGAGCATTTGCTGTTGAAGTGACCTAGAATTTGCCATCGAGCCTCCTTGGGAGCTTTCTTGTTGGCGAGATCTAAACCCTTGCCCGGCGCAGTTTTGCGCCAAGTCATATGACACATAATTGGTGGAGGGGGTGGCATCCTGCCCTGACCCTCCCCAAATTATTTTTTTAACAACTCTCAGCAACGGATATCTCCGGTCTGGCATCGATGAAGAACGCAGCGAAATGCGATAAATGGTGTGATTGCAGAATCCCGTGAACATCGAGTCTTTGAACGCAAGTTGCGCCCGAGGCCATCAGGCCAAGGGCACGCCTGCCTGGGCATTGCGAGTCATATCTCTCCCTTAACGAGGCTGTCCATACATACTGTTCAGCCGGTGCGGATGTGAGTTTGGCCCCTTGTTCTTTGGTACGGGGGGTCTAAGAGCTGCATGGGCTTTTGATGGTCCTAAATACGGCAAGAGGTGGACGAACTATGCTACAACAAAATTGTTGTGCAAAGGCCCCGGGTTGTCGTATTAGATGGGCCACCGTAATCTGAAGACCCTTTTGGACCCCATTGGAGGCCCATCAACCCATGATCAGTTGATGGCCATTTGGGTTGCGACCCAGGTCAGGTGAGGCAACCCTGAGTTTAGC\n",
            "Description: gi|2765581|emb|Z78456.1|PTZ78456 P.tonsum 5.8S rRNA gene and ITS1 and ITS2 DNA\n",
            "Annotations: {}\n",
            "Id: gi|2765580|emb|Z78455.1|PJZ78455\n",
            "Name: gi|2765580|emb|Z78455.1|PJZ78455\n",
            "Name: CGTAACCAGGTTTCCGTAGGTGGACCTTCGGGAGGATCATTTTTGAGATCACATAAAAATTGATCGAGTTAATCTGGAGGAACTTTTTACTTTGGTCACCCATGAACAATTTCTTTTGGAGTGACCTAGAATTTCCATCGAACCCCCTTGGGAACTTTCTTTTTGGCGAGAACTAAACCCTTTCCCGGCGCAGTTTTTCCCCCAATCAAATTACACAAAAATGGTGGAGGGGGTGGCATCCTTCCCTTACCCTCCCCCAAATAATTTTTTAACAACTCTCAGCAACGGATATCTCGGCTCTTGCATCGGTTGAAGAACCAGCGAAATGCGATAAATGGTGTGAATTGCAGAATCCCGTGAACCATCGAGTCTTTGAACGCAAGTTGCGCCCGAGGCCATCAGGCCAAGGGCACGCCTGCCTGGGCATTGCGAGTCATATCTCTCCCTTAACGAGGCTGTCCATACATACTGTTCAGCCGGTGCGGATGTGAGTTTGGCCCCTTGTTCTTTGGCACGGGGGGTCTAAGAGCTTCATGGGCTTTTGATGGTCCTAAATACGGCAAGAGGTGGACGAACTATGCTACAACAAAATTGTTGTGCAAAGGCCCCGGGTTGTCGTATTAGATGGGCCACCGTAATCTGAAGACCCTTTTGAACCCCATTGGAGGCCCATCAACCCATGATCAGTTGATGGCCATTTGGGTTGCGACCCCAGGTCAGGTGAGGCAACCCGCTGAGTTTAGCA\n",
            "Description: gi|2765580|emb|Z78455.1|PJZ78455 P.javanicum 5.8S rRNA gene and ITS1 and ITS2 DNA\n",
            "Annotations: {}\n",
            "Id: gi|2765579|emb|Z78454.1|PFZ78454\n",
            "Name: gi|2765579|emb|Z78454.1|PFZ78454\n",
            "Name: CGTAACAAGGTTTCCGTAGGTGAACCTGCGGAAGGATCATTGTTGAGATCACATAATAATTGATCGAGATAATCTGGAGGATCTGTTTACTTTGGTCACCCATGAGCATTTGCTGTTGAAGTGACCTAGATTTACCATCGAGCCTCCTTGGGAGCTTTCTTGTTGGCGAGATCTAAACCCTTGCCCGGCGCAGTTTTTCTCCAAGTCATTTGACACATAATCGGTGAAGGGGGTGGCATCCTGCCCTGACCCTCCCCCCACTATTGTTAACAACTCTCATCAACGGAACTCATGCGATAAATGGTGTGATTTGCAGAATCCCGTGAACCATCGAGTCTGTGAACGCAAGTTGCGGCCGAGGCCATCAGACCAAGGGCACGCCTGCCTGGGCATTGCGAGTCATATCTCTCCCTTAACGAGGCTGTCCATACATACTGTTCAGCCGGTGCGGATGTGAGTTTGGCCCCTTGTTCTCTGGTACGGGGGGTCTAAGAGCTGCATGGGCTTTTGATGGTCCTAAATACGGCAAGAGGTGGACGAACTATGCTACAACAAAATTGTTGTGCAAAGGCCCCGGGTTGTCGTATTAGATGGGCCACCGTAATCTGAAGCCCCTTTTGAACCCATTGGAGGCCCATCAACCNCATGATCAGTTGATGGCCATTTGGATGCGACCCCAGGTCAGGTGAGGCAAC\n",
            "Description: gi|2765579|emb|Z78454.1|PFZ78454 P.fowliei 5.8S rRNA gene and ITS1 and ITS2 DNA\n",
            "Annotations: {}\n",
            "Id: gi|2765578|emb|Z78453.1|PSZ78453\n",
            "Name: gi|2765578|emb|Z78453.1|PSZ78453\n",
            "Name: CGTAACAAGGTTTCCGTAGGTGAACCTGCGGAAGGATCATTGTTGAGATCACATAATAATTGATCGAGTTAATCTGGAGGATCTGTTTACTTTGGTCACCCATGAGCATTTGCTGTTGAAGTGACCTAGAGTTGCCATCGAGCCTCCTTGGGAGCTTTCTTGTTGGCGAGATCTAAACCCTTGCCCGGCGCAGTTTTGCGCCAACTCATTTGACACATAACTGGTGAAGGGGGTGGCATCCTTCCCTGACCCTCCCCCAAATTATTTTTTAACAACTCTCAGCAACCGGATATCTCAGCTCTTGCATCGATGAAGAACGCAGCGAAATGCGATAAATGGTGTGAATTGCAGAATCCCGTGAACCATCGAGTCTTTGAACGCAAGTTGCGCCCGAGGCCATCAGGCCAAGGGCACGCCTGCCTGGGCATTGCGAGTCATATCTCTCCCTTAACGAGGCTGTCCATACATACTGTTCAGCCGGTGCGGATGTGAGTTTGGCCCCTTGTTCTTTGGTACGGGGGGTCTAAGAGCTGCATGGGCTTTTGATGGTCCTAAATACGGCAAGAGGTGGACGAACTATGCTACAACAAAATTGTTGTGCAAAGGCCCCGGGTTGTCGTATTAGATGGGCCACCGTAATCTGAAGACCCTTTTGAACCCCATTGGAGGCCCATCAACCCATGATCAGTTGATGGCCATTTGGTTGCGACCCCAGGTCAGGTGAGGCAACCCGCTGAGTTTAGCA\n",
            "Description: gi|2765578|emb|Z78453.1|PSZ78453 P.schoseri 5.8S rRNA gene and ITS1 and ITS2 DNA\n",
            "Annotations: {}\n",
            "Id: gi|2765577|emb|Z78452.1|PBZ78452\n",
            "Name: gi|2765577|emb|Z78452.1|PBZ78452\n",
            "Name: DNACGTAACAAGGTTTCCGTAGGTGAACCTGCGGAAGGATCATTGTTGAGATCACATAATAATTGATCGAGTTAATCTGGAGGATCTATTTACTTTGGTCACCCATGAGCATTTGCTGTTGAAGTGACCTAGATTTGCCATCAAGCCTCCTTGGGAGCTTTCTTTTTGGCGAGATCTAAACCCTTGCCCGGCGCAGTTTTGCGCCAAGTCATATGACACATAATTGGTGAAGGGGGTGGCATCCTGCCCTGACCCTCCCCAAATTATTTTTTTAACAACTCTCAGCAACGGATATCTCGGCTCTTGAATCGATGAAGAACGCAGCGAAATGCGATAAATGGTGTGAATTGCAGAATCCCGTGAACCATCGAGTCTTTGAACGCAAGTTGCGCCCGAGGCCATCAGGCCAAGGGCACGCCTGCCTGGGCATTGCGAGTCATATCTCTCCCTTAACGAGGCTGTCCATACATACTGTTCAGCCGGTGCGGATGTGAGTTTGGCCCCTTGTTCTTTGGTACGGGGGGTCTAAGAGCTGCATGGGCTTTTGATGGTCCTAAATACGGCAAGAGGTGGATGAACTATGCTACAACAAAATTGTTGTGCAAAGGCCCCGGGTTGTCGTATTAGATGGGCCACTGTAATCTGAAGACCCTTTTGAACCCCATTGGAGGCCCATCAACCCATGATCAGTTGATGGCCATTTGGATGCGACCCCAGGTCAGGTGAGGCAACCGCTGAGTTTAGCA\n",
            "Description: gi|2765577|emb|Z78452.1|PBZ78452 P.bougainvilleanum 5.8S rRNA gene and ITS1 and ITS2\n",
            "Annotations: {}\n",
            "Id: gi|2765576|emb|Z78451.1|PHZ78451\n",
            "Name: gi|2765576|emb|Z78451.1|PHZ78451\n",
            "Name: CGTAACAAGGTTTCCGTAGGTGTACCTCCGGAAGGATCATTGTTGAGATCACATAATAATTGATCGAGATAATCTGGAGGATCTGTTTACTTTGGTCACCCATGGGCATTTGCTGTTGTAGTGACCTAGATTTCCATGGAGCCCCCCTGGGAGCTTTCTTGCTGGCGAGATCTAAACCCGTGCCCGGCGCAGTTTTGCGCCAAGTCATATGACACATAATTGGTGTAGGGGGCGGGCATCCTGCCCTGACCCTCCCCAAAGTATTTTTTGCAACTCTCAACAACGGAAATCTCGCTCTTTCATCGATGAAGAACCAGCGAAATCGATAAATGGTGTGAATTGCAGAATCCCGTGAACCATCGAGTCTTTGAACCCAAGTTGCGCCCGAGGCCATCAGGCCAAGGGCACCCCTCCCTGGGCATCGCGAGTCAAATCTCTCCCTTAACGAGGCTGTCCATACATACTGTTCACCCGGTGCGGATGTGAGTTTGCCCCCTTGTTCTTTGGTACGGGGGGTCTAAGACCTGCATGGGATTTTGATGGTCCTAAAAACGGCAAGAGGTGGACGAACTATCCCTACAATAAAATTGTTGTGCGAAGCCCCCGGGTTGTCGTATTAGATGGGCCACCGTAATCTGAAGACCCTATAGAACCCCATTGGAGGCCCATCAACCCATGATCAGTTGATGGCCATTTGATGCGACACCAGTCAGTGAGCAACCAGCTGAGC\n",
            "Description: gi|2765576|emb|Z78451.1|PHZ78451 P.hookerae 5.8S rRNA gene and ITS1 and ITS2 DNA\n",
            "Annotations: {}\n",
            "Id: gi|2765575|emb|Z78450.1|PPZ78450\n",
            "Name: gi|2765575|emb|Z78450.1|PPZ78450\n",
            "Name: GGAAGGATCATTGCTGATATCACATAATAATTGATCGAGTTAAGCTGGAGGATCTGTTTACTTTGGTCATCCATGAGCATTTACTGTTGAAGTGACCTAGATTTGCCATCGAGCCTCCTTGGGAGCTTTCTTGTTGCCGAGATCTAAACCCTTGCCCGGCGCAGTTTTGCGCCAAGTCATATGACACATAATTGGTGAAGGGGGTGGCATCCTGCCCTGACCCTCCCCAAATTATTTTTTTAACAACTCTCAGCAACGGATATCTCGGCTCTTGCATCGATGAAGAACGCAGCGAAATGCGATAAATGGTGTGAATTGCAGAATCCCGTGAACCATCGAGTCTTTGAACGCAAGTTGCGCCCGAGGCCATCAGGCCAAGGGCACGCCTGCCTGGGCATTCCGAGTCATATCTCTCCCCTAACGAGGCTGTCCATACATACTGTTCATCCGGTGCGGATGTGAGTGTGGCCCCTTGTTCTTTGGTCCGGGGGGTCTAAGAACTGCATGGGCATATGATGGTCCTCAAAACTGGCAAGAGGTGGACGAACTATGCTACAACCAAATTGTTGTGCCAAGGCCCCGGGTTGTCGTATTAGATGGGCCACCGTAACCTGTAGACCCTGTTGAACCCCATTGGAGGACCATCAACCCATGATCAGTTGATGACCATGTGTTGCGACCCCAGATCAGCTGAGCAACCCCTGAG\n",
            "Description: gi|2765575|emb|Z78450.1|PPZ78450 P.papuanum 5.8S rRNA gene and ITS1 and ITS2 DNA\n",
            "Annotations: {}\n",
            "Id: gi|2765574|emb|Z78449.1|PMZ78449\n",
            "Name: gi|2765574|emb|Z78449.1|PMZ78449\n",
            "Name: CGTAACAAGGTTTCCGTAGGTGAACCTGCGGAAGGATCATTGTTGAGATCACATAATAATTGATCGAGTTAATCTGGAGGATCTGTTTACTTTGGTCACCCATGAGCATTTGCTGTTGAAGTGACCTAGATTTGCCATCGAGCCTCCTTGGGAGCTTTCTTGTTGGCGAGATCTAAACCCTTGCCCGGCGCAGTTTTGCGCCAACTCATTTGACACATAATTGGTGAAGGGTGGCATCCTGCCCTGACCCTCCCCCAAATTATTTTTTTAACAACTCTCAGCAACGGATATCTCAGCTCTTGCATCGATGAAGAACGCAGCGAAAATGCGATAAATGGTGTGAATTGCAGAATCCCGTGAACCATCGAGTCTTTGAACGCAAGTTGCGCCCGAGGCCATCAGGCCAAGGGCACGCCTGCCTGGGCATTGCGAGTCATATCTCTCCCTTAACGAGGCTGTCCATACATACTGTTCAGCCGGTGCGGATGTGAGTTTGGCCCCTTGTTCTTTGGTACGGGGGGTCTAAGAGCTGCATGGGCTTTTGATGGTCCTAAATACGGCAAGAGGTGGACGAACTATGCTACAACTAAATTGTTGTGCAAAGGCCCCGGGTTGTCGTATTAGATGGGCCACCGTAATCTGAAGACCCTTTTGAACCCCATTGGAGGCCCATCAACCCATGATCAGTTGATGGCCATTTGGTTGCGACCCCAGGTCAGGTGAGGCAACCCGCTGAGTTTATGC\n",
            "Description: gi|2765574|emb|Z78449.1|PMZ78449 P.mastersianum 5.8S rRNA gene and ITS1 and ITS2 DNA\n",
            "Annotations: {}\n",
            "Id: gi|2765573|emb|Z78448.1|PAZ78448\n",
            "Name: gi|2765573|emb|Z78448.1|PAZ78448\n",
            "Name: CGTAACAAGGTTTCCGTAGGTGAACCTGCGGAAGGATCATTGTTGAGATCACATAATAATTGATCGAGTTAATCTGGAGGATCTGTTTACTTTGGTCACCCATGAGCATTTGCTGTTGAAGTGACCTAGAATTGCCATCGAGCCTCCTTGGGAGCTTTCTTGTTGGCGAGATCTAAACCCTTTCCCGGCGCAGTTTTGCGCCAAGTCGTATGACACATAATTGGTGAAGGGGGGTGGCATCCTTCCCTTGACCCTCCCCAAATTATTTTTTTAACAACTCTCAGCAACGGATATCTCAGCTCTTGCATCGGATGGAAGAACGCACCGAAATGCGATAAATGGTGTGAATTGCAGAATCCCGTGAACCATCGAGTCTTTGAACGCAAGTTGCGCCCGAGGCCATCAGGCCAAGGGCACGCCTGCCTGGGCATTGCGAGTCATATCTCTCCCTTAACGAGGCTGTCCATACATACTGTTCAGCCGGTGCGGATGTGAGTTTGGCCCCTTGTTCTTTGGTACGGGGGGTCTAAGAGCTGCATGGGCTTTTGATGGTCCTAAATACGGCAAGAGGTGGACGAACTATGCTACAANAAAATTGTTGTGCAAAGGCCCCGGGTTGTCGTATTAGATGGGCCACCGTAATCTGAAGACCCTTTTGAACCCCATTGGAGGCCCATCAGCCCATGATCAGTTGATGGCCATTTGGNTGCGACCCCAGGTCAGGTGAGGCAACCCGCTGAGG\n",
            "Description: gi|2765573|emb|Z78448.1|PAZ78448 P.argus 5.8S rRNA gene and ITS1 and ITS2 DNA\n",
            "Annotations: {}\n",
            "Id: gi|2765572|emb|Z78447.1|PVZ78447\n",
            "Name: gi|2765572|emb|Z78447.1|PVZ78447\n",
            "Name: CGTAACAAGGATTCCGTAGGTGAACCTGCGGGAGGATCATTGTTGAGATCACATAATAATTGATCGAGTAATCTGGAGGATCTGTTTACTTTGGTCACCCATGGGCATTTCCTGTTGAAGTGACCTAGAGTTGCCATCGAGCCTCCCTGGGAGCTTTCTTGTTGGCGAGAACTAAACCCTTACCCGGCGCAATTTTGCCCCCAGTCAAATGACACATAAGTGGTGAAGGGGGTGGCATCCTATCTCGGCTCTTGCATCGATGAAGAACCCAGCGAAATGCGATAAATGGTGTGAATTGCAGAATCCCGTGAACCATCGAGTCTTTGAACGCAAGTTGCGCCCGAGGCCATCAGGCCAAGGGCACGCCTGCCTGGGCATTGCGAGTCATATCTCTCCCTTAACGAGGCTGTCCATACATACTGTTCAGCCGGTGCGGATGTGAGTTTGGCCCCTTGTTCTTTGGTACGGGGGGTCTAAGAGCTGCATGGGCTTTTGATGGTCCTAAATACGGCAAGAGGTGGACGAACTATGCTACACCAAAATTGTTGTGCAAAGGCCCCGGGTTGTCGTATTAGATGGGCCACCGTAATCTGAAGACCCTTTTGAACCCCATTGGAGGCCCATCAACCCATGATCAGTTGATGGCCATTTGGTTGCGACCCCAGTCAGGTGAGGCAACCCGCTGAGTTTAAGC\n",
            "Description: gi|2765572|emb|Z78447.1|PVZ78447 P.venustum 5.8S rRNA gene and ITS1 and ITS2 DNA\n",
            "Annotations: {}\n",
            "Id: gi|2765571|emb|Z78446.1|PAZ78446\n",
            "Name: gi|2765571|emb|Z78446.1|PAZ78446\n",
            "Name: CGTAACAAGGTTTCCGTAGGTGAACCTCCGGAAGGATCATTGTTGAGATCACATAATAATTGATCGAGTTAATCTGGAGGATCTGTTTACTTTGGTCACCCATGAGCATTTCCTGTTGAAGTGACCTAGATTTGCCATCGAGCCTCCTTGGGAGCTTTCTTGTTGGCGAGATCTAAACCCTTGCCCGGCGCAGTTTTGCGCCAAGTCATATGACACATAATTGGTGAAGGGGGTGGCATCCTCCCCAAATAATTTTTTAACAACTCTCAGCAACGGATACTCGGCTCTTCATCGATGGAGGACCAGCGAAATTGCGATAATGGTGTGATTGCAGAATCCCGTGAACATCGAGTCTTTGAACGCAAGTTGCGCCCGAGGCCATCAGGCCAAGGGCACGCCTGCCTGGGATTGCGAGTCATATCTCTCCCTTAACGAGGCTGTCCATACATACTGTTCAGCCGGTGCAGATGTGAGTTTGGCCCCTTGTTCTTCGGTACGGGGGGTCTAAGAGCTGCATGGGCTTTTGATGGCCCTAAATACGGCAAGAGGTGGACGAACTATGCTACAACAAAATTGTTGTGCAAAGGCTCCGGGTTGTCGTATTAGATGGGCCACCGTAATCTGAAGACCCTTTTGAACCCCATTGGAGGCCCATCAACCCATGATCAGTTGATGGCCATTTGGTTGCGACCCAGGTCAGGTGAGGCAACCC\n",
            "Description: gi|2765571|emb|Z78446.1|PAZ78446 P.acmodontum 5.8S rRNA gene and ITS1 and ITS2 DNA\n",
            "Annotations: {}\n",
            "Id: gi|2765570|emb|Z78445.1|PUZ78445\n",
            "Name: gi|2765570|emb|Z78445.1|PUZ78445\n",
            "Name: CGTAACAAGGTTTCCGTAGGTGAACCTGCGGAAGGATCATTGTTGAGATCACATAATAATTGATCGGGTTAATCTGGAGGATCTGTTTACTTTGGTCACCCATGAGCATTTGCTGTTGAAGTGACCTAGAATTGCCATCGAGCCTCCTTGGGAGCTTTCTTGTTGGCGAGATCTAAACCCTTGCCCGGCGCAGTTTTGCTCCAAGTCGTTTGACACATAATTGGTGAAGGGGGTGGCATCCTTCCCTGACCCTCCCCCAACTATTTTTTTAACAACTCTCAGCAACGGAGACTCAGTCTTCGGCAAATGCGATAAATGGTGTGAATTGCAGAATCCCGTGCACCATCGAGTCTTTGAACGCAAGTTGCGCCCGAGGCCATCAGGCCAAGGGCACGCCTGCCTGGGCATTGCGAGTCATATCTCTCCCTTAACGAGGCTGTCCATACATACTGTTCAGCCGGTGCGGATGTGAGTTTGGCCCCTTGTTCTTTGGTACGGGGGGTCTAAGAGCTGCATGGGCTTTTGATGGTCCTAAATACGGCAAGAGGTGGACGAACTATGCTACAACAAAATTGTTGTGCAGAGGCCCCGGGTTGTCGTATTAGATGGGCCACCGTAATCTGAAGACCCTTTTGAACCCCATTGGAGGCCCATCAACCCATGATCAGTTGATGGCCATTTGGTTGCGACCCCAGGTCAGGTGAGCAACAGCTGT\n",
            "Description: gi|2765570|emb|Z78445.1|PUZ78445 P.urbanianum 5.8S rRNA gene and ITS1 and ITS2 DNA\n",
            "Annotations: {}\n",
            "Id: gi|2765569|emb|Z78444.1|PAZ78444\n",
            "Name: gi|2765569|emb|Z78444.1|PAZ78444\n",
            "Name: CGTAACAAGGTTTCCGTAGGGTGAACTGCGGAAGGATCATTGTTGAGATCACATAATAATTGATCGAGTTAATCTGGAGGATCTGTTTACTTGGGTCACCCATGGGCATTTGCTGTTGAAGTGACCTAGATTTGCCATCGAGCCTCCTTGGGAGCATCCTTGTTGGCGATATCTAAACCCTCAATTTTTCCCCCAATCAAATTACACAAAATTGGTGGAGGGGGTGGCATTCTTCCCTTACCCTCCCCCAAATATTTTTTTAACAACTCTCAGCAACGGATATCTCAGCTCTTGCATCGATGAAGAACCCACCGAAATGCGATAAATGGTGTGAATTGCAGAATCCCGTGAACCATCGAGTCTTTGAACGCAAGTTGCGCCCGAGGCCATCAGGCCAAGGGCACGCCTGCCTGGGCATTGCGAGTCATATCTCTCCCTTAACGAGGCTGTCCATACATACTGTTCAGCCGGTGCGGATGTGAGTTTGGCCCCTTGTTCTTTGGTACGGGGGGTCTAAGAGATGCATGGGCTTTTGATGGTCCTAAATACGGCAAGAGGTGGACGAACTATGCTACAACAAAATTGTTGTGCAAAGGCCCCGGGTTGTCGTATAAGATGGGCCACCGATATCTGAAGACCCTTTTGGACCCCATTGGAGCCCATCAACCCATGTCAGTTGATGGCCATT\n",
            "Description: gi|2765569|emb|Z78444.1|PAZ78444 P.appletonianum 5.8S rRNA gene and ITS1 and ITS2 DNA\n",
            "Annotations: {}\n",
            "Id: gi|2765568|emb|Z78443.1|PLZ78443\n",
            "Name: gi|2765568|emb|Z78443.1|PLZ78443\n",
            "Name: CGTAACAAGGTTTCCGTAGGTGAACCTGCGGAAGGATCATTGTTGAGATCACATAATAATTGATCGAGTTAATCTGGAGGATCTGTTTACTTGGGTCACCCATGGGCATTTGCTGTTGAAGTGACCTAGATTTGCCATCGAGCCTCCTTGGGAGCTTTCTTGTTGGCGATATCTAAACCCTTGCCCGGCAGAGTTTTGGGCCACANNNNNNNNNNNNNNNNNNNNNNNNNNNNNNNNNNNNNNNNNNNNNNNNNNNNNNNNNNNNNNNNNNNNNNNNNNNNNNNNNNNNNNNNNNNNNNNNNNNNNNNNNNNNNNNNNNNNNNNNNNNNNNNNNNNNNNNNNNNNNNNNNNNNNNNNNNNNNNNNNNNNNNNNNNNNNNCAGCGAAATGCGATAATGGTGTGAATTGCAGAATCCCGTGAACCATCGAGTCTTTGAACGCAAGTTGCGCCCGAGGCCATCAGGCCAAGGGCACGCCTGCCTGGGCATTGCGAGTCATATCTCTCCCTTAACGAGGCTGTCCATACACACCTGTTCAGCCGGTGCGGATGTGAGTTTGGCCCCTTGTTCTTTGGTACGGGGGGTCTAAGAGCTGCATGGGCTTTTGATGGTCCTAAATACGGCAAGAGGTGGACGAACTATGCTACAACAAAATTGTTGTGCAAAGGCCCCGGGTTGTCGTATTAGATGGGCCACCATAATCTGAAGACCCTTTTGAACCCCATTGGAGGCCCATCAACCCATGATCAGTTGATGGCCATTTGGTTGCGACCCAGTCAGGTGAGG\n",
            "Description: gi|2765568|emb|Z78443.1|PLZ78443 P.lawrenceanum 5.8S rRNA gene and ITS1 and ITS2 DNA\n",
            "Annotations: {}\n",
            "Id: gi|2765567|emb|Z78442.1|PBZ78442\n",
            "Name: gi|2765567|emb|Z78442.1|PBZ78442\n",
            "Name: GTAGGTGAACCTGCGGAAGGATCATTGTTGAGATCACATAATAATTGATCGAGTTAATCTGGAGGATCTGTTTACTTTGGTCACCCATGGGCATTTGCTGTTGAAGTGACCTAGATTTGCCATCGAGCCTCCTTGGGAGCTTTCTTGTTGGCGAGATCTAAACCCTTGCCCGGCGGAGTTTGGCGCCAAGTCATATGACACATAATTGGTGAAGGGGGTGGCATCCTGCCCTGACCCTCCCCAAATTATTTTTTTAACAACTCTCAGCAACGGATATCTCGGCTCTTGCATCGATGAAGAACGCAGCGAAATGCGATAAATGGTGTGAATTGCAGAATCCCGTGAACCATCGAGTCTTTGGAACGCAAGTTGCGCCCGAGGCCATCAGGCCAAGGGCACGCCTGCCTGGGCATTGGGAATCATATCTCTCCCCTAACGAGGCTATCCAAACATACTGTTCATCCGGTGCGGATGTGAGTTTGGCCCCTTGTTCTTTGGTACCGGGGGTCTAAGAGCTGCATGGGCATTTGATGGTCCTCAAAACGGCAAGAGGTGGACGAACTATGCCACAACAAAATTGTTGTCCCAAGGCCCCGGGTTGTCGTATTAGATGGGCCACCGTAACCTGAAGACCCTTTTGAACCCCATTGGAGGCCCATCAACCCATGATCAGTTGATGACCATTTGTTGCGACCCCAGTCAGCTGAGCAACCCGCTGAGT\n",
            "Description: gi|2765567|emb|Z78442.1|PBZ78442 P.bullenianum 5.8S rRNA gene and ITS1 and ITS2 DNA\n",
            "Annotations: {}\n",
            "Id: gi|2765566|emb|Z78441.1|PSZ78441\n",
            "Name: gi|2765566|emb|Z78441.1|PSZ78441\n",
            "Name: GGAAGGTCATTGCCGATATCACATAATAATTGATCGAGTTAATCTGGAGGATCTGTTTACTTGGTCACCCATGAGCATTTGCTGTTGAAGTGACCTAGATTTGCCATCGAGCCTCCTTGGGAGTTTTCTTGTTGGCGAGATCTAAACCCTTGCCCGGCGGAGTTGTGCGCCAAGTCATATGACACATAATTGGTGAAGGGGGTGGCATCCTGCCCTGACCCTCCCCAAATTATTTTTTTAACAACTCTCAGCAACGGATATCTCGGCTCTTGCATCGATGAAGAACGCAGCGAAATGCGATAAATGGTGTGAATTGCAGAATCCCGTGAACCATCGAGTCTTTGAACGCAAGTTGCGCCCGAGGCCATCAGGCCAAGGGCACGCCTGCCTGGGCATTGCGAGTCATATCTCTCCCTTAACGAGGCTGTCCATACATACTGTTCATCCGGTGCGGATGTGAGTTTGGCCCCTTGTTCTTTGGTACGGGGGGTCTAAGAGCTGCATGGGCATTTGATGGTCCTCAAAACGGCAAGAGGTGGACGAACTATGCTACAACCAAATTGTTGTCCCAAGGCCCCGGGTTGTCGTATTAGATGGGCCACCGTAACCTGAAGACCCTTTTGAACCCCATTGGAGGCCCATCAACCCATGATCAGTTGATGACCATGTGTTGCGACCCCAGTCAGCTGAGCAACGCGCTGAG\n",
            "Description: gi|2765566|emb|Z78441.1|PSZ78441 P.superbiens 5.8S rRNA gene and ITS1 and ITS2 DNA\n",
            "Annotations: {}\n",
            "Id: gi|2765565|emb|Z78440.1|PPZ78440\n",
            "Name: gi|2765565|emb|Z78440.1|PPZ78440\n",
            "Name: CGTAACAAGGTTTCCGTAGGTGGACCTCCGGGAGGATCATTGTTGAGATCACATAATAATTGATCGAGGTAATCTGGAGGATCTGCATATTTTGGTCACCCATGGGCAATTTCTGTTGTAGTGACCTAGAATTTCCATCGACCCTCCTTGGGAGCATTCTTGTTGGCGAGAACTAAACCCTTACCCGGCGCAGTTTTTCCCCCAATCAAATTACACAAAAATGGTGGAGGGGGTGGCATATCTTCCCTTACCCTCCCCCAAATAATTTTTTAACAACTCTCAGCAACGGATATCTCAGCTCTTGCATCGTTGAAGAACCCACCGAAATGCGATAAATGGTGTGAATTGCAGAATCCCGTGAACCATCGAGTCTTTGAACGCAAGTTGCGCCCGAGGCCATCAGGCCAAGGGCACGCCTGCCTGGGCATTGCGAGTCATATCTCTCCCTTAACGAGGCTGTCCATACATACTGTTCAGCCGGTGCGGATGTGAGTTTGGCCCCTTGTTCTTTGCTACGGGGGGTCTAAGAGCTGCATGGGCTTTTGATGGTCCTAAATACGGCAAGAGGTGGACGAACTATGCTACAGCAAAATTGTTGTGCAAAGGCCCCGGGTTGTCGTATTAGATGGGCCACCGTAATCTGAAGACCCTTTTGAACCCCATTGGAGGCCCATCAACCCATGATCAGTTGATGGCCATTTGGTTGCGACCCCAGGTCAGGTGAGGCAACCCCTGAGTTTAGCA\n",
            "Description: gi|2765565|emb|Z78440.1|PPZ78440 P.purpuratum 5.8S rRNA gene and ITS1 and ITS2 DNA\n",
            "Annotations: {}\n",
            "Id: gi|2765564|emb|Z78439.1|PBZ78439\n",
            "Name: gi|2765564|emb|Z78439.1|PBZ78439\n",
            "Name: CATTGTTGAGATCACATAATAATTGATCGAGTTAATCTGGAGGATCTGTTTACTTTGGTCACCCATGGGCATTTGCTGTTGAAGTGACCTAGATTTGCCATCGAGCCTCCTTGGGAGCTTTCTTGTTGGCGAGATCTAAACCCCTGCCCGGCGGAGTTGGGCGCCAAGTCATATGACACATAATTGGTGAAGGGGGTGGTAATCCTGCCCTGACCCTCCCCAAATTATTTTTTTAACAACTCTCAGCAACGGATATCTCGGCTCTTGCATCGATGAAGAACGCAGCGAAATGCGATAATGGTGTGAATTGCAGAATCCCGTGAACATCGAGTCTTTGAACGCAAGTTGCGCCCGAGGCCATCAGGCCAAGGGCACGCCTGCCTGGGCATTGCGAGTCATATCTCTCCCTTAATGAGGCTGTCCATACATACTGTTCAGCCGGTGCGGATGTGAGTTTGGCCCCTTGTTCTTTGGTACGGGGGGTCTAAGAGCTGCATGGGCTTTGGATGGTCCTAAATACGGAAAGAGGTGGACGAACTATGCTACAACAAAATTGTTGTGCAAATGCCCCGGTTGGCCGTTTAGTTGGGCC\n",
            "Description: gi|2765564|emb|Z78439.1|PBZ78439 P.barbatum 5.8S rRNA gene and ITS1 and ITS2 DNA\n",
            "Annotations: {}\n"
          ]
        }
      ],
      "source": [
        "from Bio.SeqIO import parse #`parse’ class is used to parse the content of the sequence file.\n",
        "records = parse(\"/content/drive/MyDrive/Python_Bioinformatics_ACEGID/orchid.fasta\", \"fasta\")#parse the content of the sequence file and returns the content as the list of\n",
        "#SeqRecord object\n",
        "for record in records:#loops over the records using python for loop and prints the attributes of the\n",
        "#sequence record (SqlRecord) such as id, name, description, sequence data, etc\n",
        "     print(\"Id: %s\" % record.id)\n",
        "     print(\"Name: %s\" % record.name)\n",
        "     print(\"Name: %s\" % record.seq)\n",
        "     print(\"Description: %s\" % record.description)\n",
        "     print(\"Annotations: %s\" % record.annotations)\n",
        "\n"
      ]
    },
    {
      "cell_type": "markdown",
      "metadata": {
        "id": "4b_QytYx9uou"
      },
      "source": [
        "###Parsing Genbank file format"
      ]
    },
    {
      "cell_type": "code",
      "execution_count": null,
      "metadata": {
        "colab": {
          "base_uri": "https://localhost:8080/"
        },
        "id": "q1XtaJQr9BAv",
        "outputId": "a5de4954-7749-416a-d1a0-7b563efd39e8"
      },
      "outputs": [
        {
          "output_type": "stream",
          "name": "stdout",
          "text": [
            "Id: Z78533.1\n",
            "Name: Z78533\n",
            "Name: CGTAACAAGGTTTCCGTAGGTGAACCTGCGGAAGGATCATTGATGAGACCGTGGAATAAACGATCGAGTGAATCCGGAGGACCGGTGTACTCAGCTCACCGGGGGCATTGCTCCCGTGGTGACCCTGATTTGTTGTTGGGCCGCCTCGGGAGCGTCCATGGCGGGTTTGAACCTCTAGCCCGGCGCAGTTTGGGCGCCAAGCCATATGAAAGCATCACCGGCGAATGGCATTGTCTTCCCCAAAACCCGGAGCGGCGGCGTGCTGTCGCGTGCCCAATGAATTTTGATGACTCTCGCAAACGGGAATCTTGGCTCTTTGCATCGGATGGAAGGACGCAGCGAAATGCGATAAGTGGTGTGAATTGCAAGATCCCGTGAACCATCGAGTCTTTTGAACGCAAGTTGCGCCCGAGGCCATCAGGCTAAGGGCACGCCTGCTTGGGCGTCGCGCTTCGTCTCTCTCCTGCCAATGCTTGCCCGGCATACAGCCAGGCCGGCGTGGTGCGGATGTGAAAGATTGGCCCCTTGTGCCTAGGTGCGGCGGGTCCAAGAGCTGGTGTTTTGATGGCCCGGAACCCGGCAAGAGGTGGACGGATGCTGGCAGCAGCTGCCGTGCGAATCCCCCATGTTGTCGTGCTTGTCGGACAGGCAGGAGAACCCTTCCGAACCCCAATGGAGGGCGGTTGACCGCCATTCGGATGTGACCCCAGGTCAGGCGGGGGCACCCGCTGAGTTTACGC\n",
            "Description: C.irapeanum 5.8S rRNA gene and ITS1 and ITS2 DNA\n",
            "Annotations: {'molecule_type': 'DNA', 'topology': 'linear', 'data_file_division': 'PLN', 'date': '30-NOV-2006', 'accessions': ['Z78533'], 'sequence_version': 1, 'gi': '2765658', 'keywords': ['5.8S ribosomal RNA', '5.8S rRNA gene', 'internal transcribed spacer', 'ITS1', 'ITS2'], 'source': 'Cypripedium irapeanum', 'organism': 'Cypripedium irapeanum', 'taxonomy': ['Eukaryota', 'Viridiplantae', 'Streptophyta', 'Embryophyta', 'Tracheophyta', 'Spermatophyta', 'Magnoliophyta', 'Liliopsida', 'Asparagales', 'Orchidaceae', 'Cypripedioideae', 'Cypripedium'], 'references': [Reference(title='Phylogenetics of the slipper orchids (Cypripedioideae: Orchidaceae): nuclear rDNA ITS sequences', ...), Reference(title='Direct Submission', ...)]}\n",
            "Id: Z78532.1\n",
            "Name: Z78532\n",
            "Name: CGTAACAAGGTTTCCGTAGGTGAACCTGCGGAAGGATCATTGTTGAGACAACAGAATATATGATCGAGTGAATCTGGAGGACCTGTGGTAACTCAGCTCGTCGTGGCACTGCTTTTGTCGTGACCCTGCTTTGTTGTTGGGCCTCCTCAAGAGCTTTCATGGCAGGTTTGAACTTTAGTACGGTGCAGTTTGCGCCAAGTCATATAAAGCATCACTGATGAATGACATTATTGTCAGAAAAAATCAGAGGGGCAGTATGCTACTGAGCATGCCAGTGAATTTTTATGACTCTCGCAACGGATATCTTGGCTCTAACATCGATGAAGAACGCAGCTAAATGCGATAAGTGGTGTGAATTGCAGAATCCCGTGAACCATCGAGTCTTTGAACGCAAGTTGCGCTCGAGGCCATCAGGCTAAGGGCACGCCTGCCTGGGCGTCGTGTGTTGCGTCTCTCCTACCAATGCTTGCTTGGCATATCGCTAAGCTGGCATTATACGGATGTGAATGATTGGCCCCTTGTGCCTAGGTGCGGTGGGTCTAAGGATTGTTGCTTTGATGGGTAGGAATGTGGCACGAGGTGGAGAATGCTAACAGTCATAAGGCTGCTATTTGAATCCCCCATGTTGTTGTATTTTTTCGAACCTACACAAGAACCTAATTGAACCCCAATGGAGCTAAAATAACCATTGGGCAGTTGATTTCCATTCAGATGCGACCCCAGGTCAGGCGGGGCCACCCGCTGAGTTGAGGC\n",
            "Description: C.californicum 5.8S rRNA gene and ITS1 and ITS2 DNA\n",
            "Annotations: {'molecule_type': 'DNA', 'topology': 'linear', 'data_file_division': 'PLN', 'date': '30-NOV-2006', 'accessions': ['Z78532'], 'sequence_version': 1, 'gi': '2765657', 'keywords': ['5.8S ribosomal RNA', '5.8S rRNA gene', 'internal transcribed spacer', 'ITS1', 'ITS2'], 'source': 'Cypripedium californicum', 'organism': 'Cypripedium californicum', 'taxonomy': ['Eukaryota', 'Viridiplantae', 'Streptophyta', 'Embryophyta', 'Tracheophyta', 'Spermatophyta', 'Magnoliophyta', 'Liliopsida', 'Asparagales', 'Orchidaceae', 'Cypripedioideae', 'Cypripedium'], 'references': [Reference(title='Phylogenetics of the slipper orchids (Cypripedioideae: Orchidaceae): nuclear rDNA ITS sequences', ...), Reference(title='Direct Submission', ...)]}\n",
            "Id: Z78531.1\n",
            "Name: Z78531\n",
            "Name: CGTAACAAGGTTTCCGTAGGTGAACCTGCGGAAGGATCATTGTTGAGACAGCAGAACATACGATCGAGTGAATCCGGAGGACCCGTGGTTACACGGCTCACCGTGGCTTTGCTCTCGTGGTGAACCCGGTTTGCGACCGGGCCGCCTCGGGAACTTTCATGGCGGGTTTGAACGTCTAGCGCGGCGCAGTTTGCGCCAAGTCATATGGAGCGTCACCGATGGATGGCATTTTTGTCAAGAAAAACTCGGAGGGGCGGCGTCTGTTGCGCGTGCCAATGAATTTATGACGACTCTCGGCAACGGGATATCTGGCTCTTGCATCGATGAAGAACGCAGCGAAATGCGATAAGTGGTGTGAATTGCAGAATCCCGCGAACCATCGAGTCTTTGAACGCAAGTTGCGCCCGAGGCCATCAGGCTAAGGGCACGCCTGCCTGGGCGTCGTGTGCTGCGTCTCTCCTGATAATGCTTGATTGGCATGCGGCTAGTCTGTCATTGTGAGGACGTGAAAGATTGGCCCCTTGCGCCTAGGTGCGGCGGGTCTAAGCATCGGTGTTCTGATGGCCCGGAACTTGGCAGTAGGTGGAGGATGCTGGCAGCCGCAAGGCTGCCGTTCGAATCCCCCGTGTTGTCGTACTCGTCAGGCCTACAGAAGAACCTGTTTGAACCCCCAGTGGACGCAAAACCGCCCTCGGGCGGTGATTTCCATTCAGATGCGACCCCAGTCAGGCGGGCCACCCGTGAGTAA\n",
            "Description: C.fasciculatum 5.8S rRNA gene and ITS1 and ITS2 DNA\n",
            "Annotations: {'molecule_type': 'DNA', 'topology': 'linear', 'data_file_division': 'PLN', 'date': '30-NOV-2006', 'accessions': ['Z78531'], 'sequence_version': 1, 'gi': '2765656', 'keywords': ['5.8S ribosomal RNA', '5.8S rRNA gene', 'internal transcribed spacer', 'ITS1', 'ITS2'], 'source': 'Cypripedium fasciculatum', 'organism': 'Cypripedium fasciculatum', 'taxonomy': ['Eukaryota', 'Viridiplantae', 'Streptophyta', 'Embryophyta', 'Tracheophyta', 'Spermatophyta', 'Magnoliophyta', 'Liliopsida', 'Asparagales', 'Orchidaceae', 'Cypripedioideae', 'Cypripedium'], 'references': [Reference(title='Phylogenetics of the slipper orchids (Cypripedioideae: Orchidaceae): nuclear rDNA ITS sequences', ...), Reference(title='Direct Submission', ...)]}\n",
            "Id: Z78530.1\n",
            "Name: Z78530\n",
            "Name: CGTAACAAGGTTTCCGTAGGTGAACCTGCGGAAGGATCATTGTTGAAACAACATAATAAACGATTGAGTGAATCTGGAGGACTTGTGGTAATTTGGCTCGCTAGGGATATCCTTTTGTGGTGACCATGATTTGTCATTGGGCCTCATTGAGAGCTTTCATGGCGGGTTTGAACCTCTAGCACGGTCCAGTTTGCACCAAGGTATATAAAGAATCACCGATGAATGACATTATTGCCCCACACAACGTCGGAGGTGTGGTGTGTTAATGTTCATTCCAATGAATTTTGATGACTCTCGGCAGACGGATATCTTGACTCTTGCATCGATGAAGAACGCACCGAAATGTGATAAGTGGTGTGAATTGCAGAATCCCGTGAACCATCGAGTCTTTGAACGCAAGTTGCGCCCGAGGCCATCAGGCTAAGGGCACGCCTGCCTGGGCGTCGTATGTTTTATCTCTCCTTCCAATGCTTGTCCAGCATATAGCTAGGCCATCATTGTGTGGATGTGAAAGATTGGCCCCTTGTGCTTAGGTGCGGTGGGTCTAAGGATATGTGTTTTGATGGTCTGAAACTTGGCAAGAGGTGGAGGATGCTGGCAGCCGCAAGGCTATTGTTTGAATCCCCCATGTTGTCATGTTTGTTGGGCCTATAGAACAACTTGTTTGGACCCTAATTAAGGCAAAACAATCCTTGGGTGGTTGATTTCCAATCAGATGCGACCCCAGTCAGGGGGCCACCCCAT\n",
            "Description: C.margaritaceum 5.8S rRNA gene and ITS1 and ITS2 DNA\n",
            "Annotations: {'molecule_type': 'DNA', 'topology': 'linear', 'data_file_division': 'PLN', 'date': '30-NOV-2006', 'accessions': ['Z78530'], 'sequence_version': 1, 'gi': '2765655', 'keywords': ['5.8S ribosomal RNA', '5.8S rRNA gene', 'internal transcribed spacer', 'ITS1', 'ITS2'], 'source': 'Cypripedium margaritaceum', 'organism': 'Cypripedium margaritaceum', 'taxonomy': ['Eukaryota', 'Viridiplantae', 'Streptophyta', 'Embryophyta', 'Tracheophyta', 'Spermatophyta', 'Magnoliophyta', 'Liliopsida', 'Asparagales', 'Orchidaceae', 'Cypripedioideae', 'Cypripedium'], 'references': [Reference(title='Phylogenetics of the slipper orchids (Cypripedioideae: Orchidaceae): nuclear rDNA ITS sequences', ...), Reference(title='Direct Submission', ...)]}\n",
            "Id: Z78529.1\n",
            "Name: Z78529\n",
            "Name: ACGGCGAGCTGCCGAAGGACATTGTTGAGACAGCAGAATATACGATTGAGTGAATCTGGAGGACTTGTGGTTATTTGGCTCGCTAGGGATTTCCTTTTGTGGTGACCATGATTTGTCATTGGGCCTCATTGAGAGCTTTCATGGCGGGTTTGAACCTCTAGCACGGTGCAGTTTGCACCAAGGTATATAAAGAATCACCGATGAATGACATTATTGTCAAAAAAGTCGGAGGTGTGGTGTGTTATTGGTCATGCCAATGAATTGTTGATGACTCTCGCCGAGGGATATCTTGGCTCTTGCATCGATGAAGAATCCCACCGAAATGTGATAAGTGGTGTGAATTGCAGAATCCCGTGAACCATCGAGTCTTTGAACGCAAGTTGCGCCCGAGGCCATCAGGCTAAGGGCACGCCTGCCTGGGCGTCGTATGTTTTATCTCTCCTTCCAATGCTTGTCCAGCATATAGCTAGGCCATCATTGTGTGGATGTGAAAGATTGGCCCCTTGTGCTTAGGTGCGGTGGGTCTAAGGATATGTGTTTTGATGGTCTGAAACTTGGCAAGAGGTGGAGGATGCTGGCAGCCGCAAGGCTATTGTTTGAATCCCCCATGTTGTCATATTTGTTGGGCCTATAGAACAACTTGTTTGGACCCTAATTAAGGCAAAACAATCCTTGGGTGGTTGATTTCCAATCAGATGCGACCCCAGTCAGCGGGCCACCAGCTGAGCTAAAA\n",
            "Description: C.lichiangense 5.8S rRNA gene and ITS1 and ITS2 DNA\n",
            "Annotations: {'molecule_type': 'DNA', 'topology': 'linear', 'data_file_division': 'PLN', 'date': '30-NOV-2006', 'accessions': ['Z78529'], 'sequence_version': 1, 'gi': '2765654', 'keywords': ['5.8S ribosomal RNA', '5.8S rRNA gene', 'internal transcribed spacer', 'ITS1', 'ITS2'], 'source': 'Cypripedium lichiangense', 'organism': 'Cypripedium lichiangense', 'taxonomy': ['Eukaryota', 'Viridiplantae', 'Streptophyta', 'Embryophyta', 'Tracheophyta', 'Spermatophyta', 'Magnoliophyta', 'Liliopsida', 'Asparagales', 'Orchidaceae', 'Cypripedioideae', 'Cypripedium'], 'references': [Reference(title='Phylogenetics of the slipper orchids (Cypripedioideae: Orchidaceae): nuclear rDNA ITS sequences', ...), Reference(title='Direct Submission', ...)]}\n",
            "Id: Z78527.1\n",
            "Name: Z78527\n",
            "Name: CGTAACAAGGTTTCCGTAGGTGAACCTGCGGAAGGATCATTGTTGAGACAGTAGAATATATGATCGAGTGAATCTGGATGACCTGTGGTTACTCGGCTCGCCTGATTTGTTGTTGGGCTTCCTTAGGAGCTTACATGGCGGGTTTGAACCTCTACCACGGTGCAGTTTGCGCCAAGTCATATGAAGCATAACTGCAAATGGCACTACTGTCACCAAAAGTTGGAGTGGCAGTGTGTTATTGCATGCGCTAATGGATTTTTGATGACTCTCGGCCAACGGATATCTGGCTCTTTGCATCGATGAAGGAACGCAGCGAAATGCGATAAGTGGTGTGAATTGCAGAATCCCGCGAACCATCGAGTCTTTGAACGCAAGTTGCGCCCGAGGCCATCAGGCTAAGGGCACGCCTGCCTGGGCGTCGTGTATCGCATCTCTCTTGCCAATGCTTACCCGGCATACAACTAGGCTGGCATTGGGTGGATGTGAAAGATTGGCCCCTTGTGCCTAGGTGCGGTGGGTCTAAGGATTGATGTTTTGATGGATCGAAACCTGGCAGGAGGTGGAGGATGCTGGAAGCCGCAAGGCTGTCGTTCGAATCCCCCATGTTGTCATATTTGTCGAACCTATAAAAGAACATGCTTGAACCCCAATGGATTGTAAAATGACCCTTGGCGGTTGATTTCCATTTAGATGCGACCCCAGGTCAGGCGGGCCACCC\n",
            "Description: C.yatabeanum 5.8S rRNA gene and ITS1 and ITS2 DNA\n",
            "Annotations: {'molecule_type': 'DNA', 'topology': 'linear', 'data_file_division': 'PLN', 'date': '30-NOV-2006', 'accessions': ['Z78527'], 'sequence_version': 1, 'gi': '2765652', 'keywords': ['5.8S ribosomal RNA', '5.8S rRNA gene', 'internal transcribed spacer', 'ITS1', 'ITS2'], 'source': 'Cypripedium yatabeanum', 'organism': 'Cypripedium yatabeanum', 'taxonomy': ['Eukaryota', 'Viridiplantae', 'Streptophyta', 'Embryophyta', 'Tracheophyta', 'Spermatophyta', 'Magnoliophyta', 'Liliopsida', 'Asparagales', 'Orchidaceae', 'Cypripedioideae', 'Cypripedium'], 'references': [Reference(title='Phylogenetics of the slipper orchids (Cypripedioideae: Orchidaceae): nuclear rDNA ITS sequences', ...), Reference(title='Direct Submission', ...)]}\n",
            "Id: Z78526.1\n",
            "Name: Z78526\n",
            "Name: CGTAACAAGGTTTCCGTAGGTGAACCTGCGGAAGGATCATTGTTGAGACAGTAGAATATATGATCGAGTGAATCTGGAGGACCTGTGGTTACTCGGCTCCCCTGATTTGTTGTTGGGCTTCCTTAGGAGCTTACATGCCGGGTTTGAACCTCTACCACGGTGCAGTTTGCGCCAAGTCATATGAAGCATAACTGAACAATGGCATTATTGTCACCAAAAGTTGGAGTGGCAGTGTGCTATTGCATGCGCTAATGGATTTTTGATGACTCTCGCCAACGGATATCTTGGCTCTTGCATCGATGAAGAACCCAGCGAAATGCGATAAGTGGTGTGAATTGCAGAATCCCGCGAACCATCGAGTCTTTGAACGCAAGTTGCGCCCGAGGCCATCAGGCTAAGGGCACGCCTGCCTGGGCGTCGTGTATCGCATCTCTCTTGCCAATGCTTACCCGGCATACAACTAGGCTGGCATTGTGCGGATGTGAAAGATTGGCCCCTTGTGCCTAGGTGCGGTGGGTCTAAGGATTGATGTTTTGATGGATCGAAACCTGGCAGGAGGTGGAGGATGCTGGAAGCCGCAAGGCTGTCGTTCGAATCCCCCATGTTGTCATATTTGTCGAACCTATAAAAGAACATGCTTGAACCCCAATGGATGTAAAATGACCCTTGGCGGTTGATTTCCATTTAGATGCGACCCCAGGTCAGGCGGGGCCACCCGCTGAGTTTATGT\n",
            "Description: C.guttatum 5.8S rRNA gene and ITS1 and ITS2 DNA\n",
            "Annotations: {'molecule_type': 'DNA', 'topology': 'linear', 'data_file_division': 'PLN', 'date': '30-NOV-2006', 'accessions': ['Z78526'], 'sequence_version': 1, 'gi': '2765651', 'keywords': ['5.8S ribosomal RNA', '5.8S rRNA gene', 'internal transcribed spacer', 'ITS1', 'ITS2'], 'source': 'Cypripedium guttatum', 'organism': 'Cypripedium guttatum', 'taxonomy': ['Eukaryota', 'Viridiplantae', 'Streptophyta', 'Embryophyta', 'Tracheophyta', 'Spermatophyta', 'Magnoliophyta', 'Liliopsida', 'Asparagales', 'Orchidaceae', 'Cypripedioideae', 'Cypripedium'], 'references': [Reference(title='Phylogenetics of the slipper orchids (Cypripedioideae: Orchidaceae): nuclear rDNA ITS sequences', ...), Reference(title='Direct Submission', ...)]}\n",
            "Id: Z78525.1\n",
            "Name: Z78525\n",
            "Name: TGTTGAGATAGCAGAATATACATCGAGTGAATCCGGAGGACCTGTGGTTATTCGGCTTGCCGAGGGCTTTGCTTTTGTGGTGACCCAAATTTGTCGTTGGGCCTCCTCGGGAGCTTTCATGGCAGGTTTCAAACTCTAGCACGGCACAGTTTGTGCCAAGTCATATGAAGCATCACCGACAAATGACATTATTGTCAAAAAAGTTGGAGGGGCGGTGTCCTCCTGTGCATGCCGAATATAATTTTGATGACTCTCGACAAGCGGATATCTTGGCTCTTGCATCGGATGAAGAACCCAGCGAAATGCGATAAGTGGTGTGAATTGCAAGATCCCGTGAACCATCGAGTCTTTTGAACGCAAGTTGCGCCCGAGGCCATCAGGCTAAGGGCACGCCTGCCTGGGCGTCGTGTGTTGTGTCTCTCTTGCCAATGCCTGTCCATATATCTAGGCTTGCATTGTGCGGATGCGAAAGATTGGCCCCTTGTGCCTTGGCGCGTTGGGTCTAAGGAATGTTTTGATGGCCCGAAACTTGGCAGGAGGTGGAGGACATTGGCTGCCACAAGGTTGTCATTTAAATCCCCCATGTTATCGTATTTATCGGACCTATATAATAACTTGTTTGAACCCCAGTGGAGGCAAAATGACCCTTGGATGGTTGACTGCCATTCATATGCGACCCCAGGTCAGGCGGGCCACCCGCTGCA\n",
            "Description: C.acaule 5.8S rRNA gene and ITS1 and ITS2 DNA\n",
            "Annotations: {'molecule_type': 'DNA', 'topology': 'linear', 'data_file_division': 'PLN', 'date': '30-NOV-2006', 'accessions': ['Z78525'], 'sequence_version': 1, 'gi': '2765650', 'keywords': ['5.8S ribosomal RNA', '5.8S rRNA gene', 'internal transcribed spacer', 'ITS1', 'ITS2'], 'source': \"Cypripedium acaule (pink lady's slipper)\", 'organism': 'Cypripedium acaule', 'taxonomy': ['Eukaryota', 'Viridiplantae', 'Streptophyta', 'Embryophyta', 'Tracheophyta', 'Spermatophyta', 'Magnoliophyta', 'Liliopsida', 'Asparagales', 'Orchidaceae', 'Cypripedioideae', 'Cypripedium'], 'references': [Reference(title='Phylogenetics of the slipper orchids (Cypripedioideae: Orchidaceae): nuclear rDNA ITS sequences', ...), Reference(title='Direct Submission', ...)]}\n",
            "Id: Z78524.1\n",
            "Name: Z78524\n",
            "Name: CGTAACAAGGTTTCCGTAGGTGAACCTGCGGAAGGATCATTGTTGAGATAGTAGAATATATGATTGAGTGAATATGGAGGACATGTGGTTACTTGGCTCGTCAGTGCTTTGCTTTTGTGGTGACCTTAATTGGGCCTCCTTAGGAGCTTTCATGGCGGGTTCAAACCTTTAGCACGGCGCAGTTTGTGCCAAGTCATATAAGCATCCCTGATGAATGGCATTGTTGTTAAAAAAGTCGGAGGGGCGGCATGCTGTTGTGCATGCTAATGAATTTTTTGATGACTCTCGCAACGGAACTTGGCTCTTTACATCCGATGAAGAACGCAGCGAAATGCGATAAGTGGTGTGAATTGCAGAATCCCGTGAACCATCGAGTATTTGAACGCAAGTTGCGCCCAAGGCCATCAGGCTAAGGGCACGCCTGCCTGGGCGTCGTGTGCTGCATCTCTCCTNCCAATGCTTGCCCAGCATATAGCTAGGTTAGCATTGTGCGGATGAAATATTGGCCCCTTGTGCTTAGGTGCGGTGGGTCTAAGGATTAGTATTTTGATAGCTCGGAACTCGGCAGGAGGTGGAGAATGTTGGTAGCTGCAAGGCTGCCATTTGAATTCCCCATGTTGTCGTATTTGTTGAACCTATAAAAGAACTTGTTTGAACCCCAATGAAGGAAAAATGACCCTTGGGCGGTTGATTTTCATTCAGATGCAACCCCAGGTCAGGTGGCCACCCTGAGATTAAGC\n",
            "Description: C.formosanum 5.8S rRNA gene and ITS1 and ITS2 DNA\n",
            "Annotations: {'molecule_type': 'DNA', 'topology': 'linear', 'data_file_division': 'PLN', 'date': '30-NOV-2006', 'accessions': ['Z78524'], 'sequence_version': 1, 'gi': '2765649', 'keywords': ['5.8S ribosomal RNA', '5.8S rRNA gene', 'internal transcribed spacer', 'ITS1', 'ITS2'], 'source': 'Cypripedium formosanum', 'organism': 'Cypripedium formosanum', 'taxonomy': ['Eukaryota', 'Viridiplantae', 'Streptophyta', 'Embryophyta', 'Tracheophyta', 'Spermatophyta', 'Magnoliophyta', 'Liliopsida', 'Asparagales', 'Orchidaceae', 'Cypripedioideae', 'Cypripedium'], 'references': [Reference(title='Phylogenetics of the slipper orchids (Cypripedioideae: Orchidaceae): nuclear rDNA ITS sequences', ...), Reference(title='Direct Submission', ...)]}\n",
            "Id: Z78523.1\n",
            "Name: Z78523\n",
            "Name: CGTAACCAGGTTTCCGTAGGTGAACCTGCGGCAGGATCATTGTTGAGACAGCAGAATATATGATCGAGTGAATCCGGTGGACTTGTGGTTACTCAGCTCGACATAGGCTTTGCTTTTGCGGTGACCCTAACTTGTCATTGGGCCTCCTCCCAAGCTTTCCTTGTGGGTGTGAACCTCTAGCACGGTGCAGTATGCGCCAAGTCATATGAAGCATCACTGAGGAATGACATTATTGTCCCAAAAGCTAGAGTGGAAGCGTGCTCTTGCATGCATGCATAATGAATTTTTTATTGACTCTCGACATATGTGGTGTGAATTGCAGAATCCCGTGAACCATCGAGTCTTTGAACGCAAGTTGCGCCCGATGCCATCAGGCTAAGGGCACGCCTGCCTGGGCGTCGTGTGCTGCGTCTCTCCTATCAATGCTTTCCTATCATATAGATTGGTTTGCATTGCGTGGATGCGAAAGATTGGCCCCTTGTGCCTAGGTGCGGTGGGTCTAAGGACTAGTGTTTTGATGGTTCGAAACCTGGCAGGAGGTGGAGGATGTTGGCAGCTATAAGGCTATCGTTTGAACCCCCCATATTGTCGTGTTTGTCGGACCTAGAGAAGAACCTGTTTGAATCCCAATGGAGGCAAACAACCCTCGGGCGGTTGATTGCCATTCATATTGCGACCCAGGTCAGGCGGGGCCACCGCTGAGTTTAAG\n",
            "Description: C.himalaicum 5.8S rRNA gene and ITS1 and ITS2 DNA\n",
            "Annotations: {'molecule_type': 'DNA', 'topology': 'linear', 'data_file_division': 'PLN', 'date': '30-NOV-2006', 'accessions': ['Z78523'], 'sequence_version': 1, 'gi': '2765648', 'keywords': ['5.8S ribosomal RNA', '5.8S rRNA gene', 'internal transcribed spacer', 'ITS1', 'ITS2'], 'source': 'Cypripedium himalaicum', 'organism': 'Cypripedium himalaicum', 'taxonomy': ['Eukaryota', 'Viridiplantae', 'Streptophyta', 'Embryophyta', 'Tracheophyta', 'Spermatophyta', 'Magnoliophyta', 'Liliopsida', 'Asparagales', 'Orchidaceae', 'Cypripedioideae', 'Cypripedium'], 'references': [Reference(title='Phylogenetics of the slipper orchids (Cypripedioideae: Orchidaceae): nuclear rDNA ITS sequences', ...), Reference(title='Direct Submission', ...)]}\n",
            "Id: Z78522.1\n",
            "Name: Z78522\n",
            "Name: CGTAACAAGGTTTCCGTAGGTGAACCTGCGGAAGGATCATTGTTGAGACAGCAGAATATATGATCGAGTGAATCCGGTGGACTTGTGGTTACTCAGCTCGACATAGGCTTTGCTTTTGCGGTGACCCTAATTTGTCATTGGGCCTCCCCCCAAGCTTTCCTTGTGGGTTTGAACCTCTAGCACGGTGCAGTATGCGCCAAGTCATATGAAGCATCACTGATGAATGACATTATTGTCCAAAAAGTTGGAGTGGAAGCGTGCTATTGCATACATGCAAATGAATTTTTTATGACTCTCGACATATCGTGGTGTGATCGCAGAATCCCGTGAACCATCGAGTCTTTGAACGCAAGTTGCGCCCGATGCCATCAGGCTAAGGGAACGCCTGCCTGGGCGTCGTGTGCTGCGTCTCTCCTGTCAATGGTTATACGTCATATAGACAGGTTTGCATTGCGTGGATGTGAAAGATTGGCCCCTTGTGCCTAGGTGCGGTGGGTCTAAGGACTAGTGTTTTGATGGTTCGAAACCTGGCAGGAGGTGGAGGATGTTGGCAGCTATAAGGCTATCATTTGAATCCCCCATATTGTCGTGTTTGTCGGACCTAGAGAAGAACATGTTTGAATCCCAATGGGGGCAAACAACCCTCGGGCGGTTGATTGCCATTCATATGCGACCCCAGGTCAGGCGGCCACCCGCTGAG\n",
            "Description: C.macranthum 5.8S rRNA gene and ITS1 and ITS2 DNA\n",
            "Annotations: {'molecule_type': 'DNA', 'topology': 'linear', 'data_file_division': 'PLN', 'date': '30-NOV-2006', 'accessions': ['Z78522'], 'sequence_version': 1, 'gi': '2765647', 'keywords': ['5.8S ribosomal RNA', '5.8S rRNA gene', 'internal transcribed spacer', 'ITS1', 'ITS2'], 'source': 'Cypripedium macranthon', 'organism': 'Cypripedium macranthon', 'taxonomy': ['Eukaryota', 'Viridiplantae', 'Streptophyta', 'Embryophyta', 'Tracheophyta', 'Spermatophyta', 'Magnoliophyta', 'Liliopsida', 'Asparagales', 'Orchidaceae', 'Cypripedioideae', 'Cypripedium'], 'references': [Reference(title='Phylogenetics of the slipper orchids (Cypripedioideae: Orchidaceae): nuclear rDNA ITS sequences', ...), Reference(title='Direct Submission', ...)]}\n",
            "Id: Z78521.1\n",
            "Name: Z78521\n",
            "Name: GTAGGTGAACCTGCGGAAGGATCATTGTTGAGACAGTAGAATATATGATCGAGTGAATCCGGTGGACTTGTGGTTACTCAGCTCGACATAGGCTTGGCTTTGGCGGTGACCCTAATTTGCCATTGGGCCTCCTCCAAAGCTTTCCTTGTGGGTTTGAACCTCTAGCACGGTGCAGTATGCGCCAAGTCATATGAAGCATCACCGATGAATGACATTATTGTCAAAAAGTTGGAGTGGAAGCGTGCTATTGCATGCATGCAAATGAATTTTTTATGACTCTCGACAACGGATATCTTGGCTCTTGCATCGATGAAGAACGCAGCAAAATGCGATAAGTGGTGTGAATTGCAGAATCCCGTGAACCATCGAGTCTTTGAACGCAAGTTGCGCCCGATGCCATCAGGCTAAGGGCACGCCTGCCTGGGCGTCGTGTGCTGCGTCTCTCCTGTCAATGCTTTCATGTCATATAGATAGGTTTGCATTGCGTGGATGTGAAAGAATGGCCCCTTGTGCCTAGGTACGGTGGGTCTAAGGACTAGTGTTTTGATGGTTCGAAACCTGGCAGGAGGTGGAGGATGTTGGCAGCTATAAGGCTATCATTTGAATCCCCCATATTGTCGTGTTTGTCGGACCTAGAGAAAAACATGTTTGAATCCCAATGGAGGCAAACAACTCTCGGGCGGTTGATTGCCATTCATATGCGACCCCAGGTCAGGCGGGGCCACC\n",
            "Description: C.calceolus 5.8S rRNA gene and ITS1 and ITS2 DNA\n",
            "Annotations: {'molecule_type': 'DNA', 'topology': 'linear', 'data_file_division': 'PLN', 'date': '30-NOV-2006', 'accessions': ['Z78521'], 'sequence_version': 1, 'gi': '2765646', 'keywords': ['5.8S ribosomal RNA', '5.8S rRNA gene', 'internal transcribed spacer', 'ITS1', 'ITS2'], 'source': 'Cypripedium calceolus', 'organism': 'Cypripedium calceolus', 'taxonomy': ['Eukaryota', 'Viridiplantae', 'Streptophyta', 'Embryophyta', 'Tracheophyta', 'Spermatophyta', 'Magnoliophyta', 'Liliopsida', 'Asparagales', 'Orchidaceae', 'Cypripedioideae', 'Cypripedium'], 'references': [Reference(title='Phylogenetics of the slipper orchids (Cypripedioideae: Orchidaceae): nuclear rDNA ITS sequences', ...), Reference(title='Direct Submission', ...)]}\n",
            "Id: Z78520.1\n",
            "Name: Z78520\n",
            "Name: CGTAACAAGGTTTCCGTAGGTGAACCTGCGGAAGGATCATTGTTGAGACAGCAGAATATATGATCGAGTGAATCCGGTGGACTTGTGGTTACTCAGCTCGCCATAGGCTTTGCTTTTGCGGTGACCCTAATTTGTCATTGGGCCTCCTCCAAAGCTTTCCTTGTGGGTTTGAACCTCTAGCACGGTGCAGTATGCGCCAAGTCATATGAATCATCACCGATGAATGACATTATTGTCCAAAAAGTTGGAGTAGAAGCGTGCTATTGCATGCATGCAATAGAATATTTTATGACTCTCGACAAGGGATATCTTGGCTCTTGCATCGGATGAAGAACGCAGCGAAATTGTGATAAGTGGTGTGAATTGCAGAATCCCGTGAACCATCGAGTATGTGAACGCAAGTTGCGCCCGATGCCATCAGGCTAAGGGCACGCCTGCCTGGGCGTCGTGTGCTGCGTCTCTCCTGTCAATGCTTTCCTGTCATATCGATAGGTTTGCATTGTGTGGATGTGAAAGATTGGCCCCTTGTGCCTAGGTGCGGTGGGTCTAAGGACTAGTGTTTTGATGGTTCGAAACCTGGCAGGAGGTGGAGGATGTTGGCAGCTATAAGGTTGTCATGTGAATCCCCCATATTGTCGTGTTTGTCGGACCTGGAGAAGAACCTGTTTGAATCCCAATGGAGGCAAACAACCCTCGGGCGGTTGATTGCCATTCATATGCGACCCCAGGTCAGGCGGGCCACCCGCTGAGTTT\n",
            "Description: C.segawai 5.8S rRNA gene and ITS1 and ITS2 DNA\n",
            "Annotations: {'molecule_type': 'DNA', 'topology': 'linear', 'data_file_division': 'PLN', 'date': '30-NOV-2006', 'accessions': ['Z78520'], 'sequence_version': 1, 'gi': '2765645', 'keywords': ['5.8S ribosomal RNA', '5.8S rRNA gene', 'internal transcribed spacer', 'ITS1', 'ITS2'], 'source': 'Cypripedium segawai', 'organism': 'Cypripedium segawai', 'taxonomy': ['Eukaryota', 'Viridiplantae', 'Streptophyta', 'Embryophyta', 'Tracheophyta', 'Spermatophyta', 'Magnoliophyta', 'Liliopsida', 'Asparagales', 'Orchidaceae', 'Cypripedioideae', 'Cypripedium'], 'references': [Reference(title='Phylogenetics of the slipper orchids (Cypripedioideae: Orchidaceae): nuclear rDNA ITS sequences', ...), Reference(title='Direct Submission', ...)]}\n",
            "Id: Z78519.1\n",
            "Name: Z78519\n",
            "Name: ATATGATCGAGTGAATCTGGTGGACTTGTGGTTACTCAGCTCGCCATAGGCTTTGCTTTTGCGGTGACCCTAATTTGTCATTGGGCCTCCTCCCAAGCTTTCCTTGTGGGTTTGAACCTCTAGCACGGTGCAGTATGCACCAAGTCATATGAAGCATTGCCGATGAATGACATTATTGTCCAAAAGTTGGAGTGGAAGCGTGCTACTGCATGCATGCAAATGAATTTTTTTATGACTCTCGACAACGGATATCTTGGCTCTTGCATCGATGAAGAACGCAGCGAAATGCGATAAGTGGTGTGAATTGCAGAATCCCGTGAACCATCGAGTCTTTGAACGCAAGTTGCGCCCGATGCCATCAGGCTAAGGGCACGCCTGCCTGGGCGTCGTGTGCTGCGTCTCTCCTGTCAATGCTTTCCCATCATATAGATAGGTTTGCATTGTGTGGATGTGAAAGATTGGCCCCTTGTGCCTAGGTGCGGTGGGTCTAAGAACTTAATGTTTTGATGGTTCGAAACCTGGCAGGAGGTGGAGGATGTTGGCAGCTATATAAGGCTATCATTTGAATCCCCCATATTGTCGCGTTTGTTGGACCTAGAGAAGAACATGTTTGAATCCCAATGGAGGCAAACAACCCTCGGGCGGTTGATTGCCATTCATATGCGACCCCAGGTCAGGCGGGGCCACCCGCTGAGTTTA\n",
            "Description: C.pubescens 5.8S rRNA gene and ITS1 and ITS2 DNA\n",
            "Annotations: {'molecule_type': 'DNA', 'topology': 'linear', 'data_file_division': 'PLN', 'date': '30-NOV-2006', 'accessions': ['Z78519'], 'sequence_version': 1, 'gi': '2765644', 'keywords': ['5.8S ribosomal RNA', '5.8S rRNA gene', 'internal transcribed spacer', 'ITS1', 'ITS2'], 'source': 'Cypripedium parviflorum var. pubescens', 'organism': 'Cypripedium parviflorum var. pubescens', 'taxonomy': ['Eukaryota', 'Viridiplantae', 'Streptophyta', 'Embryophyta', 'Tracheophyta', 'Spermatophyta', 'Magnoliophyta', 'Liliopsida', 'Asparagales', 'Orchidaceae', 'Cypripedioideae', 'Cypripedium'], 'references': [Reference(title='Phylogenetics of the slipper orchids (Cypripedioideae: Orchidaceae): nuclear rDNA ITS sequences', ...), Reference(title='Direct Submission', ...)]}\n",
            "Id: Z78518.1\n",
            "Name: Z78518\n",
            "Name: CGTAACAAGGTTTCCGTAGGTGAACCTGCGGGAGGATCATTGTTGAGATAGTAGAATATTCGATCGAGTGAATCCGGAGGACTTGTGGTTACTCGGCTCGTCGAAGGCTTAACTTTTGTGGTGACCCTGATTTGTAGTTGGGCATCCTCGAGAGCTTTTATGGCGGGTTTGAGCCTCTATCACGGCGCAGTTTGCGCCAAGTCATATGAAGCATCGCCGACGAATTACATTATTGTCCCCCAAACTCGGATGGACGGTGTGTGTTACGCATACCCGTGAACCATCGAGTCTTTGAACGCAAGTTGCGCCCAAGGCCATCAGGCTAAGGGCACGCCTGCCTGGGCGTCGTGTGCTGCATCTCTTTTGCCAATGCTTGCTCGACATACAATTAGGCCAGTATTGCATAGATATGAAAGATTGACCCCTTGTGCTTAGGTGCGGTGGGTCTAAGGATTGGTGTTTTGATGGCCCAAACCCCGGCAGGAGGTGGAGCATGTTGATAGTCGCAAGGCTGTCGTTCAAATCCCACATGTTGTCGTATTTGCCGGACCCACAGAAGAACCTATTTGAACCCCTATGGAGGCAAAACAACCCTTGAGCGATTGATTGCCATTCAGATACGACCCCAGGTCAGGCGGGGCCACCCGCTGAGTTTTCC\n",
            "Description: C.reginae 5.8S rRNA gene and ITS1 and ITS2 DNA\n",
            "Annotations: {'molecule_type': 'DNA', 'topology': 'linear', 'data_file_division': 'PLN', 'date': '30-NOV-2006', 'accessions': ['Z78518'], 'sequence_version': 1, 'gi': '2765643', 'keywords': ['5.8S ribosomal RNA', '5.8S rRNA gene', 'internal transcribed spacer', 'ITS1', 'ITS2'], 'source': 'Cypripedium reginae', 'organism': 'Cypripedium reginae', 'taxonomy': ['Eukaryota', 'Viridiplantae', 'Streptophyta', 'Embryophyta', 'Tracheophyta', 'Spermatophyta', 'Magnoliophyta', 'Liliopsida', 'Asparagales', 'Orchidaceae', 'Cypripedioideae', 'Cypripedium'], 'references': [Reference(title='Phylogenetics of the slipper orchids (Cypripedioideae: Orchidaceae): nuclear rDNA ITS sequences', ...), Reference(title='Direct Submission', ...)]}\n",
            "Id: Z78517.1\n",
            "Name: Z78517\n",
            "Name: CGTAACAAGGTTTCCGTAGGTGAACCTGCGGAAGGATCATTGTTGAGACAGTAGAATATACGATCGAGTGAATCCAGAGGACTTGTGGTTACTCGGCTCGTCCAAGTCTTAGCTTTTGTGGCCCTGATTTGTCGTTGGGCATCCTCAGGAGATTTTATGGCGGGTTTGAACCTCTATCACGGTGCAGTTTGCGCCAAGTCATATGAAGCATCACCGATGAATGACATTATTGTCACAAAAGTCGGATGGGCGGTGTGCTGTTGTGCATGCCAATAAATTTTTGATGACTCTCGGCCAACGGATATCTTGCTCTTCCATCGATGAAGAACGCAGCGAAATGCGATAAGTGGTGTGAATTGCAGAATCCCGTGAACCATCGAGTCTTTGAACGCAAGTTGCGCCCAAGGCCATCAGGCTAAGGGCACGCCTGCCTGGGCGTCGTGTGCTGCATCTCTTTTGCCAATGCTTGCCCGACATACAATTAGGACAGTATTGCATAGATATGAAAGATTGACCCCTTGTGCTTAGGTGCGGTGGGTCTAAGGATTGGTGTTTTGGTGGCCCGAACCCCGGCAGGAGGTGGATCATGTTGATAGTCGCAAGACTGTCATTCAAATCCCACATGTTGTCGTATTTGTCGGACCCACAGAAGAACCTATTTGAACCCCAATGGAGGCAAAACAACCCTCGAGCGATTGATTGCCATTCAGATACGACCCCAGGTCAGGCGGGGCCACCCGCTGAGTTTAAGC\n",
            "Description: C.flavum 5.8S rRNA gene and ITS1 and ITS2 DNA\n",
            "Annotations: {'molecule_type': 'DNA', 'topology': 'linear', 'data_file_division': 'PLN', 'date': '30-NOV-2006', 'accessions': ['Z78517'], 'sequence_version': 1, 'gi': '2765642', 'keywords': ['5.8S ribosomal RNA', '5.8S rRNA gene', 'internal transcribed spacer', 'ITS1', 'ITS2'], 'source': 'Cypripedium flavum', 'organism': 'Cypripedium flavum', 'taxonomy': ['Eukaryota', 'Viridiplantae', 'Streptophyta', 'Embryophyta', 'Tracheophyta', 'Spermatophyta', 'Magnoliophyta', 'Liliopsida', 'Asparagales', 'Orchidaceae', 'Cypripedioideae', 'Cypripedium'], 'references': [Reference(title='Phylogenetics of the slipper orchids (Cypripedioideae: Orchidaceae): nuclear rDNA ITS sequences', ...), Reference(title='Direct Submission', ...)]}\n",
            "Id: Z78516.1\n",
            "Name: Z78516\n",
            "Name: CGTAACAAGGTTTCCGTAGGTGAACCTGCGGAAGGATCATTGTTGAGACAGTATAATATATGATCGAGTGAATCCGGAGGACTTGTGGTTACTCGGCTCGTCCAAGTCTTAGCTTTTGTGGCCCTGATTTGTCGTTGGGCATCCTCAGGAGCTTTTATGGCGGGTTTGAACCTCTATCACGGCGCAGTTTGCGCCAAGTCATATGAAGCATCACCGACGAATGACATTATTGTCACCAAAGTCGGATGGGCGGTGTGCTATTGTGCATACCAATAATTTTTTGATGACTCTCGTCAACGGATATCTTAGCGAAATGCGATAAGTGGTGTGAATTGCAGAATCCCGTGAACCATCGAGTCTTTGAACGCAAGTTGCGCCCAAGGCCATCAGGCTAAGGGCACGCCTGCCTGGGCGTCGTGTGCTGCATCTCTTTTGCCAATGCTTGCCCGACATACAATTAGGCCAGTATTGCATAGATATGAAAGATTGACCCCTTGTGCTTAGGTGCGGTGGGTCTAAGGATTGGTGTTTTGATGTCCCGAACCCCGGCAGGAGGTGGAGCATGTTGATAGTCGCAAGACTATCGTTCAAATCCCACATGTTGTCGTATTTGTCGGACCCACAGAAGAACCTATTTGAACCCCAATGGAGGCAAAACAACCCTCGAGTGATTGATTGCCATTCAGATATGACCCCAGGTCAGGCGGGGCCACCCGCTGAGTTTAA\n",
            "Description: C.passerinum 5.8S rRNA gene and ITS1 and ITS2 DNA\n",
            "Annotations: {'molecule_type': 'DNA', 'topology': 'linear', 'data_file_division': 'PLN', 'date': '30-NOV-2006', 'accessions': ['Z78516'], 'sequence_version': 1, 'gi': '2765641', 'keywords': ['5.8S ribosomal RNA', '5.8S rRNA gene', 'internal transcribed spacer', 'ITS1', 'ITS2'], 'source': 'Cypripedium passerinum', 'organism': 'Cypripedium passerinum', 'taxonomy': ['Eukaryota', 'Viridiplantae', 'Streptophyta', 'Embryophyta', 'Tracheophyta', 'Spermatophyta', 'Magnoliophyta', 'Liliopsida', 'Asparagales', 'Orchidaceae', 'Cypripedioideae', 'Cypripedium'], 'references': [Reference(title='Phylogenetics of the slipper orchids (Cypripedioideae: Orchidaceae): nuclear rDNA ITS sequences', ...), Reference(title='Direct Submission', ...)]}\n",
            "Id: Z78515.1\n",
            "Name: Z78515\n",
            "Name: CGTAACAAGGTTTCCGTAGGTGAACCTGCGGAAGGATCATTGCTGAGACCGTAGAATAAACGATCGAGTTAATCTGGAGGACCGGTGTACTTCGATCTCCCAGGGGCTTTCGCTACTGTGGTGGCCTTTGATCTGCCATCGGGCCTCCTTGGGAGTGTTCTTGAAGGCGATCAAACTTCTAGCCCGGCGCAGCTTCGCGCCAAGTCTTTTGAGACAAGAATCGGCATAGGGGTGTTCCCTTGTAGCCGGTGGGGGTGGCACTTGATTCGTGCCCCCCAAGTTACATTTTTACAACTCTCGGCAACGGATATCTCGGCTCTTGCATCGATGGAGGACGCAGCGAAATGCGATAAGTGGTGTGAATTGCAGAATCCCGTGAACATCGAGTCTTTGAACGCAAGTTGCGCTCGAGGCCGTCAGGCTAAGGGCACGCCTGCCTGGGCGTTGTGTACTGTGTCTCTCCCACCAATGGTTGTCCAAGAATACCGTTCGGTCGGTGCGGATGTGAGTTTGGCCCCTTGTTCTTCGGTTCAATGGGTCTAAGACCTCGGGCTTTTGATGGTCCAAAATTCGACAAGAGGTGGATGGGCAATGGCTGAGCCAAAGCTGTTGTGCGAATGCCGTATGTTGTCCGATTTGATGGGCCATCATAATTCGTAGGACCCTTCGGAACCCCATTGGTGCCACATCAACCCAACCCATGGGCGGTTGATTGCCATTTGGAAGCAACCCCAGGTCAGGTGAGGCCACCCGCTGAGTTTAAGC\n",
            "Description: M.xerophyticum 5.8S rRNA gene and ITS1 and ITS2 DNA\n",
            "Annotations: {'molecule_type': 'DNA', 'topology': 'linear', 'data_file_division': 'PLN', 'date': '30-NOV-2006', 'accessions': ['Z78515'], 'sequence_version': 1, 'gi': '2765640', 'keywords': ['5.8S ribosomal RNA', '5.8S rRNA gene', 'internal transcribed spacer', 'ITS1', 'ITS2'], 'source': 'Mexipedium xerophyticum', 'organism': 'Mexipedium xerophyticum', 'taxonomy': ['Eukaryota', 'Viridiplantae', 'Streptophyta', 'Embryophyta', 'Tracheophyta', 'Spermatophyta', 'Magnoliophyta', 'Liliopsida', 'Asparagales', 'Orchidaceae', 'Cypripedioideae', 'Mexipedium'], 'references': [Reference(title='Phylogenetics of the slipper orchids (Cypripedioideae: Orchidaceae): nuclear rDNA ITS sequences', ...), Reference(title='Direct Submission', ...)]}\n",
            "Id: Z78514.1\n",
            "Name: Z78514\n",
            "Name: CGTAACAAGGTTTCCGTAGGTGGACCTTCGGGAGGATCATTTTTGAAGCCCCCAAATATACGATCGAGATAATCCGGAGGACCGGTGTACTTTGGTCTCCCAGGGGCTTCCGCCGCTGTGGTGACCATGATTTCCCATCGAACCTCCTTGGGAGAGTTCTCTATGGCAATTGAACCCTTGGCCCGGCGCAGTTTCGCTCCAAGTCAAATGAGATAGAACCGACAAGGGTCTTCGTCCTCCATGGATGGACCGGGGAGGGCCGGCGTGCTGCTGTGCCCCCTTAAGATTCGTCTGACAACTCTCGTCAACGGATATCTCGGCTCTTGCATCGATGAAGAACCCAGCGAAATGTGATAAGTGGTGTGAATTGCAGAATCCCGTGAACCATCGAGTCTTTGAACGCAAGTTGCGCCCGAGGCCATCAGGCTAAGGGCACGCCTGCCTGGGCGTTGCGTGCTGCATCTCTCCCAATGCTAAGGTTGAACAGCCATACTGTTCGGCCGGCGAGGATGAGAGTTTGGCCCCTTGTTCTTCGGTGCGATGGGTCCAAGACTTGGGCTTGTGACGGTCCACAAATCCGGCAAGAGGTGGACGGACGGTGGCTGCGACAAAGCTGTTGTGCGAATGCCCTATGTTGTCGTATTTGATGGGCCGGAATGATCCCTTTCGAACCCCGTCGGAGGCACGTCGACCCAACCCATGGGCGGTTGACGGCCATTAGGATGCAACCCCAGGTCAGGTGAGACTACCCGCTA\n",
            "Description: P.schlimii 5.8S rRNA gene and ITS1 and ITS2 DNA\n",
            "Annotations: {'molecule_type': 'DNA', 'topology': 'linear', 'data_file_division': 'PLN', 'date': '30-NOV-2006', 'accessions': ['Z78514'], 'sequence_version': 1, 'gi': '2765639', 'keywords': ['5.8S ribosomal RNA', '5.8S rRNA gene', 'internal transcribed spacer', 'ITS1', 'ITS2'], 'source': 'Phragmipedium schlimii', 'organism': 'Phragmipedium schlimii', 'taxonomy': ['Eukaryota', 'Viridiplantae', 'Streptophyta', 'Embryophyta', 'Tracheophyta', 'Spermatophyta', 'Magnoliophyta', 'Liliopsida', 'Asparagales', 'Orchidaceae', 'Cypripedioideae', 'Phragmipedium'], 'references': [Reference(title='Phylogenetics of the slipper orchids (Cypripedioideae: Orchidaceae): nuclear rDNA ITS sequences', ...), Reference(title='Direct Submission', ...)]}\n",
            "Id: Z78513.1\n",
            "Name: Z78513\n",
            "Name: CGTAACAAGGTTTCCGTAGGTGAACCTGCGGAAGGATCATTGTTGAGACCGCCAAATACACGATCGAGTTAATCCGGAGGACCGGTGTACTTTGGTCTCCCAGGGGCTTCCGCCGCTGTGGTGACCATGATTTGCCATCGAGCCTCATTGGGAGATTTCTCCATGGCAATTGAACCCTTGGCCCGGCGCAGTTTCGCGCCAAGTCAAATGAGATAGAACCGGCAAGGGCATCGTCCTCCATGGAGCCGGGGAGGCCGGCATGCTGCTGTGCCCGAAAGAATTTTCGACAACTCTCGGCAACGGATATCTCGGCTCTTGCATCGATGAAGAACGCAGCGAAATGTGATAAGTGGTGTGAATTGCAGAATCCCGTGAACCATCGAGTCTTTGAACGCAAGTTGCGCCCGAGGCCATCAGGCTAAGGGCACGCCTGCCTGGGCGTTGCGTGCTGCATCTCTCCCAATGCTAAGGTTGAACAGCCATACTGTTCGGCCGGCGAGGATGAGAGTTTGGCCCCTTGTTCTTCTGTGCGATGGGTCCAAGACTTGGGCTTGTGACGGTCCACAAATCCGGCAAGAGGTGGACGGACGGTGGCTGCGACGAAGCTTTTGTGCGAATGCCCTATGTTGTCGTATTTGATGTGCCAGAACGATCCCTTTCGAACCCCTTCGGAGGCACGTCGACCCAACCCATGGGCGGTGACGCCATTAGGATGCAACCCAGTCAGTGAGCTACCGCTGAG\n",
            "Description: P.besseae 5.8S rRNA gene and ITS1 and ITS2 DNA\n",
            "Annotations: {'molecule_type': 'DNA', 'topology': 'linear', 'data_file_division': 'PLN', 'date': '30-NOV-2006', 'accessions': ['Z78513'], 'sequence_version': 1, 'gi': '2765638', 'keywords': ['5.8S ribosomal RNA', '5.8S rRNA gene', 'internal transcribed spacer', 'ITS1', 'ITS2'], 'source': 'Phragmipedium besseae', 'organism': 'Phragmipedium besseae', 'taxonomy': ['Eukaryota', 'Viridiplantae', 'Streptophyta', 'Embryophyta', 'Tracheophyta', 'Spermatophyta', 'Magnoliophyta', 'Liliopsida', 'Asparagales', 'Orchidaceae', 'Cypripedioideae', 'Phragmipedium'], 'references': [Reference(title='Phylogenetics of the slipper orchids (Cypripedioideae: Orchidaceae): nuclear rDNA ITS sequences', ...), Reference(title='Direct Submission', ...)]}\n",
            "Id: Z78512.1\n",
            "Name: Z78512\n",
            "Name: CGTAACAAGGTTTCCGTAGGTGGACCTTCGGGAGGATCATTTTTGAAGCCCCCAAAAAAACGATCGAATTAATCCGGAGGGCCGGTGTAGTTTGGTCTCCCAGGGGCCTTGGCTACTGTGGTGACCGTGAATTTCCGTCGAACCCTCTGGGAGGAATTCTTGATGGCAAATGAAACCCTTGGCCCGGCGCAGTTTCGCCCCAAATCAAATGAGATGGAACCGGCGGAGGGCATCGTCCCCCATGGAACCGGGGAGGGCCGGCGTTCTTCCGTTCCCCCAATGAAATTATTTTTTGACAACTCTCGCAACGGATATCTCGGCTCTTGCATCGATGAAGAACGCAGCGAAATGTGATAAGCTGGTGTGAATTGCAGAATCCCGTGAACCATCGAGTCTTTGAACGCAAGTTGCGCCCGAGGCCATCAGGCTAAGGGCACGCCTGCCTGGGCGTTGCGTGCTGCATCTCTCTCCCATTGCTAAGGCTGAACAGGCATACTGTTCGGCCGGCGCGGATGAGTGTTTGGCCCCTTGTTCTTCGGTGCGATGGGTCCAAGACCTGGGCTTTTGACGGCCGGAAATCCGGCAAGAGGTGGACGGACGGTGGCTGCGACGAAGCTGTCGTGCGAATGCCCTGCGTTGTCGTATTTGATGGGCCGGAATAAATCCCTTTTGAACCCCATTGGAGGCACGTCAACCCGTGGGCGGTCGACGGTCATTTGGATCCAACCCCAGGTCAGGTGAGGCCACCCGCTGAGTTTAAGC\n",
            "Description: P.wallisii 5.8S rRNA gene and ITS1 and ITS2 DNA\n",
            "Annotations: {'molecule_type': 'DNA', 'topology': 'linear', 'data_file_division': 'PLN', 'date': '30-NOV-2006', 'accessions': ['Z78512'], 'sequence_version': 1, 'gi': '2765637', 'keywords': ['5.8S ribosomal RNA', '5.8S rRNA gene', 'internal transcribed spacer', 'ITS1', 'ITS2'], 'source': 'Phragmipedium wallisii', 'organism': 'Phragmipedium wallisii', 'taxonomy': ['Eukaryota', 'Viridiplantae', 'Streptophyta', 'Embryophyta', 'Tracheophyta', 'Spermatophyta', 'Magnoliophyta', 'Liliopsida', 'Asparagales', 'Orchidaceae', 'Cypripedioideae', 'Phragmipedium'], 'references': [Reference(title='Phylogenetics of the slipper orchids (Cypripedioideae: Orchidaceae): nuclear rDNA ITS sequences', ...), Reference(title='Direct Submission', ...)]}\n",
            "Id: Z78511.1\n",
            "Name: Z78511\n",
            "Name: CGTAACAAGGTTTCCGTAGGTGAACCTTCGGAAGGATCATTGTTGAGACCCCCAAAAAAACGATCGAGTTAATCCGGAGGACCGGTGTAGTTTGGTCTCCCAGGGGCTTTGGCTACTGTGGTGGCCGTGAATTTCCGTCGAACCTCCTTGGGAGAATTCTTGATGGCAATTGAACCCTTGGCCCGGCGCAGTTTCGCCCCAAGTCAAATGAGATGGAACCGGCGGAGGGCATCGTCCTCCATGGAACCGGGGAGGGCCGGCGTTCTTCCGTTCCCCCCATGAATTTTTTTTTGACAACTCTCGGCAACGGATATCTCGGCTCTTTGCATCCGATGAAAGAACCCAGCGAAATGTGATAAGTGGTGTGAATTGCAGAATCCCGTGAACCATCGAGTCTTTGAACGCAAGTTGCGCCCGAGGCCATCAGGCTAAGGGCACGCCTGCCTGGGCGTTGCGTGCTGCATCTCTCTCCCATTGCTAAGGCTGAACAGGCATACTGTTCGGCCGGCGCGGATGAGTGTTTGGCCCCTTGTTCTTCGGTGCGATGGGTCCAAGACCTGGGCTTTTGACGGCCGGAAATCCGGCAAGAGGTGGACGGACGGTGGCTGCGACGAAGCTGTCGTGCGAATGCCCTACGCTGTCGTATTTGATGGGCCGGAATAAATCCCTTTTGAGCCCCATTGGAGGCACGTCAACCCGTGGGCGGTCGACGGCCATTTGGATGCAACCCCAGGTCAGGTGAGGA\n",
            "Description: P.exstaminodium 5.8S rRNA gene and ITS1 and ITS2 DNA\n",
            "Annotations: {'molecule_type': 'DNA', 'topology': 'linear', 'data_file_division': 'PLN', 'date': '30-NOV-2006', 'accessions': ['Z78511'], 'sequence_version': 1, 'gi': '2765636', 'keywords': ['5.8S ribosomal RNA', '5.8S rRNA gene', 'internal transcribed spacer', 'ITS1', 'ITS2'], 'source': 'Phragmipedium exstaminodium', 'organism': 'Phragmipedium exstaminodium', 'taxonomy': ['Eukaryota', 'Viridiplantae', 'Streptophyta', 'Embryophyta', 'Tracheophyta', 'Spermatophyta', 'Magnoliophyta', 'Liliopsida', 'Asparagales', 'Orchidaceae', 'Cypripedioideae', 'Phragmipedium'], 'references': [Reference(title='Phylogenetics of the slipper orchids (Cypripedioideae: Orchidaceae): nuclear rDNA ITS sequences', ...), Reference(title='Direct Submission', ...)]}\n",
            "Id: Z78510.1\n",
            "Name: Z78510\n",
            "Name: CTAACCAGGGTTCCGAGGTGACCTTCGGGAGGATTCCTTTTTAAGCCCCCGAAAAAACGATCGAATTAAACCGGAGGACCGGTTTAATTTGGTCTCCCCAGGGGCTTTCCCCCCTTGGTGGCCGTGAATTTCCATCGAACCCCCCTGGGAGAATTCTTGGTGGCCAATGGACCCTTGGCCCGGCGCAATTTCCCCCCCAATCAAATGAGATAGGACCGGCAGGGGGCGTCCCCCCCCATGGAACCGGGGAGGGCCGGCATTCTTCCGTTCCCCCCTCGGATTTTTTGACAACTCTCGCAACGGATATCTCGCCTCTTTGCATCGGATGGAAGAACGCAGCGAAATGTGATAAGTGGTGTGAATTGCAGAATCCCGTGAACCATCGAGTCTTTGAACGCAAGTTGCGCCCGAGGCCATCAGGCTAAGGGCACGCCTGCCTGGGCGTTGCGTGCTGCATCTCTCCCATTGCTAAGGTTGAACGGGCATACTGTTCGGCCGGCGCGGATGAGAGATTGGCCCCTTGTTCTTCGGTGCGATGGGTCCAAGACCTGGGCTTTTGACGGTCCAAAATCCGGCAAGAGGTGGACGGACGGTGGCTGCGACAAAGCTGTCGTGCGAATGCCCTGCGTTGTCGTTTTTGATGGGCCGGAATAAATCCCTTTTGAACCCCATTGGAGGCACGTCAACCCATGGGCGGTTGACGGCCATTTGGATGCAACCCCAGGTCAGGTGAGCCACCCGCTGAGTTTA\n",
            "Description: P.caricinum 5.8S rRNA gene and ITS1 and ITS2 DNA\n",
            "Annotations: {'molecule_type': 'DNA', 'topology': 'linear', 'data_file_division': 'PLN', 'date': '30-NOV-2006', 'accessions': ['Z78510'], 'sequence_version': 1, 'gi': '2765635', 'keywords': ['5.8S ribosomal RNA', '5.8S rRNA gene', 'internal transcribed spacer', 'ITS1', 'ITS2'], 'source': 'Phragmipedium caricinum', 'organism': 'Phragmipedium caricinum', 'taxonomy': ['Eukaryota', 'Viridiplantae', 'Streptophyta', 'Embryophyta', 'Tracheophyta', 'Spermatophyta', 'Magnoliophyta', 'Liliopsida', 'Asparagales', 'Orchidaceae', 'Cypripedioideae', 'Phragmipedium'], 'references': [Reference(title='Phylogenetics of the slipper orchids (Cypripedioideae: Orchidaceae): nuclear rDNA ITS sequences', ...), Reference(title='Direct Submission', ...)]}\n",
            "Id: Z78509.1\n",
            "Name: Z78509\n",
            "Name: CGTAACAAGGTTTCCGTAGGTGAACCTGCGGAAGGATCATTGTTGAGACCGCCAAATATACGATCGAGTTAATCCGGAGGACCGGTGTAGTTTGGTCTCCCAGGGGCTTTCGCCGCTGTGGTGACCGTGATTTGCCATCGAGCCTCCTTGGGAGATTTCTTGATGGCAATTGAACCCTTGGCCCGGCGCAGTTTCGCGCCAAGTCATATGAGATAGAACCGGCGGAGGGCGTCGTCCTCCATGGAGCGGGGAGGGCCGGCATGCTCCGTGCCCCCCCATGAATTTTTCTGACAACTCTCGGCAACGGACGTAACAAGGTTTAAATGTGATAAGCAGGTGTGAATTGCAGAATCCCGTGAACCATCGAGTCTTTGAACGCAAGTTGCGCCCGAGGCCATCAGGTTAAGGGCACGCCTGCCTGGGCGTTGCGTGCTGCATCTCTCCCATTGCTAAGGTTGAACGGGCATACTGTTCGGCCGGCGCGGATGAGAGTTTGGCCCCTTGTTCTTCGGTGCGATGGGTCCAAGACCTGGGCTTTTGACGGTCCAAAATCCGGCAAGAGGTGGACGGACGGTGGCTGCGACAGAGCTGTCGTGCGAATGCCCTACGTTGTCGTTTTTGATGGGCCAGAATAAATCCCTTTTGAACCCCATTGGAGGCACGTCAACCCAATGGGGGGTGACGGGCATTTGGTTAACCCCGGCAAGTTAAGGCACCCGTTAATTTTAGGA\n",
            "Description: P.pearcei 5.8S rRNA gene and ITS1 and ITS2 DNA\n",
            "Annotations: {'molecule_type': 'DNA', 'topology': 'linear', 'data_file_division': 'PLN', 'date': '30-NOV-2006', 'accessions': ['Z78509'], 'sequence_version': 1, 'gi': '2765634', 'keywords': ['5.8S ribosomal RNA', '5.8S rRNA gene', 'internal transcribed spacer', 'ITS1', 'ITS2'], 'source': 'Phragmipedium pearcei', 'organism': 'Phragmipedium pearcei', 'taxonomy': ['Eukaryota', 'Viridiplantae', 'Streptophyta', 'Embryophyta', 'Tracheophyta', 'Spermatophyta', 'Magnoliophyta', 'Liliopsida', 'Asparagales', 'Orchidaceae', 'Cypripedioideae', 'Phragmipedium'], 'references': [Reference(title='Phylogenetics of the slipper orchids (Cypripedioideae: Orchidaceae): nuclear rDNA ITS sequences', ...), Reference(title='Direct Submission', ...)]}\n",
            "Id: Z78508.1\n",
            "Name: Z78508\n",
            "Name: CGTAACAAGGTTTCCGTAGGTGAACCTGCGGAAGGATCATTGTTGAGACCGCCAAATATACGATCGAGTTAATCCGGAGGACCGGTGTAGTTTGGTCTCCCAGGGGCTTTCGCCGCTGTGGTGACCGTGATTTGCCATCGAGCCTCCTTGGGAGATTTCTTGATGGCAATTGAACCCTTGGCCCGGCGCAGTTTCGCGCCAAGTCATATGAGATAGAACCGGCAGGGGGCGTCGTCCTCCATGGAGCCGGGGAGGGCCGGCATGCTGCCGTGCCCCCAATGAATTTTTTGACAACTCTCGGCAACGGATATCTCGGCTCTTGCATCGATGAAGAACGCAGCGAAATGTGATAAGTGGTGTGAATTGCAGAATCCCGTGAACCATCGAGTCTTTGAACGCAAGTTGCGCCCGAGGCCATCAGGCTAAGGGCACGCCTGCCTGGGCGTTGCGTGCTGCATCTCTCCCATTGCTAAGGTTGAACGGGCATACTGTTCGGCCGGCGCGGATGAGAGTTTGGCCCCTTGTTCTTCGGTGCGATGGGTCCAAGACCTGGGCTTTTGACGGTCCAAAATCCGGCAAGAGGTGGACGGACGGTGGCTGCGACAGAGCTGTCGTGCGAATGCCCTACGTTGTCGTATTTGATGGGCCGGAATAAATCCCTTTGAACCCCATTGGAGGCACGTCAACCCCATGGGCGGTGACGGCCACTTGGATGCAACCCAGTCAGTGAGCCACCGCTGA\n",
            "Description: P.longifolium 5.8S rRNA gene and ITS1 and ITS2 DNA\n",
            "Annotations: {'molecule_type': 'DNA', 'topology': 'linear', 'data_file_division': 'PLN', 'date': '30-NOV-2006', 'accessions': ['Z78508'], 'sequence_version': 1, 'gi': '2765633', 'keywords': ['5.8S ribosomal RNA', '5.8S rRNA gene', 'internal transcribed spacer', 'ITS1', 'ITS2'], 'source': 'Phragmipedium longifolium', 'organism': 'Phragmipedium longifolium', 'taxonomy': ['Eukaryota', 'Viridiplantae', 'Streptophyta', 'Embryophyta', 'Tracheophyta', 'Spermatophyta', 'Magnoliophyta', 'Liliopsida', 'Asparagales', 'Orchidaceae', 'Cypripedioideae', 'Phragmipedium'], 'references': [Reference(title='Phylogenetics of the slipper orchids (Cypripedioideae: Orchidaceae): nuclear rDNA ITS sequences', ...), Reference(title='Direct Submission', ...)]}\n",
            "Id: Z78507.1\n",
            "Name: Z78507\n",
            "Name: CGTAACAAGGTTTCCGTAGGTGAACCTGCGGAAGGATCATTGTTGAGACCCCCAAAAAAACGATCGAGTTAATCCGGAGGACCGGTGTAGTTTGGTCTCCCAGGGGCTTTGGCTACTGTGGTGACCGTGAATTTCCGTCGAGCCTCCTTGGGAGATTTCTTGATGGCAATTGAACCCTTGGCCCGGCGCAGTTTCGCCCCAAGTCAAATGAGATGGAACCGGCGGAGGGCATCGTCCTCCATGGAACCGGGGAGGGCCGGCGTGCTTCCGTCCCCCAATGAATTTTTTTGACAACTCTCGCAACGGATATCTCGCTCTTGCATCGATGAAGAACACAGCGAAATGTGATAAGTGGTGTGAATTGCAGAATCCCGTGAACCATCGAGTCTTTGAACGCAAGTTGCGCCCGAGGCCATCAGGCTAAGGGCACGCCTGCCTGGGCGTTGCGTGCTGCATCTCTCTCCCATTGCTAAGGCTGAACAGGCATACTGTTCGGCCGGCGCGGATGAGTGTTTGGCCCCTTGTTCTTCGGTGCGATGGGTCCAAGACCTGGGCTTTTGACGGCCGGAAATCCGGCAAGAGGTGGACGGACGGTGGCTGCGACGAAGCTGTCGTGCGAATGCCCTGCGTTGTCGTATTTGATGGGCCGGAATAAATCCCTTTGAACCCCATTGGAGGCACGTCAACCCGTGGCGGTCGACGGCCATTTGGATGCAACCCAGTCAGTGAGCCACCGCTGA\n",
            "Description: P.lindenii 5.8S rRNA gene and ITS1 and ITS2 DNA\n",
            "Annotations: {'molecule_type': 'DNA', 'topology': 'linear', 'data_file_division': 'PLN', 'date': '30-NOV-2006', 'accessions': ['Z78507'], 'sequence_version': 1, 'gi': '2765632', 'keywords': ['5.8S ribosomal RNA', '5.8S rRNA gene', 'internal transcribed spacer', 'ITS1', 'ITS2'], 'source': 'Phragmipedium lindenii', 'organism': 'Phragmipedium lindenii', 'taxonomy': ['Eukaryota', 'Viridiplantae', 'Streptophyta', 'Embryophyta', 'Tracheophyta', 'Spermatophyta', 'Magnoliophyta', 'Liliopsida', 'Asparagales', 'Orchidaceae', 'Cypripedioideae', 'Phragmipedium'], 'references': [Reference(title='Phylogenetics of the slipper orchids (Cypripedioideae: Orchidaceae): nuclear rDNA ITS sequences', ...), Reference(title='Direct Submission', ...)]}\n",
            "Id: Z78506.1\n",
            "Name: Z78506\n",
            "Name: CGTAACAAGGTTTCCGTAGGTGAACCTGCGGAAGGATCATTGTTGAGACCGCAAAATATACGATCGAGTTAATCCGGAGGACTGGTGTAGTTTGGTCTCCCAGGGGCGTTGGCTACTGCGGTGACCATGATTTTCCATCGAGCCTCCTCGGGAGATTTCTTGATGGCAATTGAACCCTTGGCCCGGCGCAGTTTCGCGCCAAGTCGTATGAGATAGAACCGGCAGAGGGCTTCGTCCTCCATGGAACCGGGGAGGACCGGCATGCCGCCGTACCCCCTTTGAATCGGGCTGACAACTCTCGTTCAAGGAGCCCTCAGCTCATAATGTGATAAGTGGTGTGAATTGCAGAATCCCGTGAACCATCGAGTCTTTGAACGCAAGTTGCGCCCGAGGCCATCAGGCTAAGGGCACGCCTGCCTGGGCGTTGCGTGCTGCATCTCTCCCGTTGCTAAGGTCGAACAGGCATATACTGTTCGGCCGGCGCGGATGAGAGTTTGGCCCCTTGTTCTTCGGTGCGATGGGTCCAAGACCTGGGCTTTTGACGGTAAAAAATCCGGCAAGAGGTGGACGGACGGTGGCTGCGACAAAGCTGTCGTGCGAATGCCCTACGTTGTCGTATTTGATGGGCCAGAATAAATCCCTTTTGAACCCCATTGGAGGCACGTCAACCCATGGGCGGTTTGACGGCCATTGGATGCCAACCCAGTCAGGTGAGGCCACCCGCTGA\n",
            "Description: P.lindleyanum 5.8S rRNA gene and ITS1 and ITS2 DNA\n",
            "Annotations: {'molecule_type': 'DNA', 'topology': 'linear', 'data_file_division': 'PLN', 'date': '30-NOV-2006', 'accessions': ['Z78506'], 'sequence_version': 1, 'gi': '2765631', 'keywords': ['5.8S ribosomal RNA', '5.8S rRNA gene', 'internal transcribed spacer', 'ITS1', 'ITS2'], 'source': 'Phragmipedium lindleyanum', 'organism': 'Phragmipedium lindleyanum', 'taxonomy': ['Eukaryota', 'Viridiplantae', 'Streptophyta', 'Embryophyta', 'Tracheophyta', 'Spermatophyta', 'Magnoliophyta', 'Liliopsida', 'Asparagales', 'Orchidaceae', 'Cypripedioideae', 'Phragmipedium'], 'references': [Reference(title='Phylogenetics of the slipper orchids (Cypripedioideae: Orchidaceae): nuclear rDNA ITS sequences', ...), Reference(title='Direct Submission', ...)]}\n",
            "Id: Z78505.1\n",
            "Name: Z78505\n",
            "Name: CGTAACAAGGTTTCCGTAGGTGAACCTGCGGAAGGATCATTGTTGAGACCGCCAAATATACGATCGAGTTAATCCGGAGGACTGGTGTAGTTTGGTCTCCCAGGGGCGGTGGCTACTGCGGTGACCATGATATTCCATCGAGCCTCCTCGGGAGATTTCTTGATGGCAATTGAACCCGTGGCCCGGCGCAGTTTCGCGCCAAGTCGTATGAGATAGAACCGGCAGAGGTCTTCGTCCTCCATGGAACCGGGGAGGCCCGGCATACCACCATACCCCCAATGAATCTTTGTGACAACTCTCGTCAATGTGATAAGTGGTGTGAATTGCAGAATCCCGTGAACCATCGAGTCTTTGAACGCAAGTTGCGCCCGAGGCCATCAGGCTAAGGGCACGCCTGCCTGGGCGTTGCGTGCTGCATCTCTCCCGTTGCTAAGGTCGAACAGGCATACTGTTCGGTCGGCGCGGATGAGAGTTTGGCCCCTTGTTCTTCGGTGCGATGGGTCCAAGACCTGGGCTTTTGACGGTAAAAAATCCGGCAAGAGGTGGACGGACGGTGGCTGCGACAAAGCTGTCGTGCGAATGCCCTGCGTTGTCGTATTTGATGGGCCGGAATAAATCCCTTTTGAACCCCATTGGAGGCACGTCAACCCATGGGCGGTTGACGGCCATTTGGATGCAACCCCAGGTCAGGTGAGCCACCCGCTGAGTTTT\n",
            "Description: P.sargentianum 5.8S rRNA gene and ITS1 and ITS2 DNA\n",
            "Annotations: {'molecule_type': 'DNA', 'topology': 'linear', 'data_file_division': 'PLN', 'date': '30-NOV-2006', 'accessions': ['Z78505'], 'sequence_version': 1, 'gi': '2765630', 'keywords': ['5.8S ribosomal RNA', '5.8S rRNA gene', 'internal transcribed spacer', 'ITS1', 'ITS2'], 'source': 'Phragmipedium sargentianum', 'organism': 'Phragmipedium sargentianum', 'taxonomy': ['Eukaryota', 'Viridiplantae', 'Streptophyta', 'Embryophyta', 'Tracheophyta', 'Spermatophyta', 'Magnoliophyta', 'Liliopsida', 'Asparagales', 'Orchidaceae', 'Cypripedioideae', 'Phragmipedium'], 'references': [Reference(title='Phylogenetics of the slipper orchids (Cypripedioideae: Orchidaceae): nuclear rDNA ITS sequences', ...), Reference(title='Direct Submission', ...)]}\n",
            "Id: Z78504.1\n",
            "Name: Z78504\n",
            "Name: CGTAACAAGGTTTCCGTAGGTGAACCTTCGGAAGGATCATTGTTGAGACCGCAAAATATACGATCGAGTTAATCCGGAGGACTGGTGTAGTTTGTCTCCCAGGGGCGTTGGCTACTGCGGTGACCATGATTTTCCATCGAGCCTCCTCGGGAGATTTCTTGATGGCAATTGAACCCTTGGCCCGGCGCAGTTTCGCGCCAAGTCGTATGAGATAGAACCGTCAGAGGGCATCGTCCCTCCATGGAGCCGGGGAGGGCCGGCATGCCCGCCGTGCCCCCAATGAATCTTTTTGACAACTCTCGCAACGGATATCTCGCTCTTCATCGATGAAGAACGCAGCGAAATGTGATAAGTGGTGTGAATTGCAGAATCCCGTGAACCATCGAGTCTTTGAACGCAAGTTGCGCCCGAGCCATCAGGCTAAGGGCACGCCTGCCTGGGCGTTGCGTGCTGCATCTCTCCCGTTGCTAAGGTCGAACAGACATACTGTTCGGCCGGCGCGGATGAGAGTTTGGCCCCTTGTTCTTCGGTGCGATGGGTCCAAGACCTGGGCTTTTGACGGTACCAAATCCGACAAGAGGTGGACGGACGGTGGCTGCGACAAAACTGTCGTGCGAATGCCCTACGTTGTCGTATTTGATGGGCCAGAATAAATCCCTTTTGAACCCCATTGGAGGCACGTCAACCCATGGGCGGTGACGGCCATTGGATGCAACCCCAGTCAGTGAGCCACCGCTGAGTAA\n",
            "Description: P.kaiteurum 5.8S rRNA gene and ITS1 and ITS2 DNA\n",
            "Annotations: {'molecule_type': 'DNA', 'topology': 'linear', 'data_file_division': 'PLN', 'date': '30-NOV-2006', 'accessions': ['Z78504'], 'sequence_version': 1, 'gi': '2765629', 'keywords': ['5.8S ribosomal RNA', '5.8S rRNA gene', 'internal transcribed spacer', 'ITS1', 'ITS2'], 'source': 'Phragmipedium kaiteurum', 'organism': 'Phragmipedium kaiteurum', 'taxonomy': ['Eukaryota', 'Viridiplantae', 'Streptophyta', 'Embryophyta', 'Tracheophyta', 'Spermatophyta', 'Magnoliophyta', 'Liliopsida', 'Asparagales', 'Orchidaceae', 'Cypripedioideae', 'Phragmipedium'], 'references': [Reference(title='Phylogenetics of the slipper orchids (Cypripedioideae: Orchidaceae): nuclear rDNA ITS sequences', ...), Reference(title='Direct Submission', ...)]}\n",
            "Id: Z78503.1\n",
            "Name: Z78503\n",
            "Name: CGTAACCAGGTTTCCGTAGGTGAACCTCCGGAAGGATCCTTGTTGAGACCGCCAAATATACGATCGAGTTAATCCGGAGGACCGGTGTAGTTTGGTCTCCCAGGGGCTTTCGCCGCTGTGGTGTCCGTGATTTACCATCGAGCCTCCTTGGGAGATTTCTTGATGGCAATTGAACCCATGGCCCGGCGCAGTTTCGCGCCAAGTCATATGAGATAGAACCGGCAGGGGGCGTCGTCCTCCATGGAACCGGGGAGGGCCGGCATGCTACCGTACCCCCAATGAATTATTTTGACAACTCTCGGCAACGGAGTCTCAGCTCTTTGTGATAAGTGGTGTGAATTGCAGAATCCCGTGAACCATCGAGTCTTTGAACGCAAGTTGCGCCCGAGGCCATCAGGCTAAGGGCACGCCTGCCTGGGCGTTGCGTGCTGCATCTCTCCCATTGCTAAGGTTGAACGGGCATACTGTTCGGCCGGCGCGGACGAGAGTTTGGCCCCTTGTTCTTCGGTGCGATGGGTCCAAGACCTGGGCTTTTGACGGTCCAAAATCCGGCAAGAGGTGGACGGACGGTGGCTGCGACAAAGCTGTCGTGCGAATGCCCTACGTTGTCGTATTTGATGGGCCAGAATAAATCCCTTTTGAACCCCATTGGAGGCACGTCAACCCATGGGCGGTTGACGGCCATTTGGATGCAACCCCAGGTCAGGTGAGCCACCCGCTGAGATAA\n",
            "Description: P.czerwiakowianum 5.8S rRNA gene and ITS1 and ITS2 DNA\n",
            "Annotations: {'molecule_type': 'DNA', 'topology': 'linear', 'data_file_division': 'PLN', 'date': '30-NOV-2006', 'accessions': ['Z78503'], 'sequence_version': 1, 'gi': '2765628', 'keywords': ['5.8S ribosomal RNA', '5.8S rRNA gene', 'internal transcribed spacer', 'ITS1', 'ITS2'], 'source': 'Phragmipedium czerwiakowianum', 'organism': 'Phragmipedium czerwiakowianum', 'taxonomy': ['Eukaryota', 'Viridiplantae', 'Streptophyta', 'Embryophyta', 'Tracheophyta', 'Spermatophyta', 'Magnoliophyta', 'Liliopsida', 'Asparagales', 'Orchidaceae', 'Cypripedioideae', 'Phragmipedium'], 'references': [Reference(title='Phylogenetics of the slipper orchids (Cypripedioideae: Orchidaceae): nuclear rDNA ITS sequences', ...), Reference(title='Direct Submission', ...)]}\n",
            "Id: Z78502.1\n",
            "Name: Z78502\n",
            "Name: CGTAACCAGGTTTCCGTAGGTGAACCTCCGGAAGGATCATTGTTGAGACCGCCAAATATACGATCGAGTTAATCCGGAGGACCGGTGTAGTTTGGTCTCCCAGGGGCTTTCGCCCCTGTGGTGACCGTGATTTGCCATCGAGCCTCCTTGGGAGATTTCTTGATGGCAATTGAACCCATGACCCGGCGCAGTTTCGCGCCAAGTCATATGAGATAGAACCGGCAGGGGTCGTCGTCCTCCATGGAGCCGGGGAGGGCCGGCATACTACCGTCCCCCCAATGAATTTTATATTGACAACTCTCGGCCGGAATCTCGGCTCTTGCATCGATGGAAGGACGCAGCGAAAATGTGATAAGTGGTGTGAATTGCAGAATCCCGTGAACCATCGAGTCTTTGAACGCAAGTTGCGCCCGAGGCCATCAGGCTAAGGGCACGCCTGCCTGGGCGTTGCGTGCTGCATCTCTCCCATTGCTAAGGTTGAACGGGCGTACTGTTCGGCCGGCGCGGACGAGAGTTTGGCCCCTTGTTCTTCGGTGCGATGGGTCCAAGACCTGGGCTTTTGACGGTCCAAAATCCGGCAAGAGGTGGACGGACGGTGGCTGCGACAAAGCTGTCGTGCGAATGCCCTACGTTGTCGTATTTGATGGGCCAGAATAAATCCCTTTTGAACCCCATTGGAGGCACGTCAACCCATGGGCGGTTGACGGCCATTTGGATGCAACCCCAGGTCAGGTGAGGCCACCCCGTGAGTTTACGC\n",
            "Description: P.boissierianum 5.8S rRNA gene and ITS1 and ITS2 DNA\n",
            "Annotations: {'molecule_type': 'DNA', 'topology': 'linear', 'data_file_division': 'PLN', 'date': '30-NOV-2006', 'accessions': ['Z78502'], 'sequence_version': 1, 'gi': '2765627', 'keywords': ['5.8S ribosomal RNA', '5.8S rRNA gene', 'internal transcribed spacer', 'ITS1', 'ITS2'], 'source': 'Phragmipedium boissierianum', 'organism': 'Phragmipedium boissierianum', 'taxonomy': ['Eukaryota', 'Viridiplantae', 'Streptophyta', 'Embryophyta', 'Tracheophyta', 'Spermatophyta', 'Magnoliophyta', 'Liliopsida', 'Asparagales', 'Orchidaceae', 'Cypripedioideae', 'Phragmipedium'], 'references': [Reference(title='Phylogenetics of the slipper orchids (Cypripedioideae: Orchidaceae): nuclear rDNA ITS sequences', ...), Reference(title='Direct Submission', ...)]}\n",
            "Id: Z78501.1\n",
            "Name: Z78501\n",
            "Name: CGTAACAAGGTTTCCGTAGGTGAACCTGCGGAAGGATCATTGTTGAGACCGCAAAATATACGATCGAGTTAATCCGGAGGACCGGTGTAGTTTGGTCTCCCAGGGGCTTTGGTTACTGTGGTGACCGTGACTTTGCCGTCGAGCCTCCTTGGGAGATTTCTTGATGGAAATTGAACCCTTGGCCCGGCGCAGTTTCGCGCCAAGTCATATGAGATGGAACCGGCGGAGGGAATCGTCCTCCATGGAGCCGGGGAGGGCCGGCGTGTTGCCGTGCCCCCAATGAATTTTTTTTTGGGCAACTCTCGGCCAAACGGGAAATCTCGGCTCCTTGCATCGGATGGAAGGACGCAGCGAAATTGTGATAAGTGTTGTGAATTGCAGAATCCCGTGAACCATCGAGTCTTTTGAACGCAAGTTGCGCCCGAGGCCATCAGGCTAAGGGCACGCCTGCCTGGGCGTTGCGTGCTGCATCTCTCTCCCATTGCTAAGGCTGAACAGGCATACTGTTCGGCCGGCGCGGATGAGTGTTTGGCCCCTTGTTCTTCGGTGCGATGGGTCCAAGACCTGGGCTTTTGACGGCCGGAAATCCGGCAAGAGGTGGACGGACGGTGGCTGCGACGAAGCTGTCGAGCGAATGCCCTACGCTGTCGTATTTGATGGGCCGGAATAAATCCCTTTTGAACCCCATTGGAGGCACGTCAACCCGTGGGCGGTCGACGGCCATTTGGATGCAACCCCAGGTCAGGTGAGGCCACCCGCTGAGTTTAAGA\n",
            "Description: P.caudatum 5.8S rRNA gene and ITS1 and ITS2 DNA\n",
            "Annotations: {'molecule_type': 'DNA', 'topology': 'linear', 'data_file_division': 'PLN', 'date': '30-NOV-2006', 'accessions': ['Z78501'], 'sequence_version': 1, 'gi': '2765626', 'keywords': ['5.8S ribosomal RNA', '5.8S rRNA gene', 'internal transcribed spacer', 'ITS1', 'ITS2'], 'source': 'Phragmipedium caudatum', 'organism': 'Phragmipedium caudatum', 'taxonomy': ['Eukaryota', 'Viridiplantae', 'Streptophyta', 'Embryophyta', 'Tracheophyta', 'Spermatophyta', 'Magnoliophyta', 'Liliopsida', 'Asparagales', 'Orchidaceae', 'Cypripedioideae', 'Phragmipedium'], 'references': [Reference(title='Phylogenetics of the slipper orchids (Cypripedioideae: Orchidaceae): nuclear rDNA ITS sequences', ...), Reference(title='Direct Submission', ...)]}\n",
            "Id: Z78500.1\n",
            "Name: Z78500\n",
            "Name: CGTAACAAGGTTTCCGTAGGTGAACCTGCGGAAGGCTCATTGTTGAGACCGCAAAATAATTGATCGAGTTAATCCGGAGGACCGGTGTAGTTTGGTCTCCCAGGGGCTTTGGTTACTGTGGTGACCGTGACTTTGCCGTCGAGCCTCCTTGGGAGATTTCTTGATGGCAATTGAACCCTTGGCCCGGCGCAGTTTCGCGCCAAGTCATATGAGATGGAACCGGCGGAGGGCATCGCCCTCCATGGAGCCGGGGAGGGCCGGCGTCCTGCCGTGCCCCCAATGAATTTTTCTTTGGGAAAACTTCTCGGCCAACGGGAATCTCGGCTCTTTGCATCGGATGGAAGGACGCAGCGAATTGTGATAAGTGGTGTGAATTGCAGAATCCCGTGAACCATCGAGTCTTTGAACGCAAGTTGCGCCCGAGGCCATCAGGCTAAGGGCACGCCTGCCTGGGCGTTGCGTGCTGCATCTCTCTCCCATTGCTAAGGCTGAACAGGCATACTGTTCGGCCGGCGCGGATGAGTGTTTGGCCCCTTGTTCTTCGGTGCGATGGGTCCAAGACCTGGGCTTTTGACGGCCGGAAATCCGGCAAGAGGTGGACGGACGGTGGCTGCGACGAAGCTGTCGTGCGAATGCCCTACGCTGTCGTATTTGATGGGCCGGAATAAATCCCTTTTGAACCCCATTGGAGGCACGTCAACCCGTGGGCGGTCGACGGCCATTTGGATGCAACCCCAGGTCAGGTGAGGCCACCCGCTGAGTTTAAG\n",
            "Description: P.warszewiczianum 5.8S rRNA gene and ITS1 and ITS2 DNA\n",
            "Annotations: {'molecule_type': 'DNA', 'topology': 'linear', 'data_file_division': 'PLN', 'date': '30-NOV-2006', 'accessions': ['Z78500'], 'sequence_version': 1, 'gi': '2765625', 'keywords': ['5.8S ribosomal RNA', '5.8S rRNA gene', 'internal transcribed spacer', 'ITS1', 'ITS2'], 'source': 'Phragmipedium warszewiczianum', 'organism': 'Phragmipedium warszewiczianum', 'taxonomy': ['Eukaryota', 'Viridiplantae', 'Streptophyta', 'Embryophyta', 'Tracheophyta', 'Spermatophyta', 'Magnoliophyta', 'Liliopsida', 'Asparagales', 'Orchidaceae', 'Cypripedioideae', 'Phragmipedium'], 'references': [Reference(title='Phylogenetics of the slipper orchids (Cypripedioideae: Orchidaceae): nuclear rDNA ITS sequences', ...), Reference(title='Direct Submission', ...)]}\n",
            "Id: Z78499.1\n",
            "Name: Z78499\n",
            "Name: CGTAACAAGGTTTCCGTAGGTGAACCTGCGGAGGGATCATTGTTGAGATCGCATAATAATTGATCGAGATAATCCAGAGGATCGGTTTACTTTGGTCACCCTTGGGCGCCTGCTATTGCGGTGACCTAGATTTTCCATGGAGGGAGCCTCCTTGGGAGCTTTCTTGCCGGCGATCTAACCCTTGCCCGTCGCAGTTTTGCACCAAGTCATATGACACATAAATGGTGAAGGACATACCCCCTTCGTTGAATTCGAGGAGGGGACGGCATGTGGCCTTGACCTCTCCCAATTATTTTTTTGACAACTCTCAGCCAACGGATATCTCGGCTCTTTGCATCGGATGGAGGACGCAGCGAAATGCGATAAGTGTGTGAATTGCAAGATCCCGTGAACCATCGAGTCTTTGAACGCAAGTTGCGCCCAAGCCATCAGGCCAAGGGCACGCCTGCCTGGGCATTGCGAGTCATATCTCTCCCTTAATGAGGCTGTCCATGCATACTGTTCAGCCGGTGCGGATGTGAGTTTGCCCCCTTGTTCTTTGGTGCTGGGGGTCTAAGAGCTGCAGGGGCTTTTGATGGTCCTAAATTCGGCAAGAGGTGGACGAATCATGCTACAACAAAACTGTTGGGCGAATGCTCCAGGTTGTCGTATTAGATGGGCCATCATAATCTAGAGACCCTTGTGAACCCCATTGGAGGCCCATCAACCCATGATCAGTTGATGGCCTTTTGGATGCGACCCCAGGTCAGGTGAGCAACC\n",
            "Description: P.micranthum 5.8S rRNA gene and ITS1 and ITS2 DNA\n",
            "Annotations: {'molecule_type': 'DNA', 'topology': 'linear', 'data_file_division': 'PLN', 'date': '30-NOV-2006', 'accessions': ['Z78499'], 'sequence_version': 1, 'gi': '2765624', 'keywords': ['5.8S ribosomal RNA', '5.8S rRNA gene', 'internal transcribed spacer', 'ITS1', 'ITS2'], 'source': 'Paphiopedilum micranthum', 'organism': 'Paphiopedilum micranthum', 'taxonomy': ['Eukaryota', 'Viridiplantae', 'Streptophyta', 'Embryophyta', 'Tracheophyta', 'Spermatophyta', 'Magnoliophyta', 'Liliopsida', 'Asparagales', 'Orchidaceae', 'Cypripedioideae', 'Paphiopedilum'], 'references': [Reference(title='Phylogenetics of the slipper orchids (Cypripedioideae: Orchidaceae): nuclear rDNA ITS sequences', ...), Reference(title='Direct Submission', ...)]}\n",
            "Id: Z78498.1\n",
            "Name: Z78498\n",
            "Name: CGTAACAAGGTTTCCGTAGGTGAACCTGCGGAAAGGTCATTGTTGAGATCACATAATAATTGATCGAGTTACTCCAGAGGATCAGTTTACTCCGGTCACCCATGGGTGCTTGCTATTGCGGTGACCTAGATTTGCCATGGAGCCTCCTTGGGAGTTTTCTTGCCGGCGATCTTACCCTTGCCCGGGGCAGTTTTGCCCCAAGTCATATGACACAATAATGGCGAAGGAGGGGGCGGCATTTTGCCCTTGACCCTACAATCACTCCCCCTCTCCAAATTATTTTTGGACAACTCTCAGCAACGGATATCTCGGCTCTTGCATCGATGAAGAACCCAGCGAAATGCGATAAGTGGTGTGAATTGCAGGATCCCGTGAACCATCGAGTCTTTGAACGCAAGTTGCGCCCAAGGCCATCAGGCCAAGGGCACGCCTGCCTGGGCATTGCGAGTCATATCTCTCCCTTAATGAGGCTGTACATGCATACTGTTCAGCCGGTGCGGATGTGAGTTTGGCCCCTTGTTCTTCGGTGCTGGGGGTCTAAGAGCTGCAGGGGCTTTTGATGGTCCTAAATTCGGCAAGAGGTGGACGAATTACAACAAAACTGTTGTGCGAATGCTCCAGGTTGTCGTATTAGATGGGCCAGCATAATCTAAAGACCCTTGTGAACCCCACTGGAGGCACATCAACCCGTGATCAGTTGATGGCCATTTGTTGCGACCCCAGTCAGTGAGCAACCCGCTGAGTTTAAGC\n",
            "Description: P.malipoense 5.8S rRNA gene and ITS1 and ITS2 DNA\n",
            "Annotations: {'molecule_type': 'DNA', 'topology': 'linear', 'data_file_division': 'PLN', 'date': '30-NOV-2006', 'accessions': ['Z78498'], 'sequence_version': 1, 'gi': '2765623', 'keywords': ['5.8S ribosomal RNA', '5.8S rRNA gene', 'internal transcribed spacer', 'ITS1', 'ITS2'], 'source': 'Paphiopedilum malipoense', 'organism': 'Paphiopedilum malipoense', 'taxonomy': ['Eukaryota', 'Viridiplantae', 'Streptophyta', 'Embryophyta', 'Tracheophyta', 'Spermatophyta', 'Magnoliophyta', 'Liliopsida', 'Asparagales', 'Orchidaceae', 'Cypripedioideae', 'Paphiopedilum'], 'references': [Reference(title='Phylogenetics of the slipper orchids (Cypripedioideae: Orchidaceae): nuclear rDNA ITS sequences', ...), Reference(title='Direct Submission', ...)]}\n",
            "Id: Z78497.1\n",
            "Name: Z78497\n",
            "Name: CGTAACAAGGTTTCCGTAGGTGAACCTGCGGAAGGATCATTGTTGAGATCACATAATAATTGATCGAGTGAATCCAGAGGATCAGTTTACTTTGGTCGCCCATGGGCGCTTGCTATTGCGGTGACCTAGATTTGCCATGGAGCCTCCTTGGGAGCTTTCTTGCCGGCGATCTAACCCTTGCCCGGCGCAGTTTTGCGCCAAGTCACATGACACATAAATGGTGAAGGGCACGGCCCTTTGTGAATTCAAGGAGGTGAAGGGCATGTGGCCTTGAGCCTACACTCCCTCCCCCTCTCCAAATTATTTTTTGTGAAACAACTCTCAGCAACGGAGATCTCAGCTCTTGCATCGATGAAGGAACGCAGCGAAATGCGATAAGTGGTGTGAATTGCAGAATCCCGTGAACCATCGAGTCTTTGAACGCAAGTTGCGCCCAAGGCCATCAGGCCAAGGGCACGCCTGCCTGGGCATTGCGAGTCATATCTCTCCCTTAACGAGGCTGTCCAGGCATACTGTTCAGCCGGTGCGGGTGTGAGTTTGGCCCCTTGTTCTTTGGTGCTGGGGGTCTAAGAGCTGCAGGGGCTTTTGATGGTCCTAAATTCGGCAAGAGGTGGACGCAACGCGCTACAACAAAACTGTTGTGCGAATGCCCCGGGTTGTCGTATTAGATGGGCCAGCATAATCTAAACACCCTTGTGAACCCCATTGGAGGCCCATCAACCCATGATCAGTTGATGGCCATTTGGTTGCGACCCCAGGTCAGGTGAGGCAACCCGCTGAGTTTAAGC\n",
            "Description: P.delenatii 5.8S rRNA gene and ITS1 and ITS2 DNA\n",
            "Annotations: {'molecule_type': 'DNA', 'topology': 'linear', 'data_file_division': 'PLN', 'date': '30-NOV-2006', 'accessions': ['Z78497'], 'sequence_version': 1, 'gi': '2765622', 'keywords': ['5.8S ribosomal RNA', '5.8S rRNA gene', 'internal transcribed spacer', 'ITS1', 'ITS2'], 'source': 'Paphiopedilum delenatii', 'organism': 'Paphiopedilum delenatii', 'taxonomy': ['Eukaryota', 'Viridiplantae', 'Streptophyta', 'Embryophyta', 'Tracheophyta', 'Spermatophyta', 'Magnoliophyta', 'Liliopsida', 'Asparagales', 'Orchidaceae', 'Cypripedioideae', 'Paphiopedilum'], 'references': [Reference(title='Phylogenetics of the slipper orchids (Cypripedioideae: Orchidaceae): nuclear rDNA ITS sequences', ...), Reference(title='Direct Submission', ...)]}\n",
            "Id: Z78496.1\n",
            "Name: Z78496\n",
            "Name: CGTAACAAGGTTTCCGTAGGTGAACCTGCGGAAGGATCATTGTTGAGATCGCATAATAATTGATCGAGTTAATCCAGAGGATCGGTTTACTTTGGTCACCCTTGGGCGCCTGCTATTGCGGTGACCTAGATTTGCCATGGAGGGAGCCTCCTTGGGAGCTTTCTTGCCGGCGATCTAACCCTTGCCCGGCGCAGTTTTGCGCCAAGTCATATGACACATAATTGGTGAAGGGCATATCCCTTCGTGAATTCGAGGAGGGGCCGGCATGTGGCCTTGACCTCTCCAATTAATTTTTTGAACAACTCTCAGCAACGGATATCTCGGCTCTTGCATCGATGGAGGGACGCACCGAAATGCGATAAGTGGTGTGAATTGCAGAATCCCGTGAACCATCGAGTCTTTTGAACGCAAGTTGCGCCCAAGGCCATCAGGCCAAGGGCACGCCTGCCTGGGCATTGCGAGTCATATCTCTCCCTTAATGAGGCTGTCCATGCATACTGTTCAGCCGGTGCGGATGTGAGTTTGGCCCCTTGTTCTTTGGTGCTGGGGGTCTAAGAGCTGCAGGGGCTTTTGATGGTCCTAAATTCGGCAAGAGGTGGACGAATCATGCTACAACAAAACTGTTGGGCGAATGCTCCAGGTTGTCGTATTAGATGGGCCATCATAATCTAGAGACCCTTGTGAACCCCATTGGAGGCCCATCAACCCATGATCAGTTGATGGCCTTTTGGGTTGCGACCCCAGGTCAGGTGAGGCAACCAGCTGAGTTTAAGC\n",
            "Description: P.armeniacum 5.8S rRNA gene and ITS1 and ITS2 DNA\n",
            "Annotations: {'molecule_type': 'DNA', 'topology': 'linear', 'data_file_division': 'PLN', 'date': '30-NOV-2006', 'accessions': ['Z78496'], 'sequence_version': 1, 'gi': '2765621', 'keywords': ['5.8S ribosomal RNA', '5.8S rRNA gene', 'internal transcribed spacer', 'ITS1', 'ITS2'], 'source': 'Paphiopedilum armeniacum', 'organism': 'Paphiopedilum armeniacum', 'taxonomy': ['Eukaryota', 'Viridiplantae', 'Streptophyta', 'Embryophyta', 'Tracheophyta', 'Spermatophyta', 'Magnoliophyta', 'Liliopsida', 'Asparagales', 'Orchidaceae', 'Cypripedioideae', 'Paphiopedilum'], 'references': [Reference(title='Phylogenetics of the slipper orchids (Cypripedioideae: Orchidaceae): nuclear rDNA ITS sequences', ...), Reference(title='Direct Submission', ...)]}\n",
            "Id: Z78495.1\n",
            "Name: Z78495\n",
            "Name: CGTAACAAGGTTTCCGTAGGTGAACCTCCGGAAGGATCATTGTTGAGATCACATAATAATTGATCGAGATAATCCAGAGGATCGGTTTACTTTGGTCACCCATGGGCGCTTGCTATTGCGGTGACCTAGAGTTGCCATGGAGAGCCTCCTTGGGAGCTTTCTTGCCGGCGATCTAACCCTTGTCCGGCGCGGTTTTGCGCCAAGTCATATGACACATAATTGGTGAAGGGCATAGCCCTTCGTGTATTCAAGGAGGGGGGGCGGCATGTGGCCTTGACACTGCACTCGCTCTCCCCCTCTCCAAAGTATTTTTCTGAACAACTCTCAGCAACGGATATCTCAGCTCTTGCATCGGATGGAGGAACGCAGCGAAATCCGATAAGTGGTGTGAATTGCAGAATCCCGTGAACCATCGAGTCTTTTGAACGCAAGTTGCGCCCGAGGCCATGAGGCCAAGGGCACGCCTGCCTGGGCATTGCGAGTCATCTCTCTCCCTCAATGAGGCTGTCCATGCATACTGTTCAGCCGGTGCGGATGTGAGTTTGGCCCCTTGTTCTTTGGTGCTGGGGGTCTAAGAGCAGCAGGGGCTTTTGATGGTCCTAAATTCGGCAAGAGGTGGACGAATCAGGCTACAACAACACTGTTGTTGTGCGAATGCTCCAGGTTGTCGTATTAGATGGGCCGGCATAATCCAGAGACCCTTGTGAACCCCATTGGAGGCCCATCAACCCATGATCAGTTGATGGCCATTCGGTTGCGACCCCAGGTCAGTGAGCAACCCGCTGAGTG\n",
            "Description: P.emersonii 5.8S rRNA gene and ITS1 and ITS2 DNA\n",
            "Annotations: {'molecule_type': 'DNA', 'topology': 'linear', 'data_file_division': 'PLN', 'date': '30-NOV-2006', 'accessions': ['Z78495'], 'sequence_version': 1, 'gi': '2765620', 'keywords': ['5.8S ribosomal RNA', '5.8S rRNA gene', 'internal transcribed spacer', 'ITS1', 'ITS2'], 'source': 'Paphiopedilum emersonii', 'organism': 'Paphiopedilum emersonii', 'taxonomy': ['Eukaryota', 'Viridiplantae', 'Streptophyta', 'Embryophyta', 'Tracheophyta', 'Spermatophyta', 'Magnoliophyta', 'Liliopsida', 'Asparagales', 'Orchidaceae', 'Cypripedioideae', 'Paphiopedilum'], 'references': [Reference(title='Phylogenetics of the slipper orchids (Cypripedioideae: Orchidaceae): nuclear rDNA ITS sequences', ...), Reference(title='Direct Submission', ...)]}\n",
            "Id: Z78494.1\n",
            "Name: Z78494\n",
            "Name: CGTAACAAGGTTTCCGTAGGTGAACCTGCGGAAGGATCATTGTTGAGGTCGCATAATAATTGATCGAGTTAATCTGGAGGATCAGTTTACTTTGGTCACCCATGGACATTTACTGTTGCAGTGACCTAGATTTACCATCGGGCCTCCTTGGGAACTTTCCTGCTGGCGATCTATACCCTTGCCCGGCGCAGTAATGCGCCAAATCAAATGACCCATAATTAATGAAGGGGGACGGCATACTGCCTTGACCAACTCCCCATTATTGAGGTAACACTCTCAACTTCGGATATCTCAGGTGTGAATTGCAGAATCCCGTTAACATCGAGTCTTTGAACGCAAGTTGGGCCCGAGGCCAACAGGCCAAGGGAACGCCTGTCTGGGCATTGCGAGTCATATCTCTCCCTTAATGAGGCTGTCCATACGTACTGTTCAGCCGGTGCGGATGTGAGTTTGGCCCCTTGTTCTTCGGTACGGGGGGTCTAAGAGCTGCATGGGCTTTTGATGGTCCTAAATACGGCAAGAGGTGGACGAACTATGCTACAACAAAACTGTTGTGCGAATGCCCCGGGTTGTTGTGTTTAATCAGAAGACCCTTTTGAACCCCATTGGAGGCCCATCGACCCATGATCAGTTGAATGGCCATTTGGTTGCGATCCCAGGTCAGGTGAGGCAACCCGCTGAGTTTAAG\n",
            "Description: P.niveum 5.8S rRNA gene and ITS1 and ITS2 DNA\n",
            "Annotations: {'molecule_type': 'DNA', 'topology': 'linear', 'data_file_division': 'PLN', 'date': '30-NOV-2006', 'accessions': ['Z78494'], 'sequence_version': 1, 'gi': '2765619', 'keywords': ['5.8S ribosomal RNA', '5.8S rRNA gene', 'internal transcribed spacer', 'ITS1', 'ITS2'], 'source': 'Paphiopedilum niveum', 'organism': 'Paphiopedilum niveum', 'taxonomy': ['Eukaryota', 'Viridiplantae', 'Streptophyta', 'Embryophyta', 'Tracheophyta', 'Spermatophyta', 'Magnoliophyta', 'Liliopsida', 'Asparagales', 'Orchidaceae', 'Cypripedioideae', 'Paphiopedilum'], 'references': [Reference(title='Phylogenetics of the slipper orchids (Cypripedioideae: Orchidaceae): nuclear rDNA ITS sequences', ...), Reference(title='Direct Submission', ...)]}\n",
            "Id: Z78493.1\n",
            "Name: Z78493\n",
            "Name: CGTAACAAGGATTCCGTAGGTGAACCTGCGGAAGGATCATTGTTGAGATCGCATAATAATTGATCGAGTTAATCTGGAGGATCGGTTTACTTTGGTCACCCATGGGCATTTTCTGTTGCAGTGACCTAGAATTTCCATCGGGCCTCCCTGGGAGCTTTCCTGCTGGCGATCTATACCCTTGCCCGGCGCAGTTTTGCGCCAAGTCAAATTTTACATAAGTGGTGAAGGGGGGCGGCATTCTTCCTTGACCAGCCCCCAAGTATTTAGGTAACAACTCTCAGCAACGGATATCTCGGCTCATGCATCGATGAAGGAACGCAGCGAGATTCGATAAATGGTGTGCCTTGCAGAATCCCGTGAACCATCGAATCTTTGAACGCAAGTTGCGCGCGAGGCCATCAGCCCAAGGGGACGCCTGCCTGGACATTGCGACTCATATCTCTCCCTTAATGAGGCTGTCCAAACGTACTGGTCATCCGGTGTGGATGTGAGTTTGGCCCCTTGTTCTTCGGTACGGGGGGTCTAAGAGCTGCATGGGCTTTTGATGGTCCTAAATACGGCAAGAGGTGGACGAACTATGCTACAACAAAACTGTTGTGCGAATGCCCCGGGTTGTTGTGTTTAATCAGAAGACCCTTTTGAACCCCATTGGAGGCCCATCGACCCATGATCAGTTGAATGGCCATTTGGTTGCGATCCCAGGTCAGGTGAGGCAACCC\n",
            "Description: P.godefroyae 5.8S rRNA gene and ITS1 and ITS2 DNA\n",
            "Annotations: {'molecule_type': 'DNA', 'topology': 'linear', 'data_file_division': 'PLN', 'date': '30-NOV-2006', 'accessions': ['Z78493'], 'sequence_version': 1, 'gi': '2765618', 'keywords': ['5.8S ribosomal RNA', '5.8S rRNA gene', 'internal transcribed spacer', 'ITS1', 'ITS2'], 'source': 'Paphiopedilum godefroyae', 'organism': 'Paphiopedilum godefroyae', 'taxonomy': ['Eukaryota', 'Viridiplantae', 'Streptophyta', 'Embryophyta', 'Tracheophyta', 'Spermatophyta', 'Magnoliophyta', 'Liliopsida', 'Asparagales', 'Orchidaceae', 'Cypripedioideae', 'Paphiopedilum'], 'references': [Reference(title='Phylogenetics of the slipper orchids (Cypripedioideae: Orchidaceae): nuclear rDNA ITS sequences', ...), Reference(title='Direct Submission', ...)]}\n",
            "Id: Z78492.1\n",
            "Name: Z78492\n",
            "Name: CGTAACAAGGTTTCCGTAGGTGAACCTGCGGAAGGATCATTGTTGAGATCGCATAATAATTGATCGAGTTAATCTGGAGGATCAGTTTACTTTGGTCACCCACGGGCATTTGCTGTTGCAGTGACCTAGAATTTGCCATCGAGCCTCCTTGGGAGCTTTCTTGCTGGCGATCTATACCCTTGCCCGGCGCAGTTTTGCGCCAAGTCATATGTCACATAATTGGTGAAGGGGGGGAGCGTACTGCCTTGACCCACTCCAAATTATTTTTTTAACAACTCTCAGCAACGGATATCTCGGCTCTTGCATCGATGTAGAACCCAGCGAAATGCGATACTGGTGTGATTTGCAGAATCCCGTGGACCATCGAGTCTTTGAACGCAAGTTGCGCCCGAGGCCATCAGGCCAAGGGCACGCCTGCCTGGGCATTGCGAGTCAAATCTCTCCCTTAATGAGGCTGTCCATACATACTGTTCAGCCGGTGCGGATGTGAGTTTGGCCCCTTGTTCTTTGGGACGGGGGGTCTAAGAGCTGCACGGGCTTTTGATGGTCCTAAATACGGCAAGAGGTGGACGAATTATGCTACAACAAAACTGTTGTGCGAATGCCCCGGGTTGTTGTGTTACATGGGCCAGCTTAATCAGAAGACCCTTTTGGACCCCATTGGAGGCCCATCAACCCATGATCAGTTGATTGGCCATTTGGTTGCGATCCCAGTCAGGTGAGGCACACCGCTGAGTTTAATA\n",
            "Description: P.bellatulum 5.8S rRNA gene and ITS1 and ITS2 DNA\n",
            "Annotations: {'molecule_type': 'DNA', 'topology': 'linear', 'data_file_division': 'PLN', 'date': '30-NOV-2006', 'accessions': ['Z78492'], 'sequence_version': 1, 'gi': '2765617', 'keywords': ['5.8S ribosomal RNA', '5.8S rRNA gene', 'internal transcribed spacer', 'ITS1', 'ITS2'], 'source': 'Paphiopedilum bellatulum', 'organism': 'Paphiopedilum bellatulum', 'taxonomy': ['Eukaryota', 'Viridiplantae', 'Streptophyta', 'Embryophyta', 'Tracheophyta', 'Spermatophyta', 'Magnoliophyta', 'Liliopsida', 'Asparagales', 'Orchidaceae', 'Cypripedioideae', 'Paphiopedilum'], 'references': [Reference(title='Phylogenetics of the slipper orchids (Cypripedioideae: Orchidaceae): nuclear rDNA ITS sequences', ...), Reference(title='Direct Submission', ...)]}\n",
            "Id: Z78491.1\n",
            "Name: Z78491\n",
            "Name: CGTAACAAGGTTTCCGTAGGTGAACCTGCGGAAGGATCATTGTTGAGATCGCATAATAATTGATCGAGTTAATCTGGAGGATCAGTTTACTTTGGTCACCCACGGGCATTTGCTGTTGCAGTGACCTAGATTTGCCATCGGGCCTCCTTAGGAGCTTTCTTGCTGGCGATCTATACCCTTGCCCGGCGCAGTTTTGCGCCAAGTCATATGACACATAATTGGTGTTGGGGGGAGGCGTGCTGCCTTGACCCGCTCCAAATTATATTTTTAACAACTCTCAGCAACGGATATCTCGGCTCTTGCATCGATGAAGAACCAGCGAAATGCGATAAATGGTGTGAATTGCAGAATCCCGTGAACCATCGAGTCTTTGAACGCAAGTTGCGCCCGAGGCCATCAGGCCAAGGGCACGCCTGCCTGGGCATTGCGAGTCATATCTCTCCCTTAATGAGGCTGTCCATACATACTGTTCAGCCGGTGCGGATGTGAGTTTGGCCCCTTGTTCTTTGGTACGGGGGGTCTAAGAGCTGCATGGGCTTTTGATGGTCCTAAATACGGCAAGAGGTGGACGAACTATGCTACAACAAAATGTTGTGCGAATGCCCCGGGTTGTTGTGTTACATGGACCAGCATAATCAGAAGACCCTTTGGACCCCATTAGAGGCCCATCAACCCATGATCAGTTGAATGGCCATTTGTTGCGATCCCAGTCAGGTGAGCAACCCGCTGAGATAAGC\n",
            "Description: P.concolor 5.8S rRNA gene and ITS1 and ITS2 DNA\n",
            "Annotations: {'molecule_type': 'DNA', 'topology': 'linear', 'data_file_division': 'PLN', 'date': '30-NOV-2006', 'accessions': ['Z78491'], 'sequence_version': 1, 'gi': '2765616', 'keywords': ['5.8S ribosomal RNA', '5.8S rRNA gene', 'internal transcribed spacer', 'ITS1', 'ITS2'], 'source': 'Paphiopedilum concolor', 'organism': 'Paphiopedilum concolor', 'taxonomy': ['Eukaryota', 'Viridiplantae', 'Streptophyta', 'Embryophyta', 'Tracheophyta', 'Spermatophyta', 'Magnoliophyta', 'Liliopsida', 'Asparagales', 'Orchidaceae', 'Cypripedioideae', 'Paphiopedilum'], 'references': [Reference(title='Phylogenetics of the slipper orchids (Cypripedioideae: Orchidaceae): nuclear rDNA ITS sequences', ...), Reference(title='Direct Submission', ...)]}\n",
            "Id: Z78490.1\n",
            "Name: Z78490\n",
            "Name: CGTAACAAGGTTTCCGTAGGTGAACCTGCGGAAGGATCATTGTTGAGATCACATAATAATTGATCGAGTTAATCTGGAGGATCAGTTTACTTTGGTCACCCATGGGCATTTGCTGTTGCAGTGACCGAGATTTGCCATCGAGCCTCCTTGGGAGCTTTCTTGCTGGCGATCTGAACCCTAGTCCGGCGCAGTTTTGCGCCAAGTCATATGGCACATAATTGGTGAAGGGGGCGGCATGCTGCCTCGACCCTCCCCAAATTATTTTTTAACAACTCTCAGCAACGGATATCTCGGCTCTTGCATCGATGAAGAACGCAGCGAAATGCGATAAATGGTGTGAATTGCAGAATCCCGTGAACCATCGAGTCTTTGAACGCAAGTTGCGCCCGAGGCCATCAGGCCAAGGGCACGCCTGCCTGGGCATTGCGAGTCATATCTCTCCCTTAATGAGGCTGTCCAAACATACTGTTCAGCCGGTGCGGATGTGAGTTTGGCCCCTTGTTCTTTGGTACGGGGGGTCTAAACGCTGCATGGGCTTTTGATGGTCCTAAATACGGCAAGAGGTGGACGACTGTTCTGCAACAAGTGTTGTGCGAATGCCCCGCGTTGTCGTATTAGATGGGCCAGCATAATTTGAAGACCCTTTTGAACCCCATTGGAGGCCCGTCAACCCATGATCAGTTGACGGCCATTTGGTTGCGACCCCAGTCAGGTGAGCAACCAGCTGA\n",
            "Description: P.fairrieanum 5.8S rRNA gene and ITS1 and ITS2 DNA\n",
            "Annotations: {'molecule_type': 'DNA', 'topology': 'linear', 'data_file_division': 'PLN', 'date': '30-NOV-2006', 'accessions': ['Z78490'], 'sequence_version': 1, 'gi': '2765615', 'keywords': ['5.8S ribosomal RNA', '5.8S rRNA gene', 'internal transcribed spacer', 'ITS1', 'ITS2'], 'source': 'Paphiopedilum fairrieanum', 'organism': 'Paphiopedilum fairrieanum', 'taxonomy': ['Eukaryota', 'Viridiplantae', 'Streptophyta', 'Embryophyta', 'Tracheophyta', 'Spermatophyta', 'Magnoliophyta', 'Liliopsida', 'Asparagales', 'Orchidaceae', 'Cypripedioideae', 'Paphiopedilum'], 'references': [Reference(title='Phylogenetics of the slipper orchids (Cypripedioideae: Orchidaceae): nuclear rDNA ITS sequences', ...), Reference(title='Direct Submission', ...)]}\n",
            "Id: Z78489.1\n",
            "Name: Z78489\n",
            "Name: CGTAACAAGGTTTCCGTAGGTGAACCTGCGGAAGGATCATTGTTGAGATCACATAATAATTGATCGAGTTAATCTGGAGGATCAGTTTACTTTGGTCACCCGAGGGCATTTGCTATTGCAGTGACCGAGATTTGCCATCGAGCCTCCTTGGGAGCTTTCTTGCTGGCGATCTAAACCCGAGCCCGGCGCAGTTTTGCGCCAAGTCATATGACACATAATTGGTGAAGGGGGCGGCATGCTGCCTTGACCCTCCCCAGATTATTTTTTAACAACTCTCAGCAACGGATATCTCGGCTCTTGCATCGATGAAGAACGCAGCGAAATGCGATAAATGGTGTGAATTGCAGAATCCCGTGAACCATCGAGTCTTTGAACGCAAGTTGCGCCCGAGGCCATCAGGCCAAGGGCACGCCTGCCTGGGCATTGCGAGTCATATCTCTCCCTTAATGAGGCTGTCCATACATACTGTTCAGCCGGTGGGGATGTGGGTTTGGCCCCTTGTTCATTGGTACGGGGGGTCTAAGAGCTGCATGGGATTTTGATGGTCCTAAATACGGCAAGAGGTGGACGAACTATGCTACAACAAAACTGTTGTGCGAATGCCCCGAGTTGTCGTATTAGATGGGCCCAGCATATCTGAAGACCCTTTTGAACCCCATGGAGGCCCATCAACCCATGATCAGTTGATGGCCATTTGGTTGCGACCCCAGGTCAGGTGAGGCAACCCGCTGAGTTTAGGC\n",
            "Description: P.druryi 5.8S rRNA gene and ITS1 and ITS2 DNA\n",
            "Annotations: {'molecule_type': 'DNA', 'topology': 'linear', 'data_file_division': 'PLN', 'date': '30-NOV-2006', 'accessions': ['Z78489'], 'sequence_version': 1, 'gi': '2765614', 'keywords': ['5.8S ribosomal RNA', '5.8S rRNA gene', 'internal transcribed spacer', 'ITS1', 'ITS2'], 'source': 'Paphiopedilum druryi', 'organism': 'Paphiopedilum druryi', 'taxonomy': ['Eukaryota', 'Viridiplantae', 'Streptophyta', 'Embryophyta', 'Tracheophyta', 'Spermatophyta', 'Magnoliophyta', 'Liliopsida', 'Asparagales', 'Orchidaceae', 'Cypripedioideae', 'Paphiopedilum'], 'references': [Reference(title='Phylogenetics of the slipper orchids (Cypripedioideae: Orchidaceae): nuclear rDNA ITS sequences', ...), Reference(title='Direct Submission', ...)]}\n",
            "Id: Z78488.1\n",
            "Name: Z78488\n",
            "Name: CTGTAGGTGAACCTGCGGAAGGATCATTGTTGAGATCACGCAATAATTGATCGAGTTAATCTGGAGGATCAGTTTACTTTGGTCACCCATGGGCATTTGTTATTGCAGTGACCGAGATTTGCCATCGAGCCTCCTTGGGAGCTTTCTTGCTGGCGATCTTAACCCTAGCCCGGCGCAGTTTTGCGCCAAGTCATACGACACATAATTGGTGAAGGGGGCGGCATGGTGCCTTGACCCTCCCCTAATTATTTTCTAACAACTCTCATCAACGGGATGGAGAACGCAGCGAAATGCGATAAATGGTGTGAATTGCAGAATCCCGTGAACCATCGAGTCTTTGAACCCAAGTTGCGCCCGAGGCCATCAGGCCAAGGGCACGCCTGCCTGGGCATTGCGAGTCAAATCTCTCCCTTAATGAGGCTGTCCATACATACTGTTCAACCGGTGCGGATGTGAGTTTGCCCCCTTGTTCATTGGTACGGGGGGTCTAAGAGCTGCATGGGCTTTTGATGGTCCTAAAAACGGCAAGAGGTGGACGAACAACGCCACAACCAAACTGTTGTGCGGATCCCCCGGGTTGTCGTATTAGATGGGCCATCATAATCTGAAGACCCTTTTGAACCCCATCGGAGGCCCATCAACCCATGATCAGTTGATGGACATTTGTTGCGACCCCAGTCAGGTGAGCAACCGGCT\n",
            "Description: P.tigrinum 5.8S rRNA gene and ITS1 and ITS2 DNA\n",
            "Annotations: {'molecule_type': 'DNA', 'topology': 'linear', 'data_file_division': 'PLN', 'date': '30-NOV-2006', 'accessions': ['Z78488'], 'sequence_version': 1, 'gi': '2765613', 'keywords': ['5.8S ribosomal RNA', '5.8S rRNA gene', 'internal transcribed spacer', 'ITS1', 'ITS2'], 'source': 'Paphiopedilum tigrinum', 'organism': 'Paphiopedilum tigrinum', 'taxonomy': ['Eukaryota', 'Viridiplantae', 'Streptophyta', 'Embryophyta', 'Tracheophyta', 'Spermatophyta', 'Magnoliophyta', 'Liliopsida', 'Asparagales', 'Orchidaceae', 'Cypripedioideae', 'Paphiopedilum'], 'references': [Reference(title='Phylogenetics of the slipper orchids (Cypripedioideae: Orchidaceae): nuclear rDNA ITS sequences', ...), Reference(title='Direct Submission', ...)]}\n",
            "Id: Z78487.1\n",
            "Name: Z78487\n",
            "Name: CGTAACAAGGTTTCCGTAGGTGAACCTGCGGAAGGATCATTGTTGAGATCACATAATAATTGATCGAGTTACTCTGGAGGATCAGTTTACTTTGGTCACCCATGGGCATTTGCTATTGCAGTGACCGGGATTTGCCATCGAGCCTCCTTGGGAGCTTTCTTGCTGGCGATCTAAACCCTAGCCCGGCGCAGTTTTGCGCCAAGTCATATGACACATAATTGGTGAAGGGGGCGGCATGCTGCCTTTACCCTCCCCAAATTATTTTTTAACAACTCTCAGCAACGGATATCTCGGCTCTTGCATCGATGAAGAACGCAGCGAAATGCGATAAATGGTGTGAATTGCAGAATCCCGTGAACCATCGAGTCTTTGAACGCAAGTTGCGCCCGAGGCCATCAGGCCAAGGGCACGCCTGCCTGGGCATTGCGAGTCATATCTCTCCCTTAATGAGGCTGTCCATACATATTGTTCAGCCGGTGCGGATGTGAGTTCGGCCCCTTGTTCTTCGGTACGGGGGGTCTAAGAGCAGCATGGGCTATCGATGGTCCTAAATGCGGCAAGAGGTGGACGAACTATGCTACAACAAAACTGTTGTGCGAATGCCCCGGGTTGTCGTATTAGATGGGCCAGCGTAATCTAAAGACCCTTTTGAACCCCATTAGAGGCCCATCAACCCATGATCAGTTGGGGCCACTTGTTGCGACCCCAGTCAGGTGAGCAACCGCTGAGTAA\n",
            "Description: P.hirsutissimum 5.8S rRNA gene and ITS1 and ITS2 DNA\n",
            "Annotations: {'molecule_type': 'DNA', 'topology': 'linear', 'data_file_division': 'PLN', 'date': '30-NOV-2006', 'accessions': ['Z78487'], 'sequence_version': 1, 'gi': '2765612', 'keywords': ['5.8S ribosomal RNA', '5.8S rRNA gene', 'internal transcribed spacer', 'ITS1', 'ITS2'], 'source': 'Paphiopedilum hirsutissimum', 'organism': 'Paphiopedilum hirsutissimum', 'taxonomy': ['Eukaryota', 'Viridiplantae', 'Streptophyta', 'Embryophyta', 'Tracheophyta', 'Spermatophyta', 'Magnoliophyta', 'Liliopsida', 'Asparagales', 'Orchidaceae', 'Cypripedioideae', 'Paphiopedilum'], 'references': [Reference(title='Phylogenetics of the slipper orchids (Cypripedioideae: Orchidaceae): nuclear rDNA ITS sequences', ...), Reference(title='Direct Submission', ...)]}\n",
            "Id: Z78486.1\n",
            "Name: Z78486\n",
            "Name: CGTCACGAGGTTTCCGTAGGTGAATCTGCGGGAGGATCATTGTTGAGATCACATAATAATTGATCGAGATTATCTGGAGGATCAGTTTACTTTGGTCACCCATGGACATTTGCTATTGCAGTGCCCGAGATTTGCCATCGAGCCTCCTTGGGAGCTTTCTTGCTGGCGATCTAAACCCTAGCCCGGCGCAGTTTTGCGCCAAGTCATATGACACATAATTGGTGAAGGGTGCGGCATGGTGCCTGACCCTCCCCAAATTATTTCTTAACAACTCTCAGCAACGGATATCTCGCTCTTGCATCGATGAAGAACGCAGCGAAATGCGATAAATGGTGTGAATTGCAGAATCCCGTGAACCATCGAGTCTTTGAACGCAAGTTGCGCCCGAGGCCATCAGGCCAAGGGCACGCCTGCCTGGGCATTGCGAGTCATATCTCTCCCTTAATGAGGCTGTCCATACATACTGTTCAGCCGGTGCGGATGTGAGTTTGGCCCCTTGTTCATTGGTACGGGGGGTCTAAGAGCTGCGTGGGCTTTTGATGGTCCTAAATACGGCAAGAGGTGGACGAACTATGCTACAACAAAACTGTTGTGCGAATGCCCCGGGTTGTCGTATTAGATGGGCCAGCATAATCTAAAGACCCTTTTGAACCCCATTGGAGGCCCATCAACCCATGATCAGTTGATGGCCATTTGGTAGCGACCCCAGGTCAGGTGAGGCAACCCGCTGA\n",
            "Description: P.barbigerum 5.8S rRNA gene and ITS1 and ITS2 DNA\n",
            "Annotations: {'molecule_type': 'DNA', 'topology': 'linear', 'data_file_division': 'PLN', 'date': '30-NOV-2006', 'accessions': ['Z78486'], 'sequence_version': 1, 'gi': '2765611', 'keywords': ['5.8S ribosomal RNA', '5.8S rRNA gene', 'internal transcribed spacer', 'ITS1', 'ITS2'], 'source': 'Paphiopedilum barbigerum', 'organism': 'Paphiopedilum barbigerum', 'taxonomy': ['Eukaryota', 'Viridiplantae', 'Streptophyta', 'Embryophyta', 'Tracheophyta', 'Spermatophyta', 'Magnoliophyta', 'Liliopsida', 'Asparagales', 'Orchidaceae', 'Cypripedioideae', 'Paphiopedilum'], 'references': [Reference(title='Phylogenetics of the slipper orchids (Cypripedioideae: Orchidaceae): nuclear rDNA ITS sequences', ...), Reference(title='Direct Submission', ...)]}\n",
            "Id: Z78485.1\n",
            "Name: Z78485\n",
            "Name: CTGAACCTGGTGTCCGAAGGTGAATCTGCGGATGGATCATTGTTGAGATATCATAATAATTGATCGAGTTAATCTGGAGGATCAGTTTACTTTGGTCACCATGGGCATTTGCTATTGCAGTGACCGAGATTTGCCATCGAGCCTCCTTGGGAGCTTTCTTGCTGGCGATCTAAACCCTAGCCCGGGGCAGTTTTGCGCCAAGTCATATGACACATAATTGGTGAAGGGTGCGGCATGGTGCCTTGACCCTCCCCAAATTATTTCTTAACAACTCTCAGCAACGGATATCTCGGCTCTTGCATCGATGAAGAACGCAGCGAAATGCGATAAATGGTGTGAATTGCAGAATCCCCGTGAACATCGAGTCTTTGAACGCAAGTTGCGCCCGAGGCCATCAGGCCAAGGGCACGCCTGCCTGGGCATTGCGAGTCATATCTCTCCCTTAATGAGGCTGTCCATACATACTGTGCAGCCGGTGCGGATGTGAGTTTGGGCCCTTGTTCATTGGTACGGGGGGTCTAAGAGCTGCGTGGGCTTTTGATGGTCCTAAATACGCCAAGAGGTGGACGAACTATGCTACAACAAAACTGTTGTGCGAATGCCCCGGGTTGTCGTATTAGACGGGCCAGCACAATCTAAAGACCCCTTTGAACCCCATTGGAGGCCCATCAACCCATGATCAGTTGATGGCCATGTGTTGCGACCCCAGTCAGCTGAGCAACCCCTGATTTAGTA\n",
            "Description: P.henryanum 5.8S rRNA gene and ITS1 and ITS2 DNA\n",
            "Annotations: {'molecule_type': 'DNA', 'topology': 'linear', 'data_file_division': 'PLN', 'date': '30-NOV-2006', 'accessions': ['Z78485'], 'sequence_version': 1, 'gi': '2765610', 'keywords': ['5.8S ribosomal RNA', '5.8S rRNA gene', 'internal transcribed spacer', 'ITS1', 'ITS2'], 'source': 'Paphiopedilum henryanum', 'organism': 'Paphiopedilum henryanum', 'taxonomy': ['Eukaryota', 'Viridiplantae', 'Streptophyta', 'Embryophyta', 'Tracheophyta', 'Spermatophyta', 'Magnoliophyta', 'Liliopsida', 'Asparagales', 'Orchidaceae', 'Cypripedioideae', 'Paphiopedilum'], 'references': [Reference(title='Phylogenetics of the slipper orchids (Cypripedioideae: Orchidaceae): nuclear rDNA ITS sequences', ...), Reference(title='Direct Submission', ...)]}\n",
            "Id: Z78484.1\n",
            "Name: Z78484\n",
            "Name: CGTAACAAGGTTTCCGTAGGTGAACCTGGGGAAGGATCATTGTTGAGATCACATAATAATTGATCGAGTTAATCTGGAGGATCAGTTTACTTTGGTCACCCATGGGCATTTGGCTATTGCAGTGACCGAGAGTTTACCATCGAGCCTCCATGGGAGCTTTCTTGCTGGCGATCTAAACCCTAGCCCGGCGCAGTTTTGGCCCAAGTCATATGACACATAATTGTGAAGGGGCGGCATGTTTCCTACCCTCCCAACTCTCAGCAACGGATATCTCGCTCTTGCATCGATGAAGAACGCAGCGAAATGCGATAAATGGTGTGAATTGCAGAATCCCGTGAACCATCGAGTCTTGGAACGCAAGTTGCGCCCGAGGCCATCAGGCCAAGGGCACGCCTGCCTGGGCATTGCGAGTCATATCTCTCCCTTAATGAGGCTGTCCATACATACTGTTCAGCCGGTGCGGATGTGAGTTTGGCCCCTTGTTCATTGGTACGGGGGGTCTAAGAGCTGCGTGGGCTTTTGATGGTCCTAAATACGGCAAGAGGTGGACGAACTATGCTACAACAAAACTGTTGTGCGAATGCCCCGGGTTGTCGTATTAGATGGGCCAGCATAATCTAAAGACCCTTTGACACCCCATTGGAGGCCCATCAACCCATGATCAGTTGATGGTCCATTGGGTTGCGACCCCAAGTCAGGTGAAGCAACTCCCTGAGTTTT\n",
            "Description: P.charlesworthii 5.8S rRNA gene and ITS1 and ITS2 DNA\n",
            "Annotations: {'molecule_type': 'DNA', 'topology': 'linear', 'data_file_division': 'PLN', 'date': '30-NOV-2006', 'accessions': ['Z78484'], 'sequence_version': 1, 'gi': '2765609', 'keywords': ['5.8S ribosomal RNA', '5.8S rRNA gene', 'internal transcribed spacer', 'ITS1', 'ITS2'], 'source': 'Paphiopedilum charlesworthii', 'organism': 'Paphiopedilum charlesworthii', 'taxonomy': ['Eukaryota', 'Viridiplantae', 'Streptophyta', 'Embryophyta', 'Tracheophyta', 'Spermatophyta', 'Magnoliophyta', 'Liliopsida', 'Asparagales', 'Orchidaceae', 'Cypripedioideae', 'Paphiopedilum'], 'references': [Reference(title='Phylogenetics of the slipper orchids (Cypripedioideae: Orchidaceae): nuclear rDNA ITS sequences', ...), Reference(title='Direct Submission', ...)]}\n",
            "Id: Z78483.1\n",
            "Name: Z78483\n",
            "Name: CGTAACAAGGTTTCCGTAGGTGAACCTGCGGAAGGATCATTGTTGAGATCACATAATAATTGATCGAGTTAATCTGGAGGATCAGTTTACTTTGGTCACCCATGGGCATTTGCTATTGCAGTGACCGAGATTTGCCATCGAGCCTCCTTGGGAGCTTTCTTGCTGGCGATCTAAACCCTAGCCCGGCGCAGTTTTGCGCCAAGTCATATGACACATAATTGGTGAAGGGGGCGGCATGCTGCCTTGACCCTCCCCCAAATTATTTTTTAACAACTCTCAGCAACGGAAATCTGGCCTCTTGCATGGATGAAGACCAAACCGAAATCATAAATGGTGTGAATTGCAGAATCCCGTGAACAATCGAGTCTTTGAACGCAAGTTGCGCCCGAGGCCATCAGGCCAAGGGCACGCCTGCCTGGGCATTGCGAGTCATATCTCTCCCTTAATGAGGCTGTCCACACATATCTGTTCAGCCGGTGCGGATGTGAGTTTGGCCCCTTGTTCATTGGTACGGGGGGTCTAAGAGCTGCATGGGCTTTTGTTGGTCCTAAATACGGCAAGAGGTGGACGAACTATGCTACAACAAAACTGTTGTGCGAATGCCCCGGGTTGTCGTATTAGATGGGCCAGCATAATCTAAAGACCCTTTTGAACCCCATTGGAGGCCCATCAACCCATGATCAGTTGATGGCCATTTGGTTGCGACCCCAGGTCAAGTGAAGCAACCCCTGAGTTTAGCA\n",
            "Description: P.villosum 5.8S rRNA gene and ITS1 and ITS2 DNA\n",
            "Annotations: {'molecule_type': 'DNA', 'topology': 'linear', 'data_file_division': 'PLN', 'date': '30-NOV-2006', 'accessions': ['Z78483'], 'sequence_version': 1, 'gi': '2765608', 'keywords': ['5.8S ribosomal RNA', '5.8S rRNA gene', 'internal transcribed spacer', 'ITS1', 'ITS2'], 'source': 'Paphiopedilum villosum', 'organism': 'Paphiopedilum villosum', 'taxonomy': ['Eukaryota', 'Viridiplantae', 'Streptophyta', 'Embryophyta', 'Tracheophyta', 'Spermatophyta', 'Magnoliophyta', 'Liliopsida', 'Asparagales', 'Orchidaceae', 'Cypripedioideae', 'Paphiopedilum'], 'references': [Reference(title='Phylogenetics of the slipper orchids (Cypripedioideae: Orchidaceae): nuclear rDNA ITS sequences', ...), Reference(title='Direct Submission', ...)]}\n",
            "Id: Z78482.1\n",
            "Name: Z78482\n",
            "Name: TCTACTGCAGTGACCGAGATTTGCCATCGAGCCTCCTGGGAGCTTTCTTGCTGGCGATCTAAACCGTAGCCCGGCGCAGTTTTGCGCCAAGTCATATGACACATAATTGGTGAAGGGGGCGGCATGCTGCCTTGACCCTCCCCAAATTATTTTTTAACAACTCTCNGCAACGGATATCTCGCCTCTTCATCGATGAAGAACGCAGCGAAATGCGATAAATGGTGTGAATTGCAGAATCCCGTGAANCCATCGAGTCTTTGAACGCAAGTTGCGCCCGAGGCCATCAGGCCAAGGGCACGCCTGCCTGGGCATTGCGAGTCATATCTCTCCCTTAATGAGGCTGTCCATACATACTGTTCAGCCGGTGCGGATGTGCGTTTGGCCCCTTGTTCATTGGTACGGGGGGTCTAAGAGCTGCGTGGGCTTTTGATGGTCCTAAATACGGCAAGAGGTGGACGAACTATGCTACAACAAAACTGTTGTGCGAATGCCCCGGGTTGTCGTATTAGATGGGCCAGCATAATCTAAAGACCCTTTTGAACCCCATTGGAGGCCCATCAACCCATGATCAGTTGATGGCCATTTGGTTGCGACCCCAGGTCAGGTGAGGCAACCCGCTGAGTTTAGCA\n",
            "Description: P.exul 5.8S rRNA gene and ITS1 and ITS2 DNA\n",
            "Annotations: {'molecule_type': 'DNA', 'topology': 'linear', 'data_file_division': 'PLN', 'date': '30-NOV-2006', 'accessions': ['Z78482'], 'sequence_version': 1, 'gi': '2765607', 'keywords': ['5.8S ribosomal RNA', '5.8S rRNA gene', 'internal transcribed spacer', 'ITS1', 'ITS2'], 'source': 'Paphiopedilum exul', 'organism': 'Paphiopedilum exul', 'taxonomy': ['Eukaryota', 'Viridiplantae', 'Streptophyta', 'Embryophyta', 'Tracheophyta', 'Spermatophyta', 'Magnoliophyta', 'Liliopsida', 'Asparagales', 'Orchidaceae', 'Cypripedioideae', 'Paphiopedilum'], 'references': [Reference(title='Phylogenetics of the slipper orchids (Cypripedioideae: Orchidaceae): nuclear rDNA ITS sequences', ...), Reference(title='Direct Submission', ...)]}\n",
            "Id: Z78481.1\n",
            "Name: Z78481\n",
            "Name: CGTAACAAGGTTTCCGTAGGTGAACCTGCGGAAGGATCATTGTTGAGATCACATAATAATTGATCGAGTTAATCTGGAGGATCAGTTTACTTTGGTCACCCATGGGCATTTGCTATTGCAGTGACCGAGATTTGCCATCGAGCCTCCTTGGGAGCTTTCTTGCTGGCGATCTAAACCCTAGCCCGGCGCAGTTTTGCGCCAAGTCATATGACACATAATTGGCGAAGGGGGCGGCATGGTGCCTTGACCCTCCCCAAATCATTTTTTTAACAACTCTCAGCAACGGAAGGGCACGCCTGCCTGGGCATTGCGAGTCATATCTCTCCCTTAATGAGGCTGTCCACACATACTGTTCAGCCGGTGCGGATGTGAGTTTGGCCCCTTGTTCATTGGTACGGGGGGTCTAAGAGCTGCGTGGGCTTTTGTTGGTCCTAAATACGGCAAGAGGTGGACGAACTATGCTACAACAAAACTGTTGTGCGAATGCCCCGGGTTGTCGTATTAGATGGGCCAGCATAATCTAAAGACCCTTTTGAACCCCATTGGAGGCCCATCAACCCATGATCAGTTGA\n",
            "Description: P.insigne 5.8S rRNA gene and ITS1 and ITS2 DNA\n",
            "Annotations: {'molecule_type': 'DNA', 'topology': 'linear', 'data_file_division': 'PLN', 'date': '30-NOV-2006', 'accessions': ['Z78481'], 'sequence_version': 1, 'gi': '2765606', 'keywords': ['5.8S ribosomal RNA', '5.8S rRNA gene', 'internal transcribed spacer', 'ITS1', 'ITS2'], 'source': 'Paphiopedilum insigne', 'organism': 'Paphiopedilum insigne', 'taxonomy': ['Eukaryota', 'Viridiplantae', 'Streptophyta', 'Embryophyta', 'Tracheophyta', 'Spermatophyta', 'Magnoliophyta', 'Liliopsida', 'Asparagales', 'Orchidaceae', 'Cypripedioideae', 'Paphiopedilum'], 'references': [Reference(title='Phylogenetics of the slipper orchids (Cypripedioideae: Orchidaceae): nuclear rDNA ITS sequences', ...), Reference(title='Direct Submission', ...)]}\n",
            "Id: Z78480.1\n",
            "Name: Z78480\n",
            "Name: CGTAACAAGGTTTCCGTAGGTGAACCTGCGGAAGGATCATTGTTGAGATCACATAATAATTGATCGAGTTAATCTGGAGGATCAGTTTACTTTGGTCACCCATGGGCATTTGCTATTGCAGTGACCGAGATTTGCCATCGAGCCTCCTTGGGAGCTTTCTTGCTGGCGATCTAAACCCTAGCCCGGCGCAGTTTTGCGCCAAGTCATATGACACATAATTGGCGAAGGGGGCGGCATGCTGCCTTGACCCTCCCCAAATTATTTTTTAACAACTCTCAGCAACGGATAGGCCATCAGGCTAAGGGCACGCCTGCCTGGGCATTGCGAGTCATATCTCTCCCTTCAATGAGGCTGTCCACACATACTGTTCAGCCGGTGCGGATGTGAGTTTGGCCCCTTGTTCATTGGTACGGGGGGTCTAAGAGCTGCGTGGGCTTTTGTTGGTACCTAAATACGGCAAGAGGTGGACGAACTATGCTACAACAAAAATGTTGTGCGAATGCCCCGGGTTGTCGTATAGATGGGCCAGCATAATCTAAAGACCCTTTTGAACCCCATTGGAGGCCCATCAACCCATGATCAGTTGA\n",
            "Description: P.gratrixianum 5.8S rRNA gene and ITS1 and ITS2 DNA\n",
            "Annotations: {'molecule_type': 'DNA', 'topology': 'linear', 'data_file_division': 'PLN', 'date': '30-NOV-2006', 'accessions': ['Z78480'], 'sequence_version': 1, 'gi': '2765605', 'keywords': ['5.8S ribosomal RNA', '5.8S rRNA gene', 'internal transcribed spacer', 'ITS1', 'ITS2'], 'source': 'Paphiopedilum gratrixianum', 'organism': 'Paphiopedilum gratrixianum', 'taxonomy': ['Eukaryota', 'Viridiplantae', 'Streptophyta', 'Embryophyta', 'Tracheophyta', 'Spermatophyta', 'Magnoliophyta', 'Liliopsida', 'Asparagales', 'Orchidaceae', 'Cypripedioideae', 'Paphiopedilum'], 'references': [Reference(title='Phylogenetics of the slipper orchids (Cypripedioideae: Orchidaceae): nuclear rDNA ITS sequences', ...), Reference(title='Direct Submission', ...)]}\n",
            "Id: Z78479.1\n",
            "Name: Z78479\n",
            "Name: CGTAACAAGGTTTCCGTAGGTGAACCTGCGGAAGGATCATTGTTGAGATCACATAATAATTGATCGAGTTAATCAGGAGGATCAGGTTACTTTGGTCACCCATGGGCATTTGCTGTTTCAGTGACCTAGATTTGCCATCGAGCCGAACTAAACCCTTGCCCGGCGCAGATTTGCGCCAATTTATATGAGACATTACTGGAAGGGGAGGGATGCTGCCTTGCCTTGCCCCCCAAATTATTTTTTAACAACTCTCAGCAACGGATATCTCGCCTCTTGCATCGATGAAGAACGCAGCGAAATGCGATAAATGGTGTGAATACAGAGATCCCGTGAACCATCGAGTCTTGAACGCAAGTTGCGCCCGAGGCCATCAGGCCAAGGGCACGCCTGCCTGGGCATTGCGAGACATATCTCTCCCTTAATGAGGCTGTCGTTCAGCCGGTGCGGATGTGAGTTTGGCCCCTTGTTCTTTGGTACGGGGGGTCTAAGAGCTGCATGGGCTTTTGATGGTCCTAAATACGGCAAGAGGTGGACGAACTATGCGACAACAGAACTGTTGTGCGAATGCCCCGGGTTGTCGTATTAGATGGGCCAGCATAATCTAAAGACCCTTTTGAACCCCATTGGAGGCCCATCAACCCAAGATCAGTTGACGGCCATTTGGATGCGACCCCAGGTCAGGTGAGGCAACCCTCTGAGT\n",
            "Description: P.primulinum 5.8S rRNA gene and ITS1 and ITS2 DNA\n",
            "Annotations: {'molecule_type': 'DNA', 'topology': 'linear', 'data_file_division': 'PLN', 'date': '30-NOV-2006', 'accessions': ['Z78479'], 'sequence_version': 1, 'gi': '2765604', 'keywords': ['5.8S ribosomal RNA', '5.8S rRNA gene', 'internal transcribed spacer', 'ITS1', 'ITS2'], 'source': 'Paphiopedilum primulinum', 'organism': 'Paphiopedilum primulinum', 'taxonomy': ['Eukaryota', 'Viridiplantae', 'Streptophyta', 'Embryophyta', 'Tracheophyta', 'Spermatophyta', 'Magnoliophyta', 'Liliopsida', 'Asparagales', 'Orchidaceae', 'Cypripedioideae', 'Paphiopedilum'], 'references': [Reference(title='Phylogenetics of the slipper orchids (Cypripedioideae: Orchidaceae): nuclear rDNA ITS sequences', ...), Reference(title='Direct Submission', ...)]}\n",
            "Id: Z78478.1\n",
            "Name: Z78478\n",
            "Name: CGTAACAAGGTTTCCGTAGGTGAACCTCCGGAAGGATCAGTGTTGAGATCACATAATAATTGATCGAGTTAATCTGGGGGATCAGTTTACTTTGGTCACCCATGGGCATTTGCTGTTGCAGTGGCCTAGAGTTTGCCATCGAGCCGATCTAAACCCTTGCCCGGCGCAGTTTTGCGCCAAGTCATATGACACATAACTGGAAGGGGCGGCATGCTGCCATGGCTCCCCCAAATATTGATAATGGCGTGATAGCAGATCCCTGAACATCGAGTTTTGAACGCATGTTGCGTCCGAGGCCATCAGGTCAAGGGGACGCCTGCCTGGAAATTGTGAGACATATCTCTCCCTTAATGAGGCTGCCATACATACTGTTCAGCCGGTGCGGATGTGAGTTTGGCCCCTTGTCCTTTGGTACGGGGGTCTAAGAGCTGTATGGGTTGGATGGTCCTAAATACGGCAAGAGGTGGACGAGCTATGTGACAACAGAACTGTTGTGCGAATGCCCCGGTTGTCGTTTAGATGGGTCAGCATAATCTAAAGACCCTTTTGACCCCCATTGGAGGCCCATCAACCCATTATCAGTTGAGGACATTTGGTTGCGACCCAGGTCAGATGAGGCACCCGCTGAGTTTAGGC\n",
            "Description: P.victoria 5.8S rRNA gene and ITS1 and ITS2 DNA\n",
            "Annotations: {'molecule_type': 'DNA', 'topology': 'linear', 'data_file_division': 'PLN', 'date': '30-NOV-2006', 'accessions': ['Z78478'], 'sequence_version': 1, 'gi': '2765603', 'keywords': ['5.8S ribosomal RNA', '5.8S rRNA gene', 'internal transcribed spacer', 'ITS1', 'ITS2'], 'source': 'Paphiopedilum victoria', 'organism': 'Paphiopedilum victoria', 'taxonomy': ['Eukaryota', 'Viridiplantae', 'Streptophyta', 'Embryophyta', 'Tracheophyta', 'Spermatophyta', 'Magnoliophyta', 'Liliopsida', 'Asparagales', 'Orchidaceae', 'Cypripedioideae', 'Paphiopedilum'], 'references': [Reference(title='Phylogenetics of the slipper orchids (Cypripedioideae: Orchidaceae): nuclear rDNA ITS sequences', ...), Reference(title='Direct Submission', ...)]}\n",
            "Id: Z78477.1\n",
            "Name: Z78477\n",
            "Name: CGTAACAAGGTTTCCGTAGGTGAACCTGCGGAAGGATCATTGTTGAGATCACATGATAATTGATCGAGTTAATCTGGAGGATCAGTTTGCTTTGGTCACCCATGGGCATTTGCTGTTGCAGTGACCTAGATTTGCCATCGAGCCGATCTAAACCCTTGCCCGGCGCAGTTTTGCGCCAAGTCATATGACACATAATTGGAAGGGGCGGCATGCTGCCTTGCCCTCCCCAAATATTTGTTAACCAACTCTCAGCAACGAGTATCTCGGCTCTTGCATCGGATGGAAGGACGCAGCGAAATGCGATAAATGGTGTGAATTGCAAGAATCCCTGAACCATCGAGTCTTTGGAACGCAAGTTGCGGCCGAGGCCATCAGGCCAAGGGCACGCCTGCCTGGGCATTGCGAGACATATCTCTCCCTTAATGAGGCTGTCCACACATACTGTTCAGCCGGTGCGGATGTGAGTTTGGCCCCTTGTTCTTTGGTACGGGGGGTCTAAGAGCTGCATGGGCTTTTGATGGTCCTAAATACGGCAAGAGGTGGACGAACTATGCGACAACAGAACTGTTGTGCGAATGCCCCGGGTTGTCGTATTAGATGGGCCAGCATAATCTAAAGACCCTTTTGAACCCCATTGGAGGCCCATCAACCCATGATCAGTTGACGGCCATTTGGTTGCGACCCCAGGTCAGGTGAGGCAACCGCTGAGTTTATGC\n",
            "Description: P.victoria 5.8S rRNA gene and ITS1 and ITS2 DNA\n",
            "Annotations: {'molecule_type': 'DNA', 'topology': 'linear', 'data_file_division': 'PLN', 'date': '30-NOV-2006', 'accessions': ['Z78477'], 'sequence_version': 1, 'gi': '2765602', 'keywords': ['5.8S ribosomal RNA', '5.8S rRNA gene', 'internal transcribed spacer', 'ITS1', 'ITS2'], 'source': 'Paphiopedilum victoria', 'organism': 'Paphiopedilum victoria', 'taxonomy': ['Eukaryota', 'Viridiplantae', 'Streptophyta', 'Embryophyta', 'Tracheophyta', 'Spermatophyta', 'Magnoliophyta', 'Liliopsida', 'Asparagales', 'Orchidaceae', 'Cypripedioideae', 'Paphiopedilum'], 'references': [Reference(title='Phylogenetics of the slipper orchids (Cypripedioideae: Orchidaceae): nuclear rDNA ITS sequences', ...), Reference(title='Direct Submission', ...)]}\n",
            "Id: Z78476.1\n",
            "Name: Z78476\n",
            "Name: CGTAACAAGGTTTCCGTAGGTGAACCTGCGGAAGGATCATTGTTGAGATCACATGATAATTGATCGAGTTAATCTGGAGGATCAGTTTACTTTGGTCACCCATGGGCATTTGCTGTTGTAGTGACCTAGATTTGCCATCGAGCCGATCTAAACCCTTGCCCGGCGCAGTTTTGCGCCAAGTCATATGACACATAATTGGAAGGGCGGCATGCTGCCTTGGCCCTCCCCAAATTATTTTTTTAACAACTCTCAGCAACGGATATCTCGGCTCTTAGGCCATCCGGCCAAGGGCACGCCTGCCTGGGCATTGCGAGACATATCTCTCCCTTAATGAGGCTGTCCATACATACAGTTCAGCCGGTGCGGATGTGAGTTTGGCCCCTTGTTCTTTGGTACGGGGGGTCTAAGAGCTGCATGGGCTTTTGATCCACCTAAATACGGCAAGAGGTGGACGAACTATGCGACAACAGAACTGTTGCGCGAATGCCCCGGGTTGTCGTATTAGATGGGCCAGCATAATCTAAAGACCCTTTTGAATCCCATTGGAGGCCCATCAACCCATGATCAGTTGACGGCCATTTGGTTGCGACCC\n",
            "Description: P.glaucophyllum 5.8S rRNA gene and ITS1 and ITS2 DNA\n",
            "Annotations: {'molecule_type': 'DNA', 'topology': 'linear', 'data_file_division': 'PLN', 'date': '30-NOV-2006', 'accessions': ['Z78476'], 'sequence_version': 1, 'gi': '2765601', 'keywords': ['5.8S ribosomal RNA', '5.8S rRNA gene', 'internal transcribed spacer', 'ITS1', 'ITS2'], 'source': 'Paphiopedilum glaucophyllum', 'organism': 'Paphiopedilum glaucophyllum', 'taxonomy': ['Eukaryota', 'Viridiplantae', 'Streptophyta', 'Embryophyta', 'Tracheophyta', 'Spermatophyta', 'Magnoliophyta', 'Liliopsida', 'Asparagales', 'Orchidaceae', 'Cypripedioideae', 'Paphiopedilum'], 'references': [Reference(title='Phylogenetics of the slipper orchids (Cypripedioideae: Orchidaceae): nuclear rDNA ITS sequences', ...), Reference(title='Direct Submission', ...)]}\n",
            "Id: Z78475.1\n",
            "Name: Z78475\n",
            "Name: CGTAACAAGGTTTCCGTAGGTGAACCTGCGGAAGGATCATTGTTGAGATCACATAATAATTGATCGAGTTAATCTGGAGGATCAGTTTACTTTGGTCACCCATGGGCATCTGCTCTTGCAGTGACCTGGATTTGCCATCGAGCCTCCTTGGGAGCTTTCTTGCTGGCGATCTAAACCCGTCCCGGCGCAGTTTTGCGCCAAGTCATATGACACATAATTGGAAGGGGGTGGCATGCTGCCTTGACCCTCCCCAAATTATTTTTTTGACAACTCTCAGCAACGGATATCTCGGCTCTTNNNNNNNNNNNNNNNNNNNNNNNNNNNNNNNNNNNNNNNNNNNNNNNNNNNNNNNNNNNNNNNNNNNNNNNNNNNNNNNNNNNNNNNNNNNNNNNNATCAGGCCAAGGGCACGCCTGCCTGGGCATTGCGAGTCATATCTCTCCCTTAATGAGGCTGTCCATACATACTGTTCAGCCAATGCGGATGTGAGTTTGGCCCCTTGTTCTTTGGTACGGGGGGTCTAAGAGCTGCATGGGCTTTTGATGGTCCAAAATACGGCAAGAGGTGGACGAACTATGCTACAACAAAATTGTTGTGCGAATGCCCCGGGTTGTCGTATTAGATGGGCCAGCATAATCTAAAGACCCTTTTGAACCCCATTGGAGGCCCATCAACCCATGATCAGTTGACGGCCATTTGGTTGCGACCCAGGTCAGGT\n",
            "Description: P.supardii 5.8S rRNA gene and ITS1 and ITS2 DNA\n",
            "Annotations: {'molecule_type': 'DNA', 'topology': 'linear', 'data_file_division': 'PLN', 'date': '30-NOV-2006', 'accessions': ['Z78475'], 'sequence_version': 1, 'gi': '2765600', 'keywords': ['5.8S ribosomal RNA', '5.8S rRNA gene', 'internal transcribed spacer', 'ITS1', 'ITS2'], 'source': 'Paphiopedilum supardii', 'organism': 'Paphiopedilum supardii', 'taxonomy': ['Eukaryota', 'Viridiplantae', 'Streptophyta', 'Embryophyta', 'Tracheophyta', 'Spermatophyta', 'Magnoliophyta', 'Liliopsida', 'Asparagales', 'Orchidaceae', 'Cypripedioideae', 'Paphiopedilum'], 'references': [Reference(title='Phylogenetics of the slipper orchids (Cypripedioideae: Orchidaceae): nuclear rDNA ITS sequences', ...), Reference(title='Direct Submission', ...)]}\n",
            "Id: Z78474.1\n",
            "Name: Z78474\n",
            "Name: CGTAACAAGGTTTCCGTAGGTGAACCTGCGGAAGGATCATTGTTGAGATCACGTAATAATTGATCGAGTTAATCTGGAGGATCAGTTTACTTTGGTCACCCATGGGCATCTGCTCTTTCAGTGACCTGGATTTGCCATCGAGCCTCCTTGGGAGCTTTCTTGCTGGCGATCTAAACCCTTGCCCGGCGCAGTTTTGCGCCCAATCATATGACACATAATTGGAAGGGCGGCATCCTGCCTTGACCCTCCCCAAATTATATTTTTGACAACTCTCAGCAACGGATATCTCGCCTCTTGCATCGATGAAGACACAGCGAAATGCGATAAATGGTGTGAATTGCAGAATCCCGTGAACCATCGAGTCTTTGAACGCAAGTTGCGCCCGAGGCCATCAGGCCAAGGGCACGCCTGCCTGGGCATTGCGAGTCATATCTCTCCCTTAATGAGGCTGTCCATACATACTGTTCAGCCGGTGCGGATGTGAGTTTGGCCCCTTGTTCTTTGGTACGGGGGGTCTAAGAGCTGCATGGGCTTTTGATGGTCCAAAATACGGCAAGAGGTGGACGAACTATGCTACAACAAAATTGTTGTGCGAATGCCCCGGGTTGTCGTATTAGATGGGCCAGCATAATCTACAGACCCTTCTGAACCCCATTGGAGGCCCATCAACCCATGATCAGTTGACGGCCATTTGGTTGCGACCCCAGGTCAGGTGAAGCAACCCGTTGAGCTT\n",
            "Description: P.kolopakingii 5.8S rRNA gene and ITS1 and ITS2 DNA\n",
            "Annotations: {'molecule_type': 'DNA', 'topology': 'linear', 'data_file_division': 'PLN', 'date': '30-NOV-2006', 'accessions': ['Z78474'], 'sequence_version': 1, 'gi': '2765599', 'keywords': ['5.8S ribosomal RNA', '5.8S rRNA gene', 'internal transcribed spacer', 'ITS1', 'ITS2'], 'source': 'Paphiopedilum kolopakingii', 'organism': 'Paphiopedilum kolopakingii', 'taxonomy': ['Eukaryota', 'Viridiplantae', 'Streptophyta', 'Embryophyta', 'Tracheophyta', 'Spermatophyta', 'Magnoliophyta', 'Liliopsida', 'Asparagales', 'Orchidaceae', 'Cypripedioideae', 'Paphiopedilum'], 'references': [Reference(title='Phylogenetics of the slipper orchids (Cypripedioideae: Orchidaceae): nuclear rDNA ITS sequences', ...), Reference(title='Direct Submission', ...)]}\n",
            "Id: Z78473.1\n",
            "Name: Z78473\n",
            "Name: CGTAACAAGGTTTCCGTAGGTGAACCTGCGGAAGGATCATTGTTGAGATCACATAATAATTGATCGGGTTAATCTGGAGGATCAGTTTACTTTGGTCACCCATGGGCATCTGCTCTTGTAGTGACCTGGATTTGCCATCGAGCCTCCATGGGAGCTTTCTTGGTGGCGATCTAAACCCTTGCCCGGCGCAGTTTTGCGCCAAGTCATATGACACATAATTGGAAGGGGGCGGCATGCTGCCTTGACCCTCCCCAAATTATTTTGTTAACAACTCTCAGCAACGGATATCTCGGCTCTTCCCGAGGCCATCAGGCCAAGGGCACGCCTGCCTGGGCATTGCGAGTCATATCTCTCCCTTCAATGAGGCTGTCCATACATACTGTTCAGTCGGTGCGGATGTGAGTTTGGCCCCTTGTTCTTGCCTACGGGGGGTCTAAGAGCTGCATGGGCTTTTGATGGTACCTAAATACGGCAAGAGGTGGACGAACTATGCTACAACAAAATTGTTGTGCGAATGCCCCGGGTTGTCGTATTAGATGGGCCAGCATAATCTAAAGACCCTTTTGAACCCCATTGGAGGCCCATCAACCCATGATCAGTTGACGGCCATTTGGTTGCGACCCAGG\n",
            "Description: P.sanderianum 5.8S rRNA gene and ITS1 and ITS2 DNA\n",
            "Annotations: {'molecule_type': 'DNA', 'topology': 'linear', 'data_file_division': 'PLN', 'date': '30-NOV-2006', 'accessions': ['Z78473'], 'sequence_version': 1, 'gi': '2765598', 'keywords': ['5.8S ribosomal RNA', '5.8S rRNA gene', 'internal transcribed spacer', 'ITS1', 'ITS2'], 'source': 'Paphiopedilum sanderianum', 'organism': 'Paphiopedilum sanderianum', 'taxonomy': ['Eukaryota', 'Viridiplantae', 'Streptophyta', 'Embryophyta', 'Tracheophyta', 'Spermatophyta', 'Magnoliophyta', 'Liliopsida', 'Asparagales', 'Orchidaceae', 'Cypripedioideae', 'Paphiopedilum'], 'references': [Reference(title='Phylogenetics of the slipper orchids (Cypripedioideae: Orchidaceae): nuclear rDNA ITS sequences', ...), Reference(title='Direct Submission', ...)]}\n",
            "Id: Z78472.1\n",
            "Name: Z78472\n",
            "Name: CGTAACAAGGTTTCCGTAGGTGAACCTGCGGAAGGATCATTGTTGAGATCACATAATAATTGATCGAGTTAATCTGGAGGATCAGTTTACTTTAGTCACCCATGGGCATCTGCTCTTGCAGTGACCTGGATTTGCCATCGAGCCTCCTTGGGAGCTTTCTTGCTGGCGATCTAAATCGTTGCCCGGCGCAGTCTTGCGCCAAGTCATTTCACACATAATTGGAAGGGGGCGGCATGCAGTCTAAGACCCTCCCCAAATTATTTTTTGATAACTCTCAGCAACGGAATCTCGGCTCTTGCATCGATGGAGGACGCAGCGAAATGCGATAAATGGTGTGAATTGCAGAATCCCGTGAACCATCGAGTCTTTGAACGCAAGTTGCGCCCGAGGCCATCAGGCCAAGGGCACGCCTGCCTGGGCATTGCGAGTCATATCTCTCCTTTAATGAGGCTGTCTATACATACTGTTCAGCCACAGCGGATGTGAGTTTGGCCCCTTGTTCTTTGGTACGGGGGGTCTAAGAGCTGCATGGGCTTTTGATGGTCTTAAATACGGCAAGAGGTGGACGAAGTATGCTACAACAAAATTGTAGTTCGAATGCCCAGGGTTGTCGTATTAGATGGGCCAGCATAATCTAAAGACCCTTTGAACCCCTTTAGAGGCCAATCAACCCATGATCAGTTGATGGCCATTTGGTTGCGACCCCAAGTCAGGTGAGGCAACCGCTGAGTTTAAGC\n",
            "Description: P.lowii 5.8S rRNA gene and ITS1 and ITS2 DNA\n",
            "Annotations: {'molecule_type': 'DNA', 'topology': 'linear', 'data_file_division': 'PLN', 'date': '30-NOV-2006', 'accessions': ['Z78472'], 'sequence_version': 1, 'gi': '2765597', 'keywords': ['5.8S ribosomal RNA', '5.8S rRNA gene', 'internal transcribed spacer', 'ITS1', 'ITS2'], 'source': 'Paphiopedilum lowii', 'organism': 'Paphiopedilum lowii', 'taxonomy': ['Eukaryota', 'Viridiplantae', 'Streptophyta', 'Embryophyta', 'Tracheophyta', 'Spermatophyta', 'Magnoliophyta', 'Liliopsida', 'Asparagales', 'Orchidaceae', 'Cypripedioideae', 'Paphiopedilum'], 'references': [Reference(title='Phylogenetics of the slipper orchids (Cypripedioideae: Orchidaceae): nuclear rDNA ITS sequences', ...), Reference(title='Direct Submission', ...)]}\n",
            "Id: Z78471.1\n",
            "Name: Z78471\n",
            "Name: CGTAACAAGGTTTCCGTAGGTGAACCTGCGGAAGGATCATTGTTGAGATCACATAATAATTGATCGAGTTAATCTAGAGGATCGGTTTACTTTGGTCACCCATGGGCATCTGCTCTTACAGTGACCTGGATTTGCCATCGAGCCTCCTTGGGAGCTGTCTTGCTGGCGATCTAAATCGTTGCCCGACGCAGCCTTGCGTCAAGTCACCCCGACACATAATGGAAGGGGGCGGCATGCTGCCTTGACCCTTCCCCAAATTAATTTTTTGACAACTCTCAACATCGGATATCTCGGCTCTTGCATCGATGAAGAACGCAGCGAAATGCGATAAATGGTGTGAATTGCAGAATCCCGTGAACCATCGAGTCTTTGAACGCAAGTTGCGCCCGAGGCCATCAGGCCAAGGGCACGCCTGCTTGGGCATTGCGAGTCATATCTCTCCCTTAATGAGGCTGTCCATACATACTGTTCAGCCAGTGCGGATGTGAGTTTGGCCCCTTGTTCTTTAGTACGGGGGGTCTAAAAGCTGCATGGGCTTTTGCTGGTCCTAAATACGGCAAGAGGTGGACAAAGTATGCTACAACAAAATTGTAGTGCGAATGCCCCGGGTTGTCGTATTAGATGGGCCAGCATAATTTAAAGACCCTTTTGAACCCCATTAGAGGCCCATCAACCCTGATCAGTTGATGGCCATTTGGTTGCGACCCCAAGTCAGGTGAGGCAACCCGCTGAGTTTAAGC\n",
            "Description: P.dianthum 5.8S rRNA gene and ITS1 and ITS2 DNA\n",
            "Annotations: {'molecule_type': 'DNA', 'topology': 'linear', 'data_file_division': 'PLN', 'date': '30-NOV-2006', 'accessions': ['Z78471'], 'sequence_version': 1, 'gi': '2765596', 'keywords': ['5.8S ribosomal RNA', '5.8S rRNA gene', 'internal transcribed spacer', 'ITS1', 'ITS2'], 'source': 'Paphiopedilum dianthum', 'organism': 'Paphiopedilum dianthum', 'taxonomy': ['Eukaryota', 'Viridiplantae', 'Streptophyta', 'Embryophyta', 'Tracheophyta', 'Spermatophyta', 'Magnoliophyta', 'Liliopsida', 'Asparagales', 'Orchidaceae', 'Cypripedioideae', 'Paphiopedilum'], 'references': [Reference(title='Phylogenetics of the slipper orchids (Cypripedioideae: Orchidaceae): nuclear rDNA ITS sequences', ...), Reference(title='Direct Submission', ...)]}\n",
            "Id: Z78470.1\n",
            "Name: Z78470\n",
            "Name: CGTAACAAGGTTTCCGTAGGTGAACCTGCGGAAGGATCATTGTTGAGATCACATAATAATTGATCGAGTTAATCTAGAGGATCAGTTTACTTTGGTCACCCATGGGCATCTGCTCTTACAGTGACCTGGATTTGCCATCGAGCCTCCTTGGGAGCTTTCTTGCTGGCGATCTAAATCGTTGCCCGACGCAGCCTTGCGTCAAGTCATATGACACATAATTGGAAGGGGGCGGCATGCTGCCTTGACCCTTCCCAAATTATTTTTTTAAGTTGCGCCCGAGGCCATCAGGCCAAGGGCACGCCTGCTTGGGCATTGCGAGTCATATCTCTCCCTTAATGAGGCTGTCCATACATACTGTTCAGCCAGTGCGGATGTGAGTTTGGCCCCTTGTTCTTTACTACGGGGGGTCTAAAAGCTGCATGGGCTTTTGCTGGTCCTAAATACGGCAAGAGGTGGACAAAGTATGCTACAACAAAATTGTAGTGCGAATGCCCCGGGTTGTCGTATTAGATGGGCCAGCATAATTTAAAGACCCTTTTGAACCCCATTAGAGGCCCATCAACCCTGATCAGTT\n",
            "Description: P.parishii 5.8S rRNA gene and ITS1 and ITS2 DNA\n",
            "Annotations: {'molecule_type': 'DNA', 'topology': 'linear', 'data_file_division': 'PLN', 'date': '30-NOV-2006', 'accessions': ['Z78470'], 'sequence_version': 1, 'gi': '2765595', 'keywords': ['5.8S ribosomal RNA', '5.8S rRNA gene', 'internal transcribed spacer', 'ITS1', 'ITS2'], 'source': 'Paphiopedilum parishii', 'organism': 'Paphiopedilum parishii', 'taxonomy': ['Eukaryota', 'Viridiplantae', 'Streptophyta', 'Embryophyta', 'Tracheophyta', 'Spermatophyta', 'Magnoliophyta', 'Liliopsida', 'Asparagales', 'Orchidaceae', 'Cypripedioideae', 'Paphiopedilum'], 'references': [Reference(title='Phylogenetics of the slipper orchids (Cypripedioideae: Orchidaceae): nuclear rDNA ITS sequences', ...), Reference(title='Direct Submission', ...)]}\n",
            "Id: Z78469.1\n",
            "Name: Z78469\n",
            "Name: CGTAACAAGGTTTCCGTAGGTGAACCTGCGGAAGGATCATTGTTGAGATCACATAATAATTGATCGAGTTAATCTGGAGGATCAGTTTACTTTAGTCACCCATGGGCATCTGCTCTTGCAGTGACCTGGATTTGCCATCGAGCCTCCTTGGGAGCTTTCTTGCTGGCGATCTAAATTCGTTGCCCGGCGCAGTCTTGCGCCAAGTCATATCACACATAATTGGAAGGGGGCGGCATGCGGTCTAGACCCTCCCCAAATTATTTTTTTGACAACTCTCAGCAACGGATATCTCGGCTCTTCCATCAGGCCAAGGGCACGCCTGCCTGGGCATTGCGAGTCATATCTCTCCCTTAATGAGGCTGTCCATACATACTGTTCAGCCACAGCGGATGTGAGTTTGGCCCCTTGTTCTTTGGTACGGGGGGTCTAAGAGCTGCATGGGCTTTTGATGGTACCTAAATACGGCAAGAGGTGGACGAAGTATGCTACAACAAAATGATAGTGCGAATGCCCAGGGTTGTCGTATTAGATGGGCCAGCATAATCTAAAGACCCTTTTGAACCCCATTAGAGGCCCATCAACCCATGATCAGTT\n",
            "Description: P.haynaldianum 5.8S rRNA gene and ITS1 and ITS2 DNA\n",
            "Annotations: {'molecule_type': 'DNA', 'topology': 'linear', 'data_file_division': 'PLN', 'date': '30-NOV-2006', 'accessions': ['Z78469'], 'sequence_version': 1, 'gi': '2765594', 'keywords': ['5.8S ribosomal RNA', '5.8S rRNA gene', 'internal transcribed spacer', 'ITS1', 'ITS2'], 'source': 'Paphiopedilum haynaldianum', 'organism': 'Paphiopedilum haynaldianum', 'taxonomy': ['Eukaryota', 'Viridiplantae', 'Streptophyta', 'Embryophyta', 'Tracheophyta', 'Spermatophyta', 'Magnoliophyta', 'Liliopsida', 'Asparagales', 'Orchidaceae', 'Cypripedioideae', 'Paphiopedilum'], 'references': [Reference(title='Phylogenetics of the slipper orchids (Cypripedioideae: Orchidaceae): nuclear rDNA ITS sequences', ...), Reference(title='Direct Submission', ...)]}\n",
            "Id: Z78468.1\n",
            "Name: Z78468\n",
            "Name: CGTAACAAGGTTTCCGTAGGTGAACCTGCGGAAGGATCATTGTTGAGATCGCATAATAATTGATTGAGTTAATCTGGAGGATCAGTTTACTTTGGTCACTCATGGGAATCTGCTCTTGTAGTGACCTGGATTTGCCATCGAGCCTCCTTGGGAGCTTTCTTGATGGCGATCTGAACCCTTGCCCGGCGCAGTTTTGCGCCAAGTCATATGACACATAATTGGGAGGGGCAGCATGCTGCCTTGACCCTCCCCATATCATTTTTTTAACGACTCTCAGCTCCGGAACTCAAGTTGCGCCCGAGGCCATCAGGCTAAGGGCACGCCTGCCTGGGCATTGCGAGTCATATCTCTCCCTTAATGAGGCTGTCCATACATACTGTTCAGCCAGTGCGGATGTGAGTTTGGCCCCTTGTTCTTCGGTACGGGGGGTCTAAGAGCAGCTGGGCTTTTGATGGACCTAAATACGGCAAGAGGTGGACGAAGTATGCTACAACAAAATTATTGTGTGAATGCCCCGGGTTGTCGTATAGATGGGCCAGCATAATCTAAAGACCCTTTTGAACCCCATTGGAGGCCCATCAACCCATGATCAGTTGACGGCCATTTGGTT\n",
            "Description: P.adductum 5.8S rRNA gene and ITS1 and ITS2 DNA\n",
            "Annotations: {'molecule_type': 'DNA', 'topology': 'linear', 'data_file_division': 'PLN', 'date': '30-NOV-2006', 'accessions': ['Z78468'], 'sequence_version': 1, 'gi': '2765593', 'keywords': ['5.8S ribosomal RNA', '5.8S rRNA gene', 'internal transcribed spacer', 'ITS1', 'ITS2'], 'source': 'Paphiopedilum adductum', 'organism': 'Paphiopedilum adductum', 'taxonomy': ['Eukaryota', 'Viridiplantae', 'Streptophyta', 'Embryophyta', 'Tracheophyta', 'Spermatophyta', 'Magnoliophyta', 'Liliopsida', 'Asparagales', 'Orchidaceae', 'Cypripedioideae', 'Paphiopedilum'], 'references': [Reference(title='Phylogenetics of the slipper orchids (Cypripedioideae: Orchidaceae): nuclear rDNA ITS sequences', ...), Reference(title='Direct Submission', ...)]}\n",
            "Id: Z78467.1\n",
            "Name: Z78467\n",
            "Name: CGTAACAAGGTTTCCGTAGGTGAACCTGCGGAAGGATCATTGTTGAGATCACATAATAATTGATCGAGTTAATCTGGAGGATCAGTTTACTTTGGTCACCCATGGGCATCTGCTCTTGCAGTGACCTGGATTTGCCATCGAGCCTCCTTGGGAGCTTTCTTGCTGGCGATCTAAACCCTTGCCCGGCGCAGTTTTGCGCCAAGTCATATGACACATAATTGGAAGGGGGTGGCATGCTGCCTTGACCCTCCCCAAATTATTTTTTGACAACTCTCAGCAACGGATATCTCGGCTCTTGCATCGATGAAGAACGCAGCGAAATGCGATAAATGGTGTGAATTGCAGAATCCCGTGAACCATCGAGTCTTTGAACGCAAGTTGCGCCCGAGGCCATCAGGCCAAGGGTACGCCTGCCTGGGCATTGCGAGTCATATCTCTCCCTTAATGAGGCTGTCCATACATACTGTTCAGCCGGTGCGGATGTGAGTTTGGCCCCTTGTTCTTTGGTACGGGGGGTCTAAGAGCTGCATGTGCCTTTGGTGGTCCAAAATACGGCAAGAGGTGGACGAACTATGCTACAACAAAATTGTTGTGCGAATGACCCGGGTTGTCGTATTAGCTGGGCCAGCATAATCTAAAGACCCTCTTGAACCCCATTGGAGGCCCATCAACCCATGATCAGTTGACGGCCATATGTTTGCGACCCAGGTCAGGTGAGGCAACCCGCTGA\n",
            "Description: P.stonei 5.8S rRNA gene and ITS1 and ITS2 DNA\n",
            "Annotations: {'molecule_type': 'DNA', 'topology': 'linear', 'data_file_division': 'PLN', 'date': '30-NOV-2006', 'accessions': ['Z78467'], 'sequence_version': 1, 'gi': '2765592', 'keywords': ['5.8S ribosomal RNA', '5.8S rRNA gene', 'internal transcribed spacer', 'ITS1', 'ITS2'], 'source': 'Paphiopedilum stonei', 'organism': 'Paphiopedilum stonei', 'taxonomy': ['Eukaryota', 'Viridiplantae', 'Streptophyta', 'Embryophyta', 'Tracheophyta', 'Spermatophyta', 'Magnoliophyta', 'Liliopsida', 'Asparagales', 'Orchidaceae', 'Cypripedioideae', 'Paphiopedilum'], 'references': [Reference(title='Phylogenetics of the slipper orchids (Cypripedioideae: Orchidaceae): nuclear rDNA ITS sequences', ...), Reference(title='Direct Submission', ...)]}\n",
            "Id: Z78466.1\n",
            "Name: Z78466\n",
            "Name: CGTAACAAGGTTTCCGTAGGTGAACCTGCGGAAGGATCATTGTTGAGATCACATAATAATTGATCGAGTTAATCTGGAGGATCAGTTTACTTTGGTCACCCATGGGCATCTGCTCTTGTAGTGACCTGGATTTGCCATCGAGCCTTCATGGGAGCTTTCTTGCTGGCGATCTAAACCCTTGCCCGGCGCAGTTTTGCGCCAAGTCATATGACACATAATTGGAAGGGGGCGGCATGCTGCCTTGACCCTCCCCAAATTATTTTTGTAACAACTCTCAGCAACGGATATCTCGGCTCTTTGCCGAGGCCATCAGGCCAAGGGCACGCCTGCCTGGGCATTGCGAGTCATATCTCTCCCTTAATGAGGCTGTCCATACATACAGTTCAGCCTGTGCGGATGTGAGTTTGGCCCCTTGTTCTTGCGTACGGGGGGTCTAAGAGCTGCATGGGCTTTTGATGGTCCTAAATACGGCAAGAGGTGGACGAACTATGCTACAACAAAATTGTTGTGCGAATGCCCCGGGTTGTCGTATTAGATGGGCCAGCATAATCTAAAGACCCTTTTGAACCCCATTGGAGGCCCATCAACCCATGATCAGTTGACGGCCATTTGGTTGCGACCCAGGTCAGGTGAGGCAACCC\n",
            "Description: P.philippinense 5.8S rRNA gene and ITS1 and ITS2 DNA\n",
            "Annotations: {'molecule_type': 'DNA', 'topology': 'linear', 'data_file_division': 'PLN', 'date': '30-NOV-2006', 'accessions': ['Z78466'], 'sequence_version': 1, 'gi': '2765591', 'keywords': ['5.8S ribosomal RNA', '5.8S rRNA gene', 'internal transcribed spacer', 'ITS1', 'ITS2'], 'source': 'Paphiopedilum philippinense', 'organism': 'Paphiopedilum philippinense', 'taxonomy': ['Eukaryota', 'Viridiplantae', 'Streptophyta', 'Embryophyta', 'Tracheophyta', 'Spermatophyta', 'Magnoliophyta', 'Liliopsida', 'Asparagales', 'Orchidaceae', 'Cypripedioideae', 'Paphiopedilum'], 'references': [Reference(title='Phylogenetics of the slipper orchids (Cypripedioideae: Orchidaceae): nuclear rDNA ITS sequences', ...), Reference(title='Direct Submission', ...)]}\n",
            "Id: Z78465.1\n",
            "Name: Z78465\n",
            "Name: CGTAACAAGGTTTCCGTAGGTGAACCTGCGGAAGGATCATTGTTGAGATCACATAATAATTGATCGAGTTAATCTGGAGGATCAGTTTACTTTGGTCACCCATGGGCATCTGCTCTTGCAGTGACCTGGATTTGCCATCGAGCCTCCTTGGGAGCTTTCTTGCTGGCGATCTAAACCCTTGCCCGGCGCAGTTTTGCGCCAAGTCATATGACACATAATTGGAAGGGGGCGGCATGCTGCCTTGACCCTCCCCAAATTATTTTTTTGACAACTCTCAGCAACGGATTTCTCGGTTCTTGAATCGATGAGGAACGCAGCGAAATGCGATAATTGGTGTGAATTGAAGAATCCCGTAAACCATCGAGTCTTTGAACGAAAGTTGCGCCCGAGGCCATCAGGCCAAGGGAACGCCTGCCTGGGCATTGCGAGTCATATCTCTCCCTTAATGAGGCTGTCCATACATACTGTTCAGCGAGTGCGGATGTGAGTTTGGCCCCTTGTTCTTTGGTACGGGGGGTCTAAGAGCTGCATGGGCTTTTGATGGTCCTAAATACGGCAAGAGGTGGACGAACTATGCTACAACAAAATTGTTGTGCGAATGCCCCGGGTTGTCGTATTAGATGGGCCAGCATAATCTAAAGACCCTTTTGAACCCCATTGGAGGCCCATCAACCCATGATCAGTTGACGGCCATTTGGTTGC\n",
            "Description: P.rothschildianum 5.8S rRNA gene and ITS1 and ITS2 DNA\n",
            "Annotations: {'molecule_type': 'DNA', 'topology': 'linear', 'data_file_division': 'PLN', 'date': '30-NOV-2006', 'accessions': ['Z78465'], 'sequence_version': 1, 'gi': '2765590', 'keywords': ['5.8S ribosomal RNA', '5.8S rRNA gene', 'internal transcribed spacer', 'ITS1', 'ITS2'], 'source': 'Paphiopedilum rothschildianum', 'organism': 'Paphiopedilum rothschildianum', 'taxonomy': ['Eukaryota', 'Viridiplantae', 'Streptophyta', 'Embryophyta', 'Tracheophyta', 'Spermatophyta', 'Magnoliophyta', 'Liliopsida', 'Asparagales', 'Orchidaceae', 'Cypripedioideae', 'Paphiopedilum'], 'references': [Reference(title='Phylogenetics of the slipper orchids (Cypripedioideae: Orchidaceae): nuclear rDNA ITS sequences', ...), Reference(title='Direct Submission', ...)]}\n",
            "Id: Z78464.1\n",
            "Name: Z78464\n",
            "Name: CGTAACAAGGTTTCCGTAGGTGAGCGGAAGGGTCATTGTTGAGATCACATAATAATTGATCGGTTGAGTCTGGAGGATCAGTTTACTTTGGTCACCCATGGGCATCTGCTCTTGTAGTGACCTGGATTGCCATCGAGCCTCCTTGGGAGCTTTCTTGCTGGAGATCTAAACCCTTGCCCGGAGCAGTTTTGCGCCAAGTCATATGACACATAATTGGAAGGGGGCGGCATGCTGCCTTGACCCTCCCCAAATTATTTTCTTAACAACTCTCAGCAACGGATATCTCGGCTCTTGCATCGATGAAGAACGCAGCGAAATCCGATAAATGGTGTGAATTTCAGAATCCCGTGAACCATCGAGTCTTTGAACGCCAAGTTCGCCCGAGGCCATCAGGCCAAGGGCACGCCTGCCTGGGCATTTCGAATCAAATCTCTCCCTTAATGAGGCTGTCCAAACATACTGTTCAACCGGTTCGGATGTGAGTTTGGCCCCTTTTTCTTTGGGGCGGGGGGTCTAAGAACTTCATGGGCTTTTGGTGGTCCTAAAAACGGCAAGAGGTGGGCGGACTATTCTTCAACCAAATTTCTGTTCGGATTCCCCGGGCTTTCGTAATAGATGGGCCAGCATAATCTAAAGACCCTTTTGAACCCCATTGGAGGCCCATCAACCCATGATCAGTTGACGGCCATTTGGTGCGACCCCAGGTCAGGTGAGCAACCCGCTGAGTTTAAGC\n",
            "Description: P.glanduliferum 5.8S rRNA gene and ITS1 and ITS2 DNA\n",
            "Annotations: {'molecule_type': 'DNA', 'topology': 'linear', 'data_file_division': 'PLN', 'date': '30-NOV-2006', 'accessions': ['Z78464'], 'sequence_version': 1, 'gi': '2765589', 'keywords': ['5.8S ribosomal RNA', '5.8S rRNA gene', 'internal transcribed spacer', 'ITS1', 'ITS2'], 'source': 'Paphiopedilum glanduliferum', 'organism': 'Paphiopedilum glanduliferum', 'taxonomy': ['Eukaryota', 'Viridiplantae', 'Streptophyta', 'Embryophyta', 'Tracheophyta', 'Spermatophyta', 'Magnoliophyta', 'Liliopsida', 'Asparagales', 'Orchidaceae', 'Cypripedioideae', 'Paphiopedilum'], 'references': [Reference(title='Phylogenetics of the slipper orchids (Cypripedioideae: Orchidaceae): nuclear rDNA ITS sequences', ...), Reference(title='Direct Submission', ...)]}\n",
            "Id: Z78463.1\n",
            "Name: Z78463\n",
            "Name: CGTAACAAGGTTTCCGTAGGTGAACCTGCGGAAGGTTCATTGTTGAGATCACATAATCATTGTTCGGTTGAGTCTGGAGGATCAGTTTACTTTGGTCACCATGGGCATCTGCTCTTGTAGTGACCTGGATTGCCATCGAGCCTCCTTGGGAGCTTTCTTGCTGGGGATCTAAACCCTCGCCCGGGGGAGTTTTGCGCCAAGTCATATGACACATAATTGGGAGGGGGCGGCATGTTGCCTTGACCCTCCCCAAATTATTTTCTTAACAACTCTCAGCAACGGATATCTCGGCTCTTGCATCGATGGAAGAACGCAGCGAAATGCGATAAATGGTGTGAATTGCAGAATCCCGTGAACCATCGAGTCTTTGAACGCAAGTTGCGCCCGAGGCCATCAGGCCAAGGGCACGCCTGCCTGGGCATTGCGAGTCATATCTCTCCCTTAATGAGGCTGTCCATACATACTGTTCAACCGGTGCGGATGTGAGTTTGGCCCCTTTTTCTTTGGGGCGGGGGGTCTAAGAGCTGCATGGGCTTTTGATGGTCCTAAATACGGCAAGAGGTGGACGAACTATGCTGCAACAAAATTGCTGTGCGAATACCCCGGGTTGTCGTATTAGATGGGCCAGCATAATCTAAAGACCCTTTTGAACCCCATTGGAGGCCCATCAACCCATGATCAGTTGACGGCCATTTGGTTGCGACCCCAGATCAGGTGAGCAACCCGCTGAGTTTAAGC\n",
            "Description: P.glanduliferum 5.8S rRNA gene and ITS1 and ITS2 DNA\n",
            "Annotations: {'molecule_type': 'DNA', 'topology': 'linear', 'data_file_division': 'PLN', 'date': '30-NOV-2006', 'accessions': ['Z78463'], 'sequence_version': 1, 'gi': '2765588', 'keywords': ['5.8S ribosomal RNA', '5.8S rRNA gene', 'internal transcribed spacer', 'ITS1', 'ITS2'], 'source': 'Paphiopedilum glanduliferum', 'organism': 'Paphiopedilum glanduliferum', 'taxonomy': ['Eukaryota', 'Viridiplantae', 'Streptophyta', 'Embryophyta', 'Tracheophyta', 'Spermatophyta', 'Magnoliophyta', 'Liliopsida', 'Asparagales', 'Orchidaceae', 'Cypripedioideae', 'Paphiopedilum'], 'references': [Reference(title='Phylogenetics of the slipper orchids (Cypripedioideae: Orchidaceae): nuclear rDNA ITS sequences', ...), Reference(title='Direct Submission', ...)]}\n",
            "Id: Z78462.1\n",
            "Name: Z78462\n",
            "Name: CGTCACGAGGTCTCCGGATGTGACCCTGCGGAAGGATCATTGTTGAGATCACATAATAATTGATCGAGTTAATCTGCAGGATCTGTTTACTTTGGTCACCCATGGGCATTTGCTGTTGAAGTGACCTAGATTTGCCATCGAGCCTCCTTGGGAGATTTCTTGTTGGCGAGATCTAAACCCTTGCCCGGCGCAGTTTTGCGCCAAGTCATANNNNNNNNNNNNNNNNNNNNNNNNNNNNNNNNNNNNNNNNNNNNNNNNNNNNNNNNNNNNNNNNNNNNNNNNNNNNNNNNNNNNNNNNNNNNNNNNNNNNNNNNNNNNNNNNNNNNNNNNNNNNNNNNNNNNNNNNNNNNNNNNNNNNNNNNNNNNNNNNNNNNNNNNNNNNNNNNNNNNNNNNNNNNNNNNNNNNNNNNNNNNNNNNNNNNNNNNNNNNNNNNNNNNNNNNNNNNNNNNNNNNNNNNNNNNNNNNNNNNNNNNNCGCCTGCCTGGGCATTGCGAGTCATATCTCTCCCTTAACGAGGCTGTCCATACATACTGTTCAGCCGGTGCGGATGTGAGTTTGGCCCCTTGTTCTTTGGTACGGGGGGTCTAAGAGCTGCATGGGCTTTTGATGGTCCTAAATACGGCAAGAGGTGGACGAACTATGCTACAACAAAATTGTTGTGCAAAGGCCCCGGGTTGTCGTATTAGATGGGCCACCGTAATCTGAAGACCCTTTTGAACCCCATTGGAGGCCCAT\n",
            "Description: P.sukhakulii 5.8S rRNA gene and ITS1 and ITS2 DNA\n",
            "Annotations: {'molecule_type': 'DNA', 'topology': 'linear', 'data_file_division': 'PLN', 'date': '30-NOV-2006', 'accessions': ['Z78462'], 'sequence_version': 1, 'gi': '2765587', 'keywords': ['5.8S ribosomal RNA', '5.8S rRNA gene', 'internal transcribed spacer', 'ITS1', 'ITS2'], 'source': 'Paphiopedilum sukhakulii', 'organism': 'Paphiopedilum sukhakulii', 'taxonomy': ['Eukaryota', 'Viridiplantae', 'Streptophyta', 'Embryophyta', 'Tracheophyta', 'Spermatophyta', 'Magnoliophyta', 'Liliopsida', 'Asparagales', 'Orchidaceae', 'Cypripedioideae', 'Paphiopedilum'], 'references': [Reference(title='Phylogenetics of the slipper orchids (Cypripedioideae: Orchidaceae): nuclear rDNA ITS sequences', ...), Reference(title='Direct Submission', ...)]}\n",
            "Id: Z78461.1\n",
            "Name: Z78461\n",
            "Name: CGTAACAAGGTTTCCGTAGGTGAACCTCCGGAAGGATCATTGTTGAGATCACATAATAATTGATCGAGGTAATCTGGAGGATCTGTTTACTTTGGTCACCCATGGGCAGTTGCTGCTGGAGTGACCTAGAATTTCCATCGAGCCTCCTTGGGAGCTTTCTTGTTGGCGAGATCTAAACCCTTACCCGGCGCAATTTTTCCCCCAGTCAAATGACACATAATTGGTGGAGGGGGTGGCATTCTTCCCTGACCCTCCCCCAAATAATTTTTTCACAACTCTCAGCAACGGATATCTCGGCTCTTGCATCGATGAAGAACGCACCGAAATCCGATAAATGGTGTGAATTCCAGAATCCCGTGAACCATCGAGTCTTTGAACCCAAGTTGCGCCCGAGGCCATCAGGCCAAGGGAACGCCTGCCTGGGCATTGCGAGTCATATCTCTCCCTTAACGAGCCTGTCCATACATCCTGTTCAGCCGGTGCGGATGTGAGTTTGCCCCCTTGTTCTTTGGTACGGGGGGTCTAAGACCTGCATGGGCTTTTGATGGTCCTAAATACGGCAAGAGGTGGACGAACTATGCTACACCAAAATTGTTGTCCAAAGCCCCCGGGTTGTCGTATAAGATGGGCCACCGTAATCTGAAGACCCTTTGAACCCCATTGGAGCCCATCAACCCATGATCAGTTGATGCCATTGTTGCGACCCAGTCAGTGAGCAAGCCGCTGAGTTAA\n",
            "Description: P.wardii 5.8S rRNA gene and ITS1 and ITS2 DNA\n",
            "Annotations: {'molecule_type': 'DNA', 'topology': 'linear', 'data_file_division': 'PLN', 'date': '30-NOV-2006', 'accessions': ['Z78461'], 'sequence_version': 1, 'gi': '2765586', 'keywords': ['5.8S ribosomal RNA', '5.8S rRNA gene', 'internal transcribed spacer', 'ITS1', 'ITS2'], 'source': 'Paphiopedilum wardii', 'organism': 'Paphiopedilum wardii', 'taxonomy': ['Eukaryota', 'Viridiplantae', 'Streptophyta', 'Embryophyta', 'Tracheophyta', 'Spermatophyta', 'Magnoliophyta', 'Liliopsida', 'Asparagales', 'Orchidaceae', 'Cypripedioideae', 'Paphiopedilum'], 'references': [Reference(title='Phylogenetics of the slipper orchids (Cypripedioideae: Orchidaceae): nuclear rDNA ITS sequences', ...), Reference(title='Direct Submission', ...)]}\n",
            "Id: Z78460.1\n",
            "Name: Z78460\n",
            "Name: CGTAACAAGGTTTCCGTAGGTGAACCTCCGGAAGGATCATTGTTGAGATCACATAATAATTGATCGAGTTAATCTGGAGGATCTGTTTACTTTGGTCACCCATGAGCATTTGCTGTTGAAGTGACCTAGATTTGCCATCGAGCCTCCTTGGGAGCTTTCTTGTTGGCGAGATCTAAACCCTTGCCCGGCGCAGTTTTGCGCCAAGTCATATGACACATAATTGGTGAAGGGGGTGGCATCCTGCCCTGACCCTCCCCAAATTATTTTTTTAACAACTCTCAGCAACGGGATATCTCGGCTCTTGCATCGGATGGAGGAACGCAGCGAAATGCGATAAATGGTGTGAATTGCAGAATCCCGTGAACCATCGAGTCTTTGAACGCAAGTTGCGCCCGAGGCCATCAGGCCAAGGGCACGCCTGCCTGGGCATTGCGAGTCATATCTCTCCCTTAACGAGGCTGTCCATACATACTGTTCAGCCGGTGCGGATGTGAGTTTGGCCCCTTGTTCTTTGGTACGGGGGGTCTAAGAGCTGCATGGGCTTTTGATGGTCCCAAATACGGCAAGAGGTGGACGAACTATGCTACAACAAAATTGTTGTGCAAAGGCCCCGGGTTGTCGTATTAGATGGGCCACCGTAATCTGAAGACCCTTTTGAACCCCATTGGAGGCCCATCAACCCATGATCAGTTGATGGCCATTTGGGTTGCGACCCCAGGTCAGGTGAGGCAACCCGCTGAGTTTA\n",
            "Description: P.ciliolare 5.8S rRNA gene and ITS1 and ITS2 DNA\n",
            "Annotations: {'molecule_type': 'DNA', 'topology': 'linear', 'data_file_division': 'PLN', 'date': '30-NOV-2006', 'accessions': ['Z78460'], 'sequence_version': 1, 'gi': '2765585', 'keywords': ['5.8S ribosomal RNA', '5.8S rRNA gene', 'internal transcribed spacer', 'ITS1', 'ITS2'], 'source': 'Paphiopedilum ciliolare', 'organism': 'Paphiopedilum ciliolare', 'taxonomy': ['Eukaryota', 'Viridiplantae', 'Streptophyta', 'Embryophyta', 'Tracheophyta', 'Spermatophyta', 'Magnoliophyta', 'Liliopsida', 'Asparagales', 'Orchidaceae', 'Cypripedioideae', 'Paphiopedilum'], 'references': [Reference(title='Phylogenetics of the slipper orchids (Cypripedioideae: Orchidaceae): nuclear rDNA ITS sequences', ...), Reference(title='Direct Submission', ...)]}\n",
            "Id: Z78459.1\n",
            "Name: Z78459\n",
            "Name: CGTAACAAGGTTTCCGTAGGTGAACCTGCGGAAGGATCATTGTTGAGATCACATAATAATTGATCGAGTTAATCTGGAGGATCTGTTTACTTTGGTCACCCATGAGCATTTGCTGTTGAAGTGACCTAGATTTGCCATCGAGCCTCCTTGGGAGCTTTCTTGTTGGCGAGATCTAAACCCTTGCCCGGCGCAGTTTTGCGCCAAGTCATATGACACATAATTGGTGAAGGGGGTGGCATCCTGCCCTGACCCTCCCCAAATTATTTTTTTAACAACTCTCAGCAACGGATATCTCGGCTCTTGCATCGGATGGAGGAACGCAGCGAAATTGCGATAAATTGGTGTGAATTGCAGAATCCCGTGAACCATCGAGTCTTTGAACGCAAGTTGCGCCCGAGGCCATCAGGCCAAGGGCACGCCTGCCTGGGCATTGCGAGTCATATCTCTCCCTTAACGAGGCTGTCCATACATACTGTTCAGCCGGTGCGGATGTGAGTTTGGCCCCTTGTTCTTTGGTACGGGGGGTCTAAGAGCTGCATGGGCTTTTGATGGTCCTAAATACGGCAAGAGGTGGACGAACTATGCTACAACAAAATTGTTGTGCAAAGGCCCCGGGTTGTCGTATTAGATGGGCCACCGTAATCTGAAGACCCTTTTGAACCCCATTGGAGGCCCATCAACCCATGATCAGTTGATGGCCATTTGGTTGCGACCCCAGGTCAGGTGAGGCAACCCGCTGAGTTT\n",
            "Description: P.dayanum 5.8S rRNA gene and ITS1 and ITS2 DNA\n",
            "Annotations: {'molecule_type': 'DNA', 'topology': 'linear', 'data_file_division': 'PLN', 'date': '30-NOV-2006', 'accessions': ['Z78459'], 'sequence_version': 1, 'gi': '2765584', 'keywords': ['5.8S ribosomal RNA', '5.8S rRNA gene', 'internal transcribed spacer', 'ITS1', 'ITS2'], 'source': 'Paphiopedilum dayanum', 'organism': 'Paphiopedilum dayanum', 'taxonomy': ['Eukaryota', 'Viridiplantae', 'Streptophyta', 'Embryophyta', 'Tracheophyta', 'Spermatophyta', 'Magnoliophyta', 'Liliopsida', 'Asparagales', 'Orchidaceae', 'Cypripedioideae', 'Paphiopedilum'], 'references': [Reference(title='Phylogenetics of the slipper orchids (Cypripedioideae: Orchidaceae): nuclear rDNA ITS sequences', ...), Reference(title='Direct Submission', ...)]}\n",
            "Id: Z78458.1\n",
            "Name: Z78458\n",
            "Name: CGTAACAAGGTTTCCGTAGGTGAACCTGCGGAAGGATCATTGTTGAGATCACATAATAATTGATCGAGTTAATCTGGAGGATCTGTTTACTTTGGTCACCCATGAGCATTTGCTGTTGAAGTGACCTAGATTTGCCATCGAGCCTCCTTGGGAGCTTTCTTGTTGGCGAGATCTAAACCCTTGCCCGGCGCAGTTTTGCGCCAAGTCGTACGACACATAATTGGTGAAGGGGGTGGCATCCTTCCCTGACCCTCCCCAAATTATTTTTTAACAACTCTCAGCAACGGATATCTCGGCTCTTGCATCGATGGAGGACGCAGCGAAATGCGATAAATGGTGTGAATTGCAGATCCCGTGAACCATCGAGTCTTTGAACGCAAGTTGCGCCCGAGGCCATCAGGCCAAGGGCACGCCTGCCTGGGCATTGCGAGTCATATCTCTCCCTTAACGAGGCTGTCCATACATACTGTTCAGCCGGTGCGGATGTGAGTTTGGCCCCTTGTTCTTTGGTACGGGGGGTCTAAGAGCTGCATGGGCTTTTGATGGTCCTAAATACGGCAAGAGGTGGACGAACTATGCTACAACAAAATTGTTGTGCAGAGGCCCCGGGTTGTCGTATTAGATGGGCCACCGTAATCTGAAGACCCTTTTGAACCCCATTGGAGGCCCATCAACCCATGATCAGTTGATGGCCATTTGGTTGCGACCCCAGGTCAGGTGAGGCAACCCGCTGAGTTG\n",
            "Description: P.hennisianum 5.8S rRNA gene and ITS1 and ITS2 DNA\n",
            "Annotations: {'molecule_type': 'DNA', 'topology': 'linear', 'data_file_division': 'PLN', 'date': '30-NOV-2006', 'accessions': ['Z78458'], 'sequence_version': 1, 'gi': '2765583', 'keywords': ['5.8S ribosomal RNA', '5.8S rRNA gene', 'internal transcribed spacer', 'ITS1', 'ITS2'], 'source': 'Paphiopedilum hennisianum', 'organism': 'Paphiopedilum hennisianum', 'taxonomy': ['Eukaryota', 'Viridiplantae', 'Streptophyta', 'Embryophyta', 'Tracheophyta', 'Spermatophyta', 'Magnoliophyta', 'Liliopsida', 'Asparagales', 'Orchidaceae', 'Cypripedioideae', 'Paphiopedilum'], 'references': [Reference(title='Phylogenetics of the slipper orchids (Cypripedioideae: Orchidaceae): nuclear rDNA ITS sequences', ...), Reference(title='Direct Submission', ...)]}\n",
            "Id: Z78457.1\n",
            "Name: Z78457\n",
            "Name: CGTAACAAGGTTTCCGTAGGTGAACCTCCGGAAGGATCATTGTTGAGATCACATAATAATTGATCGAGTTAATCTGGAGGATCTGTTTACTTTGGTCACCCATGGGCATTTTCTGTTGTAGTGACCTAGAATTTCCATCGAGCCTCCTTGGGAGCTTTCTTGTTGGCGAGATCTAAACCCTTGCCCGGCGCAGTTTTTCCCCCAGTCAAATGGCACATAATTGGTGGAGGGGGTGGCATTCTTCCCTGACCCTCCCCCAAATATTTTTTTAACAACTCTCAACAACGGATATCTCGGCTCTTTCATCGGATGAAGGACCGCAGCGAAATGCGATAAATGGTGTGAATTGCAGAATCCCGTGAACCATCGAGTCTTTGAACGCAAGTTGCGCCCGAGGCCATCAGGCCAAGGGCACGCCTGCCTGGGCATTGCGAGTCATATCTCTCCCTTAACGAGGCTGTCCATACATACTGTTCAGCCGGTGCGGATGTGAGTTTGGCCCCTTGTTCTTTGGTACGGGGGGTCTAAGAGCTGCATGGGCTTTTGATGGTCCTAAATACGGCAAGAGGTGGACGAACTATGCTACAACAAAATCGTTGTGCAAAGGCCCCGGGTTGTCGTATTAGATGGGCCACCGTAATCTAAAGACCCTTTTGAACCCCATTGGAGGCCCATCAACCCATGATCAGTTGATGGCCATTTGGTTGCGACCCCAGGTCAGGTGAGGCAACCCGCTGAG\n",
            "Description: P.callosum 5.8S rRNA gene and ITS1 and ITS2 DNA\n",
            "Annotations: {'molecule_type': 'DNA', 'topology': 'linear', 'data_file_division': 'PLN', 'date': '30-NOV-2006', 'accessions': ['Z78457'], 'sequence_version': 1, 'gi': '2765582', 'keywords': ['5.8S ribosomal RNA', '5.8S rRNA gene', 'internal transcribed spacer', 'ITS1', 'ITS2'], 'source': 'Paphiopedilum callosum', 'organism': 'Paphiopedilum callosum', 'taxonomy': ['Eukaryota', 'Viridiplantae', 'Streptophyta', 'Embryophyta', 'Tracheophyta', 'Spermatophyta', 'Magnoliophyta', 'Liliopsida', 'Asparagales', 'Orchidaceae', 'Cypripedioideae', 'Paphiopedilum'], 'references': [Reference(title='Phylogenetics of the slipper orchids (Cypripedioideae: Orchidaceae): nuclear rDNA ITS sequences', ...), Reference(title='Direct Submission', ...)]}\n",
            "Id: Z78456.1\n",
            "Name: Z78456\n",
            "Name: CGTAACAAGGTTTCCGTAGGTGAACCTGCGGAAGGATCATTGTTGAGATCACATAATAATTGATCGAGTTAATCTGGAGGATCTGTTTACTTTGGTCACCCATGAGCATTTGCTGTTGAAGTGACCTAGAATTTGCCATCGAGCCTCCTTGGGAGCTTTCTTGTTGGCGAGATCTAAACCCTTGCCCGGCGCAGTTTTGCGCCAAGTCATATGACACATAATTGGTGGAGGGGGTGGCATCCTGCCCTGACCCTCCCCAAATTATTTTTTTAACAACTCTCAGCAACGGATATCTCCGGTCTGGCATCGATGAAGAACGCAGCGAAATGCGATAAATGGTGTGATTGCAGAATCCCGTGAACATCGAGTCTTTGAACGCAAGTTGCGCCCGAGGCCATCAGGCCAAGGGCACGCCTGCCTGGGCATTGCGAGTCATATCTCTCCCTTAACGAGGCTGTCCATACATACTGTTCAGCCGGTGCGGATGTGAGTTTGGCCCCTTGTTCTTTGGTACGGGGGGTCTAAGAGCTGCATGGGCTTTTGATGGTCCTAAATACGGCAAGAGGTGGACGAACTATGCTACAACAAAATTGTTGTGCAAAGGCCCCGGGTTGTCGTATTAGATGGGCCACCGTAATCTGAAGACCCTTTTGGACCCCATTGGAGGCCCATCAACCCATGATCAGTTGATGGCCATTTGGGTTGCGACCCAGGTCAGGTGAGGCAACCCTGAGTTTAGC\n",
            "Description: P.tonsum 5.8S rRNA gene and ITS1 and ITS2 DNA\n",
            "Annotations: {'molecule_type': 'DNA', 'topology': 'linear', 'data_file_division': 'PLN', 'date': '30-NOV-2006', 'accessions': ['Z78456'], 'sequence_version': 1, 'gi': '2765581', 'keywords': ['5.8S ribosomal RNA', '5.8S rRNA gene', 'internal transcribed spacer', 'ITS1', 'ITS2'], 'source': 'Paphiopedilum tonsum', 'organism': 'Paphiopedilum tonsum', 'taxonomy': ['Eukaryota', 'Viridiplantae', 'Streptophyta', 'Embryophyta', 'Tracheophyta', 'Spermatophyta', 'Magnoliophyta', 'Liliopsida', 'Asparagales', 'Orchidaceae', 'Cypripedioideae', 'Paphiopedilum'], 'references': [Reference(title='Phylogenetics of the slipper orchids (Cypripedioideae: Orchidaceae): nuclear rDNA ITS sequences', ...), Reference(title='Direct Submission', ...)]}\n",
            "Id: Z78455.1\n",
            "Name: Z78455\n",
            "Name: CGTAACCAGGTTTCCGTAGGTGGACCTTCGGGAGGATCATTTTTGAGATCACATAAAAATTGATCGAGTTAATCTGGAGGAACTTTTTACTTTGGTCACCCATGAACAATTTCTTTTGGAGTGACCTAGAATTTCCATCGAACCCCCTTGGGAACTTTCTTTTTGGCGAGAACTAAACCCTTTCCCGGCGCAGTTTTTCCCCCAATCAAATTACACAAAAATGGTGGAGGGGGTGGCATCCTTCCCTTACCCTCCCCCAAATAATTTTTTAACAACTCTCAGCAACGGATATCTCGGCTCTTGCATCGGTTGAAGAACCAGCGAAATGCGATAAATGGTGTGAATTGCAGAATCCCGTGAACCATCGAGTCTTTGAACGCAAGTTGCGCCCGAGGCCATCAGGCCAAGGGCACGCCTGCCTGGGCATTGCGAGTCATATCTCTCCCTTAACGAGGCTGTCCATACATACTGTTCAGCCGGTGCGGATGTGAGTTTGGCCCCTTGTTCTTTGGCACGGGGGGTCTAAGAGCTTCATGGGCTTTTGATGGTCCTAAATACGGCAAGAGGTGGACGAACTATGCTACAACAAAATTGTTGTGCAAAGGCCCCGGGTTGTCGTATTAGATGGGCCACCGTAATCTGAAGACCCTTTTGAACCCCATTGGAGGCCCATCAACCCATGATCAGTTGATGGCCATTTGGGTTGCGACCCCAGGTCAGGTGAGGCAACCCGCTGAGTTTAGCA\n",
            "Description: P.javanicum 5.8S rRNA gene and ITS1 and ITS2 DNA\n",
            "Annotations: {'molecule_type': 'DNA', 'topology': 'linear', 'data_file_division': 'PLN', 'date': '30-NOV-2006', 'accessions': ['Z78455'], 'sequence_version': 1, 'gi': '2765580', 'keywords': ['5.8S ribosomal RNA', '5.8S rRNA gene', 'internal transcribed spacer', 'ITS1', 'ITS2'], 'source': 'Paphiopedilum javanicum', 'organism': 'Paphiopedilum javanicum', 'taxonomy': ['Eukaryota', 'Viridiplantae', 'Streptophyta', 'Embryophyta', 'Tracheophyta', 'Spermatophyta', 'Magnoliophyta', 'Liliopsida', 'Asparagales', 'Orchidaceae', 'Cypripedioideae', 'Paphiopedilum'], 'references': [Reference(title='Phylogenetics of the slipper orchids (Cypripedioideae: Orchidaceae): nuclear rDNA ITS sequences', ...), Reference(title='Direct Submission', ...)]}\n",
            "Id: Z78454.1\n",
            "Name: Z78454\n",
            "Name: CGTAACAAGGTTTCCGTAGGTGAACCTGCGGAAGGATCATTGTTGAGATCACATAATAATTGATCGAGATAATCTGGAGGATCTGTTTACTTTGGTCACCCATGAGCATTTGCTGTTGAAGTGACCTAGATTTACCATCGAGCCTCCTTGGGAGCTTTCTTGTTGGCGAGATCTAAACCCTTGCCCGGCGCAGTTTTTCTCCAAGTCATTTGACACATAATCGGTGAAGGGGGTGGCATCCTGCCCTGACCCTCCCCCCACTATTGTTAACAACTCTCATCAACGGAACTCATGCGATAAATGGTGTGATTTGCAGAATCCCGTGAACCATCGAGTCTGTGAACGCAAGTTGCGGCCGAGGCCATCAGACCAAGGGCACGCCTGCCTGGGCATTGCGAGTCATATCTCTCCCTTAACGAGGCTGTCCATACATACTGTTCAGCCGGTGCGGATGTGAGTTTGGCCCCTTGTTCTCTGGTACGGGGGGTCTAAGAGCTGCATGGGCTTTTGATGGTCCTAAATACGGCAAGAGGTGGACGAACTATGCTACAACAAAATTGTTGTGCAAAGGCCCCGGGTTGTCGTATTAGATGGGCCACCGTAATCTGAAGCCCCTTTTGAACCCATTGGAGGCCCATCAACCNCATGATCAGTTGATGGCCATTTGGATGCGACCCCAGGTCAGGTGAGGCAAC\n",
            "Description: P.fowliei 5.8S rRNA gene and ITS1 and ITS2 DNA\n",
            "Annotations: {'molecule_type': 'DNA', 'topology': 'linear', 'data_file_division': 'PLN', 'date': '30-NOV-2006', 'accessions': ['Z78454'], 'sequence_version': 1, 'gi': '2765579', 'keywords': ['5.8S ribosomal RNA', '5.8S rRNA gene', 'internal transcribed spacer', 'ITS1', 'ITS2'], 'source': 'Paphiopedilum fowliei', 'organism': 'Paphiopedilum fowliei', 'taxonomy': ['Eukaryota', 'Viridiplantae', 'Streptophyta', 'Embryophyta', 'Tracheophyta', 'Spermatophyta', 'Magnoliophyta', 'Liliopsida', 'Asparagales', 'Orchidaceae', 'Cypripedioideae', 'Paphiopedilum'], 'references': [Reference(title='Phylogenetics of the slipper orchids (Cypripedioideae: Orchidaceae): nuclear rDNA ITS sequences', ...), Reference(title='Direct Submission', ...)]}\n",
            "Id: Z78453.1\n",
            "Name: Z78453\n",
            "Name: CGTAACAAGGTTTCCGTAGGTGAACCTGCGGAAGGATCATTGTTGAGATCACATAATAATTGATCGAGTTAATCTGGAGGATCTGTTTACTTTGGTCACCCATGAGCATTTGCTGTTGAAGTGACCTAGAGTTGCCATCGAGCCTCCTTGGGAGCTTTCTTGTTGGCGAGATCTAAACCCTTGCCCGGCGCAGTTTTGCGCCAACTCATTTGACACATAACTGGTGAAGGGGGTGGCATCCTTCCCTGACCCTCCCCCAAATTATTTTTTAACAACTCTCAGCAACCGGATATCTCAGCTCTTGCATCGATGAAGAACGCAGCGAAATGCGATAAATGGTGTGAATTGCAGAATCCCGTGAACCATCGAGTCTTTGAACGCAAGTTGCGCCCGAGGCCATCAGGCCAAGGGCACGCCTGCCTGGGCATTGCGAGTCATATCTCTCCCTTAACGAGGCTGTCCATACATACTGTTCAGCCGGTGCGGATGTGAGTTTGGCCCCTTGTTCTTTGGTACGGGGGGTCTAAGAGCTGCATGGGCTTTTGATGGTCCTAAATACGGCAAGAGGTGGACGAACTATGCTACAACAAAATTGTTGTGCAAAGGCCCCGGGTTGTCGTATTAGATGGGCCACCGTAATCTGAAGACCCTTTTGAACCCCATTGGAGGCCCATCAACCCATGATCAGTTGATGGCCATTTGGTTGCGACCCCAGGTCAGGTGAGGCAACCCGCTGAGTTTAGCA\n",
            "Description: P.schoseri 5.8S rRNA gene and ITS1 and ITS2 DNA\n",
            "Annotations: {'molecule_type': 'DNA', 'topology': 'linear', 'data_file_division': 'PLN', 'date': '30-NOV-2006', 'accessions': ['Z78453'], 'sequence_version': 1, 'gi': '2765578', 'keywords': ['5.8S ribosomal RNA', '5.8S rRNA gene', 'internal transcribed spacer', 'ITS1', 'ITS2'], 'source': 'Paphiopedilum schoseri', 'organism': 'Paphiopedilum schoseri', 'taxonomy': ['Eukaryota', 'Viridiplantae', 'Streptophyta', 'Embryophyta', 'Tracheophyta', 'Spermatophyta', 'Magnoliophyta', 'Liliopsida', 'Asparagales', 'Orchidaceae', 'Cypripedioideae', 'Paphiopedilum'], 'references': [Reference(title='Phylogenetics of the slipper orchids (Cypripedioideae: Orchidaceae): nuclear rDNA ITS sequences', ...), Reference(title='Direct Submission', ...)]}\n",
            "Id: Z78452.1\n",
            "Name: Z78452\n",
            "Name: CGTAACAAGGTTTCCGTAGGTGAACCTGCGGAAGGATCATTGTTGAGATCACATAATAATTGATCGAGTTAATCTGGAGGATCTATTTACTTTGGTCACCCATGAGCATTTGCTGTTGAAGTGACCTAGATTTGCCATCAAGCCTCCTTGGGAGCTTTCTTTTTGGCGAGATCTAAACCCTTGCCCGGCGCAGTTTTGCGCCAAGTCATATGACACATAATTGGTGAAGGGGGTGGCATCCTGCCCTGACCCTCCCCAAATTATTTTTTTAACAACTCTCAGCAACGGATATCTCGGCTCTTGAATCGATGAAGAACGCAGCGAAATGCGATAAATGGTGTGAATTGCAGAATCCCGTGAACCATCGAGTCTTTGAACGCAAGTTGCGCCCGAGGCCATCAGGCCAAGGGCACGCCTGCCTGGGCATTGCGAGTCATATCTCTCCCTTAACGAGGCTGTCCATACATACTGTTCAGCCGGTGCGGATGTGAGTTTGGCCCCTTGTTCTTTGGTACGGGGGGTCTAAGAGCTGCATGGGCTTTTGATGGTCCTAAATACGGCAAGAGGTGGATGAACTATGCTACAACAAAATTGTTGTGCAAAGGCCCCGGGTTGTCGTATTAGATGGGCCACTGTAATCTGAAGACCCTTTTGAACCCCATTGGAGGCCCATCAACCCATGATCAGTTGATGGCCATTTGGATGCGACCCCAGGTCAGGTGAGGCAACCGCTGAGTTTAGCA\n",
            "Description: P.bougainvilleanum 5.8S rRNA gene and ITS1 and ITS2 DNA\n",
            "Annotations: {'molecule_type': 'DNA', 'topology': 'linear', 'data_file_division': 'PLN', 'date': '30-NOV-2006', 'accessions': ['Z78452'], 'sequence_version': 1, 'gi': '2765577', 'keywords': ['5.8S ribosomal RNA', '5.8S rRNA gene', 'internal transcribed spacer', 'ITS1', 'ITS2'], 'source': 'Paphiopedilum bougainvilleanum', 'organism': 'Paphiopedilum bougainvilleanum', 'taxonomy': ['Eukaryota', 'Viridiplantae', 'Streptophyta', 'Embryophyta', 'Tracheophyta', 'Spermatophyta', 'Magnoliophyta', 'Liliopsida', 'Asparagales', 'Orchidaceae', 'Cypripedioideae', 'Paphiopedilum'], 'references': [Reference(title='Phylogenetics of the slipper orchids (Cypripedioideae: Orchidaceae): nuclear rDNA ITS sequences', ...), Reference(title='Direct Submission', ...)]}\n",
            "Id: Z78451.1\n",
            "Name: Z78451\n",
            "Name: CGTAACAAGGTTTCCGTAGGTGTACCTCCGGAAGGATCATTGTTGAGATCACATAATAATTGATCGAGATAATCTGGAGGATCTGTTTACTTTGGTCACCCATGGGCATTTGCTGTTGTAGTGACCTAGATTTCCATGGAGCCCCCCTGGGAGCTTTCTTGCTGGCGAGATCTAAACCCGTGCCCGGCGCAGTTTTGCGCCAAGTCATATGACACATAATTGGTGTAGGGGGCGGGCATCCTGCCCTGACCCTCCCCAAAGTATTTTTTGCAACTCTCAACAACGGAAATCTCGCTCTTTCATCGATGAAGAACCAGCGAAATCGATAAATGGTGTGAATTGCAGAATCCCGTGAACCATCGAGTCTTTGAACCCAAGTTGCGCCCGAGGCCATCAGGCCAAGGGCACCCCTCCCTGGGCATCGCGAGTCAAATCTCTCCCTTAACGAGGCTGTCCATACATACTGTTCACCCGGTGCGGATGTGAGTTTGCCCCCTTGTTCTTTGGTACGGGGGGTCTAAGACCTGCATGGGATTTTGATGGTCCTAAAAACGGCAAGAGGTGGACGAACTATCCCTACAATAAAATTGTTGTGCGAAGCCCCCGGGTTGTCGTATTAGATGGGCCACCGTAATCTGAAGACCCTATAGAACCCCATTGGAGGCCCATCAACCCATGATCAGTTGATGGCCATTTGATGCGACACCAGTCAGTGAGCAACCAGCTGAGC\n",
            "Description: P.hookerae 5.8S rRNA gene and ITS1 and ITS2 DNA\n",
            "Annotations: {'molecule_type': 'DNA', 'topology': 'linear', 'data_file_division': 'PLN', 'date': '30-NOV-2006', 'accessions': ['Z78451'], 'sequence_version': 1, 'gi': '2765576', 'keywords': ['5.8S ribosomal RNA', '5.8S rRNA gene', 'internal transcribed spacer', 'ITS1', 'ITS2'], 'source': 'Paphiopedilum hookerae', 'organism': 'Paphiopedilum hookerae', 'taxonomy': ['Eukaryota', 'Viridiplantae', 'Streptophyta', 'Embryophyta', 'Tracheophyta', 'Spermatophyta', 'Magnoliophyta', 'Liliopsida', 'Asparagales', 'Orchidaceae', 'Cypripedioideae', 'Paphiopedilum'], 'references': [Reference(title='Phylogenetics of the slipper orchids (Cypripedioideae: Orchidaceae): nuclear rDNA ITS sequences', ...), Reference(title='Direct Submission', ...)]}\n",
            "Id: Z78450.1\n",
            "Name: Z78450\n",
            "Name: GGAAGGATCATTGCTGATATCACATAATAATTGATCGAGTTAAGCTGGAGGATCTGTTTACTTTGGTCATCCATGAGCATTTACTGTTGAAGTGACCTAGATTTGCCATCGAGCCTCCTTGGGAGCTTTCTTGTTGCCGAGATCTAAACCCTTGCCCGGCGCAGTTTTGCGCCAAGTCATATGACACATAATTGGTGAAGGGGGTGGCATCCTGCCCTGACCCTCCCCAAATTATTTTTTTAACAACTCTCAGCAACGGATATCTCGGCTCTTGCATCGATGAAGAACGCAGCGAAATGCGATAAATGGTGTGAATTGCAGAATCCCGTGAACCATCGAGTCTTTGAACGCAAGTTGCGCCCGAGGCCATCAGGCCAAGGGCACGCCTGCCTGGGCATTCCGAGTCATATCTCTCCCCTAACGAGGCTGTCCATACATACTGTTCATCCGGTGCGGATGTGAGTGTGGCCCCTTGTTCTTTGGTCCGGGGGGTCTAAGAACTGCATGGGCATATGATGGTCCTCAAAACTGGCAAGAGGTGGACGAACTATGCTACAACCAAATTGTTGTGCCAAGGCCCCGGGTTGTCGTATTAGATGGGCCACCGTAACCTGTAGACCCTGTTGAACCCCATTGGAGGACCATCAACCCATGATCAGTTGATGACCATGTGTTGCGACCCCAGATCAGCTGAGCAACCCCTGAG\n",
            "Description: P.papuanum 5.8S rRNA gene and ITS1 and ITS2 DNA\n",
            "Annotations: {'molecule_type': 'DNA', 'topology': 'linear', 'data_file_division': 'PLN', 'date': '30-NOV-2006', 'accessions': ['Z78450'], 'sequence_version': 1, 'gi': '2765575', 'keywords': ['5.8S ribosomal RNA', '5.8S rRNA gene', 'internal transcribed spacer', 'ITS1', 'ITS2'], 'source': 'Paphiopedilum papuanum', 'organism': 'Paphiopedilum papuanum', 'taxonomy': ['Eukaryota', 'Viridiplantae', 'Streptophyta', 'Embryophyta', 'Tracheophyta', 'Spermatophyta', 'Magnoliophyta', 'Liliopsida', 'Asparagales', 'Orchidaceae', 'Cypripedioideae', 'Paphiopedilum'], 'references': [Reference(title='Phylogenetics of the slipper orchids (Cypripedioideae: Orchidaceae): nuclear rDNA ITS sequences', ...), Reference(title='Direct Submission', ...)]}\n",
            "Id: Z78449.1\n",
            "Name: Z78449\n",
            "Name: CGTAACAAGGTTTCCGTAGGTGAACCTGCGGAAGGATCATTGTTGAGATCACATAATAATTGATCGAGTTAATCTGGAGGATCTGTTTACTTTGGTCACCCATGAGCATTTGCTGTTGAAGTGACCTAGATTTGCCATCGAGCCTCCTTGGGAGCTTTCTTGTTGGCGAGATCTAAACCCTTGCCCGGCGCAGTTTTGCGCCAACTCATTTGACACATAATTGGTGAAGGGTGGCATCCTGCCCTGACCCTCCCCCAAATTATTTTTTTAACAACTCTCAGCAACGGATATCTCAGCTCTTGCATCGATGAAGAACGCAGCGAAAATGCGATAAATGGTGTGAATTGCAGAATCCCGTGAACCATCGAGTCTTTGAACGCAAGTTGCGCCCGAGGCCATCAGGCCAAGGGCACGCCTGCCTGGGCATTGCGAGTCATATCTCTCCCTTAACGAGGCTGTCCATACATACTGTTCAGCCGGTGCGGATGTGAGTTTGGCCCCTTGTTCTTTGGTACGGGGGGTCTAAGAGCTGCATGGGCTTTTGATGGTCCTAAATACGGCAAGAGGTGGACGAACTATGCTACAACTAAATTGTTGTGCAAAGGCCCCGGGTTGTCGTATTAGATGGGCCACCGTAATCTGAAGACCCTTTTGAACCCCATTGGAGGCCCATCAACCCATGATCAGTTGATGGCCATTTGGTTGCGACCCCAGGTCAGGTGAGGCAACCCGCTGAGTTTATGC\n",
            "Description: P.mastersianum 5.8S rRNA gene and ITS1 and ITS2 DNA\n",
            "Annotations: {'molecule_type': 'DNA', 'topology': 'linear', 'data_file_division': 'PLN', 'date': '30-NOV-2006', 'accessions': ['Z78449'], 'sequence_version': 1, 'gi': '2765574', 'keywords': ['5.8S ribosomal RNA', '5.8S rRNA gene', 'internal transcribed spacer', 'ITS1', 'ITS2'], 'source': 'Paphiopedilum mastersianum', 'organism': 'Paphiopedilum mastersianum', 'taxonomy': ['Eukaryota', 'Viridiplantae', 'Streptophyta', 'Embryophyta', 'Tracheophyta', 'Spermatophyta', 'Magnoliophyta', 'Liliopsida', 'Asparagales', 'Orchidaceae', 'Cypripedioideae', 'Paphiopedilum'], 'references': [Reference(title='Phylogenetics of the slipper orchids (Cypripedioideae: Orchidaceae): nuclear rDNA ITS sequences', ...), Reference(title='Direct Submission', ...)]}\n",
            "Id: Z78448.1\n",
            "Name: Z78448\n",
            "Name: CGTAACAAGGTTTCCGTAGGTGAACCTGCGGAAGGATCATTGTTGAGATCACATAATAATTGATCGAGTTAATCTGGAGGATCTGTTTACTTTGGTCACCCATGAGCATTTGCTGTTGAAGTGACCTAGAATTGCCATCGAGCCTCCTTGGGAGCTTTCTTGTTGGCGAGATCTAAACCCTTTCCCGGCGCAGTTTTGCGCCAAGTCGTATGACACATAATTGGTGAAGGGGGGTGGCATCCTTCCCTTGACCCTCCCCAAATTATTTTTTTAACAACTCTCAGCAACGGATATCTCAGCTCTTGCATCGGATGGAAGAACGCACCGAAATGCGATAAATGGTGTGAATTGCAGAATCCCGTGAACCATCGAGTCTTTGAACGCAAGTTGCGCCCGAGGCCATCAGGCCAAGGGCACGCCTGCCTGGGCATTGCGAGTCATATCTCTCCCTTAACGAGGCTGTCCATACATACTGTTCAGCCGGTGCGGATGTGAGTTTGGCCCCTTGTTCTTTGGTACGGGGGGTCTAAGAGCTGCATGGGCTTTTGATGGTCCTAAATACGGCAAGAGGTGGACGAACTATGCTACAANAAAATTGTTGTGCAAAGGCCCCGGGTTGTCGTATTAGATGGGCCACCGTAATCTGAAGACCCTTTTGAACCCCATTGGAGGCCCATCAGCCCATGATCAGTTGATGGCCATTTGGNTGCGACCCCAGGTCAGGTGAGGCAACCCGCTGAGG\n",
            "Description: P.argus 5.8S rRNA gene and ITS1 and ITS2 DNA\n",
            "Annotations: {'molecule_type': 'DNA', 'topology': 'linear', 'data_file_division': 'PLN', 'date': '30-NOV-2006', 'accessions': ['Z78448'], 'sequence_version': 1, 'gi': '2765573', 'keywords': ['5.8S ribosomal RNA', '5.8S rRNA gene', 'internal transcribed spacer', 'ITS1', 'ITS2'], 'source': 'Paphiopedilum argus', 'organism': 'Paphiopedilum argus', 'taxonomy': ['Eukaryota', 'Viridiplantae', 'Streptophyta', 'Embryophyta', 'Tracheophyta', 'Spermatophyta', 'Magnoliophyta', 'Liliopsida', 'Asparagales', 'Orchidaceae', 'Cypripedioideae', 'Paphiopedilum'], 'references': [Reference(title='Phylogenetics of the slipper orchids (Cypripedioideae: Orchidaceae): nuclear rDNA ITS sequences', ...), Reference(title='Direct Submission', ...)]}\n",
            "Id: Z78447.1\n",
            "Name: Z78447\n",
            "Name: CGTAACAAGGATTCCGTAGGTGAACCTGCGGGAGGATCATTGTTGAGATCACATAATAATTGATCGAGTAATCTGGAGGATCTGTTTACTTTGGTCACCCATGGGCATTTCCTGTTGAAGTGACCTAGAGTTGCCATCGAGCCTCCCTGGGAGCTTTCTTGTTGGCGAGAACTAAACCCTTACCCGGCGCAATTTTGCCCCCAGTCAAATGACACATAAGTGGTGAAGGGGGTGGCATCCTATCTCGGCTCTTGCATCGATGAAGAACCCAGCGAAATGCGATAAATGGTGTGAATTGCAGAATCCCGTGAACCATCGAGTCTTTGAACGCAAGTTGCGCCCGAGGCCATCAGGCCAAGGGCACGCCTGCCTGGGCATTGCGAGTCATATCTCTCCCTTAACGAGGCTGTCCATACATACTGTTCAGCCGGTGCGGATGTGAGTTTGGCCCCTTGTTCTTTGGTACGGGGGGTCTAAGAGCTGCATGGGCTTTTGATGGTCCTAAATACGGCAAGAGGTGGACGAACTATGCTACACCAAAATTGTTGTGCAAAGGCCCCGGGTTGTCGTATTAGATGGGCCACCGTAATCTGAAGACCCTTTTGAACCCCATTGGAGGCCCATCAACCCATGATCAGTTGATGGCCATTTGGTTGCGACCCCAGTCAGGTGAGGCAACCCGCTGAGTTTAAGC\n",
            "Description: P.venustum 5.8S rRNA gene and ITS1 and ITS2 DNA\n",
            "Annotations: {'molecule_type': 'DNA', 'topology': 'linear', 'data_file_division': 'PLN', 'date': '30-NOV-2006', 'accessions': ['Z78447'], 'sequence_version': 1, 'gi': '2765572', 'keywords': ['5.8S ribosomal RNA', '5.8S rRNA gene', 'internal transcribed spacer', 'ITS1', 'ITS2'], 'source': 'Paphiopedilum venustum', 'organism': 'Paphiopedilum venustum', 'taxonomy': ['Eukaryota', 'Viridiplantae', 'Streptophyta', 'Embryophyta', 'Tracheophyta', 'Spermatophyta', 'Magnoliophyta', 'Liliopsida', 'Asparagales', 'Orchidaceae', 'Cypripedioideae', 'Paphiopedilum'], 'references': [Reference(title='Phylogenetics of the slipper orchids (Cypripedioideae: Orchidaceae): nuclear rDNA ITS sequences', ...), Reference(title='Direct Submission', ...)]}\n",
            "Id: Z78446.1\n",
            "Name: Z78446\n",
            "Name: CGTAACAAGGTTTCCGTAGGTGAACCTCCGGAAGGATCATTGTTGAGATCACATAATAATTGATCGAGTTAATCTGGAGGATCTGTTTACTTTGGTCACCCATGAGCATTTCCTGTTGAAGTGACCTAGATTTGCCATCGAGCCTCCTTGGGAGCTTTCTTGTTGGCGAGATCTAAACCCTTGCCCGGCGCAGTTTTGCGCCAAGTCATATGACACATAATTGGTGAAGGGGGTGGCATCCTCCCCAAATAATTTTTTAACAACTCTCAGCAACGGATACTCGGCTCTTCATCGATGGAGGACCAGCGAAATTGCGATAATGGTGTGATTGCAGAATCCCGTGAACATCGAGTCTTTGAACGCAAGTTGCGCCCGAGGCCATCAGGCCAAGGGCACGCCTGCCTGGGATTGCGAGTCATATCTCTCCCTTAACGAGGCTGTCCATACATACTGTTCAGCCGGTGCAGATGTGAGTTTGGCCCCTTGTTCTTCGGTACGGGGGGTCTAAGAGCTGCATGGGCTTTTGATGGCCCTAAATACGGCAAGAGGTGGACGAACTATGCTACAACAAAATTGTTGTGCAAAGGCTCCGGGTTGTCGTATTAGATGGGCCACCGTAATCTGAAGACCCTTTTGAACCCCATTGGAGGCCCATCAACCCATGATCAGTTGATGGCCATTTGGTTGCGACCCAGGTCAGGTGAGGCAACCC\n",
            "Description: P.acmodontum 5.8S rRNA gene and ITS1 and ITS2 DNA\n",
            "Annotations: {'molecule_type': 'DNA', 'topology': 'linear', 'data_file_division': 'PLN', 'date': '30-NOV-2006', 'accessions': ['Z78446'], 'sequence_version': 1, 'gi': '2765571', 'keywords': ['5.8S ribosomal RNA', '5.8S rRNA gene', 'internal transcribed spacer', 'ITS1', 'ITS2'], 'source': 'Paphiopedilum acmodontum', 'organism': 'Paphiopedilum acmodontum', 'taxonomy': ['Eukaryota', 'Viridiplantae', 'Streptophyta', 'Embryophyta', 'Tracheophyta', 'Spermatophyta', 'Magnoliophyta', 'Liliopsida', 'Asparagales', 'Orchidaceae', 'Cypripedioideae', 'Paphiopedilum'], 'references': [Reference(title='Phylogenetics of the slipper orchids (Cypripedioideae: Orchidaceae): nuclear rDNA ITS sequences', ...), Reference(title='Direct Submission', ...)]}\n",
            "Id: Z78445.1\n",
            "Name: Z78445\n",
            "Name: CGTAACAAGGTTTCCGTAGGTGAACCTGCGGAAGGATCATTGTTGAGATCACATAATAATTGATCGGGTTAATCTGGAGGATCTGTTTACTTTGGTCACCCATGAGCATTTGCTGTTGAAGTGACCTAGAATTGCCATCGAGCCTCCTTGGGAGCTTTCTTGTTGGCGAGATCTAAACCCTTGCCCGGCGCAGTTTTGCTCCAAGTCGTTTGACACATAATTGGTGAAGGGGGTGGCATCCTTCCCTGACCCTCCCCCAACTATTTTTTTAACAACTCTCAGCAACGGAGACTCAGTCTTCGGCAAATGCGATAAATGGTGTGAATTGCAGAATCCCGTGCACCATCGAGTCTTTGAACGCAAGTTGCGCCCGAGGCCATCAGGCCAAGGGCACGCCTGCCTGGGCATTGCGAGTCATATCTCTCCCTTAACGAGGCTGTCCATACATACTGTTCAGCCGGTGCGGATGTGAGTTTGGCCCCTTGTTCTTTGGTACGGGGGGTCTAAGAGCTGCATGGGCTTTTGATGGTCCTAAATACGGCAAGAGGTGGACGAACTATGCTACAACAAAATTGTTGTGCAGAGGCCCCGGGTTGTCGTATTAGATGGGCCACCGTAATCTGAAGACCCTTTTGAACCCCATTGGAGGCCCATCAACCCATGATCAGTTGATGGCCATTTGGTTGCGACCCCAGGTCAGGTGAGCAACAGCTGT\n",
            "Description: P.urbanianum 5.8S rRNA gene and ITS1 and ITS2 DNA\n",
            "Annotations: {'molecule_type': 'DNA', 'topology': 'linear', 'data_file_division': 'PLN', 'date': '30-NOV-2006', 'accessions': ['Z78445'], 'sequence_version': 1, 'gi': '2765570', 'keywords': ['5.8S ribosomal RNA', '5.8S rRNA gene', 'internal transcribed spacer', 'ITS1', 'ITS2'], 'source': 'Paphiopedilum urbanianum', 'organism': 'Paphiopedilum urbanianum', 'taxonomy': ['Eukaryota', 'Viridiplantae', 'Streptophyta', 'Embryophyta', 'Tracheophyta', 'Spermatophyta', 'Magnoliophyta', 'Liliopsida', 'Asparagales', 'Orchidaceae', 'Cypripedioideae', 'Paphiopedilum'], 'references': [Reference(title='Phylogenetics of the slipper orchids (Cypripedioideae: Orchidaceae): nuclear rDNA ITS sequences', ...), Reference(title='Direct Submission', ...)]}\n",
            "Id: Z78444.1\n",
            "Name: Z78444\n",
            "Name: CGTAACAAGGTTTCCGTAGGGTGAACTGCGGAAGGATCATTGTTGAGATCACATAATAATTGATCGAGTTAATCTGGAGGATCTGTTTACTTGGGTCACCCATGGGCATTTGCTGTTGAAGTGACCTAGATTTGCCATCGAGCCTCCTTGGGAGCATCCTTGTTGGCGATATCTAAACCCTCAATTTTTCCCCCAATCAAATTACACAAAATTGGTGGAGGGGGTGGCATTCTTCCCTTACCCTCCCCCAAATATTTTTTTAACAACTCTCAGCAACGGATATCTCAGCTCTTGCATCGATGAAGAACCCACCGAAATGCGATAAATGGTGTGAATTGCAGAATCCCGTGAACCATCGAGTCTTTGAACGCAAGTTGCGCCCGAGGCCATCAGGCCAAGGGCACGCCTGCCTGGGCATTGCGAGTCATATCTCTCCCTTAACGAGGCTGTCCATACATACTGTTCAGCCGGTGCGGATGTGAGTTTGGCCCCTTGTTCTTTGGTACGGGGGGTCTAAGAGATGCATGGGCTTTTGATGGTCCTAAATACGGCAAGAGGTGGACGAACTATGCTACAACAAAATTGTTGTGCAAAGGCCCCGGGTTGTCGTATAAGATGGGCCACCGATATCTGAAGACCCTTTTGGACCCCATTGGAGCCCATCAACCCATGTCAGTTGATGGCCATT\n",
            "Description: P.appletonianum 5.8S rRNA gene and ITS1 and ITS2 DNA\n",
            "Annotations: {'molecule_type': 'DNA', 'topology': 'linear', 'data_file_division': 'PLN', 'date': '30-NOV-2006', 'accessions': ['Z78444'], 'sequence_version': 1, 'gi': '2765569', 'keywords': ['5.8S ribosomal RNA', '5.8S rRNA gene', 'internal transcribed spacer', 'ITS1', 'ITS2'], 'source': 'Paphiopedilum appletonianum', 'organism': 'Paphiopedilum appletonianum', 'taxonomy': ['Eukaryota', 'Viridiplantae', 'Streptophyta', 'Embryophyta', 'Tracheophyta', 'Spermatophyta', 'Magnoliophyta', 'Liliopsida', 'Asparagales', 'Orchidaceae', 'Cypripedioideae', 'Paphiopedilum'], 'references': [Reference(title='Phylogenetics of the slipper orchids (Cypripedioideae: Orchidaceae): nuclear rDNA ITS sequences', ...), Reference(title='Direct Submission', ...)]}\n",
            "Id: Z78443.1\n",
            "Name: Z78443\n",
            "Name: CGTAACAAGGTTTCCGTAGGTGAACCTGCGGAAGGATCATTGTTGAGATCACATAATAATTGATCGAGTTAATCTGGAGGATCTGTTTACTTGGGTCACCCATGGGCATTTGCTGTTGAAGTGACCTAGATTTGCCATCGAGCCTCCTTGGGAGCTTTCTTGTTGGCGATATCTAAACCCTTGCCCGGCAGAGTTTTGGGCCACANNNNNNNNNNNNNNNNNNNNNNNNNNNNNNNNNNNNNNNNNNNNNNNNNNNNNNNNNNNNNNNNNNNNNNNNNNNNNNNNNNNNNNNNNNNNNNNNNNNNNNNNNNNNNNNNNNNNNNNNNNNNNNNNNNNNNNNNNNNNNNNNNNNNNNNNNNNNNNNNNNNNNNNNNNNNNNCAGCGAAATGCGATAATGGTGTGAATTGCAGAATCCCGTGAACCATCGAGTCTTTGAACGCAAGTTGCGCCCGAGGCCATCAGGCCAAGGGCACGCCTGCCTGGGCATTGCGAGTCATATCTCTCCCTTAACGAGGCTGTCCATACACACCTGTTCAGCCGGTGCGGATGTGAGTTTGGCCCCTTGTTCTTTGGTACGGGGGGTCTAAGAGCTGCATGGGCTTTTGATGGTCCTAAATACGGCAAGAGGTGGACGAACTATGCTACAACAAAATTGTTGTGCAAAGGCCCCGGGTTGTCGTATTAGATGGGCCACCATAATCTGAAGACCCTTTTGAACCCCATTGGAGGCCCATCAACCCATGATCAGTTGATGGCCATTTGGTTGCGACCCAGTCAGGTGAGG\n",
            "Description: P.lawrenceanum 5.8S rRNA gene and ITS1 and ITS2 DNA\n",
            "Annotations: {'molecule_type': 'DNA', 'topology': 'linear', 'data_file_division': 'PLN', 'date': '30-NOV-2006', 'accessions': ['Z78443'], 'sequence_version': 1, 'gi': '2765568', 'keywords': ['5.8S ribosomal RNA', '5.8S rRNA gene', 'internal transcribed spacer', 'ITS1', 'ITS2'], 'source': 'Paphiopedilum lawrenceanum', 'organism': 'Paphiopedilum lawrenceanum', 'taxonomy': ['Eukaryota', 'Viridiplantae', 'Streptophyta', 'Embryophyta', 'Tracheophyta', 'Spermatophyta', 'Magnoliophyta', 'Liliopsida', 'Asparagales', 'Orchidaceae', 'Cypripedioideae', 'Paphiopedilum'], 'references': [Reference(title='Phylogenetics of the slipper orchids (Cypripedioideae: Orchidaceae): nuclear rDNA ITS sequences', ...), Reference(title='Direct Submission', ...)]}\n",
            "Id: Z78442.1\n",
            "Name: Z78442\n",
            "Name: GTAGGTGAACCTGCGGAAGGATCATTGTTGAGATCACATAATAATTGATCGAGTTAATCTGGAGGATCTGTTTACTTTGGTCACCCATGGGCATTTGCTGTTGAAGTGACCTAGATTTGCCATCGAGCCTCCTTGGGAGCTTTCTTGTTGGCGAGATCTAAACCCTTGCCCGGCGGAGTTTGGCGCCAAGTCATATGACACATAATTGGTGAAGGGGGTGGCATCCTGCCCTGACCCTCCCCAAATTATTTTTTTAACAACTCTCAGCAACGGATATCTCGGCTCTTGCATCGATGAAGAACGCAGCGAAATGCGATAAATGGTGTGAATTGCAGAATCCCGTGAACCATCGAGTCTTTGGAACGCAAGTTGCGCCCGAGGCCATCAGGCCAAGGGCACGCCTGCCTGGGCATTGGGAATCATATCTCTCCCCTAACGAGGCTATCCAAACATACTGTTCATCCGGTGCGGATGTGAGTTTGGCCCCTTGTTCTTTGGTACCGGGGGTCTAAGAGCTGCATGGGCATTTGATGGTCCTCAAAACGGCAAGAGGTGGACGAACTATGCCACAACAAAATTGTTGTCCCAAGGCCCCGGGTTGTCGTATTAGATGGGCCACCGTAACCTGAAGACCCTTTTGAACCCCATTGGAGGCCCATCAACCCATGATCAGTTGATGACCATTTGTTGCGACCCCAGTCAGCTGAGCAACCCGCTGAGT\n",
            "Description: P.bullenianum 5.8S rRNA gene and ITS1 and ITS2 DNA\n",
            "Annotations: {'molecule_type': 'DNA', 'topology': 'linear', 'data_file_division': 'PLN', 'date': '30-NOV-2006', 'accessions': ['Z78442'], 'sequence_version': 1, 'gi': '2765567', 'keywords': ['5.8S ribosomal RNA', '5.8S rRNA gene', 'internal transcribed spacer', 'ITS1', 'ITS2'], 'source': 'Paphiopedilum bullenianum', 'organism': 'Paphiopedilum bullenianum', 'taxonomy': ['Eukaryota', 'Viridiplantae', 'Streptophyta', 'Embryophyta', 'Tracheophyta', 'Spermatophyta', 'Magnoliophyta', 'Liliopsida', 'Asparagales', 'Orchidaceae', 'Cypripedioideae', 'Paphiopedilum'], 'references': [Reference(title='Phylogenetics of the slipper orchids (Cypripedioideae: Orchidaceae): nuclear rDNA ITS sequences', ...), Reference(title='Direct Submission', ...)]}\n",
            "Id: Z78441.1\n",
            "Name: Z78441\n",
            "Name: GGAAGGTCATTGCCGATATCACATAATAATTGATCGAGTTAATCTGGAGGATCTGTTTACTTGGTCACCCATGAGCATTTGCTGTTGAAGTGACCTAGATTTGCCATCGAGCCTCCTTGGGAGTTTTCTTGTTGGCGAGATCTAAACCCTTGCCCGGCGGAGTTGTGCGCCAAGTCATATGACACATAATTGGTGAAGGGGGTGGCATCCTGCCCTGACCCTCCCCAAATTATTTTTTTAACAACTCTCAGCAACGGATATCTCGGCTCTTGCATCGATGAAGAACGCAGCGAAATGCGATAAATGGTGTGAATTGCAGAATCCCGTGAACCATCGAGTCTTTGAACGCAAGTTGCGCCCGAGGCCATCAGGCCAAGGGCACGCCTGCCTGGGCATTGCGAGTCATATCTCTCCCTTAACGAGGCTGTCCATACATACTGTTCATCCGGTGCGGATGTGAGTTTGGCCCCTTGTTCTTTGGTACGGGGGGTCTAAGAGCTGCATGGGCATTTGATGGTCCTCAAAACGGCAAGAGGTGGACGAACTATGCTACAACCAAATTGTTGTCCCAAGGCCCCGGGTTGTCGTATTAGATGGGCCACCGTAACCTGAAGACCCTTTTGAACCCCATTGGAGGCCCATCAACCCATGATCAGTTGATGACCATGTGTTGCGACCCCAGTCAGCTGAGCAACGCGCTGAG\n",
            "Description: P.superbiens 5.8S rRNA gene and ITS1 and ITS2 DNA\n",
            "Annotations: {'molecule_type': 'DNA', 'topology': 'linear', 'data_file_division': 'PLN', 'date': '30-NOV-2006', 'accessions': ['Z78441'], 'sequence_version': 1, 'gi': '2765566', 'keywords': ['5.8S ribosomal RNA', '5.8S rRNA gene', 'internal transcribed spacer', 'ITS1', 'ITS2'], 'source': 'Paphiopedilum superbiens', 'organism': 'Paphiopedilum superbiens', 'taxonomy': ['Eukaryota', 'Viridiplantae', 'Streptophyta', 'Embryophyta', 'Tracheophyta', 'Spermatophyta', 'Magnoliophyta', 'Liliopsida', 'Asparagales', 'Orchidaceae', 'Cypripedioideae', 'Paphiopedilum'], 'references': [Reference(title='Phylogenetics of the slipper orchids (Cypripedioideae: Orchidaceae): nuclear rDNA ITS sequences', ...), Reference(title='Direct Submission', ...)]}\n",
            "Id: Z78440.1\n",
            "Name: Z78440\n",
            "Name: CGTAACAAGGTTTCCGTAGGTGGACCTCCGGGAGGATCATTGTTGAGATCACATAATAATTGATCGAGGTAATCTGGAGGATCTGCATATTTTGGTCACCCATGGGCAATTTCTGTTGTAGTGACCTAGAATTTCCATCGACCCTCCTTGGGAGCATTCTTGTTGGCGAGAACTAAACCCTTACCCGGCGCAGTTTTTCCCCCAATCAAATTACACAAAAATGGTGGAGGGGGTGGCATATCTTCCCTTACCCTCCCCCAAATAATTTTTTAACAACTCTCAGCAACGGATATCTCAGCTCTTGCATCGTTGAAGAACCCACCGAAATGCGATAAATGGTGTGAATTGCAGAATCCCGTGAACCATCGAGTCTTTGAACGCAAGTTGCGCCCGAGGCCATCAGGCCAAGGGCACGCCTGCCTGGGCATTGCGAGTCATATCTCTCCCTTAACGAGGCTGTCCATACATACTGTTCAGCCGGTGCGGATGTGAGTTTGGCCCCTTGTTCTTTGCTACGGGGGGTCTAAGAGCTGCATGGGCTTTTGATGGTCCTAAATACGGCAAGAGGTGGACGAACTATGCTACAGCAAAATTGTTGTGCAAAGGCCCCGGGTTGTCGTATTAGATGGGCCACCGTAATCTGAAGACCCTTTTGAACCCCATTGGAGGCCCATCAACCCATGATCAGTTGATGGCCATTTGGTTGCGACCCCAGGTCAGGTGAGGCAACCCCTGAGTTTAGCA\n",
            "Description: P.purpuratum 5.8S rRNA gene and ITS1 and ITS2 DNA\n",
            "Annotations: {'molecule_type': 'DNA', 'topology': 'linear', 'data_file_division': 'PLN', 'date': '30-NOV-2006', 'accessions': ['Z78440'], 'sequence_version': 1, 'gi': '2765565', 'keywords': ['5.8S ribosomal RNA', '5.8S rRNA gene', 'internal transcribed spacer', 'ITS1', 'ITS2'], 'source': 'Paphiopedilum purpuratum', 'organism': 'Paphiopedilum purpuratum', 'taxonomy': ['Eukaryota', 'Viridiplantae', 'Streptophyta', 'Embryophyta', 'Tracheophyta', 'Spermatophyta', 'Magnoliophyta', 'Liliopsida', 'Asparagales', 'Orchidaceae', 'Cypripedioideae', 'Paphiopedilum'], 'references': [Reference(title='Phylogenetics of the slipper orchids (Cypripedioideae: Orchidaceae): nuclear rDNA ITS sequences', ...), Reference(title='Direct Submission', ...)]}\n",
            "Id: Z78439.1\n",
            "Name: Z78439\n",
            "Name: CATTGTTGAGATCACATAATAATTGATCGAGTTAATCTGGAGGATCTGTTTACTTTGGTCACCCATGGGCATTTGCTGTTGAAGTGACCTAGATTTGCCATCGAGCCTCCTTGGGAGCTTTCTTGTTGGCGAGATCTAAACCCCTGCCCGGCGGAGTTGGGCGCCAAGTCATATGACACATAATTGGTGAAGGGGGTGGTAATCCTGCCCTGACCCTCCCCAAATTATTTTTTTAACAACTCTCAGCAACGGATATCTCGGCTCTTGCATCGATGAAGAACGCAGCGAAATGCGATAATGGTGTGAATTGCAGAATCCCGTGAACATCGAGTCTTTGAACGCAAGTTGCGCCCGAGGCCATCAGGCCAAGGGCACGCCTGCCTGGGCATTGCGAGTCATATCTCTCCCTTAATGAGGCTGTCCATACATACTGTTCAGCCGGTGCGGATGTGAGTTTGGCCCCTTGTTCTTTGGTACGGGGGGTCTAAGAGCTGCATGGGCTTTGGATGGTCCTAAATACGGAAAGAGGTGGACGAACTATGCTACAACAAAATTGTTGTGCAAATGCCCCGGTTGGCCGTTTAGTTGGGCC\n",
            "Description: P.barbatum 5.8S rRNA gene and ITS1 and ITS2 DNA\n",
            "Annotations: {'molecule_type': 'DNA', 'topology': 'linear', 'data_file_division': 'PLN', 'date': '30-NOV-2006', 'accessions': ['Z78439'], 'sequence_version': 1, 'gi': '2765564', 'keywords': ['5.8S ribosomal RNA', '5.8S rRNA gene', 'internal transcribed spacer', 'ITS1', 'ITS2'], 'source': 'Paphiopedilum barbatum', 'organism': 'Paphiopedilum barbatum', 'taxonomy': ['Eukaryota', 'Viridiplantae', 'Streptophyta', 'Embryophyta', 'Tracheophyta', 'Spermatophyta', 'Magnoliophyta', 'Liliopsida', 'Asparagales', 'Orchidaceae', 'Cypripedioideae', 'Paphiopedilum'], 'references': [Reference(title='Phylogenetics of the slipper orchids (Cypripedioideae: Orchidaceae): nuclear rDNA ITS sequences', ...), Reference(title='Direct Submission', ...)]}\n"
          ]
        },
        {
          "output_type": "stream",
          "name": "stderr",
          "text": [
            "/usr/local/lib/python3.10/dist-packages/Bio/GenBank/Scanner.py:1225: BiopythonParserWarning: Blank line in sequence data\n",
            "  warnings.warn(\"Blank line in sequence data\", BiopythonParserWarning)\n",
            "/usr/local/lib/python3.10/dist-packages/Bio/GenBank/Scanner.py:1218: BiopythonParserWarning: Premature end of file in sequence data\n",
            "  warnings.warn(\n"
          ]
        }
      ],
      "source": [
        "from Bio.SeqIO import parse #`parse’ class is used to parse the content of the sequence file.\n",
        "records = parse(\"/content/drive/MyDrive/Python_Bioinformatics_ACEGID/orchid.gbk\", \"genbank\")#parse the content of the sequence file and returns the content as the list of\n",
        "#SeqRecord object\n",
        "for record in records:#loops over the records using python for loop and prints the attributes of the\n",
        "#sequence record (SqlRecord) such as id, name, description, sequence data, etc\n",
        "     print(\"Id: %s\" % record.id)\n",
        "     print(\"Name: %s\" % record.name)\n",
        "     print(\"Name: %s\" % record.seq)\n",
        "     print(\"Description: %s\" % record.description)\n",
        "     print(\"Annotations: %s\" % record.annotations)\n"
      ]
    },
    {
      "cell_type": "markdown",
      "metadata": {
        "id": "TiSAzD6ZEQOC"
      },
      "source": [
        "##Get record with highter GC content"
      ]
    },
    {
      "cell_type": "code",
      "execution_count": null,
      "metadata": {
        "colab": {
          "base_uri": "https://localhost:8080/"
        },
        "id": "0hNHg1n5EcYX",
        "outputId": "369fa9d4-935c-4f10-ae8d-3bcdc0a1444c"
      },
      "outputs": [
        {
          "output_type": "stream",
          "name": "stdout",
          "text": [
            "59.5945945945946 gi|2765658|emb|Z78533.1|CIZ78533\n"
          ]
        }
      ],
      "source": [
        "records = parse(\"/content/drive/MyDrive/Python_Bioinformatics_ACEGID/orchid.fasta\", \"fasta\")\n",
        "max=0\n",
        "sequence =[]\n",
        "ids=[]\n",
        "id_max=''\n",
        "GC_counts=[]\n",
        "for seqs in records:\n",
        "    sequence.append(str(seqs.seq))\n",
        "    GC_counts.append(GC(seqs.seq))\n",
        "    ids.append(str(seqs.id))\n",
        "    if(GC(seqs.seq)>max):\n",
        "      max=GC(seqs.seq)\n",
        "      id_max=seqs.id\n",
        "    else:\n",
        "       max=max\n",
        "       id_max=id_max\n",
        "\n",
        "print(max, id_max)\n",
        "\n"
      ]
    },
    {
      "cell_type": "markdown",
      "metadata": {
        "id": "HHFjMjecGDhj"
      },
      "source": [
        "##Function to replace non valid nucleotides by Ns"
      ]
    },
    {
      "cell_type": "code",
      "execution_count": null,
      "metadata": {
        "colab": {
          "base_uri": "https://localhost:8080/"
        },
        "id": "z2peaJ9BGM5z",
        "outputId": "6f126459-f5c9-4272-acc1-db8c7d55301b"
      },
      "outputs": [
        {
          "output_type": "stream",
          "name": "stdout",
          "text": [
            "ACCNGANAN\n"
          ]
        }
      ],
      "source": [
        "\n",
        "def seqprocess(seq):\n",
        "  for nuc in seq:\n",
        "    if nuc not in ['A','C','G','T']:\n",
        "      seq=seq.replace(nuc,'N')\n",
        "\n",
        "  return seq\n",
        "print(seqprocess('ACCFGANAS'))"
      ]
    },
    {
      "cell_type": "markdown",
      "metadata": {
        "id": "2wvkUy42FjFC"
      },
      "source": [
        "##Calculating nucleotide frequencies"
      ]
    },
    {
      "cell_type": "code",
      "execution_count": null,
      "metadata": {
        "colab": {
          "base_uri": "https://localhost:8080/"
        },
        "id": "wyMOihU5EEzf",
        "outputId": "9b5cb3a6-2cc5-44c3-e0e8-1f239b414d08"
      },
      "outputs": [
        {
          "output_type": "stream",
          "name": "stdout",
          "text": [
            "defaultdict(<class 'int'>, {'C': 0.24029733611715753, 'G': 0.2712599766040306, 'T': 0.2548235677372544, 'A': 0.22546014541039194, 'N': 0.008158974131165505})\n"
          ]
        }
      ],
      "source": [
        "from collections import defaultdict\n",
        "records = parse(\"/content/drive/MyDrive/Python_Bioinformatics_ACEGID/orchid.fasta\", \"fasta\")\n",
        "mydict=defaultdict(int)\n",
        "def countfreq(records):\n",
        "  for record in records:\n",
        "   record.seq=seqprocess(record.seq)\n",
        "   for nuc in record.seq:\n",
        "    mydict[nuc]+=1\n",
        "  tot=sum(mydict.values())\n",
        "  for nuc, count in mydict.items():\n",
        "    mydict[nuc]=count/tot\n",
        "  return mydict\n",
        "print(countfreq(records))\n"
      ]
    },
    {
      "cell_type": "markdown",
      "metadata": {
        "id": "kiWEwfCuNuzv"
      },
      "source": [
        "##Nucleotides frequency plot using Matplotib"
      ]
    },
    {
      "cell_type": "code",
      "execution_count": null,
      "metadata": {
        "colab": {
          "base_uri": "https://localhost:8080/",
          "height": 448
        },
        "id": "FhY_ozZYO-jh",
        "outputId": "27c5efb5-3f24-4d4c-e9ee-9b25b1137814"
      },
      "outputs": [
        {
          "output_type": "execute_result",
          "data": {
            "text/plain": [
              "<BarContainer object of 5 artists>"
            ]
          },
          "metadata": {},
          "execution_count": 48
        },
        {
          "output_type": "display_data",
          "data": {
            "text/plain": [
              "<Figure size 640x480 with 1 Axes>"
            ],
            "image/png": "[encoded data removed]"
          },
          "metadata": {}
        }
      ],
      "source": [
        "import matplotlib.pyplot as plt\n",
        "records = parse(\"/content/drive/MyDrive/Python_Bioinformatics_ACEGID/orchid.fasta\", \"fasta\")\n",
        "mydict=defaultdict(int)\n",
        "def countfreq(records):\n",
        "  for record in records:\n",
        "   record.seq=seqprocess(record.seq)\n",
        "   for nuc in record.seq:\n",
        "     mydict[nuc]+=1\n",
        "  #tot=sum(mydict.values())\n",
        "  ##mydict[nuc]=count/tot\n",
        "  return mydict\n",
        "\n",
        "labels, values = zip(*countfreq(records).items())\n",
        "plt.bar(labels, values)"
      ]
    },
    {
      "cell_type": "markdown",
      "metadata": {
        "id": "PvmadVEx-Yet"
      },
      "source": [
        "##Parsing fastq filles"
      ]
    },
    {
      "cell_type": "code",
      "execution_count": null,
      "metadata": {
        "colab": {
          "base_uri": "https://localhost:8080/"
        },
        "id": "lLIpaSD_7bfD",
        "outputId": "97bad40e-22ae-40c1-dacc-123c94d495f7"
      },
      "outputs": [
        {
          "output_type": "stream",
          "name": "stdout",
          "text": [
            "--2023-08-20 18:09:03--  https://ftp.1000genomes.ebi.ac.uk/vol1/ftp/phase3/data/NA18489/sequence_read/SRR003265.filt.fastq.gz\n",
            "Resolving ftp.1000genomes.ebi.ac.uk (ftp.1000genomes.ebi.ac.uk)... 193.62.193.140\n",
            "Connecting to ftp.1000genomes.ebi.ac.uk (ftp.1000genomes.ebi.ac.uk)|193.62.193.140|:443... connected.\n",
            "HTTP request sent, awaiting response... 200 OK\n",
            "Length: 28919712 (28M) [application/x-gzip]\n",
            "Saving to: ‘SRR003265.filt.fastq.gz’\n",
            "\n",
            "SRR003265.filt.fast 100%[===================>]  27.58M   458KB/s    in 63s     \n",
            "\n",
            "2023-08-20 18:10:07 (451 KB/s) - ‘SRR003265.filt.fastq.gz’ saved [28919712/28919712]\n",
            "\n"
          ]
        }
      ],
      "source": [
        "!wget -nd https://ftp.1000genomes.ebi.ac.uk/vol1/ftp/phase3/data/NA18489/sequence_read/SRR003265.filt.fastq.gz\n",
        "\n"
      ]
    },
    {
      "cell_type": "markdown",
      "metadata": {
        "id": "HbOLgNNRCwNE"
      },
      "source": [
        "###Nucleotides frequency plot"
      ]
    },
    {
      "cell_type": "code",
      "execution_count": null,
      "metadata": {
        "colab": {
          "base_uri": "https://localhost:8080/",
          "height": 468
        },
        "id": "4LmlMrcR9pA4",
        "outputId": "279b3948-a931-478f-daf8-7daae1478d5c"
      },
      "outputs": [
        {
          "output_type": "stream",
          "name": "stdout",
          "text": [
            "defaultdict(<class 'int'>, {'G': 0.2067682101902635, 'A': 0.2859606691881634, 'C': 0.21003674990044185, 'T': 0.2957957255854139, 'N': 0.0014386451357173739})\n"
          ]
        },
        {
          "output_type": "display_data",
          "data": {
            "text/plain": [
              "<Figure size 640x480 with 1 Axes>"
            ],
            "image/png": "[encoded data removed]"
          },
          "metadata": {}
        }
      ],
      "source": [
        "import gzip\n",
        "records = parse(gzip.open(\"SRR003265.filt.fastq.gz\",'rt', encoding='utf-8'), \"fastq\")#gzip to unzip the file\n",
        "mydict=defaultdict(int)\n",
        "def countfreq(records):\n",
        "  for record in records:\n",
        "   #record.seq=seqprocess(record.seq)\n",
        "   for nuc in record.seq:\n",
        "     mydict[nuc]+=1\n",
        "  tot=sum(mydict.values())\n",
        "  for nuc, count in mydict.items():\n",
        "    mydict[nuc]=count/tot\n",
        "  return mydict\n",
        "print(countfreq(records))\n",
        "labels, values = zip(*countfreq(records).items())\n",
        "plt.bar(labels, values)\n",
        "plt.show()"
      ]
    },
    {
      "cell_type": "markdown",
      "metadata": {
        "id": "aZzZy7elDrpN"
      },
      "source": [
        "###Plot Distribution of Ns per position"
      ]
    },
    {
      "cell_type": "code",
      "execution_count": null,
      "metadata": {
        "colab": {
          "base_uri": "https://localhost:8080/",
          "height": 430
        },
        "id": "4d0t1nN0DlyV",
        "outputId": "43ebde76-26f4-4523-a79c-928d7e2488b3"
      },
      "outputs": [
        {
          "output_type": "display_data",
          "data": {
            "text/plain": [
              "<Figure size 640x480 with 1 Axes>"
            ],
            "image/png": "[encoded data removed]"
          },
          "metadata": {}
        }
      ],
      "source": [
        "import numpy as np\n",
        "records = parse(gzip.open(\"SRR003265.filt.fastq.gz\",'rt', encoding='utf-8'), \"fastq\")\n",
        "Mydict=defaultdict(int)\n",
        "\n",
        "for record in records:\n",
        "   #record.seq=seqprocess(record.seq)\n",
        "   for i, nuc in enumerate(record.seq):\n",
        "       pos=i+1\n",
        "       if nuc=='N':\n",
        "        Mydict[pos]+=1\n",
        "\n",
        "\n",
        "\n",
        "\n",
        "\n",
        "\n",
        "seq_len=np.array(list(Mydict.keys())).max()#max(Mydict.keys())\n",
        "positions=range(1,seq_len)\n",
        "#fig, ax=plt.subplots(figsize=(12,6))\n",
        "#ax.set_xlim(1,seq_len)\n",
        "#ax.plot(positions,[Mydict[i] for i in positions])\n",
        "plt.plot(positions,[Mydict[i] for i in positions])\n",
        "plt.show()\n"
      ]
    },
    {
      "cell_type": "markdown",
      "metadata": {
        "id": "B9rXsH5GVwt_"
      },
      "source": [
        "###Quality score of reads"
      ]
    },
    {
      "cell_type": "code",
      "execution_count": null,
      "metadata": {
        "colab": {
          "base_uri": "https://localhost:8080/"
        },
        "id": "ghuscUClDqp9",
        "outputId": "50db16d1-a4a0-4ed4-f0d0-5e22e77281e0"
      },
      "outputs": [
        {
          "output_type": "stream",
          "name": "stdout",
          "text": [
            "Quality score 40 : frequency : 77.51 count : 11689792\n",
            "Quality score 30 : frequency : 1.58 count : 237722\n",
            "Quality score 32 : frequency : 1.48 count : 223726\n",
            "Quality score 35 : frequency : 1.36 count : 204865\n",
            "Quality score 29 : frequency : 1.62 count : 244370\n",
            "Quality score 31 : frequency : 1.53 count : 230009\n",
            "Quality score 39 : frequency : 1.21 count : 183195\n",
            "Quality score 28 : frequency : 1.68 count : 252802\n",
            "Quality score 26 : frequency : 1.78 count : 269105\n",
            "Quality score 37 : frequency : 1.28 count : 193729\n",
            "Quality score 34 : frequency : 1.39 count : 210312\n",
            "Quality score 33 : frequency : 1.44 count : 217379\n",
            "Quality score 25 : frequency : 1.85 count : 278703\n",
            "Quality score 38 : frequency : 1.24 count : 187512\n",
            "Quality score 36 : frequency : 1.31 count : 198326\n",
            "Quality score 27 : frequency : 1.73 count : 260329\n"
          ]
        }
      ],
      "source": [
        "records = parse(gzip.open(\"SRR003265.filt.fastq.gz\",'rt', encoding='utf-8'), \"fastq\")\n",
        "qualdict=defaultdict(int)\n",
        "\n",
        "for record in records:\n",
        "   #record.seq=seqprocess(record.seq)\n",
        "   for i, qual in enumerate(record.letter_annotations['phred_quality']):#record.letter_annotations Gives a dictionary of quality scores\n",
        "\n",
        "       if qual <25:# checking quality score per position ignoring firt 24 positions where there is no Ns\n",
        "        continue\n",
        "       qualdict[qual]+=1\n",
        "tot=sum(qualdict.values())\n",
        "for qual, count in qualdict.items():\n",
        "  print(\"Quality score %d : frequency : %.2f count : %d\" %(qual,100*count/tot, count))\n",
        "\n",
        "\n",
        "\n",
        "\n",
        "\n"
      ]
    },
    {
      "cell_type": "markdown",
      "metadata": {
        "id": "perGPCjlf4Bp"
      },
      "source": [
        "###Plot quality score per position using seaborn"
      ]
    },
    {
      "cell_type": "code",
      "execution_count": null,
      "metadata": {
        "colab": {
          "base_uri": "https://localhost:8080/",
          "height": 609
        },
        "id": "G33I-K97Dqm4",
        "outputId": "a4b316b4-fb63-4946-c628-fc11ea6c7b37"
      },
      "outputs": [
        {
          "output_type": "stream",
          "name": "stderr",
          "text": [
            "IOPub data rate exceeded.\n",
            "The notebook server will temporarily stop sending output\n",
            "to the client in order to avoid crashing it.\n",
            "To change this limit, set the config variable\n",
            "`--NotebookApp.iopub_data_rate_limit`.\n",
            "\n",
            "Current values:\n",
            "NotebookApp.iopub_data_rate_limit=1000000.0 (bytes/sec)\n",
            "NotebookApp.rate_limit_window=3.0 (secs)\n",
            "\n"
          ]
        },
        {
          "output_type": "display_data",
          "data": {
            "text/plain": [
              "<Figure size 640x480 with 1 Axes>"
            ],
            "image/png": "[encoded data removed]"
          },
          "metadata": {}
        }
      ],
      "source": [
        "records = parse(gzip.open(\"SRR003265.filt.fastq.gz\",'rt', encoding='utf-8'), \"fastq\")\n",
        "import seaborn as sns\n",
        "qualdict=defaultdict(list)\n",
        "for record in records:\n",
        "   #record.seq=seqprocess(record.seq)\n",
        "   for i, qual in enumerate(record.letter_annotations['phred_quality']):#record.letter_annotations Gives a dictionary of quality scores\n",
        "       if qual <25 or qual==40:# quality score per position ignoring firt 25 positions and quality score=40\n",
        "        continue\n",
        "       pos=i+1\n",
        "       qualdict[pos].append(qual)#update value of pos to qual\n",
        "quallist=[]\n",
        "positions =list(qualdict.keys())\n",
        "positions.sort()\n",
        "print(list(qualdict.keys()))\n",
        "for pos in positions:\n",
        "  quallist.append(qualdict[pos])\n",
        "  print(quallist)\n",
        "#fig, ax =plt.subplots(figsize=(12,8))\n",
        "sns.boxplot(data=quallist)\n",
        "#ax.set_xticklabels([str(x) for x in range(26, np.array(list(qualdict.keys())).max()+1)])\n",
        "plt.show()\n"
      ]
    },
    {
      "cell_type": "markdown",
      "source": [
        "##Introduction to Pandas library"
      ],
      "metadata": {
        "id": "TAwLjzWnT85r"
      }
    },
    {
      "cell_type": "markdown",
      "source": [
        "Pandas is a popular open-source Python library used for data manipulation and analysis. It provides data structures and functions to work with structured data in an easy and efficient way. Here's a brief introduction to some of the key concepts and functions in Pandas:\n",
        "\n",
        "\n",
        "1. **Data Structures**:\n",
        "\n",
        "\n",
        "  * **Series**: A one-dimensional labeled array, similar to a column in a spreadsheet or a single list.\n",
        "\n",
        "  *   **DataFrame**: A two-dimensional table of data with rows and columns, similar to a spreadsheet.\n",
        "\n",
        "\n",
        "\n",
        "2.   **Key Functions**:\n",
        "\n",
        " pd.Series(data, index): Create a Pandas Series object with data and optional custom index.\n",
        "\n",
        "  *  **pd.DataFrame(data, columns, index)**: Create a Pandas DataFrame with data, columns, and optional index.\n",
        "  * ** df.head(n)**: Display the first n rows of a DataFrame.\n",
        "\n",
        "\n",
        "  *  **df.tail(n)**: Display the last n rows of a DataFrame.\n",
        "\n",
        "  *   **df.info()**: Display a summary of the DataFrame's columns, data types, and memory usage.\n",
        "  *   **df.describe()**: Generate descriptive statistics of numerical columns.\n",
        "\n",
        "\n",
        "  *   **df.shape**: Get the dimensions (rows, columns) of the DataFrame.\n",
        "\n",
        "\n",
        "3. **Data Selection and Filtering**:\n",
        "\n",
        "  * **df[column]**: Access a column of a DataFrame by name, returns a Series.\n",
        "  * **df.loc[row_label, column_label]**: Access a cell in a DataFrame by row and column labels.\n",
        "  * **df[condition]**: Filter rows based on a condition.\n",
        "\n",
        "\n",
        "\n",
        "\n",
        "\n",
        "\n",
        "\n",
        "\n",
        "4.  **Data Manipulation**:\n",
        "\n",
        "\n",
        "\n",
        "  *  **df.groupby(column)**: Group data based on a specific column.\n",
        "  *  **df.sort_values(column)**: Sort the DataFrame by a column's values.\n",
        "  * **df.drop(column, axis)**: Drop a column or row from the DataFrame.\n",
        "  *  **df.rename(columns={'old_name': 'new_name'})**: Rename columns.\n",
        "  * **df.apply(function)**: Apply a function to each element in a DataFrame.\n",
        "  \n",
        "\n",
        "  * **df.merge(other_df, on=column)**: Merge two DataFrames based on a common column.\n",
        "\n",
        "\n",
        "\n",
        "\n",
        "\n",
        "\n",
        "\n",
        ".\n",
        "\n",
        "\n",
        "\n",
        "\n",
        "\n",
        "\n",
        "5.   **Data Cleaning**:\n",
        "\n",
        "\n",
        " * **df.isnull()**: Check for missing values.\n",
        " * **df.dropna()**: Remove rows or columns with missing values.\n",
        " * **df.fillna(value)**: Fill missing values with a specified value.\n",
        " * **df.replace(old, new)**: Replace specific values in the DataFrame.\n",
        "\n",
        "\n",
        "\n",
        "\n",
        "\n",
        "\n",
        "\n",
        "\n",
        "\n",
        "\n",
        "\n",
        "\n"
      ],
      "metadata": {
        "id": "3_77yUyJUSTl"
      }
    },
    {
      "cell_type": "markdown",
      "source": [
        "Pandas is widely used in data analysis, data preprocessing, and data wrangling tasks. It's often used in conjunction with other libraries like NumPy, Matplotlib, and Seaborn for more advanced data analysis and visualization."
      ],
      "metadata": {
        "id": "ktIalygQyGeC"
      }
    },
    {
      "cell_type": "markdown",
      "source": [
        "###Data Structures"
      ],
      "metadata": {
        "id": "ECjXtiBgghVF"
      }
    },
    {
      "cell_type": "markdown",
      "source": [
        "Creating series from a list"
      ],
      "metadata": {
        "id": "EPcKYmeVlQeS"
      }
    },
    {
      "cell_type": "code",
      "source": [
        "import pandas as pd\n",
        "\n",
        "List=[1,2,3,4,5]\n",
        "Serie1=pd.Series(List)#with default indexing\n",
        "Serie2=pd.Series(List,index=['a','b','c','d','e'])#Define our indexes\n",
        "\n",
        "\n",
        "print(Serie1)\n",
        "print(Serie2)\n"
      ],
      "metadata": {
        "colab": {
          "base_uri": "https://localhost:8080/"
        },
        "id": "6qfgG0ublPof",
        "outputId": "d8fc1dc2-fc04-4b06-80cf-301198632c6d"
      },
      "execution_count": null,
      "outputs": [
        {
          "output_type": "stream",
          "name": "stdout",
          "text": [
            "0    1\n",
            "1    2\n",
            "2    3\n",
            "3    4\n",
            "4    5\n",
            "dtype: int64\n",
            "a    1\n",
            "b    2\n",
            "c    3\n",
            "d    4\n",
            "e    5\n",
            "dtype: int64\n"
          ]
        }
      ]
    },
    {
      "cell_type": "markdown",
      "source": [
        "Creating series from a dictionary"
      ],
      "metadata": {
        "id": "g5_BODEYtWZE"
      }
    },
    {
      "cell_type": "code",
      "source": [
        "mydict={'A':4,'B':3,'C':7}\n",
        "Serie=pd.Series(data=mydict)#the Index is first build with the keys from the dictionary.\n",
        "print(Serie)"
      ],
      "metadata": {
        "colab": {
          "base_uri": "https://localhost:8080/"
        },
        "id": "l2XlG1xAtfEk",
        "outputId": "3460605c-12f4-404d-debc-c6cb4bdc7306"
      },
      "execution_count": null,
      "outputs": [
        {
          "output_type": "stream",
          "name": "stdout",
          "text": [
            "A    4\n",
            "B    3\n",
            "C    7\n",
            "dtype: int64\n"
          ]
        }
      ]
    },
    {
      "cell_type": "markdown",
      "source": [
        "DataFrame"
      ],
      "metadata": {
        "id": "kYFB9RV3yZ2m"
      }
    },
    {
      "cell_type": "markdown",
      "source": [
        "Dataframe using a list"
      ],
      "metadata": {
        "id": "z8VfFbj6ykBU"
      }
    },
    {
      "cell_type": "code",
      "source": [
        "List=[1,2,3,4,5]\n",
        "df=pd.DataFrame(List)\n",
        "print(df)\n"
      ],
      "metadata": {
        "colab": {
          "base_uri": "https://localhost:8080/"
        },
        "id": "nfReBVquy3Al",
        "outputId": "741b98ea-460a-4aff-d0f3-c7403b9835e9"
      },
      "execution_count": null,
      "outputs": [
        {
          "output_type": "stream",
          "name": "stdout",
          "text": [
            "   0\n",
            "0  1\n",
            "1  2\n",
            "2  3\n",
            "3  4\n",
            "4  5\n"
          ]
        }
      ]
    },
    {
      "cell_type": "markdown",
      "source": [
        "Multi columns"
      ],
      "metadata": {
        "id": "gSlhr_JG1d5T"
      }
    },
    {
      "cell_type": "code",
      "source": [
        "List1=[[1,2,3,4,5], [6,7,8,9,10]]\n",
        "df=pd.DataFrame(List1)\n",
        "print(df)\n"
      ],
      "metadata": {
        "colab": {
          "base_uri": "https://localhost:8080/"
        },
        "id": "VD9-kKd3zY06",
        "outputId": "c46b4a5d-4244-4452-aae6-0aad65e279a6"
      },
      "execution_count": null,
      "outputs": [
        {
          "output_type": "stream",
          "name": "stdout",
          "text": [
            "   0  1  2  3   4\n",
            "0  1  2  3  4   5\n",
            "1  6  7  8  9  10\n"
          ]
        }
      ]
    },
    {
      "cell_type": "code",
      "source": [
        "List1=[[1,2,3,4,5], [6,7,8,9,10]]\n",
        "df=pd.DataFrame(List1,columns=['Num1','Num2','Num3','Num4','Num5'])#Defining column names\n",
        "print(df)\n",
        "df_index=pd.DataFrame(List1,columns=['Num1','Num2','Num3','Num4','Num5'],index=['row1','row2'])#Defining column names\n",
        "print(df_index)"
      ],
      "metadata": {
        "colab": {
          "base_uri": "https://localhost:8080/"
        },
        "id": "D5DuvgOX2uZn",
        "outputId": "f3514d33-b5dc-430d-b6c9-93a86329b56f"
      },
      "execution_count": null,
      "outputs": [
        {
          "output_type": "stream",
          "name": "stdout",
          "text": [
            "   Num1  Num2  Num3  Num4  Num5\n",
            "0     1     2     3     4     5\n",
            "1     6     7     8     9    10\n",
            "      Num1  Num2  Num3  Num4  Num5\n",
            "row1     1     2     3     4     5\n",
            "row2     6     7     8     9    10\n"
          ]
        }
      ]
    },
    {
      "cell_type": "markdown",
      "source": [
        "Dataframe from dictionary"
      ],
      "metadata": {
        "id": "P6uZCr0H8vtu"
      }
    },
    {
      "cell_type": "code",
      "source": [
        "mydict={'Biology':15,'Maths':12,'Stats':13,'Proba':10,'English':17,'French':8}\n",
        "df=pd.DataFrame([mydict])#keys represent column names\n",
        "print(df)"
      ],
      "metadata": {
        "colab": {
          "base_uri": "https://localhost:8080/"
        },
        "id": "M-UL8OzX80Rn",
        "outputId": "371a70ed-a9f4-4ee2-8d9c-78e017c0e247"
      },
      "execution_count": null,
      "outputs": [
        {
          "output_type": "stream",
          "name": "stdout",
          "text": [
            "   Biology  Maths  Stats  Proba  English  French\n",
            "0       15     12     13     10       17       8\n"
          ]
        }
      ]
    },
    {
      "cell_type": "code",
      "source": [
        "mydict=[{'Biology':15,'Maths':12,'Stats':13,'Proba':10,'English':17,'French':8},{'Biology':10,'Maths':11,'Stats':6,'Proba':9,'English':12,'French':11},{'Biology':10,'Maths':7,'Stats':17,'Proba':12,'English':16,'French':14},{'Biology':14,'Maths':12,'Stats':12,'Proba':7,'English':13,'French':12},{'Biology':14,'Maths':9,'Stats':13,'Proba':16,'English':16,'French':15},{'Biology':12,'Maths':17,'Stats':8,'Proba':9,'English':14,'French':15}]\n",
        "df=pd.DataFrame(mydict,index=['student1','student2','student3','student4','student5','student6'])#keys represent column names\n",
        "print(df)"
      ],
      "metadata": {
        "colab": {
          "base_uri": "https://localhost:8080/"
        },
        "id": "fUO5tb-6_jSV",
        "outputId": "06fc82e8-61e1-493f-bdd1-1e53679f48e7"
      },
      "execution_count": null,
      "outputs": [
        {
          "output_type": "stream",
          "name": "stdout",
          "text": [
            "          Biology  Maths  Stats  Proba  English  French\n",
            "student1       15     12     13     10       17       8\n",
            "student2       10     11      6      9       12      11\n",
            "student3       10      7     17     12       16      14\n",
            "student4       14     12     12      7       13      12\n",
            "student5       14      9     13     16       16      15\n",
            "student6       12     17      8      9       14      15\n"
          ]
        }
      ]
    },
    {
      "cell_type": "code",
      "source": [
        "mydict={'Biology':[15,10,10,14,14,12],'Maths':[12,11,7,12,9,17],'Stats':[13,6,17,12,13,8],'Proba':[10,9,12,7,16,9],'English':[17,12,16,13,16,14],'French':[8,11,14,12,15,15]}\n",
        "df=pd.DataFrame(mydict,index=['student1','student2','student3','student4','student5','student6'])#keys represent column names\n",
        "print(df)"
      ],
      "metadata": {
        "colab": {
          "base_uri": "https://localhost:8080/"
        },
        "id": "ec1BujF3Gu8Z",
        "outputId": "e0037583-7db6-487f-fd53-d961b1de87e3"
      },
      "execution_count": null,
      "outputs": [
        {
          "output_type": "stream",
          "name": "stdout",
          "text": [
            "          Biology  Maths  Stats  Proba  English  French\n",
            "student1       15     12     13     10       17       8\n",
            "student2       10     11      6      9       12      11\n",
            "student3       10      7     17     12       16      14\n",
            "student4       14     12     12      7       13      12\n",
            "student5       14      9     13     16       16      15\n",
            "student6       12     17      8      9       14      15\n"
          ]
        }
      ]
    },
    {
      "cell_type": "markdown",
      "source": [
        "Dataframe from a serie"
      ],
      "metadata": {
        "id": "2QvMwWdPBEpE"
      }
    },
    {
      "cell_type": "code",
      "source": [
        "\n",
        "Serie={'Biology':pd.Series([15,10,10,14,14,12]),'Maths':pd.Series([12,11,7,12,9,17]),'Stats':pd.Series([13,6,17,12,13,8]),'Proba':pd.Series([10,9,12,7,16,9]),'English':pd.Series([17,12,16,13,16,14]),'French':pd.Series([8,11,14,12,15,15])}\n",
        "df=pd.DataFrame(Serie)\n",
        "df.to_csv('myfistdataframe.csv',index=False)#writing df to myfistdataframe.csv. index-False to avoid creating an index in the saved file\n",
        "\n",
        "print(df)"
      ],
      "metadata": {
        "colab": {
          "base_uri": "https://localhost:8080/"
        },
        "id": "lxbfork1BITP",
        "outputId": "c0e5cc84-1889-47b3-c8a6-8762cffd8241"
      },
      "execution_count": null,
      "outputs": [
        {
          "output_type": "stream",
          "name": "stdout",
          "text": [
            "   Biology  Maths  Stats  Proba  English  French\n",
            "0       15     12     13     10       17       8\n",
            "1       10     11      6      9       12      11\n",
            "2       10      7     17     12       16      14\n",
            "3       14     12     12      7       13      12\n",
            "4       14      9     13     16       16      15\n",
            "5       12     17      8      9       14      15\n"
          ]
        }
      ]
    },
    {
      "cell_type": "code",
      "source": [
        "df=pd.read_csv('myfistdataframe.csv')#Reading the csv file\n",
        "print(df)"
      ],
      "metadata": {
        "colab": {
          "base_uri": "https://localhost:8080/"
        },
        "id": "NEOWUaDVJCUI",
        "outputId": "c5db9953-30cd-48d0-b489-706c87d00274"
      },
      "execution_count": null,
      "outputs": [
        {
          "output_type": "stream",
          "name": "stdout",
          "text": [
            "   Biology  Maths  Stats  Proba  English  French\n",
            "0       15     12     13     10       17       8\n",
            "1       10     11      6      9       12      11\n",
            "2       10      7     17     12       16      14\n",
            "3       14     12     12      7       13      12\n",
            "4       14      9     13     16       16      15\n",
            "5       12     17      8      9       14      15\n"
          ]
        }
      ]
    },
    {
      "cell_type": "markdown",
      "source": [
        "Display the first 3 rows of a DataFrame."
      ],
      "metadata": {
        "id": "Rz40ty_jKy45"
      }
    },
    {
      "cell_type": "code",
      "source": [
        "print(df.head(3))"
      ],
      "metadata": {
        "colab": {
          "base_uri": "https://localhost:8080/"
        },
        "id": "Ny3TBwOCK_cy",
        "outputId": "4fd32fbc-c480-4049-d99c-76b61e9b8688"
      },
      "execution_count": null,
      "outputs": [
        {
          "output_type": "stream",
          "name": "stdout",
          "text": [
            "   Biology  Maths  Stats  Proba  English  French\n",
            "0       15     12     13     10       17       8\n",
            "1       10     11      6      9       12      11\n",
            "2       10      7     17     12       16      14\n"
          ]
        }
      ]
    },
    {
      "cell_type": "markdown",
      "source": [
        "Display the last 3 rows of a DataFrame."
      ],
      "metadata": {
        "id": "rG6MAOQQmft3"
      }
    },
    {
      "cell_type": "code",
      "source": [
        "print(df.tail(3))"
      ],
      "metadata": {
        "colab": {
          "base_uri": "https://localhost:8080/"
        },
        "id": "qYcmSQvtLIBS",
        "outputId": "b10c5e6e-7e95-49f1-c28f-6705fc45730c"
      },
      "execution_count": null,
      "outputs": [
        {
          "output_type": "stream",
          "name": "stdout",
          "text": [
            "   Biology  Maths  Stats  Proba  English  French\n",
            "3       14     12     12      7       13      12\n",
            "4       14      9     13     16       16      15\n",
            "5       12     17      8      9       14      15\n"
          ]
        }
      ]
    },
    {
      "cell_type": "markdown",
      "source": [
        "Display a summary of the DataFrame's columns, data types, and memory usage."
      ],
      "metadata": {
        "id": "PrgNYhi5lumG"
      }
    },
    {
      "cell_type": "code",
      "source": [
        "print(df.info())"
      ],
      "metadata": {
        "colab": {
          "base_uri": "https://localhost:8080/"
        },
        "id": "_6ORl0X2LN1g",
        "outputId": "7999ce8a-782b-4af5-ba4b-a541ee75cbca"
      },
      "execution_count": null,
      "outputs": [
        {
          "output_type": "stream",
          "name": "stdout",
          "text": [
            "<class 'pandas.core.frame.DataFrame'>\n",
            "RangeIndex: 6 entries, 0 to 5\n",
            "Data columns (total 6 columns):\n",
            " #   Column   Non-Null Count  Dtype\n",
            "---  ------   --------------  -----\n",
            " 0   Biology  6 non-null      int64\n",
            " 1   Maths    6 non-null      int64\n",
            " 2   Stats    6 non-null      int64\n",
            " 3   Proba    6 non-null      int64\n",
            " 4   English  6 non-null      int64\n",
            " 5   French   6 non-null      int64\n",
            "dtypes: int64(6)\n",
            "memory usage: 416.0 bytes\n",
            "None\n"
          ]
        }
      ]
    },
    {
      "cell_type": "markdown",
      "source": [
        "Generate descriptive statistics of numerical columns."
      ],
      "metadata": {
        "id": "i1bTUqOhl1cK"
      }
    },
    {
      "cell_type": "code",
      "source": [
        "print(df.describe())"
      ],
      "metadata": {
        "colab": {
          "base_uri": "https://localhost:8080/"
        },
        "id": "n68qI1yKl2Kw",
        "outputId": "7a38986c-3995-4e75-bbfb-78fcaafcf2f0"
      },
      "execution_count": null,
      "outputs": [
        {
          "output_type": "stream",
          "name": "stdout",
          "text": [
            "         Biology      Maths      Stats      Proba    English     French\n",
            "count   6.000000   6.000000   6.000000   6.000000   6.000000   6.000000\n",
            "mean   12.500000  11.333333  11.500000  10.500000  14.666667  12.500000\n",
            "std     2.167948   3.386247   3.937004   3.146427   1.966384   2.738613\n",
            "min    10.000000   7.000000   6.000000   7.000000  12.000000   8.000000\n",
            "25%    10.500000   9.500000   9.000000   9.000000  13.250000  11.250000\n",
            "50%    13.000000  11.500000  12.500000   9.500000  15.000000  13.000000\n",
            "75%    14.000000  12.000000  13.000000  11.500000  16.000000  14.750000\n",
            "max    15.000000  17.000000  17.000000  16.000000  17.000000  15.000000\n"
          ]
        }
      ]
    },
    {
      "cell_type": "markdown",
      "source": [
        "Get the dimensions (rows, columns) of the DataFrame."
      ],
      "metadata": {
        "id": "qtJV8GRj4Lls"
      }
    },
    {
      "cell_type": "code",
      "source": [
        "print(df.shape)"
      ],
      "metadata": {
        "colab": {
          "base_uri": "https://localhost:8080/"
        },
        "id": "rt6Bi7fI4Pmw",
        "outputId": "c5c5ac93-e965-401d-8e91-9dd8f3538e12"
      },
      "execution_count": null,
      "outputs": [
        {
          "output_type": "stream",
          "name": "stdout",
          "text": [
            "(6, 6)\n"
          ]
        }
      ]
    },
    {
      "cell_type": "markdown",
      "source": [
        "### Data Selection and Filtering"
      ],
      "metadata": {
        "id": "vEACeLuh4aHM"
      }
    },
    {
      "cell_type": "markdown",
      "source": [
        "Access a column of a DataFrame by name, returns a Series."
      ],
      "metadata": {
        "id": "HsEfeCMB4erY"
      }
    },
    {
      "cell_type": "code",
      "source": [
        "print(df['Biology'])"
      ],
      "metadata": {
        "colab": {
          "base_uri": "https://localhost:8080/"
        },
        "id": "Fjlt7iM84buy",
        "outputId": "e63fec0b-ff0d-4890-b888-02f086c7901c"
      },
      "execution_count": null,
      "outputs": [
        {
          "output_type": "stream",
          "name": "stdout",
          "text": [
            "0    15\n",
            "1    10\n",
            "2    10\n",
            "3    14\n",
            "4    14\n",
            "5    12\n",
            "Name: Biology, dtype: int64\n"
          ]
        }
      ]
    },
    {
      "cell_type": "markdown",
      "source": [
        "Access a cell in a DataFrame by integer row and column indices"
      ],
      "metadata": {
        "id": "jcPb4F2d47C6"
      }
    },
    {
      "cell_type": "code",
      "source": [
        "print(df.iloc[0,0])#Value in intersection between row (0+1=1) and column (0+1=1).\n",
        "print(df.iloc[2,-1])#Value in intersection between row (2+1=3) and last column."
      ],
      "metadata": {
        "colab": {
          "base_uri": "https://localhost:8080/"
        },
        "id": "swnPPKRF49tl",
        "outputId": "cd87c21a-7632-4519-88a5-36d20a718298"
      },
      "execution_count": null,
      "outputs": [
        {
          "output_type": "stream",
          "name": "stdout",
          "text": [
            "15\n",
            "14\n"
          ]
        }
      ]
    },
    {
      "cell_type": "markdown",
      "source": [
        "Filter rows based on a condition"
      ],
      "metadata": {
        "id": "bLxrbv_L6T3Z"
      }
    },
    {
      "cell_type": "markdown",
      "source": [
        "For example, let's select only rows where values in column Biology are greater than or equal to 12"
      ],
      "metadata": {
        "id": "ujMzpoZT67Va"
      }
    },
    {
      "cell_type": "code",
      "source": [
        "df_B12=df.loc[df['Biology']>=12]#df[df['Biology']>=12]\n",
        "print(df_B12)"
      ],
      "metadata": {
        "colab": {
          "base_uri": "https://localhost:8080/"
        },
        "id": "l-c_kh2S6X6t",
        "outputId": "b2278f6b-1946-4cf8-975f-d6d5038d530d"
      },
      "execution_count": null,
      "outputs": [
        {
          "output_type": "stream",
          "name": "stdout",
          "text": [
            "   Biology  Maths  Stats  Proba  English  French\n",
            "0       15     12     13     10       17       8\n",
            "3       14     12     12      7       13      12\n",
            "4       14      9     13     16       16      15\n",
            "5       12     17      8      9       14      15\n"
          ]
        }
      ]
    },
    {
      "cell_type": "markdown",
      "source": [
        "To select only rows where values in column Biology are greater than or equal to 12 and values in  column Maths are less than 17"
      ],
      "metadata": {
        "id": "KqUh7FhwA3gP"
      }
    },
    {
      "cell_type": "code",
      "source": [
        "df_B12S17=df.loc[(df['Biology']>=12)&(df['Maths']<17)]\n",
        "print(df_B12S17)"
      ],
      "metadata": {
        "colab": {
          "base_uri": "https://localhost:8080/"
        },
        "id": "5eFZjrtj7Z_K",
        "outputId": "3c800af3-bf23-4b27-f5e5-d8c04b2b7348"
      },
      "execution_count": null,
      "outputs": [
        {
          "output_type": "stream",
          "name": "stdout",
          "text": [
            "   Biology  Maths  Stats  Proba  English  French\n",
            "0       15     12     13     10       17       8\n",
            "3       14     12     12      7       13      12\n",
            "4       14      9     13     16       16      15\n"
          ]
        }
      ]
    },
    {
      "cell_type": "markdown",
      "source": [
        "###Adding new columns"
      ],
      "metadata": {
        "id": "SyQtdkRzFfHv"
      }
    },
    {
      "cell_type": "code",
      "source": [
        "gendercol=['F','F','M','F','M','F']\n",
        "df['Gender']=gendercol\n",
        "print(df)"
      ],
      "metadata": {
        "colab": {
          "base_uri": "https://localhost:8080/"
        },
        "id": "WLbdMaJxIyx7",
        "outputId": "2197f10c-df15-4b87-cb62-3661260ecd62"
      },
      "execution_count": null,
      "outputs": [
        {
          "output_type": "stream",
          "name": "stdout",
          "text": [
            "   Biology  Maths  Stats  Proba  English  French Gender\n",
            "0       15     12     13     10       17       8      F\n",
            "1       10     11      6      9       12      11      F\n",
            "2       10      7     17     12       16      14      M\n",
            "3       14     12     12      7       13      12      F\n",
            "4       14      9     13     16       16      15      M\n",
            "5       12     17      8      9       14      15      F\n"
          ]
        }
      ]
    },
    {
      "cell_type": "markdown",
      "source": [
        "###Data Manipulation"
      ],
      "metadata": {
        "id": "1O8OEZjRDW0F"
      }
    },
    {
      "cell_type": "markdown",
      "source": [
        "Group data based on a specific column."
      ],
      "metadata": {
        "id": "58__GF7AD-zs"
      }
    },
    {
      "cell_type": "markdown",
      "source": [
        "Let's group by Gender and compute the mean values"
      ],
      "metadata": {
        "id": "rwO-EYTTJ7iT"
      }
    },
    {
      "cell_type": "code",
      "source": [
        "print(df.groupby('Gender').mean())"
      ],
      "metadata": {
        "colab": {
          "base_uri": "https://localhost:8080/"
        },
        "id": "m7-UCKM5DY1h",
        "outputId": "cdd68621-9a97-4a84-a1a5-a9fd433a0e7b"
      },
      "execution_count": null,
      "outputs": [
        {
          "output_type": "stream",
          "name": "stdout",
          "text": [
            "        Biology  Maths  Stats  Proba  English  French\n",
            "Gender                                               \n",
            "F         12.75   13.0   9.75   8.75     14.0    11.5\n",
            "M         12.00    8.0  15.00  14.00     16.0    14.5\n"
          ]
        }
      ]
    },
    {
      "cell_type": "markdown",
      "source": [
        "###Data Cleaning"
      ],
      "metadata": {
        "id": "V3Y6fL30KNmr"
      }
    },
    {
      "cell_type": "markdown",
      "source": [
        "Check for missing values"
      ],
      "metadata": {
        "id": "yPs0TgGpKaRC"
      }
    },
    {
      "cell_type": "code",
      "source": [
        "print(df.isna())"
      ],
      "metadata": {
        "colab": {
          "base_uri": "https://localhost:8080/"
        },
        "id": "k7HZIYBbKbBB",
        "outputId": "5f011fb0-09b8-4547-d6da-8d947dba1850"
      },
      "execution_count": null,
      "outputs": [
        {
          "output_type": "stream",
          "name": "stdout",
          "text": [
            "   Biology  Maths  Stats  Proba  English  French  Gender\n",
            "0    False  False  False  False    False   False   False\n",
            "1    False  False  False  False    False   False   False\n",
            "2    False  False  False  False    False   False   False\n",
            "3    False  False  False  False    False   False   False\n",
            "4    False  False  False  False    False   False   False\n",
            "5    False  False  False  False    False   False   False\n"
          ]
        }
      ]
    },
    {
      "cell_type": "markdown",
      "source": [
        "Give number of missing values in each column"
      ],
      "metadata": {
        "id": "mDFqEwXkLTFN"
      }
    },
    {
      "cell_type": "code",
      "source": [
        "print(df.isna().sum())"
      ],
      "metadata": {
        "colab": {
          "base_uri": "https://localhost:8080/"
        },
        "id": "H7tyIho1LSrs",
        "outputId": "c1f60e0a-9ae1-4704-da99-aa23d68338ca"
      },
      "execution_count": null,
      "outputs": [
        {
          "output_type": "stream",
          "name": "stdout",
          "text": [
            "Biology    0\n",
            "Maths      0\n",
            "Stats      0\n",
            "Proba      0\n",
            "English    0\n",
            "French     0\n",
            "Gender     0\n",
            "dtype: int64\n"
          ]
        }
      ]
    },
    {
      "cell_type": "markdown",
      "source": [
        "Add Age column with some missing values"
      ],
      "metadata": {
        "id": "50s7J5OzMXJw"
      }
    },
    {
      "cell_type": "code",
      "source": [
        "import numpy as np\n",
        "newcol=[23,21,np.nan,24,np.nan,20]\n",
        "df['Age']=newcol\n",
        "print(df)"
      ],
      "metadata": {
        "colab": {
          "base_uri": "https://localhost:8080/"
        },
        "id": "IQslyqJmMKXX",
        "outputId": "45a2e05b-f9ff-4b71-ae3e-33d4b7f8f2fa"
      },
      "execution_count": null,
      "outputs": [
        {
          "output_type": "stream",
          "name": "stdout",
          "text": [
            "   Biology  Maths  Stats  Proba  English  French Gender   Age\n",
            "0       15     12     13     10       17       8      F  23.0\n",
            "1       10     11      6      9       12      11      F  21.0\n",
            "2       10      7     17     12       16      14      M   NaN\n",
            "3       14     12     12      7       13      12      F  24.0\n",
            "4       14      9     13     16       16      15      M   NaN\n",
            "5       12     17      8      9       14      15      F  20.0\n"
          ]
        }
      ]
    },
    {
      "cell_type": "code",
      "source": [
        "print(df.isna().sum())"
      ],
      "metadata": {
        "colab": {
          "base_uri": "https://localhost:8080/"
        },
        "id": "eCZqhKjDMzHK",
        "outputId": "59f509fe-55d2-4e4a-d638-143bf3e97036"
      },
      "execution_count": null,
      "outputs": [
        {
          "output_type": "stream",
          "name": "stdout",
          "text": [
            "Biology    0\n",
            "Maths      0\n",
            "Stats      0\n",
            "Proba      0\n",
            "English    0\n",
            "French     0\n",
            "Gender     0\n",
            "Age        2\n",
            "dtype: int64\n"
          ]
        }
      ]
    },
    {
      "cell_type": "markdown",
      "source": [
        "We have 2 missing values in Age column."
      ],
      "metadata": {
        "id": "n4laEA87M6jI"
      }
    },
    {
      "cell_type": "markdown",
      "source": [
        "Remove rows or columns with missing values."
      ],
      "metadata": {
        "id": "bU4tvT_lNyE8"
      }
    },
    {
      "cell_type": "code",
      "source": [
        "print(df.dropna())"
      ],
      "metadata": {
        "colab": {
          "base_uri": "https://localhost:8080/"
        },
        "id": "tDIhoh-0N4jj",
        "outputId": "f05da880-e70d-4142-b7a4-cd68f4c6b523"
      },
      "execution_count": null,
      "outputs": [
        {
          "output_type": "stream",
          "name": "stdout",
          "text": [
            "   Biology  Maths  Stats  Proba  English  French Gender   Age\n",
            "0       15     12     13     10       17       8      F  23.0\n",
            "1       10     11      6      9       12      11      F  21.0\n",
            "3       14     12     12      7       13      12      F  24.0\n",
            "5       12     17      8      9       14      15      F  20.0\n"
          ]
        }
      ]
    },
    {
      "cell_type": "markdown",
      "source": [
        "Fill missing values with a specified value."
      ],
      "metadata": {
        "id": "61AZR2iNOEEy"
      }
    },
    {
      "cell_type": "markdown",
      "source": [
        "Fill missing values with 0."
      ],
      "metadata": {
        "id": "O9W3GO6VOZQA"
      }
    },
    {
      "cell_type": "code",
      "source": [
        "print(df.fillna(0))"
      ],
      "metadata": {
        "colab": {
          "base_uri": "https://localhost:8080/"
        },
        "id": "Nv36PSYCONqp",
        "outputId": "c7e54825-d60c-4b6f-8642-1c14524605dc"
      },
      "execution_count": null,
      "outputs": [
        {
          "output_type": "stream",
          "name": "stdout",
          "text": [
            "   Biology  Maths  Stats  Proba  English  French Gender   Age\n",
            "0       15     12     13     10       17       8      F  23.0\n",
            "1       10     11      6      9       12      11      F  21.0\n",
            "2       10      7     17     12       16      14      M   0.0\n",
            "3       14     12     12      7       13      12      F  24.0\n",
            "4       14      9     13     16       16      15      M   0.0\n",
            "5       12     17      8      9       14      15      F  20.0\n"
          ]
        }
      ]
    },
    {
      "cell_type": "markdown",
      "source": [
        "Fill missing values with  mean value"
      ],
      "metadata": {
        "id": "w4DMfhtAOecR"
      }
    },
    {
      "cell_type": "code",
      "source": [
        "print(df.fillna(df['Age'].mean()))"
      ],
      "metadata": {
        "colab": {
          "base_uri": "https://localhost:8080/"
        },
        "id": "gZ6cizepOeHM",
        "outputId": "1eb44af9-45ea-4cfe-a0b7-600844de307b"
      },
      "execution_count": null,
      "outputs": [
        {
          "output_type": "stream",
          "name": "stdout",
          "text": [
            "   Biology  Maths  Stats  Proba  English  French Gender   Age\n",
            "0       15     12     13     10       17       8      F  23.0\n",
            "1       10     11      6      9       12      11      F  21.0\n",
            "2       10      7     17     12       16      14      M  22.0\n",
            "3       14     12     12      7       13      12      F  24.0\n",
            "4       14      9     13     16       16      15      M  22.0\n",
            "5       12     17      8      9       14      15      F  20.0\n"
          ]
        }
      ]
    },
    {
      "cell_type": "markdown",
      "source": [
        "Fill missing values with median value."
      ],
      "metadata": {
        "id": "JTz-clHjOtUX"
      }
    },
    {
      "cell_type": "code",
      "source": [
        "print(df.fillna(df['Age'].median()))"
      ],
      "metadata": {
        "colab": {
          "base_uri": "https://localhost:8080/"
        },
        "id": "2R07165LPAKp",
        "outputId": "62fe46f7-0861-41f0-8656-218ffd2461f6"
      },
      "execution_count": null,
      "outputs": [
        {
          "output_type": "stream",
          "name": "stdout",
          "text": [
            "   Biology  Maths  Stats  Proba  English  French Gender   Age\n",
            "0       15     12     13     10       17       8      F  23.0\n",
            "1       10     11      6      9       12      11      F  21.0\n",
            "2       10      7     17     12       16      14      M  22.0\n",
            "3       14     12     12      7       13      12      F  24.0\n",
            "4       14      9     13     16       16      15      M  22.0\n",
            "5       12     17      8      9       14      15      F  20.0\n"
          ]
        }
      ]
    },
    {
      "cell_type": "markdown",
      "source": [
        "##Visualization using matplotlib and seaborn"
      ],
      "metadata": {
        "id": "Hv-sbh9cWRn9"
      }
    },
    {
      "cell_type": "markdown",
      "source": [
        "Certainly! Both Matplotlib and Seaborn are popular Python libraries used for data visualization. While Matplotlib provides a wide range of customizable plotting functions, Seaborn is built on top of Matplotlib and offers a higher-level interface for creating attractive and informative statistical graphics."
      ],
      "metadata": {
        "id": "zGhTT6MDWrDm"
      }
    },
    {
      "cell_type": "markdown",
      "source": [
        "###Matplotlib"
      ],
      "metadata": {
        "id": "0u67eBCfXTbP"
      }
    },
    {
      "cell_type": "markdown",
      "source": [
        "Line plot"
      ],
      "metadata": {
        "id": "u0CtpItxbDz1"
      }
    },
    {
      "cell_type": "code",
      "source": [
        "import matplotlib.pyplot as plt\n",
        "\n",
        "Age=[18,17,27,40,50,61,21,55,29,43,11]\n",
        "Income=[age*200 for age in Age]\n",
        "Gender=['F','F','M','F','F','M','M','M','F','M','M']\n",
        "mydataframe=pd.DataFrame({\"Age\":Age,\"Income\":Income,\"Gender\":Gender})\n",
        "print(mydataframe)\n",
        "plt.plot(\"Age\",\"Income\",data=mydataframe,color='b',marker='o')# Create a line plot\n",
        "#Adding labels\n",
        "plt.xlabel('Age')\n",
        "plt.ylabel('Income')\n",
        "#Adding title\n",
        "plt.title('AgevsIncome')\n",
        "plt.show()"
      ],
      "metadata": {
        "colab": {
          "base_uri": "https://localhost:8080/",
          "height": 686
        },
        "id": "Vj2JSo6WVEc0",
        "outputId": "59e11b2d-5f78-4cbd-827b-b36dee2debba"
      },
      "execution_count": null,
      "outputs": [
        {
          "output_type": "stream",
          "name": "stdout",
          "text": [
            "    Age  Income Gender\n",
            "0    18    3600      F\n",
            "1    17    3400      F\n",
            "2    27    5400      M\n",
            "3    40    8000      F\n",
            "4    50   10000      F\n",
            "5    61   12200      M\n",
            "6    21    4200      M\n",
            "7    55   11000      M\n",
            "8    29    5800      F\n",
            "9    43    8600      M\n",
            "10   11    2200      M\n"
          ]
        },
        {
          "output_type": "display_data",
          "data": {
            "text/plain": [
              "<Figure size 640x480 with 1 Axes>"
            ],
            "image/png": "[encoded data removed]"
          },
          "metadata": {}
        }
      ]
    },
    {
      "cell_type": "markdown",
      "source": [
        "Scatter plot"
      ],
      "metadata": {
        "id": "uS4tZLc0yFrU"
      }
    },
    {
      "cell_type": "code",
      "source": [
        "import matplotlib.pyplot as plt\n",
        "weight=[40,60,50,90,55,77,105,88,91,68,60]\n",
        "mydataframe['Weight']=weight\n",
        "print(mydataframe)\n",
        "plt.scatter('Weight','Income',data=mydataframe)# Create a line plot\n",
        "#Adding title\n",
        "plt.title('WeightvsIncome')\n",
        "#Adding labels\n",
        "plt.xlabel('Weight')\n",
        "plt.ylabel('Income')\n",
        "plt.show()"
      ],
      "metadata": {
        "colab": {
          "base_uri": "https://localhost:8080/",
          "height": 686
        },
        "id": "n8MNbcRyyHZw",
        "outputId": "9689eece-c028-4d39-e223-6186be5f50ea"
      },
      "execution_count": null,
      "outputs": [
        {
          "output_type": "stream",
          "name": "stdout",
          "text": [
            "    Age  Income Gender  Weight\n",
            "0    18    3600      F      40\n",
            "1    17    3400      F      60\n",
            "2    27    5400      M      50\n",
            "3    40    8000      F      90\n",
            "4    50   10000      F      55\n",
            "5    61   12200      M      77\n",
            "6    21    4200      M     105\n",
            "7    55   11000      M      88\n",
            "8    29    5800      F      91\n",
            "9    43    8600      M      68\n",
            "10   11    2200      M      60\n"
          ]
        },
        {
          "output_type": "display_data",
          "data": {
            "text/plain": [
              "<Figure size 640x480 with 1 Axes>"
            ],
            "image/png": "[encoded data removed]"
          },
          "metadata": {}
        }
      ]
    },
    {
      "cell_type": "markdown",
      "source": [
        "Box plot"
      ],
      "metadata": {
        "id": "GGAv0cAn2VEQ"
      }
    },
    {
      "cell_type": "code",
      "source": [
        "import matplotlib.pyplot as plt\n",
        "\n",
        "box=mydataframe.boxplot(column=['Weight'],by=['Gender'],patch_artist=True,color='r')# patch_artist=True to fill color of the boxes.\n",
        "#Adding title\n",
        "plt.title('WeightvsIncome')\n",
        "#Adding labels\n",
        "plt.xlabel('Weight')\n",
        "plt.ylabel('Income')"
      ],
      "metadata": {
        "colab": {
          "base_uri": "https://localhost:8080/",
          "height": 496
        },
        "id": "BQkJmumzyGjV",
        "outputId": "026c944d-320d-4f92-f31d-db4f280d7f6d"
      },
      "execution_count": null,
      "outputs": [
        {
          "output_type": "execute_result",
          "data": {
            "text/plain": [
              "Text(0, 0.5, 'Income')"
            ]
          },
          "metadata": {},
          "execution_count": 85
        },
        {
          "output_type": "display_data",
          "data": {
            "text/plain": [
              "<Figure size 640x480 with 1 Axes>"
            ],
            "image/png": "[encoded data removed]"
          },
          "metadata": {}
        }
      ]
    },
    {
      "cell_type": "markdown",
      "source": [
        "Bar plot"
      ],
      "metadata": {
        "id": "AvmgjowCbjsV"
      }
    },
    {
      "cell_type": "code",
      "source": [
        "import matplotlib.pyplot as plt\n",
        "from collections import Counter\n",
        "#plt.bar(dict(mydataframe['Gender'].value_counts()).keys(),dict(mydataframe['Gender'].value_counts()).values(),color=('r','b'))\n",
        "mydataframe['Gender'].value_counts().plot(kind='bar')\n",
        "plt.show()\n"
      ],
      "metadata": {
        "colab": {
          "base_uri": "https://localhost:8080/",
          "height": 428
        },
        "id": "jszV1B7Kbtq3",
        "outputId": "2d50f73d-de63-4870-fc30-b50f899b08c8"
      },
      "execution_count": null,
      "outputs": [
        {
          "output_type": "display_data",
          "data": {
            "text/plain": [
              "<Figure size 640x480 with 1 Axes>"
            ],
            "image/png": "[encoded data removed]"
          },
          "metadata": {}
        }
      ]
    },
    {
      "cell_type": "markdown",
      "source": [
        "Pie chart plot"
      ],
      "metadata": {
        "id": "3xKYj5mvrMWm"
      }
    },
    {
      "cell_type": "code",
      "source": [
        "import matplotlib.pyplot as plt\n",
        "\n",
        "mydataframe['Gender'].value_counts().plot(kind='pie', y='Gender', autopct='%.2f%%')\n",
        "plt.show()\n"
      ],
      "metadata": {
        "colab": {
          "base_uri": "https://localhost:8080/",
          "height": 406
        },
        "id": "OCTpEZ9SrOq8",
        "outputId": "5f612bf1-5e46-4524-fe7e-5c33e718d3b3"
      },
      "execution_count": null,
      "outputs": [
        {
          "output_type": "display_data",
          "data": {
            "text/plain": [
              "<Figure size 640x480 with 1 Axes>"
            ],
            "image/png": "[encoded data removed]"
          },
          "metadata": {}
        }
      ]
    },
    {
      "cell_type": "markdown",
      "source": [
        "###Seaborn"
      ],
      "metadata": {
        "id": "DjSJKdesg9V4"
      }
    },
    {
      "cell_type": "markdown",
      "source": [
        "Line plot"
      ],
      "metadata": {
        "id": "zs8LWBfwhYh6"
      }
    },
    {
      "cell_type": "code",
      "source": [
        "import seaborn as sns\n",
        "import matplotlib.pyplot as plt\n",
        "\n",
        "\n",
        "\n",
        "\n",
        "# Create a line plot using Seaborn\n",
        "sns.lineplot(x='Age', y='Income',data=mydataframe)\n",
        "\n",
        "# Adding labels and title\n",
        "plt.xlabel('Age')\n",
        "plt.ylabel('Income')\n",
        "plt.title('AgevsIncome')\n",
        "\n",
        "# Display the plot\n",
        "plt.show()"
      ],
      "metadata": {
        "colab": {
          "base_uri": "https://localhost:8080/",
          "height": 472
        },
        "id": "49gpbkjkhXWG",
        "outputId": "2fefeda2-1158-4020-fb39-9a321fd801f8"
      },
      "execution_count": null,
      "outputs": [
        {
          "output_type": "display_data",
          "data": {
            "text/plain": [
              "<Figure size 640x480 with 1 Axes>"
            ],
            "image/png": "[encoded data removed]"
          },
          "metadata": {}
        }
      ]
    },
    {
      "cell_type": "markdown",
      "source": [
        "scatter plot"
      ],
      "metadata": {
        "id": "pBzacq7bkRjD"
      }
    },
    {
      "cell_type": "code",
      "source": [
        "# Create a scatter plot using Seaborn\n",
        "sns.scatterplot(x='Weight', y='Income',data=mydataframe)\n",
        "\n",
        "# Adding labels and title\n",
        "plt.xlabel('Weight')\n",
        "plt.ylabel('Income')\n",
        "plt.title('weightvsIncome')\n",
        "\n",
        "# Display the plot\n",
        "plt.show()"
      ],
      "metadata": {
        "colab": {
          "base_uri": "https://localhost:8080/",
          "height": 472
        },
        "id": "VEwWpMfnkQ89",
        "outputId": "3d318ccf-ad16-41d9-b8c2-4a01d3acdd73"
      },
      "execution_count": null,
      "outputs": [
        {
          "output_type": "display_data",
          "data": {
            "text/plain": [
              "<Figure size 640x480 with 1 Axes>"
            ],
            "image/png": "[encoded data removed]"
          },
          "metadata": {}
        }
      ]
    },
    {
      "cell_type": "code",
      "source": [
        "sns.boxplot(x='Gender', y='Weight',data=mydataframe)\n",
        "#Adding title\n",
        "plt.title('WeightvsIncome')\n",
        "#Adding labels\n",
        "plt.xlabel('Weight')\n",
        "plt.ylabel('Income')"
      ],
      "metadata": {
        "colab": {
          "base_uri": "https://localhost:8080/",
          "height": 490
        },
        "id": "Mrqhp7TuedSD",
        "outputId": "f4f94f27-fd43-4d1c-b74e-7e1c7c7022ab"
      },
      "execution_count": null,
      "outputs": [
        {
          "output_type": "execute_result",
          "data": {
            "text/plain": [
              "Text(0, 0.5, 'Income')"
            ]
          },
          "metadata": {},
          "execution_count": 90
        },
        {
          "output_type": "display_data",
          "data": {
            "text/plain": [
              "<Figure size 640x480 with 1 Axes>"
            ],
            "image/png": "[encoded data removed]"
          },
          "metadata": {}
        }
      ]
    },
    {
      "cell_type": "markdown",
      "metadata": {
        "id": "dT9ZCWC-Al6Z"
      },
      "source": [
        "##Data processing"
      ]
    },
    {
      "cell_type": "code",
      "execution_count": null,
      "metadata": {
        "colab": {
          "base_uri": "https://localhost:8080/"
        },
        "id": "JEMmVFtPDqjU",
        "outputId": "5d86cf50-fbb0-4771-c718-71f0c681de8b"
      },
      "outputs": [
        {
          "output_type": "stream",
          "name": "stderr",
          "text": [
            "/usr/local/lib/python3.10/dist-packages/Bio/SeqUtils/__init__.py:144: BiopythonDeprecationWarning: GC is deprecated; please use gc_fraction instead.\n",
            "  warnings.warn(\n"
          ]
        },
        {
          "output_type": "stream",
          "name": "stdout",
          "text": [
            "             Ids                                           Sequence  \\\n",
            "0   SRR003265.31  GGGAAAAGAAAAACAAACAAACAAAAACAAAACACAGAAACAAAAA...   \n",
            "1  SRR003265.216  GAAATTTGTTTGCAGACCTCTGTGCAAACAAATTTCAGATTGGAAG...   \n",
            "2  SRR003265.404  GATAATGATCTGAAGTTTTATTTTTTCACCAGGTCTCTGCCACATT...   \n",
            "3  SRR003265.422  GTTTTTTTGTTGATTCTTTCAGATTTTCTACCTAGAGAATCACATC...   \n",
            "4  SRR003265.542  GTTAGGGGGCATGTGAGGGAAGAGAATAAGAGACTGCCTGATAATT...   \n",
            "\n",
            "   GC_counts  Annotations  \n",
            "0  27.450980    32.843137  \n",
            "1  39.215686    38.980392  \n",
            "2  33.333333    35.176471  \n",
            "3  31.372549    34.647059  \n",
            "4  47.058824    30.313725  \n",
            "             Ids                                           Sequence  \\\n",
            "0   SRR003265.31  GGGAAAAGAAAAACAAACAAACAAAAACAAAACACAGAAACAAAAA...   \n",
            "1  SRR003265.216  GAAATTTGTTTGCAGACCTCTGTGCAAACAAATTTCAGATTGGAAG...   \n",
            "2  SRR003265.404  GATAATGATCTGAAGTTTTATTTTTTCACCAGGTCTCTGCCACATT...   \n",
            "3  SRR003265.422  GTTTTTTTGTTGATTCTTTCAGATTTTCTACCTAGAGAATCACATC...   \n",
            "4  SRR003265.542  GTTAGGGGGCATGTGAGGGAAGAGAATAAGAGACTGCCTGATAATT...   \n",
            "5  SRR003265.565  GATTTGAGGCCAATCTTTGAAATCGAAATATCTTCGTGTAAAAACT...   \n",
            "6  SRR003265.627  GTGATTTACATACAACAAATTTATTTCTCAAAGTTCTGGAGGCTAG...   \n",
            "7  SRR003265.818  GAAAAAAATCCGTGTATAGATGGACCTGCACAGTTTAAACCTGTGT...   \n",
            "8  SRR003265.874  GTTTTAAATTACAGAGTTAATATCTTAATTGTTATAGTACTATTCA...   \n",
            "9  SRR003265.917  GGTTTGGTGCTGAAAAGAATGTGTATTCTGTTGATTTGGGGTGTAG...   \n",
            "\n",
            "   GC_counts  Annotations  \n",
            "0  27.450980    32.843137  \n",
            "1  39.215686    38.980392  \n",
            "2  33.333333    35.176471  \n",
            "3  31.372549    34.647059  \n",
            "4  47.058824    30.313725  \n",
            "5  33.333333    35.058824  \n",
            "6  33.333333    34.627451  \n",
            "7  39.215686    37.764706  \n",
            "8  17.647059    34.745098  \n",
            "9  39.215686    32.686275  \n"
          ]
        }
      ],
      "source": [
        "import pandas as pd\n",
        "records = parse(gzip.open(\"SRR003265.filt.fastq.gz\",'rt', encoding='utf-8'), \"fastq\")\n",
        "ids=[]\n",
        "sequence=[]\n",
        "GC_counts=[]\n",
        "annot=[]\n",
        "for seqs in records:\n",
        "    sequence.append(str(seqs.seq))#list containing sequences\n",
        "    annot.append(np.array(list(seqs.letter_annotations['phred_quality'])).mean())#list containing mean value of quality score per sequence\n",
        "    GC_counts.append(GC(seqs.seq))#containing GC contents\n",
        "    ids.append(str(seqs.id))#list containing ids\n",
        "mydict={'Ids':ids,'Sequence':sequence,'GC_counts':GC_counts,'Annotations':annot}\n",
        "#print(list(zip(ids, sequence,GC_counts)))\n",
        "mydataframe=pd.DataFrame(mydict)#dataframe with Ids, Sequence, GC_countents and Annotations as columns\n",
        "#mydataframe=pd.DataFrame(list(zip(ids, sequence,GC_counts,annot)), columns=['Ids', 'Sequence',\"GC_counts\",'Annotations'])#dataframe with Ids, Sequence, GC_countents and Annotations as columns\n",
        "print(mydataframe.head())#get fist 5 rows this is a default value\n",
        "print(mydataframe.head(10))#get fist 10 rows\n",
        "mydataframe.to_csv('mydataframe.csv')#mydataframe to mydataframe.csv\n",
        "\n",
        "\n"
      ]
    },
    {
      "cell_type": "markdown",
      "metadata": {
        "id": "e5zJoJsuPkr4"
      },
      "source": [
        "###Keep only reads with a mean quality score<30"
      ]
    },
    {
      "cell_type": "code",
      "execution_count": null,
      "metadata": {
        "colab": {
          "base_uri": "https://localhost:8080/"
        },
        "id": "-yLLKXjHDqfO",
        "outputId": "c71738d5-bee2-4e9d-a2b4-b29b547fd6d4"
      },
      "outputs": [
        {
          "output_type": "stream",
          "name": "stdout",
          "text": [
            "26.700822461028025\n",
            "508226\n"
          ]
        }
      ],
      "source": [
        "\n",
        "mydataframe = pd.read_csv(\"mydataframe.csv\")#to read our csv file\n",
        "print(mydataframe['Annotations'].mean())\n",
        "mydataframe30=mydataframe[mydataframe['Annotations']>=00]\n",
        "print(len(mydataframe30))\n",
        "\n"
      ]
    },
    {
      "cell_type": "markdown",
      "metadata": {
        "id": "iEPXufTfVATB"
      },
      "source": [
        "###Plot GC content distribution"
      ]
    },
    {
      "cell_type": "code",
      "execution_count": null,
      "metadata": {
        "colab": {
          "base_uri": "https://localhost:8080/",
          "height": 430
        },
        "id": "U3dS6rmoVKxG",
        "outputId": "9ceccbeb-a1ae-43db-f8bf-64f55bd2e81c"
      },
      "outputs": [
        {
          "output_type": "display_data",
          "data": {
            "text/plain": [
              "<Figure size 640x480 with 1 Axes>"
            ],
            "image/png": "[encoded data removed]"
          },
          "metadata": {}
        }
      ],
      "source": [
        "mydataframe30['GC_counts'].plot(kind='kde')\n",
        "plt.show()"
      ]
    },
    {
      "cell_type": "markdown",
      "metadata": {
        "id": "GFAz0PmwJWTL"
      },
      "source": [
        "##Accessing NCBI databases"
      ]
    },
    {
      "cell_type": "markdown",
      "metadata": {
        "id": "rFQWWTI55iEh"
      },
      "source": [
        "we will look at how to access such databases at the National Center for Biotechnology Information (NCBI)."
      ]
    },
    {
      "cell_type": "markdown",
      "metadata": {
        "id": "Q1QHHsQL5vTO"
      },
      "source": [
        "###Check available databases at NCBI"
      ]
    },
    {
      "cell_type": "markdown",
      "metadata": {
        "id": "n3ZmSaDQ530b"
      },
      "source": [
        "Biopython provides an interface to Entrez, the data retrieval system made available by NCBI. Entrez can also be used through web browser: https://www.ncbi.nlm.nih.gov/search/\n",
        "\n",
        "TIPS:\n",
        "\n",
        "\n",
        "*  specify an email address with your query\n",
        "* avoid large number of requests  \n",
        "* do not post more than three queries per second\n"
      ]
    },
    {
      "cell_type": "markdown",
      "metadata": {
        "id": "FaZqPQfi6V4v"
      },
      "source": [
        "EInfo: obtain a list of all database names accessible through **Entrez**."
      ]
    },
    {
      "cell_type": "code",
      "execution_count": null,
      "metadata": {
        "colab": {
          "base_uri": "https://localhost:8080/"
        },
        "id": "azyzaLEqJV5i",
        "outputId": "0d59fd2e-5866-436d-f480-5829b5bae443"
      },
      "outputs": [
        {
          "output_type": "stream",
          "name": "stdout",
          "text": [
            "dict_keys(['DbList'])\n"
          ]
        }
      ],
      "source": [
        "from Bio import SeqIO\n",
        "from Bio import Entrez#provides access to NCBI databases\n",
        "Entrez.email=\"harounasoum17@gmail.com\"\n",
        "handle =Entrez.einfo() #gives a list of available databases\n",
        "rec=Entrez.read(handle)#handle is opening a connection to the server\n",
        "print(rec.keys())#print keys available"
      ]
    },
    {
      "cell_type": "markdown",
      "metadata": {
        "id": "5CwCx7P26fKJ"
      },
      "source": [
        "Printing available databases"
      ]
    },
    {
      "cell_type": "code",
      "execution_count": null,
      "metadata": {
        "colab": {
          "base_uri": "https://localhost:8080/"
        },
        "id": "IFDBuQnsKMEl",
        "outputId": "0d6fa2c5-19ff-41c5-fe33-9584e53778b8"
      },
      "outputs": [
        {
          "output_type": "stream",
          "name": "stdout",
          "text": [
            "['pubmed', 'protein', 'nuccore', 'ipg', 'nucleotide', 'structure', 'genome', 'annotinfo', 'assembly', 'bioproject', 'biosample', 'blastdbinfo', 'books', 'cdd', 'clinvar', 'gap', 'gapplus', 'grasp', 'dbvar', 'gene', 'gds', 'geoprofiles', 'homologene', 'medgen', 'mesh', 'nlmcatalog', 'omim', 'orgtrack', 'pmc', 'popset', 'proteinclusters', 'pcassay', 'protfam', 'pccompound', 'pcsubstance', 'seqannot', 'snp', 'sra', 'taxonomy', 'biocollections', 'gtr']\n"
          ]
        }
      ],
      "source": [
        "print(rec['DbList'])# Available databases."
      ]
    },
    {
      "cell_type": "markdown",
      "metadata": {
        "id": "P6fPaGGi6cVT"
      },
      "source": [
        "We are focusing on Nucleotide database."
      ]
    },
    {
      "cell_type": "markdown",
      "metadata": {
        "id": "mBJLf2AR69gl"
      },
      "source": [
        "###Search for COVID-19 sequences"
      ]
    },
    {
      "cell_type": "code",
      "execution_count": null,
      "metadata": {
        "colab": {
          "base_uri": "https://localhost:8080/"
        },
        "id": "Pd_eAbF-Usia",
        "outputId": "a17fe71a-6905-43d5-ed6f-06697007d31f"
      },
      "outputs": [
        {
          "output_type": "stream",
          "name": "stdout",
          "text": [
            "dict_keys(['Count', 'RetMax', 'RetStart', 'IdList', 'TranslationSet', 'TranslationStack', 'QueryTranslation'])\n"
          ]
        }
      ],
      "source": [
        "handle = Entrez.esearch(db=\"nucleotide\", term='Severe acute respiratory syndrome coronavirus 2 isolate Wuhan-Hu-1', retmax=40)#define gene and organism. retmax gives number of records one can set retmax=rec_list['Count'].\n",
        "rec_list = Entrez.read(handle)\n",
        "print(rec_list.keys())"
      ]
    },
    {
      "cell_type": "markdown",
      "metadata": {
        "id": "HVNxQvvdCvD0"
      },
      "source": [
        "Checking availabiltity of a genome with id MN908947(covid 19 genome)"
      ]
    },
    {
      "cell_type": "code",
      "execution_count": null,
      "metadata": {
        "colab": {
          "base_uri": "https://localhost:8080/"
        },
        "id": "eOL2D0I_aRmy",
        "outputId": "f546275c-7a3a-427e-8abb-3c0ea977954b"
      },
      "outputs": [
        {
          "output_type": "stream",
          "name": "stdout",
          "text": [
            "['1835153118', '1798174254', '2221553521', '2221553519', '2221553520', '1835153116', '1798172431']\n",
            "Availables ids are: ['MT380725.1', 'NC_045512.2', 'ON124951.1', 'ON124949.1', 'ON124950.1', 'MT380724.1', 'MN908947.3']\n",
            "MN908947\n",
            "ATTAAAGGTTTATACCTTCCCAGGTAACAAACCAACCAACTTTCGATCTCTTGTAGATCTGTTCTCTAAACGAACTTTAAAATCTGTGTGGCTGTCACTCGGCTGCATGCTTAGTGCACTCACGCAGTATAATTAATAACTAATTACTGTCGTTGACAGGACACGAGTAACTCGTCTATCTTCTGCAGGCTGCTTACGGTTTCGTCCGTGTTGCAGCCGATCATCAGCACATCTAGGTTTCGTCCGGGTGTGACCGAAAGGTAAGATGGAGAGCCTTGTCCCTGGTTTCAACGAGAAAACACACGTCCAACTCAGTTTGCCTGTTTTACAGGTTCGCGACGTGCTCGTACGTGGCTTTGGAGACTCCGTGGAGGAGGTCTTATCAGAGGCACGTCAACATCTTAAAGATGGCACTTGTGGCTTAGTAGAAGTTGAAAAAGGCGTTTTGCCTCAACTTGAACAGCCCTATGTGTTCATCAAACGTTCGGATGCTCGAACTGCACCTCATGGTCATGTTATGGTTGAGCTGGTAGCAGAACTCGAAGGCATTCAGTACGGTCGTAGTGGTGAGACACTTGGTGTCCTTGTCCCTCATGTGGGCGAAATACCAGTGGCTTACCGCAAGGTTCTTCTTCGTAAGAACGGTAATAAAGGAGCTGGTGGCCATAGTTACGGCGCCGATCTAAAGTCATTTGACTTAGGCGACGAGCTTGGCACTGATCCTTATGAAGATTTTCAAGAAAACTGGAACACTAAACATAGCAGTGGTGTTACCCGTGAACTCATGCGTGAGCTTAACGGAGGGGCATACACTCGCTATGTCGATAACAACTTCTGTGGCCCTGATGGCTACCCTCTTGAGTGCATTAAAGACCTTCTAGCACGTGCTGGTAAAGCTTCATGCACTTTGTCCGAACAACTGGACTTTATTGACACTAAGAGGGGTGTATACTGCTGCCGTGAACATGAGCATGAAATTGCTTGGTACACGGAACGTTCTGAAAAGAGCTATGAATTGCAGACACCTTTTGAAATTAAATTGGCAAAGAAATTTGACACCTTCAATGGGGAATGTCCAAATTTTGTATTTCCCTTAAATTCCATAATCAAGACTATTCAACCAAGGGTTGAAAAGAAAAAGCTTGATGGCTTTATGGGTAGAATTCGATCTGTCTATCCAGTTGCGTCACCAAATGAATGCAACCAAATGTGCCTTTCAACTCTCATGAAGTGTGATCATTGTGGTGAAACTTCATGGCAGACGGGCGATTTTGTTAAAGCCACTTGCGAATTTTGTGGCACTGAGAATTTGACTAAAGAAGGTGCCACTACTTGTGGTTACTTACCCCAAAATGCTGTTGTTAAAATTTATTGTCCAGCATGTCACAATTCAGAAGTAGGACCTGAGCATAGTCTTGCCGAATACCATAATGAATCTGGCTTGAAAACCATTCTTCGTAAGGGTGGTCGCACTATTGCCTTTGGAGGCTGTGTGTTCTCTTATGTTGGTTGCCATAACAAGTGTGCCTATTGGGTTCCACGTGCTAGCGCTAACATAGGTTGTAACCATACAGGTGTTGTTGGAGAAGGTTCCGAAGGTCTTAATGACAACCTTCTTGAAATACTCCAAAAAGAGAAAGTCAACATCAATATTGTTGGTGACTTTAAACTTAATGAAGAGATCGCCATTATTTTGGCATCTTTTTCTGCTTCCACAAGTGCTTTTGTGGAAACTGTGAAAGGTTTGGATTATAAAGCATTCAAACAAATTGTTGAATCCTGTGGTAATTTTAAAGTTACAAAAGGAAAAGCTAAAAAAGGTGCCTGGAATATTGGTGAACAGAAATCAATACTGAGTCCTCTTTATGCATTTGCATCAGAGGCTGCTCGTGTTGTACGATCAATTTTCTCCCGCACTCTTGAAACTGCTCAAAATTCTGTGCGTGTTTTACAGAAGGCCGCTATAACAATACTAGATGGAATTTCACAGTATTCACTGAGACTCATTGATGCTATGATGTTCACATCTGATTTGGCTACTAACAATCTAGTTGTAATGGCCTACATTACAGGTGGTGTTGTTCAGTTGACTTCGCAGTGGCTAACTAACATCTTTGGCACTGTTTATGAAAAACTCAAACCCGTCCTTGATTGGCTTGAAGAGAAGTTTAAGGAAGGTGTAGAGTTTCTTAGAGACGGTTGGGAAATTGTTAAATTTATCTCAACCTGTGCTTGTGAAATTGTCGGTGGACAAATTGTCACCTGTGCAAAGGAAATTAAGGAGAGTGTTCAGACATTCTTTAAGCTTGTAAATAAATTTTTGGCTTTGTGTGCTGACTCTATCATTATTGGTGGAGCTAAACTTAAAGCCTTGAATTTAGGTGAAACATTTGTCACGCACTCAAAGGGATTGTACAGAAAGTGTGTTAAATCCAGAGAAGAAACTGGCCTACTCATGCCTCTAAAAGCCCCAAAAGAAATTATCTTCTTAGAGGGAGAAACACTTCCCACAGAAGTGTTAACAGAGGAAGTTGTCTTGAAAACTGGTGATTTACAACCATTAGAACAACCTACTAGTGAAGCTGTTGAAGCTCCATTGGTTGGTACACCAGTTTGTATTAACGGGCTTATGTTGCTCGAAATCAAAGACACAGAAAAGTACTGTGCCCTTGCACCTAATATGATGGTAACAAACAATACCTTCACACTCAAAGGCGGTGCACCAACAAAGGTTACTTTTGGTGATGACACTGTGATAGAAGTGCAAGGTTACAAGAGTGTGAATATCACTTTTGAACTTGATGAAAGGATTGATAAAGTACTTAATGAGAAGTGCTCTGCCTATACAGTTGAACTCGGTACAGAAGTAAATGAGTTCGCCTGTGTTGTGGCAGATGCTGTCATAAAAACTTTGCAACCAGTATCTGAATTACTTACACCACTGGGCATTGATTTAGATGAGTGGAGTATGGCTACATACTACTTATTTGATGAGTCTGGTGAGTTTAAATTGGCTTCACATATGTATTGTTCTTTCTACCCTCCAGATGAGGATGAAGAAGAAGGTGATTGTGAAGAAGAAGAGTTTGAGCCATCAACTCAATATGAGTATGGTACTGAAGATGATTACCAAGGTAAACCTTTGGAATTTGGTGCCACTTCTGCTGCTCTTCAACCTGAAGAAGAGCAAGAAGAAGATTGGTTAGATGATGATAGTCAACAAACTGTTGGTCAACAAGACGGCAGTGAGGACAATCAGACAACTACTATTCAAACAATTGTTGAGGTTCAACCTCAATTAGAGATGGAACTTACACCAGTTGTTCAGACTATTGAAGTGAATAGTTTTAGTGGTTATTTAAAACTTACTGACAATGTATACATTAAAAATGCAGACATTGTGGAAGAAGCTAAAAAGGTAAAACCAACAGTGGTTGTTAATGCAGCCAATGTTTACCTTAAACATGGAGGAGGTGTTGCAGGAGCCTTAAATAAGGCTACTAACAATGCCATGCAAGTTGAATCTGATGATTACATAGCTACTAATGGACCACTTAAAGTGGGTGGTAGTTGTGTTTTAAGCGGACACAATCTTGCTAAACACTGTCTTCATGTTGTCGGCCCAAATGTTAACAAAGGTGAAGACATTCAACTTCTTAAGAGTGCTTATGAAAATTTTAATCAGCACGAAGTTCTACTTGCACCATTATTATCAGCTGGTATTTTTGGTGCTGACCCTATACATTCTTTAAGAGTTTGTGTAGATACTGTTCGCACAAATGTCTACTTAGCTGTCTTTGATAAAAATCTCTATGACAAACTTGTTTCAAGCTTTTTGGAAATGAAGAGTGAAAAGCAAGTTGAACAAAAGATCGCTGAGATTCCTAAAGAGGAAGTTAAGCCATTTATAACTGAAAGTAAACCTTCAGTTGAACAGAGAAAACAAGATGATAAGAAAATCAAAGCTTGTGTTGAAGAAGTTACAACAACTCTGGAAGAAACTAAGTTCCTCACAGAAAACTTGTTACTTTATATTGACATTAATGGCAATCTTCATCCAGATTCTGCCACTCTTGTTAGTGACATTGACATCACTTTCTTAAAGAAAGATGCTCCATATATAGTGGGTGATGTTGTTCAAGAGGGTGTTTTAACTGCTGTGGTTATACCTACTAAAAAGGCTGGTGGCACTACTGAAATGCTAGCGAAAGCTTTGAGAAAAGTGCCAACAGACAATTATATAACCACTTACCCGGGTCAGGGTTTAAATGGTTACACTGTAGAGGAGGCAAAGACAGTGCTTAAAAAGTGTAAAAGTGCCTTTTACATTCTACCATCTATTATCTCTAATGAGAAGCAAGAAATTCTTGGAACTGTTTCTTGGAATTTGCGAGAAATGCTTGCACATGCAGAAGAAACACGCAAATTAATGCCTGTCTGTGTGGAAACTAAAGCCATAGTTTCAACTATACAGCGTAAATATAAGGGTATTAAAATACAAGAGGGTGTGGTTGATTATGGTGCTAGATTTTACTTTTACACCAGTAAAACAACTGTAGCGTCACTTATCAACACACTTAACGATCTAAATGAAACTCTTGTTACAATGCCACTTGGCTATGTAACACATGGCTTAAATTTGGAAGAAGCTGCTCGGTATATGAGATCTCTCAAAGTGCCAGCTACAGTTTCTGTTTCTTCACCTGATGCTGTTACAGCGTATAATGGTTATCTTACTTCTTCTTCTAAAACACCTGAAGAACATTTTATTGAAACCATCTCACTTGCTGGTTCCTATAAAGATTGGTCCTATTCTGGACAATCTACACAACTAGGTATAGAATTTCTTAAGAGAGGTGATAAAAGTGTATATTACACTAGTAATCCTACCACATTCCACCTAGATGGTGAAGTTATCACCTTTGACAATCTTAAGACACTTCTTTCTTTGAGAGAAGTGAGGACTATTAAGGTGTTTACAACAGTAGACAACATTAACCTCCACACGCAAGTTGTGGACATGTCAATGACATATGGACAACAGTTTGGTCCAACTTATTTGGATGGAGCTGATGTTACTAAAATAAAACCTCATAATTCACATGAAGGTAAAACATTTTATGTTTTACCTAATGATGACACTCTACGTGTTGAGGCTTTTGAGTACTACCACACAACTGATCCTAGTTTTCTGGGTAGGTACATGTCAGCATTAAATCACACTAAAAAGTGGAAATACCCACAAGTTAATGGTTTAACTTCTATTAAATGGGCAGATAACAACTGTTATCTTGCCACTGCATTGTTAACACTCCAACAAATAGAGTTGAAGTTTAATCCACCTGCTCTACAAGATGCTTATTACAGAGCAAGGGCTGGTGAAGCTGCTAACTTTTGTGCACTTATCTTAGCCTACTGTAATAAGACAGTAGGTGAGTTAGGTGATGTTAGAGAAACAATGAGTTACTTGTTTCAACATGCCAATTTAGATTCTTGCAAAAGAGTCTTGAACGTGGTGTGTAAAACTTGTGGACAACAGCAGACAACCCTTAAGGGTGTAGAAGCTGTTATGTACATGGGCACACTTTCTTATGAACAATTTAAGAAAGGTGTTCAGATACCTTGTACGTGTGGTAAACAAGCTACAAAATATCTAGTACAACAGGAGTCACCTTTTGTTATGATGTCAGCACCACCTGCTCAGTATGAACTTAAGCATGGTACATTTACTTGTGCTAGTGAGTACACTGGTAATTACCAGTGTGGTCACTATAAACATATAACTTCTAAAGAAACTTTGTATTGCATAGACGGTGCTTTACTTACAAAGTCCTCAGAATACAAAGGTCCTATTACGGATGTTTTCTACAAAGAAAACAGTTACACAACAACCATAAAACCAGTTACTTATAAATTGGATGGTGTTGTTTGTACAGAAATTGACCCTAAGTTGGACAATTATTATAAGAAAGACAATTCTTATTTCACAGAGCAACCAATTGATCTTGTACCAAACCAACCATATCCAAACGCAAGCTTCGATAATTTTAAGTTTGTATGTGATAATATCAAATTTGCTGATGATTTAAACCAGTTAACTGGTTATAAGAAACCTGCTTCAAGAGAGCTTAAAGTTACATTTTTCCCTGACTTAAATGGTGATGTGGTGGCTATTGATTATAAACACTACACACCCTCTTTTAAGAAAGGAGCTAAATTGTTACATAAACCTATTGTTTGGCATGTTAACAATGCAACTAATAAAGCCACGTATAAACCAAATACCTGGTGTATACGTTGTCTTTGGAGCACAAAACCAGTTGAAACATCAAATTCGTTTGATGTACTGAAGTCAGAGGACGCGCAGGGAATGGATAATCTTGCCTGCGAAGATCTAAAACCAGTCTCTGAAGAAGTAGTGGAAAATCCTACCATACAGAAAGACGTTCTTGAGTGTAATGTGAAAACTACCGAAGTTGTAGGAGACATTATACTTAAACCAGCAAATAATAGTTTAAAAATTACAGAAGAGGTTGGCCACACAGATCTAATGGCTGCTTATGTAGACAATTCTAGTCTTACTATTAAGAAACCTAATGAATTATCTAGAGTATTAGGTTTGAAAACCCTTGCTACTCATGGTTTAGCTGCTGTTAATAGTGTCCCTTGGGATACTATAGCTAATTATGCTAAGCCTTTTCTTAACAAAGTTGTTAGTACAACTACTAACATAGTTACACGGTGTTTAAACCGTGTTTGTACTAATTATATGCCTTATTTCTTTACTTTATTGCTACAATTGTGTACTTTTACTAGAAGTACAAATTCTAGAATTAAAGCATCTATGCCGACTACTATAGCAAAGAATACTGTTAAGAGTGTCGGTAAATTTTGTCTAGAGGCTTCATTTAATTATTTGAAGTCACCTAATTTTTCTAAACTGATAAATATTATAATTTGGTTTTTACTATTAAGTGTTTGCCTAGGTTCTTTAATCTACTCAACCGCTGCTTTAGGTGTTTTAATGTCTAATTTAGGCATGCCTTCTTACTGTACTGGTTACAGAGAAGGCTATTTGAACTCTACTAATGTCACTATTGCAACCTACTGTACTGGTTCTATACCTTGTAGTGTTTGTCTTAGTGGTTTAGATTCTTTAGACACCTATCCTTCTTTAGAAACTATACAAATTACCATTTCATCTTTTAAATGGGATTTAACTGCTTTTGGCTTAGTTGCAGAGTGGTTTTTGGCATATATTCTTTTCACTAGGTTTTTCTATGTACTTGGATTGGCTGCAATCATGCAATTGTTTTTCAGCTATTTTGCAGTACATTTTATTAGTAATTCTTGGCTTATGTGGTTAATAATTAATCTTGTACAAATGGCCCCGATTTCAGCTATGGTTAGAATGTACATCTTCTTTGCATCATTTTATTATGTATGGAAAAGTTATGTGCATGTTGTAGACGGTTGTAATTCATCAACTTGTATGATGTGTTACAAACGTAATAGAGCAACAAGAGTCGAATGTACAACTATTGTTAATGGTGTTAGAAGGTCCTTTTATGTCTATGCTAATGGAGGTAAAGGCTTTTGCAAACTACACAATTGGAATTGTGTTAATTGTGATACATTCTGTGCTGGTAGTACATTTATTAGTGATGAAGTTGCGAGAGACTTGTCACTACAGTTTAAAAGACCAATAAATCCTACTGACCAGTCTTCTTACATCGTTGATAGTGTTACAGTGAAGAATGGTTCCATCCATCTTTACTTTGATAAAGCTGGTCAAAAGACTTATGAAAGACATTCTCTCTCTCATTTTGTTAACTTAGACAACCTGAGAGCTAATAACACTAAAGGTTCATTGCCTATTAATGTTATAGTTTTTGATGGTAAATCAAAATGTGAAGAATCATCTGCAAAATCAGCGTCTGTTTACTACAGTCAGCTTATGTGTCAACCTATACTGTTACTAGATCAGGCATTAGTGTCTGATGTTGGTGATAGTGCGGAAGTTGCAGTTAAAATGTTTGATGCTTACGTTAATACGTTTTCATCAACTTTTAACGTACCAATGGAAAAACTCAAAACACTAGTTGCAACTGCAGAAGCTGAACTTGCAAAGAATGTGTCCTTAGACAATGTCTTATCTACTTTTATTTCAGCAGCTCGGCAAGGGTTTGTTGATTCAGATGTAGAAACTAAAGATGTTGTTGAATGTCTTAAATTGTCACATCAATCTGACATAGAAGTTACTGGCGATAGTTGTAATAACTATATGCTCACCTATAACAAAGTTGAAAACATGACACCCCGTGACCTTGGTGCTTGTATTGACTGTAGTGCGCGTCATATTAATGCGCAGGTAGCAAAAAGTCACAACATTGCTTTGATATGGAACGTTAAAGATTTCATGTCATTGTCTGAACAACTACGAAAACAAATACGTAGTGCTGCTAAAAAGAATAACTTACCTTTTAAGTTGACATGTGCAACTACTAGACAAGTTGTTAATGTTGTAACAACAAAGATAGCACTTAAGGGTGGTAAAATTGTTAATAATTGGTTGAAGCAGTTAATTAAAGTTACACTTGTGTTCCTTTTTGTTGCTGCTATTTTCTATTTAATAACACCTGTTCATGTCATGTCTAAACATACTGACTTTTCAAGTGAAATCATAGGATACAAGGCTATTGATGGTGGTGTCACTCGTGACATAGCATCTACAGATACTTGTTTTGCTAACAAACATGCTGATTTTGACACATGGTTTAGCCAGCGTGGTGGTAGTTATACTAATGACAAAGCTTGCCCATTGATTGCTGCAGTCATAACAAGAGAAGTGGGTTTTGTCGTGCCTGGTTTGCCTGGCACGATATTACGCACAACTAATGGTGACTTTTTGCATTTCTTACCTAGAGTTTTTAGTGCAGTTGGTAACATCTGTTACACACCATCAAAACTTATAGAGTACACTGACTTTGCAACATCAGCTTGTGTTTTGGCTGCTGAATGTACAATTTTTAAAGATGCTTCTGGTAAGCCAGTACCATATTGTTATGATACCAATGTACTAGAAGGTTCTGTTGCTTATGAAAGTTTACGCCCTGACACACGTTATGTGCTCATGGATGGCTCTATTATTCAATTTCCTAACACCTACCTTGAAGGTTCTGTTAGAGTGGTAACAACTTTTGATTCTGAGTACTGTAGGCACGGCACTTGTGAAAGATCAGAAGCTGGTGTTTGTGTATCTACTAGTGGTAGATGGGTACTTAACAATGATTATTACAGATCTTTACCAGGAGTTTTCTGTGGTGTAGATGCTGTAAATTTACTTACTAATATGTTTACACCACTAATTCAACCTATTGGTGCTTTGGACATATCAGCATCTATAGTAGCTGGTGGTATTGTAGCTATCGTAGTAACATGCCTTGCCTACTATTTTATGAGGTTTAGAAGAGCTTTTGGTGAATACAGTCATGTAGTTGCCTTTAATACTTTACTATTCCTTATGTCATTCACTGTACTCTGTTTAACACCAGTTTACTCATTCTTACCTGGTGTTTATTCTGTTATTTACTTGTACTTGACATTTTATCTTACTAATGATGTTTCTTTTTTAGCACATATTCAGTGGATGGTTATGTTCACACCTTTAGTACCTTTCTGGATAACAATTGCTTATATCATTTGTATTTCCACAAAGCATTTCTATTGGTTCTTTAGTAATTACCTAAAGAGACGTGTAGTCTTTAATGGTGTTTCCTTTAGTACTTTTGAAGAAGCTGCGCTGTGCACCTTTTTGTTAAATAAAGAAATGTATCTAAAGTTGCGTAGTGATGTGCTATTACCTCTTACGCAATATAATAGATACTTAGCTCTTTATAATAAGTACAAGTATTTTAGTGGAGCAATGGATACAACTAGCTACAGAGAAGCTGCTTGTTGTCATCTCGCAAAGGCTCTCAATGACTTCAGTAACTCAGGTTCTGATGTTCTTTACCAACCACCACAAACCTCTATCACCTCAGCTGTTTTGCAGAGTGGTTTTAGAAAAATGGCATTCCCATCTGGTAAAGTTGAGGGTTGTATGGTACAAGTAACTTGTGGTACAACTACACTTAACGGTCTTTGGCTTGATGACGTAGTTTACTGTCCAAGACATGTGATCTGCACCTCTGAAGACATGCTTAACCCTAATTATGAAGATTTACTCATTCGTAAGTCTAATCATAATTTCTTGGTACAGGCTGGTAATGTTCAACTCAGGGTTATTGGACATTCTATGCAAAATTGTGTACTTAAGCTTAAGGTTGATACAGCCAATCCTAAGACACCTAAGTATAAGTTTGTTCGCATTCAACCAGGACAGACTTTTTCAGTGTTAGCTTGTTACAATGGTTCACCATCTGGTGTTTACCAATGTGCTATGAGGCCCAATTTCACTATTAAGGGTTCATTCCTTAATGGTTCATGTGGTAGTGTTGGTTTTAACATAGATTATGACTGTGTCTCTTTTTGTTACATGCACCATATGGAATTACCAACTGGAGTTCATGCTGGCACAGACTTAGAAGGTAACTTTTATGGACCTTTTGTTGACAGGCAAACAGCACAAGCAGCTGGTACGGACACAACTATTACAGTTAATGTTTTAGCTTGGTTGTACGCTGCTGTTATAAATGGAGACAGGTGGTTTCTCAATCGATTTACCACAACTCTTAATGACTTTAACCTTGTGGCTATGAAGTACAATTATGAACCTCTAACACAAGACCATGTTGACATACTAGGACCTCTTTCTGCTCAAACTGGAATTGCCGTTTTAGATATGTGTGCTTCATTAAAAGAATTACTGCAAAATGGTATGAATGGACGTACCATATTGGGTAGTGCTTTATTAGAAGATGAATTTACACCTTTTGATGTTGTTAGACAATGCTCAGGTGTTACTTTCCAAAGTGCAGTGAAAAGAACAATCAAGGGTACACACCACTGGTTGTTACTCACAATTTTGACTTCACTTTTAGTTTTAGTCCAGAGTACTCAATGGTCTTTGTTCTTTTTTTTGTATGAAAATGCCTTTTTACCTTTTGCTATGGGTATTATTGCTATGTCTGCTTTTGCAATGATGTTTGTCAAACATAAGCATGCATTTCTCTGTTTGTTTTTGTTACCTTCTCTTGCCACTGTAGCTTATTTTAATATGGTCTATATGCCTGCTAGTTGGGTGATGCGTATTATGACATGGTTGGATATGGTTGATACTAGTTTGTCTGGTTTTAAGCTAAAAGACTGTGTTATGTATGCATCAGCTGTAGTGTTACTAATCCTTATGACAGCAAGAACTGTGTATGATGATGGTGCTAGGAGAGTGTGGACACTTATGAATGTCTTGACACTCGTTTATAAAGTTTATTATGGTAATGCTTTAGATCAAGCCATTTCCATGTGGGCTCTTATAATCTCTGTTACTTCTAACTACTCAGGTGTAGTTACAACTGTCATGTTTTTGGCCAGAGGTATTGTTTTTATGTGTGTTGAGTATTGCCCTATTTTCTTCATAACTGGTAATACACTTCAGTGTATAATGCTAGTTTATTGTTTCTTAGGCTATTTTTGTACTTGTTACTTTGGCCTCTTTTGTTTACTCAACCGCTACTTTAGACTGACTCTTGGTGTTTATGATTACTTAGTTTCTACACAGGAGTTTAGATATATGAATTCACAGGGACTACTCCCACCCAAGAATAGCATAGATGCCTTCAAACTCAACATTAAATTGTTGGGTGTTGGTGGCAAACCTTGTATCAAAGTAGCCACTGTACAGTCTAAAATGTCAGATGTAAAGTGCACATCAGTAGTCTTACTCTCAGTTTTGCAACAACTCAGAGTAGAATCATCATCTAAATTGTGGGCTCAATGTGTCCAGTTACACAATGACATTCTCTTAGCTAAAGATACTACTGAAGCCTTTGAAAAAATGGTTTCACTACTTTCTGTTTTGCTTTCCATGCAGGGTGCTGTAGACATAAACAAGCTTTGTGAAGAAATGCTGGACAACAGGGCAACCTTACAAGCTATAGCCTCAGAGTTTAGTTCCCTTCCATCATATGCAGCTTTTGCTACTGCTCAAGAAGCTTATGAGCAGGCTGTTGCTAATGGTGATTCTGAAGTTGTTCTTAAAAAGTTGAAGAAGTCTTTGAATGTGGCTAAATCTGAATTTGACCGTGATGCAGCCATGCAACGTAAGTTGGAAAAGATGGCTGATCAAGCTATGACCCAAATGTATAAACAGGCTAGATCTGAGGACAAGAGGGCAAAAGTTACTAGTGCTATGCAGACAATGCTTTTCACTATGCTTAGAAAGTTGGATAATGATGCACTCAACAACATTATCAACAATGCAAGAGATGGTTGTGTTCCCTTGAACATAATACCTCTTACAACAGCAGCCAAACTAATGGTTGTCATACCAGACTATAACACATATAAAAATACGTGTGATGGTACAACATTTACTTATGCATCAGCATTGTGGGAAATCCAACAGGTTGTAGATGCAGATAGTAAAATTGTTCAACTTAGTGAAATTAGTATGGACAATTCACCTAATTTAGCATGGCCTCTTATTGTAACAGCTTTAAGGGCCAATTCTGCTGTCAAATTACAGAATAATGAGCTTAGTCCTGTTGCACTACGACAGATGTCTTGTGCTGCCGGTACTACACAAACTGCTTGCACTGATGACAATGCGTTAGCTTACTACAACACAACAAAGGGAGGTAGGTTTGTACTTGCACTGTTATCCGATTTACAGGATTTGAAATGGGCTAGATTCCCTAAGAGTGATGGAACTGGTACTATCTATACAGAACTGGAACCACCTTGTAGGTTTGTTACAGACACACCTAAAGGTCCTAAAGTGAAGTATTTATACTTTATTAAAGGATTAAACAACCTAAATAGAGGTATGGTACTTGGTAGTTTAGCTGCCACAGTACGTCTACAAGCTGGTAATGCAACAGAAGTGCCTGCCAATTCAACTGTATTATCTTTCTGTGCTTTTGCTGTAGATGCTGCTAAAGCTTACAAAGATTATCTAGCTAGTGGGGGACAACCAATCACTAATTGTGTTAAGATGTTGTGTACACACACTGGTACTGGTCAGGCAATAACAGTTACACCGGAAGCCAATATGGATCAAGAATCCTTTGGTGGTGCATCGTGTTGTCTGTACTGCCGTTGCCACATAGATCATCCAAATCCTAAAGGATTTTGTGACTTAAAAGGTAAGTATGTACAAATACCTACAACTTGTGCTAATGACCCTGTGGGTTTTACACTTAAAAACACAGTCTGTACCGTCTGCGGTATGTGGAAAGGTTATGGCTGTAGTTGTGATCAACTCCGCGAACCCATGCTTCAGTCAGCTGATGCACAATCGTTTTTAAACGGGTTTGCGGTGTAAGTGCAGCCCGTCTTACACCGTGCGGCACAGGCACTAGTACTGATGTCGTATACAGGGCTTTTGACATCTACAATGATAAAGTAGCTGGTTTTGCTAAATTCCTAAAAACTAATTGTTGTCGCTTCCAAGAAAAGGACGAAGATGACAATTTAATTGATTCTTACTTTGTAGTTAAGAGACACACTTTCTCTAACTACCAACATGAAGAAACAATTTATAATTTACTTAAGGATTGTCCAGCTGTTGCTAAACATGACTTCTTTAAGTTTAGAATAGACGGTGACATGGTACCACATATATCACGTCAACGTCTTACTAAATACACAATGGCAGACCTCGTCTATGCTTTAAGGCATTTTGATGAAGGTAATTGTGACACATTAAAAGAAATACTTGTCACATACAATTGTTGTGATGATGATTATTTCAATAAAAAGGACTGGTATGATTTTGTAGAAAACCCAGATATATTACGCGTATACGCCAACTTAGGTGAACGTGTACGCCAAGCTTTGTTAAAAACAGTACAATTCTGTGATGCCATGCGAAATGCTGGTATTGTTGGTGTACTGACATTAGATAATCAAGATCTCAATGGTAACTGGTATGATTTCGGTGATTTCATACAAACCACGCCAGGTAGTGGAGTTCCTGTTGTAGATTCTTATTATTCATTGTTAATGCCTATATTAACCTTGACCAGGGCTTTAACTGCAGAGTCACATGTTGACACTGACTTAACAAAGCCTTACATTAAGTGGGATTTGTTAAAATATGACTTCACGGAAGAGAGGTTAAAACTCTTTGACCGTTATTTTAAATATTGGGATCAGACATACCACCCAAATTGTGTTAACTGTTTGGATGACAGATGCATTCTGCATTGTGCAAACTTTAATGTTTTATTCTCTACAGTGTTCCCACCTACAAGTTTTGGACCACTAGTGAGAAAAATATTTGTTGATGGTGTTCCATTTGTAGTTTCAACTGGATACCACTTCAGAGAGCTAGGTGTTGTACATAATCAGGATGTAAACTTACATAGCTCTAGACTTAGTTTTAAGGAATTACTTGTGTATGCTGCTGACCCTGCTATGCACGCTGCTTCTGGTAATCTATTACTAGATAAACGCACTACGTGCTTTTCAGTAGCTGCACTTACTAACAATGTTGCTTTTCAAACTGTCAAACCCGGTAATTTTAACAAAGACTTCTATGACTTTGCTGTGTCTAAGGGTTTCTTTAAGGAAGGAAGTTCTGTTGAATTAAAACACTTCTTCTTTGCTCAGGATGGTAATGCTGCTATCAGCGATTATGACTACTATCGTTATAATCTACCAACAATGTGTGATATCAGACAACTACTATTTGTAGTTGAAGTTGTTGATAAGTACTTTGATTGTTACGATGGTGGCTGTATTAATGCTAACCAAGTCATCGTCAACAACCTAGACAAATCAGCTGGTTTTCCATTTAATAAATGGGGTAAGGCTAGACTTTATTATGATTCAATGAGTTATGAGGATCAAGATGCACTTTTCGCATATACAAAACGTAATGTCATCCCTACTATAACTCAAATGAATCTTAAGTATGCCATTAGTGCAAAGAATAGAGCTCGCACCGTAGCTGGTGTCTCTATCTGTAGTACTATGACCAATAGACAGTTTCATCAAAAATTATTGAAATCAATAGCCGCCACTAGAGGAGCTACTGTAGTAATTGGAACAAGCAAATTCTATGGTGGTTGGCACAACATGTTAAAAACTGTTTATAGTGATGTAGAAAACCCTCACCTTATGGGTTGGGATTATCCTAAATGTGATAGAGCCATGCCTAACATGCTTAGAATTATGGCCTCACTTGTTCTTGCTCGCAAACATACAACGTGTTGTAGCTTGTCACACCGTTTCTATAGATTAGCTAATGAGTGTGCTCAAGTATTGAGTGAAATGGTCATGTGTGGCGGTTCACTATATGTTAAACCAGGTGGAACCTCATCAGGAGATGCCACAACTGCTTATGCTAATAGTGTTTTTAACATTTGTCAAGCTGTCACGGCCAATGTTAATGCACTTTTATCTACTGATGGTAACAAAATTGCCGATAAGTATGTCCGCAATTTACAACACAGACTTTATGAGTGTCTCTATAGAAATAGAGATGTTGACACAGACTTTGTGAATGAGTTTTACGCATATTTGCGTAAACATTTCTCAATGATGATACTCTCTGACGATGCTGTTGTGTGTTTCAATAGCACTTATGCATCTCAAGGTCTAGTGGCTAGCATAAAGAACTTTAAGTCAGTTCTTTATTATCAAAACAATGTTTTTATGTCTGAAGCAAAATGTTGGACTGAGACTGACCTTACTAAAGGACCTCATGAATTTTGCTCTCAACATACAATGCTAGTTAAACAGGGTGATGATTATGTGTACCTTCCTTACCCAGATCCATCAAGAATCCTAGGGGCCGGCTGTTTTGTAGATGATATCGTAAAAACAGATGGTACACTTATGATTGAACGGTTCGTGTCTTTAGCTATAGATGCTTACCCACTTACTAAACATCCTAATCAGGAGTATGCTGATGTCTTTCATTTGTACTTACAATACATAAGAAAGCTACATGATGAGTTAACAGGACACATGTTAGACATGTATTCTGTTATGCTTACTAATGATAACACTTCAAGGTATTGGGAACCTGAGTTTTATGAGGCTATGTACACACCGCATACAGTCTTACAGGCTGTTGGGGCTTGTGTTCTTTGCAATTCACAGACTTCATTAAGATGTGGTGCTTGCATACGTAGACCATTCTTATGTTGTAAATGCTGTTACGACCATGTCATATCAACATCACATAAATTAGTCTTGTCTGTTAATCCGTATGTTTGCAATGCTCCAGGTTGTGATGTCACAGATGTGACTCAACTTTACTTAGGAGGTATGAGCTATTATTGTAAATCACATAAACCACCCATTAGTTTTCCATTGTGTGCTAATGGACAAGTTTTTGGTTTATATAAAAATACATGTGTTGGTAGCGATAATGTTACTGACTTTAATGCAATTGCAACATGTGACTGGACAAATGCTGGTGATTACATTTTAGCTAACACCTGTACTGAAAGACTCAAGCTTTTTGCAGCAGAAACGCTCAAAGCTACTGAGGAGACATTTAAACTGTCTTATGGTATTGCTACTGTACGTGAAGTGCTGTCTGACAGAGAATTACATCTTTCATGGGAAGTTGGTAAACCTAGACCACCACTTAACCGAAATTATGTCTTTACTGGTTATCGTGTAACTAAAAACAGTAAAGTACAAATAGGAGAGTACACCTTTGAAAAAGGTGACTATGGTGATGCTGTTGTTTACCGAGGTACAACAACTTACAAATTAAATGTTGGTGATTATTTTGTGCTGACATCACATACAGTAATGCCATTAAGTGCACCTACACTAGTGCCACAAGAGCACTATGTTAGAATTACTGGCTTATACCCAACACTCAATATCTCAGATGAGTTTTCTAGCAATGTTGCAAATTATCAAAAGGTTGGTATGCAAAAGTATTCTACACTCCAGGGACCACCTGGTACTGGTAAGAGTCATTTTGCTATTGGCCTAGCTCTCTACTACCCTTCTGCTCGCATAGTGTATACAGCTTGCTCTCATGCCGCTGTTGATGCACTATGTGAGAAGGCATTAAAATATTTGCCTATAGATAAATGTAGTAGAATTATACCTGCACGTGCTCGTGTAGAGTGTTTTGATAAATTCAAAGTGAATTCAACATTAGAACAGTATGTCTTTTGTACTGTAAATGCATTGCCTGAGACGACAGCAGATATAGTTGTCTTTGATGAAATTTCAATGGCCACAAATTATGATTTGAGTGTTGTCAATGCCAGATTACGTGCTAAGCACTATGTGTACATTGGCGACCCTGCTCAATTACCTGCACCACGCACATTGCTAACTAAGGGCACACTAGAACCAGAATATTTCAATTCAGTGTGTAGACTTATGAAAACTATAGGTCCAGACATGTTCCTCGGAACTTGTCGGCGTTGTCCTGCTGAAATTGTTGACACTGTGAGTGCTTTGGTTTATGATAATAAGCTTAAAGCACATAAAGACAAATCAGCTCAATGCTTTAAAATGTTTTATAAGGGTGTTATCACGCATGATGTTTCATCTGCAATTAACAGGCCACAAATAGGCGTGGTAAGAGAATTCCTTACACGTAACCCTGCTTGGAGAAAAGCTGTCTTTATTTCACCTTATAATTCACAGAATGCTGTAGCCTCAAAGATTTTGGGACTACCAACTCAAACTGTTGATTCATCACAGGGCTCAGAATATGACTATGTCATATTCACTCAAACCACTGAAACAGCTCACTCTTGTAATGTAAACAGATTTAATGTTGCTATTACCAGAGCAAAAGTAGGCATACTTTGCATAATGTCTGATAGAGACCTTTATGACAAGTTGCAATTTACAAGTCTTGAAATTCCACGTAGGAATGTGGCAACTTTACAAGCTGAAAATGTAACAGGACTCTTTAAAGATTGTAGTAAGGTAATCACTGGGTTACATCCTACACAGGCACCTACACACCTCAGTGTTGACACTAAATTCAAAACTGAAGGTTTATGTGTTGACATACCTGGCATACCTAAGGACATGACCTATAGAAGACTCATCTCTATGATGGGTTTTAAAATGAATTATCAAGTTAATGGTTACCCTAACATGTTTATCACCCGCGAAGAAGCTATAAGACATGTACGTGCATGGATTGGCTTCGATGTCGAGGGGTGTCATGCTACTAGAGAAGCTGTTGGTACCAATTTACCTTTACAGCTAGGTTTTTCTACAGGTGTTAACCTAGTTGCTGTACCTACAGGTTATGTTGATACACCTAATAATACAGATTTTTCCAGAGTTAGTGCTAAACCACCGCCTGGAGATCAATTTAAACACCTCATACCACTTATGTACAAAGGACTTCCTTGGAATGTAGTGCGTATAAAGATTGTACAAATGTTAAGTGACACACTTAAAAATCTCTCTGACAGAGTCGTATTTGTCTTATGGGCACATGGCTTTGAGTTGACATCTATGAAGTATTTTGTGAAAATAGGACCTGAGCGCACCTGTTGTCTATGTGATAGACGTGCCACATGCTTTTCCACTGCTTCAGACACTTATGCCTGTTGGCATCATTCTATTGGATTTGATTACGTCTATAATCCGTTTATGATTGATGTTCAACAATGGGGTTTTACAGGTAACCTACAAAGCAACCATGATCTGTATTGTCAAGTCCATGGTAATGCACATGTAGCTAGTTGTGATGCAATCATGACTAGGTGTCTAGCTGTCCACGAGTGCTTTGTTAAGCGTGTTGACTGGACTATTGAATATCCTATAATTGGTGATGAACTGAAGATTAATGCGGCTTGTAGAAAGGTTCAACACATGGTTGTTAAAGCTGCATTATTAGCAGACAAATTCCCAGTTCTTCACGACATTGGTAACCCTAAAGCTATTAAGTGTGTACCTCAAGCTGATGTAGAATGGAAGTTCTATGATGCACAGCCTTGTAGTGACAAAGCTTATAAAATAGAAGAATTATTCTATTCTTATGCCACACATTCTGACAAATTCACAGATGGTGTATGCCTATTTTGGAATTGCAATGTCGATAGATATCCTGCTAATTCCATTGTTTGTAGATTTGACACTAGAGTGCTATCTAACCTTAACTTGCCTGGTTGTGATGGTGGCAGTTTGTATGTAAATAAACATGCATTCCACACACCAGCTTTTGATAAAAGTGCTTTTGTTAATTTAAAACAATTACCATTTTTCTATTACTCTGACAGTCCATGTGAGTCTCATGGAAAACAAGTAGTGTCAGATATAGATTATGTACCACTAAAGTCTGCTACGTGTATAACACGTTGCAATTTAGGTGGTGCTGTCTGTAGACATCATGCTAATGAGTACAGATTGTATCTCGATGCTTATAACATGATGATCTCAGCTGGCTTTAGCTTGTGGGTTTACAAACAATTTGATACTTATAACCTCTGGAACACTTTTACAAGACTTCAGAGTTTAGAAAATGTGGCTTTTAATGTTGTAAATAAGGGACACTTTGATGGACAACAGGGTGAAGTACCAGTTTCTATCATTAATAACACTGTTTACACAAAAGTTGATGGTGTTGATGTAGAATTGTTTGAAAATAAAACAACATTACCTGTTAATGTAGCATTTGAGCTTTGGGCTAAGCGCAACATTAAACCAGTACCAGAGGTGAAAATACTCAATAATTTGGGTGTGGACATTGCTGCTAATACTGTGATCTGGGACTACAAAAGAGATGCTCCAGCACATATATCTACTATTGGTGTTTGTTCTATGACTGACATAGCCAAGAAACCAACTGAAACGATTTGTGCACCACTCACTGTCTTTTTTGATGGTAGAGTTGATGGTCAAGTAGACTTATTTAGAAATGCCCGTAATGGTGTTCTTATTACAGAAGGTAGTGTTAAAGGTTTACAACCATCTGTAGGTCCCAAACAAGCTAGTCTTAATGGAGTCACATTAATTGGAGAAGCCGTAAAAACACAGTTCAATTATTATAAGAAAGTTGATGGTGTTGTCCAACAATTACCTGAAACTTACTTTACTCAGAGTAGAAATTTACAAGAATTTAAACCCAGGAGTCAAATGGAAATTGATTTCTTAGAATTAGCTATGGATGAATTCATTGAACGGTATAAATTAGAAGGCTATGCCTTCGAACATATCGTTTATGGAGATTTTAGTCATAGTCAGTTAGGTGGTTTACATCTACTGATTGGACTAGCTAAACGTTTTAAGGAATCACCTTTTGAATTAGAAGATTTTATTCCTATGGACAGTACAGTTAAAAACTATTTCATAACAGATGCGCAAACAGGTTCATCTAAGTGTGTGTGTTCTGTTATTGATTTATTACTTGATGATTTTGTTGAAATAATAAAATCCCAAGATTTATCTGTAGTTTCTAAGGTTGTCAAAGTGACTATTGACTATACAGAAATTTCATTTATGCTTTGGTGTAAAGATGGCCATGTAGAAACATTTTACCCAAAATTACAATCTAGTCAAGCGTGGCAACCGGGTGTTGCTATGCCTAATCTTTACAAAATGCAAAGAATGCTATTAGAAAAGTGTGACCTTCAAAATTATGGTGATAGTGCAACATTACCTAAAGGCATAATGATGAATGTCGCAAAATATACTCAACTGTGTCAATATTTAAACACATTAACATTAGCTGTACCCTATAATATGAGAGTTATACATTTTGGTGCTGGTTCTGATAAAGGAGTTGCACCAGGTACAGCTGTTTTAAGACAGTGGTTGCCTACGGGTACGCTGCTTGTCGATTCAGATCTTAATGACTTTGTCTCTGATGCAGATTCAACTTTGATTGGTGATTGTGCAACTGTACATACAGCTAATAAATGGGATCTCATTATTAGTGATATGTACGACCCTAAGACTAAAAATGTTACAAAAGAAAATGACTCTAAAGAGGGTTTTTTCACTTACATTTGTGGGTTTATACAACAAAAGCTAGCTCTTGGAGGTTCCGTGGCTATAAAGATAACAGAACATTCTTGGAATGCTGATCTTTATAAGCTCATGGGACACTTCGCATGGTGGACAGCCTTTGTTACTAATGTGAATGCGTCATCATCTGAAGCATTTTTAATTGGATGTAATTATCTTGGCAAACCACGCGAACAAATAGATGGTTATGTCATGCATGCAAATTACATATTTTGGAGGAATACAAATCCAATTCAGTTGTCTTCCTATTCTTTATTTGACATGAGTAAATTTCCCCTTAAATTAAGGGGTACTGCTGTTATGTCTTTAAAAGAAGGTCAAATCAATGATATGATTTTATCTCTTCTTAGTAAAGGTAGACTTATAATTAGAGAAAACAACAGAGTTGTTATTTCTAGTGATGTTCTTGTTAACAACTAAACGAACAATGTTTGTTTTTCTTGTTTTATTGCCACTAGTCTCTAGTCAGTGTGTTAATCTTACAACCAGAACTCAATTACCCCCTGCATACACTAATTCTTTCACACGTGGTGTTTATTACCCTGACAAAGTTTTCAGATCCTCAGTTTTACATTCAACTCAGGACTTGTTCTTACCTTTCTTTTCCAATGTTACTTGGTTCCATGCTATACATGTCTCTGGGACCAATGGTACTAAGAGGTTTGATAACCCTGTCCTACCATTTAATGATGGTGTTTATTTTGCTTCCACTGAGAAGTCTAACATAATAAGAGGCTGGATTTTTGGTACTACTTTAGATTCGAAGACCCAGTCCCTACTTATTGTTAATAACGCTACTAATGTTGTTATTAAAGTCTGTGAATTTCAATTTTGTAATGATCCATTTTTGGGTGTTTATTACCACAAAAACAACAAAAGTTGGATGGAAAGTGAGTTCAGAGTTTATTCTAGTGCGAATAATTGCACTTTTGAATATGTCTCTCAGCCTTTTCTTATGGACCTTGAAGGAAAACAGGGTAATTTCAAAAATCTTAGGGAATTTGTGTTTAAGAATATTGATGGTTATTTTAAAATATATTCTAAGCACACGCCTATTAATTTAGTGCGTGATCTCCCTCAGGGTTTTTCGGCTTTAGAACCATTGGTAGATTTGCCAATAGGTATTAACATCACTAGGTTTCAAACTTTACTTGCTTTACATAGAAGTTATTTGACTCCTGGTGATTCTTCTTCAGGTTGGACAGCTGGTGCTGCAGCTTATTATGTGGGTTATCTTCAACCTAGGACTTTTCTATTAAAATATAATGAAAATGGAACCATTACAGATGCTGTAGACTGTGCACTTGACCCTCTCTCAGAAACAAAGTGTACGTTGAAATCCTTCACTGTAGAAAAAGGAATCTATCAAACTTCTAACTTTAGAGTCCAACCAACAGAATCTATTGTTAGATTTCCTAATATTACAAACTTGTGCCCTTTTGGTGAAGTTTTTAACGCCACCAGATTTGCATCTGTTTATGCTTGGAACAGGAAGAGAATCAGCAACTGTGTTGCTGATTATTCTGTCCTATATAATTCCGCATCATTTTCCACTTTTAAGTGTTATGGAGTGTCTCCTACTAAATTAAATGATCTCTGCTTTACTAATGTCTATGCAGATTCATTTGTAATTAGAGGTGATGAAGTCAGACAAATCGCTCCAGGGCAAACTGGAAAGATTGCTGATTATAATTATAAATTACCAGATGATTTTACAGGCTGCGTTATAGCTTGGAATTCTAACAATCTTGATTCTAAGGTTGGTGGTAATTATAATTACCTGTATAGATTGTTTAGGAAGTCTAATCTCAAACCTTTTGAGAGAGATATTTCAACTGAAATCTATCAGGCCGGTAGCACACCTTGTAATGGTGTTGAAGGTTTTAATTGTTACTTTCCTTTACAATCATATGGTTTCCAACCCACTAATGGTGTTGGTTACCAACCATACAGAGTAGTAGTACTTTCTTTTGAACTTCTACATGCACCAGCAACTGTTTGTGGACCTAAAAAGTCTACTAATTTGGTTAAAAACAAATGTGTCAATTTCAACTTCAATGGTTTAACAGGCACAGGTGTTCTTACTGAGTCTAACAAAAAGTTTCTGCCTTTCCAACAATTTGGCAGAGACATTGCTGACACTACTGATGCTGTCCGTGATCCACAGACACTTGAGATTCTTGACATTACACCATGTTCTTTTGGTGGTGTCAGTGTTATAACACCAGGAACAAATACTTCTAACCAGGTTGCTGTTCTTTATCAGGATGTTAACTGCACAGAAGTCCCTGTTGCTATTCATGCAGATCAACTTACTCCTACTTGGCGTGTTTATTCTACAGGTTCTAATGTTTTTCAAACACGTGCAGGCTGTTTAATAGGGGCTGAACATGTCAACAACTCATATGAGTGTGACATACCCATTGGTGCAGGTATATGCGCTAGTTATCAGACTCAGACTAATTCTCCTCGGCGGGCACGTAGTGTAGCTAGTCAATCCATCATTGCCTACACTATGTCACTTGGTGCAGAAAATTCAGTTGCTTACTCTAATAACTCTATTGCCATACCCACAAATTTTACTATTAGTGTTACCACAGAAATTCTACCAGTGTCTATGACCAAGACATCAGTAGATTGTACAATGTACATTTGTGGTGATTCAACTGAATGCAGCAATCTTTTGTTGCAATATGGCAGTTTTTGTACACAATTAAACCGTGCTTTAACTGGAATAGCTGTTGAACAAGACAAAAACACCCAAGAAGTTTTTGCACAAGTCAAACAAATTTACAAAACACCACCAATTAAAGATTTTGGTGGTTTTAATTTTTCACAAATATTACCAGATCCATCAAAACCAAGCAAGAGGTCATTTATTGAAGATCTACTTTTCAACAAAGTGACACTTGCAGATGCTGGCTTCATCAAACAATATGGTGATTGCCTTGGTGATATTGCTGCTAGAGACCTCATTTGTGCACAAAAGTTTAACGGCCTTACTGTTTTGCCACCTTTGCTCACAGATGAAATGATTGCTCAATACACTTCTGCACTGTTAGCGGGTACAATCACTTCTGGTTGGACCTTTGGTGCAGGTGCTGCATTACAAATACCATTTGCTATGCAAATGGCTTATAGGTTTAATGGTATTGGAGTTACACAGAATGTTCTCTATGAGAACCAAAAATTGATTGCCAACCAATTTAATAGTGCTATTGGCAAAATTCAAGACTCACTTTCTTCCACAGCAAGTGCACTTGGAAAACTTCAAGATGTGGTCAACCAAAATGCACAAGCTTTAAACACGCTTGTTAAACAACTTAGCTCCAATTTTGGTGCAATTTCAAGTGTTTTAAATGATATCCTTTCACGTCTTGACAAAGTTGAGGCTGAAGTGCAAATTGATAGGTTGATCACAGGCAGACTTCAAAGTTTGCAGACATATGTGACTCAACAATTAATTAGAGCTGCAGAAATCAGAGCTTCTGCTAATCTTGCTGCTACTAAAATGTCAGAGTGTGTACTTGGACAATCAAAAAGAGTTGATTTTTGTGGAAAGGGCTATCATCTTATGTCCTTCCCTCAGTCAGCACCTCATGGTGTAGTCTTCTTGCATGTGACTTATGTCCCTGCACAAGAAAAGAACTTCACAACTGCTCCTGCCATTTGTCATGATGGAAAAGCACACTTTCCTCGTGAAGGTGTCTTTGTTTCAAATGGCACACACTGGTTTGTAACACAAAGGAATTTTTATGAACCACAAATCATTACTACAGACAACACATTTGTGTCTGGTAACTGTGATGTTGTAATAGGAATTGTCAACAACACAGTTTATGATCCTTTGCAACCTGAATTAGACTCATTCAAGGAGGAGTTAGATAAATATTTTAAGAATCATACATCACCAGATGTTGATTTAGGTGACATCTCTGGCATTAATGCTTCAGTTGTAAACATTCAAAAAGAAATTGACCGCCTCAATGAGGTTGCCAAGAATTTAAATGAATCTCTCATCGATCTCCAAGAACTTGGAAAGTATGAGCAGTATATAAAATGGCCATGGTACATTTGGCTAGGTTTTATAGCTGGCTTGATTGCCATAGTAATGGTGACAATTATGCTTTGCTGTATGACCAGTTGCTGTAGTTGTCTCAAGGGCTGTTGTTCTTGTGGATCCTGCTGCAAATTTGATGAAGACGACTCTGAGCCAGTGCTCAAAGGAGTCAAATTACATTACACATAAACGAACTTATGGATTTGTTTATGAGAATCTTCACAATTGGAACTGTAACTTTGAAGCAAGGTGAAATCAAGGATGCTACTCCTTCAGATTTTGTTCGCGCTACTGCAACGATACCGATACAAGCCTCACTCCCTTTCGGATGGCTTATTGTTGGCGTTGCACTTCTTGCTGTTTTTCAGAGCGCTTCCAAAATCATAACCCTCAAAAAGAGATGGCAACTAGCACTCTCCAAGGGTGTTCACTTTGTTTGCAACTTGCTGTTGTTGTTTGTAACAGTTTACTCACACCTTTTGCTCGTTGCTGCTGGCCTTGAAGCCCCTTTTCTCTATCTTTATGCTTTAGTCTACTTCTTGCAGAGTATAAACTTTGTAAGAATAATAATGAGGCTTTGGCTTTGCTGGAAATGCCGTTCCAAAAACCCATTACTTTATGATGCCAACTATTTTCTTTGCTGGCATACTAATTGTTACGACTATTGTATACCTTACAATAGTGTAACTTCTTCAATTGTCATTACTTCAGGTGATGGCACAACAAGTCCTATTTCTGAACATGACTACCAGATTGGTGGTTATACTGAAAAATGGGAATCTGGAGTAAAAGACTGTGTTGTATTACACAGTTACTTCACTTCAGACTATTACCAGCTGTACTCAACTCAATTGAGTACAGACACTGGTGTTGAACATGTTACCTTCTTCATCTACAATAAAATTGTTGATGAGCCTGAAGAACATGTCCAAATTCACACAATCGACGGTTCATCCGGAGTTGTTAATCCAGTAATGGAACCAATTTATGATGAACCGACGACGACTACTAGCGTGCCTTTGTAAGCACAAGCTGATGAGTACGAACTTATGTACTCATTCGTTTCGGAAGAGACAGGTACGTTAATAGTTAATAGCGTACTTCTTTTTCTTGCTTTCGTGGTATTCTTGCTAGTTACACTAGCCATCCTTACTGCGCTTCGATTGTGTGCGTACTGCTGCAATATTGTTAACGTGAGTCTTGTAAAACCTTCTTTTTACGTTTACTCTCGTGTTAAAAATCTGAATTCTTCTAGAGTTCCTGATCTTCTGGTCTAAACGAACTAAATATTATATTAGTTTTTCTGTTTGGAACTTTAATTTTAGCCATGGCAGATTCCAACGGTACTATTACCGTTGAAGAGCTTAAAAAGCTCCTTGAACAATGGAACCTAGTAATAGGTTTCCTATTCCTTACATGGATTTGTCTTCTACAATTTGCCTATGCCAACAGGAATAGGTTTTTGTATATAATTAAGTTAATTTTCCTCTGGCTGTTATGGCCAGTAACTTTAGCTTGTTTTGTGCTTGCTGCTGTTTACAGAATAAATTGGATCACCGGTGGAATTGCTATCGCAATGGCTTGTCTTGTAGGCTTGATGTGGCTCAGCTACTTCATTGCTTCTTTCAGACTGTTTGCGCGTACGCGTTCCATGTGGTCATTCAATCCAGAAACTAACATTCTTCTCAACGTGCCACTCCATGGCACTATTCTGACCAGACCGCTTCTAGAAAGTGAACTCGTAATCGGAGCTGTGATCCTTCGTGGACATCTTCGTATTGCTGGACACCATCTAGGACGCTGTGACATCAAGGACCTGCCTAAAGAAATCACTGTTGCTACATCACGAACGCTTTCTTATTACAAATTGGGAGCTTCGCAGCGTGTAGCAGGTGACTCAGGTTTTGCTGCATACAGTCGCTACAGGATTGGCAACTATAAATTAAACACAGACCATTCCAGTAGCAGTGACAATATTGCTTTGCTTGTACAGTAAGTGACAACAGATGTTTCATCTCGTTGACTTTCAGGTTACTATAGCAGAGATATTACTAATTATTATGAGGACTTTTAAAGTTTCCATTTGGAATCTTGATTACATCATAAACCTCATAATTAAAAATTTATCTAAGTCACTAACTGAGAATAAATATTCTCAATTAGATGAAGAGCAACCAATGGAGATTGATTAAACGAACATGAAAATTATTCTTTTCTTGGCACTGATAACACTCGCTACTTGTGAGCTTTATCACTACCAAGAGTGTGTTAGAGGTACAACAGTACTTTTAAAAGAACCTTGCTCTTCTGGAACATACGAGGGCAATTCACCATTTCATCCTCTAGCTGATAACAAATTTGCACTGACTTGCTTTAGCACTCAATTTGCTTTTGCTTGTCCTGACGGCGTAAAACACGTCTATCAGTTACGTGCCAGATCAGTTTCACCTAAACTGTTCATCAGACAAGAGGAAGTTCAAGAACTTTACTCTCCAATTTTTCTTATTGTTGCGGCAATAGTGTTTATAACACTTTGCTTCACACTCAAAAGAAAGACAGAATGATTGAACTTTCATTAATTGACTTCTATTTGTGCTTTTTAGCCTTTCTGCTATTCCTTGTTTTAATTATGCTTATTATCTTTTGGTTCTCACTTGAACTGCAAGATCATAATGAAACTTGTCACGCCTAAACGAACATGAAATTTCTTGTTTTCTTAGGAATCATCACAACTGTAGCTGCATTTCACCAAGAATGTAGTTTACAGTCATGTACTCAACATCAACCATATGTAGTTGATGACCCGTGTCCTATTCACTTCTATTCTAAATGGTATATTAGAGTAGGAGCTAGAAAATCAGCACCTTTAATTGAATTGTGCGTGGATGAGGCTGGTTCTAAATCACCCATTCAGTACATCGATATCGGTAATTATACAGTTTCCTGTTTACCTTTTACAATTAATTGCCAGGAACCTAAATTGGGTAGTCTTGTAGTGCGTTGTTCGTTCTATGAAGACTTTTTAGAGTATCATGACGTTCGTGTTGTTTTAGATTTCATCTAAACGAACAAACTAAAATGTCTGATAATGGACCCCAAAATCAGCGAAATGCACCCCGCATTACGTTTGGTGGACCCTCAGATTCAACTGGCAGTAACCAGAATGGAGAACGCAGTGGGGCGCGATCAAAACAACGTCGGCCCCAAGGTTTACCCAATAATACTGCGTCTTGGTTCACCGCTCTCACTCAACATGGCAAGGAAGACCTTAAATTCCCTCGAGGACAAGGCGTTCCAATTAACACCAATAGCAGTCCAGATGACCAAATTGGCTACTACCGAAGAGCTACCAGACGAATTCGTGGTGGTGACGGTAAAATGAAAGATCTCAGTCCAAGATGGTATTTCTACTACCTAGGAACTGGGCCAGAAGCTGGACTTCCCTATGGTGCTAACAAAGACGGCATCATATGGGTTGCAACTGAGGGAGCCTTGAATACACCAAAAGATCACATTGGCACCCGCAATCCTGCTAACAATGCTGCAATCGTGCTACAACTTCCTCAAGGAACAACATTGCCAAAAGGCTTCTACGCAGAAGGGAGCAGAGGCGGCAGTCAAGCCTCTTCTCGTTCCTCATCACGTAGTCGCAACAGTTCAAGAAATTCAACTCCAGGCAGCAGTAGGGGAACTTCTCCTGCTAGAATGGCTGGCAATGGCGGTGATGCTGCTCTTGCTTTGCTGCTGCTTGACAGATTGAACCAGCTTGAGAGCAAAATGTCTGGTAAAGGCCAACAACAACAAGGCCAAACTGTCACTAAGAAATCTGCTGCTGAGGCTTCTAAGAAGCCTCGGCAAAAACGTACTGCCACTAAAGCATACAATGTAACACAAGCTTTCGGCAGACGTGGTCCAGAACAAACCCAAGGAAATTTTGGGGACCAGGAACTAATCAGACAAGGAACTGATTACAAACATTGGCCGCAAATTGCACAATTTGCCCCCAGCGCTTCAGCGTTCTTCGGAATGTCGCGCATTGGCATGGAAGTCACACCTTCGGGAACGTGGTTGACCTACACAGGTGCCATCAAATTGGATGACAAAGATCCAAATTTCAAAGATCAAGTCATTTTGCTGAATAAGCATATTGACGCATACAAAACATTCCCACCAACAGAGCCTAAAAAGGACAAAAAGAAGAAGGCTGATGAAACTCAAGCCTTACCGCAGAGACAGAAGAAACAGCAAACTGTGACTCTTCTTCCTGCTGCAGATTTGGATGATTTCTCCAAACAATTGCAACAATCCATGAGCAGTGCTGACTCAACTCAGGCCTAAACTCATGCAGACCACACAAGGCAGATGGGCTATATAAACGTTTTCGCTTTTCCGTTTACGATATATAGTCTACTCTTGTGCAGAATGAATTCTCGTAACTACATAGCACAAGTAGATGTAGTTAACTTTAATCTCACATAGCAATCTTTAATCAGTGTGTAACATTAGGGAGGACTTGAAAGAGCCACCACATTTTCACCGAGGCCACGCGGAGTACGATCGAGTGTACAGTGAACAATGCTAGGGAGAGCTGCCTATATGGAAGAGCCCTAATGTGTAAAATTAATTTTAGTAGTGCTATCCCCATGTGATTTTAATAGCTTCTTAGGAGAATGACAAAAAAAAAAAAAAAAAAAAAAAAAAAAAAAAA : this is the sequence\n",
            "Severe acute respiratory syndrome coronavirus 2 isolate Wuhan-Hu-1, complete genome : this is the sequnece description\n"
          ]
        }
      ],
      "source": [
        "print(rec_list['IdList'])\n",
        "handle = Entrez.efetch(db=\"nucleotide\", id=rec_list['IdList'], rettype=\"gb\",retmode='text')\n",
        "records = list(parse(handle, \"gb\"))\n",
        "#getting all record ids\n",
        "list_ids=[]\n",
        "for rec in records:\n",
        "    list_ids.append(rec.id)\n",
        "print(\"Availables ids are:\",list_ids)\n",
        "for rec in records:\n",
        "  if rec.id=='MN908947':#trying to find a genome with id MN908947(covid 19 genome)\n",
        "     break\n",
        "print(rec.name)\n",
        "print(str(rec.seq), \": this is the sequence\")\n",
        "print(rec.description,': this is the sequnece description')\n",
        "\n"
      ]
    },
    {
      "cell_type": "markdown",
      "metadata": {
        "id": "ymLXQqX69cHh"
      },
      "source": [
        "###Fetching COVID-19 Genome from NCBI"
      ]
    },
    {
      "cell_type": "code",
      "execution_count": null,
      "metadata": {
        "id": "MZT0402-DIFA"
      },
      "outputs": [],
      "source": [
        "handle = Entrez.efetch(db=\"nucleotide\", id=\"MN908947\", rettype=\"gb\", retmode=\"text\")\n",
        "recs = list(parse(handle, 'gb'))\n"
      ]
    },
    {
      "cell_type": "code",
      "execution_count": null,
      "metadata": {
        "colab": {
          "base_uri": "https://localhost:8080/"
        },
        "id": "Ryb3vTaLEfWW",
        "outputId": "64fee6c1-03e8-4119-cf05-74b2a0558638"
      },
      "outputs": [
        {
          "output_type": "stream",
          "name": "stdout",
          "text": [
            "ATTAAAGGTTTATACCTTCCCAGGTAACAAACCAACCAACTTTCGATCTCTTGTAGATCTGTTCTCTAAACGAACTTTAAAATCTGTGTGGCTGTCACTCGGCTGCATGCTTAGTGCACTCACGCAGTATAATTAATAACTAATTACTGTCGTTGACAGGACACGAGTAACTCGTCTATCTTCTGCAGGCTGCTTACGGTTTCGTCCGTGTTGCAGCCGATCATCAGCACATCTAGGTTTCGTCCGGGTGTGACCGAAAGGTAAGATGGAGAGCCTTGTCCCTGGTTTCAACGAGAAAACACACGTCCAACTCAGTTTGCCTGTTTTACAGGTTCGCGACGTGCTCGTACGTGGCTTTGGAGACTCCGTGGAGGAGGTCTTATCAGAGGCACGTCAACATCTTAAAGATGGCACTTGTGGCTTAGTAGAAGTTGAAAAAGGCGTTTTGCCTCAACTTGAACAGCCCTATGTGTTCATCAAACGTTCGGATGCTCGAACTGCACCTCATGGTCATGTTATGGTTGAGCTGGTAGCAGAACTCGAAGGCATTCAGTACGGTCGTAGTGGTGAGACACTTGGTGTCCTTGTCCCTCATGTGGGCGAAATACCAGTGGCTTACCGCAAGGTTCTTCTTCGTAAGAACGGTAATAAAGGAGCTGGTGGCCATAGTTACGGCGCCGATCTAAAGTCATTTGACTTAGGCGACGAGCTTGGCACTGATCCTTATGAAGATTTTCAAGAAAACTGGAACACTAAACATAGCAGTGGTGTTACCCGTGAACTCATGCGTGAGCTTAACGGAGGGGCATACACTCGCTATGTCGATAACAACTTCTGTGGCCCTGATGGCTACCCTCTTGAGTGCATTAAAGACCTTCTAGCACGTGCTGGTAAAGCTTCATGCACTTTGTCCGAACAACTGGACTTTATTGACACTAAGAGGGGTGTATACTGCTGCCGTGAACATGAGCATGAAATTGCTTGGTACACGGAACGTTCTGAAAAGAGCTATGAATTGCAGACACCTTTTGAAATTAAATTGGCAAAGAAATTTGACACCTTCAATGGGGAATGTCCAAATTTTGTATTTCCCTTAAATTCCATAATCAAGACTATTCAACCAAGGGTTGAAAAGAAAAAGCTTGATGGCTTTATGGGTAGAATTCGATCTGTCTATCCAGTTGCGTCACCAAATGAATGCAACCAAATGTGCCTTTCAACTCTCATGAAGTGTGATCATTGTGGTGAAACTTCATGGCAGACGGGCGATTTTGTTAAAGCCACTTGCGAATTTTGTGGCACTGAGAATTTGACTAAAGAAGGTGCCACTACTTGTGGTTACTTACCCCAAAATGCTGTTGTTAAAATTTATTGTCCAGCATGTCACAATTCAGAAGTAGGACCTGAGCATAGTCTTGCCGAATACCATAATGAATCTGGCTTGAAAACCATTCTTCGTAAGGGTGGTCGCACTATTGCCTTTGGAGGCTGTGTGTTCTCTTATGTTGGTTGCCATAACAAGTGTGCCTATTGGGTTCCACGTGCTAGCGCTAACATAGGTTGTAACCATACAGGTGTTGTTGGAGAAGGTTCCGAAGGTCTTAATGACAACCTTCTTGAAATACTCCAAAAAGAGAAAGTCAACATCAATATTGTTGGTGACTTTAAACTTAATGAAGAGATCGCCATTATTTTGGCATCTTTTTCTGCTTCCACAAGTGCTTTTGTGGAAACTGTGAAAGGTTTGGATTATAAAGCATTCAAACAAATTGTTGAATCCTGTGGTAATTTTAAAGTTACAAAAGGAAAAGCTAAAAAAGGTGCCTGGAATATTGGTGAACAGAAATCAATACTGAGTCCTCTTTATGCATTTGCATCAGAGGCTGCTCGTGTTGTACGATCAATTTTCTCCCGCACTCTTGAAACTGCTCAAAATTCTGTGCGTGTTTTACAGAAGGCCGCTATAACAATACTAGATGGAATTTCACAGTATTCACTGAGACTCATTGATGCTATGATGTTCACATCTGATTTGGCTACTAACAATCTAGTTGTAATGGCCTACATTACAGGTGGTGTTGTTCAGTTGACTTCGCAGTGGCTAACTAACATCTTTGGCACTGTTTATGAAAAACTCAAACCCGTCCTTGATTGGCTTGAAGAGAAGTTTAAGGAAGGTGTAGAGTTTCTTAGAGACGGTTGGGAAATTGTTAAATTTATCTCAACCTGTGCTTGTGAAATTGTCGGTGGACAAATTGTCACCTGTGCAAAGGAAATTAAGGAGAGTGTTCAGACATTCTTTAAGCTTGTAAATAAATTTTTGGCTTTGTGTGCTGACTCTATCATTATTGGTGGAGCTAAACTTAAAGCCTTGAATTTAGGTGAAACATTTGTCACGCACTCAAAGGGATTGTACAGAAAGTGTGTTAAATCCAGAGAAGAAACTGGCCTACTCATGCCTCTAAAAGCCCCAAAAGAAATTATCTTCTTAGAGGGAGAAACACTTCCCACAGAAGTGTTAACAGAGGAAGTTGTCTTGAAAACTGGTGATTTACAACCATTAGAACAACCTACTAGTGAAGCTGTTGAAGCTCCATTGGTTGGTACACCAGTTTGTATTAACGGGCTTATGTTGCTCGAAATCAAAGACACAGAAAAGTACTGTGCCCTTGCACCTAATATGATGGTAACAAACAATACCTTCACACTCAAAGGCGGTGCACCAACAAAGGTTACTTTTGGTGATGACACTGTGATAGAAGTGCAAGGTTACAAGAGTGTGAATATCACTTTTGAACTTGATGAAAGGATTGATAAAGTACTTAATGAGAAGTGCTCTGCCTATACAGTTGAACTCGGTACAGAAGTAAATGAGTTCGCCTGTGTTGTGGCAGATGCTGTCATAAAAACTTTGCAACCAGTATCTGAATTACTTACACCACTGGGCATTGATTTAGATGAGTGGAGTATGGCTACATACTACTTATTTGATGAGTCTGGTGAGTTTAAATTGGCTTCACATATGTATTGTTCTTTCTACCCTCCAGATGAGGATGAAGAAGAAGGTGATTGTGAAGAAGAAGAGTTTGAGCCATCAACTCAATATGAGTATGGTACTGAAGATGATTACCAAGGTAAACCTTTGGAATTTGGTGCCACTTCTGCTGCTCTTCAACCTGAAGAAGAGCAAGAAGAAGATTGGTTAGATGATGATAGTCAACAAACTGTTGGTCAACAAGACGGCAGTGAGGACAATCAGACAACTACTATTCAAACAATTGTTGAGGTTCAACCTCAATTAGAGATGGAACTTACACCAGTTGTTCAGACTATTGAAGTGAATAGTTTTAGTGGTTATTTAAAACTTACTGACAATGTATACATTAAAAATGCAGACATTGTGGAAGAAGCTAAAAAGGTAAAACCAACAGTGGTTGTTAATGCAGCCAATGTTTACCTTAAACATGGAGGAGGTGTTGCAGGAGCCTTAAATAAGGCTACTAACAATGCCATGCAAGTTGAATCTGATGATTACATAGCTACTAATGGACCACTTAAAGTGGGTGGTAGTTGTGTTTTAAGCGGACACAATCTTGCTAAACACTGTCTTCATGTTGTCGGCCCAAATGTTAACAAAGGTGAAGACATTCAACTTCTTAAGAGTGCTTATGAAAATTTTAATCAGCACGAAGTTCTACTTGCACCATTATTATCAGCTGGTATTTTTGGTGCTGACCCTATACATTCTTTAAGAGTTTGTGTAGATACTGTTCGCACAAATGTCTACTTAGCTGTCTTTGATAAAAATCTCTATGACAAACTTGTTTCAAGCTTTTTGGAAATGAAGAGTGAAAAGCAAGTTGAACAAAAGATCGCTGAGATTCCTAAAGAGGAAGTTAAGCCATTTATAACTGAAAGTAAACCTTCAGTTGAACAGAGAAAACAAGATGATAAGAAAATCAAAGCTTGTGTTGAAGAAGTTACAACAACTCTGGAAGAAACTAAGTTCCTCACAGAAAACTTGTTACTTTATATTGACATTAATGGCAATCTTCATCCAGATTCTGCCACTCTTGTTAGTGACATTGACATCACTTTCTTAAAGAAAGATGCTCCATATATAGTGGGTGATGTTGTTCAAGAGGGTGTTTTAACTGCTGTGGTTATACCTACTAAAAAGGCTGGTGGCACTACTGAAATGCTAGCGAAAGCTTTGAGAAAAGTGCCAACAGACAATTATATAACCACTTACCCGGGTCAGGGTTTAAATGGTTACACTGTAGAGGAGGCAAAGACAGTGCTTAAAAAGTGTAAAAGTGCCTTTTACATTCTACCATCTATTATCTCTAATGAGAAGCAAGAAATTCTTGGAACTGTTTCTTGGAATTTGCGAGAAATGCTTGCACATGCAGAAGAAACACGCAAATTAATGCCTGTCTGTGTGGAAACTAAAGCCATAGTTTCAACTATACAGCGTAAATATAAGGGTATTAAAATACAAGAGGGTGTGGTTGATTATGGTGCTAGATTTTACTTTTACACCAGTAAAACAACTGTAGCGTCACTTATCAACACACTTAACGATCTAAATGAAACTCTTGTTACAATGCCACTTGGCTATGTAACACATGGCTTAAATTTGGAAGAAGCTGCTCGGTATATGAGATCTCTCAAAGTGCCAGCTACAGTTTCTGTTTCTTCACCTGATGCTGTTACAGCGTATAATGGTTATCTTACTTCTTCTTCTAAAACACCTGAAGAACATTTTATTGAAACCATCTCACTTGCTGGTTCCTATAAAGATTGGTCCTATTCTGGACAATCTACACAACTAGGTATAGAATTTCTTAAGAGAGGTGATAAAAGTGTATATTACACTAGTAATCCTACCACATTCCACCTAGATGGTGAAGTTATCACCTTTGACAATCTTAAGACACTTCTTTCTTTGAGAGAAGTGAGGACTATTAAGGTGTTTACAACAGTAGACAACATTAACCTCCACACGCAAGTTGTGGACATGTCAATGACATATGGACAACAGTTTGGTCCAACTTATTTGGATGGAGCTGATGTTACTAAAATAAAACCTCATAATTCACATGAAGGTAAAACATTTTATGTTTTACCTAATGATGACACTCTACGTGTTGAGGCTTTTGAGTACTACCACACAACTGATCCTAGTTTTCTGGGTAGGTACATGTCAGCATTAAATCACACTAAAAAGTGGAAATACCCACAAGTTAATGGTTTAACTTCTATTAAATGGGCAGATAACAACTGTTATCTTGCCACTGCATTGTTAACACTCCAACAAATAGAGTTGAAGTTTAATCCACCTGCTCTACAAGATGCTTATTACAGAGCAAGGGCTGGTGAAGCTGCTAACTTTTGTGCACTTATCTTAGCCTACTGTAATAAGACAGTAGGTGAGTTAGGTGATGTTAGAGAAACAATGAGTTACTTGTTTCAACATGCCAATTTAGATTCTTGCAAAAGAGTCTTGAACGTGGTGTGTAAAACTTGTGGACAACAGCAGACAACCCTTAAGGGTGTAGAAGCTGTTATGTACATGGGCACACTTTCTTATGAACAATTTAAGAAAGGTGTTCAGATACCTTGTACGTGTGGTAAACAAGCTACAAAATATCTAGTACAACAGGAGTCACCTTTTGTTATGATGTCAGCACCACCTGCTCAGTATGAACTTAAGCATGGTACATTTACTTGTGCTAGTGAGTACACTGGTAATTACCAGTGTGGTCACTATAAACATATAACTTCTAAAGAAACTTTGTATTGCATAGACGGTGCTTTACTTACAAAGTCCTCAGAATACAAAGGTCCTATTACGGATGTTTTCTACAAAGAAAACAGTTACACAACAACCATAAAACCAGTTACTTATAAATTGGATGGTGTTGTTTGTACAGAAATTGACCCTAAGTTGGACAATTATTATAAGAAAGACAATTCTTATTTCACAGAGCAACCAATTGATCTTGTACCAAACCAACCATATCCAAACGCAAGCTTCGATAATTTTAAGTTTGTATGTGATAATATCAAATTTGCTGATGATTTAAACCAGTTAACTGGTTATAAGAAACCTGCTTCAAGAGAGCTTAAAGTTACATTTTTCCCTGACTTAAATGGTGATGTGGTGGCTATTGATTATAAACACTACACACCCTCTTTTAAGAAAGGAGCTAAATTGTTACATAAACCTATTGTTTGGCATGTTAACAATGCAACTAATAAAGCCACGTATAAACCAAATACCTGGTGTATACGTTGTCTTTGGAGCACAAAACCAGTTGAAACATCAAATTCGTTTGATGTACTGAAGTCAGAGGACGCGCAGGGAATGGATAATCTTGCCTGCGAAGATCTAAAACCAGTCTCTGAAGAAGTAGTGGAAAATCCTACCATACAGAAAGACGTTCTTGAGTGTAATGTGAAAACTACCGAAGTTGTAGGAGACATTATACTTAAACCAGCAAATAATAGTTTAAAAATTACAGAAGAGGTTGGCCACACAGATCTAATGGCTGCTTATGTAGACAATTCTAGTCTTACTATTAAGAAACCTAATGAATTATCTAGAGTATTAGGTTTGAAAACCCTTGCTACTCATGGTTTAGCTGCTGTTAATAGTGTCCCTTGGGATACTATAGCTAATTATGCTAAGCCTTTTCTTAACAAAGTTGTTAGTACAACTACTAACATAGTTACACGGTGTTTAAACCGTGTTTGTACTAATTATATGCCTTATTTCTTTACTTTATTGCTACAATTGTGTACTTTTACTAGAAGTACAAATTCTAGAATTAAAGCATCTATGCCGACTACTATAGCAAAGAATACTGTTAAGAGTGTCGGTAAATTTTGTCTAGAGGCTTCATTTAATTATTTGAAGTCACCTAATTTTTCTAAACTGATAAATATTATAATTTGGTTTTTACTATTAAGTGTTTGCCTAGGTTCTTTAATCTACTCAACCGCTGCTTTAGGTGTTTTAATGTCTAATTTAGGCATGCCTTCTTACTGTACTGGTTACAGAGAAGGCTATTTGAACTCTACTAATGTCACTATTGCAACCTACTGTACTGGTTCTATACCTTGTAGTGTTTGTCTTAGTGGTTTAGATTCTTTAGACACCTATCCTTCTTTAGAAACTATACAAATTACCATTTCATCTTTTAAATGGGATTTAACTGCTTTTGGCTTAGTTGCAGAGTGGTTTTTGGCATATATTCTTTTCACTAGGTTTTTCTATGTACTTGGATTGGCTGCAATCATGCAATTGTTTTTCAGCTATTTTGCAGTACATTTTATTAGTAATTCTTGGCTTATGTGGTTAATAATTAATCTTGTACAAATGGCCCCGATTTCAGCTATGGTTAGAATGTACATCTTCTTTGCATCATTTTATTATGTATGGAAAAGTTATGTGCATGTTGTAGACGGTTGTAATTCATCAACTTGTATGATGTGTTACAAACGTAATAGAGCAACAAGAGTCGAATGTACAACTATTGTTAATGGTGTTAGAAGGTCCTTTTATGTCTATGCTAATGGAGGTAAAGGCTTTTGCAAACTACACAATTGGAATTGTGTTAATTGTGATACATTCTGTGCTGGTAGTACATTTATTAGTGATGAAGTTGCGAGAGACTTGTCACTACAGTTTAAAAGACCAATAAATCCTACTGACCAGTCTTCTTACATCGTTGATAGTGTTACAGTGAAGAATGGTTCCATCCATCTTTACTTTGATAAAGCTGGTCAAAAGACTTATGAAAGACATTCTCTCTCTCATTTTGTTAACTTAGACAACCTGAGAGCTAATAACACTAAAGGTTCATTGCCTATTAATGTTATAGTTTTTGATGGTAAATCAAAATGTGAAGAATCATCTGCAAAATCAGCGTCTGTTTACTACAGTCAGCTTATGTGTCAACCTATACTGTTACTAGATCAGGCATTAGTGTCTGATGTTGGTGATAGTGCGGAAGTTGCAGTTAAAATGTTTGATGCTTACGTTAATACGTTTTCATCAACTTTTAACGTACCAATGGAAAAACTCAAAACACTAGTTGCAACTGCAGAAGCTGAACTTGCAAAGAATGTGTCCTTAGACAATGTCTTATCTACTTTTATTTCAGCAGCTCGGCAAGGGTTTGTTGATTCAGATGTAGAAACTAAAGATGTTGTTGAATGTCTTAAATTGTCACATCAATCTGACATAGAAGTTACTGGCGATAGTTGTAATAACTATATGCTCACCTATAACAAAGTTGAAAACATGACACCCCGTGACCTTGGTGCTTGTATTGACTGTAGTGCGCGTCATATTAATGCGCAGGTAGCAAAAAGTCACAACATTGCTTTGATATGGAACGTTAAAGATTTCATGTCATTGTCTGAACAACTACGAAAACAAATACGTAGTGCTGCTAAAAAGAATAACTTACCTTTTAAGTTGACATGTGCAACTACTAGACAAGTTGTTAATGTTGTAACAACAAAGATAGCACTTAAGGGTGGTAAAATTGTTAATAATTGGTTGAAGCAGTTAATTAAAGTTACACTTGTGTTCCTTTTTGTTGCTGCTATTTTCTATTTAATAACACCTGTTCATGTCATGTCTAAACATACTGACTTTTCAAGTGAAATCATAGGATACAAGGCTATTGATGGTGGTGTCACTCGTGACATAGCATCTACAGATACTTGTTTTGCTAACAAACATGCTGATTTTGACACATGGTTTAGCCAGCGTGGTGGTAGTTATACTAATGACAAAGCTTGCCCATTGATTGCTGCAGTCATAACAAGAGAAGTGGGTTTTGTCGTGCCTGGTTTGCCTGGCACGATATTACGCACAACTAATGGTGACTTTTTGCATTTCTTACCTAGAGTTTTTAGTGCAGTTGGTAACATCTGTTACACACCATCAAAACTTATAGAGTACACTGACTTTGCAACATCAGCTTGTGTTTTGGCTGCTGAATGTACAATTTTTAAAGATGCTTCTGGTAAGCCAGTACCATATTGTTATGATACCAATGTACTAGAAGGTTCTGTTGCTTATGAAAGTTTACGCCCTGACACACGTTATGTGCTCATGGATGGCTCTATTATTCAATTTCCTAACACCTACCTTGAAGGTTCTGTTAGAGTGGTAACAACTTTTGATTCTGAGTACTGTAGGCACGGCACTTGTGAAAGATCAGAAGCTGGTGTTTGTGTATCTACTAGTGGTAGATGGGTACTTAACAATGATTATTACAGATCTTTACCAGGAGTTTTCTGTGGTGTAGATGCTGTAAATTTACTTACTAATATGTTTACACCACTAATTCAACCTATTGGTGCTTTGGACATATCAGCATCTATAGTAGCTGGTGGTATTGTAGCTATCGTAGTAACATGCCTTGCCTACTATTTTATGAGGTTTAGAAGAGCTTTTGGTGAATACAGTCATGTAGTTGCCTTTAATACTTTACTATTCCTTATGTCATTCACTGTACTCTGTTTAACACCAGTTTACTCATTCTTACCTGGTGTTTATTCTGTTATTTACTTGTACTTGACATTTTATCTTACTAATGATGTTTCTTTTTTAGCACATATTCAGTGGATGGTTATGTTCACACCTTTAGTACCTTTCTGGATAACAATTGCTTATATCATTTGTATTTCCACAAAGCATTTCTATTGGTTCTTTAGTAATTACCTAAAGAGACGTGTAGTCTTTAATGGTGTTTCCTTTAGTACTTTTGAAGAAGCTGCGCTGTGCACCTTTTTGTTAAATAAAGAAATGTATCTAAAGTTGCGTAGTGATGTGCTATTACCTCTTACGCAATATAATAGATACTTAGCTCTTTATAATAAGTACAAGTATTTTAGTGGAGCAATGGATACAACTAGCTACAGAGAAGCTGCTTGTTGTCATCTCGCAAAGGCTCTCAATGACTTCAGTAACTCAGGTTCTGATGTTCTTTACCAACCACCACAAACCTCTATCACCTCAGCTGTTTTGCAGAGTGGTTTTAGAAAAATGGCATTCCCATCTGGTAAAGTTGAGGGTTGTATGGTACAAGTAACTTGTGGTACAACTACACTTAACGGTCTTTGGCTTGATGACGTAGTTTACTGTCCAAGACATGTGATCTGCACCTCTGAAGACATGCTTAACCCTAATTATGAAGATTTACTCATTCGTAAGTCTAATCATAATTTCTTGGTACAGGCTGGTAATGTTCAACTCAGGGTTATTGGACATTCTATGCAAAATTGTGTACTTAAGCTTAAGGTTGATACAGCCAATCCTAAGACACCTAAGTATAAGTTTGTTCGCATTCAACCAGGACAGACTTTTTCAGTGTTAGCTTGTTACAATGGTTCACCATCTGGTGTTTACCAATGTGCTATGAGGCCCAATTTCACTATTAAGGGTTCATTCCTTAATGGTTCATGTGGTAGTGTTGGTTTTAACATAGATTATGACTGTGTCTCTTTTTGTTACATGCACCATATGGAATTACCAACTGGAGTTCATGCTGGCACAGACTTAGAAGGTAACTTTTATGGACCTTTTGTTGACAGGCAAACAGCACAAGCAGCTGGTACGGACACAACTATTACAGTTAATGTTTTAGCTTGGTTGTACGCTGCTGTTATAAATGGAGACAGGTGGTTTCTCAATCGATTTACCACAACTCTTAATGACTTTAACCTTGTGGCTATGAAGTACAATTATGAACCTCTAACACAAGACCATGTTGACATACTAGGACCTCTTTCTGCTCAAACTGGAATTGCCGTTTTAGATATGTGTGCTTCATTAAAAGAATTACTGCAAAATGGTATGAATGGACGTACCATATTGGGTAGTGCTTTATTAGAAGATGAATTTACACCTTTTGATGTTGTTAGACAATGCTCAGGTGTTACTTTCCAAAGTGCAGTGAAAAGAACAATCAAGGGTACACACCACTGGTTGTTACTCACAATTTTGACTTCACTTTTAGTTTTAGTCCAGAGTACTCAATGGTCTTTGTTCTTTTTTTTGTATGAAAATGCCTTTTTACCTTTTGCTATGGGTATTATTGCTATGTCTGCTTTTGCAATGATGTTTGTCAAACATAAGCATGCATTTCTCTGTTTGTTTTTGTTACCTTCTCTTGCCACTGTAGCTTATTTTAATATGGTCTATATGCCTGCTAGTTGGGTGATGCGTATTATGACATGGTTGGATATGGTTGATACTAGTTTGTCTGGTTTTAAGCTAAAAGACTGTGTTATGTATGCATCAGCTGTAGTGTTACTAATCCTTATGACAGCAAGAACTGTGTATGATGATGGTGCTAGGAGAGTGTGGACACTTATGAATGTCTTGACACTCGTTTATAAAGTTTATTATGGTAATGCTTTAGATCAAGCCATTTCCATGTGGGCTCTTATAATCTCTGTTACTTCTAACTACTCAGGTGTAGTTACAACTGTCATGTTTTTGGCCAGAGGTATTGTTTTTATGTGTGTTGAGTATTGCCCTATTTTCTTCATAACTGGTAATACACTTCAGTGTATAATGCTAGTTTATTGTTTCTTAGGCTATTTTTGTACTTGTTACTTTGGCCTCTTTTGTTTACTCAACCGCTACTTTAGACTGACTCTTGGTGTTTATGATTACTTAGTTTCTACACAGGAGTTTAGATATATGAATTCACAGGGACTACTCCCACCCAAGAATAGCATAGATGCCTTCAAACTCAACATTAAATTGTTGGGTGTTGGTGGCAAACCTTGTATCAAAGTAGCCACTGTACAGTCTAAAATGTCAGATGTAAAGTGCACATCAGTAGTCTTACTCTCAGTTTTGCAACAACTCAGAGTAGAATCATCATCTAAATTGTGGGCTCAATGTGTCCAGTTACACAATGACATTCTCTTAGCTAAAGATACTACTGAAGCCTTTGAAAAAATGGTTTCACTACTTTCTGTTTTGCTTTCCATGCAGGGTGCTGTAGACATAAACAAGCTTTGTGAAGAAATGCTGGACAACAGGGCAACCTTACAAGCTATAGCCTCAGAGTTTAGTTCCCTTCCATCATATGCAGCTTTTGCTACTGCTCAAGAAGCTTATGAGCAGGCTGTTGCTAATGGTGATTCTGAAGTTGTTCTTAAAAAGTTGAAGAAGTCTTTGAATGTGGCTAAATCTGAATTTGACCGTGATGCAGCCATGCAACGTAAGTTGGAAAAGATGGCTGATCAAGCTATGACCCAAATGTATAAACAGGCTAGATCTGAGGACAAGAGGGCAAAAGTTACTAGTGCTATGCAGACAATGCTTTTCACTATGCTTAGAAAGTTGGATAATGATGCACTCAACAACATTATCAACAATGCAAGAGATGGTTGTGTTCCCTTGAACATAATACCTCTTACAACAGCAGCCAAACTAATGGTTGTCATACCAGACTATAACACATATAAAAATACGTGTGATGGTACAACATTTACTTATGCATCAGCATTGTGGGAAATCCAACAGGTTGTAGATGCAGATAGTAAAATTGTTCAACTTAGTGAAATTAGTATGGACAATTCACCTAATTTAGCATGGCCTCTTATTGTAACAGCTTTAAGGGCCAATTCTGCTGTCAAATTACAGAATAATGAGCTTAGTCCTGTTGCACTACGACAGATGTCTTGTGCTGCCGGTACTACACAAACTGCTTGCACTGATGACAATGCGTTAGCTTACTACAACACAACAAAGGGAGGTAGGTTTGTACTTGCACTGTTATCCGATTTACAGGATTTGAAATGGGCTAGATTCCCTAAGAGTGATGGAACTGGTACTATCTATACAGAACTGGAACCACCTTGTAGGTTTGTTACAGACACACCTAAAGGTCCTAAAGTGAAGTATTTATACTTTATTAAAGGATTAAACAACCTAAATAGAGGTATGGTACTTGGTAGTTTAGCTGCCACAGTACGTCTACAAGCTGGTAATGCAACAGAAGTGCCTGCCAATTCAACTGTATTATCTTTCTGTGCTTTTGCTGTAGATGCTGCTAAAGCTTACAAAGATTATCTAGCTAGTGGGGGACAACCAATCACTAATTGTGTTAAGATGTTGTGTACACACACTGGTACTGGTCAGGCAATAACAGTTACACCGGAAGCCAATATGGATCAAGAATCCTTTGGTGGTGCATCGTGTTGTCTGTACTGCCGTTGCCACATAGATCATCCAAATCCTAAAGGATTTTGTGACTTAAAAGGTAAGTATGTACAAATACCTACAACTTGTGCTAATGACCCTGTGGGTTTTACACTTAAAAACACAGTCTGTACCGTCTGCGGTATGTGGAAAGGTTATGGCTGTAGTTGTGATCAACTCCGCGAACCCATGCTTCAGTCAGCTGATGCACAATCGTTTTTAAACGGGTTTGCGGTGTAAGTGCAGCCCGTCTTACACCGTGCGGCACAGGCACTAGTACTGATGTCGTATACAGGGCTTTTGACATCTACAATGATAAAGTAGCTGGTTTTGCTAAATTCCTAAAAACTAATTGTTGTCGCTTCCAAGAAAAGGACGAAGATGACAATTTAATTGATTCTTACTTTGTAGTTAAGAGACACACTTTCTCTAACTACCAACATGAAGAAACAATTTATAATTTACTTAAGGATTGTCCAGCTGTTGCTAAACATGACTTCTTTAAGTTTAGAATAGACGGTGACATGGTACCACATATATCACGTCAACGTCTTACTAAATACACAATGGCAGACCTCGTCTATGCTTTAAGGCATTTTGATGAAGGTAATTGTGACACATTAAAAGAAATACTTGTCACATACAATTGTTGTGATGATGATTATTTCAATAAAAAGGACTGGTATGATTTTGTAGAAAACCCAGATATATTACGCGTATACGCCAACTTAGGTGAACGTGTACGCCAAGCTTTGTTAAAAACAGTACAATTCTGTGATGCCATGCGAAATGCTGGTATTGTTGGTGTACTGACATTAGATAATCAAGATCTCAATGGTAACTGGTATGATTTCGGTGATTTCATACAAACCACGCCAGGTAGTGGAGTTCCTGTTGTAGATTCTTATTATTCATTGTTAATGCCTATATTAACCTTGACCAGGGCTTTAACTGCAGAGTCACATGTTGACACTGACTTAACAAAGCCTTACATTAAGTGGGATTTGTTAAAATATGACTTCACGGAAGAGAGGTTAAAACTCTTTGACCGTTATTTTAAATATTGGGATCAGACATACCACCCAAATTGTGTTAACTGTTTGGATGACAGATGCATTCTGCATTGTGCAAACTTTAATGTTTTATTCTCTACAGTGTTCCCACCTACAAGTTTTGGACCACTAGTGAGAAAAATATTTGTTGATGGTGTTCCATTTGTAGTTTCAACTGGATACCACTTCAGAGAGCTAGGTGTTGTACATAATCAGGATGTAAACTTACATAGCTCTAGACTTAGTTTTAAGGAATTACTTGTGTATGCTGCTGACCCTGCTATGCACGCTGCTTCTGGTAATCTATTACTAGATAAACGCACTACGTGCTTTTCAGTAGCTGCACTTACTAACAATGTTGCTTTTCAAACTGTCAAACCCGGTAATTTTAACAAAGACTTCTATGACTTTGCTGTGTCTAAGGGTTTCTTTAAGGAAGGAAGTTCTGTTGAATTAAAACACTTCTTCTTTGCTCAGGATGGTAATGCTGCTATCAGCGATTATGACTACTATCGTTATAATCTACCAACAATGTGTGATATCAGACAACTACTATTTGTAGTTGAAGTTGTTGATAAGTACTTTGATTGTTACGATGGTGGCTGTATTAATGCTAACCAAGTCATCGTCAACAACCTAGACAAATCAGCTGGTTTTCCATTTAATAAATGGGGTAAGGCTAGACTTTATTATGATTCAATGAGTTATGAGGATCAAGATGCACTTTTCGCATATACAAAACGTAATGTCATCCCTACTATAACTCAAATGAATCTTAAGTATGCCATTAGTGCAAAGAATAGAGCTCGCACCGTAGCTGGTGTCTCTATCTGTAGTACTATGACCAATAGACAGTTTCATCAAAAATTATTGAAATCAATAGCCGCCACTAGAGGAGCTACTGTAGTAATTGGAACAAGCAAATTCTATGGTGGTTGGCACAACATGTTAAAAACTGTTTATAGTGATGTAGAAAACCCTCACCTTATGGGTTGGGATTATCCTAAATGTGATAGAGCCATGCCTAACATGCTTAGAATTATGGCCTCACTTGTTCTTGCTCGCAAACATACAACGTGTTGTAGCTTGTCACACCGTTTCTATAGATTAGCTAATGAGTGTGCTCAAGTATTGAGTGAAATGGTCATGTGTGGCGGTTCACTATATGTTAAACCAGGTGGAACCTCATCAGGAGATGCCACAACTGCTTATGCTAATAGTGTTTTTAACATTTGTCAAGCTGTCACGGCCAATGTTAATGCACTTTTATCTACTGATGGTAACAAAATTGCCGATAAGTATGTCCGCAATTTACAACACAGACTTTATGAGTGTCTCTATAGAAATAGAGATGTTGACACAGACTTTGTGAATGAGTTTTACGCATATTTGCGTAAACATTTCTCAATGATGATACTCTCTGACGATGCTGTTGTGTGTTTCAATAGCACTTATGCATCTCAAGGTCTAGTGGCTAGCATAAAGAACTTTAAGTCAGTTCTTTATTATCAAAACAATGTTTTTATGTCTGAAGCAAAATGTTGGACTGAGACTGACCTTACTAAAGGACCTCATGAATTTTGCTCTCAACATACAATGCTAGTTAAACAGGGTGATGATTATGTGTACCTTCCTTACCCAGATCCATCAAGAATCCTAGGGGCCGGCTGTTTTGTAGATGATATCGTAAAAACAGATGGTACACTTATGATTGAACGGTTCGTGTCTTTAGCTATAGATGCTTACCCACTTACTAAACATCCTAATCAGGAGTATGCTGATGTCTTTCATTTGTACTTACAATACATAAGAAAGCTACATGATGAGTTAACAGGACACATGTTAGACATGTATTCTGTTATGCTTACTAATGATAACACTTCAAGGTATTGGGAACCTGAGTTTTATGAGGCTATGTACACACCGCATACAGTCTTACAGGCTGTTGGGGCTTGTGTTCTTTGCAATTCACAGACTTCATTAAGATGTGGTGCTTGCATACGTAGACCATTCTTATGTTGTAAATGCTGTTACGACCATGTCATATCAACATCACATAAATTAGTCTTGTCTGTTAATCCGTATGTTTGCAATGCTCCAGGTTGTGATGTCACAGATGTGACTCAACTTTACTTAGGAGGTATGAGCTATTATTGTAAATCACATAAACCACCCATTAGTTTTCCATTGTGTGCTAATGGACAAGTTTTTGGTTTATATAAAAATACATGTGTTGGTAGCGATAATGTTACTGACTTTAATGCAATTGCAACATGTGACTGGACAAATGCTGGTGATTACATTTTAGCTAACACCTGTACTGAAAGACTCAAGCTTTTTGCAGCAGAAACGCTCAAAGCTACTGAGGAGACATTTAAACTGTCTTATGGTATTGCTACTGTACGTGAAGTGCTGTCTGACAGAGAATTACATCTTTCATGGGAAGTTGGTAAACCTAGACCACCACTTAACCGAAATTATGTCTTTACTGGTTATCGTGTAACTAAAAACAGTAAAGTACAAATAGGAGAGTACACCTTTGAAAAAGGTGACTATGGTGATGCTGTTGTTTACCGAGGTACAACAACTTACAAATTAAATGTTGGTGATTATTTTGTGCTGACATCACATACAGTAATGCCATTAAGTGCACCTACACTAGTGCCACAAGAGCACTATGTTAGAATTACTGGCTTATACCCAACACTCAATATCTCAGATGAGTTTTCTAGCAATGTTGCAAATTATCAAAAGGTTGGTATGCAAAAGTATTCTACACTCCAGGGACCACCTGGTACTGGTAAGAGTCATTTTGCTATTGGCCTAGCTCTCTACTACCCTTCTGCTCGCATAGTGTATACAGCTTGCTCTCATGCCGCTGTTGATGCACTATGTGAGAAGGCATTAAAATATTTGCCTATAGATAAATGTAGTAGAATTATACCTGCACGTGCTCGTGTAGAGTGTTTTGATAAATTCAAAGTGAATTCAACATTAGAACAGTATGTCTTTTGTACTGTAAATGCATTGCCTGAGACGACAGCAGATATAGTTGTCTTTGATGAAATTTCAATGGCCACAAATTATGATTTGAGTGTTGTCAATGCCAGATTACGTGCTAAGCACTATGTGTACATTGGCGACCCTGCTCAATTACCTGCACCACGCACATTGCTAACTAAGGGCACACTAGAACCAGAATATTTCAATTCAGTGTGTAGACTTATGAAAACTATAGGTCCAGACATGTTCCTCGGAACTTGTCGGCGTTGTCCTGCTGAAATTGTTGACACTGTGAGTGCTTTGGTTTATGATAATAAGCTTAAAGCACATAAAGACAAATCAGCTCAATGCTTTAAAATGTTTTATAAGGGTGTTATCACGCATGATGTTTCATCTGCAATTAACAGGCCACAAATAGGCGTGGTAAGAGAATTCCTTACACGTAACCCTGCTTGGAGAAAAGCTGTCTTTATTTCACCTTATAATTCACAGAATGCTGTAGCCTCAAAGATTTTGGGACTACCAACTCAAACTGTTGATTCATCACAGGGCTCAGAATATGACTATGTCATATTCACTCAAACCACTGAAACAGCTCACTCTTGTAATGTAAACAGATTTAATGTTGCTATTACCAGAGCAAAAGTAGGCATACTTTGCATAATGTCTGATAGAGACCTTTATGACAAGTTGCAATTTACAAGTCTTGAAATTCCACGTAGGAATGTGGCAACTTTACAAGCTGAAAATGTAACAGGACTCTTTAAAGATTGTAGTAAGGTAATCACTGGGTTACATCCTACACAGGCACCTACACACCTCAGTGTTGACACTAAATTCAAAACTGAAGGTTTATGTGTTGACATACCTGGCATACCTAAGGACATGACCTATAGAAGACTCATCTCTATGATGGGTTTTAAAATGAATTATCAAGTTAATGGTTACCCTAACATGTTTATCACCCGCGAAGAAGCTATAAGACATGTACGTGCATGGATTGGCTTCGATGTCGAGGGGTGTCATGCTACTAGAGAAGCTGTTGGTACCAATTTACCTTTACAGCTAGGTTTTTCTACAGGTGTTAACCTAGTTGCTGTACCTACAGGTTATGTTGATACACCTAATAATACAGATTTTTCCAGAGTTAGTGCTAAACCACCGCCTGGAGATCAATTTAAACACCTCATACCACTTATGTACAAAGGACTTCCTTGGAATGTAGTGCGTATAAAGATTGTACAAATGTTAAGTGACACACTTAAAAATCTCTCTGACAGAGTCGTATTTGTCTTATGGGCACATGGCTTTGAGTTGACATCTATGAAGTATTTTGTGAAAATAGGACCTGAGCGCACCTGTTGTCTATGTGATAGACGTGCCACATGCTTTTCCACTGCTTCAGACACTTATGCCTGTTGGCATCATTCTATTGGATTTGATTACGTCTATAATCCGTTTATGATTGATGTTCAACAATGGGGTTTTACAGGTAACCTACAAAGCAACCATGATCTGTATTGTCAAGTCCATGGTAATGCACATGTAGCTAGTTGTGATGCAATCATGACTAGGTGTCTAGCTGTCCACGAGTGCTTTGTTAAGCGTGTTGACTGGACTATTGAATATCCTATAATTGGTGATGAACTGAAGATTAATGCGGCTTGTAGAAAGGTTCAACACATGGTTGTTAAAGCTGCATTATTAGCAGACAAATTCCCAGTTCTTCACGACATTGGTAACCCTAAAGCTATTAAGTGTGTACCTCAAGCTGATGTAGAATGGAAGTTCTATGATGCACAGCCTTGTAGTGACAAAGCTTATAAAATAGAAGAATTATTCTATTCTTATGCCACACATTCTGACAAATTCACAGATGGTGTATGCCTATTTTGGAATTGCAATGTCGATAGATATCCTGCTAATTCCATTGTTTGTAGATTTGACACTAGAGTGCTATCTAACCTTAACTTGCCTGGTTGTGATGGTGGCAGTTTGTATGTAAATAAACATGCATTCCACACACCAGCTTTTGATAAAAGTGCTTTTGTTAATTTAAAACAATTACCATTTTTCTATTACTCTGACAGTCCATGTGAGTCTCATGGAAAACAAGTAGTGTCAGATATAGATTATGTACCACTAAAGTCTGCTACGTGTATAACACGTTGCAATTTAGGTGGTGCTGTCTGTAGACATCATGCTAATGAGTACAGATTGTATCTCGATGCTTATAACATGATGATCTCAGCTGGCTTTAGCTTGTGGGTTTACAAACAATTTGATACTTATAACCTCTGGAACACTTTTACAAGACTTCAGAGTTTAGAAAATGTGGCTTTTAATGTTGTAAATAAGGGACACTTTGATGGACAACAGGGTGAAGTACCAGTTTCTATCATTAATAACACTGTTTACACAAAAGTTGATGGTGTTGATGTAGAATTGTTTGAAAATAAAACAACATTACCTGTTAATGTAGCATTTGAGCTTTGGGCTAAGCGCAACATTAAACCAGTACCAGAGGTGAAAATACTCAATAATTTGGGTGTGGACATTGCTGCTAATACTGTGATCTGGGACTACAAAAGAGATGCTCCAGCACATATATCTACTATTGGTGTTTGTTCTATGACTGACATAGCCAAGAAACCAACTGAAACGATTTGTGCACCACTCACTGTCTTTTTTGATGGTAGAGTTGATGGTCAAGTAGACTTATTTAGAAATGCCCGTAATGGTGTTCTTATTACAGAAGGTAGTGTTAAAGGTTTACAACCATCTGTAGGTCCCAAACAAGCTAGTCTTAATGGAGTCACATTAATTGGAGAAGCCGTAAAAACACAGTTCAATTATTATAAGAAAGTTGATGGTGTTGTCCAACAATTACCTGAAACTTACTTTACTCAGAGTAGAAATTTACAAGAATTTAAACCCAGGAGTCAAATGGAAATTGATTTCTTAGAATTAGCTATGGATGAATTCATTGAACGGTATAAATTAGAAGGCTATGCCTTCGAACATATCGTTTATGGAGATTTTAGTCATAGTCAGTTAGGTGGTTTACATCTACTGATTGGACTAGCTAAACGTTTTAAGGAATCACCTTTTGAATTAGAAGATTTTATTCCTATGGACAGTACAGTTAAAAACTATTTCATAACAGATGCGCAAACAGGTTCATCTAAGTGTGTGTGTTCTGTTATTGATTTATTACTTGATGATTTTGTTGAAATAATAAAATCCCAAGATTTATCTGTAGTTTCTAAGGTTGTCAAAGTGACTATTGACTATACAGAAATTTCATTTATGCTTTGGTGTAAAGATGGCCATGTAGAAACATTTTACCCAAAATTACAATCTAGTCAAGCGTGGCAACCGGGTGTTGCTATGCCTAATCTTTACAAAATGCAAAGAATGCTATTAGAAAAGTGTGACCTTCAAAATTATGGTGATAGTGCAACATTACCTAAAGGCATAATGATGAATGTCGCAAAATATACTCAACTGTGTCAATATTTAAACACATTAACATTAGCTGTACCCTATAATATGAGAGTTATACATTTTGGTGCTGGTTCTGATAAAGGAGTTGCACCAGGTACAGCTGTTTTAAGACAGTGGTTGCCTACGGGTACGCTGCTTGTCGATTCAGATCTTAATGACTTTGTCTCTGATGCAGATTCAACTTTGATTGGTGATTGTGCAACTGTACATACAGCTAATAAATGGGATCTCATTATTAGTGATATGTACGACCCTAAGACTAAAAATGTTACAAAAGAAAATGACTCTAAAGAGGGTTTTTTCACTTACATTTGTGGGTTTATACAACAAAAGCTAGCTCTTGGAGGTTCCGTGGCTATAAAGATAACAGAACATTCTTGGAATGCTGATCTTTATAAGCTCATGGGACACTTCGCATGGTGGACAGCCTTTGTTACTAATGTGAATGCGTCATCATCTGAAGCATTTTTAATTGGATGTAATTATCTTGGCAAACCACGCGAACAAATAGATGGTTATGTCATGCATGCAAATTACATATTTTGGAGGAATACAAATCCAATTCAGTTGTCTTCCTATTCTTTATTTGACATGAGTAAATTTCCCCTTAAATTAAGGGGTACTGCTGTTATGTCTTTAAAAGAAGGTCAAATCAATGATATGATTTTATCTCTTCTTAGTAAAGGTAGACTTATAATTAGAGAAAACAACAGAGTTGTTATTTCTAGTGATGTTCTTGTTAACAACTAAACGAACAATGTTTGTTTTTCTTGTTTTATTGCCACTAGTCTCTAGTCAGTGTGTTAATCTTACAACCAGAACTCAATTACCCCCTGCATACACTAATTCTTTCACACGTGGTGTTTATTACCCTGACAAAGTTTTCAGATCCTCAGTTTTACATTCAACTCAGGACTTGTTCTTACCTTTCTTTTCCAATGTTACTTGGTTCCATGCTATACATGTCTCTGGGACCAATGGTACTAAGAGGTTTGATAACCCTGTCCTACCATTTAATGATGGTGTTTATTTTGCTTCCACTGAGAAGTCTAACATAATAAGAGGCTGGATTTTTGGTACTACTTTAGATTCGAAGACCCAGTCCCTACTTATTGTTAATAACGCTACTAATGTTGTTATTAAAGTCTGTGAATTTCAATTTTGTAATGATCCATTTTTGGGTGTTTATTACCACAAAAACAACAAAAGTTGGATGGAAAGTGAGTTCAGAGTTTATTCTAGTGCGAATAATTGCACTTTTGAATATGTCTCTCAGCCTTTTCTTATGGACCTTGAAGGAAAACAGGGTAATTTCAAAAATCTTAGGGAATTTGTGTTTAAGAATATTGATGGTTATTTTAAAATATATTCTAAGCACACGCCTATTAATTTAGTGCGTGATCTCCCTCAGGGTTTTTCGGCTTTAGAACCATTGGTAGATTTGCCAATAGGTATTAACATCACTAGGTTTCAAACTTTACTTGCTTTACATAGAAGTTATTTGACTCCTGGTGATTCTTCTTCAGGTTGGACAGCTGGTGCTGCAGCTTATTATGTGGGTTATCTTCAACCTAGGACTTTTCTATTAAAATATAATGAAAATGGAACCATTACAGATGCTGTAGACTGTGCACTTGACCCTCTCTCAGAAACAAAGTGTACGTTGAAATCCTTCACTGTAGAAAAAGGAATCTATCAAACTTCTAACTTTAGAGTCCAACCAACAGAATCTATTGTTAGATTTCCTAATATTACAAACTTGTGCCCTTTTGGTGAAGTTTTTAACGCCACCAGATTTGCATCTGTTTATGCTTGGAACAGGAAGAGAATCAGCAACTGTGTTGCTGATTATTCTGTCCTATATAATTCCGCATCATTTTCCACTTTTAAGTGTTATGGAGTGTCTCCTACTAAATTAAATGATCTCTGCTTTACTAATGTCTATGCAGATTCATTTGTAATTAGAGGTGATGAAGTCAGACAAATCGCTCCAGGGCAAACTGGAAAGATTGCTGATTATAATTATAAATTACCAGATGATTTTACAGGCTGCGTTATAGCTTGGAATTCTAACAATCTTGATTCTAAGGTTGGTGGTAATTATAATTACCTGTATAGATTGTTTAGGAAGTCTAATCTCAAACCTTTTGAGAGAGATATTTCAACTGAAATCTATCAGGCCGGTAGCACACCTTGTAATGGTGTTGAAGGTTTTAATTGTTACTTTCCTTTACAATCATATGGTTTCCAACCCACTAATGGTGTTGGTTACCAACCATACAGAGTAGTAGTACTTTCTTTTGAACTTCTACATGCACCAGCAACTGTTTGTGGACCTAAAAAGTCTACTAATTTGGTTAAAAACAAATGTGTCAATTTCAACTTCAATGGTTTAACAGGCACAGGTGTTCTTACTGAGTCTAACAAAAAGTTTCTGCCTTTCCAACAATTTGGCAGAGACATTGCTGACACTACTGATGCTGTCCGTGATCCACAGACACTTGAGATTCTTGACATTACACCATGTTCTTTTGGTGGTGTCAGTGTTATAACACCAGGAACAAATACTTCTAACCAGGTTGCTGTTCTTTATCAGGATGTTAACTGCACAGAAGTCCCTGTTGCTATTCATGCAGATCAACTTACTCCTACTTGGCGTGTTTATTCTACAGGTTCTAATGTTTTTCAAACACGTGCAGGCTGTTTAATAGGGGCTGAACATGTCAACAACTCATATGAGTGTGACATACCCATTGGTGCAGGTATATGCGCTAGTTATCAGACTCAGACTAATTCTCCTCGGCGGGCACGTAGTGTAGCTAGTCAATCCATCATTGCCTACACTATGTCACTTGGTGCAGAAAATTCAGTTGCTTACTCTAATAACTCTATTGCCATACCCACAAATTTTACTATTAGTGTTACCACAGAAATTCTACCAGTGTCTATGACCAAGACATCAGTAGATTGTACAATGTACATTTGTGGTGATTCAACTGAATGCAGCAATCTTTTGTTGCAATATGGCAGTTTTTGTACACAATTAAACCGTGCTTTAACTGGAATAGCTGTTGAACAAGACAAAAACACCCAAGAAGTTTTTGCACAAGTCAAACAAATTTACAAAACACCACCAATTAAAGATTTTGGTGGTTTTAATTTTTCACAAATATTACCAGATCCATCAAAACCAAGCAAGAGGTCATTTATTGAAGATCTACTTTTCAACAAAGTGACACTTGCAGATGCTGGCTTCATCAAACAATATGGTGATTGCCTTGGTGATATTGCTGCTAGAGACCTCATTTGTGCACAAAAGTTTAACGGCCTTACTGTTTTGCCACCTTTGCTCACAGATGAAATGATTGCTCAATACACTTCTGCACTGTTAGCGGGTACAATCACTTCTGGTTGGACCTTTGGTGCAGGTGCTGCATTACAAATACCATTTGCTATGCAAATGGCTTATAGGTTTAATGGTATTGGAGTTACACAGAATGTTCTCTATGAGAACCAAAAATTGATTGCCAACCAATTTAATAGTGCTATTGGCAAAATTCAAGACTCACTTTCTTCCACAGCAAGTGCACTTGGAAAACTTCAAGATGTGGTCAACCAAAATGCACAAGCTTTAAACACGCTTGTTAAACAACTTAGCTCCAATTTTGGTGCAATTTCAAGTGTTTTAAATGATATCCTTTCACGTCTTGACAAAGTTGAGGCTGAAGTGCAAATTGATAGGTTGATCACAGGCAGACTTCAAAGTTTGCAGACATATGTGACTCAACAATTAATTAGAGCTGCAGAAATCAGAGCTTCTGCTAATCTTGCTGCTACTAAAATGTCAGAGTGTGTACTTGGACAATCAAAAAGAGTTGATTTTTGTGGAAAGGGCTATCATCTTATGTCCTTCCCTCAGTCAGCACCTCATGGTGTAGTCTTCTTGCATGTGACTTATGTCCCTGCACAAGAAAAGAACTTCACAACTGCTCCTGCCATTTGTCATGATGGAAAAGCACACTTTCCTCGTGAAGGTGTCTTTGTTTCAAATGGCACACACTGGTTTGTAACACAAAGGAATTTTTATGAACCACAAATCATTACTACAGACAACACATTTGTGTCTGGTAACTGTGATGTTGTAATAGGAATTGTCAACAACACAGTTTATGATCCTTTGCAACCTGAATTAGACTCATTCAAGGAGGAGTTAGATAAATATTTTAAGAATCATACATCACCAGATGTTGATTTAGGTGACATCTCTGGCATTAATGCTTCAGTTGTAAACATTCAAAAAGAAATTGACCGCCTCAATGAGGTTGCCAAGAATTTAAATGAATCTCTCATCGATCTCCAAGAACTTGGAAAGTATGAGCAGTATATAAAATGGCCATGGTACATTTGGCTAGGTTTTATAGCTGGCTTGATTGCCATAGTAATGGTGACAATTATGCTTTGCTGTATGACCAGTTGCTGTAGTTGTCTCAAGGGCTGTTGTTCTTGTGGATCCTGCTGCAAATTTGATGAAGACGACTCTGAGCCAGTGCTCAAAGGAGTCAAATTACATTACACATAAACGAACTTATGGATTTGTTTATGAGAATCTTCACAATTGGAACTGTAACTTTGAAGCAAGGTGAAATCAAGGATGCTACTCCTTCAGATTTTGTTCGCGCTACTGCAACGATACCGATACAAGCCTCACTCCCTTTCGGATGGCTTATTGTTGGCGTTGCACTTCTTGCTGTTTTTCAGAGCGCTTCCAAAATCATAACCCTCAAAAAGAGATGGCAACTAGCACTCTCCAAGGGTGTTCACTTTGTTTGCAACTTGCTGTTGTTGTTTGTAACAGTTTACTCACACCTTTTGCTCGTTGCTGCTGGCCTTGAAGCCCCTTTTCTCTATCTTTATGCTTTAGTCTACTTCTTGCAGAGTATAAACTTTGTAAGAATAATAATGAGGCTTTGGCTTTGCTGGAAATGCCGTTCCAAAAACCCATTACTTTATGATGCCAACTATTTTCTTTGCTGGCATACTAATTGTTACGACTATTGTATACCTTACAATAGTGTAACTTCTTCAATTGTCATTACTTCAGGTGATGGCACAACAAGTCCTATTTCTGAACATGACTACCAGATTGGTGGTTATACTGAAAAATGGGAATCTGGAGTAAAAGACTGTGTTGTATTACACAGTTACTTCACTTCAGACTATTACCAGCTGTACTCAACTCAATTGAGTACAGACACTGGTGTTGAACATGTTACCTTCTTCATCTACAATAAAATTGTTGATGAGCCTGAAGAACATGTCCAAATTCACACAATCGACGGTTCATCCGGAGTTGTTAATCCAGTAATGGAACCAATTTATGATGAACCGACGACGACTACTAGCGTGCCTTTGTAAGCACAAGCTGATGAGTACGAACTTATGTACTCATTCGTTTCGGAAGAGACAGGTACGTTAATAGTTAATAGCGTACTTCTTTTTCTTGCTTTCGTGGTATTCTTGCTAGTTACACTAGCCATCCTTACTGCGCTTCGATTGTGTGCGTACTGCTGCAATATTGTTAACGTGAGTCTTGTAAAACCTTCTTTTTACGTTTACTCTCGTGTTAAAAATCTGAATTCTTCTAGAGTTCCTGATCTTCTGGTCTAAACGAACTAAATATTATATTAGTTTTTCTGTTTGGAACTTTAATTTTAGCCATGGCAGATTCCAACGGTACTATTACCGTTGAAGAGCTTAAAAAGCTCCTTGAACAATGGAACCTAGTAATAGGTTTCCTATTCCTTACATGGATTTGTCTTCTACAATTTGCCTATGCCAACAGGAATAGGTTTTTGTATATAATTAAGTTAATTTTCCTCTGGCTGTTATGGCCAGTAACTTTAGCTTGTTTTGTGCTTGCTGCTGTTTACAGAATAAATTGGATCACCGGTGGAATTGCTATCGCAATGGCTTGTCTTGTAGGCTTGATGTGGCTCAGCTACTTCATTGCTTCTTTCAGACTGTTTGCGCGTACGCGTTCCATGTGGTCATTCAATCCAGAAACTAACATTCTTCTCAACGTGCCACTCCATGGCACTATTCTGACCAGACCGCTTCTAGAAAGTGAACTCGTAATCGGAGCTGTGATCCTTCGTGGACATCTTCGTATTGCTGGACACCATCTAGGACGCTGTGACATCAAGGACCTGCCTAAAGAAATCACTGTTGCTACATCACGAACGCTTTCTTATTACAAATTGGGAGCTTCGCAGCGTGTAGCAGGTGACTCAGGTTTTGCTGCATACAGTCGCTACAGGATTGGCAACTATAAATTAAACACAGACCATTCCAGTAGCAGTGACAATATTGCTTTGCTTGTACAGTAAGTGACAACAGATGTTTCATCTCGTTGACTTTCAGGTTACTATAGCAGAGATATTACTAATTATTATGAGGACTTTTAAAGTTTCCATTTGGAATCTTGATTACATCATAAACCTCATAATTAAAAATTTATCTAAGTCACTAACTGAGAATAAATATTCTCAATTAGATGAAGAGCAACCAATGGAGATTGATTAAACGAACATGAAAATTATTCTTTTCTTGGCACTGATAACACTCGCTACTTGTGAGCTTTATCACTACCAAGAGTGTGTTAGAGGTACAACAGTACTTTTAAAAGAACCTTGCTCTTCTGGAACATACGAGGGCAATTCACCATTTCATCCTCTAGCTGATAACAAATTTGCACTGACTTGCTTTAGCACTCAATTTGCTTTTGCTTGTCCTGACGGCGTAAAACACGTCTATCAGTTACGTGCCAGATCAGTTTCACCTAAACTGTTCATCAGACAAGAGGAAGTTCAAGAACTTTACTCTCCAATTTTTCTTATTGTTGCGGCAATAGTGTTTATAACACTTTGCTTCACACTCAAAAGAAAGACAGAATGATTGAACTTTCATTAATTGACTTCTATTTGTGCTTTTTAGCCTTTCTGCTATTCCTTGTTTTAATTATGCTTATTATCTTTTGGTTCTCACTTGAACTGCAAGATCATAATGAAACTTGTCACGCCTAAACGAACATGAAATTTCTTGTTTTCTTAGGAATCATCACAACTGTAGCTGCATTTCACCAAGAATGTAGTTTACAGTCATGTACTCAACATCAACCATATGTAGTTGATGACCCGTGTCCTATTCACTTCTATTCTAAATGGTATATTAGAGTAGGAGCTAGAAAATCAGCACCTTTAATTGAATTGTGCGTGGATGAGGCTGGTTCTAAATCACCCATTCAGTACATCGATATCGGTAATTATACAGTTTCCTGTTTACCTTTTACAATTAATTGCCAGGAACCTAAATTGGGTAGTCTTGTAGTGCGTTGTTCGTTCTATGAAGACTTTTTAGAGTATCATGACGTTCGTGTTGTTTTAGATTTCATCTAAACGAACAAACTAAAATGTCTGATAATGGACCCCAAAATCAGCGAAATGCACCCCGCATTACGTTTGGTGGACCCTCAGATTCAACTGGCAGTAACCAGAATGGAGAACGCAGTGGGGCGCGATCAAAACAACGTCGGCCCCAAGGTTTACCCAATAATACTGCGTCTTGGTTCACCGCTCTCACTCAACATGGCAAGGAAGACCTTAAATTCCCTCGAGGACAAGGCGTTCCAATTAACACCAATAGCAGTCCAGATGACCAAATTGGCTACTACCGAAGAGCTACCAGACGAATTCGTGGTGGTGACGGTAAAATGAAAGATCTCAGTCCAAGATGGTATTTCTACTACCTAGGAACTGGGCCAGAAGCTGGACTTCCCTATGGTGCTAACAAAGACGGCATCATATGGGTTGCAACTGAGGGAGCCTTGAATACACCAAAAGATCACATTGGCACCCGCAATCCTGCTAACAATGCTGCAATCGTGCTACAACTTCCTCAAGGAACAACATTGCCAAAAGGCTTCTACGCAGAAGGGAGCAGAGGCGGCAGTCAAGCCTCTTCTCGTTCCTCATCACGTAGTCGCAACAGTTCAAGAAATTCAACTCCAGGCAGCAGTAGGGGAACTTCTCCTGCTAGAATGGCTGGCAATGGCGGTGATGCTGCTCTTGCTTTGCTGCTGCTTGACAGATTGAACCAGCTTGAGAGCAAAATGTCTGGTAAAGGCCAACAACAACAAGGCCAAACTGTCACTAAGAAATCTGCTGCTGAGGCTTCTAAGAAGCCTCGGCAAAAACGTACTGCCACTAAAGCATACAATGTAACACAAGCTTTCGGCAGACGTGGTCCAGAACAAACCCAAGGAAATTTTGGGGACCAGGAACTAATCAGACAAGGAACTGATTACAAACATTGGCCGCAAATTGCACAATTTGCCCCCAGCGCTTCAGCGTTCTTCGGAATGTCGCGCATTGGCATGGAAGTCACACCTTCGGGAACGTGGTTGACCTACACAGGTGCCATCAAATTGGATGACAAAGATCCAAATTTCAAAGATCAAGTCATTTTGCTGAATAAGCATATTGACGCATACAAAACATTCCCACCAACAGAGCCTAAAAAGGACAAAAAGAAGAAGGCTGATGAAACTCAAGCCTTACCGCAGAGACAGAAGAAACAGCAAACTGTGACTCTTCTTCCTGCTGCAGATTTGGATGATTTCTCCAAACAATTGCAACAATCCATGAGCAGTGCTGACTCAACTCAGGCCTAAACTCATGCAGACCACACAAGGCAGATGGGCTATATAAACGTTTTCGCTTTTCCGTTTACGATATATAGTCTACTCTTGTGCAGAATGAATTCTCGTAACTACATAGCACAAGTAGATGTAGTTAACTTTAATCTCACATAGCAATCTTTAATCAGTGTGTAACATTAGGGAGGACTTGAAAGAGCCACCACATTTTCACCGAGGCCACGCGGAGTACGATCGAGTGTACAGTGAACAATGCTAGGGAGAGCTGCCTATATGGAAGAGCCCTAATGTGTAAAATTAATTTTAGTAGTGCTATCCCCATGTGATTTTAATAGCTTCTTAGGAGAATGACAAAAAAAAAAAAAAAAAAAAAAAAAAAAAAAAA\n"
          ]
        }
      ],
      "source": [
        "covid_dna = recs[0].seq\n",
        "print(covid_dna)"
      ]
    },
    {
      "cell_type": "code",
      "execution_count": null,
      "metadata": {
        "colab": {
          "base_uri": "https://localhost:8080/"
        },
        "id": "Iqueo39YHLMR",
        "outputId": "e8230f57-f959-4498-f555-6207d89e9844"
      },
      "outputs": [
        {
          "output_type": "stream",
          "name": "stdout",
          "text": [
            "The genome of Covid-19 consists of 29903 nucleotides\n"
          ]
        }
      ],
      "source": [
        "print(\"The genome of Covid-19 consists of %s nucleotides\" %len(covid_dna))"
      ]
    },
    {
      "cell_type": "markdown",
      "metadata": {
        "id": "tU8ICshFHoDG"
      },
      "source": [
        "GC content"
      ]
    },
    {
      "cell_type": "code",
      "execution_count": null,
      "metadata": {
        "colab": {
          "base_uri": "https://localhost:8080/"
        },
        "id": "Wr9cOhEJHjfL",
        "outputId": "b7dc7852-686d-4585-d26d-956a180ed671"
      },
      "outputs": [
        {
          "output_type": "stream",
          "name": "stderr",
          "text": [
            "/usr/local/lib/python3.10/dist-packages/Bio/SeqUtils/__init__.py:144: BiopythonDeprecationWarning: GC is deprecated; please use gc_fraction instead.\n",
            "  warnings.warn(\n"
          ]
        },
        {
          "output_type": "execute_result",
          "data": {
            "text/plain": [
              "37.97277865097148"
            ]
          },
          "metadata": {},
          "execution_count": 101
        }
      ],
      "source": [
        "from Bio.SeqUtils import GC\n",
        "GC(covid_dna)"
      ]
    },
    {
      "cell_type": "markdown",
      "metadata": {
        "id": "jlJzoSiUH43p"
      },
      "source": [
        "Distribution of nucleotides in COVID-19 genome"
      ]
    },
    {
      "cell_type": "code",
      "execution_count": null,
      "metadata": {
        "colab": {
          "base_uri": "https://localhost:8080/"
        },
        "id": "eZCowcLqIDz9",
        "outputId": "dba0ce14-5015-4216-8c25-2b2ff6f6f0b3"
      },
      "outputs": [
        {
          "output_type": "stream",
          "name": "stdout",
          "text": [
            "{'A': 8954, 'T': 9594, 'C': 5492, 'G': 5863}\n"
          ]
        }
      ],
      "source": [
        "count_nucleotides = {\n",
        "    'A': covid_dna.count('A'),\n",
        "    'T': covid_dna.count('T'),\n",
        "    'C': covid_dna.count('C'),\n",
        "    'G': covid_dna.count('G')\n",
        "}\n",
        "print(count_nucleotides)"
      ]
    },
    {
      "cell_type": "markdown",
      "metadata": {
        "id": "57qMC5MNIbW-"
      },
      "source": [
        "Plotting nucleotide frequencies"
      ]
    },
    {
      "cell_type": "code",
      "execution_count": null,
      "metadata": {
        "colab": {
          "base_uri": "https://localhost:8080/",
          "height": 490
        },
        "id": "cKEvzImdIQoB",
        "outputId": "f2be573c-4fce-4def-b22d-be8ca9187193"
      },
      "outputs": [
        {
          "output_type": "execute_result",
          "data": {
            "text/plain": [
              "Text(0.5, 1.0, 'Nucleotide Frequency')"
            ]
          },
          "metadata": {},
          "execution_count": 103
        },
        {
          "output_type": "display_data",
          "data": {
            "text/plain": [
              "<Figure size 640x480 with 1 Axes>"
            ],
            "image/png": "[encoded data removed]"
          },
          "metadata": {}
        }
      ],
      "source": [
        "import matplotlib.pyplot as plt\n",
        "plt.bar(count_nucleotides.keys(), count_nucleotides.values(),color=['b', 'r', 'm', 'c'])\n",
        "plt.xlabel('Nucleotide')\n",
        "plt.ylabel('Frequency')\n",
        "plt.title('Nucleotide Frequency')"
      ]
    },
    {
      "cell_type": "code",
      "source": [
        "import matplotlib.pyplot as plt\n",
        "mydf=pd.DataFrame(count_nucleotides.items(),columns=['Prot','Count'])\n",
        "sns.barplot(x='Prot',y='Count',data=mydf)\n",
        "plt.xlabel('Nucleotide')\n",
        "plt.ylabel('Frequency')\n",
        "plt.title('Nucleotide Frequency')"
      ],
      "metadata": {
        "colab": {
          "base_uri": "https://localhost:8080/",
          "height": 490
        },
        "id": "OwjJUbE7GHhs",
        "outputId": "2d9ae6fe-f9a1-48df-ebf4-5f7798bd06ec"
      },
      "execution_count": null,
      "outputs": [
        {
          "output_type": "execute_result",
          "data": {
            "text/plain": [
              "Text(0.5, 1.0, 'Nucleotide Frequency')"
            ]
          },
          "metadata": {},
          "execution_count": 104
        },
        {
          "output_type": "display_data",
          "data": {
            "text/plain": [
              "<Figure size 640x480 with 1 Axes>"
            ],
            "image/png": "[encoded data removed]"
          },
          "metadata": {}
        }
      ]
    },
    {
      "cell_type": "code",
      "source": [
        "import matplotlib.pyplot as plt\n",
        "mydf.value_counts().plot(kind='pie',y='Prot', autopct='%.2f%%')\n",
        "print(mydf)\n",
        "plt.xlabel('Nucleotide')\n",
        "plt.ylabel('Frequency')\n",
        "plt.title('Nucleotide Frequency')"
      ],
      "metadata": {
        "colab": {
          "base_uri": "https://localhost:8080/",
          "height": 555
        },
        "id": "djAiuu2PH1yH",
        "outputId": "3bf4e7aa-709b-45bf-8a65-544dbf567528"
      },
      "execution_count": null,
      "outputs": [
        {
          "output_type": "stream",
          "name": "stdout",
          "text": [
            "  Prot  Count\n",
            "0    A   8954\n",
            "1    T   9594\n",
            "2    C   5492\n",
            "3    G   5863\n"
          ]
        },
        {
          "output_type": "execute_result",
          "data": {
            "text/plain": [
              "Text(0.5, 1.0, 'Nucleotide Frequency')"
            ]
          },
          "metadata": {},
          "execution_count": 105
        },
        {
          "output_type": "display_data",
          "data": {
            "text/plain": [
              "<Figure size 640x480 with 1 Axes>"
            ],
            "image/png": "[encoded data removed]"
          },
          "metadata": {}
        }
      ]
    },
    {
      "cell_type": "markdown",
      "metadata": {
        "id": "g7HC2z_JIy6z"
      },
      "source": [
        "Transcription"
      ]
    },
    {
      "cell_type": "code",
      "execution_count": null,
      "metadata": {
        "colab": {
          "base_uri": "https://localhost:8080/"
        },
        "id": "Z8obhZyQIynJ",
        "outputId": "17b830c7-df23-4ed1-9ee7-3822ed2e9dd8"
      },
      "outputs": [
        {
          "output_type": "stream",
          "name": "stdout",
          "text": [
            "AUUAAAGGUUUAUACCUUCCCAGGUAACAAACCAACCAACUUUCGAUCUCUUGUAGAUCUGUUCUCUAAACGAACUUUAAAAUCUGUGUGGCUGUCACUCGGCUGCAUGCUUAGUGCACUCACGCAGUAUAAUUAAUAACUAAUUACUGUCGUUGACAGGACACGAGUAACUCGUCUAUCUUCUGCAGGCUGCUUACGGUUUCGUCCGUGUUGCAGCCGAUCAUCAGCACAUCUAGGUUUCGUCCGGGUGUGACCGAAAGGUAAGAUGGAGAGCCUUGUCCCUGGUUUCAACGAGAAAACACACGUCCAACUCAGUUUGCCUGUUUUACAGGUUCGCGACGUGCUCGUACGUGGCUUUGGAGACUCCGUGGAGGAGGUCUUAUCAGAGGCACGUCAACAUCUUAAAGAUGGCACUUGUGGCUUAGUAGAAGUUGAAAAAGGCGUUUUGCCUCAACUUGAACAGCCCUAUGUGUUCAUCAAACGUUCGGAUGCUCGAACUGCACCUCAUGGUCAUGUUAUGGUUGAGCUGGUAGCAGAACUCGAAGGCAUUCAGUACGGUCGUAGUGGUGAGACACUUGGUGUCCUUGUCCCUCAUGUGGGCGAAAUACCAGUGGCUUACCGCAAGGUUCUUCUUCGUAAGAACGGUAAUAAAGGAGCUGGUGGCCAUAGUUACGGCGCCGAUCUAAAGUCAUUUGACUUAGGCGACGAGCUUGGCACUGAUCCUUAUGAAGAUUUUCAAGAAAACUGGAACACUAAACAUAGCAGUGGUGUUACCCGUGAACUCAUGCGUGAGCUUAACGGAGGGGCAUACACUCGCUAUGUCGAUAACAACUUCUGUGGCCCUGAUGGCUACCCUCUUGAGUGCAUUAAAGACCUUCUAGCACGUGCUGGUAAAGCUUCAUGCACUUUGUCCGAACAACUGGACUUUAUUGACACUAAGAGGGGUGUAUACUGCUGCCGUGAACAUGAGCAUGAAAUUGCUUGGUACACGGAACGUUCUGAAAAGAGCUAUGAAUUGCAGACACCUUUUGAAAUUAAAUUGGCAAAGAAAUUUGACACCUUCAAUGGGGAAUGUCCAAAUUUUGUAUUUCCCUUAAAUUCCAUAAUCAAGACUAUUCAACCAAGGGUUGAAAAGAAAAAGCUUGAUGGCUUUAUGGGUAGAAUUCGAUCUGUCUAUCCAGUUGCGUCACCAAAUGAAUGCAACCAAAUGUGCCUUUCAACUCUCAUGAAGUGUGAUCAUUGUGGUGAAACUUCAUGGCAGACGGGCGAUUUUGUUAAAGCCACUUGCGAAUUUUGUGGCACUGAGAAUUUGACUAAAGAAGGUGCCACUACUUGUGGUUACUUACCCCAAAAUGCUGUUGUUAAAAUUUAUUGUCCAGCAUGUCACAAUUCAGAAGUAGGACCUGAGCAUAGUCUUGCCGAAUACCAUAAUGAAUCUGGCUUGAAAACCAUUCUUCGUAAGGGUGGUCGCACUAUUGCCUUUGGAGGCUGUGUGUUCUCUUAUGUUGGUUGCCAUAACAAGUGUGCCUAUUGGGUUCCACGUGCUAGCGCUAACAUAGGUUGUAACCAUACAGGUGUUGUUGGAGAAGGUUCCGAAGGUCUUAAUGACAACCUUCUUGAAAUACUCCAAAAAGAGAAAGUCAACAUCAAUAUUGUUGGUGACUUUAAACUUAAUGAAGAGAUCGCCAUUAUUUUGGCAUCUUUUUCUGCUUCCACAAGUGCUUUUGUGGAAACUGUGAAAGGUUUGGAUUAUAAAGCAUUCAAACAAAUUGUUGAAUCCUGUGGUAAUUUUAAAGUUACAAAAGGAAAAGCUAAAAAAGGUGCCUGGAAUAUUGGUGAACAGAAAUCAAUACUGAGUCCUCUUUAUGCAUUUGCAUCAGAGGCUGCUCGUGUUGUACGAUCAAUUUUCUCCCGCACUCUUGAAACUGCUCAAAAUUCUGUGCGUGUUUUACAGAAGGCCGCUAUAACAAUACUAGAUGGAAUUUCACAGUAUUCACUGAGACUCAUUGAUGCUAUGAUGUUCACAUCUGAUUUGGCUACUAACAAUCUAGUUGUAAUGGCCUACAUUACAGGUGGUGUUGUUCAGUUGACUUCGCAGUGGCUAACUAACAUCUUUGGCACUGUUUAUGAAAAACUCAAACCCGUCCUUGAUUGGCUUGAAGAGAAGUUUAAGGAAGGUGUAGAGUUUCUUAGAGACGGUUGGGAAAUUGUUAAAUUUAUCUCAACCUGUGCUUGUGAAAUUGUCGGUGGACAAAUUGUCACCUGUGCAAAGGAAAUUAAGGAGAGUGUUCAGACAUUCUUUAAGCUUGUAAAUAAAUUUUUGGCUUUGUGUGCUGACUCUAUCAUUAUUGGUGGAGCUAAACUUAAAGCCUUGAAUUUAGGUGAAACAUUUGUCACGCACUCAAAGGGAUUGUACAGAAAGUGUGUUAAAUCCAGAGAAGAAACUGGCCUACUCAUGCCUCUAAAAGCCCCAAAAGAAAUUAUCUUCUUAGAGGGAGAAACACUUCCCACAGAAGUGUUAACAGAGGAAGUUGUCUUGAAAACUGGUGAUUUACAACCAUUAGAACAACCUACUAGUGAAGCUGUUGAAGCUCCAUUGGUUGGUACACCAGUUUGUAUUAACGGGCUUAUGUUGCUCGAAAUCAAAGACACAGAAAAGUACUGUGCCCUUGCACCUAAUAUGAUGGUAACAAACAAUACCUUCACACUCAAAGGCGGUGCACCAACAAAGGUUACUUUUGGUGAUGACACUGUGAUAGAAGUGCAAGGUUACAAGAGUGUGAAUAUCACUUUUGAACUUGAUGAAAGGAUUGAUAAAGUACUUAAUGAGAAGUGCUCUGCCUAUACAGUUGAACUCGGUACAGAAGUAAAUGAGUUCGCCUGUGUUGUGGCAGAUGCUGUCAUAAAAACUUUGCAACCAGUAUCUGAAUUACUUACACCACUGGGCAUUGAUUUAGAUGAGUGGAGUAUGGCUACAUACUACUUAUUUGAUGAGUCUGGUGAGUUUAAAUUGGCUUCACAUAUGUAUUGUUCUUUCUACCCUCCAGAUGAGGAUGAAGAAGAAGGUGAUUGUGAAGAAGAAGAGUUUGAGCCAUCAACUCAAUAUGAGUAUGGUACUGAAGAUGAUUACCAAGGUAAACCUUUGGAAUUUGGUGCCACUUCUGCUGCUCUUCAACCUGAAGAAGAGCAAGAAGAAGAUUGGUUAGAUGAUGAUAGUCAACAAACUGUUGGUCAACAAGACGGCAGUGAGGACAAUCAGACAACUACUAUUCAAACAAUUGUUGAGGUUCAACCUCAAUUAGAGAUGGAACUUACACCAGUUGUUCAGACUAUUGAAGUGAAUAGUUUUAGUGGUUAUUUAAAACUUACUGACAAUGUAUACAUUAAAAAUGCAGACAUUGUGGAAGAAGCUAAAAAGGUAAAACCAACAGUGGUUGUUAAUGCAGCCAAUGUUUACCUUAAACAUGGAGGAGGUGUUGCAGGAGCCUUAAAUAAGGCUACUAACAAUGCCAUGCAAGUUGAAUCUGAUGAUUACAUAGCUACUAAUGGACCACUUAAAGUGGGUGGUAGUUGUGUUUUAAGCGGACACAAUCUUGCUAAACACUGUCUUCAUGUUGUCGGCCCAAAUGUUAACAAAGGUGAAGACAUUCAACUUCUUAAGAGUGCUUAUGAAAAUUUUAAUCAGCACGAAGUUCUACUUGCACCAUUAUUAUCAGCUGGUAUUUUUGGUGCUGACCCUAUACAUUCUUUAAGAGUUUGUGUAGAUACUGUUCGCACAAAUGUCUACUUAGCUGUCUUUGAUAAAAAUCUCUAUGACAAACUUGUUUCAAGCUUUUUGGAAAUGAAGAGUGAAAAGCAAGUUGAACAAAAGAUCGCUGAGAUUCCUAAAGAGGAAGUUAAGCCAUUUAUAACUGAAAGUAAACCUUCAGUUGAACAGAGAAAACAAGAUGAUAAGAAAAUCAAAGCUUGUGUUGAAGAAGUUACAACAACUCUGGAAGAAACUAAGUUCCUCACAGAAAACUUGUUACUUUAUAUUGACAUUAAUGGCAAUCUUCAUCCAGAUUCUGCCACUCUUGUUAGUGACAUUGACAUCACUUUCUUAAAGAAAGAUGCUCCAUAUAUAGUGGGUGAUGUUGUUCAAGAGGGUGUUUUAACUGCUGUGGUUAUACCUACUAAAAAGGCUGGUGGCACUACUGAAAUGCUAGCGAAAGCUUUGAGAAAAGUGCCAACAGACAAUUAUAUAACCACUUACCCGGGUCAGGGUUUAAAUGGUUACACUGUAGAGGAGGCAAAGACAGUGCUUAAAAAGUGUAAAAGUGCCUUUUACAUUCUACCAUCUAUUAUCUCUAAUGAGAAGCAAGAAAUUCUUGGAACUGUUUCUUGGAAUUUGCGAGAAAUGCUUGCACAUGCAGAAGAAACACGCAAAUUAAUGCCUGUCUGUGUGGAAACUAAAGCCAUAGUUUCAACUAUACAGCGUAAAUAUAAGGGUAUUAAAAUACAAGAGGGUGUGGUUGAUUAUGGUGCUAGAUUUUACUUUUACACCAGUAAAACAACUGUAGCGUCACUUAUCAACACACUUAACGAUCUAAAUGAAACUCUUGUUACAAUGCCACUUGGCUAUGUAACACAUGGCUUAAAUUUGGAAGAAGCUGCUCGGUAUAUGAGAUCUCUCAAAGUGCCAGCUACAGUUUCUGUUUCUUCACCUGAUGCUGUUACAGCGUAUAAUGGUUAUCUUACUUCUUCUUCUAAAACACCUGAAGAACAUUUUAUUGAAACCAUCUCACUUGCUGGUUCCUAUAAAGAUUGGUCCUAUUCUGGACAAUCUACACAACUAGGUAUAGAAUUUCUUAAGAGAGGUGAUAAAAGUGUAUAUUACACUAGUAAUCCUACCACAUUCCACCUAGAUGGUGAAGUUAUCACCUUUGACAAUCUUAAGACACUUCUUUCUUUGAGAGAAGUGAGGACUAUUAAGGUGUUUACAACAGUAGACAACAUUAACCUCCACACGCAAGUUGUGGACAUGUCAAUGACAUAUGGACAACAGUUUGGUCCAACUUAUUUGGAUGGAGCUGAUGUUACUAAAAUAAAACCUCAUAAUUCACAUGAAGGUAAAACAUUUUAUGUUUUACCUAAUGAUGACACUCUACGUGUUGAGGCUUUUGAGUACUACCACACAACUGAUCCUAGUUUUCUGGGUAGGUACAUGUCAGCAUUAAAUCACACUAAAAAGUGGAAAUACCCACAAGUUAAUGGUUUAACUUCUAUUAAAUGGGCAGAUAACAACUGUUAUCUUGCCACUGCAUUGUUAACACUCCAACAAAUAGAGUUGAAGUUUAAUCCACCUGCUCUACAAGAUGCUUAUUACAGAGCAAGGGCUGGUGAAGCUGCUAACUUUUGUGCACUUAUCUUAGCCUACUGUAAUAAGACAGUAGGUGAGUUAGGUGAUGUUAGAGAAACAAUGAGUUACUUGUUUCAACAUGCCAAUUUAGAUUCUUGCAAAAGAGUCUUGAACGUGGUGUGUAAAACUUGUGGACAACAGCAGACAACCCUUAAGGGUGUAGAAGCUGUUAUGUACAUGGGCACACUUUCUUAUGAACAAUUUAAGAAAGGUGUUCAGAUACCUUGUACGUGUGGUAAACAAGCUACAAAAUAUCUAGUACAACAGGAGUCACCUUUUGUUAUGAUGUCAGCACCACCUGCUCAGUAUGAACUUAAGCAUGGUACAUUUACUUGUGCUAGUGAGUACACUGGUAAUUACCAGUGUGGUCACUAUAAACAUAUAACUUCUAAAGAAACUUUGUAUUGCAUAGACGGUGCUUUACUUACAAAGUCCUCAGAAUACAAAGGUCCUAUUACGGAUGUUUUCUACAAAGAAAACAGUUACACAACAACCAUAAAACCAGUUACUUAUAAAUUGGAUGGUGUUGUUUGUACAGAAAUUGACCCUAAGUUGGACAAUUAUUAUAAGAAAGACAAUUCUUAUUUCACAGAGCAACCAAUUGAUCUUGUACCAAACCAACCAUAUCCAAACGCAAGCUUCGAUAAUUUUAAGUUUGUAUGUGAUAAUAUCAAAUUUGCUGAUGAUUUAAACCAGUUAACUGGUUAUAAGAAACCUGCUUCAAGAGAGCUUAAAGUUACAUUUUUCCCUGACUUAAAUGGUGAUGUGGUGGCUAUUGAUUAUAAACACUACACACCCUCUUUUAAGAAAGGAGCUAAAUUGUUACAUAAACCUAUUGUUUGGCAUGUUAACAAUGCAACUAAUAAAGCCACGUAUAAACCAAAUACCUGGUGUAUACGUUGUCUUUGGAGCACAAAACCAGUUGAAACAUCAAAUUCGUUUGAUGUACUGAAGUCAGAGGACGCGCAGGGAAUGGAUAAUCUUGCCUGCGAAGAUCUAAAACCAGUCUCUGAAGAAGUAGUGGAAAAUCCUACCAUACAGAAAGACGUUCUUGAGUGUAAUGUGAAAACUACCGAAGUUGUAGGAGACAUUAUACUUAAACCAGCAAAUAAUAGUUUAAAAAUUACAGAAGAGGUUGGCCACACAGAUCUAAUGGCUGCUUAUGUAGACAAUUCUAGUCUUACUAUUAAGAAACCUAAUGAAUUAUCUAGAGUAUUAGGUUUGAAAACCCUUGCUACUCAUGGUUUAGCUGCUGUUAAUAGUGUCCCUUGGGAUACUAUAGCUAAUUAUGCUAAGCCUUUUCUUAACAAAGUUGUUAGUACAACUACUAACAUAGUUACACGGUGUUUAAACCGUGUUUGUACUAAUUAUAUGCCUUAUUUCUUUACUUUAUUGCUACAAUUGUGUACUUUUACUAGAAGUACAAAUUCUAGAAUUAAAGCAUCUAUGCCGACUACUAUAGCAAAGAAUACUGUUAAGAGUGUCGGUAAAUUUUGUCUAGAGGCUUCAUUUAAUUAUUUGAAGUCACCUAAUUUUUCUAAACUGAUAAAUAUUAUAAUUUGGUUUUUACUAUUAAGUGUUUGCCUAGGUUCUUUAAUCUACUCAACCGCUGCUUUAGGUGUUUUAAUGUCUAAUUUAGGCAUGCCUUCUUACUGUACUGGUUACAGAGAAGGCUAUUUGAACUCUACUAAUGUCACUAUUGCAACCUACUGUACUGGUUCUAUACCUUGUAGUGUUUGUCUUAGUGGUUUAGAUUCUUUAGACACCUAUCCUUCUUUAGAAACUAUACAAAUUACCAUUUCAUCUUUUAAAUGGGAUUUAACUGCUUUUGGCUUAGUUGCAGAGUGGUUUUUGGCAUAUAUUCUUUUCACUAGGUUUUUCUAUGUACUUGGAUUGGCUGCAAUCAUGCAAUUGUUUUUCAGCUAUUUUGCAGUACAUUUUAUUAGUAAUUCUUGGCUUAUGUGGUUAAUAAUUAAUCUUGUACAAAUGGCCCCGAUUUCAGCUAUGGUUAGAAUGUACAUCUUCUUUGCAUCAUUUUAUUAUGUAUGGAAAAGUUAUGUGCAUGUUGUAGACGGUUGUAAUUCAUCAACUUGUAUGAUGUGUUACAAACGUAAUAGAGCAACAAGAGUCGAAUGUACAACUAUUGUUAAUGGUGUUAGAAGGUCCUUUUAUGUCUAUGCUAAUGGAGGUAAAGGCUUUUGCAAACUACACAAUUGGAAUUGUGUUAAUUGUGAUACAUUCUGUGCUGGUAGUACAUUUAUUAGUGAUGAAGUUGCGAGAGACUUGUCACUACAGUUUAAAAGACCAAUAAAUCCUACUGACCAGUCUUCUUACAUCGUUGAUAGUGUUACAGUGAAGAAUGGUUCCAUCCAUCUUUACUUUGAUAAAGCUGGUCAAAAGACUUAUGAAAGACAUUCUCUCUCUCAUUUUGUUAACUUAGACAACCUGAGAGCUAAUAACACUAAAGGUUCAUUGCCUAUUAAUGUUAUAGUUUUUGAUGGUAAAUCAAAAUGUGAAGAAUCAUCUGCAAAAUCAGCGUCUGUUUACUACAGUCAGCUUAUGUGUCAACCUAUACUGUUACUAGAUCAGGCAUUAGUGUCUGAUGUUGGUGAUAGUGCGGAAGUUGCAGUUAAAAUGUUUGAUGCUUACGUUAAUACGUUUUCAUCAACUUUUAACGUACCAAUGGAAAAACUCAAAACACUAGUUGCAACUGCAGAAGCUGAACUUGCAAAGAAUGUGUCCUUAGACAAUGUCUUAUCUACUUUUAUUUCAGCAGCUCGGCAAGGGUUUGUUGAUUCAGAUGUAGAAACUAAAGAUGUUGUUGAAUGUCUUAAAUUGUCACAUCAAUCUGACAUAGAAGUUACUGGCGAUAGUUGUAAUAACUAUAUGCUCACCUAUAACAAAGUUGAAAACAUGACACCCCGUGACCUUGGUGCUUGUAUUGACUGUAGUGCGCGUCAUAUUAAUGCGCAGGUAGCAAAAAGUCACAACAUUGCUUUGAUAUGGAACGUUAAAGAUUUCAUGUCAUUGUCUGAACAACUACGAAAACAAAUACGUAGUGCUGCUAAAAAGAAUAACUUACCUUUUAAGUUGACAUGUGCAACUACUAGACAAGUUGUUAAUGUUGUAACAACAAAGAUAGCACUUAAGGGUGGUAAAAUUGUUAAUAAUUGGUUGAAGCAGUUAAUUAAAGUUACACUUGUGUUCCUUUUUGUUGCUGCUAUUUUCUAUUUAAUAACACCUGUUCAUGUCAUGUCUAAACAUACUGACUUUUCAAGUGAAAUCAUAGGAUACAAGGCUAUUGAUGGUGGUGUCACUCGUGACAUAGCAUCUACAGAUACUUGUUUUGCUAACAAACAUGCUGAUUUUGACACAUGGUUUAGCCAGCGUGGUGGUAGUUAUACUAAUGACAAAGCUUGCCCAUUGAUUGCUGCAGUCAUAACAAGAGAAGUGGGUUUUGUCGUGCCUGGUUUGCCUGGCACGAUAUUACGCACAACUAAUGGUGACUUUUUGCAUUUCUUACCUAGAGUUUUUAGUGCAGUUGGUAACAUCUGUUACACACCAUCAAAACUUAUAGAGUACACUGACUUUGCAACAUCAGCUUGUGUUUUGGCUGCUGAAUGUACAAUUUUUAAAGAUGCUUCUGGUAAGCCAGUACCAUAUUGUUAUGAUACCAAUGUACUAGAAGGUUCUGUUGCUUAUGAAAGUUUACGCCCUGACACACGUUAUGUGCUCAUGGAUGGCUCUAUUAUUCAAUUUCCUAACACCUACCUUGAAGGUUCUGUUAGAGUGGUAACAACUUUUGAUUCUGAGUACUGUAGGCACGGCACUUGUGAAAGAUCAGAAGCUGGUGUUUGUGUAUCUACUAGUGGUAGAUGGGUACUUAACAAUGAUUAUUACAGAUCUUUACCAGGAGUUUUCUGUGGUGUAGAUGCUGUAAAUUUACUUACUAAUAUGUUUACACCACUAAUUCAACCUAUUGGUGCUUUGGACAUAUCAGCAUCUAUAGUAGCUGGUGGUAUUGUAGCUAUCGUAGUAACAUGCCUUGCCUACUAUUUUAUGAGGUUUAGAAGAGCUUUUGGUGAAUACAGUCAUGUAGUUGCCUUUAAUACUUUACUAUUCCUUAUGUCAUUCACUGUACUCUGUUUAACACCAGUUUACUCAUUCUUACCUGGUGUUUAUUCUGUUAUUUACUUGUACUUGACAUUUUAUCUUACUAAUGAUGUUUCUUUUUUAGCACAUAUUCAGUGGAUGGUUAUGUUCACACCUUUAGUACCUUUCUGGAUAACAAUUGCUUAUAUCAUUUGUAUUUCCACAAAGCAUUUCUAUUGGUUCUUUAGUAAUUACCUAAAGAGACGUGUAGUCUUUAAUGGUGUUUCCUUUAGUACUUUUGAAGAAGCUGCGCUGUGCACCUUUUUGUUAAAUAAAGAAAUGUAUCUAAAGUUGCGUAGUGAUGUGCUAUUACCUCUUACGCAAUAUAAUAGAUACUUAGCUCUUUAUAAUAAGUACAAGUAUUUUAGUGGAGCAAUGGAUACAACUAGCUACAGAGAAGCUGCUUGUUGUCAUCUCGCAAAGGCUCUCAAUGACUUCAGUAACUCAGGUUCUGAUGUUCUUUACCAACCACCACAAACCUCUAUCACCUCAGCUGUUUUGCAGAGUGGUUUUAGAAAAAUGGCAUUCCCAUCUGGUAAAGUUGAGGGUUGUAUGGUACAAGUAACUUGUGGUACAACUACACUUAACGGUCUUUGGCUUGAUGACGUAGUUUACUGUCCAAGACAUGUGAUCUGCACCUCUGAAGACAUGCUUAACCCUAAUUAUGAAGAUUUACUCAUUCGUAAGUCUAAUCAUAAUUUCUUGGUACAGGCUGGUAAUGUUCAACUCAGGGUUAUUGGACAUUCUAUGCAAAAUUGUGUACUUAAGCUUAAGGUUGAUACAGCCAAUCCUAAGACACCUAAGUAUAAGUUUGUUCGCAUUCAACCAGGACAGACUUUUUCAGUGUUAGCUUGUUACAAUGGUUCACCAUCUGGUGUUUACCAAUGUGCUAUGAGGCCCAAUUUCACUAUUAAGGGUUCAUUCCUUAAUGGUUCAUGUGGUAGUGUUGGUUUUAACAUAGAUUAUGACUGUGUCUCUUUUUGUUACAUGCACCAUAUGGAAUUACCAACUGGAGUUCAUGCUGGCACAGACUUAGAAGGUAACUUUUAUGGACCUUUUGUUGACAGGCAAACAGCACAAGCAGCUGGUACGGACACAACUAUUACAGUUAAUGUUUUAGCUUGGUUGUACGCUGCUGUUAUAAAUGGAGACAGGUGGUUUCUCAAUCGAUUUACCACAACUCUUAAUGACUUUAACCUUGUGGCUAUGAAGUACAAUUAUGAACCUCUAACACAAGACCAUGUUGACAUACUAGGACCUCUUUCUGCUCAAACUGGAAUUGCCGUUUUAGAUAUGUGUGCUUCAUUAAAAGAAUUACUGCAAAAUGGUAUGAAUGGACGUACCAUAUUGGGUAGUGCUUUAUUAGAAGAUGAAUUUACACCUUUUGAUGUUGUUAGACAAUGCUCAGGUGUUACUUUCCAAAGUGCAGUGAAAAGAACAAUCAAGGGUACACACCACUGGUUGUUACUCACAAUUUUGACUUCACUUUUAGUUUUAGUCCAGAGUACUCAAUGGUCUUUGUUCUUUUUUUUGUAUGAAAAUGCCUUUUUACCUUUUGCUAUGGGUAUUAUUGCUAUGUCUGCUUUUGCAAUGAUGUUUGUCAAACAUAAGCAUGCAUUUCUCUGUUUGUUUUUGUUACCUUCUCUUGCCACUGUAGCUUAUUUUAAUAUGGUCUAUAUGCCUGCUAGUUGGGUGAUGCGUAUUAUGACAUGGUUGGAUAUGGUUGAUACUAGUUUGUCUGGUUUUAAGCUAAAAGACUGUGUUAUGUAUGCAUCAGCUGUAGUGUUACUAAUCCUUAUGACAGCAAGAACUGUGUAUGAUGAUGGUGCUAGGAGAGUGUGGACACUUAUGAAUGUCUUGACACUCGUUUAUAAAGUUUAUUAUGGUAAUGCUUUAGAUCAAGCCAUUUCCAUGUGGGCUCUUAUAAUCUCUGUUACUUCUAACUACUCAGGUGUAGUUACAACUGUCAUGUUUUUGGCCAGAGGUAUUGUUUUUAUGUGUGUUGAGUAUUGCCCUAUUUUCUUCAUAACUGGUAAUACACUUCAGUGUAUAAUGCUAGUUUAUUGUUUCUUAGGCUAUUUUUGUACUUGUUACUUUGGCCUCUUUUGUUUACUCAACCGCUACUUUAGACUGACUCUUGGUGUUUAUGAUUACUUAGUUUCUACACAGGAGUUUAGAUAUAUGAAUUCACAGGGACUACUCCCACCCAAGAAUAGCAUAGAUGCCUUCAAACUCAACAUUAAAUUGUUGGGUGUUGGUGGCAAACCUUGUAUCAAAGUAGCCACUGUACAGUCUAAAAUGUCAGAUGUAAAGUGCACAUCAGUAGUCUUACUCUCAGUUUUGCAACAACUCAGAGUAGAAUCAUCAUCUAAAUUGUGGGCUCAAUGUGUCCAGUUACACAAUGACAUUCUCUUAGCUAAAGAUACUACUGAAGCCUUUGAAAAAAUGGUUUCACUACUUUCUGUUUUGCUUUCCAUGCAGGGUGCUGUAGACAUAAACAAGCUUUGUGAAGAAAUGCUGGACAACAGGGCAACCUUACAAGCUAUAGCCUCAGAGUUUAGUUCCCUUCCAUCAUAUGCAGCUUUUGCUACUGCUCAAGAAGCUUAUGAGCAGGCUGUUGCUAAUGGUGAUUCUGAAGUUGUUCUUAAAAAGUUGAAGAAGUCUUUGAAUGUGGCUAAAUCUGAAUUUGACCGUGAUGCAGCCAUGCAACGUAAGUUGGAAAAGAUGGCUGAUCAAGCUAUGACCCAAAUGUAUAAACAGGCUAGAUCUGAGGACAAGAGGGCAAAAGUUACUAGUGCUAUGCAGACAAUGCUUUUCACUAUGCUUAGAAAGUUGGAUAAUGAUGCACUCAACAACAUUAUCAACAAUGCAAGAGAUGGUUGUGUUCCCUUGAACAUAAUACCUCUUACAACAGCAGCCAAACUAAUGGUUGUCAUACCAGACUAUAACACAUAUAAAAAUACGUGUGAUGGUACAACAUUUACUUAUGCAUCAGCAUUGUGGGAAAUCCAACAGGUUGUAGAUGCAGAUAGUAAAAUUGUUCAACUUAGUGAAAUUAGUAUGGACAAUUCACCUAAUUUAGCAUGGCCUCUUAUUGUAACAGCUUUAAGGGCCAAUUCUGCUGUCAAAUUACAGAAUAAUGAGCUUAGUCCUGUUGCACUACGACAGAUGUCUUGUGCUGCCGGUACUACACAAACUGCUUGCACUGAUGACAAUGCGUUAGCUUACUACAACACAACAAAGGGAGGUAGGUUUGUACUUGCACUGUUAUCCGAUUUACAGGAUUUGAAAUGGGCUAGAUUCCCUAAGAGUGAUGGAACUGGUACUAUCUAUACAGAACUGGAACCACCUUGUAGGUUUGUUACAGACACACCUAAAGGUCCUAAAGUGAAGUAUUUAUACUUUAUUAAAGGAUUAAACAACCUAAAUAGAGGUAUGGUACUUGGUAGUUUAGCUGCCACAGUACGUCUACAAGCUGGUAAUGCAACAGAAGUGCCUGCCAAUUCAACUGUAUUAUCUUUCUGUGCUUUUGCUGUAGAUGCUGCUAAAGCUUACAAAGAUUAUCUAGCUAGUGGGGGACAACCAAUCACUAAUUGUGUUAAGAUGUUGUGUACACACACUGGUACUGGUCAGGCAAUAACAGUUACACCGGAAGCCAAUAUGGAUCAAGAAUCCUUUGGUGGUGCAUCGUGUUGUCUGUACUGCCGUUGCCACAUAGAUCAUCCAAAUCCUAAAGGAUUUUGUGACUUAAAAGGUAAGUAUGUACAAAUACCUACAACUUGUGCUAAUGACCCUGUGGGUUUUACACUUAAAAACACAGUCUGUACCGUCUGCGGUAUGUGGAAAGGUUAUGGCUGUAGUUGUGAUCAACUCCGCGAACCCAUGCUUCAGUCAGCUGAUGCACAAUCGUUUUUAAACGGGUUUGCGGUGUAAGUGCAGCCCGUCUUACACCGUGCGGCACAGGCACUAGUACUGAUGUCGUAUACAGGGCUUUUGACAUCUACAAUGAUAAAGUAGCUGGUUUUGCUAAAUUCCUAAAAACUAAUUGUUGUCGCUUCCAAGAAAAGGACGAAGAUGACAAUUUAAUUGAUUCUUACUUUGUAGUUAAGAGACACACUUUCUCUAACUACCAACAUGAAGAAACAAUUUAUAAUUUACUUAAGGAUUGUCCAGCUGUUGCUAAACAUGACUUCUUUAAGUUUAGAAUAGACGGUGACAUGGUACCACAUAUAUCACGUCAACGUCUUACUAAAUACACAAUGGCAGACCUCGUCUAUGCUUUAAGGCAUUUUGAUGAAGGUAAUUGUGACACAUUAAAAGAAAUACUUGUCACAUACAAUUGUUGUGAUGAUGAUUAUUUCAAUAAAAAGGACUGGUAUGAUUUUGUAGAAAACCCAGAUAUAUUACGCGUAUACGCCAACUUAGGUGAACGUGUACGCCAAGCUUUGUUAAAAACAGUACAAUUCUGUGAUGCCAUGCGAAAUGCUGGUAUUGUUGGUGUACUGACAUUAGAUAAUCAAGAUCUCAAUGGUAACUGGUAUGAUUUCGGUGAUUUCAUACAAACCACGCCAGGUAGUGGAGUUCCUGUUGUAGAUUCUUAUUAUUCAUUGUUAAUGCCUAUAUUAACCUUGACCAGGGCUUUAACUGCAGAGUCACAUGUUGACACUGACUUAACAAAGCCUUACAUUAAGUGGGAUUUGUUAAAAUAUGACUUCACGGAAGAGAGGUUAAAACUCUUUGACCGUUAUUUUAAAUAUUGGGAUCAGACAUACCACCCAAAUUGUGUUAACUGUUUGGAUGACAGAUGCAUUCUGCAUUGUGCAAACUUUAAUGUUUUAUUCUCUACAGUGUUCCCACCUACAAGUUUUGGACCACUAGUGAGAAAAAUAUUUGUUGAUGGUGUUCCAUUUGUAGUUUCAACUGGAUACCACUUCAGAGAGCUAGGUGUUGUACAUAAUCAGGAUGUAAACUUACAUAGCUCUAGACUUAGUUUUAAGGAAUUACUUGUGUAUGCUGCUGACCCUGCUAUGCACGCUGCUUCUGGUAAUCUAUUACUAGAUAAACGCACUACGUGCUUUUCAGUAGCUGCACUUACUAACAAUGUUGCUUUUCAAACUGUCAAACCCGGUAAUUUUAACAAAGACUUCUAUGACUUUGCUGUGUCUAAGGGUUUCUUUAAGGAAGGAAGUUCUGUUGAAUUAAAACACUUCUUCUUUGCUCAGGAUGGUAAUGCUGCUAUCAGCGAUUAUGACUACUAUCGUUAUAAUCUACCAACAAUGUGUGAUAUCAGACAACUACUAUUUGUAGUUGAAGUUGUUGAUAAGUACUUUGAUUGUUACGAUGGUGGCUGUAUUAAUGCUAACCAAGUCAUCGUCAACAACCUAGACAAAUCAGCUGGUUUUCCAUUUAAUAAAUGGGGUAAGGCUAGACUUUAUUAUGAUUCAAUGAGUUAUGAGGAUCAAGAUGCACUUUUCGCAUAUACAAAACGUAAUGUCAUCCCUACUAUAACUCAAAUGAAUCUUAAGUAUGCCAUUAGUGCAAAGAAUAGAGCUCGCACCGUAGCUGGUGUCUCUAUCUGUAGUACUAUGACCAAUAGACAGUUUCAUCAAAAAUUAUUGAAAUCAAUAGCCGCCACUAGAGGAGCUACUGUAGUAAUUGGAACAAGCAAAUUCUAUGGUGGUUGGCACAACAUGUUAAAAACUGUUUAUAGUGAUGUAGAAAACCCUCACCUUAUGGGUUGGGAUUAUCCUAAAUGUGAUAGAGCCAUGCCUAACAUGCUUAGAAUUAUGGCCUCACUUGUUCUUGCUCGCAAACAUACAACGUGUUGUAGCUUGUCACACCGUUUCUAUAGAUUAGCUAAUGAGUGUGCUCAAGUAUUGAGUGAAAUGGUCAUGUGUGGCGGUUCACUAUAUGUUAAACCAGGUGGAACCUCAUCAGGAGAUGCCACAACUGCUUAUGCUAAUAGUGUUUUUAACAUUUGUCAAGCUGUCACGGCCAAUGUUAAUGCACUUUUAUCUACUGAUGGUAACAAAAUUGCCGAUAAGUAUGUCCGCAAUUUACAACACAGACUUUAUGAGUGUCUCUAUAGAAAUAGAGAUGUUGACACAGACUUUGUGAAUGAGUUUUACGCAUAUUUGCGUAAACAUUUCUCAAUGAUGAUACUCUCUGACGAUGCUGUUGUGUGUUUCAAUAGCACUUAUGCAUCUCAAGGUCUAGUGGCUAGCAUAAAGAACUUUAAGUCAGUUCUUUAUUAUCAAAACAAUGUUUUUAUGUCUGAAGCAAAAUGUUGGACUGAGACUGACCUUACUAAAGGACCUCAUGAAUUUUGCUCUCAACAUACAAUGCUAGUUAAACAGGGUGAUGAUUAUGUGUACCUUCCUUACCCAGAUCCAUCAAGAAUCCUAGGGGCCGGCUGUUUUGUAGAUGAUAUCGUAAAAACAGAUGGUACACUUAUGAUUGAACGGUUCGUGUCUUUAGCUAUAGAUGCUUACCCACUUACUAAACAUCCUAAUCAGGAGUAUGCUGAUGUCUUUCAUUUGUACUUACAAUACAUAAGAAAGCUACAUGAUGAGUUAACAGGACACAUGUUAGACAUGUAUUCUGUUAUGCUUACUAAUGAUAACACUUCAAGGUAUUGGGAACCUGAGUUUUAUGAGGCUAUGUACACACCGCAUACAGUCUUACAGGCUGUUGGGGCUUGUGUUCUUUGCAAUUCACAGACUUCAUUAAGAUGUGGUGCUUGCAUACGUAGACCAUUCUUAUGUUGUAAAUGCUGUUACGACCAUGUCAUAUCAACAUCACAUAAAUUAGUCUUGUCUGUUAAUCCGUAUGUUUGCAAUGCUCCAGGUUGUGAUGUCACAGAUGUGACUCAACUUUACUUAGGAGGUAUGAGCUAUUAUUGUAAAUCACAUAAACCACCCAUUAGUUUUCCAUUGUGUGCUAAUGGACAAGUUUUUGGUUUAUAUAAAAAUACAUGUGUUGGUAGCGAUAAUGUUACUGACUUUAAUGCAAUUGCAACAUGUGACUGGACAAAUGCUGGUGAUUACAUUUUAGCUAACACCUGUACUGAAAGACUCAAGCUUUUUGCAGCAGAAACGCUCAAAGCUACUGAGGAGACAUUUAAACUGUCUUAUGGUAUUGCUACUGUACGUGAAGUGCUGUCUGACAGAGAAUUACAUCUUUCAUGGGAAGUUGGUAAACCUAGACCACCACUUAACCGAAAUUAUGUCUUUACUGGUUAUCGUGUAACUAAAAACAGUAAAGUACAAAUAGGAGAGUACACCUUUGAAAAAGGUGACUAUGGUGAUGCUGUUGUUUACCGAGGUACAACAACUUACAAAUUAAAUGUUGGUGAUUAUUUUGUGCUGACAUCACAUACAGUAAUGCCAUUAAGUGCACCUACACUAGUGCCACAAGAGCACUAUGUUAGAAUUACUGGCUUAUACCCAACACUCAAUAUCUCAGAUGAGUUUUCUAGCAAUGUUGCAAAUUAUCAAAAGGUUGGUAUGCAAAAGUAUUCUACACUCCAGGGACCACCUGGUACUGGUAAGAGUCAUUUUGCUAUUGGCCUAGCUCUCUACUACCCUUCUGCUCGCAUAGUGUAUACAGCUUGCUCUCAUGCCGCUGUUGAUGCACUAUGUGAGAAGGCAUUAAAAUAUUUGCCUAUAGAUAAAUGUAGUAGAAUUAUACCUGCACGUGCUCGUGUAGAGUGUUUUGAUAAAUUCAAAGUGAAUUCAACAUUAGAACAGUAUGUCUUUUGUACUGUAAAUGCAUUGCCUGAGACGACAGCAGAUAUAGUUGUCUUUGAUGAAAUUUCAAUGGCCACAAAUUAUGAUUUGAGUGUUGUCAAUGCCAGAUUACGUGCUAAGCACUAUGUGUACAUUGGCGACCCUGCUCAAUUACCUGCACCACGCACAUUGCUAACUAAGGGCACACUAGAACCAGAAUAUUUCAAUUCAGUGUGUAGACUUAUGAAAACUAUAGGUCCAGACAUGUUCCUCGGAACUUGUCGGCGUUGUCCUGCUGAAAUUGUUGACACUGUGAGUGCUUUGGUUUAUGAUAAUAAGCUUAAAGCACAUAAAGACAAAUCAGCUCAAUGCUUUAAAAUGUUUUAUAAGGGUGUUAUCACGCAUGAUGUUUCAUCUGCAAUUAACAGGCCACAAAUAGGCGUGGUAAGAGAAUUCCUUACACGUAACCCUGCUUGGAGAAAAGCUGUCUUUAUUUCACCUUAUAAUUCACAGAAUGCUGUAGCCUCAAAGAUUUUGGGACUACCAACUCAAACUGUUGAUUCAUCACAGGGCUCAGAAUAUGACUAUGUCAUAUUCACUCAAACCACUGAAACAGCUCACUCUUGUAAUGUAAACAGAUUUAAUGUUGCUAUUACCAGAGCAAAAGUAGGCAUACUUUGCAUAAUGUCUGAUAGAGACCUUUAUGACAAGUUGCAAUUUACAAGUCUUGAAAUUCCACGUAGGAAUGUGGCAACUUUACAAGCUGAAAAUGUAACAGGACUCUUUAAAGAUUGUAGUAAGGUAAUCACUGGGUUACAUCCUACACAGGCACCUACACACCUCAGUGUUGACACUAAAUUCAAAACUGAAGGUUUAUGUGUUGACAUACCUGGCAUACCUAAGGACAUGACCUAUAGAAGACUCAUCUCUAUGAUGGGUUUUAAAAUGAAUUAUCAAGUUAAUGGUUACCCUAACAUGUUUAUCACCCGCGAAGAAGCUAUAAGACAUGUACGUGCAUGGAUUGGCUUCGAUGUCGAGGGGUGUCAUGCUACUAGAGAAGCUGUUGGUACCAAUUUACCUUUACAGCUAGGUUUUUCUACAGGUGUUAACCUAGUUGCUGUACCUACAGGUUAUGUUGAUACACCUAAUAAUACAGAUUUUUCCAGAGUUAGUGCUAAACCACCGCCUGGAGAUCAAUUUAAACACCUCAUACCACUUAUGUACAAAGGACUUCCUUGGAAUGUAGUGCGUAUAAAGAUUGUACAAAUGUUAAGUGACACACUUAAAAAUCUCUCUGACAGAGUCGUAUUUGUCUUAUGGGCACAUGGCUUUGAGUUGACAUCUAUGAAGUAUUUUGUGAAAAUAGGACCUGAGCGCACCUGUUGUCUAUGUGAUAGACGUGCCACAUGCUUUUCCACUGCUUCAGACACUUAUGCCUGUUGGCAUCAUUCUAUUGGAUUUGAUUACGUCUAUAAUCCGUUUAUGAUUGAUGUUCAACAAUGGGGUUUUACAGGUAACCUACAAAGCAACCAUGAUCUGUAUUGUCAAGUCCAUGGUAAUGCACAUGUAGCUAGUUGUGAUGCAAUCAUGACUAGGUGUCUAGCUGUCCACGAGUGCUUUGUUAAGCGUGUUGACUGGACUAUUGAAUAUCCUAUAAUUGGUGAUGAACUGAAGAUUAAUGCGGCUUGUAGAAAGGUUCAACACAUGGUUGUUAAAGCUGCAUUAUUAGCAGACAAAUUCCCAGUUCUUCACGACAUUGGUAACCCUAAAGCUAUUAAGUGUGUACCUCAAGCUGAUGUAGAAUGGAAGUUCUAUGAUGCACAGCCUUGUAGUGACAAAGCUUAUAAAAUAGAAGAAUUAUUCUAUUCUUAUGCCACACAUUCUGACAAAUUCACAGAUGGUGUAUGCCUAUUUUGGAAUUGCAAUGUCGAUAGAUAUCCUGCUAAUUCCAUUGUUUGUAGAUUUGACACUAGAGUGCUAUCUAACCUUAACUUGCCUGGUUGUGAUGGUGGCAGUUUGUAUGUAAAUAAACAUGCAUUCCACACACCAGCUUUUGAUAAAAGUGCUUUUGUUAAUUUAAAACAAUUACCAUUUUUCUAUUACUCUGACAGUCCAUGUGAGUCUCAUGGAAAACAAGUAGUGUCAGAUAUAGAUUAUGUACCACUAAAGUCUGCUACGUGUAUAACACGUUGCAAUUUAGGUGGUGCUGUCUGUAGACAUCAUGCUAAUGAGUACAGAUUGUAUCUCGAUGCUUAUAACAUGAUGAUCUCAGCUGGCUUUAGCUUGUGGGUUUACAAACAAUUUGAUACUUAUAACCUCUGGAACACUUUUACAAGACUUCAGAGUUUAGAAAAUGUGGCUUUUAAUGUUGUAAAUAAGGGACACUUUGAUGGACAACAGGGUGAAGUACCAGUUUCUAUCAUUAAUAACACUGUUUACACAAAAGUUGAUGGUGUUGAUGUAGAAUUGUUUGAAAAUAAAACAACAUUACCUGUUAAUGUAGCAUUUGAGCUUUGGGCUAAGCGCAACAUUAAACCAGUACCAGAGGUGAAAAUACUCAAUAAUUUGGGUGUGGACAUUGCUGCUAAUACUGUGAUCUGGGACUACAAAAGAGAUGCUCCAGCACAUAUAUCUACUAUUGGUGUUUGUUCUAUGACUGACAUAGCCAAGAAACCAACUGAAACGAUUUGUGCACCACUCACUGUCUUUUUUGAUGGUAGAGUUGAUGGUCAAGUAGACUUAUUUAGAAAUGCCCGUAAUGGUGUUCUUAUUACAGAAGGUAGUGUUAAAGGUUUACAACCAUCUGUAGGUCCCAAACAAGCUAGUCUUAAUGGAGUCACAUUAAUUGGAGAAGCCGUAAAAACACAGUUCAAUUAUUAUAAGAAAGUUGAUGGUGUUGUCCAACAAUUACCUGAAACUUACUUUACUCAGAGUAGAAAUUUACAAGAAUUUAAACCCAGGAGUCAAAUGGAAAUUGAUUUCUUAGAAUUAGCUAUGGAUGAAUUCAUUGAACGGUAUAAAUUAGAAGGCUAUGCCUUCGAACAUAUCGUUUAUGGAGAUUUUAGUCAUAGUCAGUUAGGUGGUUUACAUCUACUGAUUGGACUAGCUAAACGUUUUAAGGAAUCACCUUUUGAAUUAGAAGAUUUUAUUCCUAUGGACAGUACAGUUAAAAACUAUUUCAUAACAGAUGCGCAAACAGGUUCAUCUAAGUGUGUGUGUUCUGUUAUUGAUUUAUUACUUGAUGAUUUUGUUGAAAUAAUAAAAUCCCAAGAUUUAUCUGUAGUUUCUAAGGUUGUCAAAGUGACUAUUGACUAUACAGAAAUUUCAUUUAUGCUUUGGUGUAAAGAUGGCCAUGUAGAAACAUUUUACCCAAAAUUACAAUCUAGUCAAGCGUGGCAACCGGGUGUUGCUAUGCCUAAUCUUUACAAAAUGCAAAGAAUGCUAUUAGAAAAGUGUGACCUUCAAAAUUAUGGUGAUAGUGCAACAUUACCUAAAGGCAUAAUGAUGAAUGUCGCAAAAUAUACUCAACUGUGUCAAUAUUUAAACACAUUAACAUUAGCUGUACCCUAUAAUAUGAGAGUUAUACAUUUUGGUGCUGGUUCUGAUAAAGGAGUUGCACCAGGUACAGCUGUUUUAAGACAGUGGUUGCCUACGGGUACGCUGCUUGUCGAUUCAGAUCUUAAUGACUUUGUCUCUGAUGCAGAUUCAACUUUGAUUGGUGAUUGUGCAACUGUACAUACAGCUAAUAAAUGGGAUCUCAUUAUUAGUGAUAUGUACGACCCUAAGACUAAAAAUGUUACAAAAGAAAAUGACUCUAAAGAGGGUUUUUUCACUUACAUUUGUGGGUUUAUACAACAAAAGCUAGCUCUUGGAGGUUCCGUGGCUAUAAAGAUAACAGAACAUUCUUGGAAUGCUGAUCUUUAUAAGCUCAUGGGACACUUCGCAUGGUGGACAGCCUUUGUUACUAAUGUGAAUGCGUCAUCAUCUGAAGCAUUUUUAAUUGGAUGUAAUUAUCUUGGCAAACCACGCGAACAAAUAGAUGGUUAUGUCAUGCAUGCAAAUUACAUAUUUUGGAGGAAUACAAAUCCAAUUCAGUUGUCUUCCUAUUCUUUAUUUGACAUGAGUAAAUUUCCCCUUAAAUUAAGGGGUACUGCUGUUAUGUCUUUAAAAGAAGGUCAAAUCAAUGAUAUGAUUUUAUCUCUUCUUAGUAAAGGUAGACUUAUAAUUAGAGAAAACAACAGAGUUGUUAUUUCUAGUGAUGUUCUUGUUAACAACUAAACGAACAAUGUUUGUUUUUCUUGUUUUAUUGCCACUAGUCUCUAGUCAGUGUGUUAAUCUUACAACCAGAACUCAAUUACCCCCUGCAUACACUAAUUCUUUCACACGUGGUGUUUAUUACCCUGACAAAGUUUUCAGAUCCUCAGUUUUACAUUCAACUCAGGACUUGUUCUUACCUUUCUUUUCCAAUGUUACUUGGUUCCAUGCUAUACAUGUCUCUGGGACCAAUGGUACUAAGAGGUUUGAUAACCCUGUCCUACCAUUUAAUGAUGGUGUUUAUUUUGCUUCCACUGAGAAGUCUAACAUAAUAAGAGGCUGGAUUUUUGGUACUACUUUAGAUUCGAAGACCCAGUCCCUACUUAUUGUUAAUAACGCUACUAAUGUUGUUAUUAAAGUCUGUGAAUUUCAAUUUUGUAAUGAUCCAUUUUUGGGUGUUUAUUACCACAAAAACAACAAAAGUUGGAUGGAAAGUGAGUUCAGAGUUUAUUCUAGUGCGAAUAAUUGCACUUUUGAAUAUGUCUCUCAGCCUUUUCUUAUGGACCUUGAAGGAAAACAGGGUAAUUUCAAAAAUCUUAGGGAAUUUGUGUUUAAGAAUAUUGAUGGUUAUUUUAAAAUAUAUUCUAAGCACACGCCUAUUAAUUUAGUGCGUGAUCUCCCUCAGGGUUUUUCGGCUUUAGAACCAUUGGUAGAUUUGCCAAUAGGUAUUAACAUCACUAGGUUUCAAACUUUACUUGCUUUACAUAGAAGUUAUUUGACUCCUGGUGAUUCUUCUUCAGGUUGGACAGCUGGUGCUGCAGCUUAUUAUGUGGGUUAUCUUCAACCUAGGACUUUUCUAUUAAAAUAUAAUGAAAAUGGAACCAUUACAGAUGCUGUAGACUGUGCACUUGACCCUCUCUCAGAAACAAAGUGUACGUUGAAAUCCUUCACUGUAGAAAAAGGAAUCUAUCAAACUUCUAACUUUAGAGUCCAACCAACAGAAUCUAUUGUUAGAUUUCCUAAUAUUACAAACUUGUGCCCUUUUGGUGAAGUUUUUAACGCCACCAGAUUUGCAUCUGUUUAUGCUUGGAACAGGAAGAGAAUCAGCAACUGUGUUGCUGAUUAUUCUGUCCUAUAUAAUUCCGCAUCAUUUUCCACUUUUAAGUGUUAUGGAGUGUCUCCUACUAAAUUAAAUGAUCUCUGCUUUACUAAUGUCUAUGCAGAUUCAUUUGUAAUUAGAGGUGAUGAAGUCAGACAAAUCGCUCCAGGGCAAACUGGAAAGAUUGCUGAUUAUAAUUAUAAAUUACCAGAUGAUUUUACAGGCUGCGUUAUAGCUUGGAAUUCUAACAAUCUUGAUUCUAAGGUUGGUGGUAAUUAUAAUUACCUGUAUAGAUUGUUUAGGAAGUCUAAUCUCAAACCUUUUGAGAGAGAUAUUUCAACUGAAAUCUAUCAGGCCGGUAGCACACCUUGUAAUGGUGUUGAAGGUUUUAAUUGUUACUUUCCUUUACAAUCAUAUGGUUUCCAACCCACUAAUGGUGUUGGUUACCAACCAUACAGAGUAGUAGUACUUUCUUUUGAACUUCUACAUGCACCAGCAACUGUUUGUGGACCUAAAAAGUCUACUAAUUUGGUUAAAAACAAAUGUGUCAAUUUCAACUUCAAUGGUUUAACAGGCACAGGUGUUCUUACUGAGUCUAACAAAAAGUUUCUGCCUUUCCAACAAUUUGGCAGAGACAUUGCUGACACUACUGAUGCUGUCCGUGAUCCACAGACACUUGAGAUUCUUGACAUUACACCAUGUUCUUUUGGUGGUGUCAGUGUUAUAACACCAGGAACAAAUACUUCUAACCAGGUUGCUGUUCUUUAUCAGGAUGUUAACUGCACAGAAGUCCCUGUUGCUAUUCAUGCAGAUCAACUUACUCCUACUUGGCGUGUUUAUUCUACAGGUUCUAAUGUUUUUCAAACACGUGCAGGCUGUUUAAUAGGGGCUGAACAUGUCAACAACUCAUAUGAGUGUGACAUACCCAUUGGUGCAGGUAUAUGCGCUAGUUAUCAGACUCAGACUAAUUCUCCUCGGCGGGCACGUAGUGUAGCUAGUCAAUCCAUCAUUGCCUACACUAUGUCACUUGGUGCAGAAAAUUCAGUUGCUUACUCUAAUAACUCUAUUGCCAUACCCACAAAUUUUACUAUUAGUGUUACCACAGAAAUUCUACCAGUGUCUAUGACCAAGACAUCAGUAGAUUGUACAAUGUACAUUUGUGGUGAUUCAACUGAAUGCAGCAAUCUUUUGUUGCAAUAUGGCAGUUUUUGUACACAAUUAAACCGUGCUUUAACUGGAAUAGCUGUUGAACAAGACAAAAACACCCAAGAAGUUUUUGCACAAGUCAAACAAAUUUACAAAACACCACCAAUUAAAGAUUUUGGUGGUUUUAAUUUUUCACAAAUAUUACCAGAUCCAUCAAAACCAAGCAAGAGGUCAUUUAUUGAAGAUCUACUUUUCAACAAAGUGACACUUGCAGAUGCUGGCUUCAUCAAACAAUAUGGUGAUUGCCUUGGUGAUAUUGCUGCUAGAGACCUCAUUUGUGCACAAAAGUUUAACGGCCUUACUGUUUUGCCACCUUUGCUCACAGAUGAAAUGAUUGCUCAAUACACUUCUGCACUGUUAGCGGGUACAAUCACUUCUGGUUGGACCUUUGGUGCAGGUGCUGCAUUACAAAUACCAUUUGCUAUGCAAAUGGCUUAUAGGUUUAAUGGUAUUGGAGUUACACAGAAUGUUCUCUAUGAGAACCAAAAAUUGAUUGCCAACCAAUUUAAUAGUGCUAUUGGCAAAAUUCAAGACUCACUUUCUUCCACAGCAAGUGCACUUGGAAAACUUCAAGAUGUGGUCAACCAAAAUGCACAAGCUUUAAACACGCUUGUUAAACAACUUAGCUCCAAUUUUGGUGCAAUUUCAAGUGUUUUAAAUGAUAUCCUUUCACGUCUUGACAAAGUUGAGGCUGAAGUGCAAAUUGAUAGGUUGAUCACAGGCAGACUUCAAAGUUUGCAGACAUAUGUGACUCAACAAUUAAUUAGAGCUGCAGAAAUCAGAGCUUCUGCUAAUCUUGCUGCUACUAAAAUGUCAGAGUGUGUACUUGGACAAUCAAAAAGAGUUGAUUUUUGUGGAAAGGGCUAUCAUCUUAUGUCCUUCCCUCAGUCAGCACCUCAUGGUGUAGUCUUCUUGCAUGUGACUUAUGUCCCUGCACAAGAAAAGAACUUCACAACUGCUCCUGCCAUUUGUCAUGAUGGAAAAGCACACUUUCCUCGUGAAGGUGUCUUUGUUUCAAAUGGCACACACUGGUUUGUAACACAAAGGAAUUUUUAUGAACCACAAAUCAUUACUACAGACAACACAUUUGUGUCUGGUAACUGUGAUGUUGUAAUAGGAAUUGUCAACAACACAGUUUAUGAUCCUUUGCAACCUGAAUUAGACUCAUUCAAGGAGGAGUUAGAUAAAUAUUUUAAGAAUCAUACAUCACCAGAUGUUGAUUUAGGUGACAUCUCUGGCAUUAAUGCUUCAGUUGUAAACAUUCAAAAAGAAAUUGACCGCCUCAAUGAGGUUGCCAAGAAUUUAAAUGAAUCUCUCAUCGAUCUCCAAGAACUUGGAAAGUAUGAGCAGUAUAUAAAAUGGCCAUGGUACAUUUGGCUAGGUUUUAUAGCUGGCUUGAUUGCCAUAGUAAUGGUGACAAUUAUGCUUUGCUGUAUGACCAGUUGCUGUAGUUGUCUCAAGGGCUGUUGUUCUUGUGGAUCCUGCUGCAAAUUUGAUGAAGACGACUCUGAGCCAGUGCUCAAAGGAGUCAAAUUACAUUACACAUAAACGAACUUAUGGAUUUGUUUAUGAGAAUCUUCACAAUUGGAACUGUAACUUUGAAGCAAGGUGAAAUCAAGGAUGCUACUCCUUCAGAUUUUGUUCGCGCUACUGCAACGAUACCGAUACAAGCCUCACUCCCUUUCGGAUGGCUUAUUGUUGGCGUUGCACUUCUUGCUGUUUUUCAGAGCGCUUCCAAAAUCAUAACCCUCAAAAAGAGAUGGCAACUAGCACUCUCCAAGGGUGUUCACUUUGUUUGCAACUUGCUGUUGUUGUUUGUAACAGUUUACUCACACCUUUUGCUCGUUGCUGCUGGCCUUGAAGCCCCUUUUCUCUAUCUUUAUGCUUUAGUCUACUUCUUGCAGAGUAUAAACUUUGUAAGAAUAAUAAUGAGGCUUUGGCUUUGCUGGAAAUGCCGUUCCAAAAACCCAUUACUUUAUGAUGCCAACUAUUUUCUUUGCUGGCAUACUAAUUGUUACGACUAUUGUAUACCUUACAAUAGUGUAACUUCUUCAAUUGUCAUUACUUCAGGUGAUGGCACAACAAGUCCUAUUUCUGAACAUGACUACCAGAUUGGUGGUUAUACUGAAAAAUGGGAAUCUGGAGUAAAAGACUGUGUUGUAUUACACAGUUACUUCACUUCAGACUAUUACCAGCUGUACUCAACUCAAUUGAGUACAGACACUGGUGUUGAACAUGUUACCUUCUUCAUCUACAAUAAAAUUGUUGAUGAGCCUGAAGAACAUGUCCAAAUUCACACAAUCGACGGUUCAUCCGGAGUUGUUAAUCCAGUAAUGGAACCAAUUUAUGAUGAACCGACGACGACUACUAGCGUGCCUUUGUAAGCACAAGCUGAUGAGUACGAACUUAUGUACUCAUUCGUUUCGGAAGAGACAGGUACGUUAAUAGUUAAUAGCGUACUUCUUUUUCUUGCUUUCGUGGUAUUCUUGCUAGUUACACUAGCCAUCCUUACUGCGCUUCGAUUGUGUGCGUACUGCUGCAAUAUUGUUAACGUGAGUCUUGUAAAACCUUCUUUUUACGUUUACUCUCGUGUUAAAAAUCUGAAUUCUUCUAGAGUUCCUGAUCUUCUGGUCUAAACGAACUAAAUAUUAUAUUAGUUUUUCUGUUUGGAACUUUAAUUUUAGCCAUGGCAGAUUCCAACGGUACUAUUACCGUUGAAGAGCUUAAAAAGCUCCUUGAACAAUGGAACCUAGUAAUAGGUUUCCUAUUCCUUACAUGGAUUUGUCUUCUACAAUUUGCCUAUGCCAACAGGAAUAGGUUUUUGUAUAUAAUUAAGUUAAUUUUCCUCUGGCUGUUAUGGCCAGUAACUUUAGCUUGUUUUGUGCUUGCUGCUGUUUACAGAAUAAAUUGGAUCACCGGUGGAAUUGCUAUCGCAAUGGCUUGUCUUGUAGGCUUGAUGUGGCUCAGCUACUUCAUUGCUUCUUUCAGACUGUUUGCGCGUACGCGUUCCAUGUGGUCAUUCAAUCCAGAAACUAACAUUCUUCUCAACGUGCCACUCCAUGGCACUAUUCUGACCAGACCGCUUCUAGAAAGUGAACUCGUAAUCGGAGCUGUGAUCCUUCGUGGACAUCUUCGUAUUGCUGGACACCAUCUAGGACGCUGUGACAUCAAGGACCUGCCUAAAGAAAUCACUGUUGCUACAUCACGAACGCUUUCUUAUUACAAAUUGGGAGCUUCGCAGCGUGUAGCAGGUGACUCAGGUUUUGCUGCAUACAGUCGCUACAGGAUUGGCAACUAUAAAUUAAACACAGACCAUUCCAGUAGCAGUGACAAUAUUGCUUUGCUUGUACAGUAAGUGACAACAGAUGUUUCAUCUCGUUGACUUUCAGGUUACUAUAGCAGAGAUAUUACUAAUUAUUAUGAGGACUUUUAAAGUUUCCAUUUGGAAUCUUGAUUACAUCAUAAACCUCAUAAUUAAAAAUUUAUCUAAGUCACUAACUGAGAAUAAAUAUUCUCAAUUAGAUGAAGAGCAACCAAUGGAGAUUGAUUAAACGAACAUGAAAAUUAUUCUUUUCUUGGCACUGAUAACACUCGCUACUUGUGAGCUUUAUCACUACCAAGAGUGUGUUAGAGGUACAACAGUACUUUUAAAAGAACCUUGCUCUUCUGGAACAUACGAGGGCAAUUCACCAUUUCAUCCUCUAGCUGAUAACAAAUUUGCACUGACUUGCUUUAGCACUCAAUUUGCUUUUGCUUGUCCUGACGGCGUAAAACACGUCUAUCAGUUACGUGCCAGAUCAGUUUCACCUAAACUGUUCAUCAGACAAGAGGAAGUUCAAGAACUUUACUCUCCAAUUUUUCUUAUUGUUGCGGCAAUAGUGUUUAUAACACUUUGCUUCACACUCAAAAGAAAGACAGAAUGAUUGAACUUUCAUUAAUUGACUUCUAUUUGUGCUUUUUAGCCUUUCUGCUAUUCCUUGUUUUAAUUAUGCUUAUUAUCUUUUGGUUCUCACUUGAACUGCAAGAUCAUAAUGAAACUUGUCACGCCUAAACGAACAUGAAAUUUCUUGUUUUCUUAGGAAUCAUCACAACUGUAGCUGCAUUUCACCAAGAAUGUAGUUUACAGUCAUGUACUCAACAUCAACCAUAUGUAGUUGAUGACCCGUGUCCUAUUCACUUCUAUUCUAAAUGGUAUAUUAGAGUAGGAGCUAGAAAAUCAGCACCUUUAAUUGAAUUGUGCGUGGAUGAGGCUGGUUCUAAAUCACCCAUUCAGUACAUCGAUAUCGGUAAUUAUACAGUUUCCUGUUUACCUUUUACAAUUAAUUGCCAGGAACCUAAAUUGGGUAGUCUUGUAGUGCGUUGUUCGUUCUAUGAAGACUUUUUAGAGUAUCAUGACGUUCGUGUUGUUUUAGAUUUCAUCUAAACGAACAAACUAAAAUGUCUGAUAAUGGACCCCAAAAUCAGCGAAAUGCACCCCGCAUUACGUUUGGUGGACCCUCAGAUUCAACUGGCAGUAACCAGAAUGGAGAACGCAGUGGGGCGCGAUCAAAACAACGUCGGCCCCAAGGUUUACCCAAUAAUACUGCGUCUUGGUUCACCGCUCUCACUCAACAUGGCAAGGAAGACCUUAAAUUCCCUCGAGGACAAGGCGUUCCAAUUAACACCAAUAGCAGUCCAGAUGACCAAAUUGGCUACUACCGAAGAGCUACCAGACGAAUUCGUGGUGGUGACGGUAAAAUGAAAGAUCUCAGUCCAAGAUGGUAUUUCUACUACCUAGGAACUGGGCCAGAAGCUGGACUUCCCUAUGGUGCUAACAAAGACGGCAUCAUAUGGGUUGCAACUGAGGGAGCCUUGAAUACACCAAAAGAUCACAUUGGCACCCGCAAUCCUGCUAACAAUGCUGCAAUCGUGCUACAACUUCCUCAAGGAACAACAUUGCCAAAAGGCUUCUACGCAGAAGGGAGCAGAGGCGGCAGUCAAGCCUCUUCUCGUUCCUCAUCACGUAGUCGCAACAGUUCAAGAAAUUCAACUCCAGGCAGCAGUAGGGGAACUUCUCCUGCUAGAAUGGCUGGCAAUGGCGGUGAUGCUGCUCUUGCUUUGCUGCUGCUUGACAGAUUGAACCAGCUUGAGAGCAAAAUGUCUGGUAAAGGCCAACAACAACAAGGCCAAACUGUCACUAAGAAAUCUGCUGCUGAGGCUUCUAAGAAGCCUCGGCAAAAACGUACUGCCACUAAAGCAUACAAUGUAACACAAGCUUUCGGCAGACGUGGUCCAGAACAAACCCAAGGAAAUUUUGGGGACCAGGAACUAAUCAGACAAGGAACUGAUUACAAACAUUGGCCGCAAAUUGCACAAUUUGCCCCCAGCGCUUCAGCGUUCUUCGGAAUGUCGCGCAUUGGCAUGGAAGUCACACCUUCGGGAACGUGGUUGACCUACACAGGUGCCAUCAAAUUGGAUGACAAAGAUCCAAAUUUCAAAGAUCAAGUCAUUUUGCUGAAUAAGCAUAUUGACGCAUACAAAACAUUCCCACCAACAGAGCCUAAAAAGGACAAAAAGAAGAAGGCUGAUGAAACUCAAGCCUUACCGCAGAGACAGAAGAAACAGCAAACUGUGACUCUUCUUCCUGCUGCAGAUUUGGAUGAUUUCUCCAAACAAUUGCAACAAUCCAUGAGCAGUGCUGACUCAACUCAGGCCUAAACUCAUGCAGACCACACAAGGCAGAUGGGCUAUAUAAACGUUUUCGCUUUUCCGUUUACGAUAUAUAGUCUACUCUUGUGCAGAAUGAAUUCUCGUAACUACAUAGCACAAGUAGAUGUAGUUAACUUUAAUCUCACAUAGCAAUCUUUAAUCAGUGUGUAACAUUAGGGAGGACUUGAAAGAGCCACCACAUUUUCACCGAGGCCACGCGGAGUACGAUCGAGUGUACAGUGAACAAUGCUAGGGAGAGCUGCCUAUAUGGAAGAGCCCUAAUGUGUAAAAUUAAUUUUAGUAGUGCUAUCCCCAUGUGAUUUUAAUAGCUUCUUAGGAGAAUGACAAAAAAAAAAAAAAAAAAAAAAAAAAAAAAAAA\n"
          ]
        }
      ],
      "source": [
        "covid_mrna = covid_dna.transcribe()\n",
        "print(covid_mrna)\n"
      ]
    },
    {
      "cell_type": "markdown",
      "metadata": {
        "id": "8YbX23V-Jr45"
      },
      "source": [
        "Translation"
      ]
    },
    {
      "cell_type": "code",
      "execution_count": null,
      "metadata": {
        "colab": {
          "base_uri": "https://localhost:8080/"
        },
        "id": "RUW1o9wXJoFS",
        "outputId": "afcc424f-5013-4108-eb2a-a38ef0fd4399"
      },
      "outputs": [
        {
          "output_type": "stream",
          "name": "stdout",
          "text": [
            "IKGLYLPR*QTNQLSISCRSVL*TNFKICVAVTRLHA*CTHAV*LITNYCR*QDTSNSSIFCRLLTVSSVLQPIISTSRFRPGVTER*DGEPCPWFQRENTRPTQFACFTGSRRARTWLWRLRGGGLIRGTSTS*RWHLWLSRS*KRRFAST*TALCVHQTFGCSNCTSWSCYG*AGSRTRRHSVRS*W*DTWCPCPSCGRNTSGLPQGSSS*ER**RSWWP*LRRRSKVI*LRRRAWH*SL*RFSRKLEH*T*QWCYP*THA*A*RRGIHSLCR*QLLWP*WLPS*VH*RPSSTCW*SFMHFVRTTGLY*H*EGCILLP*T*A*NCLVHGTF*KEL*IADTF*N*IGKEI*HLQWGMSKFCISLKFHNQDYSTKG*KEKA*WLYG*NSICLSSCVTK*MQPNVPFNSHEV*SLW*NFMADGRFC*SHLRILWH*EFD*RRCHYLWLLTPKCCC*NLLSSMSQFRSRT*A*SCRIP**IWLENHSS*GWSHYCLWRLCVLLCWLP*QVCLLGSTC*R*HRL*PYRCCWRRFRRS**QPS*NTPKRESQHQYCW*L*T**RDRHYFGIFFCFHKCFCGNCERFGL*SIQTNC*ILW*F*SYKRKS*KRCLEYW*TEINTESSLCICIRGCSCCTINFLPHS*NCSKFCACFTEGRYNNTRWNFTVFTETH*CYDVHI*FGY*QSSCNGLHYRWCCSVDFAVAN*HLWHCL*KTQTRP*LA*REV*GRCRVS*RRLGNC*IYLNLCL*NCRWTNCHLCKGN*GECSDIL*ACK*IFGFVC*LYHYWWS*T*SLEFR*NICHALKGIVQKVC*IQRRNWPTHASKSPKRNYLLRGRNTSHRSVNRGSCLENW*FTTIRTTY**SC*SSIGWYTSLY*RAYVARNQRHRKVLCPCT*YDGNKQYLHTQRRCTNKGYFW**HCDRSARLQECEYHF*T**KD**ST**EVLCLYS*TRYRSK*VRLCCGRCCHKNFATSI*ITYTTGH*FR*VEYGYILLI**VW*V*IGFTYVLFFLPSR*G*RRR*L*RRRV*AINSI*VWY*R*LPR*TFGIWCHFCCSST*RRARRRLVR***STNCWSTRRQ*GQSDNYYSNNC*GSTSIRDGTYTSCSDY*SE*F*WLFKTY*QCIH*KCRHCGRS*KGKTNSGC*CSQCLP*TWRRCCRSLK*GY*QCHAS*I**LHSY*WTT*SGW*LCFKRTQSC*TLSSCCRPKC*QR*RHSTS*ECL*KF*SARSSTCTIIISWYFWC*PYTFFKSLCRYCSHKCLLSCL**KSL*QTCFKLFGNEE*KAS*TKDR*DS*RGS*AIYN*K*TFS*TEKTR**ENQSLC*RSYNNSGRN*VPHRKLVTLY*H*WQSSSRFCHSC**H*HHFLKERCSIYSG*CCSRGCFNCCGYTY*KGWWHY*NASESFEKSANRQLYNHLPGSGFKWLHCRGGKDSA*KV*KCLLHSTIYYL**EARNSWNCFLEFARNACTCRRNTQINACLCGN*SHSFNYTA*I*GY*NTRGCG*LWC*ILLLHQ*NNCSVTYQHT*RSK*NSCYNATWLCNTWLKFGRSCSVYEISQSASYSFCFFT*CCYSV*WLSYFFF*NT*RTFY*NHLTCWFL*RLVLFWTIYTTRYRIS*ER**KCILH**SYHIPPRW*SYHL*QS*DTSFFERSEDY*GVYNSRQH*PPHASCGHVNDIWTTVWSNLFGWS*CY*NKTS*FT*R*NILCFT***HSTC*GF*VLPHN*S*FSG*VHVSIKSH*KVEIPTS*WFNFY*MGR*QLLSCHCIVNTPTNRVEV*STCSTRCLLQSKGW*SC*LLCTYLSLL**DSR*VR*C*RNNELLVSTCQFRFLQKSLERGV*NLWTTADNP*GCRSCYVHGHTFL*TI*ERCSDTLYVW*TSYKISSTTGVTFCYDVSTTCSV*T*AWYIYLC**VHW*LPVWSL*TYNF*RNFVLHRRCFTYKVLRIQRSYYGCFLQRKQLHNNHKTSYL*IGWCCLYRN*P*VGQLL*ERQFLFHRATN*SCTKPTISKRKLR*F*VCM**YQIC**FKPVNWL*ETCFKRA*SYIFP*LKW*CGGY*L*TLHTLF*ERS*IVT*TYCLAC*QCN**SHV*TKYLVYTLSLEHKTS*NIKFV*CTEVRGRAGNG*SCLRRSKTSL*RSSGKSYHTERRS*V*CENYRSCRRHYT*TSK**FKNYRRGWPHRSNGCLCRQF*SYY*ET**II*SIRFENPCYSWFSCC**CPLGYYS*LC*AFS*QSC*YNY*HSYTVFKPCLY*LYALFLYFIATIVYFY*KYKF*N*SIYADYYSKEYC*ECR*ILSRGFI*LFEVT*FF*TDKYYNLVFTIKCLPRFFNLLNRCFRCFNV*FRHAFLLYWLQRRLFELY*CHYCNLLYWFYTL*CLS*WFRFFRHLSFFRNYTNYHFIF*MGFNCFWLSCRVVFGIYSFH*VFLCTWIGCNHAIVFQLFCSTFY**FLAYVVNN*SCTNGPDFSYG*NVHLLCIILLCMEKLCACCRRL*FINLYDVLQT**SNKSRMYNYC*WC*KVLLCLC*WR*RLLQTTQLELC*L*YILCW*YIY***SCERLVTTV*KTNKSY*PVFLHR**CYSEEWFHPSLL**SWSKDL*KTFSLSFC*LRQPES**H*RFIAY*CYSF*W*IKM*RIICKISVCLLQSAYVSTYTVTRSGISV*CW**CGSCS*NV*CLR*YVFINF*RTNGKTQNTSCNCRS*TCKECVLRQCLIYFYFSSSARVC*FRCRN*RCC*MS*IVTSI*HRSYWR*L**LYAHL*QS*KHDTP*PWCLY*L*CASY*CAGSKKSQHCFDMER*RFHVIV*TTTKTNT*CC*KE*LTF*VDMCNY*TSC*CCNNKDST*GW*NC**LVEAVN*SYTCVPFCCCYFLFNNTCSCHV*TY*LFK*NHRIQGY*WWCHS*HSIYRYLFC*QTC*F*HMV*PAWW*LY**QSLPIDCCSHNKRSGFCRAWFAWHDITHN*W*LFAFLT*SF*CSW*HLLHTIKTYRVH*LCNISLCFGC*MYNF*RCFW*ASTILL*YQCTRRFCCL*KFTP*HTLCAHGWLYYSIS*HLP*RFC*SGNNF*F*VL*ARHL*KIRSWCLCIY*W*MGT*Q*LLQIFTRSFLWCRCCKFTY*YVYTTNSTYWCFGHISIYSSWWYCSYRSNMPCLLFYEV*KSFW*IQSCSCL*YFTIPYVIHCTLFNTSLLILTWCLFCYLLVLDILSY**CFFFSTYSVDGYVHTFSTFLDNNCLYHLYFHKAFLLVL**LPKETCSL*WCFL*YF*RSCAVHLFVK*RNVSKVA**CAITSYAI**ILSSL**VQVF*WSNGYN*LQRSCLLSSRKGSQ*LQ*LRF*CSLPTTTNLYHLSCFAEWF*KNGIPIW*S*GLYGTSNLWYNYT*RSLA**RSLLSKTCDLHL*RHA*P*L*RFTHS*V*S*FLGTGW*CSTQGYWTFYAKLCT*A*G*YSQS*DT*V*VCSHSTRTDFFSVSLLQWFTIWCLPMCYEAQFHY*GFIP*WFMW*CWF*HRL*LCLFLLHAPYGITNWSSCWHRLRR*LLWTFC*QANSTSSWYGHNYYS*CFSLVVRCCYKWRQVVSQSIYHNS**L*PCGYEVQL*TSNTRPC*HTRTSFCSNWNCRFRYVCFIKRITAKWYEWTYHIG*CFIRR*IYTF*CC*TMLRCYFPKCSEKNNQGYTPLVVTHNFDFTFSFSPEYSMVFVLFFV*KCLFTFCYGYYCYVCFCNDVCQT*ACISLFVFVTFSCHCSLF*YGLYAC*LGDAYYDMVGYG*Y*FVWF*AKRLCYVCISCSVTNPYDSKNCV**WC*ESVDTYECLDTRL*SLLW*CFRSSHFHVGSYNLCYF*LLRCSYNCHVFGQRYCFYVC*VLPYFLHNW*YTSVYNASLLFLRLFLYLLLWPLLFTQPLL*TDSWCL*LLSFYTGV*IYEFTGTTPTQE*HRCLQTQH*IVGCWWQTLYQSSHCTV*NVRCKVHISSLTLSFATTQSRIII*IVGSMCPVTQ*HSLS*RYY*SL*KNGFTTFCFAFHAGCCRHKQAL*RNAGQQGNLTSYSLRV*FPSIICSFCYCSRSL*AGCC*W*F*SCS*KVEEVFECG*I*I*P*CSHAT*VGKDG*SSYDPNV*TG*I*GQEGKSY*CYADNAFHYA*KVG**CTQQHYQQCKRWLCSLEHNTSYNSSQTNGCHTRL*HI*KYV*WYNIYLCISIVGNPTGCRCR**NCST**N*YGQFT*FSMASYCNSFKGQFCCQITE**A*SCCTTTDVLCCRYYTNCLH**QCVSLLQHNKGR*VCTCTVIRFTGFEMG*IP*E*WNWYYLYRTGTTL*VCYRHT*RS*SEVFILY*RIKQPK*RYGTW*FSCHSTSTSW*CNRSACQFNCIIFLCFCCRCC*SLQRLSS*WGTTNH*LC*DVVYTHWYWSGNNSYTGSQYGSRILWWCIVLSVLPLPHRSSKS*RIL*LKR*VCTNTYNLC**PCGFYT*KHSLYRLRYVERLWL*L*STPRTHASVS*CTIVFKRVCGVSAARLTPCGTGTSTDVVYRAFDIYNDKVAGFAKFLKTNCCRFQEKDEDDNLIDSYFVVKRHTFSNYQHEETIYNLLKDCPAVAKHDFFKFRIDGDMVPHISRQRLTKYTMADLVYALRHFDEGNCDTLKEILVTYNCCDDDYFNKKDWYDFVENPDILRVYANLGERVRQALLKTVQFCDAMRNAGIVGVLTLDNQDLNGNWYDFGDFIQTTPGSGVPVVDSYYSLLMPILTLTRALTAESHVDTDLTKPYIKWDLLKYDFTEERLKLFDRYFKYWDQTYHPNCVNCLDDRCILHCANFNVLFSTVFPPTSFGPLVRKIFVDGVPFVVSTGYHFRELGVVHNQDVNLHSSRLSFKELLVYAADPAMHAASGNLLLDKRTTCFSVAALTNNVAFQTVKPGNFNKDFYDFAVSKGFFKEGSSVELKHFFFAQDGNAAISDYDYYRYNLPTMCDIRQLLFVVEVVDKYFDCYDGGCINANQVIVNNLDKSAGFPFNKWGKARLYYDSMSYEDQDALFAYTKRNVIPTITQMNLKYAISAKNRARTVAGVSICSTMTNRQFHQKLLKSIAATRGATVVIGTSKFYGGWHNMLKTVYSDVENPHLMGWDYPKCDRAMPNMLRIMASLVLARKHTTCCSLSHRFYRLANECAQVLSEMVMCGGSLYVKPGGTSSGDATTAYANSVFNICQAVTANVNALLSTDGNKIADKYVRNLQHRLYECLYRNRDVDTDFVNEFYAYLRKHFSMMILSDDAVVCFNSTYASQGLVASIKNFKSVLYYQNNVFMSEAKCWTETDLTKGPHEFCSQHTMLVKQGDDYVYLPYPDPSRILGAGCFVDDIVKTDGTLMIERFVSLAIDAYPLTKHPNQEYADVFHLYLQYIRKLHDELTGHMLDMYSVMLTNDNTSRYWEPEFYEAMYTPHTVLQAVGACVLCNSQTSLRCGACIRRPFLCCKCCYDHVISTSHKLVLSVNPYVCNAPGCDVTDVTQLYLGGMSYYCKSHKPPISFPLCANGQVFGLYKNTCVGSDNVTDFNAIATCDWTNAGDYILANTCTERLKLFAAETLKATEETFKLSYGIATVREVLSDRELHLSWEVGKPRPPLNRNYVFTGYRVTKNSKVQIGEYTFEKGDYGDAVVYRGTTTYKLNVGDYFVLTSHTVMPLSAPTLVPQEHYVRITGLYPTLNISDEFSSNVANYQKVGMQKYSTLQGPPGTGKSHFAIGLALYYPSARIVYTACSHAAVDALCEKALKYLPIDKCSRIIPARARVECFDKFKVNSTLEQYVFCTVNALPETTADIVVFDEISMATNYDLSVVNARLRAKHYVYIGDPAQLPAPRTLLTKGTLEPEYFNSVCRLMKTIGPDMFLGTCRRCPAEIVDTVSALVYDNKLKAHKDKSAQCFKMFYKGVITHDVSSAINRPQIGVVREFLTRNPAWRKAVFISPYNSQNAVASKILGLPTQTVDSSQGSEYDYVIFTQTTETAHSCNVNRFNVAITRAKVGILCIMSDRDLYDKLQFTSLEIPRRNVATLQAENVTGLFKDCSKVITGLHPTQAPTHLSVDTKFKTEGLCVDIPGIPKDMTYRRLISMMGFKMNYQVNGYPNMFITREEAIRHVRAWIGFDVEGCHATREAVGTNLPLQLGFSTGVNLVAVPTGYVDTPNNTDFSRVSAKPPPGDQFKHLIPLMYKGLPWNVVRIKIVQMLSDTLKNLSDRVVFVLWAHGFELTSMKYFVKIGPERTCCLCDRRATCFSTASDTYACWHHSIGFDYVYNPFMIDVQQWGFTGNLQSNHDLYCQVHGNAHVASCDAIMTRCLAVHECFVKRVDWTIEYPIIGDELKINAACRKVQHMVVKAALLADKFPVLHDIGNPKAIKCVPQADVEWKFYDAQPCSDKAYKIEELFYSYATHSDKFTDGVCLFWNCNVDRYPANSIVCRFDTRVLSNLNLPGCDGGSLYVNKHAFHTPAFDKSAFVNLKQLPFFYYSDSPCESHGKQVVSDIDYVPLKSATCITRCNLGGAVCRHHANEYRLYLDAYNMMISAGFSLWVYKQFDTYNLWNTFTRLQSLENVAFNVVNKGHFDGQQGEVPVSIINNTVYTKVDGVDVELFENKTTLPVNVAFELWAKRNIKPVPEVKILNNLGVDIAANTVIWDYKRDAPAHISTIGVCSMTDIAKKPTETICAPLTVFFDGRVDGQVDLFRNARNGVLITEGSVKGLQPSVGPKQASLNGVTLIGEAVKTQFNYYKKVDGVVQQLPETYFTQSRNLQEFKPRSQMEIDFLELAMDEFIERYKLEGYAFEHIVYGDFSHSQLGGLHLLIGLAKRFKESPFELEDFIPMDSTVKNYFITDAQTGSSKCVCSVIDLLLDDFVEIIKSQDLSVVSKVVKVTIDYTEISFMLWCKDGHVETFYPKLQSSQAWQPGVAMPNLYKMQRMLLEKCDLQNYGDSATLPKGIMMNVAKYTQLCQYLNTLTLAVPYNMRVIHFGAGSDKGVAPGTAVLRQWLPTGTLLVDSDLNDFVSDADSTLIGDCATVHTANKWDLIISDMYDPKTKNVTKENDSKEGFFTYICGFIQQKLALGGSVAIKITEHSWNADLYKLMGHFAWWTAFVTNVNASSSEAFLIGCNYLGKPREQIDGYVMHANYIFWRNTNPIQLSSYSLFDMSKFPLKLRGTAVMSLKEGQINDMILSLLSKGRLIIRENNRVVISSDVLVNN*TNNVCFSCFIATSL*SVC*SYNQNSITPCIH*FFHTWCLLP*QSFQILSFTFNSGLVLTFLFQCYLVPCYTCLWDQWY*EV**PCPTI**WCLFCFH*EV*HNKRLDFWYYFRFEDPVPTYC**RY*CCY*SL*ISIL**SIFGCLLPQKQQKLDGK*VQSLF*CE*LHF*ICLSAFSYGP*RKTG*FQKS*GICV*EY*WLF*NIF*AHAY*FSA*SPSGFFGFRTIGRFANRY*HH*VSNFTCFT*KLFDSW*FFFRLDSWCCSLLCGLSST*DFSIKI**KWNHYRCCRLCT*PSLRNKVYVEILHCRKRNLSNF*L*SPTNRIYC*IS*YYKLVPFW*SF*RHQICICLCLEQEENQQLCC*LFCPI*FRIIFHF*VLWSVSY*IK*SLLY*CLCRFICN*R**SQTNRSRANWKDC*L*L*ITR*FYRLRYSLEF*QS*F*GWW*L*LPV*IV*EV*SQTF*ERYFN*NLSGR*HTL*WC*RF*LLLSFTIIWFPTH*WCWLPTIQSSSTFF*TSTCTSNCLWT*KVY*FG*KQMCQFQLQWFNRHRCSY*V*QKVSAFPTIWQRHC*HY*CCP*STDT*DS*HYTMFFWWCQCYNTRNKYF*PGCCSLSGC*LHRSPCCYSCRSTYSYLACLFYRF*CFSNTCRLFNRG*TCQQLI*V*HTHWCRYMR*LSDSD*FSSAGT*CS*SIHHCLHYVTWCRKFSCLL**LYCHTHKFYY*CYHRNSTSVYDQDISRLYNVHLW*FN*MQQSFVAIWQFLYTIKPCFNWNSC*TRQKHPRSFCTSQTNLQNTTN*RFWWF*FFTNITRSIKTKQEVIY*RSTFQQSDTCRCWLHQTIW*LPW*YCC*RPHLCTKV*RPYCFATFAHR*NDCSIHFCTVSGYNHFWLDLWCRCCITNTICYANGL*V*WYWSYTECSL*EPKIDCQPI**CYWQNSRLTFFHSKCTWKTSRCGQPKCTSFKHAC*TT*LQFWCNFKCFK*YPFTS*QS*G*SAN**VDHRQTSKFADICDSTIN*SCRNQSFC*SCCY*NVRVCTWTIKKS*FLWKGLSSYVLPSVSTSWCSLLACDLCPCTRKELHNCSCHLS*WKSTLSS*RCLCFKWHTLVCNTKEFL*TTNHYYRQHICVW*L*CCNRNCQQHSL*SFAT*IRLIQGGVR*IF*ESYITRC*FR*HLWH*CFSCKHSKRN*PPQ*GCQEFK*ISHRSPRTWKV*AVYKMAMVHLARFYSWLDCHSNGDNYALLYDQLL*LSQGLLFLWILLQI**RRL*ASAQRSQITLHINELMDLFMRIFTIGTVTLKQGEIKDATPSDFVRATATIPIQASLPFGWLIVGVALLAVFQSASKIITLKKRWQLALSKGVHFVCNLLLLFVTVYSHLLLVAAGLEAPFLYLYALVYFLQSINFVRIIMRLWLCWKCRSKNPLLYDANYFLCWHTNCYDYCIPYNSVTSSIVITSGDGTTSPISEHDYQIGGYTEKWESGVKDCVVLHSYFTSDYYQLYSTQLSTDTGVEHVTFFIYNKIVDEPEEHVQIHTIDGSSGVVNPVMEPIYDEPTTTTSVPL*AQADEYELMYSFVSEETGTLIVNSVLLFLAFVVFLLVTLAILTALRLCAYCCNIVNVSLVKPSFYVYSRVKNLNSSRVPDLLV*TN*ILY*FFCLEL*F*PWQIPTVLLPLKSLKSSLNNGT***VSYSLHGFVFYNLPMPTGIGFCI*LS*FSSGCYGQ*L*LVLCLLLFTE*IGSPVELLSQWLVL*A*CGSATSLLLSDCLRVRVPCGHSIQKLTFFSTCHSMALF*PDRF*KVNS*SEL*SFVDIFVLLDTI*DAVTSRTCLKKSLLLHHERFLITNWELRSV*QVTQVLLHTVATGLATIN*TQTIPVAVTILLCLYSK*QQMFHLVDFQVTIAEILLIIMRTFKVSIWNLDYIINLIIKNLSKSLTENKYSQLDEEQPMEID*TNMKIILFLALITLATCELYHYQECVRGTTVLLKEPCSSGTYEGNSPFHPLADNKFALTCFSTQFAFACPDGVKHVYQLRARSVSPKLFIRQEEVQELYSPIFLIVAAIVFITLCFTLKRKTE*LNFH*LTSICAF*PFCYSLF*LCLLSFGSHLNCKIIMKLVTPKRT*NFLFS*ESSQL*LHFTKNVVYSHVLNINHM*LMTRVLFTSILNGILE*ELENQHL*LNCAWMRLVLNHPFSTSISVIIQFPVYLLQLIARNLNWVVL*CVVRSMKTF*SIMTFVLF*ISSKRTN*NV**WTPKSAKCTPHYVWWTLRFNWQ*PEWRTQWGAIKTTSAPRFTQ*YCVLVHRSHSTWQGRP*IPSRTRRSN*HQ*QSR*PNWLLPKSYQTNSWW*R*NERSQSKMVFLLPRNWARSWTSLWC*QRRHHMGCN*GSLEYTKRSHWHPQSC*QCCNRATTSSRNNIAKRLLRRREQRRQSSLFSFLIT*SQQFKKFNSRQQ*GNFSC*NGWQWR*CCSCFAAA*QIEPA*EQNVW*RPTTTRPNCH*EICC*GF*EASAKTYCH*SIQCNTSFRQTWSRTNPRKFWGPGTNQTRN*LQTLAANCTICPQRFSVLRNVAHWHGSHTFGNVVDLHRCHQIG*QRSKFQRSSHFAE*AY*RIQNIPTNRA*KGQKEEG**NSSLTAETEETANCDSSSCCRFG*FLQTIATIHEQC*LNSGLNSCRPHKADGLYKRFRFSVYDI*STLVQNEFS*LHSTSRCS*L*SHIAIFNQCVTLGRT*KSHHIFTEATRSTIECTVNNARESCLYGRALMCKINFSSAIPM*F**LLRRMTKKKKKKKKKK\n"
          ]
        },
        {
          "output_type": "stream",
          "name": "stderr",
          "text": [
            "/usr/local/lib/python3.10/dist-packages/Bio/Seq.py:2804: BiopythonWarning: Partial codon, len(sequence) not a multiple of three. Explicitly trim the sequence or add trailing N before translation. This may become an error in future.\n",
            "  warnings.warn(\n"
          ]
        }
      ],
      "source": [
        "covid_aa = covid_mrna.translate()\n",
        "print(covid_aa)"
      ]
    },
    {
      "cell_type": "markdown",
      "metadata": {
        "id": "3oGKgL0eKH-8"
      },
      "source": [
        "Most common amino acids"
      ]
    },
    {
      "cell_type": "code",
      "execution_count": null,
      "metadata": {
        "colab": {
          "base_uri": "https://localhost:8080/"
        },
        "id": "_h0Xaw5mKFkt",
        "outputId": "9a2e2d6a-a33b-4a88-d98a-64dfb08466cf"
      },
      "outputs": [
        {
          "output_type": "stream",
          "name": "stdout",
          "text": [
            "[('L', 886), ('S', 810), ('*', 774), ('T', 679), ('C', 635), ('F', 593), ('R', 558), ('V', 548), ('Y', 505), ('N', 472)]\n"
          ]
        }
      ],
      "source": [
        "from collections import Counter\n",
        "common_amino = Counter(covid_aa)\n",
        "print(common_amino.most_common(10))\n"
      ]
    },
    {
      "cell_type": "code",
      "execution_count": null,
      "metadata": {
        "colab": {
          "base_uri": "https://localhost:8080/",
          "height": 490
        },
        "id": "AhYf6SiHKpuZ",
        "outputId": "4b19d473-a99f-433d-9601-461d86babf05"
      },
      "outputs": [
        {
          "output_type": "execute_result",
          "data": {
            "text/plain": [
              "Text(0.5, 1.0, 'Protein Sequence Frequency')"
            ]
          },
          "metadata": {},
          "execution_count": 109
        },
        {
          "output_type": "display_data",
          "data": {
            "text/plain": [
              "<Figure size 640x480 with 1 Axes>"
            ],
            "image/png": "[encoded data removed]"
          },
          "metadata": {}
        }
      ],
      "source": [
        "\n",
        "plt.bar(common_amino.keys(), common_amino.values(), color=['b', 'r', 'm', 'c'])\n",
        "\n",
        "plt.xlabel('Amino Acid')\n",
        "plt.ylabel('Frequency')\n",
        "plt.title('Protein Sequence Frequency')"
      ]
    },
    {
      "cell_type": "code",
      "source": [
        "mydataf=pd.DataFrame(common_amino.items(),columns=['Prot','Count'],index=common_amino.keys())\n",
        "plt.bar('Prot','Count',data=mydataf, color=['b', 'r', 'm', 'c'])\n",
        "plt.xlabel('Amino Acid')\n",
        "plt.ylabel('Frequency')\n",
        "plt.title('Protein Sequence Frequency')"
      ],
      "metadata": {
        "colab": {
          "base_uri": "https://localhost:8080/",
          "height": 490
        },
        "id": "ostfT7DkJkS_",
        "outputId": "1a2c8b0b-09c1-4144-a317-50f290b91769"
      },
      "execution_count": null,
      "outputs": [
        {
          "output_type": "execute_result",
          "data": {
            "text/plain": [
              "Text(0.5, 1.0, 'Protein Sequence Frequency')"
            ]
          },
          "metadata": {},
          "execution_count": 110
        },
        {
          "output_type": "display_data",
          "data": {
            "text/plain": [
              "<Figure size 640x480 with 1 Axes>"
            ],
            "image/png": "[encoded data removed]"
          },
          "metadata": {}
        }
      ]
    },
    {
      "cell_type": "code",
      "execution_count": null,
      "metadata": {
        "colab": {
          "base_uri": "https://localhost:8080/"
        },
        "id": "qjAz4NEYjMqh",
        "outputId": "632969fb-5be2-4573-ee46-f775d34d2a3b"
      },
      "outputs": [
        {
          "output_type": "stream",
          "name": "stdout",
          "text": [
            "Covid-19's genome has 9967 amino acids\n"
          ]
        }
      ],
      "source": [
        "print(\"Covid-19's genome has %d amino acids\" %sum(common_amino.values()))"
      ]
    },
    {
      "cell_type": "markdown",
      "metadata": {
        "id": "BcxnUjabi8Ip"
      },
      "source": [
        "The split() function splits the sequence at any stop codon and keeps the amino acids chains separated. This makes it easier for further analysis."
      ]
    },
    {
      "cell_type": "code",
      "execution_count": null,
      "metadata": {
        "id": "YRHmxPPMi6eh"
      },
      "outputs": [],
      "source": [
        "proteins = covid_aa.split('*')"
      ]
    },
    {
      "cell_type": "code",
      "execution_count": null,
      "metadata": {
        "colab": {
          "base_uri": "https://localhost:8080/"
        },
        "id": "liyjHY0-jjz9",
        "outputId": "258574c7-9997-4dad-f418-29bc620a3c2b"
      },
      "outputs": [
        {
          "output_type": "execute_result",
          "data": {
            "text/plain": [
              "[Seq('IKGLYLPR'),\n",
              " Seq('QTNQLSISCRSVL'),\n",
              " Seq('TNFKICVAVTRLHA'),\n",
              " Seq('CTHAV'),\n",
              " Seq('LITNYCR'),\n",
              " Seq('QDTSNSSIFCRLLTVSSVLQPIISTSRFRPGVTER'),\n",
              " Seq('DGEPCPWFQRENTRPTQFACFTGSRRARTWLWRLRGGGLIRGTSTS'),\n",
              " Seq('RWHLWLSRS'),\n",
              " Seq('KRRFAST'),\n",
              " Seq('TALCVHQTFGCSNCTSWSCYG'),\n",
              " Seq('AGSRTRRHSVRS'),\n",
              " Seq('W'),\n",
              " Seq('DTWCPCPSCGRNTSGLPQGSSS'),\n",
              " Seq('ER'),\n",
              " Seq(''),\n",
              " Seq('RSWWP'),\n",
              " Seq('LRRRSKVI'),\n",
              " Seq('LRRRAWH'),\n",
              " Seq('SL'),\n",
              " Seq('RFSRKLEH'),\n",
              " Seq('T'),\n",
              " Seq('QWCYP'),\n",
              " Seq('THA'),\n",
              " Seq('A'),\n",
              " Seq('RRGIHSLCR'),\n",
              " Seq('QLLWP'),\n",
              " Seq('WLPS'),\n",
              " Seq('VH'),\n",
              " Seq('RPSSTCW'),\n",
              " Seq('SFMHFVRTTGLY'),\n",
              " Seq('H'),\n",
              " Seq('EGCILLP'),\n",
              " Seq('T'),\n",
              " Seq('A'),\n",
              " Seq('NCLVHGTF'),\n",
              " Seq('KEL'),\n",
              " Seq('IADTF'),\n",
              " Seq('N'),\n",
              " Seq('IGKEI'),\n",
              " Seq('HLQWGMSKFCISLKFHNQDYSTKG'),\n",
              " Seq('KEKA'),\n",
              " Seq('WLYG'),\n",
              " Seq('NSICLSSCVTK'),\n",
              " Seq('MQPNVPFNSHEV'),\n",
              " Seq('SLW'),\n",
              " Seq('NFMADGRFC'),\n",
              " Seq('SHLRILWH'),\n",
              " Seq('EFD'),\n",
              " Seq('RRCHYLWLLTPKCCC'),\n",
              " Seq('NLLSSMSQFRSRT'),\n",
              " Seq('A'),\n",
              " Seq('SCRIP'),\n",
              " Seq(''),\n",
              " Seq('IWLENHSS'),\n",
              " Seq('GWSHYCLWRLCVLLCWLP'),\n",
              " Seq('QVCLLGSTC'),\n",
              " Seq('R'),\n",
              " Seq('HRL'),\n",
              " Seq('PYRCCWRRFRRS'),\n",
              " Seq(''),\n",
              " Seq('QPS'),\n",
              " Seq('NTPKRESQHQYCW'),\n",
              " Seq('L'),\n",
              " Seq('T'),\n",
              " Seq(''),\n",
              " Seq('RDRHYFGIFFCFHKCFCGNCERFGL'),\n",
              " Seq('SIQTNC'),\n",
              " Seq('ILW'),\n",
              " Seq('F'),\n",
              " Seq('SYKRKS'),\n",
              " Seq('KRCLEYW'),\n",
              " Seq('TEINTESSLCICIRGCSCCTINFLPHS'),\n",
              " Seq('NCSKFCACFTEGRYNNTRWNFTVFTETH'),\n",
              " Seq('CYDVHI'),\n",
              " Seq('FGY'),\n",
              " Seq('QSSCNGLHYRWCCSVDFAVAN'),\n",
              " Seq('HLWHCL'),\n",
              " Seq('KTQTRP'),\n",
              " Seq('LA'),\n",
              " Seq('REV'),\n",
              " Seq('GRCRVS'),\n",
              " Seq('RRLGNC'),\n",
              " Seq('IYLNLCL'),\n",
              " Seq('NCRWTNCHLCKGN'),\n",
              " Seq('GECSDIL'),\n",
              " Seq('ACK'),\n",
              " Seq('IFGFVC'),\n",
              " Seq('LYHYWWS'),\n",
              " Seq('T'),\n",
              " Seq('SLEFR'),\n",
              " Seq('NICHALKGIVQKVC'),\n",
              " Seq('IQRRNWPTHASKSPKRNYLLRGRNTSHRSVNRGSCLENW'),\n",
              " Seq('FTTIRTTY'),\n",
              " Seq(''),\n",
              " Seq('SC'),\n",
              " Seq('SSIGWYTSLY'),\n",
              " Seq('RAYVARNQRHRKVLCPCT'),\n",
              " Seq('YDGNKQYLHTQRRCTNKGYFW'),\n",
              " Seq(''),\n",
              " Seq('HCDRSARLQECEYHF'),\n",
              " Seq('T'),\n",
              " Seq(''),\n",
              " Seq('KD'),\n",
              " Seq(''),\n",
              " Seq('ST'),\n",
              " Seq(''),\n",
              " Seq('EVLCLYS'),\n",
              " Seq('TRYRSK'),\n",
              " Seq('VRLCCGRCCHKNFATSI'),\n",
              " Seq('ITYTTGH'),\n",
              " Seq('FR'),\n",
              " Seq('VEYGYILLI'),\n",
              " Seq(''),\n",
              " Seq('VW'),\n",
              " Seq('V'),\n",
              " Seq('IGFTYVLFFLPSR'),\n",
              " Seq('G'),\n",
              " Seq('RRR'),\n",
              " Seq('L'),\n",
              " Seq('RRRV'),\n",
              " Seq('AINSI'),\n",
              " Seq('VWY'),\n",
              " Seq('R'),\n",
              " Seq('LPR'),\n",
              " Seq('TFGIWCHFCCSST'),\n",
              " Seq('RRARRRLVR'),\n",
              " Seq(''),\n",
              " Seq(''),\n",
              " Seq('STNCWSTRRQ'),\n",
              " Seq('GQSDNYYSNNC'),\n",
              " Seq('GSTSIRDGTYTSCSDY'),\n",
              " Seq('SE'),\n",
              " Seq('F'),\n",
              " Seq('WLFKTY'),\n",
              " Seq('QCIH'),\n",
              " Seq('KCRHCGRS'),\n",
              " Seq('KGKTNSGC'),\n",
              " Seq('CSQCLP'),\n",
              " Seq('TWRRCCRSLK'),\n",
              " Seq('GY'),\n",
              " Seq('QCHAS'),\n",
              " Seq('I'),\n",
              " Seq(''),\n",
              " Seq('LHSY'),\n",
              " Seq('WTT'),\n",
              " Seq('SGW'),\n",
              " Seq('LCFKRTQSC'),\n",
              " Seq('TLSSCCRPKC'),\n",
              " Seq('QR'),\n",
              " Seq('RHSTS'),\n",
              " Seq('ECL'),\n",
              " Seq('KF'),\n",
              " Seq('SARSSTCTIIISWYFWC'),\n",
              " Seq('PYTFFKSLCRYCSHKCLLSCL'),\n",
              " Seq(''),\n",
              " Seq('KSL'),\n",
              " Seq('QTCFKLFGNEE'),\n",
              " Seq('KAS'),\n",
              " Seq('TKDR'),\n",
              " Seq('DS'),\n",
              " Seq('RGS'),\n",
              " Seq('AIYN'),\n",
              " Seq('K'),\n",
              " Seq('TFS'),\n",
              " Seq('TEKTR'),\n",
              " Seq(''),\n",
              " Seq('ENQSLC'),\n",
              " Seq('RSYNNSGRN'),\n",
              " Seq('VPHRKLVTLY'),\n",
              " Seq('H'),\n",
              " Seq('WQSSSRFCHSC'),\n",
              " Seq(''),\n",
              " Seq('H'),\n",
              " Seq('HHFLKERCSIYSG'),\n",
              " Seq('CCSRGCFNCCGYTY'),\n",
              " Seq('KGWWHY'),\n",
              " Seq('NASESFEKSANRQLYNHLPGSGFKWLHCRGGKDSA'),\n",
              " Seq('KV'),\n",
              " Seq('KCLLHSTIYYL'),\n",
              " Seq(''),\n",
              " Seq('EARNSWNCFLEFARNACTCRRNTQINACLCGN'),\n",
              " Seq('SHSFNYTA'),\n",
              " Seq('I'),\n",
              " Seq('GY'),\n",
              " Seq('NTRGCG'),\n",
              " Seq('LWC'),\n",
              " Seq('ILLLHQ'),\n",
              " Seq('NNCSVTYQHT'),\n",
              " Seq('RSK'),\n",
              " Seq('NSCYNATWLCNTWLKFGRSCSVYEISQSASYSFCFFT'),\n",
              " Seq('CCYSV'),\n",
              " Seq('WLSYFFF'),\n",
              " Seq('NT'),\n",
              " Seq('RTFY'),\n",
              " Seq('NHLTCWFL'),\n",
              " Seq('RLVLFWTIYTTRYRIS'),\n",
              " Seq('ER'),\n",
              " Seq(''),\n",
              " Seq('KCILH'),\n",
              " Seq(''),\n",
              " Seq('SYHIPPRW'),\n",
              " Seq('SYHL'),\n",
              " Seq('QS'),\n",
              " Seq('DTSFFERSEDY'),\n",
              " Seq('GVYNSRQH'),\n",
              " Seq('PPHASCGHVNDIWTTVWSNLFGWS'),\n",
              " Seq('CY'),\n",
              " Seq('NKTS'),\n",
              " Seq('FT'),\n",
              " Seq('R'),\n",
              " Seq('NILCFT'),\n",
              " Seq(''),\n",
              " Seq(''),\n",
              " Seq('HSTC'),\n",
              " Seq('GF'),\n",
              " Seq('VLPHN'),\n",
              " Seq('S'),\n",
              " Seq('FSG'),\n",
              " Seq('VHVSIKSH'),\n",
              " Seq('KVEIPTS'),\n",
              " Seq('WFNFY'),\n",
              " Seq('MGR'),\n",
              " Seq('QLLSCHCIVNTPTNRVEV'),\n",
              " Seq('STCSTRCLLQSKGW'),\n",
              " Seq('SC'),\n",
              " Seq('LLCTYLSLL'),\n",
              " Seq(''),\n",
              " Seq('DSR'),\n",
              " Seq('VR'),\n",
              " Seq('C'),\n",
              " Seq('RNNELLVSTCQFRFLQKSLERGV'),\n",
              " Seq('NLWTTADNP'),\n",
              " Seq('GCRSCYVHGHTFL'),\n",
              " Seq('TI'),\n",
              " Seq('ERCSDTLYVW'),\n",
              " Seq('TSYKISSTTGVTFCYDVSTTCSV'),\n",
              " Seq('T'),\n",
              " Seq('AWYIYLC'),\n",
              " Seq(''),\n",
              " Seq('VHW'),\n",
              " Seq('LPVWSL'),\n",
              " Seq('TYNF'),\n",
              " Seq('RNFVLHRRCFTYKVLRIQRSYYGCFLQRKQLHNNHKTSYL'),\n",
              " Seq('IGWCCLYRN'),\n",
              " Seq('P'),\n",
              " Seq('VGQLL'),\n",
              " Seq('ERQFLFHRATN'),\n",
              " Seq('SCTKPTISKRKLR'),\n",
              " Seq('F'),\n",
              " Seq('VCM'),\n",
              " Seq(''),\n",
              " Seq('YQIC'),\n",
              " Seq(''),\n",
              " Seq('FKPVNWL'),\n",
              " Seq('ETCFKRA'),\n",
              " Seq('SYIFP'),\n",
              " Seq('LKW'),\n",
              " Seq('CGGY'),\n",
              " Seq('L'),\n",
              " Seq('TLHTLF'),\n",
              " Seq('ERS'),\n",
              " Seq('IVT'),\n",
              " Seq('TYCLAC'),\n",
              " Seq('QCN'),\n",
              " Seq(''),\n",
              " Seq('SHV'),\n",
              " Seq('TKYLVYTLSLEHKTS'),\n",
              " Seq('NIKFV'),\n",
              " Seq('CTEVRGRAGNG'),\n",
              " Seq('SCLRRSKTSL'),\n",
              " Seq('RSSGKSYHTERRS'),\n",
              " Seq('V'),\n",
              " Seq('CENYRSCRRHYT'),\n",
              " Seq('TSK'),\n",
              " Seq(''),\n",
              " Seq('FKNYRRGWPHRSNGCLCRQF'),\n",
              " Seq('SYY'),\n",
              " Seq('ET'),\n",
              " Seq(''),\n",
              " Seq('II'),\n",
              " Seq('SIRFENPCYSWFSCC'),\n",
              " Seq(''),\n",
              " Seq('CPLGYYS'),\n",
              " Seq('LC'),\n",
              " Seq('AFS'),\n",
              " Seq('QSC'),\n",
              " Seq('YNY'),\n",
              " Seq('HSYTVFKPCLY'),\n",
              " Seq('LYALFLYFIATIVYFY'),\n",
              " Seq('KYKF'),\n",
              " Seq('N'),\n",
              " Seq('SIYADYYSKEYC'),\n",
              " Seq('ECR'),\n",
              " Seq('ILSRGFI'),\n",
              " Seq('LFEVT'),\n",
              " Seq('FF'),\n",
              " Seq('TDKYYNLVFTIKCLPRFFNLLNRCFRCFNV'),\n",
              " Seq('FRHAFLLYWLQRRLFELY'),\n",
              " Seq('CHYCNLLYWFYTL'),\n",
              " Seq('CLS'),\n",
              " Seq('WFRFFRHLSFFRNYTNYHFIF'),\n",
              " Seq('MGFNCFWLSCRVVFGIYSFH'),\n",
              " Seq('VFLCTWIGCNHAIVFQLFCSTFY'),\n",
              " Seq(''),\n",
              " Seq('FLAYVVNN'),\n",
              " Seq('SCTNGPDFSYG'),\n",
              " Seq('NVHLLCIILLCMEKLCACCRRL'),\n",
              " Seq('FINLYDVLQT'),\n",
              " Seq(''),\n",
              " Seq('SNKSRMYNYC'),\n",
              " Seq('WC'),\n",
              " Seq('KVLLCLC'),\n",
              " Seq('WR'),\n",
              " Seq('RLLQTTQLELC'),\n",
              " Seq('L'),\n",
              " Seq('YILCW'),\n",
              " Seq('YIY'),\n",
              " Seq(''),\n",
              " Seq(''),\n",
              " Seq('SCERLVTTV'),\n",
              " Seq('KTNKSY'),\n",
              " Seq('PVFLHR'),\n",
              " Seq(''),\n",
              " Seq('CYSEEWFHPSLL'),\n",
              " Seq(''),\n",
              " Seq('SWSKDL'),\n",
              " Seq('KTFSLSFC'),\n",
              " Seq('LRQPES'),\n",
              " Seq(''),\n",
              " Seq('H'),\n",
              " Seq('RFIAY'),\n",
              " Seq('CYSF'),\n",
              " Seq('W'),\n",
              " Seq('IKM'),\n",
              " Seq('RIICKISVCLLQSAYVSTYTVTRSGISV'),\n",
              " Seq('CW'),\n",
              " Seq(''),\n",
              " Seq('CGSCS'),\n",
              " Seq('NV'),\n",
              " Seq('CLR'),\n",
              " Seq('YVFINF'),\n",
              " Seq('RTNGKTQNTSCNCRS'),\n",
              " Seq('TCKECVLRQCLIYFYFSSSARVC'),\n",
              " Seq('FRCRN'),\n",
              " Seq('RCC'),\n",
              " Seq('MS'),\n",
              " Seq('IVTSI'),\n",
              " Seq('HRSYWR'),\n",
              " Seq('L'),\n",
              " Seq(''),\n",
              " Seq('LYAHL'),\n",
              " Seq('QS'),\n",
              " Seq('KHDTP'),\n",
              " Seq('PWCLY'),\n",
              " Seq('L'),\n",
              " Seq('CASY'),\n",
              " Seq('CAGSKKSQHCFDMER'),\n",
              " Seq('RFHVIV'),\n",
              " Seq('TTTKTNT'),\n",
              " Seq('CC'),\n",
              " Seq('KE'),\n",
              " Seq('LTF'),\n",
              " Seq('VDMCNY'),\n",
              " Seq('TSC'),\n",
              " Seq('CCNNKDST'),\n",
              " Seq('GW'),\n",
              " Seq('NC'),\n",
              " Seq(''),\n",
              " Seq('LVEAVN'),\n",
              " Seq('SYTCVPFCCCYFLFNNTCSCHV'),\n",
              " Seq('TY'),\n",
              " Seq('LFK'),\n",
              " Seq('NHRIQGY'),\n",
              " Seq('WWCHS'),\n",
              " Seq('HSIYRYLFC'),\n",
              " Seq('QTC'),\n",
              " Seq('F'),\n",
              " Seq('HMV'),\n",
              " Seq('PAWW'),\n",
              " Seq('LY'),\n",
              " Seq(''),\n",
              " Seq('QSLPIDCCSHNKRSGFCRAWFAWHDITHN'),\n",
              " Seq('W'),\n",
              " Seq('LFAFLT'),\n",
              " Seq('SF'),\n",
              " Seq('CSW'),\n",
              " Seq('HLLHTIKTYRVH'),\n",
              " Seq('LCNISLCFGC'),\n",
              " Seq('MYNF'),\n",
              " Seq('RCFW'),\n",
              " Seq('ASTILL'),\n",
              " Seq('YQCTRRFCCL'),\n",
              " Seq('KFTP'),\n",
              " Seq('HTLCAHGWLYYSIS'),\n",
              " Seq('HLP'),\n",
              " Seq('RFC'),\n",
              " Seq('SGNNF'),\n",
              " Seq('F'),\n",
              " Seq('VL'),\n",
              " Seq('ARHL'),\n",
              " Seq('KIRSWCLCIY'),\n",
              " Seq('W'),\n",
              " Seq('MGT'),\n",
              " Seq('Q'),\n",
              " Seq('LLQIFTRSFLWCRCCKFTY'),\n",
              " Seq('YVYTTNSTYWCFGHISIYSSWWYCSYRSNMPCLLFYEV'),\n",
              " Seq('KSFW'),\n",
              " Seq('IQSCSCL'),\n",
              " Seq('YFTIPYVIHCTLFNTSLLILTWCLFCYLLVLDILSY'),\n",
              " Seq(''),\n",
              " Seq('CFFFSTYSVDGYVHTFSTFLDNNCLYHLYFHKAFLLVL'),\n",
              " Seq(''),\n",
              " Seq('LPKETCSL'),\n",
              " Seq('WCFL'),\n",
              " Seq('YF'),\n",
              " Seq('RSCAVHLFVK'),\n",
              " Seq('RNVSKVA'),\n",
              " Seq(''),\n",
              " Seq('CAITSYAI'),\n",
              " Seq(''),\n",
              " Seq('ILSSL'),\n",
              " Seq(''),\n",
              " Seq('VQVF'),\n",
              " Seq('WSNGYN'),\n",
              " Seq('LQRSCLLSSRKGSQ'),\n",
              " Seq('LQ'),\n",
              " Seq('LRF'),\n",
              " Seq('CSLPTTTNLYHLSCFAEWF'),\n",
              " Seq('KNGIPIW'),\n",
              " Seq('S'),\n",
              " Seq('GLYGTSNLWYNYT'),\n",
              " Seq('RSLA'),\n",
              " Seq(''),\n",
              " Seq('RSLLSKTCDLHL'),\n",
              " Seq('RHA'),\n",
              " Seq('P'),\n",
              " Seq('L'),\n",
              " Seq('RFTHS'),\n",
              " Seq('V'),\n",
              " Seq('S'),\n",
              " Seq('FLGTGW'),\n",
              " Seq('CSTQGYWTFYAKLCT'),\n",
              " Seq('A'),\n",
              " Seq('G'),\n",
              " Seq('YSQS'),\n",
              " Seq('DT'),\n",
              " Seq('V'),\n",
              " Seq('VCSHSTRTDFFSVSLLQWFTIWCLPMCYEAQFHY'),\n",
              " Seq('GFIP'),\n",
              " Seq('WFMW'),\n",
              " Seq('CWF'),\n",
              " Seq('HRL'),\n",
              " Seq('LCLFLLHAPYGITNWSSCWHRLRR'),\n",
              " Seq('LLWTFC'),\n",
              " Seq('QANSTSSWYGHNYYS'),\n",
              " Seq('CFSLVVRCCYKWRQVVSQSIYHNS'),\n",
              " Seq(''),\n",
              " Seq('L'),\n",
              " Seq('PCGYEVQL'),\n",
              " Seq('TSNTRPC'),\n",
              " Seq('HTRTSFCSNWNCRFRYVCFIKRITAKWYEWTYHIG'),\n",
              " Seq('CFIRR'),\n",
              " Seq('IYTF'),\n",
              " Seq('CC'),\n",
              " Seq('TMLRCYFPKCSEKNNQGYTPLVVTHNFDFTFSFSPEYSMVFVLFFV'),\n",
              " Seq('KCLFTFCYGYYCYVCFCNDVCQT'),\n",
              " Seq('ACISLFVFVTFSCHCSLF'),\n",
              " Seq('YGLYAC'),\n",
              " Seq('LGDAYYDMVGYG'),\n",
              " Seq('Y'),\n",
              " Seq('FVWF'),\n",
              " Seq('AKRLCYVCISCSVTNPYDSKNCV'),\n",
              " Seq(''),\n",
              " Seq('WC'),\n",
              " Seq('ESVDTYECLDTRL'),\n",
              " Seq('SLLW'),\n",
              " Seq('CFRSSHFHVGSYNLCYF'),\n",
              " Seq('LLRCSYNCHVFGQRYCFYVC'),\n",
              " Seq('VLPYFLHNW'),\n",
              " Seq('YTSVYNASLLFLRLFLYLLLWPLLFTQPLL'),\n",
              " Seq('TDSWCL'),\n",
              " Seq('LLSFYTGV'),\n",
              " Seq('IYEFTGTTPTQE'),\n",
              " Seq('HRCLQTQH'),\n",
              " Seq('IVGCWWQTLYQSSHCTV'),\n",
              " Seq('NVRCKVHISSLTLSFATTQSRIII'),\n",
              " Seq('IVGSMCPVTQ'),\n",
              " Seq('HSLS'),\n",
              " Seq('RYY'),\n",
              " Seq('SL'),\n",
              " Seq('KNGFTTFCFAFHAGCCRHKQAL'),\n",
              " Seq('RNAGQQGNLTSYSLRV'),\n",
              " Seq('FPSIICSFCYCSRSL'),\n",
              " Seq('AGCC'),\n",
              " Seq('W'),\n",
              " Seq('F'),\n",
              " Seq('SCS'),\n",
              " Seq('KVEEVFECG'),\n",
              " Seq('I'),\n",
              " Seq('I'),\n",
              " Seq('P'),\n",
              " Seq('CSHAT'),\n",
              " Seq('VGKDG'),\n",
              " Seq('SSYDPNV'),\n",
              " Seq('TG'),\n",
              " Seq('I'),\n",
              " Seq('GQEGKSY'),\n",
              " Seq('CYADNAFHYA'),\n",
              " Seq('KVG'),\n",
              " Seq(''),\n",
              " Seq('CTQQHYQQCKRWLCSLEHNTSYNSSQTNGCHTRL'),\n",
              " Seq('HI'),\n",
              " Seq('KYV'),\n",
              " Seq('WYNIYLCISIVGNPTGCRCR'),\n",
              " Seq(''),\n",
              " Seq('NCST'),\n",
              " Seq(''),\n",
              " Seq('N'),\n",
              " Seq('YGQFT'),\n",
              " Seq('FSMASYCNSFKGQFCCQITE'),\n",
              " Seq(''),\n",
              " Seq('A'),\n",
              " Seq('SCCTTTDVLCCRYYTNCLH'),\n",
              " Seq(''),\n",
              " Seq('QCVSLLQHNKGR'),\n",
              " Seq('VCTCTVIRFTGFEMG'),\n",
              " Seq('IP'),\n",
              " Seq('E'),\n",
              " Seq('WNWYYLYRTGTTL'),\n",
              " Seq('VCYRHT'),\n",
              " Seq('RS'),\n",
              " Seq('SEVFILY'),\n",
              " Seq('RIKQPK'),\n",
              " Seq('RYGTW'),\n",
              " Seq('FSCHSTSTSW'),\n",
              " Seq('CNRSACQFNCIIFLCFCCRCC'),\n",
              " Seq('SLQRLSS'),\n",
              " Seq('WGTTNH'),\n",
              " Seq('LC'),\n",
              " Seq('DVVYTHWYWSGNNSYTGSQYGSRILWWCIVLSVLPLPHRSSKS'),\n",
              " Seq('RIL'),\n",
              " Seq('LKR'),\n",
              " Seq('VCTNTYNLC'),\n",
              " Seq(''),\n",
              " Seq('PCGFYT'),\n",
              " Seq('KHSLYRLRYVERLWL'),\n",
              " Seq('L'),\n",
              " Seq('STPRTHASVS'),\n",
              " Seq('CTIVFKRVCGVSAARLTPCGTGTSTDVVYRAFDIYNDKVAGFAKFLKTNCCRFQ...VNN'),\n",
              " Seq('TNNVCFSCFIATSL'),\n",
              " Seq('SVC'),\n",
              " Seq('SYNQNSITPCIH'),\n",
              " Seq('FFHTWCLLP'),\n",
              " Seq('QSFQILSFTFNSGLVLTFLFQCYLVPCYTCLWDQWY'),\n",
              " Seq('EV'),\n",
              " Seq(''),\n",
              " Seq('PCPTI'),\n",
              " Seq(''),\n",
              " Seq('WCLFCFH'),\n",
              " Seq('EV'),\n",
              " Seq('HNKRLDFWYYFRFEDPVPTYC'),\n",
              " Seq(''),\n",
              " Seq('RY'),\n",
              " Seq('CCY'),\n",
              " Seq('SL'),\n",
              " Seq('ISIL'),\n",
              " Seq(''),\n",
              " Seq('SIFGCLLPQKQQKLDGK'),\n",
              " Seq('VQSLF'),\n",
              " Seq('CE'),\n",
              " Seq('LHF'),\n",
              " Seq('ICLSAFSYGP'),\n",
              " Seq('RKTG'),\n",
              " Seq('FQKS'),\n",
              " Seq('GICV'),\n",
              " Seq('EY'),\n",
              " Seq('WLF'),\n",
              " Seq('NIF'),\n",
              " Seq('AHAY'),\n",
              " Seq('FSA'),\n",
              " Seq('SPSGFFGFRTIGRFANRY'),\n",
              " Seq('HH'),\n",
              " Seq('VSNFTCFT'),\n",
              " Seq('KLFDSW'),\n",
              " Seq('FFFRLDSWCCSLLCGLSST'),\n",
              " Seq('DFSIKI'),\n",
              " Seq(''),\n",
              " Seq('KWNHYRCCRLCT'),\n",
              " Seq('PSLRNKVYVEILHCRKRNLSNF'),\n",
              " Seq('L'),\n",
              " Seq('SPTNRIYC'),\n",
              " Seq('IS'),\n",
              " Seq('YYKLVPFW'),\n",
              " Seq('SF'),\n",
              " Seq('RHQICICLCLEQEENQQLCC'),\n",
              " Seq('LFCPI'),\n",
              " Seq('FRIIFHF'),\n",
              " Seq('VLWSVSY'),\n",
              " Seq('IK'),\n",
              " Seq('SLLY'),\n",
              " Seq('CLCRFICN'),\n",
              " Seq('R'),\n",
              " Seq(''),\n",
              " Seq('SQTNRSRANWKDC'),\n",
              " Seq('L'),\n",
              " Seq('L'),\n",
              " Seq('ITR'),\n",
              " Seq('FYRLRYSLEF'),\n",
              " Seq('QS'),\n",
              " Seq('F'),\n",
              " Seq('GWW'),\n",
              " Seq('L'),\n",
              " Seq('LPV'),\n",
              " Seq('IV'),\n",
              " Seq('EV'),\n",
              " Seq('SQTF'),\n",
              " Seq('ERYFN'),\n",
              " Seq('NLSGR'),\n",
              " Seq('HTL'),\n",
              " Seq('WC'),\n",
              " Seq('RF'),\n",
              " Seq('LLLSFTIIWFPTH'),\n",
              " Seq('WCWLPTIQSSSTFF'),\n",
              " Seq('TSTCTSNCLWT'),\n",
              " Seq('KVY'),\n",
              " Seq('FG'),\n",
              " Seq('KQMCQFQLQWFNRHRCSY'),\n",
              " Seq('V'),\n",
              " Seq('QKVSAFPTIWQRHC'),\n",
              " Seq('HY'),\n",
              " Seq('CCP'),\n",
              " Seq('STDT'),\n",
              " Seq('DS'),\n",
              " Seq('HYTMFFWWCQCYNTRNKYF'),\n",
              " Seq('PGCCSLSGC'),\n",
              " Seq('LHRSPCCYSCRSTYSYLACLFYRF'),\n",
              " Seq('CFSNTCRLFNRG'),\n",
              " Seq('TCQQLI'),\n",
              " Seq('V'),\n",
              " Seq('HTHWCRYMR'),\n",
              " Seq('LSDSD'),\n",
              " Seq('FSSAGT'),\n",
              " Seq('CS'),\n",
              " Seq('SIHHCLHYVTWCRKFSCLL'),\n",
              " Seq(''),\n",
              " Seq('LYCHTHKFYY'),\n",
              " Seq('CYHRNSTSVYDQDISRLYNVHLW'),\n",
              " Seq('FN'),\n",
              " Seq('MQQSFVAIWQFLYTIKPCFNWNSC'),\n",
              " Seq('TRQKHPRSFCTSQTNLQNTTN'),\n",
              " Seq('RFWWF'),\n",
              " Seq('FFTNITRSIKTKQEVIY'),\n",
              " Seq('RSTFQQSDTCRCWLHQTIW'),\n",
              " Seq('LPW'),\n",
              " Seq('YCC'),\n",
              " Seq('RPHLCTKV'),\n",
              " Seq('RPYCFATFAHR'),\n",
              " Seq('NDCSIHFCTVSGYNHFWLDLWCRCCITNTICYANGL'),\n",
              " Seq('V'),\n",
              " Seq('WYWSYTECSL'),\n",
              " Seq('EPKIDCQPI'),\n",
              " Seq(''),\n",
              " Seq('CYWQNSRLTFFHSKCTWKTSRCGQPKCTSFKHAC'),\n",
              " Seq('TT'),\n",
              " Seq('LQFWCNFKCFK'),\n",
              " Seq('YPFTS'),\n",
              " Seq('QS'),\n",
              " Seq('G'),\n",
              " Seq('SAN'),\n",
              " Seq(''),\n",
              " Seq('VDHRQTSKFADICDSTIN'),\n",
              " Seq('SCRNQSFC'),\n",
              " Seq('SCCY'),\n",
              " Seq('NVRVCTWTIKKS'),\n",
              " Seq('FLWKGLSSYVLPSVSTSWCSLLACDLCPCTRKELHNCSCHLS'),\n",
              " Seq('WKSTLSS'),\n",
              " Seq('RCLCFKWHTLVCNTKEFL'),\n",
              " Seq('TTNHYYRQHICVW'),\n",
              " Seq('L'),\n",
              " Seq('CCNRNCQQHSL'),\n",
              " Seq('SFAT'),\n",
              " Seq('IRLIQGGVR'),\n",
              " Seq('IF'),\n",
              " Seq('ESYITRC'),\n",
              " Seq('FR'),\n",
              " Seq('HLWH'),\n",
              " Seq('CFSCKHSKRN'),\n",
              " Seq('PPQ'),\n",
              " Seq('GCQEFK'),\n",
              " Seq('ISHRSPRTWKV'),\n",
              " Seq('AVYKMAMVHLARFYSWLDCHSNGDNYALLYDQLL'),\n",
              " Seq('LSQGLLFLWILLQI'),\n",
              " Seq(''),\n",
              " Seq('RRL'),\n",
              " Seq('ASAQRSQITLHINELMDLFMRIFTIGTVTLKQGEIKDATPSDFVRATATIPIQA...VPL'),\n",
              " Seq('AQADEYELMYSFVSEETGTLIVNSVLLFLAFVVFLLVTLAILTALRLCAYCCNI...LLV'),\n",
              " Seq('TN'),\n",
              " Seq('ILY'),\n",
              " Seq('FFCLEL'),\n",
              " Seq('F'),\n",
              " Seq('PWQIPTVLLPLKSLKSSLNNGT'),\n",
              " Seq(''),\n",
              " Seq(''),\n",
              " Seq('VSYSLHGFVFYNLPMPTGIGFCI'),\n",
              " Seq('LS'),\n",
              " Seq('FSSGCYGQ'),\n",
              " Seq('L'),\n",
              " Seq('LVLCLLLFTE'),\n",
              " Seq('IGSPVELLSQWLVL'),\n",
              " Seq('A'),\n",
              " Seq('CGSATSLLLSDCLRVRVPCGHSIQKLTFFSTCHSMALF'),\n",
              " Seq('PDRF'),\n",
              " Seq('KVNS'),\n",
              " Seq('SEL'),\n",
              " Seq('SFVDIFVLLDTI'),\n",
              " Seq('DAVTSRTCLKKSLLLHHERFLITNWELRSV'),\n",
              " Seq('QVTQVLLHTVATGLATIN'),\n",
              " Seq('TQTIPVAVTILLCLYSK'),\n",
              " Seq('QQMFHLVDFQVTIAEILLIIMRTFKVSIWNLDYIINLIIKNLSKSLTENKYSQL...EID'),\n",
              " Seq('TNMKIILFLALITLATCELYHYQECVRGTTVLLKEPCSSGTYEGNSPFHPLADN...KTE'),\n",
              " Seq('LNFH'),\n",
              " Seq('LTSICAF'),\n",
              " Seq('PFCYSLF'),\n",
              " Seq('LCLLSFGSHLNCKIIMKLVTPKRT'),\n",
              " Seq('NFLFS'),\n",
              " Seq('ESSQL'),\n",
              " Seq('LHFTKNVVYSHVLNINHM'),\n",
              " Seq('LMTRVLFTSILNGILE'),\n",
              " Seq('ELENQHL'),\n",
              " Seq('LNCAWMRLVLNHPFSTSISVIIQFPVYLLQLIARNLNWVVL'),\n",
              " Seq('CVVRSMKTF'),\n",
              " Seq('SIMTFVLF'),\n",
              " Seq('ISSKRTN'),\n",
              " Seq('NV'),\n",
              " Seq(''),\n",
              " Seq('WTPKSAKCTPHYVWWTLRFNWQ'),\n",
              " Seq('PEWRTQWGAIKTTSAPRFTQ'),\n",
              " Seq('YCVLVHRSHSTWQGRP'),\n",
              " Seq('IPSRTRRSN'),\n",
              " Seq('HQ'),\n",
              " Seq('QSR'),\n",
              " Seq('PNWLLPKSYQTNSWW'),\n",
              " Seq('R'),\n",
              " Seq('NERSQSKMVFLLPRNWARSWTSLWC'),\n",
              " Seq('QRRHHMGCN'),\n",
              " Seq('GSLEYTKRSHWHPQSC'),\n",
              " Seq('QCCNRATTSSRNNIAKRLLRRREQRRQSSLFSFLIT'),\n",
              " Seq('SQQFKKFNSRQQ'),\n",
              " Seq('GNFSC'),\n",
              " Seq('NGWQWR'),\n",
              " Seq('CCSCFAAA'),\n",
              " Seq('QIEPA'),\n",
              " Seq('EQNVW'),\n",
              " Seq('RPTTTRPNCH'),\n",
              " Seq('EICC'),\n",
              " Seq('GF'),\n",
              " Seq('EASAKTYCH'),\n",
              " Seq('SIQCNTSFRQTWSRTNPRKFWGPGTNQTRN'),\n",
              " Seq('LQTLAANCTICPQRFSVLRNVAHWHGSHTFGNVVDLHRCHQIG'),\n",
              " Seq('QRSKFQRSSHFAE'),\n",
              " Seq('AY'),\n",
              " Seq('RIQNIPTNRA'),\n",
              " Seq('KGQKEEG'),\n",
              " Seq(''),\n",
              " Seq('NSSLTAETEETANCDSSSCCRFG'),\n",
              " Seq('FLQTIATIHEQC'),\n",
              " Seq('LNSGLNSCRPHKADGLYKRFRFSVYDI'),\n",
              " Seq('STLVQNEFS'),\n",
              " Seq('LHSTSRCS'),\n",
              " Seq('L'),\n",
              " Seq('SHIAIFNQCVTLGRT'),\n",
              " Seq('KSHHIFTEATRSTIECTVNNARESCLYGRALMCKINFSSAIPM'),\n",
              " Seq('F'),\n",
              " Seq(''),\n",
              " Seq('LLRRMTKKKKKKKKKK')]"
            ]
          },
          "metadata": {},
          "execution_count": 113
        }
      ],
      "source": [
        "proteins"
      ]
    },
    {
      "cell_type": "markdown",
      "metadata": {
        "id": "oo21ojIGkosX"
      },
      "source": [
        "Only the sequences with more than 20 amino acids code for functional proteins. The short amino acid sequences are oligopeptides and have other functionalities. Here, we will focus on the chains with more than 20 amino acid chains: Proteins."
      ]
    },
    {
      "cell_type": "code",
      "execution_count": null,
      "metadata": {
        "id": "r7zMgkSakiTb"
      },
      "outputs": [],
      "source": [
        "for protein in proteins:\n",
        "    if len(protein) < 20:\n",
        "        proteins.remove(protein)\n"
      ]
    },
    {
      "cell_type": "code",
      "execution_count": null,
      "metadata": {
        "colab": {
          "base_uri": "https://localhost:8080/"
        },
        "id": "dJmxE3kPkroq",
        "outputId": "c2e78c4c-a2bd-4ea4-d86a-ad114931764e"
      },
      "outputs": [
        {
          "output_type": "stream",
          "name": "stdout",
          "text": [
            "We have 409 proteins with more than 20 amino acids in the covid-19 genome\n"
          ]
        }
      ],
      "source": [
        "print(\"We have %d proteins with more than 20 amino acids in the covid-19 genome\" %len(proteins))"
      ]
    },
    {
      "cell_type": "markdown",
      "metadata": {
        "id": "9xIfPD88lOi3"
      },
      "source": [
        "e'll sort them in ascending order of length."
      ]
    },
    {
      "cell_type": "code",
      "execution_count": null,
      "metadata": {
        "id": "bKDAHqh7lLnh"
      },
      "outputs": [],
      "source": [
        "top_protein = sorted(proteins, key = len)"
      ]
    },
    {
      "cell_type": "markdown",
      "metadata": {
        "id": "ZFDqsCzjnPfu"
      },
      "source": [
        "The longest protein"
      ]
    },
    {
      "cell_type": "code",
      "execution_count": null,
      "metadata": {
        "colab": {
          "base_uri": "https://localhost:8080/"
        },
        "id": "HIrRnXLWnK8S",
        "outputId": "56cb5103-e40e-44a9-a2f9-e73b15607ce7"
      },
      "outputs": [
        {
          "output_type": "stream",
          "name": "stdout",
          "text": [
            "the longest protein has lenght of 2701 \n"
          ]
        }
      ],
      "source": [
        "top_protein=top_protein[-1]\n",
        "print(\"the longest protein has lenght of %d \"%len(top_protein))"
      ]
    },
    {
      "cell_type": "markdown",
      "metadata": {
        "id": "ZWCarQX5pcmU"
      },
      "source": [
        "Save this protein to file for further analysis"
      ]
    },
    {
      "cell_type": "code",
      "execution_count": null,
      "metadata": {
        "id": "lbQjWIJdpoyO"
      },
      "outputs": [],
      "source": [
        "with open(\"protein_seq.fasta\", \"w\") as file:\n",
        "    file.write(f\">covid protein\\n{top_protein}\")"
      ]
    },
    {
      "cell_type": "markdown",
      "metadata": {
        "id": "5TuVWqfrjD-C"
      },
      "source": [
        "##Pairwise  sequence alignment and Performing BLAST Search"
      ]
    },
    {
      "cell_type": "markdown",
      "metadata": {
        "id": "l955cOh3HJlM"
      },
      "source": [
        "A global alignment finds the best concordance between all characters in two sequences. A local alignment finds just the subsequences that align the best. Local alignments must have a positive score to be reported and they will not be extended for ‘zero counting’ matches. This means a local alignment will always start and end with a positive counting match.\n",
        "\n",
        "When doing alignments, you can specify the match score and gap penalties. The match score indicates the compatibility between an alignment of two characters in the sequences. Highly compatible characters should be given positive scores, and incompatible ones should be given negative scores or 0. The gap penalties should be negative.\n",
        "\n"
      ]
    },
    {
      "cell_type": "markdown",
      "metadata": {
        "id": "O-wYHFQZDo4C"
      },
      "source": [
        "###Global *alignment*"
      ]
    },
    {
      "cell_type": "markdown",
      "metadata": {
        "id": "U2qV1hS3HjGx"
      },
      "source": [
        "**pairwise2** Module provides functions to get **global** and **local** alignments between two sequences.\n",
        "**format_alignment** is used to print the alignment."
      ]
    },
    {
      "cell_type": "markdown",
      "metadata": {
        "id": "GiBP1_nqEXjs"
      },
      "source": [
        "####Example 1"
      ]
    },
    {
      "cell_type": "code",
      "execution_count": null,
      "metadata": {
        "colab": {
          "base_uri": "https://localhost:8080/"
        },
        "id": "gEjJmOj8Z_zp",
        "outputId": "a507782d-2cbd-42a7-a08c-c29e2e22a61e"
      },
      "outputs": [
        {
          "output_type": "stream",
          "name": "stdout",
          "text": [
            "ACCGT\n",
            "| || \n",
            "A-CG-\n",
            "  Score=3\n",
            "\n",
            "ACCGT\n",
            "|| | \n",
            "AC-G-\n",
            "  Score=3\n",
            "\n"
          ]
        },
        {
          "output_type": "stream",
          "name": "stderr",
          "text": [
            "/usr/local/lib/python3.10/dist-packages/Bio/pairwise2.py:278: BiopythonDeprecationWarning: Bio.pairwise2 has been deprecated, and we intend to remove it in a future release of Biopython. As an alternative, please consider using Bio.Align.PairwiseAligner as a replacement, and contact the Biopython developers if you still need the Bio.pairwise2 module.\n",
            "  warnings.warn(\n"
          ]
        }
      ],
      "source": [
        "from Bio import pairwise2\n",
        "from Bio.pairwise2 import format_alignment\n",
        "alignments = pairwise2.align.globalxx(\"ACCGT\", \"ACG\")\n",
        "\n",
        "for align in alignments:\n",
        "  print(format_alignment(*align))\n"
      ]
    },
    {
      "cell_type": "markdown",
      "metadata": {
        "id": "sEc8X9jeGggg"
      },
      "source": [
        "xx is a 2 character code indicating the parameters it takes. The first character indicates the parameters for matches (and mismatches), and the second indicates the parameters for gap penalties.\n",
        "x : no parameters. Identical characters have score of 1, otherwise 0.\n",
        "m :  a match score is the score of identical chars, otherwise mismatch\n",
        "      score."
      ]
    },
    {
      "cell_type": "markdown",
      "metadata": {
        "id": "TQ250jrWEACy"
      },
      "source": [
        "####Example 2 : Identical characters are given 2 points, 1 point is deducted for each non-identical character. Don’t penalize gaps."
      ]
    },
    {
      "cell_type": "code",
      "execution_count": null,
      "metadata": {
        "colab": {
          "base_uri": "https://localhost:8080/"
        },
        "id": "tYknkp39D9G7",
        "outputId": "e3a7a163-1d82-45b1-e1ca-137582c630b2"
      },
      "outputs": [
        {
          "output_type": "stream",
          "name": "stdout",
          "text": [
            "ACCGT\n",
            "| || \n",
            "A-CG-\n",
            "  Score=6\n",
            "\n",
            "ACCGT\n",
            "|| | \n",
            "AC-G-\n",
            "  Score=6\n",
            "\n"
          ]
        }
      ],
      "source": [
        "for a in pairwise2.align.globalmx(\"ACCGT\", \"ACG\", 2, -1):\n",
        "    print(format_alignment(*a))"
      ]
    },
    {
      "cell_type": "markdown",
      "metadata": {
        "id": "wskVx3nzEjNW"
      },
      "source": [
        "####Example 3 : Same as above, except now 0.5 points are deducted when opening a gap, and 0.1 points are deducted when extending it"
      ]
    },
    {
      "cell_type": "code",
      "execution_count": null,
      "metadata": {
        "colab": {
          "base_uri": "https://localhost:8080/"
        },
        "id": "qV4g8ODmFIQp",
        "outputId": "83d56481-bf98-477d-a927-9b4413992d81"
      },
      "outputs": [
        {
          "output_type": "stream",
          "name": "stdout",
          "text": [
            "ACCGT\n",
            "| || \n",
            "A-CG-\n",
            "  Score=5\n",
            "\n",
            "ACCGT\n",
            "|| | \n",
            "AC-G-\n",
            "  Score=5\n",
            "\n"
          ]
        }
      ],
      "source": [
        "for a in pairwise2.align.globalms(\"ACCGT\", \"ACG\", 2, -1, -.5, -.1):\n",
        "    print(format_alignment(*a))"
      ]
    },
    {
      "cell_type": "markdown",
      "metadata": {
        "id": "qWENIe-gM9cJ"
      },
      "source": [
        "###Local alignment"
      ]
    },
    {
      "cell_type": "markdown",
      "metadata": {
        "id": "gd80LcWzN2rU"
      },
      "source": [
        "####Example :Same thing as before, but with a local alignment"
      ]
    },
    {
      "cell_type": "code",
      "execution_count": null,
      "metadata": {
        "colab": {
          "base_uri": "https://localhost:8080/"
        },
        "id": "-D5QSAGOOchk",
        "outputId": "322d01d7-e6d8-4ea1-c12b-b4f16993ab7c"
      },
      "outputs": [
        {
          "output_type": "stream",
          "name": "stdout",
          "text": [
            "1 ACCG\n",
            "  | ||\n",
            "1 A-CG\n",
            "  Score=3\n",
            "\n",
            "1 ACCG\n",
            "  || |\n",
            "1 AC-G\n",
            "  Score=3\n",
            "\n",
            "ACCGT\n",
            "| || \n",
            "A-CG-\n",
            "  Score=3\n",
            "\n",
            "ACCGT\n",
            "|| | \n",
            "AC-G-\n",
            "  Score=3\n",
            "\n"
          ]
        }
      ],
      "source": [
        "alignments = pairwise2.align.localxx(\"ACCGT\", \"ACG\")\n",
        "for align in alignments:\n",
        "  print(format_alignment(*align))#shows only aligned parts.\n",
        "\n",
        "for align in alignments:\n",
        "  print(format_alignment(*align,full_sequences=True))#full_sequences=True to show aligned and un aligned parts\n"
      ]
    },
    {
      "cell_type": "markdown",
      "metadata": {
        "id": "sEmQJRJGQHTj"
      },
      "source": [
        "###Performing BLAST Search"
      ]
    },
    {
      "cell_type": "markdown",
      "metadata": {
        "id": "maBz1TVkQuLD"
      },
      "source": [
        "**BLAST** stands for **Basic Local Alignment Search Tool**. A **BLAST** search enables a researcher to compare a subject protein or nucleotide sequence (called a query) with a library or database of sequences."
      ]
    },
    {
      "cell_type": "code",
      "execution_count": null,
      "metadata": {
        "colab": {
          "base_uri": "https://localhost:8080/"
        },
        "id": "ir9saGZBSJfq",
        "outputId": "4b62f3da-d8c2-41d6-875f-6ed10dee91d8"
      },
      "outputs": [
        {
          "output_type": "execute_result",
          "data": {
            "text/plain": [
              "Seq('CTIVFKRVCGVSAARLTPCGTGTSTDVVYRAFDIYNDKVAGFAKFLKTNCCRFQ...VNN')"
            ]
          },
          "metadata": {},
          "execution_count": 123
        }
      ],
      "source": [
        "\n",
        "protein_seq = SeqIO.read(\"protein_seq.fasta\", \"fasta\")\n",
        "\n",
        "protein_seq.seq"
      ]
    },
    {
      "cell_type": "markdown",
      "metadata": {
        "id": "GivjQP8CrtBb"
      },
      "source": [
        "In this example, the NCBIWWW.qblast function is used to submit a BLAST search  NCBIXMrequest to the NCBI server. We specify the BLAST program (\"blastn\" for nucleotide), the database (\"nt\" for the nucleotide database), and the query sequence.\n",
        "After receiving the results, we use SearchIO to extract information from the search results."
      ]
    },
    {
      "cell_type": "code",
      "execution_count": null,
      "metadata": {
        "id": "U58cpvkIq-jK"
      },
      "outputs": [],
      "source": [
        "from Bio.Blast import NCBIWWW\n",
        "result_handle = NCBIWWW.qblast(\"blastp\", \"pdb\", protein_seq.seq) # pdb - protein data bank"
      ]
    },
    {
      "cell_type": "code",
      "execution_count": null,
      "metadata": {
        "colab": {
          "base_uri": "https://localhost:8080/"
        },
        "id": "DbQ1z2_FtEBC",
        "outputId": "476e5ca7-c6ef-4f8e-956b-d1315008c3f5"
      },
      "outputs": [
        {
          "output_type": "stream",
          "name": "stdout",
          "text": [
            "Program: blastp (2.14.1+)\n",
            "  Query: unnamed (2701)\n",
            "         protein product\n",
            " Target: pdb\n",
            "   Hits: ----  -----  ----------------------------------------------------------\n",
            "            #  # HSP  ID + description\n",
            "         ----  -----  ----------------------------------------------------------\n",
            "            0      1  pdb|7D4F|A  Chain A, RNA-directed RNA polymerase [Sever...\n",
            "            1      1  pdb|6YYT|A  Chain A, nsp12 [Severe acute respiratory sy...\n",
            "            2      1  pdb|6XEZ|A  Chain A, RNA-directed RNA polymerase [Sever...\n",
            "            3      1  pdb|7BW4|A  Chain A, RNA-directed RNA polymerase [Sever...\n",
            "            4      1  pdb|6XQB|A  Chain A, RNA-directed RNA polymerase [Sever...\n",
            "            5      1  pdb|7BV1|A  Chain A, RNA-directed RNA polymerase [Sever...\n",
            "            6      1  pdb|7C2K|A  Chain A, RNA-directed RNA polymerase [Sever...\n",
            "            7      1  pdb|6M71|A  Chain A, RNA-directed RNA polymerase [Sever...\n",
            "            8      1  pdb|7ED5|A  Chain A, RNA-directed RNA polymerase [Sever...\n",
            "            9      1  pdb|7AAP|A  Chain A, Non-structural protein 12 [Severe ...\n"
          ]
        },
        {
          "output_type": "stream",
          "name": "stderr",
          "text": [
            "/usr/local/lib/python3.10/dist-packages/Bio/SearchIO/_legacy/__init__.py:12: BiopythonDeprecationWarning: The 'Bio.SearchIO._legacy' module for parsing BLAST plain text output is deprecated and will be removed in a future release of Biopython. Consider generating your BLAST output for parsing as XML or tabular format instead.\n",
            "  warnings.warn(\n"
          ]
        }
      ],
      "source": [
        "from Bio import SearchIO\n",
        "\n",
        "blast_records = SearchIO.read(result_handle, 'blast-xml')\n",
        "print(blast_records[0:10])"
      ]
    },
    {
      "cell_type": "code",
      "execution_count": null,
      "metadata": {
        "colab": {
          "base_uri": "https://localhost:8080/"
        },
        "id": "jUcil5hmuCSa",
        "outputId": "8f987c73-f440-402e-b427-db0a20f53edd"
      },
      "outputs": [
        {
          "output_type": "stream",
          "name": "stdout",
          "text": [
            "Sequence ID: pdb|7D4F|A\n",
            "description: Chain A, RNA-directed RNA polymerase [Severe acute respiratory syndrome coronavirus 2]\n",
            "E value: 0.0\n",
            "Bit Score:  1938.7\n",
            "alignment:\n",
            "Alignment with 2 rows and 926 columns\n",
            "FKRVCGVSAARLTPCGTGTSTDVVYRAFDIYNDKVAGFAKFLKT...LQA unnamed\n",
            "LNRVCGVSAARLTPCGTGTSTDVVYRAFDIYNDKVAGFAKFLKT...LQG pdb|7D4F|A\n",
            "\n",
            "Sequence ID: pdb|6YYT|A\n",
            "description: Chain A, nsp12 [Severe acute respiratory syndrome coronavirus 2]\n",
            "E value: 0.0\n",
            "Bit Score:  1938.31\n",
            "alignment:\n",
            "Alignment with 2 rows and 925 columns\n",
            "FKRVCGVSAARLTPCGTGTSTDVVYRAFDIYNDKVAGFAKFLKT...VLQ unnamed\n",
            "LNRVCGVSAARLTPCGTGTSTDVVYRAFDIYNDKVAGFAKFLKT...VLQ pdb|6YYT|A\n",
            "\n",
            "Sequence ID: pdb|6XEZ|A\n",
            "description: Chain A, RNA-directed RNA polymerase [Severe acute respiratory syndrome coronavirus 2]\n",
            "E value: 0.0\n",
            "Bit Score:  1937.92\n",
            "alignment:\n",
            "Alignment with 2 rows and 925 columns\n",
            "FKRVCGVSAARLTPCGTGTSTDVVYRAFDIYNDKVAGFAKFLKT...VLQ unnamed\n",
            "LNRVCGVSAARLTPCGTGTSTDVVYRAFDIYNDKVAGFAKFLKT...VLQ pdb|6XEZ|A\n",
            "\n",
            "Sequence ID: pdb|7BW4|A\n",
            "description: Chain A, RNA-directed RNA polymerase [Severe acute respiratory syndrome coronavirus 2]\n",
            "E value: 0.0\n",
            "Bit Score:  1937.15\n",
            "alignment:\n",
            "Alignment with 2 rows and 923 columns\n",
            "RVCGVSAARLTPCGTGTSTDVVYRAFDIYNDKVAGFAKFLKTNC...VLQ unnamed\n",
            "RVCGVSAARLTPCGTGTSTDVVYRAFDIYNDKVAGFAKFLKTNC...VLQ pdb|7BW4|A\n",
            "\n",
            "Sequence ID: pdb|6XQB|A\n",
            "description: Chain A, RNA-directed RNA polymerase [Severe acute respiratory syndrome coronavirus 2]\n",
            "E value: 0.0\n",
            "Bit Score:  1937.15\n",
            "alignment:\n",
            "Alignment with 2 rows and 925 columns\n",
            "FKRVCGVSAARLTPCGTGTSTDVVYRAFDIYNDKVAGFAKFLKT...VLQ unnamed\n",
            "LNRVCGVSAARLTPCGTGTSTDVVYRAFDIYNDKVAGFAKFLKT...VLQ pdb|6XQB|A\n",
            "\n",
            "Sequence ID: pdb|7BV1|A\n",
            "description: Chain A, RNA-directed RNA polymerase [Severe acute respiratory syndrome coronavirus 2]\n",
            "E value: 0.0\n",
            "Bit Score:  1936.77\n",
            "alignment:\n",
            "Alignment with 2 rows and 926 columns\n",
            "FKRVCGVSAARLTPCGTGTSTDVVYRAFDIYNDKVAGFAKFLKT...LQA unnamed\n",
            "LNRVCGVSAARLTPCGTGTSTDVVYRAFDIYNDKVAGFAKFLKT...LQG pdb|7BV1|A\n",
            "\n",
            "Sequence ID: pdb|7C2K|A\n",
            "description: Chain A, RNA-directed RNA polymerase [Severe acute respiratory syndrome coronavirus 2]\n",
            "E value: 0.0\n",
            "Bit Score:  1936.38\n",
            "alignment:\n",
            "Alignment with 2 rows and 925 columns\n",
            "FKRVCGVSAARLTPCGTGTSTDVVYRAFDIYNDKVAGFAKFLKT...VLQ unnamed\n",
            "LNRVCGVSAARLTPCGTGTSTDVVYRAFDIYNDKVAGFAKFLKT...VLQ pdb|7C2K|A\n",
            "\n",
            "Sequence ID: pdb|6M71|A\n",
            "description: Chain A, RNA-directed RNA polymerase [Severe acute respiratory syndrome coronavirus 2]\n",
            "E value: 0.0\n",
            "Bit Score:  1936.38\n",
            "alignment:\n",
            "Alignment with 2 rows and 925 columns\n",
            "FKRVCGVSAARLTPCGTGTSTDVVYRAFDIYNDKVAGFAKFLKT...VLQ unnamed\n",
            "LNRVCGVSAARLTPCGTGTSTDVVYRAFDIYNDKVAGFAKFLKT...VLQ pdb|6M71|A\n",
            "\n",
            "Sequence ID: pdb|7ED5|A\n",
            "description: Chain A, RNA-directed RNA polymerase [Severe acute respiratory syndrome coronavirus 2]\n",
            "E value: 0.0\n",
            "Bit Score:  1936.0\n",
            "alignment:\n",
            "Alignment with 2 rows and 923 columns\n",
            "RVCGVSAARLTPCGTGTSTDVVYRAFDIYNDKVAGFAKFLKTNC...VLQ unnamed\n",
            "RVCGVSAARLTPCGTGTSTDVVYRAFDIYNDKVAGFAKFLKTNC...VLQ pdb|7ED5|A\n",
            "\n",
            "Sequence ID: pdb|7AAP|A\n",
            "description: Chain A, Non-structural protein 12 [Severe acute respiratory syndrome coronavirus 2]\n",
            "E value: 0.0\n",
            "Bit Score:  1935.61\n",
            "alignment:\n",
            "Alignment with 2 rows and 923 columns\n",
            "RVCGVSAARLTPCGTGTSTDVVYRAFDIYNDKVAGFAKFLKTNC...VLQ unnamed\n",
            "RVCGVSAARLTPCGTGTSTDVVYRAFDIYNDKVAGFAKFLKTNC...VLQ pdb|7AAP|A\n",
            "\n",
            "Sequence ID: pdb|7O7Y|BK\n",
            "description: Chain BK, Replicase polyprotein 1ab [Severe acute respiratory syndrome coronavirus 2]\n",
            "E value: 0.0\n",
            "Bit Score:  1934.84\n",
            "alignment:\n",
            "Alignment with 2 rows and 925 columns\n",
            "FKRVCGVSAARLTPCGTGTSTDVVYRAFDIYNDKVAGFAKFLKT...VLQ unnamed\n",
            "LNRVCGVSAARLTPCGTGTSTDVVYRAFDIYNDKVAGFAKFLKT...VLQ pdb|7O7Y|BK\n",
            "\n",
            "Sequence ID: pdb|7CXM|A\n",
            "description: Chain A, RNA-directed RNA polymerase [Severe acute respiratory syndrome coronavirus 2]\n",
            "E value: 0.0\n",
            "Bit Score:  1933.69\n",
            "alignment:\n",
            "Alignment with 2 rows and 925 columns\n",
            "FKRVCGVSAARLTPCGTGTSTDVVYRAFDIYNDKVAGFAKFLKT...VLQ unnamed\n",
            "LNRVCGVSAARLTPCGTGTSTDVVYRAFDIYNDKVAGFAKFLKT...VLQ pdb|7CXM|A\n",
            "\n",
            "Sequence ID: pdb|7EIZ|A\n",
            "description: Chain A, RNA-directed RNA polymerase [Severe acute respiratory syndrome coronavirus 2]\n",
            "E value: 0.0\n",
            "Bit Score:  1932.92\n",
            "alignment:\n",
            "Alignment with 2 rows and 922 columns\n",
            "FKRVCGVSAARLTPCGTGTSTDVVYRAFDIYNDKVAGFAKFLKT...PHT unnamed\n",
            "LNRVCGVSAARLTPCGTGTSTDVVYRAFDIYNDKVAGFAKFLKT...PHT pdb|7EIZ|A\n",
            "\n",
            "Sequence ID: pdb|7L1F|A\n",
            "description: Chain A, RNA-directed RNA polymerase [Severe acute respiratory syndrome coronavirus 2]\n",
            "E value: 0.0\n",
            "Bit Score:  1886.69\n",
            "alignment:\n",
            "Alignment with 2 rows and 898 columns\n",
            "YRAFDIYNDKVAGFAKFLKTNCCRFQEKDEDDNLIDSYFVVKRH...PHT unnamed\n",
            "YRAFDIYNDKVAGFAKFLKTNCCRFQEKDEDDNLIDSYFVVKRH...PHT pdb|7L1F|A\n",
            "\n",
            "Sequence ID: pdb|6NUR|A\n",
            "description: SARS-Coronavirus NSP12 bound to NSP7 and NSP8 co-factors [Severe acute respiratory syndrome-related coronavirus]\n",
            "E value: 0.0\n",
            "Bit Score:  1880.53\n",
            "alignment:\n",
            "Alignment with 2 rows and 927 columns\n",
            "TIVFKRVCGVSAARLTPCGTGTSTDVVYRAFDIYNDKVAGFAKF...TVL unnamed\n",
            "STFLNRVCGVSAARLTPCGTGTSTDVVYRAFDIYNEKVAGFAKF...TVL pdb|6NUR|A\n",
            "\n",
            "Sequence ID: pdb|6ZSL|A\n",
            "description: Chain A, SARS-CoV-2 helicase NSP13 [Severe acute respiratory syndrome coronavirus 2]\n",
            "E value: 0.0\n",
            "Bit Score:  1252.27\n",
            "alignment:\n",
            "Alignment with 2 rows and 601 columns\n",
            "AVGACVLCNSQTSLRCGACIRRPFLCCKCCYDHVISTSHKLVLS...TLQ unnamed\n",
            "AVGACVLCNSQTSLRCGACIRRPFLCCKCCYDHVISTSHKLVLS...TLQ pdb|6ZSL|A\n",
            "\n",
            "Sequence ID: pdb|6XEZ|E\n",
            "description: Chain E, Helicase [Severe acute respiratory syndrome coronavirus 2]\n",
            "E value: 0.0\n",
            "Bit Score:  1251.88\n",
            "alignment:\n",
            "Alignment with 2 rows and 607 columns\n",
            "PHTVLQAVGACVLCNSQTSLRCGACIRRPFLCCKCCYDHVISTS...TLQ unnamed\n",
            "PH---MAVGACVLCNSQTSLRCGACIRRPFLCCKCCYDHVISTS...TLQ pdb|6XEZ|E\n",
            "\n",
            "Sequence ID: pdb|5RL6|A\n",
            "description: Chain A, Helicase [Severe acute respiratory syndrome coronavirus 2]\n",
            "E value: 0.0\n",
            "Bit Score:  1251.88\n",
            "alignment:\n",
            "Alignment with 2 rows and 601 columns\n",
            "AVGACVLCNSQTSLRCGACIRRPFLCCKCCYDHVISTSHKLVLS...TLQ unnamed\n",
            "AVGACVLCNSQTSLRCGACIRRPFLCCKCCYDHVISTSHKLVLS...TLQ pdb|5RL6|A\n",
            "\n",
            "Sequence ID: pdb|6JYT|A\n",
            "description: Delicate structural coordination of the Severe Acute Respiratory Syndrome coronavirus Nsp13 upon ATP hydrolysis [Severe acute respiratory syndrome-related coronavirus]\n",
            "E value: 0.0\n",
            "Bit Score:  1229.54\n",
            "alignment:\n",
            "Alignment with 2 rows and 602 columns\n",
            "QAVGACVLCNSQTSLRCGACIRRPFLCCKCCYDHVISTSHKLVL...TLQ unnamed\n",
            "SAVGACVLCNSQTSLRCGACIRRPFLCCKCCYDHVISTSHKLVL...TLQ pdb|6JYT|A\n",
            "\n",
            "Sequence ID: pdb|8G6R|A\n",
            "description: Chain A, nsp12 [Porcine epidemic diarrhea virus]\n",
            "E value: 0.0\n",
            "Bit Score:  1166.76\n",
            "alignment:\n",
            "Alignment with 2 rows and 919 columns\n",
            "FKRVCGVSAARLTPCGTGTSTDVVYRAFDIYNDKVAGFAKFLKT...AMY unnamed\n",
            "LNRVRGSSAARLEPC-NGTDTQHVYRAFDIYNKDVACLGKFLKV...NMY pdb|8G6R|A\n",
            "\n",
            "Sequence ID: pdb|7EGQ|K\n",
            "description: Chain K, Proofreading exoribonuclease [Severe acute respiratory syndrome coronavirus 2]\n",
            "E value: 0.0\n",
            "Bit Score:  1124.77\n",
            "alignment:\n",
            "Alignment with 2 rows and 527 columns\n",
            "AENVTGLFKDCSKVITGLHPTQAPTHLSVDTKFKTEGLCVDIPG...RLQ unnamed\n",
            "AENVTGLFKDCSKVITGLHPTQAPTHLSVDTKFKTEGLCVDIPG...RLQ pdb|7EGQ|K\n",
            "\n",
            "Sequence ID: pdb|7N0C|B\n",
            "description: Chain B, Proofreading exoribonuclease [Severe acute respiratory syndrome coronavirus 2]\n",
            "E value: 0.0\n",
            "Bit Score:  1122.84\n",
            "alignment:\n",
            "Alignment with 2 rows and 527 columns\n",
            "AENVTGLFKDCSKVITGLHPTQAPTHLSVDTKFKTEGLCVDIPG...RLQ unnamed\n",
            "AENVTGLFKDCSKVITGLHPTQAPTHLSVDTKFKTEGLCVDIPG...RLQ pdb|7N0C|B\n",
            "\n",
            "Sequence ID: pdb|5SKW|D\n",
            "description: Chain D, Proofreading exoribonuclease nsp14 [Severe acute respiratory syndrome coronavirus 2]\n",
            "E value: 0.0\n",
            "Bit Score:  1113.21\n",
            "alignment:\n",
            "Alignment with 2 rows and 521 columns\n",
            "LFKDCSKVITGLHPTQAPTHLSVDTKFKTEGLCVDIPGIPKDMT...RLQ unnamed\n",
            "LFKDCSKVITGLHPTQAPTHLSVDTKFKTEGLCVDIPGIPKDMT...RLQ pdb|5SKW|D\n",
            "\n",
            "Sequence ID: pdb|7R2V|A\n",
            "description: Chain A, Proofreading exoribonuclease nsp14 [Severe acute respiratory syndrome coronavirus 2]\n",
            "E value: 0.0\n",
            "Bit Score:  1112.44\n",
            "alignment:\n",
            "Alignment with 2 rows and 524 columns\n",
            "AENVTGLFKDCSKVITGLHPTQAPTHLSVDTKFKTEGLCVDIPG...TFT unnamed\n",
            "AENVTGLFKDCSKVITGLHPTQAPTHLSVDTKFKTEGLCVDIPG...TFT pdb|7R2V|A\n",
            "\n",
            "Sequence ID: pdb|5C8S|B\n",
            "description: Chain B, Guanine-N7 methyltransferase [Severe acute respiratory syndrome coronavirus]\n",
            "E value: 0.0\n",
            "Bit Score:  1087.4\n",
            "alignment:\n",
            "Alignment with 2 rows and 527 columns\n",
            "AENVTGLFKDCSKVITGLHPTQAPTHLSVDTKFKTEGLCVDIPG...RLQ unnamed\n",
            "AENVTGLFKDCSKIITGLHPTQAPTHLSVDIKFKTEGLCVDIPG...RLQ pdb|5C8S|B\n",
            "\n",
            "Sequence ID: pdb|5C8T|B\n",
            "description: Chain B, Guanine-N7 methyltransferase [Severe acute respiratory syndrome coronavirus]\n",
            "E value: 0.0\n",
            "Bit Score:  1087.4\n",
            "alignment:\n",
            "Alignment with 2 rows and 527 columns\n",
            "AENVTGLFKDCSKVITGLHPTQAPTHLSVDTKFKTEGLCVDIPG...RLQ unnamed\n",
            "AENVTGLFKDCSKIITGLHPTQAPTHLSVDIKFKTEGLCVDIPG...RLQ pdb|5C8T|B\n",
            "\n",
            "Sequence ID: pdb|5NFY|A\n",
            "description: Chain A, Polyprotein 1ab [SARS coronavirus Frankfurt 1]\n",
            "E value: 0.0\n",
            "Bit Score:  1085.86\n",
            "alignment:\n",
            "Alignment with 2 rows and 527 columns\n",
            "AENVTGLFKDCSKVITGLHPTQAPTHLSVDTKFKTEGLCVDIPG...RLQ unnamed\n",
            "AENVTGLFKDCSKIITGLHPTQAPTHLSVDIKFKTEGLCVDIPG...RLQ pdb|5NFY|A\n",
            "\n",
            "Sequence ID: pdb|5WWP|A\n",
            "description: Chain A, ORF1ab [Human betacoronavirus 2c EMC/2012]\n",
            "E value: 0.0\n",
            "Bit Score:  926.006\n",
            "alignment:\n",
            "Alignment with 2 rows and 591 columns\n",
            "AVGACVLCNSQTSLRCGACIRRPFLCCKCCYDHVISTSHKLVLS...SLE unnamed\n",
            "AVGSCVVCHSQTSLRCGTCIRRPFLCCKCCYDHVIATPHKMVLS...ELS pdb|5WWP|A\n",
            "\n",
            "Sequence ID: pdb|6VWW|A\n",
            "description: Chain A, Uridylate-specific endoribonuclease [Severe acute respiratory syndrome coronavirus 2]\n",
            "E value: 0.0\n",
            "Bit Score:  715.687\n",
            "alignment:\n",
            "Alignment with 2 rows and 358 columns\n",
            "TYNLWNTFTRLQSLENVAFNVVNKGHFDGQQGEVPVSIINNTVY...KLQ unnamed\n",
            "TENLY--FQSNMSLENVAFNVVNKGHFDGQQGEVPVSIINNTVY...KLQ pdb|6VWW|A\n",
            "\n",
            "Sequence ID: pdb|7ME0|A\n",
            "description: Chain A, Uridylate-specific endoribonuclease [Severe acute respiratory syndrome coronavirus 2]\n",
            "E value: 0.0\n",
            "Bit Score:  715.301\n",
            "alignment:\n",
            "Alignment with 2 rows and 358 columns\n",
            "TYNLWNTFTRLQSLENVAFNVVNKGHFDGQQGEVPVSIINNTVY...KLQ unnamed\n",
            "TENLY--FQGAMSLENVAFNVVNKGHFDGQQGEVPVSIINNTVY...KLQ pdb|7ME0|A\n",
            "\n",
            "Sequence ID: pdb|7K0R|A\n",
            "description: Chain A, Uridylate-specific endoribonuclease [Severe acute respiratory syndrome coronavirus 2]\n",
            "E value: 0.0\n",
            "Bit Score:  714.531\n",
            "alignment:\n",
            "Alignment with 2 rows and 346 columns\n",
            "SLENVAFNVVNKGHFDGQQGEVPVSIINNTVYTKVDGVDVELFE...KLQ unnamed\n",
            "SLENVAFNVVNKGHFDGQQGEVPVSIINNTVYTKVDGVDVELFE...KLQ pdb|7K0R|A\n",
            "\n",
            "Sequence ID: pdb|6XDH|A\n",
            "description: Chain A, Uridylate-specific endoribonuclease [Severe acute respiratory syndrome coronavirus 2]\n",
            "E value: 0.0\n",
            "Bit Score:  714.146\n",
            "alignment:\n",
            "Alignment with 2 rows and 351 columns\n",
            "FTRLQSLENVAFNVVNKGHFDGQQGEVPVSIINNTVYTKVDGVD...KLQ unnamed\n",
            "FQGHMSLENVAFNVVNKGHFDGQQGEVPVSIINNTVYTKVDGVD...KLQ pdb|6XDH|A\n",
            "\n",
            "Sequence ID: pdb|5S6X|A\n",
            "description: Chain A, Uridylate-specific endoribonuclease [Severe acute respiratory syndrome coronavirus 2]\n",
            "E value: 0.0\n",
            "Bit Score:  714.146\n",
            "alignment:\n",
            "Alignment with 2 rows and 346 columns\n",
            "SLENVAFNVVNKGHFDGQQGEVPVSIINNTVYTKVDGVDVELFE...KLQ unnamed\n",
            "SLENVAFNVVNKGHFDGQQGEVPVSIINNTVYTKVDGVDVELFE...KLQ pdb|5S6X|A\n",
            "\n",
            "Sequence ID: pdb|7K9P|A\n",
            "description: Chain A, Uridylate-specific endoribonuclease [Severe acute respiratory syndrome coronavirus 2]\n",
            "E value: 0.0\n",
            "Bit Score:  713.375\n",
            "alignment:\n",
            "Alignment with 2 rows and 346 columns\n",
            "SLENVAFNVVNKGHFDGQQGEVPVSIINNTVYTKVDGVDVELFE...KLQ unnamed\n",
            "SLENVAFNVVNKGHFDGQQGEVPVSIINNTVYTKVDGVDVELFE...KLQ pdb|7K9P|A\n",
            "\n",
            "Sequence ID: pdb|8D34|A\n",
            "description: Chain A, Uridylate-specific endoribonuclease nsp15 [Severe acute respiratory syndrome coronavirus 2]\n",
            "E value: 0.0\n",
            "Bit Score:  712.99\n",
            "alignment:\n",
            "Alignment with 2 rows and 358 columns\n",
            "TYNLWNTFTRLQSLENVAFNVVNKGHFDGQQGEVPVSIINNTVY...KLQ unnamed\n",
            "TENLY--FQSNMSLENVAFNVVNKGHFDGQQGEVPVSIINNTVY...KLQ pdb|8D34|A\n",
            "\n",
            "Sequence ID: pdb|7N06|A\n",
            "description: Chain A, Uridylate-specific endoribonuclease [Severe acute respiratory syndrome coronavirus 2]\n",
            "E value: 0.0\n",
            "Bit Score:  712.605\n",
            "alignment:\n",
            "Alignment with 2 rows and 345 columns\n",
            "SLENVAFNVVNKGHFDGQQGEVPVSIINNTVYTKVDGVDVELFE...PKL unnamed\n",
            "SLENVAFNVVNKGHFDGQQGEVPVSIINNTVYTKVDGVDVELFE...PKL pdb|7N06|A\n",
            "\n",
            "Sequence ID: pdb|7TJ2|A\n",
            "description: Chain A, Uridylate-specific endoribonuclease nsp15 [Severe acute respiratory syndrome coronavirus 2]\n",
            "E value: 0.0\n",
            "Bit Score:  711.449\n",
            "alignment:\n",
            "Alignment with 2 rows and 346 columns\n",
            "SLENVAFNVVNKGHFDGQQGEVPVSIINNTVYTKVDGVDVELFE...KLQ unnamed\n",
            "SLENVAFNVVNKGHFDGQQGEVPVSIINNTVYTKVDGVDVELFE...KLQ pdb|7TJ2|A\n",
            "\n",
            "Sequence ID: pdb|7TQV|A\n",
            "description: Chain A, Uridylate-specific endoribonuclease [Severe acute respiratory syndrome coronavirus 2]\n",
            "E value: 0.0\n",
            "Bit Score:  711.064\n",
            "alignment:\n",
            "Alignment with 2 rows and 346 columns\n",
            "SLENVAFNVVNKGHFDGQQGEVPVSIINNTVYTKVDGVDVELFE...KLQ unnamed\n",
            "SLENVAFNVVNKGHFDGQQGEVPVSIINNTVYTKVDGVDVELFE...KLQ pdb|7TQV|A\n",
            "\n",
            "Sequence ID: pdb|7N33|A\n",
            "description: Chain A, Uridylate-specific endoribonuclease [Severe acute respiratory syndrome coronavirus 2]\n",
            "E value: 0.0\n",
            "Bit Score:  711.064\n",
            "alignment:\n",
            "Alignment with 2 rows and 344 columns\n",
            "SLENVAFNVVNKGHFDGQQGEVPVSIINNTVYTKVDGVDVELFE...YPK unnamed\n",
            "SLENVAFNVVNKGHFDGQQGEVPVSIINNTVYTKVDGVDVELFE...YPK pdb|7N33|A\n",
            "\n",
            "Sequence ID: pdb|2OZK|A\n",
            "description: Chain A, Uridylate-specific endoribonuclease [Severe acute respiratory syndrome coronavirus]\n",
            "E value: 0.0\n",
            "Bit Score:  655.21\n",
            "alignment:\n",
            "Alignment with 2 rows and 346 columns\n",
            "SLENVAFNVVNKGHFDGQQGEVPVSIINNTVYTKVDGVDVELFE...KLQ unnamed\n",
            "SLENVAYNVVNKGHFDGHAGEAPVSIINNAVYTKVDGIDVEIFE...KLQ pdb|2OZK|A\n",
            "\n",
            "Sequence ID: pdb|2RHB|A\n",
            "description: Chain A, Uridylate-specific endoribonuclease [Severe acute respiratory syndrome-related coronavirus]\n",
            "E value: 0.0\n",
            "Bit Score:  652.514\n",
            "alignment:\n",
            "Alignment with 2 rows and 346 columns\n",
            "SLENVAFNVVNKGHFDGQQGEVPVSIINNTVYTKVDGVDVELFE...KLQ unnamed\n",
            "SLENVAYNVVNKGHFDGHAGEAPVSIINNAVYTKVDGIDVEIFE...KLQ pdb|2RHB|A\n",
            "\n",
            "Sequence ID: pdb|2H85|A\n",
            "description: Chain A, Putative orf1ab polyprotein [Severe acute respiratory syndrome-related coronavirus]\n",
            "E value: 0.0\n",
            "Bit Score:  649.432\n",
            "alignment:\n",
            "Alignment with 2 rows and 346 columns\n",
            "QSLENVAFNVVNKGHFDGQQGEVPVSIINNTVYTKVDGVDVELF...PKL unnamed\n",
            "QSLENVAYNVVNKGHFDGHAGEAPVSIINNAVYTKVDGIDVEIF...PKL pdb|2H85|A\n",
            "\n",
            "Sequence ID: pdb|6YZ1|A\n",
            "description: Chain A, nsp16 [Severe acute respiratory syndrome coronavirus 2]\n",
            "E value: 0.0\n",
            "Bit Score:  624.78\n",
            "alignment:\n",
            "Alignment with 2 rows and 298 columns\n",
            "SSQAWQPGVAMPNLYKMQRMLLEKCDLQNYGDSATLPKGIMMNV...VNN unnamed\n",
            "SSQAWQPGVAMPNLYKMQRMLLEKCDLQNYGDSATLPKGIMMNV...VNN pdb|6YZ1|A\n",
            "\n",
            "Sequence ID: pdb|7JYY|A\n",
            "description: Chain A, 2'-O-methyltransferase [Severe acute respiratory syndrome coronavirus 2]\n",
            "E value: 0.0\n",
            "Bit Score:  624.394\n",
            "alignment:\n",
            "Alignment with 2 rows and 298 columns\n",
            "SSQAWQPGVAMPNLYKMQRMLLEKCDLQNYGDSATLPKGIMMNV...VNN unnamed\n",
            "SSQAWQPGVAMPNLYKMQRMLLEKCDLQNYGDSATLPKGIMMNV...VNN pdb|7JYY|A\n",
            "\n",
            "Sequence ID: pdb|7C2I|A\n",
            "description: Chain A, 2'-O-methyltransferase [Severe acute respiratory syndrome coronavirus 2]\n",
            "E value: 0.0\n",
            "Bit Score:  624.394\n",
            "alignment:\n",
            "Alignment with 2 rows and 299 columns\n",
            "QSSQAWQPGVAMPNLYKMQRMLLEKCDLQNYGDSATLPKGIMMN...VNN unnamed\n",
            "HSSQAWQPGVAMPNLYKMQRMLLEKCDLQNYGDSATLPKGIMMN...VNN pdb|7C2I|A\n",
            "\n",
            "Sequence ID: pdb|6WKS|AAA\n",
            "description: Chain AAA, 2'-O-methyltransferase [Severe acute respiratory syndrome coronavirus 2]\n",
            "E value: 0.0\n",
            "Bit Score:  624.394\n",
            "alignment:\n",
            "Alignment with 2 rows and 298 columns\n",
            "SSQAWQPGVAMPNLYKMQRMLLEKCDLQNYGDSATLPKGIMMNV...VNN unnamed\n",
            "SSQAWQPGVAMPNLYKMQRMLLEKCDLQNYGDSATLPKGIMMNV...VNN pdb|6WKS|AAA\n",
            "\n",
            "Sequence ID: pdb|6W4H|A\n",
            "description: Chain A, 2'-O-methyltransferase [Severe acute respiratory syndrome coronavirus 2]\n",
            "E value: 0.0\n",
            "Bit Score:  624.394\n",
            "alignment:\n",
            "Alignment with 2 rows and 298 columns\n",
            "SSQAWQPGVAMPNLYKMQRMLLEKCDLQNYGDSATLPKGIMMNV...VNN unnamed\n",
            "SSQAWQPGVAMPNLYKMQRMLLEKCDLQNYGDSATLPKGIMMNV...VNN pdb|6W4H|A\n",
            "\n",
            "Sequence ID: pdb|8BSD|A\n",
            "description: Chain A, 2'-O-methyltransferase nsp16 [Severe acute respiratory syndrome coronavirus 2]\n",
            "E value: 0.0\n",
            "Bit Score:  624.009\n",
            "alignment:\n",
            "Alignment with 2 rows and 298 columns\n",
            "SSQAWQPGVAMPNLYKMQRMLLEKCDLQNYGDSATLPKGIMMNV...VNN unnamed\n",
            "SSQAWQPGVAMPNLYKMQRMLLEKCDLQNYGDSATLPKGIMMNV...VNN pdb|8BSD|A\n",
            "\n",
            "Sequence ID: pdb|8OT0|A\n",
            "description: Chain A, 2'-O-methyltransferase nsp16 [Severe acute respiratory syndrome coronavirus 2]\n",
            "E value: 0.0\n",
            "Bit Score:  623.239\n",
            "alignment:\n",
            "Alignment with 2 rows and 298 columns\n",
            "SSQAWQPGVAMPNLYKMQRMLLEKCDLQNYGDSATLPKGIMMNV...VNN unnamed\n",
            "SSQAWQPGVAMPNLYKMQRMLLEKCDLQNYGDSATLPKGIMMNV...VNN pdb|8OT0|A\n",
            "\n",
            "Sequence ID: pdb|6W61|A\n",
            "description: Chain A, 2'-O-methyltransferase [Severe acute respiratory syndrome coronavirus 2]\n",
            "E value: 0.0\n",
            "Bit Score:  622.083\n",
            "alignment:\n",
            "Alignment with 2 rows and 298 columns\n",
            "SSQAWQPGVAMPNLYKMQRMLLEKCDLQNYGDSATLPKGIMMNV...VNN unnamed\n",
            "SSQAWQPGVAMPNLYKMQRMLLEKCDLQNYGDSATLPKGIMMNV...VNN pdb|6W61|A\n",
            "\n"
          ]
        }
      ],
      "source": [
        "for blast_record in blast_records:\n",
        "    print(f\"Sequence ID: {blast_record.id}\")\n",
        "    print(f\"description: {blast_record.description}\")\n",
        "    print(f\"E value: {blast_record[0].evalue}\")\n",
        "    print(f\"Bit Score:  {blast_record[0].bitscore}\")\n",
        "    print(f\"alignment:\\n{blast_record[0].aln}\")\n",
        "    print()"
      ]
    }
  ],
  "metadata": {
    "colab": {
      "provenance": [],
      "toc_visible": true,
      "mount_file_id": "16iNke8DK6ZK_4FPLYiWYC-tq-BXQ5kEM",
      "authorship_tag": "ABX9TyNX5tzuWq8kAiQjsS2XOvF/",
      "include_colab_link": true
    },
    "kernelspec": {
      "display_name": "Python 3",
      "name": "python3"
    },
    "language_info": {
      "name": "python"
    }
  },
  "nbformat": 4,
  "nbformat_minor": 0
}